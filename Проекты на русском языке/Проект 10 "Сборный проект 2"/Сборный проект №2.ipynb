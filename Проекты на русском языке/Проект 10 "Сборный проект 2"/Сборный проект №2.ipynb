{
 "cells": [
  {
   "cell_type": "code",
   "execution_count": 66,
   "metadata": {},
   "outputs": [],
   "source": [
    "import numpy as np\n",
    "import pandas as pd\n",
    "import seaborn as sns\n",
    "from matplotlib import pyplot as plt\n",
    "from IPython.display import display\n",
    "from scipy import stats as st\n",
    "import datetime as dt\n",
    "import math as mth\n",
    "import warnings\n",
    "from io import BytesIO\n",
    "import requests"
   ]
  },
  {
   "cell_type": "markdown",
   "metadata": {},
   "source": [
    "## Оглавление"
   ]
  },
  {
   "cell_type": "markdown",
   "metadata": {},
   "source": [
    "+ [Описание проекта](#project_description)\n",
    "\n",
    "\n",
    "+ [Описание данных](#data_description)\n",
    "\n",
    "\n",
    "+ [Шаг 1. Откройте файл с данными](#step_1)\n",
    "\n",
    "\n",
    "+ [Шаг 2. Подготовьте данные](#step_2)\n",
    "\t- [Замена названий столбцов](#task_1)\n",
    "\t- [Проверка пропусков и типов данных](#task_2)\n",
    "\t- [Добавляем столбец даты и времени](#task_3)\n",
    "\n",
    "\n",
    "+ [Шаг 3. Изучите и проверьте данные](#step_3)\n",
    "\t- [Сколько событий в логе](#task_4)\n",
    "\t- [Сколько пользователей в логе](#task_5)\n",
    "\t- [Сколько событий приходится на пользователя](#task_6)\n",
    "\n",
    "\t- [Данными за какой период вы располагаете](#task_7)\n",
    "\t- [Проверим корректность проведенного А\\В теста](#task_8)\n",
    "\n",
    "\n",
    "+ [Шаг 4. Изучите воронку событий](#step_4)\n",
    "\t- [Какие событияесть в логах и на сколько часто они встречаются](#task_9)\n",
    "\t- [Сколько пользователей совершали каждое из событий](#task_10)\n",
    "\t- [Какая доля пользователей проходит на следующий шаг воронки](#task_12)\n",
    "\t- [На каком шаге теряете больше всего пользователей](#task_13)\n",
    "\t- [Какая доля пользователей доходит от первого события до оплаты?](#task_14)\n",
    "\n",
    "\n",
    "+ [Шаг 5. Изучите результаты эксперимента](#step_5)\n",
    "\t- [Сколько пользователей в каждой экспериментальной группе?](#task_15)\n",
    "\t- [Находят ли статистические критерии разницу между выборками 246 и 247.](#task_16)\n",
    "\t- [Аналогично поступите с группой с изменённым шрифтом](#task_17)\n",
    "\t- [Какой уровень значимости вы выбрали при проверке статистических гипотез выше?](#task_18)\n",
    "\n",
    "\n",
    "+ [Вывод](#conclusion)"
   ]
  },
  {
   "cell_type": "markdown",
   "metadata": {},
   "source": [
    "##  <a name=\"project_description\"></a> Описание проекта"
   ]
  },
  {
   "cell_type": "markdown",
   "metadata": {},
   "source": [
    "Вы работаете в стартапе, который продаёт продукты питания. Нужно разобраться, как ведут себя пользователи вашего мобильного приложения. \n",
    "\n",
    "Изучите воронку продаж. Узнайте, как пользователи доходят до покупки. Сколько пользователей доходит до покупки, а сколько — «застревает» на предыдущих шагах? На каких именно?\n",
    "\n",
    "После этого исследуйте результаты A/A/B-эксперимента. Дизайнеры захотели поменять шрифты во всём приложении, а менеджеры испугались, что пользователям будет непривычно. Договорились принять решение по результатам A/A/B-теста. Пользователей разбили на 3 группы: 2 контрольные со старыми шрифтами и одну экспериментальную — с новыми. Выясните, какой шрифт лучше.\n",
    "\n",
    "Создание двух групп A вместо одной имеет определённые преимущества. Если две контрольные группы окажутся равны, вы можете быть уверены в точности проведенного тестирования. Если же между значениями A и A будут существенные различия, это поможет обнаружить факторы, которые привели к искажению результатов. Сравнение контрольных групп также помогает понять, сколько времени и данных потребуется для дальнейших тестов.\n",
    "\n",
    "В случае общей аналитики и A/A/B-эксперимента работайте с одними и теми же данными. В реальных проектах всегда идут эксперименты. Аналитики исследуют качество работы приложения по общим данным, не учитывая принадлежность пользователей к экспериментам."
   ]
  },
  {
   "cell_type": "markdown",
   "metadata": {},
   "source": [
    "---"
   ]
  },
  {
   "cell_type": "markdown",
   "metadata": {},
   "source": [
    "## <a name=\"data_description\"></a> Описание данных"
   ]
  },
  {
   "cell_type": "markdown",
   "metadata": {},
   "source": [
    "Каждая запись в логе — это действие пользователя, или событие. \n",
    "\n",
    "`EventName` — название события;\n",
    "\n",
    "`DeviceIDHash` — уникальный идентификатор пользователя;\n",
    "\n",
    "`EventTimestamp` — время события;\n",
    "\n",
    "`ExpId` — номер эксперимента: 246 и 247 — контрольные группы, а 248 — экспериментальная."
   ]
  },
  {
   "cell_type": "markdown",
   "metadata": {},
   "source": [
    "---"
   ]
  },
  {
   "cell_type": "markdown",
   "metadata": {},
   "source": [
    "## <a name=\"step_1\"></a> Шаг 1. Откройте файл с данными и изучите общую информацию"
   ]
  },
  {
   "cell_type": "code",
   "execution_count": 67,
   "metadata": {},
   "outputs": [
    {
     "data": {
      "text/html": [
       "<div>\n",
       "<style scoped>\n",
       "    .dataframe tbody tr th:only-of-type {\n",
       "        vertical-align: middle;\n",
       "    }\n",
       "\n",
       "    .dataframe tbody tr th {\n",
       "        vertical-align: top;\n",
       "    }\n",
       "\n",
       "    .dataframe thead th {\n",
       "        text-align: right;\n",
       "    }\n",
       "</style>\n",
       "<table border=\"1\" class=\"dataframe\">\n",
       "  <thead>\n",
       "    <tr style=\"text-align: right;\">\n",
       "      <th></th>\n",
       "      <th>EventName</th>\n",
       "      <th>DeviceIDHash</th>\n",
       "      <th>EventTimestamp</th>\n",
       "      <th>ExpId</th>\n",
       "    </tr>\n",
       "  </thead>\n",
       "  <tbody>\n",
       "    <tr>\n",
       "      <th>0</th>\n",
       "      <td>MainScreenAppear</td>\n",
       "      <td>4575588528974610257</td>\n",
       "      <td>1564029816</td>\n",
       "      <td>246</td>\n",
       "    </tr>\n",
       "    <tr>\n",
       "      <th>1</th>\n",
       "      <td>MainScreenAppear</td>\n",
       "      <td>7416695313311560658</td>\n",
       "      <td>1564053102</td>\n",
       "      <td>246</td>\n",
       "    </tr>\n",
       "    <tr>\n",
       "      <th>2</th>\n",
       "      <td>PaymentScreenSuccessful</td>\n",
       "      <td>3518123091307005509</td>\n",
       "      <td>1564054127</td>\n",
       "      <td>248</td>\n",
       "    </tr>\n",
       "    <tr>\n",
       "      <th>3</th>\n",
       "      <td>CartScreenAppear</td>\n",
       "      <td>3518123091307005509</td>\n",
       "      <td>1564054127</td>\n",
       "      <td>248</td>\n",
       "    </tr>\n",
       "    <tr>\n",
       "      <th>4</th>\n",
       "      <td>PaymentScreenSuccessful</td>\n",
       "      <td>6217807653094995999</td>\n",
       "      <td>1564055322</td>\n",
       "      <td>248</td>\n",
       "    </tr>\n",
       "    <tr>\n",
       "      <th>...</th>\n",
       "      <td>...</td>\n",
       "      <td>...</td>\n",
       "      <td>...</td>\n",
       "      <td>...</td>\n",
       "    </tr>\n",
       "    <tr>\n",
       "      <th>244121</th>\n",
       "      <td>MainScreenAppear</td>\n",
       "      <td>4599628364049201812</td>\n",
       "      <td>1565212345</td>\n",
       "      <td>247</td>\n",
       "    </tr>\n",
       "    <tr>\n",
       "      <th>244122</th>\n",
       "      <td>MainScreenAppear</td>\n",
       "      <td>5849806612437486590</td>\n",
       "      <td>1565212439</td>\n",
       "      <td>246</td>\n",
       "    </tr>\n",
       "    <tr>\n",
       "      <th>244123</th>\n",
       "      <td>MainScreenAppear</td>\n",
       "      <td>5746969938801999050</td>\n",
       "      <td>1565212483</td>\n",
       "      <td>246</td>\n",
       "    </tr>\n",
       "    <tr>\n",
       "      <th>244124</th>\n",
       "      <td>MainScreenAppear</td>\n",
       "      <td>5746969938801999050</td>\n",
       "      <td>1565212498</td>\n",
       "      <td>246</td>\n",
       "    </tr>\n",
       "    <tr>\n",
       "      <th>244125</th>\n",
       "      <td>OffersScreenAppear</td>\n",
       "      <td>5746969938801999050</td>\n",
       "      <td>1565212517</td>\n",
       "      <td>246</td>\n",
       "    </tr>\n",
       "  </tbody>\n",
       "</table>\n",
       "<p>244126 rows × 4 columns</p>\n",
       "</div>"
      ],
      "text/plain": [
       "                      EventName         DeviceIDHash  EventTimestamp  ExpId\n",
       "0              MainScreenAppear  4575588528974610257      1564029816    246\n",
       "1              MainScreenAppear  7416695313311560658      1564053102    246\n",
       "2       PaymentScreenSuccessful  3518123091307005509      1564054127    248\n",
       "3              CartScreenAppear  3518123091307005509      1564054127    248\n",
       "4       PaymentScreenSuccessful  6217807653094995999      1564055322    248\n",
       "...                         ...                  ...             ...    ...\n",
       "244121         MainScreenAppear  4599628364049201812      1565212345    247\n",
       "244122         MainScreenAppear  5849806612437486590      1565212439    246\n",
       "244123         MainScreenAppear  5746969938801999050      1565212483    246\n",
       "244124         MainScreenAppear  5746969938801999050      1565212498    246\n",
       "244125       OffersScreenAppear  5746969938801999050      1565212517    246\n",
       "\n",
       "[244126 rows x 4 columns]"
      ]
     },
     "execution_count": 67,
     "metadata": {},
     "output_type": "execute_result"
    }
   ],
   "source": [
    "spreadsheet_id = '1NAYo1AbUK1vlLkaMHwTQNhFRiK0-xnIY_DkC_VRtluY'\n",
    "file_name = 'https://docs.google.com/spreadsheets/d/{}/export?format=csv'.format(spreadsheet_id)\n",
    "r = requests.get(file_name)\n",
    "logs = pd.read_csv(BytesIO(r.content))\n",
    "logs"
   ]
  },
  {
   "cell_type": "markdown",
   "metadata": {},
   "source": [
    "---"
   ]
  },
  {
   "cell_type": "markdown",
   "metadata": {},
   "source": [
    "## <a name=\"step_2\"></a>  Шаг 2. Подготовьте данные"
   ]
  },
  {
   "cell_type": "markdown",
   "metadata": {},
   "source": [
    "###  <a name=\"task_1\"></a>  1. Замените названия столбцов на удобные для вас;"
   ]
  },
  {
   "cell_type": "code",
   "execution_count": 68,
   "metadata": {},
   "outputs": [
    {
     "data": {
      "text/html": [
       "<div>\n",
       "<style scoped>\n",
       "    .dataframe tbody tr th:only-of-type {\n",
       "        vertical-align: middle;\n",
       "    }\n",
       "\n",
       "    .dataframe tbody tr th {\n",
       "        vertical-align: top;\n",
       "    }\n",
       "\n",
       "    .dataframe thead th {\n",
       "        text-align: right;\n",
       "    }\n",
       "</style>\n",
       "<table border=\"1\" class=\"dataframe\">\n",
       "  <thead>\n",
       "    <tr style=\"text-align: right;\">\n",
       "      <th></th>\n",
       "      <th>event_name</th>\n",
       "      <th>device_id_hash</th>\n",
       "      <th>event_timestamp</th>\n",
       "      <th>exp_id</th>\n",
       "    </tr>\n",
       "  </thead>\n",
       "  <tbody>\n",
       "    <tr>\n",
       "      <th>0</th>\n",
       "      <td>MainScreenAppear</td>\n",
       "      <td>4575588528974610257</td>\n",
       "      <td>1564029816</td>\n",
       "      <td>246</td>\n",
       "    </tr>\n",
       "    <tr>\n",
       "      <th>1</th>\n",
       "      <td>MainScreenAppear</td>\n",
       "      <td>7416695313311560658</td>\n",
       "      <td>1564053102</td>\n",
       "      <td>246</td>\n",
       "    </tr>\n",
       "    <tr>\n",
       "      <th>2</th>\n",
       "      <td>PaymentScreenSuccessful</td>\n",
       "      <td>3518123091307005509</td>\n",
       "      <td>1564054127</td>\n",
       "      <td>248</td>\n",
       "    </tr>\n",
       "    <tr>\n",
       "      <th>3</th>\n",
       "      <td>CartScreenAppear</td>\n",
       "      <td>3518123091307005509</td>\n",
       "      <td>1564054127</td>\n",
       "      <td>248</td>\n",
       "    </tr>\n",
       "    <tr>\n",
       "      <th>4</th>\n",
       "      <td>PaymentScreenSuccessful</td>\n",
       "      <td>6217807653094995999</td>\n",
       "      <td>1564055322</td>\n",
       "      <td>248</td>\n",
       "    </tr>\n",
       "    <tr>\n",
       "      <th>...</th>\n",
       "      <td>...</td>\n",
       "      <td>...</td>\n",
       "      <td>...</td>\n",
       "      <td>...</td>\n",
       "    </tr>\n",
       "    <tr>\n",
       "      <th>244121</th>\n",
       "      <td>MainScreenAppear</td>\n",
       "      <td>4599628364049201812</td>\n",
       "      <td>1565212345</td>\n",
       "      <td>247</td>\n",
       "    </tr>\n",
       "    <tr>\n",
       "      <th>244122</th>\n",
       "      <td>MainScreenAppear</td>\n",
       "      <td>5849806612437486590</td>\n",
       "      <td>1565212439</td>\n",
       "      <td>246</td>\n",
       "    </tr>\n",
       "    <tr>\n",
       "      <th>244123</th>\n",
       "      <td>MainScreenAppear</td>\n",
       "      <td>5746969938801999050</td>\n",
       "      <td>1565212483</td>\n",
       "      <td>246</td>\n",
       "    </tr>\n",
       "    <tr>\n",
       "      <th>244124</th>\n",
       "      <td>MainScreenAppear</td>\n",
       "      <td>5746969938801999050</td>\n",
       "      <td>1565212498</td>\n",
       "      <td>246</td>\n",
       "    </tr>\n",
       "    <tr>\n",
       "      <th>244125</th>\n",
       "      <td>OffersScreenAppear</td>\n",
       "      <td>5746969938801999050</td>\n",
       "      <td>1565212517</td>\n",
       "      <td>246</td>\n",
       "    </tr>\n",
       "  </tbody>\n",
       "</table>\n",
       "<p>244126 rows × 4 columns</p>\n",
       "</div>"
      ],
      "text/plain": [
       "                     event_name       device_id_hash  event_timestamp  exp_id\n",
       "0              MainScreenAppear  4575588528974610257       1564029816     246\n",
       "1              MainScreenAppear  7416695313311560658       1564053102     246\n",
       "2       PaymentScreenSuccessful  3518123091307005509       1564054127     248\n",
       "3              CartScreenAppear  3518123091307005509       1564054127     248\n",
       "4       PaymentScreenSuccessful  6217807653094995999       1564055322     248\n",
       "...                         ...                  ...              ...     ...\n",
       "244121         MainScreenAppear  4599628364049201812       1565212345     247\n",
       "244122         MainScreenAppear  5849806612437486590       1565212439     246\n",
       "244123         MainScreenAppear  5746969938801999050       1565212483     246\n",
       "244124         MainScreenAppear  5746969938801999050       1565212498     246\n",
       "244125       OffersScreenAppear  5746969938801999050       1565212517     246\n",
       "\n",
       "[244126 rows x 4 columns]"
      ]
     },
     "execution_count": 68,
     "metadata": {},
     "output_type": "execute_result"
    }
   ],
   "source": [
    "logs.rename(columns = {'EventName': 'event_name',\n",
    "                      'DeviceIDHash': 'device_id_hash',\n",
    "                       'EventTimestamp': 'event_timestamp',\n",
    "                       'ExpId': 'exp_id'\n",
    "                      }, inplace = True)\n",
    "logs"
   ]
  },
  {
   "cell_type": "markdown",
   "metadata": {},
   "source": [
    "**Также приведем события в столбце event_name к нижнему регистру:**"
   ]
  },
  {
   "cell_type": "code",
   "execution_count": 69,
   "metadata": {},
   "outputs": [
    {
     "data": {
      "text/html": [
       "<div>\n",
       "<style scoped>\n",
       "    .dataframe tbody tr th:only-of-type {\n",
       "        vertical-align: middle;\n",
       "    }\n",
       "\n",
       "    .dataframe tbody tr th {\n",
       "        vertical-align: top;\n",
       "    }\n",
       "\n",
       "    .dataframe thead th {\n",
       "        text-align: right;\n",
       "    }\n",
       "</style>\n",
       "<table border=\"1\" class=\"dataframe\">\n",
       "  <thead>\n",
       "    <tr style=\"text-align: right;\">\n",
       "      <th></th>\n",
       "      <th>event_name</th>\n",
       "      <th>device_id_hash</th>\n",
       "      <th>event_timestamp</th>\n",
       "      <th>exp_id</th>\n",
       "    </tr>\n",
       "  </thead>\n",
       "  <tbody>\n",
       "    <tr>\n",
       "      <th>0</th>\n",
       "      <td>mainscreenappear</td>\n",
       "      <td>4575588528974610257</td>\n",
       "      <td>1564029816</td>\n",
       "      <td>246</td>\n",
       "    </tr>\n",
       "    <tr>\n",
       "      <th>1</th>\n",
       "      <td>mainscreenappear</td>\n",
       "      <td>7416695313311560658</td>\n",
       "      <td>1564053102</td>\n",
       "      <td>246</td>\n",
       "    </tr>\n",
       "    <tr>\n",
       "      <th>2</th>\n",
       "      <td>paymentscreensuccessful</td>\n",
       "      <td>3518123091307005509</td>\n",
       "      <td>1564054127</td>\n",
       "      <td>248</td>\n",
       "    </tr>\n",
       "    <tr>\n",
       "      <th>3</th>\n",
       "      <td>cartscreenappear</td>\n",
       "      <td>3518123091307005509</td>\n",
       "      <td>1564054127</td>\n",
       "      <td>248</td>\n",
       "    </tr>\n",
       "    <tr>\n",
       "      <th>4</th>\n",
       "      <td>paymentscreensuccessful</td>\n",
       "      <td>6217807653094995999</td>\n",
       "      <td>1564055322</td>\n",
       "      <td>248</td>\n",
       "    </tr>\n",
       "    <tr>\n",
       "      <th>...</th>\n",
       "      <td>...</td>\n",
       "      <td>...</td>\n",
       "      <td>...</td>\n",
       "      <td>...</td>\n",
       "    </tr>\n",
       "    <tr>\n",
       "      <th>244121</th>\n",
       "      <td>mainscreenappear</td>\n",
       "      <td>4599628364049201812</td>\n",
       "      <td>1565212345</td>\n",
       "      <td>247</td>\n",
       "    </tr>\n",
       "    <tr>\n",
       "      <th>244122</th>\n",
       "      <td>mainscreenappear</td>\n",
       "      <td>5849806612437486590</td>\n",
       "      <td>1565212439</td>\n",
       "      <td>246</td>\n",
       "    </tr>\n",
       "    <tr>\n",
       "      <th>244123</th>\n",
       "      <td>mainscreenappear</td>\n",
       "      <td>5746969938801999050</td>\n",
       "      <td>1565212483</td>\n",
       "      <td>246</td>\n",
       "    </tr>\n",
       "    <tr>\n",
       "      <th>244124</th>\n",
       "      <td>mainscreenappear</td>\n",
       "      <td>5746969938801999050</td>\n",
       "      <td>1565212498</td>\n",
       "      <td>246</td>\n",
       "    </tr>\n",
       "    <tr>\n",
       "      <th>244125</th>\n",
       "      <td>offersscreenappear</td>\n",
       "      <td>5746969938801999050</td>\n",
       "      <td>1565212517</td>\n",
       "      <td>246</td>\n",
       "    </tr>\n",
       "  </tbody>\n",
       "</table>\n",
       "<p>244126 rows × 4 columns</p>\n",
       "</div>"
      ],
      "text/plain": [
       "                     event_name       device_id_hash  event_timestamp  exp_id\n",
       "0              mainscreenappear  4575588528974610257       1564029816     246\n",
       "1              mainscreenappear  7416695313311560658       1564053102     246\n",
       "2       paymentscreensuccessful  3518123091307005509       1564054127     248\n",
       "3              cartscreenappear  3518123091307005509       1564054127     248\n",
       "4       paymentscreensuccessful  6217807653094995999       1564055322     248\n",
       "...                         ...                  ...              ...     ...\n",
       "244121         mainscreenappear  4599628364049201812       1565212345     247\n",
       "244122         mainscreenappear  5849806612437486590       1565212439     246\n",
       "244123         mainscreenappear  5746969938801999050       1565212483     246\n",
       "244124         mainscreenappear  5746969938801999050       1565212498     246\n",
       "244125       offersscreenappear  5746969938801999050       1565212517     246\n",
       "\n",
       "[244126 rows x 4 columns]"
      ]
     },
     "execution_count": 69,
     "metadata": {},
     "output_type": "execute_result"
    }
   ],
   "source": [
    "logs['event_name'] = logs['event_name'].str.lower()\n",
    "logs"
   ]
  },
  {
   "cell_type": "markdown",
   "metadata": {},
   "source": [
    "###  <a name=\"task_2\"></a>  2. Проверьте пропуски и типы данных. Откорректируйте, если нужно"
   ]
  },
  {
   "cell_type": "code",
   "execution_count": 70,
   "metadata": {},
   "outputs": [
    {
     "name": "stdout",
     "output_type": "stream",
     "text": [
      "<class 'pandas.core.frame.DataFrame'>\n",
      "RangeIndex: 244126 entries, 0 to 244125\n",
      "Data columns (total 4 columns):\n",
      " #   Column           Non-Null Count   Dtype \n",
      "---  ------           --------------   ----- \n",
      " 0   event_name       244126 non-null  object\n",
      " 1   device_id_hash   244126 non-null  object\n",
      " 2   event_timestamp  244126 non-null  int64 \n",
      " 3   exp_id           244126 non-null  int64 \n",
      "dtypes: int64(2), object(2)\n",
      "memory usage: 7.5+ MB\n"
     ]
    }
   ],
   "source": [
    "logs.info()"
   ]
  },
  {
   "cell_type": "markdown",
   "metadata": {},
   "source": [
    "**Посмотрим есть ли пропуски в столбцаx:**"
   ]
  },
  {
   "cell_type": "code",
   "execution_count": 71,
   "metadata": {},
   "outputs": [
    {
     "data": {
      "text/plain": [
       "False    244126\n",
       "Name: event_name, dtype: int64"
      ]
     },
     "execution_count": 71,
     "metadata": {},
     "output_type": "execute_result"
    }
   ],
   "source": [
    "logs['event_name'].isna().value_counts()"
   ]
  },
  {
   "cell_type": "code",
   "execution_count": 72,
   "metadata": {},
   "outputs": [
    {
     "data": {
      "text/plain": [
       "False    244126\n",
       "Name: device_id_hash, dtype: int64"
      ]
     },
     "execution_count": 72,
     "metadata": {},
     "output_type": "execute_result"
    }
   ],
   "source": [
    "logs['device_id_hash'].isna().value_counts()"
   ]
  },
  {
   "cell_type": "code",
   "execution_count": 73,
   "metadata": {},
   "outputs": [
    {
     "data": {
      "text/plain": [
       "False    244126\n",
       "Name: event_timestamp, dtype: int64"
      ]
     },
     "execution_count": 73,
     "metadata": {},
     "output_type": "execute_result"
    }
   ],
   "source": [
    "logs['event_timestamp'].isna().value_counts()"
   ]
  },
  {
   "cell_type": "code",
   "execution_count": 74,
   "metadata": {},
   "outputs": [
    {
     "data": {
      "text/plain": [
       "False    244126\n",
       "Name: exp_id, dtype: int64"
      ]
     },
     "execution_count": 74,
     "metadata": {},
     "output_type": "execute_result"
    }
   ],
   "source": [
    "logs['exp_id'].isna().value_counts()"
   ]
  },
  {
   "cell_type": "markdown",
   "metadata": {},
   "source": [
    "Пропусков нет!"
   ]
  },
  {
   "cell_type": "markdown",
   "metadata": {},
   "source": [
    "**Посмотрим есть ли дубликаты в столбцаx:**"
   ]
  },
  {
   "cell_type": "code",
   "execution_count": 75,
   "metadata": {},
   "outputs": [
    {
     "data": {
      "text/plain": [
       "413"
      ]
     },
     "execution_count": 75,
     "metadata": {},
     "output_type": "execute_result"
    }
   ],
   "source": [
    "logs.duplicated().sum()"
   ]
  },
  {
   "cell_type": "markdown",
   "metadata": {},
   "source": [
    "**Удалим дубликаты:**"
   ]
  },
  {
   "cell_type": "code",
   "execution_count": 76,
   "metadata": {},
   "outputs": [
    {
     "data": {
      "text/html": [
       "<div>\n",
       "<style scoped>\n",
       "    .dataframe tbody tr th:only-of-type {\n",
       "        vertical-align: middle;\n",
       "    }\n",
       "\n",
       "    .dataframe tbody tr th {\n",
       "        vertical-align: top;\n",
       "    }\n",
       "\n",
       "    .dataframe thead th {\n",
       "        text-align: right;\n",
       "    }\n",
       "</style>\n",
       "<table border=\"1\" class=\"dataframe\">\n",
       "  <thead>\n",
       "    <tr style=\"text-align: right;\">\n",
       "      <th></th>\n",
       "      <th>event_name</th>\n",
       "      <th>device_id_hash</th>\n",
       "      <th>event_timestamp</th>\n",
       "      <th>exp_id</th>\n",
       "    </tr>\n",
       "  </thead>\n",
       "  <tbody>\n",
       "    <tr>\n",
       "      <th>0</th>\n",
       "      <td>mainscreenappear</td>\n",
       "      <td>4575588528974610257</td>\n",
       "      <td>1564029816</td>\n",
       "      <td>246</td>\n",
       "    </tr>\n",
       "    <tr>\n",
       "      <th>1</th>\n",
       "      <td>mainscreenappear</td>\n",
       "      <td>7416695313311560658</td>\n",
       "      <td>1564053102</td>\n",
       "      <td>246</td>\n",
       "    </tr>\n",
       "    <tr>\n",
       "      <th>2</th>\n",
       "      <td>paymentscreensuccessful</td>\n",
       "      <td>3518123091307005509</td>\n",
       "      <td>1564054127</td>\n",
       "      <td>248</td>\n",
       "    </tr>\n",
       "    <tr>\n",
       "      <th>3</th>\n",
       "      <td>cartscreenappear</td>\n",
       "      <td>3518123091307005509</td>\n",
       "      <td>1564054127</td>\n",
       "      <td>248</td>\n",
       "    </tr>\n",
       "    <tr>\n",
       "      <th>4</th>\n",
       "      <td>paymentscreensuccessful</td>\n",
       "      <td>6217807653094995999</td>\n",
       "      <td>1564055322</td>\n",
       "      <td>248</td>\n",
       "    </tr>\n",
       "    <tr>\n",
       "      <th>...</th>\n",
       "      <td>...</td>\n",
       "      <td>...</td>\n",
       "      <td>...</td>\n",
       "      <td>...</td>\n",
       "    </tr>\n",
       "    <tr>\n",
       "      <th>243708</th>\n",
       "      <td>mainscreenappear</td>\n",
       "      <td>4599628364049201812</td>\n",
       "      <td>1565212345</td>\n",
       "      <td>247</td>\n",
       "    </tr>\n",
       "    <tr>\n",
       "      <th>243709</th>\n",
       "      <td>mainscreenappear</td>\n",
       "      <td>5849806612437486590</td>\n",
       "      <td>1565212439</td>\n",
       "      <td>246</td>\n",
       "    </tr>\n",
       "    <tr>\n",
       "      <th>243710</th>\n",
       "      <td>mainscreenappear</td>\n",
       "      <td>5746969938801999050</td>\n",
       "      <td>1565212483</td>\n",
       "      <td>246</td>\n",
       "    </tr>\n",
       "    <tr>\n",
       "      <th>243711</th>\n",
       "      <td>mainscreenappear</td>\n",
       "      <td>5746969938801999050</td>\n",
       "      <td>1565212498</td>\n",
       "      <td>246</td>\n",
       "    </tr>\n",
       "    <tr>\n",
       "      <th>243712</th>\n",
       "      <td>offersscreenappear</td>\n",
       "      <td>5746969938801999050</td>\n",
       "      <td>1565212517</td>\n",
       "      <td>246</td>\n",
       "    </tr>\n",
       "  </tbody>\n",
       "</table>\n",
       "<p>243713 rows × 4 columns</p>\n",
       "</div>"
      ],
      "text/plain": [
       "                     event_name       device_id_hash  event_timestamp  exp_id\n",
       "0              mainscreenappear  4575588528974610257       1564029816     246\n",
       "1              mainscreenappear  7416695313311560658       1564053102     246\n",
       "2       paymentscreensuccessful  3518123091307005509       1564054127     248\n",
       "3              cartscreenappear  3518123091307005509       1564054127     248\n",
       "4       paymentscreensuccessful  6217807653094995999       1564055322     248\n",
       "...                         ...                  ...              ...     ...\n",
       "243708         mainscreenappear  4599628364049201812       1565212345     247\n",
       "243709         mainscreenappear  5849806612437486590       1565212439     246\n",
       "243710         mainscreenappear  5746969938801999050       1565212483     246\n",
       "243711         mainscreenappear  5746969938801999050       1565212498     246\n",
       "243712       offersscreenappear  5746969938801999050       1565212517     246\n",
       "\n",
       "[243713 rows x 4 columns]"
      ]
     },
     "execution_count": 76,
     "metadata": {},
     "output_type": "execute_result"
    }
   ],
   "source": [
    "logs = logs.drop_duplicates()\n",
    "logs.duplicated().sum()\n",
    "logs.reset_index(drop=True)\n"
   ]
  },
  {
   "cell_type": "markdown",
   "metadata": {},
   "source": [
    "Дубликатотв нет!"
   ]
  },
  {
   "cell_type": "markdown",
   "metadata": {},
   "source": [
    "**Поменяем типы данных там, где это нужно:**"
   ]
  },
  {
   "cell_type": "code",
   "execution_count": 77,
   "metadata": {},
   "outputs": [
    {
     "data": {
      "text/html": [
       "<div>\n",
       "<style scoped>\n",
       "    .dataframe tbody tr th:only-of-type {\n",
       "        vertical-align: middle;\n",
       "    }\n",
       "\n",
       "    .dataframe tbody tr th {\n",
       "        vertical-align: top;\n",
       "    }\n",
       "\n",
       "    .dataframe thead th {\n",
       "        text-align: right;\n",
       "    }\n",
       "</style>\n",
       "<table border=\"1\" class=\"dataframe\">\n",
       "  <thead>\n",
       "    <tr style=\"text-align: right;\">\n",
       "      <th></th>\n",
       "      <th>event_name</th>\n",
       "      <th>device_id_hash</th>\n",
       "      <th>event_timestamp</th>\n",
       "      <th>exp_id</th>\n",
       "    </tr>\n",
       "  </thead>\n",
       "  <tbody>\n",
       "    <tr>\n",
       "      <th>0</th>\n",
       "      <td>mainscreenappear</td>\n",
       "      <td>4575588528974610257</td>\n",
       "      <td>2019-07-25 04:43:36</td>\n",
       "      <td>246</td>\n",
       "    </tr>\n",
       "    <tr>\n",
       "      <th>1</th>\n",
       "      <td>mainscreenappear</td>\n",
       "      <td>7416695313311560658</td>\n",
       "      <td>2019-07-25 11:11:42</td>\n",
       "      <td>246</td>\n",
       "    </tr>\n",
       "    <tr>\n",
       "      <th>2</th>\n",
       "      <td>paymentscreensuccessful</td>\n",
       "      <td>3518123091307005509</td>\n",
       "      <td>2019-07-25 11:28:47</td>\n",
       "      <td>248</td>\n",
       "    </tr>\n",
       "    <tr>\n",
       "      <th>3</th>\n",
       "      <td>cartscreenappear</td>\n",
       "      <td>3518123091307005509</td>\n",
       "      <td>2019-07-25 11:28:47</td>\n",
       "      <td>248</td>\n",
       "    </tr>\n",
       "    <tr>\n",
       "      <th>4</th>\n",
       "      <td>paymentscreensuccessful</td>\n",
       "      <td>6217807653094995999</td>\n",
       "      <td>2019-07-25 11:48:42</td>\n",
       "      <td>248</td>\n",
       "    </tr>\n",
       "  </tbody>\n",
       "</table>\n",
       "</div>"
      ],
      "text/plain": [
       "                event_name       device_id_hash     event_timestamp  exp_id\n",
       "0         mainscreenappear  4575588528974610257 2019-07-25 04:43:36     246\n",
       "1         mainscreenappear  7416695313311560658 2019-07-25 11:11:42     246\n",
       "2  paymentscreensuccessful  3518123091307005509 2019-07-25 11:28:47     248\n",
       "3         cartscreenappear  3518123091307005509 2019-07-25 11:28:47     248\n",
       "4  paymentscreensuccessful  6217807653094995999 2019-07-25 11:48:42     248"
      ]
     },
     "execution_count": 77,
     "metadata": {},
     "output_type": "execute_result"
    }
   ],
   "source": [
    "warnings.filterwarnings(\"ignore\")\n",
    "\n",
    "logs['event_timestamp'] = pd.to_datetime(logs['event_timestamp'], unit='s')\n",
    "logs.head()"
   ]
  },
  {
   "cell_type": "markdown",
   "metadata": {},
   "source": [
    "###  <a name=\"task_3\"></a> 3. Добавьте столбец даты и времени, а также отдельный столбец дат;"
   ]
  },
  {
   "cell_type": "code",
   "execution_count": 78,
   "metadata": {},
   "outputs": [
    {
     "data": {
      "text/html": [
       "<div>\n",
       "<style scoped>\n",
       "    .dataframe tbody tr th:only-of-type {\n",
       "        vertical-align: middle;\n",
       "    }\n",
       "\n",
       "    .dataframe tbody tr th {\n",
       "        vertical-align: top;\n",
       "    }\n",
       "\n",
       "    .dataframe thead th {\n",
       "        text-align: right;\n",
       "    }\n",
       "</style>\n",
       "<table border=\"1\" class=\"dataframe\">\n",
       "  <thead>\n",
       "    <tr style=\"text-align: right;\">\n",
       "      <th></th>\n",
       "      <th>event_name</th>\n",
       "      <th>device_id_hash</th>\n",
       "      <th>event_timestamp</th>\n",
       "      <th>exp_id</th>\n",
       "      <th>date</th>\n",
       "    </tr>\n",
       "  </thead>\n",
       "  <tbody>\n",
       "    <tr>\n",
       "      <th>0</th>\n",
       "      <td>mainscreenappear</td>\n",
       "      <td>4575588528974610257</td>\n",
       "      <td>2019-07-25 04:43:36</td>\n",
       "      <td>246</td>\n",
       "      <td>2019-07-25</td>\n",
       "    </tr>\n",
       "    <tr>\n",
       "      <th>1</th>\n",
       "      <td>mainscreenappear</td>\n",
       "      <td>7416695313311560658</td>\n",
       "      <td>2019-07-25 11:11:42</td>\n",
       "      <td>246</td>\n",
       "      <td>2019-07-25</td>\n",
       "    </tr>\n",
       "    <tr>\n",
       "      <th>2</th>\n",
       "      <td>paymentscreensuccessful</td>\n",
       "      <td>3518123091307005509</td>\n",
       "      <td>2019-07-25 11:28:47</td>\n",
       "      <td>248</td>\n",
       "      <td>2019-07-25</td>\n",
       "    </tr>\n",
       "    <tr>\n",
       "      <th>3</th>\n",
       "      <td>cartscreenappear</td>\n",
       "      <td>3518123091307005509</td>\n",
       "      <td>2019-07-25 11:28:47</td>\n",
       "      <td>248</td>\n",
       "      <td>2019-07-25</td>\n",
       "    </tr>\n",
       "    <tr>\n",
       "      <th>4</th>\n",
       "      <td>paymentscreensuccessful</td>\n",
       "      <td>6217807653094995999</td>\n",
       "      <td>2019-07-25 11:48:42</td>\n",
       "      <td>248</td>\n",
       "      <td>2019-07-25</td>\n",
       "    </tr>\n",
       "  </tbody>\n",
       "</table>\n",
       "</div>"
      ],
      "text/plain": [
       "                event_name       device_id_hash     event_timestamp  exp_id  \\\n",
       "0         mainscreenappear  4575588528974610257 2019-07-25 04:43:36     246   \n",
       "1         mainscreenappear  7416695313311560658 2019-07-25 11:11:42     246   \n",
       "2  paymentscreensuccessful  3518123091307005509 2019-07-25 11:28:47     248   \n",
       "3         cartscreenappear  3518123091307005509 2019-07-25 11:28:47     248   \n",
       "4  paymentscreensuccessful  6217807653094995999 2019-07-25 11:48:42     248   \n",
       "\n",
       "         date  \n",
       "0  2019-07-25  \n",
       "1  2019-07-25  \n",
       "2  2019-07-25  \n",
       "3  2019-07-25  \n",
       "4  2019-07-25  "
      ]
     },
     "execution_count": 78,
     "metadata": {},
     "output_type": "execute_result"
    }
   ],
   "source": [
    "warnings.filterwarnings(\"ignore\")\n",
    "\n",
    "logs['date'] = logs.event_timestamp.dt.date\n",
    "logs.head()"
   ]
  },
  {
   "cell_type": "code",
   "execution_count": 79,
   "metadata": {},
   "outputs": [
    {
     "name": "stdout",
     "output_type": "stream",
     "text": [
      "                     exp_id\n",
      "device_id_hash             \n",
      "1000608915523616548       1\n",
      "100724994572555335        1\n",
      "1008242126838007188       1\n",
      "1009503747199967885       1\n",
      "1009745980451513098       1\n",
      "...                     ...\n",
      "992321565231279868        1\n",
      "993193057518949787        1\n",
      "995065401066914588        1\n",
      "997141886226099626        1\n",
      "997959739029313547        1\n",
      "\n",
      "[7551 rows x 1 columns]\n"
     ]
    }
   ],
   "source": [
    "gr = logs.groupby('device_id_hash').agg({'exp_id' : 'nunique'})\n",
    "print(gr)"
   ]
  },
  {
   "cell_type": "code",
   "execution_count": 80,
   "metadata": {},
   "outputs": [
    {
     "data": {
      "text/plain": [
       "exp_id    0\n",
       "dtype: int64"
      ]
     },
     "execution_count": 80,
     "metadata": {},
     "output_type": "execute_result"
    }
   ],
   "source": [
    "gr.loc[gr['exp_id'] > 1].count()"
   ]
  },
  {
   "cell_type": "markdown",
   "metadata": {},
   "source": [
    "Все пользователи находятся в уникальных экпериментальных группах. Ни один из пользователей не попал в более чем одну экспериментальную группу."
   ]
  },
  {
   "cell_type": "markdown",
   "metadata": {},
   "source": [
    "---"
   ]
  },
  {
   "cell_type": "markdown",
   "metadata": {},
   "source": [
    "##  <a name=\"step_3\"></a>  Шаг 3. Изучите и проверьте данные"
   ]
  },
  {
   "cell_type": "markdown",
   "metadata": {},
   "source": [
    "### <a name=\"task_4\"></a>  1. Сколько всего событий в логе?"
   ]
  },
  {
   "cell_type": "code",
   "execution_count": 81,
   "metadata": {},
   "outputs": [
    {
     "data": {
      "text/plain": [
       "mainscreenappear           119101\n",
       "offersscreenappear          46808\n",
       "cartscreenappear            42668\n",
       "paymentscreensuccessful     34118\n",
       "tutorial                     1018\n",
       "Name: event_name, dtype: int64"
      ]
     },
     "execution_count": 81,
     "metadata": {},
     "output_type": "execute_result"
    }
   ],
   "source": [
    "logs['event_name'].value_counts()"
   ]
  },
  {
   "cell_type": "markdown",
   "metadata": {},
   "source": [
    "Как мы видим в логе 5 различных вариантов событий."
   ]
  },
  {
   "cell_type": "markdown",
   "metadata": {},
   "source": [
    "### <a name=\"task_5\"></a>  2. Сколько всего пользователей в логе?"
   ]
  },
  {
   "cell_type": "code",
   "execution_count": 82,
   "metadata": {},
   "outputs": [
    {
     "data": {
      "text/plain": [
       "7551"
      ]
     },
     "execution_count": 82,
     "metadata": {},
     "output_type": "execute_result"
    }
   ],
   "source": [
    "len(logs['device_id_hash'].unique())"
   ]
  },
  {
   "cell_type": "markdown",
   "metadata": {},
   "source": [
    "Всего в логе участвовало 7551 уникальных девайсов.\n"
   ]
  },
  {
   "cell_type": "markdown",
   "metadata": {},
   "source": [
    "### <a name=\"task_6\"></a> 3. Сколько в среднем событий приходится на пользователя?"
   ]
  },
  {
   "cell_type": "code",
   "execution_count": 83,
   "metadata": {},
   "outputs": [
    {
     "data": {
      "text/plain": [
       "32.28"
      ]
     },
     "execution_count": 83,
     "metadata": {},
     "output_type": "execute_result"
    }
   ],
   "source": [
    "events_for_users = logs.pivot_table(index='device_id_hash',values='event_name',aggfunc='count')\n",
    "round(events_for_users['event_name'].mean(), 2)"
   ]
  },
  {
   "cell_type": "markdown",
   "metadata": {},
   "source": [
    "В среднем на одного пользователя приходится 32.28 событий."
   ]
  },
  {
   "cell_type": "code",
   "execution_count": 84,
   "metadata": {},
   "outputs": [
    {
     "data": {
      "image/png": "[encoded data removed]",
      "text/plain": [
       "<Figure size 1080x720 with 1 Axes>"
      ]
     },
     "metadata": {},
     "output_type": "display_data"
    }
   ],
   "source": [
    "events = logs['event_name'].value_counts()\n",
    "events.plot.bar()\n",
    "plt.xticks(rotation=75)\n",
    "sns.set(rc={'figure.figsize':(15,10)});"
   ]
  },
  {
   "cell_type": "markdown",
   "metadata": {},
   "source": [
    "Из столбчатой диаграммы мы видим, что самое популярное событие у пользователей — это открытие главного экрана, далее три события имеют практически одинаковую популярность у пользователей и событие показ туториала самое не популярное.\t\n"
   ]
  },
  {
   "cell_type": "markdown",
   "metadata": {},
   "source": [
    "### <a name=\"task_7\"></a>  4. Данными за какой период вы располагаете?"
   ]
  },
  {
   "cell_type": "markdown",
   "metadata": {},
   "source": [
    "#### Найдите максимальную и минимальную дату. "
   ]
  },
  {
   "cell_type": "code",
   "execution_count": 85,
   "metadata": {},
   "outputs": [
    {
     "name": "stdout",
     "output_type": "stream",
     "text": [
      "Максимальная дата: 2019-08-07\n"
     ]
    }
   ],
   "source": [
    "print('Максимальная дата:', max(logs['date']))"
   ]
  },
  {
   "cell_type": "code",
   "execution_count": 86,
   "metadata": {},
   "outputs": [
    {
     "name": "stdout",
     "output_type": "stream",
     "text": [
      "Минимальная дата: 2019-07-25\n"
     ]
    }
   ],
   "source": [
    "print('Минимальная дата:', min(logs['date']))"
   ]
  },
  {
   "cell_type": "markdown",
   "metadata": {},
   "source": [
    "#### Постройте гистограмму по дате и времени. "
   ]
  },
  {
   "cell_type": "code",
   "execution_count": 87,
   "metadata": {},
   "outputs": [
    {
     "data": {
      "image/png": "[encoded data removed]",
      "text/plain": [
       "<Figure size 1080x720 with 1 Axes>"
      ]
     },
     "metadata": {},
     "output_type": "display_data"
    }
   ],
   "source": [
    "events_grouped = logs[['date', 'event_name']]\n",
    "\n",
    "events_grouped = events_grouped.groupby('date')['event_name'].count()\n",
    "\n",
    "events_grouped = events_grouped.to_frame()\n",
    "events_grouped.plot.bar()\n",
    "plt.xticks(rotation=75)\n",
    "\n",
    "sns.set(rc={'figure.figsize':(15,10)});"
   ]
  },
  {
   "cell_type": "code",
   "execution_count": 88,
   "metadata": {},
   "outputs": [
    {
     "data": {
      "image/png": "[encoded data removed]",
      "text/plain": [
       "<Figure size 1008x360 with 1 Axes>"
      ]
     },
     "metadata": {},
     "output_type": "display_data"
    }
   ],
   "source": [
    "logs['event_timestamp'].hist(bins=14*24, figsize=(14, 5));"
   ]
  },
  {
   "cell_type": "markdown",
   "metadata": {},
   "source": [
    "#### Можно ли быть уверенным, что у вас одинаково полные данные за весь период? Технически в логи новых дней по некоторым пользователям могут «доезжать» события из прошлого  — это может «перекашивать данные»."
   ]
  },
  {
   "cell_type": "markdown",
   "metadata": {},
   "source": [
    "Мы видим, что до 2019-08-01 данных очень мало, и только начиная в 1-ого числа совешается большое колличество событий. Скорее всего именно в этот момент данные доехали и с этого момента мы можем оценивать результаты проведения эксперимента."
   ]
  },
  {
   "cell_type": "markdown",
   "metadata": {},
   "source": [
    "#### Определите, с какого момента данные полные и отбросьте более старые. Данными за какой период времени вы располагаете на самом деле?"
   ]
  },
  {
   "cell_type": "markdown",
   "metadata": {},
   "source": [
    "Из предыдущих рассчетов мы определили, что полные данные начинаются с 2019-08-01, соответственно мы можем отбросить все что было до этого момента."
   ]
  },
  {
   "cell_type": "code",
   "execution_count": 89,
   "metadata": {},
   "outputs": [
    {
     "data": {
      "text/plain": [
       "date\n",
       "2019-08-01    36141\n",
       "2019-08-02    35554\n",
       "2019-08-03    33282\n",
       "2019-08-04    32968\n",
       "2019-08-05    36058\n",
       "2019-08-06    35788\n",
       "2019-08-07    31096\n",
       "Name: event_name, dtype: int64"
      ]
     },
     "execution_count": 89,
     "metadata": {},
     "output_type": "execute_result"
    }
   ],
   "source": [
    "logs['date'] = pd.to_datetime(logs['date'])\n",
    "logs_new = logs.query('date > \"2019-07-31\"')\n",
    "logs_new.groupby('date')['event_name'].count()"
   ]
  },
  {
   "cell_type": "markdown",
   "metadata": {},
   "source": [
    "Теперь у нас остались данные за последние 7 дней."
   ]
  },
  {
   "cell_type": "markdown",
   "metadata": {},
   "source": [
    "#### Много ли событий и пользователей вы потеряли, отбросив старые данные?"
   ]
  },
  {
   "cell_type": "code",
   "execution_count": 90,
   "metadata": {},
   "outputs": [
    {
     "name": "stdout",
     "output_type": "stream",
     "text": [
      "Колличество потерянных значений: 2826\n",
      "Процент потерянных значений от изначального числа событий: 0.0116\n"
     ]
    }
   ],
   "source": [
    "print('Колличество потерянных значений:' , logs['event_name'].count() - logs_new['event_name'].count())\n",
    "print('Процент потерянных значений от изначального числа событий:', \n",
    "      round((logs['event_name'].count() - logs_new['event_name'].count())/logs['event_name'].count(), 4)\n",
    "     )"
   ]
  },
  {
   "cell_type": "markdown",
   "metadata": {},
   "source": [
    "Мы видим, что в итоге мы потеряли всего 1.16% событий."
   ]
  },
  {
   "cell_type": "markdown",
   "metadata": {},
   "source": [
    "**Сколько пользователей мы потеряли:**"
   ]
  },
  {
   "cell_type": "code",
   "execution_count": 91,
   "metadata": {},
   "outputs": [],
   "source": [
    "# Уникальные пользователи по событиям в старых данных:\n",
    "logs_old_pivot = logs.pivot_table(index = 'event_name', \n",
    "                                  values = 'device_id_hash', \n",
    "                                  aggfunc = 'nunique'\n",
    "                                 ).sort_values(by = 'device_id_hash', \n",
    "                                               ascending = False)"
   ]
  },
  {
   "cell_type": "code",
   "execution_count": 92,
   "metadata": {},
   "outputs": [],
   "source": [
    "# Уникальные пользователи по событиям в новых данных:\n",
    "logs_pivot = logs_new.pivot_table(index = 'event_name', \n",
    "                                  values = 'device_id_hash', \n",
    "                                  aggfunc = 'nunique'\n",
    "                                 ).sort_values(by = 'device_id_hash', \n",
    "                                               ascending = False)"
   ]
  },
  {
   "cell_type": "code",
   "execution_count": 93,
   "metadata": {},
   "outputs": [
    {
     "data": {
      "text/html": [
       "<div>\n",
       "<style scoped>\n",
       "    .dataframe tbody tr th:only-of-type {\n",
       "        vertical-align: middle;\n",
       "    }\n",
       "\n",
       "    .dataframe tbody tr th {\n",
       "        vertical-align: top;\n",
       "    }\n",
       "\n",
       "    .dataframe thead th {\n",
       "        text-align: right;\n",
       "    }\n",
       "</style>\n",
       "<table border=\"1\" class=\"dataframe\">\n",
       "  <thead>\n",
       "    <tr style=\"text-align: right;\">\n",
       "      <th></th>\n",
       "      <th>device_id_hash</th>\n",
       "    </tr>\n",
       "    <tr>\n",
       "      <th>event_name</th>\n",
       "      <th></th>\n",
       "    </tr>\n",
       "  </thead>\n",
       "  <tbody>\n",
       "    <tr>\n",
       "      <th>mainscreenappear</th>\n",
       "      <td>20</td>\n",
       "    </tr>\n",
       "    <tr>\n",
       "      <th>offersscreenappear</th>\n",
       "      <td>20</td>\n",
       "    </tr>\n",
       "    <tr>\n",
       "      <th>cartscreenappear</th>\n",
       "      <td>15</td>\n",
       "    </tr>\n",
       "    <tr>\n",
       "      <th>paymentscreensuccessful</th>\n",
       "      <td>8</td>\n",
       "    </tr>\n",
       "    <tr>\n",
       "      <th>tutorial</th>\n",
       "      <td>7</td>\n",
       "    </tr>\n",
       "  </tbody>\n",
       "</table>\n",
       "</div>"
      ],
      "text/plain": [
       "                         device_id_hash\n",
       "event_name                             \n",
       "mainscreenappear                     20\n",
       "offersscreenappear                   20\n",
       "cartscreenappear                     15\n",
       "paymentscreensuccessful               8\n",
       "tutorial                              7"
      ]
     },
     "metadata": {},
     "output_type": "display_data"
    }
   ],
   "source": [
    "diff = logs_old_pivot - logs_pivot #потерянные пользователи по событиям\n",
    "display(diff)"
   ]
  },
  {
   "cell_type": "code",
   "execution_count": 94,
   "metadata": {},
   "outputs": [
    {
     "name": "stdout",
     "output_type": "stream",
     "text": [
      "Всего мы потеряли 70 пользователей\n"
     ]
    }
   ],
   "source": [
    "print('Всего мы потеряли', diff['device_id_hash'].sum(), 'пользователей')"
   ]
  },
  {
   "cell_type": "code",
   "execution_count": 95,
   "metadata": {},
   "outputs": [
    {
     "name": "stdout",
     "output_type": "stream",
     "text": [
      "Потерянные пользователи составляют 0.927 % от изначального числа пользователей\n"
     ]
    }
   ],
   "source": [
    " print('Потерянные пользователи составляют', round(diff['device_id_hash'].sum() / len(logs['device_id_hash'].unique()) *100, 3) , '% от изначального числа пользователей')"
   ]
  },
  {
   "cell_type": "markdown",
   "metadata": {},
   "source": [
    "#### Проверьте, что у вас есть пользователи из всех трёх экспериментальных групп."
   ]
  },
  {
   "cell_type": "code",
   "execution_count": 96,
   "metadata": {},
   "outputs": [
    {
     "data": {
      "text/plain": [
       "248    84563\n",
       "246    79302\n",
       "247    77022\n",
       "Name: exp_id, dtype: int64"
      ]
     },
     "execution_count": 96,
     "metadata": {},
     "output_type": "execute_result"
    }
   ],
   "source": [
    "logs_new['exp_id'].value_counts()"
   ]
  },
  {
   "cell_type": "markdown",
   "metadata": {},
   "source": [
    "В наших данных есть пользователи из всех трех экспериментальных групп."
   ]
  },
  {
   "cell_type": "markdown",
   "metadata": {},
   "source": [
    "### <a name=\"task_8\"></a>  5. Проверим корректность проведенного А\\В теста:\n"
   ]
  },
  {
   "cell_type": "code",
   "execution_count": 97,
   "metadata": {
    "scrolled": true
   },
   "outputs": [
    {
     "data": {
      "text/html": [
       "<div>\n",
       "<style scoped>\n",
       "    .dataframe tbody tr th:only-of-type {\n",
       "        vertical-align: middle;\n",
       "    }\n",
       "\n",
       "    .dataframe tbody tr th {\n",
       "        vertical-align: top;\n",
       "    }\n",
       "\n",
       "    .dataframe thead th {\n",
       "        text-align: right;\n",
       "    }\n",
       "</style>\n",
       "<table border=\"1\" class=\"dataframe\">\n",
       "  <thead>\n",
       "    <tr style=\"text-align: right;\">\n",
       "      <th>event_name</th>\n",
       "      <th>exp_id</th>\n",
       "      <th>cartscreenappear</th>\n",
       "      <th>mainscreenappear</th>\n",
       "      <th>offersscreenappear</th>\n",
       "      <th>paymentscreensuccessful</th>\n",
       "    </tr>\n",
       "  </thead>\n",
       "  <tbody>\n",
       "    <tr>\n",
       "      <th>0</th>\n",
       "      <td>246</td>\n",
       "      <td>1270</td>\n",
       "      <td>2456</td>\n",
       "      <td>1545</td>\n",
       "      <td>1202</td>\n",
       "    </tr>\n",
       "    <tr>\n",
       "      <th>1</th>\n",
       "      <td>247</td>\n",
       "      <td>1240</td>\n",
       "      <td>2482</td>\n",
       "      <td>1530</td>\n",
       "      <td>1160</td>\n",
       "    </tr>\n",
       "    <tr>\n",
       "      <th>2</th>\n",
       "      <td>248</td>\n",
       "      <td>1239</td>\n",
       "      <td>2501</td>\n",
       "      <td>1538</td>\n",
       "      <td>1185</td>\n",
       "    </tr>\n",
       "  </tbody>\n",
       "</table>\n",
       "</div>"
      ],
      "text/plain": [
       "event_name  exp_id  cartscreenappear  mainscreenappear  offersscreenappear  \\\n",
       "0              246              1270              2456                1545   \n",
       "1              247              1240              2482                1530   \n",
       "2              248              1239              2501                1538   \n",
       "\n",
       "event_name  paymentscreensuccessful  \n",
       "0                              1202  \n",
       "1                              1160  \n",
       "2                              1185  "
      ]
     },
     "execution_count": 97,
     "metadata": {},
     "output_type": "execute_result"
    }
   ],
   "source": [
    "a_b_table = logs.pivot_table(index = 'exp_id',\n",
    "                                   columns = 'event_name',\n",
    "                                   values = 'device_id_hash',\n",
    "                                   aggfunc = 'nunique').reset_index()\n",
    "\n",
    "del a_b_table['tutorial']\n",
    "\n",
    "\n",
    "a_b_table"
   ]
  },
  {
   "cell_type": "code",
   "execution_count": 98,
   "metadata": {},
   "outputs": [
    {
     "data": {
      "text/html": [
       "<div>\n",
       "<style scoped>\n",
       "    .dataframe tbody tr th:only-of-type {\n",
       "        vertical-align: middle;\n",
       "    }\n",
       "\n",
       "    .dataframe tbody tr th {\n",
       "        vertical-align: top;\n",
       "    }\n",
       "\n",
       "    .dataframe thead th {\n",
       "        text-align: right;\n",
       "    }\n",
       "</style>\n",
       "<table border=\"1\" class=\"dataframe\">\n",
       "  <thead>\n",
       "    <tr style=\"text-align: right;\">\n",
       "      <th>event_name</th>\n",
       "      <th>cartscreenappear</th>\n",
       "      <th>mainscreenappear</th>\n",
       "      <th>offersscreenappear</th>\n",
       "      <th>paymentscreensuccessful</th>\n",
       "      <th>users_count</th>\n",
       "    </tr>\n",
       "    <tr>\n",
       "      <th>exp_id</th>\n",
       "      <th></th>\n",
       "      <th></th>\n",
       "      <th></th>\n",
       "      <th></th>\n",
       "      <th></th>\n",
       "    </tr>\n",
       "  </thead>\n",
       "  <tbody>\n",
       "    <tr>\n",
       "      <th>246</th>\n",
       "      <td>1270</td>\n",
       "      <td>2456</td>\n",
       "      <td>1545</td>\n",
       "      <td>1202</td>\n",
       "      <td>2484</td>\n",
       "    </tr>\n",
       "    <tr>\n",
       "      <th>247</th>\n",
       "      <td>1240</td>\n",
       "      <td>2482</td>\n",
       "      <td>1530</td>\n",
       "      <td>1160</td>\n",
       "      <td>2513</td>\n",
       "    </tr>\n",
       "    <tr>\n",
       "      <th>248</th>\n",
       "      <td>1239</td>\n",
       "      <td>2501</td>\n",
       "      <td>1538</td>\n",
       "      <td>1185</td>\n",
       "      <td>2537</td>\n",
       "    </tr>\n",
       "  </tbody>\n",
       "</table>\n",
       "</div>"
      ],
      "text/plain": [
       "event_name  cartscreenappear  mainscreenappear  offersscreenappear  \\\n",
       "exp_id                                                               \n",
       "246                     1270              2456                1545   \n",
       "247                     1240              2482                1530   \n",
       "248                     1239              2501                1538   \n",
       "\n",
       "event_name  paymentscreensuccessful  users_count  \n",
       "exp_id                                            \n",
       "246                            1202         2484  \n",
       "247                            1160         2513  \n",
       "248                            1185         2537  "
      ]
     },
     "execution_count": 98,
     "metadata": {},
     "output_type": "execute_result"
    }
   ],
   "source": [
    "a_b_count = logs.groupby('exp_id')['device_id_hash'].nunique()\n",
    "a_b_table['users_count'] = a_b_table['exp_id'].apply(lambda x: users_count.loc[x])\n",
    "a_b_table = a_b_table.set_index('exp_id')\n",
    "a_b_table"
   ]
  },
  {
   "cell_type": "code",
   "execution_count": 99,
   "metadata": {
    "scrolled": true
   },
   "outputs": [
    {
     "data": {
      "text/html": [
       "<div>\n",
       "<style scoped>\n",
       "    .dataframe tbody tr th:only-of-type {\n",
       "        vertical-align: middle;\n",
       "    }\n",
       "\n",
       "    .dataframe tbody tr th {\n",
       "        vertical-align: top;\n",
       "    }\n",
       "\n",
       "    .dataframe thead th {\n",
       "        text-align: right;\n",
       "    }\n",
       "</style>\n",
       "<table border=\"1\" class=\"dataframe\">\n",
       "  <thead>\n",
       "    <tr style=\"text-align: right;\">\n",
       "      <th>event_name</th>\n",
       "      <th>cartscreenappear</th>\n",
       "      <th>mainscreenappear</th>\n",
       "      <th>offersscreenappear</th>\n",
       "      <th>paymentscreensuccessful</th>\n",
       "      <th>users_count</th>\n",
       "      <th>conversion</th>\n",
       "    </tr>\n",
       "    <tr>\n",
       "      <th>exp_id</th>\n",
       "      <th></th>\n",
       "      <th></th>\n",
       "      <th></th>\n",
       "      <th></th>\n",
       "      <th></th>\n",
       "      <th></th>\n",
       "    </tr>\n",
       "  </thead>\n",
       "  <tbody>\n",
       "    <tr>\n",
       "      <th>246</th>\n",
       "      <td>1270</td>\n",
       "      <td>2456</td>\n",
       "      <td>1545</td>\n",
       "      <td>1202</td>\n",
       "      <td>2484</td>\n",
       "      <td>0.483897</td>\n",
       "    </tr>\n",
       "    <tr>\n",
       "      <th>247</th>\n",
       "      <td>1240</td>\n",
       "      <td>2482</td>\n",
       "      <td>1530</td>\n",
       "      <td>1160</td>\n",
       "      <td>2513</td>\n",
       "      <td>0.461600</td>\n",
       "    </tr>\n",
       "    <tr>\n",
       "      <th>248</th>\n",
       "      <td>1239</td>\n",
       "      <td>2501</td>\n",
       "      <td>1538</td>\n",
       "      <td>1185</td>\n",
       "      <td>2537</td>\n",
       "      <td>0.467087</td>\n",
       "    </tr>\n",
       "  </tbody>\n",
       "</table>\n",
       "</div>"
      ],
      "text/plain": [
       "event_name  cartscreenappear  mainscreenappear  offersscreenappear  \\\n",
       "exp_id                                                               \n",
       "246                     1270              2456                1545   \n",
       "247                     1240              2482                1530   \n",
       "248                     1239              2501                1538   \n",
       "\n",
       "event_name  paymentscreensuccessful  users_count  conversion  \n",
       "exp_id                                                        \n",
       "246                            1202         2484    0.483897  \n",
       "247                            1160         2513    0.461600  \n",
       "248                            1185         2537    0.467087  "
      ]
     },
     "execution_count": 99,
     "metadata": {},
     "output_type": "execute_result"
    }
   ],
   "source": [
    "a_b_table['conversion'] = a_b_table['paymentscreensuccessful'] / a_b_table['users_count']\n",
    "a_b_table"
   ]
  },
  {
   "cell_type": "code",
   "execution_count": 100,
   "metadata": {},
   "outputs": [],
   "source": [
    "initial_conversion = a_b_table['conversion'][246]\n",
    "resulting_conversion = a_b_table['conversion'][248]"
   ]
  },
  {
   "cell_type": "code",
   "execution_count": 101,
   "metadata": {},
   "outputs": [],
   "source": [
    "change = abs(1-(initial_conversion/resulting_conversion))"
   ]
  },
  {
   "cell_type": "code",
   "execution_count": 102,
   "metadata": {},
   "outputs": [
    {
     "name": "stdout",
     "output_type": "stream",
     "text": [
      "Начальная конверсия: 0.48389694041867953\n",
      "Полученная после изменений конверсия: 0.46708711076074105\n",
      "Относительное изменение конверсии после изменений: 0.035988639529274113\n"
     ]
    }
   ],
   "source": [
    "print('Начальная конверсия:', initial_conversion)\n",
    "print('Полученная после изменений конверсия:', resulting_conversion)\n",
    "print('Относительное изменение конверсии после изменений:', change)"
   ]
  },
  {
   "cell_type": "markdown",
   "metadata": {},
   "source": [
    "Проверим в калькуляторе (https://www.evanmiller.org/ab-testing/sample-size.html) необходимый размер выборки для проведения теста.\n",
    "\n",
    "Вводим Baseline conversion rate = 48.39% и Minimum Detectable Effect = 3.59%, также указываем тип \"Relative\"."
   ]
  },
  {
   "cell_type": "markdown",
   "metadata": {},
   "source": [
    "Минимальный размер выборки 12 993, у нас 243 713."
   ]
  },
  {
   "cell_type": "markdown",
   "metadata": {},
   "source": [
    "Проведенный А\\В тест можно считать корректным."
   ]
  },
  {
   "cell_type": "markdown",
   "metadata": {},
   "source": [
    "---"
   ]
  },
  {
   "cell_type": "markdown",
   "metadata": {},
   "source": [
    "## <a name=\"step_4\"></a>  Шаг 4. Изучите воронку событий"
   ]
  },
  {
   "cell_type": "markdown",
   "metadata": {},
   "source": [
    "###  <a name=\"task_9\"></a> 1. Посмотрите, какие события есть в логах, как часто они встречаются. Отсортируйте события по частоте."
   ]
  },
  {
   "cell_type": "code",
   "execution_count": 103,
   "metadata": {},
   "outputs": [
    {
     "data": {
      "text/html": [
       "<div>\n",
       "<style scoped>\n",
       "    .dataframe tbody tr th:only-of-type {\n",
       "        vertical-align: middle;\n",
       "    }\n",
       "\n",
       "    .dataframe tbody tr th {\n",
       "        vertical-align: top;\n",
       "    }\n",
       "\n",
       "    .dataframe thead th {\n",
       "        text-align: right;\n",
       "    }\n",
       "</style>\n",
       "<table border=\"1\" class=\"dataframe\">\n",
       "  <thead>\n",
       "    <tr style=\"text-align: right;\">\n",
       "      <th></th>\n",
       "      <th>event_name</th>\n",
       "      <th>device_id_hash</th>\n",
       "      <th>event_timestamp</th>\n",
       "      <th>exp_id</th>\n",
       "      <th>date</th>\n",
       "    </tr>\n",
       "  </thead>\n",
       "  <tbody>\n",
       "    <tr>\n",
       "      <th>2828</th>\n",
       "      <td>tutorial</td>\n",
       "      <td>3737462046622621720</td>\n",
       "      <td>2019-08-01 00:07:28</td>\n",
       "      <td>246</td>\n",
       "      <td>2019-08-01</td>\n",
       "    </tr>\n",
       "    <tr>\n",
       "      <th>2829</th>\n",
       "      <td>mainscreenappear</td>\n",
       "      <td>3737462046622621720</td>\n",
       "      <td>2019-08-01 00:08:00</td>\n",
       "      <td>246</td>\n",
       "      <td>2019-08-01</td>\n",
       "    </tr>\n",
       "    <tr>\n",
       "      <th>2830</th>\n",
       "      <td>mainscreenappear</td>\n",
       "      <td>3737462046622621720</td>\n",
       "      <td>2019-08-01 00:08:55</td>\n",
       "      <td>246</td>\n",
       "      <td>2019-08-01</td>\n",
       "    </tr>\n",
       "    <tr>\n",
       "      <th>2831</th>\n",
       "      <td>offersscreenappear</td>\n",
       "      <td>3737462046622621720</td>\n",
       "      <td>2019-08-01 00:08:58</td>\n",
       "      <td>246</td>\n",
       "      <td>2019-08-01</td>\n",
       "    </tr>\n",
       "    <tr>\n",
       "      <th>2832</th>\n",
       "      <td>mainscreenappear</td>\n",
       "      <td>1433840883824088890</td>\n",
       "      <td>2019-08-01 00:08:59</td>\n",
       "      <td>247</td>\n",
       "      <td>2019-08-01</td>\n",
       "    </tr>\n",
       "  </tbody>\n",
       "</table>\n",
       "</div>"
      ],
      "text/plain": [
       "              event_name       device_id_hash     event_timestamp  exp_id  \\\n",
       "2828            tutorial  3737462046622621720 2019-08-01 00:07:28     246   \n",
       "2829    mainscreenappear  3737462046622621720 2019-08-01 00:08:00     246   \n",
       "2830    mainscreenappear  3737462046622621720 2019-08-01 00:08:55     246   \n",
       "2831  offersscreenappear  3737462046622621720 2019-08-01 00:08:58     246   \n",
       "2832    mainscreenappear  1433840883824088890 2019-08-01 00:08:59     247   \n",
       "\n",
       "           date  \n",
       "2828 2019-08-01  \n",
       "2829 2019-08-01  \n",
       "2830 2019-08-01  \n",
       "2831 2019-08-01  \n",
       "2832 2019-08-01  "
      ]
     },
     "execution_count": 103,
     "metadata": {},
     "output_type": "execute_result"
    }
   ],
   "source": [
    "logs_new.head()"
   ]
  },
  {
   "cell_type": "code",
   "execution_count": 104,
   "metadata": {},
   "outputs": [
    {
     "data": {
      "text/plain": [
       "mainscreenappear           117328\n",
       "offersscreenappear          46333\n",
       "cartscreenappear            42303\n",
       "paymentscreensuccessful     33918\n",
       "tutorial                     1005\n",
       "Name: event_name, dtype: int64"
      ]
     },
     "execution_count": 104,
     "metadata": {},
     "output_type": "execute_result"
    }
   ],
   "source": [
    "logs_new['event_name'].value_counts()"
   ]
  },
  {
   "cell_type": "markdown",
   "metadata": {},
   "source": [
    "Чаще всего происходит событие 'mainscreenappear' - показ пользователю главного экрана. Реже всего пользователи открывают туториал в приложении, колличество события 'tutorial' сильно ниже, чемм все остальные."
   ]
  },
  {
   "cell_type": "markdown",
   "metadata": {},
   "source": [
    "###  <a name=\"task_10\"></a> 2. Посчитайте, сколько пользователей совершали каждое из этих событий. Отсортируйте события по числу пользователей."
   ]
  },
  {
   "cell_type": "code",
   "execution_count": 105,
   "metadata": {},
   "outputs": [
    {
     "data": {
      "text/html": [
       "<div>\n",
       "<style scoped>\n",
       "    .dataframe tbody tr th:only-of-type {\n",
       "        vertical-align: middle;\n",
       "    }\n",
       "\n",
       "    .dataframe tbody tr th {\n",
       "        vertical-align: top;\n",
       "    }\n",
       "\n",
       "    .dataframe thead th {\n",
       "        text-align: right;\n",
       "    }\n",
       "</style>\n",
       "<table border=\"1\" class=\"dataframe\">\n",
       "  <thead>\n",
       "    <tr style=\"text-align: right;\">\n",
       "      <th></th>\n",
       "      <th>device_id_hash</th>\n",
       "    </tr>\n",
       "    <tr>\n",
       "      <th>event_name</th>\n",
       "      <th></th>\n",
       "    </tr>\n",
       "  </thead>\n",
       "  <tbody>\n",
       "    <tr>\n",
       "      <th>mainscreenappear</th>\n",
       "      <td>7419</td>\n",
       "    </tr>\n",
       "    <tr>\n",
       "      <th>offersscreenappear</th>\n",
       "      <td>4593</td>\n",
       "    </tr>\n",
       "    <tr>\n",
       "      <th>cartscreenappear</th>\n",
       "      <td>3734</td>\n",
       "    </tr>\n",
       "    <tr>\n",
       "      <th>paymentscreensuccessful</th>\n",
       "      <td>3539</td>\n",
       "    </tr>\n",
       "    <tr>\n",
       "      <th>tutorial</th>\n",
       "      <td>840</td>\n",
       "    </tr>\n",
       "  </tbody>\n",
       "</table>\n",
       "</div>"
      ],
      "text/plain": [
       "                         device_id_hash\n",
       "event_name                             \n",
       "mainscreenappear                   7419\n",
       "offersscreenappear                 4593\n",
       "cartscreenappear                   3734\n",
       "paymentscreensuccessful            3539\n",
       "tutorial                            840"
      ]
     },
     "execution_count": 105,
     "metadata": {},
     "output_type": "execute_result"
    }
   ],
   "source": [
    "logs_pivot = logs_new.pivot_table(index = 'event_name', \n",
    "                                  values = 'device_id_hash', \n",
    "                                  aggfunc = 'nunique'\n",
    "                                 ).sort_values(by = 'device_id_hash', \n",
    "                                               ascending = False)\n",
    "logs_pivot"
   ]
  },
  {
   "cell_type": "markdown",
   "metadata": {},
   "source": [
    "Больше всего уникальных пользователей открывли главный экран и меньше всего уникальных пользователей заходили в туториал. "
   ]
  },
  {
   "cell_type": "markdown",
   "metadata": {},
   "source": [
    "#### Посчитайте долю пользователей, которые хоть раз совершали событие."
   ]
  },
  {
   "cell_type": "code",
   "execution_count": 106,
   "metadata": {},
   "outputs": [
    {
     "data": {
      "text/html": [
       "<div>\n",
       "<style scoped>\n",
       "    .dataframe tbody tr th:only-of-type {\n",
       "        vertical-align: middle;\n",
       "    }\n",
       "\n",
       "    .dataframe tbody tr th {\n",
       "        vertical-align: top;\n",
       "    }\n",
       "\n",
       "    .dataframe thead th {\n",
       "        text-align: right;\n",
       "    }\n",
       "</style>\n",
       "<table border=\"1\" class=\"dataframe\">\n",
       "  <thead>\n",
       "    <tr style=\"text-align: right;\">\n",
       "      <th></th>\n",
       "      <th>device_id_hash</th>\n",
       "      <th>%</th>\n",
       "    </tr>\n",
       "    <tr>\n",
       "      <th>event_name</th>\n",
       "      <th></th>\n",
       "      <th></th>\n",
       "    </tr>\n",
       "  </thead>\n",
       "  <tbody>\n",
       "    <tr>\n",
       "      <th>mainscreenappear</th>\n",
       "      <td>7419</td>\n",
       "      <td>98.5</td>\n",
       "    </tr>\n",
       "    <tr>\n",
       "      <th>offersscreenappear</th>\n",
       "      <td>4593</td>\n",
       "      <td>61.0</td>\n",
       "    </tr>\n",
       "    <tr>\n",
       "      <th>cartscreenappear</th>\n",
       "      <td>3734</td>\n",
       "      <td>49.6</td>\n",
       "    </tr>\n",
       "    <tr>\n",
       "      <th>paymentscreensuccessful</th>\n",
       "      <td>3539</td>\n",
       "      <td>47.0</td>\n",
       "    </tr>\n",
       "    <tr>\n",
       "      <th>tutorial</th>\n",
       "      <td>840</td>\n",
       "      <td>11.1</td>\n",
       "    </tr>\n",
       "  </tbody>\n",
       "</table>\n",
       "</div>"
      ],
      "text/plain": [
       "                         device_id_hash     %\n",
       "event_name                                   \n",
       "mainscreenappear                   7419  98.5\n",
       "offersscreenappear                 4593  61.0\n",
       "cartscreenappear                   3734  49.6\n",
       "paymentscreensuccessful            3539  47.0\n",
       "tutorial                            840  11.1"
      ]
     },
     "execution_count": 106,
     "metadata": {},
     "output_type": "execute_result"
    }
   ],
   "source": [
    "logs_pivot['%'] = round(logs_pivot['device_id_hash'] / logs_new['device_id_hash'].nunique(), 3)*100\n",
    "logs_pivot"
   ]
  },
  {
   "cell_type": "markdown",
   "metadata": {},
   "source": [
    "98.5 пользователей открывали главный экран и только 11% заходило в туториал."
   ]
  },
  {
   "cell_type": "markdown",
   "metadata": {},
   "source": [
    "###  <a name=\"task_11\"></a> 3. Предположите, в каком порядке происходят события. Все ли они выстраиваются в последовательную цепочку? Их не нужно учитывать при расчёте воронки."
   ]
  },
  {
   "cell_type": "markdown",
   "metadata": {},
   "source": [
    "1. Пользователь заходит в приложение и видит главный экран;\n",
    "2. Пользователь заходит на экран покупок;\n",
    "3. Пользователь выбирает конкретного кота на экране покупок и переходит на отдельную страницу с доп информацией по этому конкретному коту;\n",
    "4. Пользователь оплачивает покупку.\n",
    "\n",
    "Дополнительным шагом может являться экран tutorial, в котором скорее всего пользователей учат работать с приложением, но этот экран не пользуется популярностью и из наших данных не совсем понятно, какой контент может быть на экране tutorial и в какой момент этот экран может использоваться.\n"
   ]
  },
  {
   "cell_type": "markdown",
   "metadata": {},
   "source": [
    "###  <a name=\"task_12\"></a>  4. По воронке событий посчитайте, какая доля пользователей проходит на следующий шаг воронки (от числа пользователей на предыдущем). "
   ]
  },
  {
   "cell_type": "markdown",
   "metadata": {},
   "source": [
    "То есть для последовательности событий A → B → C посчитайте отношение числа пользователей с событием B к количеству пользователей с событием A, а также отношение числа пользователей с событием C к количеству пользователей с событием B."
   ]
  },
  {
   "cell_type": "markdown",
   "metadata": {},
   "source": [
    "В начале - отбросим данные по tutorial, потому что они не занимают конкретного положения в цепочке и не так важны для нашего анализа."
   ]
  },
  {
   "cell_type": "code",
   "execution_count": 107,
   "metadata": {},
   "outputs": [
    {
     "data": {
      "text/html": [
       "<div>\n",
       "<style scoped>\n",
       "    .dataframe tbody tr th:only-of-type {\n",
       "        vertical-align: middle;\n",
       "    }\n",
       "\n",
       "    .dataframe tbody tr th {\n",
       "        vertical-align: top;\n",
       "    }\n",
       "\n",
       "    .dataframe thead th {\n",
       "        text-align: right;\n",
       "    }\n",
       "</style>\n",
       "<table border=\"1\" class=\"dataframe\">\n",
       "  <thead>\n",
       "    <tr style=\"text-align: right;\">\n",
       "      <th></th>\n",
       "      <th>device_id_hash</th>\n",
       "      <th>%</th>\n",
       "    </tr>\n",
       "    <tr>\n",
       "      <th>event_name</th>\n",
       "      <th></th>\n",
       "      <th></th>\n",
       "    </tr>\n",
       "  </thead>\n",
       "  <tbody>\n",
       "    <tr>\n",
       "      <th>mainscreenappear</th>\n",
       "      <td>7419</td>\n",
       "      <td>98.5</td>\n",
       "    </tr>\n",
       "    <tr>\n",
       "      <th>offersscreenappear</th>\n",
       "      <td>4593</td>\n",
       "      <td>61.0</td>\n",
       "    </tr>\n",
       "    <tr>\n",
       "      <th>cartscreenappear</th>\n",
       "      <td>3734</td>\n",
       "      <td>49.6</td>\n",
       "    </tr>\n",
       "    <tr>\n",
       "      <th>paymentscreensuccessful</th>\n",
       "      <td>3539</td>\n",
       "      <td>47.0</td>\n",
       "    </tr>\n",
       "  </tbody>\n",
       "</table>\n",
       "</div>"
      ],
      "text/plain": [
       "                         device_id_hash     %\n",
       "event_name                                   \n",
       "mainscreenappear                   7419  98.5\n",
       "offersscreenappear                 4593  61.0\n",
       "cartscreenappear                   3734  49.6\n",
       "paymentscreensuccessful            3539  47.0"
      ]
     },
     "execution_count": 107,
     "metadata": {},
     "output_type": "execute_result"
    }
   ],
   "source": [
    "logs_pivot.drop(['tutorial'], inplace=True)\n",
    "logs_pivot"
   ]
  },
  {
   "cell_type": "markdown",
   "metadata": {},
   "source": [
    "Посчитаем проценты пользователей на каждом шаге от предыдущего:"
   ]
  },
  {
   "cell_type": "code",
   "execution_count": 108,
   "metadata": {},
   "outputs": [
    {
     "data": {
      "text/html": [
       "<div>\n",
       "<style scoped>\n",
       "    .dataframe tbody tr th:only-of-type {\n",
       "        vertical-align: middle;\n",
       "    }\n",
       "\n",
       "    .dataframe tbody tr th {\n",
       "        vertical-align: top;\n",
       "    }\n",
       "\n",
       "    .dataframe thead th {\n",
       "        text-align: right;\n",
       "    }\n",
       "</style>\n",
       "<table border=\"1\" class=\"dataframe\">\n",
       "  <thead>\n",
       "    <tr style=\"text-align: right;\">\n",
       "      <th></th>\n",
       "      <th>device_id_hash</th>\n",
       "      <th>%</th>\n",
       "      <th>conversion</th>\n",
       "    </tr>\n",
       "    <tr>\n",
       "      <th>event_name</th>\n",
       "      <th></th>\n",
       "      <th></th>\n",
       "      <th></th>\n",
       "    </tr>\n",
       "  </thead>\n",
       "  <tbody>\n",
       "    <tr>\n",
       "      <th>mainscreenappear</th>\n",
       "      <td>7419</td>\n",
       "      <td>98.5</td>\n",
       "      <td>100.00</td>\n",
       "    </tr>\n",
       "    <tr>\n",
       "      <th>offersscreenappear</th>\n",
       "      <td>4593</td>\n",
       "      <td>61.0</td>\n",
       "      <td>61.91</td>\n",
       "    </tr>\n",
       "    <tr>\n",
       "      <th>cartscreenappear</th>\n",
       "      <td>3734</td>\n",
       "      <td>49.6</td>\n",
       "      <td>81.30</td>\n",
       "    </tr>\n",
       "    <tr>\n",
       "      <th>paymentscreensuccessful</th>\n",
       "      <td>3539</td>\n",
       "      <td>47.0</td>\n",
       "      <td>94.78</td>\n",
       "    </tr>\n",
       "  </tbody>\n",
       "</table>\n",
       "</div>"
      ],
      "text/plain": [
       "                         device_id_hash     %  conversion\n",
       "event_name                                               \n",
       "mainscreenappear                   7419  98.5      100.00\n",
       "offersscreenappear                 4593  61.0       61.91\n",
       "cartscreenappear                   3734  49.6       81.30\n",
       "paymentscreensuccessful            3539  47.0       94.78"
      ]
     },
     "execution_count": 108,
     "metadata": {},
     "output_type": "execute_result"
    }
   ],
   "source": [
    "logs_pivot['conversion'] = round((logs_pivot['device_id_hash'].pct_change().fillna(0)+1)*100, 2)\n",
    "logs_pivot"
   ]
  },
  {
   "cell_type": "markdown",
   "metadata": {},
   "source": [
    "**Построим воронку для того, чтобы более наглядно увидеть, на каких этапах сколько пользователей мы теряем.**"
   ]
  },
  {
   "cell_type": "code",
   "execution_count": 109,
   "metadata": {},
   "outputs": [
    {
     "data": {
      "application/vnd.plotly.v1+json": {
       "config": {
        "plotlyServerURL": "https://plot.ly"
       },
       "data": [
        {
         "hovertemplate": "number=%{x}<br>stage=%{y}<extra></extra>",
         "legendgroup": "",
         "marker": {
          "color": "#636efa"
         },
         "name": "",
         "orientation": "h",
         "showlegend": false,
         "type": "funnel",
         "x": [
          7419,
          4593,
          3734,
          3539
         ],
         "xaxis": "x",
         "y": [
          "mainscreenappear",
          "offersscreenappear",
          "cartscreenappear",
          "paymentscreensuccessful"
         ],
         "yaxis": "y"
        }
       ],
       "layout": {
        "legend": {
         "tracegroupgap": 0
        },
        "margin": {
         "t": 60
        },
        "template": {
         "data": {
          "bar": [
           {
            "error_x": {
             "color": "#2a3f5f"
            },
            "error_y": {
             "color": "#2a3f5f"
            },
            "marker": {
             "line": {
              "color": "#E5ECF6",
              "width": 0.5
             },
             "pattern": {
              "fillmode": "overlay",
              "size": 10,
              "solidity": 0.2
             }
            },
            "type": "bar"
           }
          ],
          "barpolar": [
           {
            "marker": {
             "line": {
              "color": "#E5ECF6",
              "width": 0.5
             },
             "pattern": {
              "fillmode": "overlay",
              "size": 10,
              "solidity": 0.2
             }
            },
            "type": "barpolar"
           }
          ],
          "carpet": [
           {
            "aaxis": {
             "endlinecolor": "#2a3f5f",
             "gridcolor": "white",
             "linecolor": "white",
             "minorgridcolor": "white",
             "startlinecolor": "#2a3f5f"
            },
            "baxis": {
             "endlinecolor": "#2a3f5f",
             "gridcolor": "white",
             "linecolor": "white",
             "minorgridcolor": "white",
             "startlinecolor": "#2a3f5f"
            },
            "type": "carpet"
           }
          ],
          "choropleth": [
           {
            "colorbar": {
             "outlinewidth": 0,
             "ticks": ""
            },
            "type": "choropleth"
           }
          ],
          "contour": [
           {
            "colorbar": {
             "outlinewidth": 0,
             "ticks": ""
            },
            "colorscale": [
             [
              0,
              "#0d0887"
             ],
             [
              0.1111111111111111,
              "#46039f"
             ],
             [
              0.2222222222222222,
              "#7201a8"
             ],
             [
              0.3333333333333333,
              "#9c179e"
             ],
             [
              0.4444444444444444,
              "#bd3786"
             ],
             [
              0.5555555555555556,
              "#d8576b"
             ],
             [
              0.6666666666666666,
              "#ed7953"
             ],
             [
              0.7777777777777778,
              "#fb9f3a"
             ],
             [
              0.8888888888888888,
              "#fdca26"
             ],
             [
              1,
              "#f0f921"
             ]
            ],
            "type": "contour"
           }
          ],
          "contourcarpet": [
           {
            "colorbar": {
             "outlinewidth": 0,
             "ticks": ""
            },
            "type": "contourcarpet"
           }
          ],
          "heatmap": [
           {
            "colorbar": {
             "outlinewidth": 0,
             "ticks": ""
            },
            "colorscale": [
             [
              0,
              "#0d0887"
             ],
             [
              0.1111111111111111,
              "#46039f"
             ],
             [
              0.2222222222222222,
              "#7201a8"
             ],
             [
              0.3333333333333333,
              "#9c179e"
             ],
             [
              0.4444444444444444,
              "#bd3786"
             ],
             [
              0.5555555555555556,
              "#d8576b"
             ],
             [
              0.6666666666666666,
              "#ed7953"
             ],
             [
              0.7777777777777778,
              "#fb9f3a"
             ],
             [
              0.8888888888888888,
              "#fdca26"
             ],
             [
              1,
              "#f0f921"
             ]
            ],
            "type": "heatmap"
           }
          ],
          "heatmapgl": [
           {
            "colorbar": {
             "outlinewidth": 0,
             "ticks": ""
            },
            "colorscale": [
             [
              0,
              "#0d0887"
             ],
             [
              0.1111111111111111,
              "#46039f"
             ],
             [
              0.2222222222222222,
              "#7201a8"
             ],
             [
              0.3333333333333333,
              "#9c179e"
             ],
             [
              0.4444444444444444,
              "#bd3786"
             ],
             [
              0.5555555555555556,
              "#d8576b"
             ],
             [
              0.6666666666666666,
              "#ed7953"
             ],
             [
              0.7777777777777778,
              "#fb9f3a"
             ],
             [
              0.8888888888888888,
              "#fdca26"
             ],
             [
              1,
              "#f0f921"
             ]
            ],
            "type": "heatmapgl"
           }
          ],
          "histogram": [
           {
            "marker": {
             "pattern": {
              "fillmode": "overlay",
              "size": 10,
              "solidity": 0.2
             }
            },
            "type": "histogram"
           }
          ],
          "histogram2d": [
           {
            "colorbar": {
             "outlinewidth": 0,
             "ticks": ""
            },
            "colorscale": [
             [
              0,
              "#0d0887"
             ],
             [
              0.1111111111111111,
              "#46039f"
             ],
             [
              0.2222222222222222,
              "#7201a8"
             ],
             [
              0.3333333333333333,
              "#9c179e"
             ],
             [
              0.4444444444444444,
              "#bd3786"
             ],
             [
              0.5555555555555556,
              "#d8576b"
             ],
             [
              0.6666666666666666,
              "#ed7953"
             ],
             [
              0.7777777777777778,
              "#fb9f3a"
             ],
             [
              0.8888888888888888,
              "#fdca26"
             ],
             [
              1,
              "#f0f921"
             ]
            ],
            "type": "histogram2d"
           }
          ],
          "histogram2dcontour": [
           {
            "colorbar": {
             "outlinewidth": 0,
             "ticks": ""
            },
            "colorscale": [
             [
              0,
              "#0d0887"
             ],
             [
              0.1111111111111111,
              "#46039f"
             ],
             [
              0.2222222222222222,
              "#7201a8"
             ],
             [
              0.3333333333333333,
              "#9c179e"
             ],
             [
              0.4444444444444444,
              "#bd3786"
             ],
             [
              0.5555555555555556,
              "#d8576b"
             ],
             [
              0.6666666666666666,
              "#ed7953"
             ],
             [
              0.7777777777777778,
              "#fb9f3a"
             ],
             [
              0.8888888888888888,
              "#fdca26"
             ],
             [
              1,
              "#f0f921"
             ]
            ],
            "type": "histogram2dcontour"
           }
          ],
          "mesh3d": [
           {
            "colorbar": {
             "outlinewidth": 0,
             "ticks": ""
            },
            "type": "mesh3d"
           }
          ],
          "parcoords": [
           {
            "line": {
             "colorbar": {
              "outlinewidth": 0,
              "ticks": ""
             }
            },
            "type": "parcoords"
           }
          ],
          "pie": [
           {
            "automargin": true,
            "type": "pie"
           }
          ],
          "scatter": [
           {
            "marker": {
             "colorbar": {
              "outlinewidth": 0,
              "ticks": ""
             }
            },
            "type": "scatter"
           }
          ],
          "scatter3d": [
           {
            "line": {
             "colorbar": {
              "outlinewidth": 0,
              "ticks": ""
             }
            },
            "marker": {
             "colorbar": {
              "outlinewidth": 0,
              "ticks": ""
             }
            },
            "type": "scatter3d"
           }
          ],
          "scattercarpet": [
           {
            "marker": {
             "colorbar": {
              "outlinewidth": 0,
              "ticks": ""
             }
            },
            "type": "scattercarpet"
           }
          ],
          "scattergeo": [
           {
            "marker": {
             "colorbar": {
              "outlinewidth": 0,
              "ticks": ""
             }
            },
            "type": "scattergeo"
           }
          ],
          "scattergl": [
           {
            "marker": {
             "colorbar": {
              "outlinewidth": 0,
              "ticks": ""
             }
            },
            "type": "scattergl"
           }
          ],
          "scattermapbox": [
           {
            "marker": {
             "colorbar": {
              "outlinewidth": 0,
              "ticks": ""
             }
            },
            "type": "scattermapbox"
           }
          ],
          "scatterpolar": [
           {
            "marker": {
             "colorbar": {
              "outlinewidth": 0,
              "ticks": ""
             }
            },
            "type": "scatterpolar"
           }
          ],
          "scatterpolargl": [
           {
            "marker": {
             "colorbar": {
              "outlinewidth": 0,
              "ticks": ""
             }
            },
            "type": "scatterpolargl"
           }
          ],
          "scatterternary": [
           {
            "marker": {
             "colorbar": {
              "outlinewidth": 0,
              "ticks": ""
             }
            },
            "type": "scatterternary"
           }
          ],
          "surface": [
           {
            "colorbar": {
             "outlinewidth": 0,
             "ticks": ""
            },
            "colorscale": [
             [
              0,
              "#0d0887"
             ],
             [
              0.1111111111111111,
              "#46039f"
             ],
             [
              0.2222222222222222,
              "#7201a8"
             ],
             [
              0.3333333333333333,
              "#9c179e"
             ],
             [
              0.4444444444444444,
              "#bd3786"
             ],
             [
              0.5555555555555556,
              "#d8576b"
             ],
             [
              0.6666666666666666,
              "#ed7953"
             ],
             [
              0.7777777777777778,
              "#fb9f3a"
             ],
             [
              0.8888888888888888,
              "#fdca26"
             ],
             [
              1,
              "#f0f921"
             ]
            ],
            "type": "surface"
           }
          ],
          "table": [
           {
            "cells": {
             "fill": {
              "color": "#EBF0F8"
             },
             "line": {
              "color": "white"
             }
            },
            "header": {
             "fill": {
              "color": "#C8D4E3"
             },
             "line": {
              "color": "white"
             }
            },
            "type": "table"
           }
          ]
         },
         "layout": {
          "annotationdefaults": {
           "arrowcolor": "#2a3f5f",
           "arrowhead": 0,
           "arrowwidth": 1
          },
          "autotypenumbers": "strict",
          "coloraxis": {
           "colorbar": {
            "outlinewidth": 0,
            "ticks": ""
           }
          },
          "colorscale": {
           "diverging": [
            [
             0,
             "#8e0152"
            ],
            [
             0.1,
             "#c51b7d"
            ],
            [
             0.2,
             "#de77ae"
            ],
            [
             0.3,
             "#f1b6da"
            ],
            [
             0.4,
             "#fde0ef"
            ],
            [
             0.5,
             "#f7f7f7"
            ],
            [
             0.6,
             "#e6f5d0"
            ],
            [
             0.7,
             "#b8e186"
            ],
            [
             0.8,
             "#7fbc41"
            ],
            [
             0.9,
             "#4d9221"
            ],
            [
             1,
             "#276419"
            ]
           ],
           "sequential": [
            [
             0,
             "#0d0887"
            ],
            [
             0.1111111111111111,
             "#46039f"
            ],
            [
             0.2222222222222222,
             "#7201a8"
            ],
            [
             0.3333333333333333,
             "#9c179e"
            ],
            [
             0.4444444444444444,
             "#bd3786"
            ],
            [
             0.5555555555555556,
             "#d8576b"
            ],
            [
             0.6666666666666666,
             "#ed7953"
            ],
            [
             0.7777777777777778,
             "#fb9f3a"
            ],
            [
             0.8888888888888888,
             "#fdca26"
            ],
            [
             1,
             "#f0f921"
            ]
           ],
           "sequentialminus": [
            [
             0,
             "#0d0887"
            ],
            [
             0.1111111111111111,
             "#46039f"
            ],
            [
             0.2222222222222222,
             "#7201a8"
            ],
            [
             0.3333333333333333,
             "#9c179e"
            ],
            [
             0.4444444444444444,
             "#bd3786"
            ],
            [
             0.5555555555555556,
             "#d8576b"
            ],
            [
             0.6666666666666666,
             "#ed7953"
            ],
            [
             0.7777777777777778,
             "#fb9f3a"
            ],
            [
             0.8888888888888888,
             "#fdca26"
            ],
            [
             1,
             "#f0f921"
            ]
           ]
          },
          "colorway": [
           "#636efa",
           "#EF553B",
           "#00cc96",
           "#ab63fa",
           "#FFA15A",
           "#19d3f3",
           "#FF6692",
           "#B6E880",
           "#FF97FF",
           "#FECB52"
          ],
          "font": {
           "color": "#2a3f5f"
          },
          "geo": {
           "bgcolor": "white",
           "lakecolor": "white",
           "landcolor": "#E5ECF6",
           "showlakes": true,
           "showland": true,
           "subunitcolor": "white"
          },
          "hoverlabel": {
           "align": "left"
          },
          "hovermode": "closest",
          "mapbox": {
           "style": "light"
          },
          "paper_bgcolor": "white",
          "plot_bgcolor": "#E5ECF6",
          "polar": {
           "angularaxis": {
            "gridcolor": "white",
            "linecolor": "white",
            "ticks": ""
           },
           "bgcolor": "#E5ECF6",
           "radialaxis": {
            "gridcolor": "white",
            "linecolor": "white",
            "ticks": ""
           }
          },
          "scene": {
           "xaxis": {
            "backgroundcolor": "#E5ECF6",
            "gridcolor": "white",
            "gridwidth": 2,
            "linecolor": "white",
            "showbackground": true,
            "ticks": "",
            "zerolinecolor": "white"
           },
           "yaxis": {
            "backgroundcolor": "#E5ECF6",
            "gridcolor": "white",
            "gridwidth": 2,
            "linecolor": "white",
            "showbackground": true,
            "ticks": "",
            "zerolinecolor": "white"
           },
           "zaxis": {
            "backgroundcolor": "#E5ECF6",
            "gridcolor": "white",
            "gridwidth": 2,
            "linecolor": "white",
            "showbackground": true,
            "ticks": "",
            "zerolinecolor": "white"
           }
          },
          "shapedefaults": {
           "line": {
            "color": "#2a3f5f"
           }
          },
          "ternary": {
           "aaxis": {
            "gridcolor": "white",
            "linecolor": "white",
            "ticks": ""
           },
           "baxis": {
            "gridcolor": "white",
            "linecolor": "white",
            "ticks": ""
           },
           "bgcolor": "#E5ECF6",
           "caxis": {
            "gridcolor": "white",
            "linecolor": "white",
            "ticks": ""
           }
          },
          "title": {
           "x": 0.05
          },
          "xaxis": {
           "automargin": true,
           "gridcolor": "white",
           "linecolor": "white",
           "ticks": "",
           "title": {
            "standoff": 15
           },
           "zerolinecolor": "white",
           "zerolinewidth": 2
          },
          "yaxis": {
           "automargin": true,
           "gridcolor": "white",
           "linecolor": "white",
           "ticks": "",
           "title": {
            "standoff": 15
           },
           "zerolinecolor": "white",
           "zerolinewidth": 2
          }
         }
        },
        "xaxis": {
         "anchor": "y",
         "domain": [
          0,
          1
         ],
         "title": {
          "text": "number"
         }
        },
        "yaxis": {
         "anchor": "x",
         "domain": [
          0,
          1
         ],
         "title": {
          "text": "stage"
         }
        }
       }
      },
      "text/html": [
       "<div>                            <div id=\"dfbf1abc-0b91-4c55-94a5-a7e27032d855\" class=\"plotly-graph-div\" style=\"height:525px; width:100%;\"></div>            <script type=\"text/javascript\">                require([\"plotly\"], function(Plotly) {                    window.PLOTLYENV=window.PLOTLYENV || {};                                    if (document.getElementById(\"dfbf1abc-0b91-4c55-94a5-a7e27032d855\")) {                    Plotly.newPlot(                        \"dfbf1abc-0b91-4c55-94a5-a7e27032d855\",                        [{\"hovertemplate\":\"number=%{x}<br>stage=%{y}<extra></extra>\",\"legendgroup\":\"\",\"marker\":{\"color\":\"#636efa\"},\"name\":\"\",\"orientation\":\"h\",\"showlegend\":false,\"x\":[7419,4593,3734,3539],\"xaxis\":\"x\",\"y\":[\"mainscreenappear\",\"offersscreenappear\",\"cartscreenappear\",\"paymentscreensuccessful\"],\"yaxis\":\"y\",\"type\":\"funnel\"}],                        {\"template\":{\"data\":{\"bar\":[{\"error_x\":{\"color\":\"#2a3f5f\"},\"error_y\":{\"color\":\"#2a3f5f\"},\"marker\":{\"line\":{\"color\":\"#E5ECF6\",\"width\":0.5},\"pattern\":{\"fillmode\":\"overlay\",\"size\":10,\"solidity\":0.2}},\"type\":\"bar\"}],\"barpolar\":[{\"marker\":{\"line\":{\"color\":\"#E5ECF6\",\"width\":0.5},\"pattern\":{\"fillmode\":\"overlay\",\"size\":10,\"solidity\":0.2}},\"type\":\"barpolar\"}],\"carpet\":[{\"aaxis\":{\"endlinecolor\":\"#2a3f5f\",\"gridcolor\":\"white\",\"linecolor\":\"white\",\"minorgridcolor\":\"white\",\"startlinecolor\":\"#2a3f5f\"},\"baxis\":{\"endlinecolor\":\"#2a3f5f\",\"gridcolor\":\"white\",\"linecolor\":\"white\",\"minorgridcolor\":\"white\",\"startlinecolor\":\"#2a3f5f\"},\"type\":\"carpet\"}],\"choropleth\":[{\"colorbar\":{\"outlinewidth\":0,\"ticks\":\"\"},\"type\":\"choropleth\"}],\"contour\":[{\"colorbar\":{\"outlinewidth\":0,\"ticks\":\"\"},\"colorscale\":[[0.0,\"#0d0887\"],[0.1111111111111111,\"#46039f\"],[0.2222222222222222,\"#7201a8\"],[0.3333333333333333,\"#9c179e\"],[0.4444444444444444,\"#bd3786\"],[0.5555555555555556,\"#d8576b\"],[0.6666666666666666,\"#ed7953\"],[0.7777777777777778,\"#fb9f3a\"],[0.8888888888888888,\"#fdca26\"],[1.0,\"#f0f921\"]],\"type\":\"contour\"}],\"contourcarpet\":[{\"colorbar\":{\"outlinewidth\":0,\"ticks\":\"\"},\"type\":\"contourcarpet\"}],\"heatmap\":[{\"colorbar\":{\"outlinewidth\":0,\"ticks\":\"\"},\"colorscale\":[[0.0,\"#0d0887\"],[0.1111111111111111,\"#46039f\"],[0.2222222222222222,\"#7201a8\"],[0.3333333333333333,\"#9c179e\"],[0.4444444444444444,\"#bd3786\"],[0.5555555555555556,\"#d8576b\"],[0.6666666666666666,\"#ed7953\"],[0.7777777777777778,\"#fb9f3a\"],[0.8888888888888888,\"#fdca26\"],[1.0,\"#f0f921\"]],\"type\":\"heatmap\"}],\"heatmapgl\":[{\"colorbar\":{\"outlinewidth\":0,\"ticks\":\"\"},\"colorscale\":[[0.0,\"#0d0887\"],[0.1111111111111111,\"#46039f\"],[0.2222222222222222,\"#7201a8\"],[0.3333333333333333,\"#9c179e\"],[0.4444444444444444,\"#bd3786\"],[0.5555555555555556,\"#d8576b\"],[0.6666666666666666,\"#ed7953\"],[0.7777777777777778,\"#fb9f3a\"],[0.8888888888888888,\"#fdca26\"],[1.0,\"#f0f921\"]],\"type\":\"heatmapgl\"}],\"histogram\":[{\"marker\":{\"pattern\":{\"fillmode\":\"overlay\",\"size\":10,\"solidity\":0.2}},\"type\":\"histogram\"}],\"histogram2d\":[{\"colorbar\":{\"outlinewidth\":0,\"ticks\":\"\"},\"colorscale\":[[0.0,\"#0d0887\"],[0.1111111111111111,\"#46039f\"],[0.2222222222222222,\"#7201a8\"],[0.3333333333333333,\"#9c179e\"],[0.4444444444444444,\"#bd3786\"],[0.5555555555555556,\"#d8576b\"],[0.6666666666666666,\"#ed7953\"],[0.7777777777777778,\"#fb9f3a\"],[0.8888888888888888,\"#fdca26\"],[1.0,\"#f0f921\"]],\"type\":\"histogram2d\"}],\"histogram2dcontour\":[{\"colorbar\":{\"outlinewidth\":0,\"ticks\":\"\"},\"colorscale\":[[0.0,\"#0d0887\"],[0.1111111111111111,\"#46039f\"],[0.2222222222222222,\"#7201a8\"],[0.3333333333333333,\"#9c179e\"],[0.4444444444444444,\"#bd3786\"],[0.5555555555555556,\"#d8576b\"],[0.6666666666666666,\"#ed7953\"],[0.7777777777777778,\"#fb9f3a\"],[0.8888888888888888,\"#fdca26\"],[1.0,\"#f0f921\"]],\"type\":\"histogram2dcontour\"}],\"mesh3d\":[{\"colorbar\":{\"outlinewidth\":0,\"ticks\":\"\"},\"type\":\"mesh3d\"}],\"parcoords\":[{\"line\":{\"colorbar\":{\"outlinewidth\":0,\"ticks\":\"\"}},\"type\":\"parcoords\"}],\"pie\":[{\"automargin\":true,\"type\":\"pie\"}],\"scatter\":[{\"marker\":{\"colorbar\":{\"outlinewidth\":0,\"ticks\":\"\"}},\"type\":\"scatter\"}],\"scatter3d\":[{\"line\":{\"colorbar\":{\"outlinewidth\":0,\"ticks\":\"\"}},\"marker\":{\"colorbar\":{\"outlinewidth\":0,\"ticks\":\"\"}},\"type\":\"scatter3d\"}],\"scattercarpet\":[{\"marker\":{\"colorbar\":{\"outlinewidth\":0,\"ticks\":\"\"}},\"type\":\"scattercarpet\"}],\"scattergeo\":[{\"marker\":{\"colorbar\":{\"outlinewidth\":0,\"ticks\":\"\"}},\"type\":\"scattergeo\"}],\"scattergl\":[{\"marker\":{\"colorbar\":{\"outlinewidth\":0,\"ticks\":\"\"}},\"type\":\"scattergl\"}],\"scattermapbox\":[{\"marker\":{\"colorbar\":{\"outlinewidth\":0,\"ticks\":\"\"}},\"type\":\"scattermapbox\"}],\"scatterpolar\":[{\"marker\":{\"colorbar\":{\"outlinewidth\":0,\"ticks\":\"\"}},\"type\":\"scatterpolar\"}],\"scatterpolargl\":[{\"marker\":{\"colorbar\":{\"outlinewidth\":0,\"ticks\":\"\"}},\"type\":\"scatterpolargl\"}],\"scatterternary\":[{\"marker\":{\"colorbar\":{\"outlinewidth\":0,\"ticks\":\"\"}},\"type\":\"scatterternary\"}],\"surface\":[{\"colorbar\":{\"outlinewidth\":0,\"ticks\":\"\"},\"colorscale\":[[0.0,\"#0d0887\"],[0.1111111111111111,\"#46039f\"],[0.2222222222222222,\"#7201a8\"],[0.3333333333333333,\"#9c179e\"],[0.4444444444444444,\"#bd3786\"],[0.5555555555555556,\"#d8576b\"],[0.6666666666666666,\"#ed7953\"],[0.7777777777777778,\"#fb9f3a\"],[0.8888888888888888,\"#fdca26\"],[1.0,\"#f0f921\"]],\"type\":\"surface\"}],\"table\":[{\"cells\":{\"fill\":{\"color\":\"#EBF0F8\"},\"line\":{\"color\":\"white\"}},\"header\":{\"fill\":{\"color\":\"#C8D4E3\"},\"line\":{\"color\":\"white\"}},\"type\":\"table\"}]},\"layout\":{\"annotationdefaults\":{\"arrowcolor\":\"#2a3f5f\",\"arrowhead\":0,\"arrowwidth\":1},\"autotypenumbers\":\"strict\",\"coloraxis\":{\"colorbar\":{\"outlinewidth\":0,\"ticks\":\"\"}},\"colorscale\":{\"diverging\":[[0,\"#8e0152\"],[0.1,\"#c51b7d\"],[0.2,\"#de77ae\"],[0.3,\"#f1b6da\"],[0.4,\"#fde0ef\"],[0.5,\"#f7f7f7\"],[0.6,\"#e6f5d0\"],[0.7,\"#b8e186\"],[0.8,\"#7fbc41\"],[0.9,\"#4d9221\"],[1,\"#276419\"]],\"sequential\":[[0.0,\"#0d0887\"],[0.1111111111111111,\"#46039f\"],[0.2222222222222222,\"#7201a8\"],[0.3333333333333333,\"#9c179e\"],[0.4444444444444444,\"#bd3786\"],[0.5555555555555556,\"#d8576b\"],[0.6666666666666666,\"#ed7953\"],[0.7777777777777778,\"#fb9f3a\"],[0.8888888888888888,\"#fdca26\"],[1.0,\"#f0f921\"]],\"sequentialminus\":[[0.0,\"#0d0887\"],[0.1111111111111111,\"#46039f\"],[0.2222222222222222,\"#7201a8\"],[0.3333333333333333,\"#9c179e\"],[0.4444444444444444,\"#bd3786\"],[0.5555555555555556,\"#d8576b\"],[0.6666666666666666,\"#ed7953\"],[0.7777777777777778,\"#fb9f3a\"],[0.8888888888888888,\"#fdca26\"],[1.0,\"#f0f921\"]]},\"colorway\":[\"#636efa\",\"#EF553B\",\"#00cc96\",\"#ab63fa\",\"#FFA15A\",\"#19d3f3\",\"#FF6692\",\"#B6E880\",\"#FF97FF\",\"#FECB52\"],\"font\":{\"color\":\"#2a3f5f\"},\"geo\":{\"bgcolor\":\"white\",\"lakecolor\":\"white\",\"landcolor\":\"#E5ECF6\",\"showlakes\":true,\"showland\":true,\"subunitcolor\":\"white\"},\"hoverlabel\":{\"align\":\"left\"},\"hovermode\":\"closest\",\"mapbox\":{\"style\":\"light\"},\"paper_bgcolor\":\"white\",\"plot_bgcolor\":\"#E5ECF6\",\"polar\":{\"angularaxis\":{\"gridcolor\":\"white\",\"linecolor\":\"white\",\"ticks\":\"\"},\"bgcolor\":\"#E5ECF6\",\"radialaxis\":{\"gridcolor\":\"white\",\"linecolor\":\"white\",\"ticks\":\"\"}},\"scene\":{\"xaxis\":{\"backgroundcolor\":\"#E5ECF6\",\"gridcolor\":\"white\",\"gridwidth\":2,\"linecolor\":\"white\",\"showbackground\":true,\"ticks\":\"\",\"zerolinecolor\":\"white\"},\"yaxis\":{\"backgroundcolor\":\"#E5ECF6\",\"gridcolor\":\"white\",\"gridwidth\":2,\"linecolor\":\"white\",\"showbackground\":true,\"ticks\":\"\",\"zerolinecolor\":\"white\"},\"zaxis\":{\"backgroundcolor\":\"#E5ECF6\",\"gridcolor\":\"white\",\"gridwidth\":2,\"linecolor\":\"white\",\"showbackground\":true,\"ticks\":\"\",\"zerolinecolor\":\"white\"}},\"shapedefaults\":{\"line\":{\"color\":\"#2a3f5f\"}},\"ternary\":{\"aaxis\":{\"gridcolor\":\"white\",\"linecolor\":\"white\",\"ticks\":\"\"},\"baxis\":{\"gridcolor\":\"white\",\"linecolor\":\"white\",\"ticks\":\"\"},\"bgcolor\":\"#E5ECF6\",\"caxis\":{\"gridcolor\":\"white\",\"linecolor\":\"white\",\"ticks\":\"\"}},\"title\":{\"x\":0.05},\"xaxis\":{\"automargin\":true,\"gridcolor\":\"white\",\"linecolor\":\"white\",\"ticks\":\"\",\"title\":{\"standoff\":15},\"zerolinecolor\":\"white\",\"zerolinewidth\":2},\"yaxis\":{\"automargin\":true,\"gridcolor\":\"white\",\"linecolor\":\"white\",\"ticks\":\"\",\"title\":{\"standoff\":15},\"zerolinecolor\":\"white\",\"zerolinewidth\":2}}},\"xaxis\":{\"anchor\":\"y\",\"domain\":[0.0,1.0],\"title\":{\"text\":\"number\"}},\"yaxis\":{\"anchor\":\"x\",\"domain\":[0.0,1.0],\"title\":{\"text\":\"stage\"}},\"legend\":{\"tracegroupgap\":0},\"margin\":{\"t\":60}},                        {\"responsive\": true}                    ).then(function(){\n",
       "                            \n",
       "var gd = document.getElementById('dfbf1abc-0b91-4c55-94a5-a7e27032d855');\n",
       "var x = new MutationObserver(function (mutations, observer) {{\n",
       "        var display = window.getComputedStyle(gd).display;\n",
       "        if (!display || display === 'none') {{\n",
       "            console.log([gd, 'removed!']);\n",
       "            Plotly.purge(gd);\n",
       "            observer.disconnect();\n",
       "        }}\n",
       "}});\n",
       "\n",
       "// Listen for the removal of the full notebook cells\n",
       "var notebookContainer = gd.closest('#notebook-container');\n",
       "if (notebookContainer) {{\n",
       "    x.observe(notebookContainer, {childList: true});\n",
       "}}\n",
       "\n",
       "// Listen for the clearing of the current output cell\n",
       "var outputEl = gd.closest('.output');\n",
       "if (outputEl) {{\n",
       "    x.observe(outputEl, {childList: true});\n",
       "}}\n",
       "\n",
       "                        })                };                });            </script>        </div>"
      ]
     },
     "metadata": {},
     "output_type": "display_data"
    }
   ],
   "source": [
    "import plotly.express as px\n",
    "data = dict(\n",
    "    number=logs_pivot['device_id_hash'],\n",
    "    stage=[\"mainscreenappear\", \"offersscreenappear\", \"cartscreenappear\", \"paymentscreensuccessful\"])\n",
    "fig = px.funnel(data, x='number', y='stage')\n",
    "fig.show()"
   ]
  },
  {
   "cell_type": "markdown",
   "metadata": {},
   "source": [
    "###  <a name=\"task_13\"></a> 5. На каком шаге теряете больше всего пользователей?"
   ]
  },
  {
   "cell_type": "markdown",
   "metadata": {},
   "source": [
    "Мы видим, что больше всего пользователей мы теряем в момент перехода с главного экрана на экран покупок. Если пользователей перешел на экран покупок, от вероятность, что в итоге он купит что-то уже очень большая."
   ]
  },
  {
   "cell_type": "markdown",
   "metadata": {},
   "source": [
    "### <a name=\"task_14\"></a>  6. Какая доля пользователей доходит от первого события до оплаты?"
   ]
  },
  {
   "cell_type": "markdown",
   "metadata": {},
   "source": [
    "Для того, чтобы узнать, сколько пользователей дойдет и выполнит последний шаг, нужно перемножить вероятноти прохождения всех шагов. В нашем случае вероятность, что пользователь пройдет с первого шага на второй шаг = 61.91% и тп."
   ]
  },
  {
   "cell_type": "code",
   "execution_count": 110,
   "metadata": {},
   "outputs": [
    {
     "name": "stdout",
     "output_type": "stream",
     "text": [
      "Доля пользователй от первого события до оплаты: 47.705 %\n"
     ]
    }
   ],
   "source": [
    "print('Доля пользователй от первого события до оплаты:', round(0.6191 * 0.813 * 0.9478 * 100, 3), '%')"
   ]
  },
  {
   "cell_type": "code",
   "execution_count": 111,
   "metadata": {},
   "outputs": [
    {
     "name": "stdout",
     "output_type": "stream",
     "text": [
      "Доля пользователй от первого события до оплаты: 47.705 %\n"
     ]
    }
   ],
   "source": [
    "print('Доля пользователй от первого события до оплаты:', round(logs_pivot['conversion']['offersscreenappear']/100 \n",
    "      * logs_pivot['conversion']['cartscreenappear']/100 \n",
    "      * logs_pivot['conversion']['paymentscreensuccessful']/100 \n",
    "      * 100, 3), '%')"
   ]
  },
  {
   "cell_type": "markdown",
   "metadata": {},
   "source": [
    "---"
   ]
  },
  {
   "cell_type": "markdown",
   "metadata": {},
   "source": [
    "##  <a name=\"step_5\"></a> Шаг 5. Изучите результаты эксперимента"
   ]
  },
  {
   "cell_type": "markdown",
   "metadata": {},
   "source": [
    "###  <a name=\"task_15\"></a>  1. Сколько пользователей в каждой экспериментальной группе?"
   ]
  },
  {
   "cell_type": "code",
   "execution_count": 112,
   "metadata": {},
   "outputs": [
    {
     "data": {
      "text/html": [
       "<div>\n",
       "<style scoped>\n",
       "    .dataframe tbody tr th:only-of-type {\n",
       "        vertical-align: middle;\n",
       "    }\n",
       "\n",
       "    .dataframe tbody tr th {\n",
       "        vertical-align: top;\n",
       "    }\n",
       "\n",
       "    .dataframe thead th {\n",
       "        text-align: right;\n",
       "    }\n",
       "</style>\n",
       "<table border=\"1\" class=\"dataframe\">\n",
       "  <thead>\n",
       "    <tr style=\"text-align: right;\">\n",
       "      <th></th>\n",
       "      <th>device_id_hash</th>\n",
       "    </tr>\n",
       "    <tr>\n",
       "      <th>exp_id</th>\n",
       "      <th></th>\n",
       "    </tr>\n",
       "  </thead>\n",
       "  <tbody>\n",
       "    <tr>\n",
       "      <th>246</th>\n",
       "      <td>2484</td>\n",
       "    </tr>\n",
       "    <tr>\n",
       "      <th>247</th>\n",
       "      <td>2513</td>\n",
       "    </tr>\n",
       "    <tr>\n",
       "      <th>248</th>\n",
       "      <td>2537</td>\n",
       "    </tr>\n",
       "  </tbody>\n",
       "</table>\n",
       "</div>"
      ],
      "text/plain": [
       "        device_id_hash\n",
       "exp_id                \n",
       "246               2484\n",
       "247               2513\n",
       "248               2537"
      ]
     },
     "execution_count": 112,
     "metadata": {},
     "output_type": "execute_result"
    }
   ],
   "source": [
    "logs_pivot_groupes = logs_new.pivot_table(index = 'exp_id', values = 'device_id_hash', aggfunc = 'nunique')\n",
    "logs_pivot_groupes"
   ]
  },
  {
   "cell_type": "markdown",
   "metadata": {},
   "source": [
    "###  <a name=\"task_16\"></a> 2. Есть 2 контрольные группы для А/А-эксперимента, чтобы проверить корректность всех механизмов и расчётов. Проверьте, находят ли статистические критерии разницу между выборками 246 и 247."
   ]
  },
  {
   "cell_type": "markdown",
   "metadata": {},
   "source": [
    "**Выберите самое популярное событие. Посчитайте число пользователей, совершивших это событие в каждой из контрольных групп. Посчитайте долю пользователей, совершивших это событие. Проверьте, будет ли отличие между группами статистически достоверным. Проделайте то же самое для всех других событий (удобно обернуть проверку в отдельную функцию). Можно ли сказать, что разбиение на группы работает корректно?**"
   ]
  },
  {
   "cell_type": "markdown",
   "metadata": {},
   "source": [
    "Посчитаем, сколько пользователей в разных группах по событиям и группам экперимена:"
   ]
  },
  {
   "cell_type": "code",
   "execution_count": 113,
   "metadata": {},
   "outputs": [
    {
     "data": {
      "text/html": [
       "<div>\n",
       "<style scoped>\n",
       "    .dataframe tbody tr th:only-of-type {\n",
       "        vertical-align: middle;\n",
       "    }\n",
       "\n",
       "    .dataframe tbody tr th {\n",
       "        vertical-align: top;\n",
       "    }\n",
       "\n",
       "    .dataframe thead th {\n",
       "        text-align: right;\n",
       "    }\n",
       "</style>\n",
       "<table border=\"1\" class=\"dataframe\">\n",
       "  <thead>\n",
       "    <tr style=\"text-align: right;\">\n",
       "      <th>event_name</th>\n",
       "      <th>exp_id</th>\n",
       "      <th>cartscreenappear</th>\n",
       "      <th>mainscreenappear</th>\n",
       "      <th>offersscreenappear</th>\n",
       "      <th>paymentscreensuccessful</th>\n",
       "    </tr>\n",
       "  </thead>\n",
       "  <tbody>\n",
       "    <tr>\n",
       "      <th>0</th>\n",
       "      <td>246</td>\n",
       "      <td>1266</td>\n",
       "      <td>2450</td>\n",
       "      <td>1542</td>\n",
       "      <td>1200</td>\n",
       "    </tr>\n",
       "    <tr>\n",
       "      <th>1</th>\n",
       "      <td>247</td>\n",
       "      <td>1238</td>\n",
       "      <td>2476</td>\n",
       "      <td>1520</td>\n",
       "      <td>1158</td>\n",
       "    </tr>\n",
       "    <tr>\n",
       "      <th>2</th>\n",
       "      <td>248</td>\n",
       "      <td>1230</td>\n",
       "      <td>2493</td>\n",
       "      <td>1531</td>\n",
       "      <td>1181</td>\n",
       "    </tr>\n",
       "  </tbody>\n",
       "</table>\n",
       "</div>"
      ],
      "text/plain": [
       "event_name  exp_id  cartscreenappear  mainscreenappear  offersscreenappear  \\\n",
       "0              246              1266              2450                1542   \n",
       "1              247              1238              2476                1520   \n",
       "2              248              1230              2493                1531   \n",
       "\n",
       "event_name  paymentscreensuccessful  \n",
       "0                              1200  \n",
       "1                              1158  \n",
       "2                              1181  "
      ]
     },
     "execution_count": 113,
     "metadata": {},
     "output_type": "execute_result"
    }
   ],
   "source": [
    "users_by_events = logs_new.pivot_table(index = 'exp_id',\n",
    "                                   columns = 'event_name',\n",
    "                                   values = 'device_id_hash',\n",
    "                                   aggfunc = 'nunique').reset_index()\n",
    "\n",
    "del users_by_events['tutorial']\n",
    "\n",
    "\n",
    "users_by_events"
   ]
  },
  {
   "cell_type": "markdown",
   "metadata": {},
   "source": [
    "**Добвим общее колличество пользователей в группах эксперимента:**"
   ]
  },
  {
   "cell_type": "code",
   "execution_count": 114,
   "metadata": {},
   "outputs": [
    {
     "data": {
      "text/html": [
       "<div>\n",
       "<style scoped>\n",
       "    .dataframe tbody tr th:only-of-type {\n",
       "        vertical-align: middle;\n",
       "    }\n",
       "\n",
       "    .dataframe tbody tr th {\n",
       "        vertical-align: top;\n",
       "    }\n",
       "\n",
       "    .dataframe thead th {\n",
       "        text-align: right;\n",
       "    }\n",
       "</style>\n",
       "<table border=\"1\" class=\"dataframe\">\n",
       "  <thead>\n",
       "    <tr style=\"text-align: right;\">\n",
       "      <th>event_name</th>\n",
       "      <th>cartscreenappear</th>\n",
       "      <th>mainscreenappear</th>\n",
       "      <th>offersscreenappear</th>\n",
       "      <th>paymentscreensuccessful</th>\n",
       "      <th>users_count</th>\n",
       "    </tr>\n",
       "    <tr>\n",
       "      <th>exp_id</th>\n",
       "      <th></th>\n",
       "      <th></th>\n",
       "      <th></th>\n",
       "      <th></th>\n",
       "      <th></th>\n",
       "    </tr>\n",
       "  </thead>\n",
       "  <tbody>\n",
       "    <tr>\n",
       "      <th>246</th>\n",
       "      <td>1266</td>\n",
       "      <td>2450</td>\n",
       "      <td>1542</td>\n",
       "      <td>1200</td>\n",
       "      <td>2484</td>\n",
       "    </tr>\n",
       "    <tr>\n",
       "      <th>247</th>\n",
       "      <td>1238</td>\n",
       "      <td>2476</td>\n",
       "      <td>1520</td>\n",
       "      <td>1158</td>\n",
       "      <td>2513</td>\n",
       "    </tr>\n",
       "    <tr>\n",
       "      <th>248</th>\n",
       "      <td>1230</td>\n",
       "      <td>2493</td>\n",
       "      <td>1531</td>\n",
       "      <td>1181</td>\n",
       "      <td>2537</td>\n",
       "    </tr>\n",
       "  </tbody>\n",
       "</table>\n",
       "</div>"
      ],
      "text/plain": [
       "event_name  cartscreenappear  mainscreenappear  offersscreenappear  \\\n",
       "exp_id                                                               \n",
       "246                     1266              2450                1542   \n",
       "247                     1238              2476                1520   \n",
       "248                     1230              2493                1531   \n",
       "\n",
       "event_name  paymentscreensuccessful  users_count  \n",
       "exp_id                                            \n",
       "246                            1200         2484  \n",
       "247                            1158         2513  \n",
       "248                            1181         2537  "
      ]
     },
     "execution_count": 114,
     "metadata": {},
     "output_type": "execute_result"
    }
   ],
   "source": [
    "users_count = logs_new.groupby('exp_id')['device_id_hash'].nunique()\n",
    "users_by_events['users_count'] = users_by_events['exp_id'].apply(lambda x: users_count.loc[x])\n",
    "users_by_events = users_by_events.set_index('exp_id')\n",
    "users_by_events"
   ]
  },
  {
   "cell_type": "markdown",
   "metadata": {},
   "source": [
    "**Напишим функцию для теста гипотезы по Z-критерию:**"
   ]
  },
  {
   "cell_type": "code",
   "execution_count": 115,
   "metadata": {},
   "outputs": [],
   "source": [
    "def hypoth_testing(success, trials, alpha):\n",
    "    \n",
    "    p1 = success[0] / trials[0]\n",
    "    p2 = success[1] / trials[1]\n",
    "    \n",
    "    p_combined = (success[0]+success[1]) / (trials[1]+trials[0])\n",
    "    \n",
    "    difference = p1 - p2\n",
    "    \n",
    "    z_value = difference / mth.sqrt(p_combined * (1-p_combined)*(1/trials[0] + 1/trials[1]))\n",
    "    \n",
    "    distr = st.norm(0,1)\n",
    "    \n",
    "    p_value = (1 - distr.cdf(abs(z_value))) * 2\n",
    "    \n",
    "    print('p-значение: ', p_value)\n",
    "    \n",
    "    if p_value < alpha:\n",
    "        print('Отвергаем нулевую гипотезу: между долями есть значимая разница')\n",
    "    \n",
    "    else:\n",
    "        print(\n",
    "        'Не получилось отвергнуть нулевую гипотезу, нет оснований считать доли разными')\n"
   ]
  },
  {
   "cell_type": "markdown",
   "metadata": {},
   "source": [
    "**Напишем функцию для автоматическойпроверки гипотез:**"
   ]
  },
  {
   "cell_type": "code",
   "execution_count": 116,
   "metadata": {},
   "outputs": [],
   "source": [
    "def auto_test (sample_A, sample_B, alpha):\n",
    "    \n",
    "    alpha_test = alpha\n",
    "    \n",
    "    count_users = ([users_by_events['users_count'][sample_A], \n",
    "                    users_by_events['users_count'][sample_B]])\n",
    "    \n",
    "    count_MainScreenAppear = ([users_by_events['mainscreenappear'][sample_A], \n",
    "                               users_by_events['mainscreenappear'][sample_B]])\n",
    "    \n",
    "    count_OffersScreenAppear = ([users_by_events['offersscreenappear'][sample_A], \n",
    "                                 users_by_events['offersscreenappear'][sample_B]])\n",
    "    \n",
    "    count_CartScreenAppear = ([users_by_events['cartscreenappear'][sample_A], \n",
    "                               users_by_events['cartscreenappear'][sample_B]])\n",
    "    \n",
    "    count_PaymentScreenSuccessful = ([users_by_events['paymentscreensuccessful'][sample_A], \n",
    "                                      users_by_events['paymentscreensuccessful'][sample_B]])\n",
    "    \n",
    "    print('Результаты теста по долям count_users и count_MainScreenAppear для групп')\n",
    "    hypoth_testing(count_MainScreenAppear, count_users, alpha_test)\n",
    "    print('')\n",
    "    \n",
    "    print('Результаты теста по долям count_OffersScreenAppear и count_users для групп')\n",
    "    hypoth_testing(count_OffersScreenAppear, count_users, alpha_test)\n",
    "    print('')\n",
    "    \n",
    "    print('Результаты теста по долям count_users и count_CartScreenAppear для групп')\n",
    "    hypoth_testing(count_CartScreenAppear, count_users, alpha_test)\n",
    "    print('')\n",
    "    \n",
    "    print('Результаты теста по долям count_PaymentScreenSuccessful и count_users для групп')\n",
    "    hypoth_testing(count_PaymentScreenSuccessful, count_users, alpha_test)"
   ]
  },
  {
   "cell_type": "markdown",
   "metadata": {},
   "source": [
    "**Запишем гипотезы:**"
   ]
  },
  {
   "cell_type": "markdown",
   "metadata": {},
   "source": [
    "Нулевая гипотеза: доли уникальных посетителей в экпериментальных группах 246 и 247, побывавших на этапе воронки, одинаковы.\n",
    "\n",
    "Альтенативная гипотеза: между долями уникальных посетителей в экпериментальных группах 246 и 247, побывавших на этапе воронки, есть значимая разница.\n",
    "\n",
    "Пусть альфа = 0.1"
   ]
  },
  {
   "cell_type": "code",
   "execution_count": 117,
   "metadata": {},
   "outputs": [
    {
     "name": "stdout",
     "output_type": "stream",
     "text": [
      "Результаты теста по долям count_users и count_MainScreenAppear для групп\n",
      "p-значение:  0.7570597232046099\n",
      "Не получилось отвергнуть нулевую гипотезу, нет оснований считать доли разными\n",
      "\n",
      "Результаты теста по долям count_OffersScreenAppear и count_users для групп\n",
      "p-значение:  0.2480954578522181\n",
      "Не получилось отвергнуть нулевую гипотезу, нет оснований считать доли разными\n",
      "\n",
      "Результаты теста по долям count_users и count_CartScreenAppear для групп\n",
      "p-значение:  0.22883372237997213\n",
      "Не получилось отвергнуть нулевую гипотезу, нет оснований считать доли разными\n",
      "\n",
      "Результаты теста по долям count_PaymentScreenSuccessful и count_users для групп\n",
      "p-значение:  0.11456679313141849\n",
      "Не получилось отвергнуть нулевую гипотезу, нет оснований считать доли разными\n"
     ]
    }
   ],
   "source": [
    "auto_test(246, 247, 0.1)"
   ]
  },
  {
   "cell_type": "markdown",
   "metadata": {},
   "source": [
    "Между выборками 246 и 247 нет статистической разницы по всем событиям в группах!"
   ]
  },
  {
   "cell_type": "markdown",
   "metadata": {},
   "source": [
    "###  <a name=\"task_17\"></a> 3. Аналогично поступите с группой с изменённым шрифтом."
   ]
  },
  {
   "cell_type": "markdown",
   "metadata": {},
   "source": [
    "**Сравните результаты с каждой из контрольных групп в отдельности по каждому событию. Сравните результаты с объединённой контрольной группой. Какие выводы из эксперимента можно сделать?**"
   ]
  },
  {
   "cell_type": "markdown",
   "metadata": {},
   "source": [
    "#### 1. Сравним результаты в группе 248 с результатами группы 246:"
   ]
  },
  {
   "cell_type": "markdown",
   "metadata": {},
   "source": [
    "Нулевая гипотеза: доли уникальных посетителей в экпериментальных группах 246 и 248, побывавших на этапе воронки, одинаковы.\n",
    "\n",
    "Альтенативная гипотеза: между долями уникальных посетителей в экпериментальных группах 246 и 248, побывавших на этапе воронки, есть значимая разница.\n",
    "\n",
    "Пусть альфа = 0.1"
   ]
  },
  {
   "cell_type": "code",
   "execution_count": 118,
   "metadata": {},
   "outputs": [
    {
     "name": "stdout",
     "output_type": "stream",
     "text": [
      "Результаты теста по долям count_users и count_MainScreenAppear для групп\n",
      "p-значение:  0.2949721933554552\n",
      "Не получилось отвергнуть нулевую гипотезу, нет оснований считать доли разными\n",
      "\n",
      "Результаты теста по долям count_OffersScreenAppear и count_users для групп\n",
      "p-значение:  0.20836205402738917\n",
      "Не получилось отвергнуть нулевую гипотезу, нет оснований считать доли разными\n",
      "\n",
      "Результаты теста по долям count_users и count_CartScreenAppear для групп\n",
      "p-значение:  0.07842923237520116\n",
      "Отвергаем нулевую гипотезу: между долями есть значимая разница\n",
      "\n",
      "Результаты теста по долям count_PaymentScreenSuccessful и count_users для групп\n",
      "p-значение:  0.2122553275697796\n",
      "Не получилось отвергнуть нулевую гипотезу, нет оснований считать доли разными\n"
     ]
    }
   ],
   "source": [
    "auto_test(246, 248, 0.1)"
   ]
  },
  {
   "cell_type": "markdown",
   "metadata": {},
   "source": [
    "В данном случае мы один раз отвергаем нулевую гипотезу => есть значимая разница:"
   ]
  },
  {
   "cell_type": "code",
   "execution_count": 119,
   "metadata": {},
   "outputs": [
    {
     "name": "stdout",
     "output_type": "stream",
     "text": [
      "В контрольной группе 246 50.4 % пользователей переходит к оплате\n",
      "В контрольной группе 248 48.9 % пользователей переходит к оплате\n"
     ]
    }
   ],
   "source": [
    "print('В контрольной группе 246', round(users_by_events['cartscreenappear'].iloc[0]/users_by_events['users_count'].iloc[1], 3)*100, '% пользователей переходит к оплате')\n",
    "print('В контрольной группе 248', round(users_by_events['cartscreenappear'].iloc[2]/users_by_events['users_count'].iloc[1], 3)*100, '% пользователей переходит к оплате')"
   ]
  },
  {
   "cell_type": "markdown",
   "metadata": {},
   "source": [
    "#### 2. Сравним результаты в группе 248 с результатами группы 247:"
   ]
  },
  {
   "cell_type": "markdown",
   "metadata": {},
   "source": [
    "Нулевая гипотеза: доли уникальных посетителей в экпериментальных группах 247 и 248, побывавших на этапе воронки, одинаковы.\n",
    "\n",
    "Альтенативная гипотеза: между долями уникальных посетителей в экпериментальных группах 247 и 248, побывавших на этапе воронки, есть значимая разница.\n",
    "\n",
    "Пусть альфа = 0.1"
   ]
  },
  {
   "cell_type": "code",
   "execution_count": 120,
   "metadata": {},
   "outputs": [
    {
     "name": "stdout",
     "output_type": "stream",
     "text": [
      "Результаты теста по долям count_users и count_MainScreenAppear для групп\n",
      "p-значение:  0.4587053616621515\n",
      "Не получилось отвергнуть нулевую гипотезу, нет оснований считать доли разными\n",
      "\n",
      "Результаты теста по долям count_OffersScreenAppear и count_users для групп\n",
      "p-значение:  0.9197817830592261\n",
      "Не получилось отвергнуть нулевую гипотезу, нет оснований считать доли разными\n",
      "\n",
      "Результаты теста по долям count_users и count_CartScreenAppear для групп\n",
      "p-значение:  0.5786197879539783\n",
      "Не получилось отвергнуть нулевую гипотезу, нет оснований считать доли разными\n",
      "\n",
      "Результаты теста по долям count_PaymentScreenSuccessful и count_users для групп\n",
      "p-значение:  0.7373415053803964\n",
      "Не получилось отвергнуть нулевую гипотезу, нет оснований считать доли разными\n"
     ]
    }
   ],
   "source": [
    "auto_test(247, 248, 0.1)"
   ]
  },
  {
   "cell_type": "markdown",
   "metadata": {},
   "source": [
    "Между выборками 247 и 248 нет статистической разницы по всем событиям в группах!"
   ]
  },
  {
   "cell_type": "markdown",
   "metadata": {},
   "source": [
    "#### 3. Объединим группы 246 и 247:"
   ]
  },
  {
   "cell_type": "code",
   "execution_count": 121,
   "metadata": {},
   "outputs": [
    {
     "data": {
      "text/html": [
       "<div>\n",
       "<style scoped>\n",
       "    .dataframe tbody tr th:only-of-type {\n",
       "        vertical-align: middle;\n",
       "    }\n",
       "\n",
       "    .dataframe tbody tr th {\n",
       "        vertical-align: top;\n",
       "    }\n",
       "\n",
       "    .dataframe thead th {\n",
       "        text-align: right;\n",
       "    }\n",
       "</style>\n",
       "<table border=\"1\" class=\"dataframe\">\n",
       "  <thead>\n",
       "    <tr style=\"text-align: right;\">\n",
       "      <th>event_name</th>\n",
       "      <th>cartscreenappear</th>\n",
       "      <th>mainscreenappear</th>\n",
       "      <th>offersscreenappear</th>\n",
       "      <th>paymentscreensuccessful</th>\n",
       "      <th>users_count</th>\n",
       "    </tr>\n",
       "    <tr>\n",
       "      <th>exp_id</th>\n",
       "      <th></th>\n",
       "      <th></th>\n",
       "      <th></th>\n",
       "      <th></th>\n",
       "      <th></th>\n",
       "    </tr>\n",
       "  </thead>\n",
       "  <tbody>\n",
       "    <tr>\n",
       "      <th>246</th>\n",
       "      <td>1266</td>\n",
       "      <td>2450</td>\n",
       "      <td>1542</td>\n",
       "      <td>1200</td>\n",
       "      <td>2484</td>\n",
       "    </tr>\n",
       "    <tr>\n",
       "      <th>247</th>\n",
       "      <td>1238</td>\n",
       "      <td>2476</td>\n",
       "      <td>1520</td>\n",
       "      <td>1158</td>\n",
       "      <td>2513</td>\n",
       "    </tr>\n",
       "    <tr>\n",
       "      <th>248</th>\n",
       "      <td>1230</td>\n",
       "      <td>2493</td>\n",
       "      <td>1531</td>\n",
       "      <td>1181</td>\n",
       "      <td>2537</td>\n",
       "    </tr>\n",
       "  </tbody>\n",
       "</table>\n",
       "</div>"
      ],
      "text/plain": [
       "event_name  cartscreenappear  mainscreenappear  offersscreenappear  \\\n",
       "exp_id                                                               \n",
       "246                     1266              2450                1542   \n",
       "247                     1238              2476                1520   \n",
       "248                     1230              2493                1531   \n",
       "\n",
       "event_name  paymentscreensuccessful  users_count  \n",
       "exp_id                                            \n",
       "246                            1200         2484  \n",
       "247                            1158         2513  \n",
       "248                            1181         2537  "
      ]
     },
     "execution_count": 121,
     "metadata": {},
     "output_type": "execute_result"
    }
   ],
   "source": [
    "users_by_events"
   ]
  },
  {
   "cell_type": "code",
   "execution_count": 122,
   "metadata": {},
   "outputs": [
    {
     "data": {
      "text/html": [
       "<div>\n",
       "<style scoped>\n",
       "    .dataframe tbody tr th:only-of-type {\n",
       "        vertical-align: middle;\n",
       "    }\n",
       "\n",
       "    .dataframe tbody tr th {\n",
       "        vertical-align: top;\n",
       "    }\n",
       "\n",
       "    .dataframe thead th {\n",
       "        text-align: right;\n",
       "    }\n",
       "</style>\n",
       "<table border=\"1\" class=\"dataframe\">\n",
       "  <thead>\n",
       "    <tr style=\"text-align: right;\">\n",
       "      <th>event_name</th>\n",
       "      <th>cartscreenappear</th>\n",
       "      <th>mainscreenappear</th>\n",
       "      <th>offersscreenappear</th>\n",
       "      <th>paymentscreensuccessful</th>\n",
       "      <th>users_count</th>\n",
       "    </tr>\n",
       "    <tr>\n",
       "      <th>exp_id</th>\n",
       "      <th></th>\n",
       "      <th></th>\n",
       "      <th></th>\n",
       "      <th></th>\n",
       "      <th></th>\n",
       "    </tr>\n",
       "  </thead>\n",
       "  <tbody>\n",
       "    <tr>\n",
       "      <th>246</th>\n",
       "      <td>1266</td>\n",
       "      <td>2450</td>\n",
       "      <td>1542</td>\n",
       "      <td>1200</td>\n",
       "      <td>2484</td>\n",
       "    </tr>\n",
       "    <tr>\n",
       "      <th>247</th>\n",
       "      <td>1238</td>\n",
       "      <td>2476</td>\n",
       "      <td>1520</td>\n",
       "      <td>1158</td>\n",
       "      <td>2513</td>\n",
       "    </tr>\n",
       "    <tr>\n",
       "      <th>248</th>\n",
       "      <td>1230</td>\n",
       "      <td>2493</td>\n",
       "      <td>1531</td>\n",
       "      <td>1181</td>\n",
       "      <td>2537</td>\n",
       "    </tr>\n",
       "    <tr>\n",
       "      <th>249</th>\n",
       "      <td>2504</td>\n",
       "      <td>4926</td>\n",
       "      <td>3062</td>\n",
       "      <td>2358</td>\n",
       "      <td>4997</td>\n",
       "    </tr>\n",
       "  </tbody>\n",
       "</table>\n",
       "</div>"
      ],
      "text/plain": [
       "event_name  cartscreenappear  mainscreenappear  offersscreenappear  \\\n",
       "exp_id                                                               \n",
       "246                     1266              2450                1542   \n",
       "247                     1238              2476                1520   \n",
       "248                     1230              2493                1531   \n",
       "249                     2504              4926                3062   \n",
       "\n",
       "event_name  paymentscreensuccessful  users_count  \n",
       "exp_id                                            \n",
       "246                            1200         2484  \n",
       "247                            1158         2513  \n",
       "248                            1181         2537  \n",
       "249                            2358         4997  "
      ]
     },
     "execution_count": 122,
     "metadata": {},
     "output_type": "execute_result"
    }
   ],
   "source": [
    "users_by_events.loc['249'] = [users_by_events['cartscreenappear'][246] + users_by_events['cartscreenappear'][247] ,\n",
    "                              users_by_events['mainscreenappear'][246] + users_by_events['mainscreenappear'][247],\n",
    "                              users_by_events['offersscreenappear'][246] + users_by_events['offersscreenappear'][247],\n",
    "                              users_by_events['paymentscreensuccessful'][246] + users_by_events['paymentscreensuccessful'][247],\n",
    "                              users_by_events['users_count'][246] + users_by_events['users_count'][247]]\n",
    "users_by_events"
   ]
  },
  {
   "cell_type": "code",
   "execution_count": 123,
   "metadata": {},
   "outputs": [
    {
     "data": {
      "text/plain": [
       "4997"
      ]
     },
     "execution_count": 123,
     "metadata": {},
     "output_type": "execute_result"
    }
   ],
   "source": [
    "users_by_events['users_count']['249'] #проверка"
   ]
  },
  {
   "cell_type": "markdown",
   "metadata": {},
   "source": [
    "#### 4. Сравним результаты в группе 248 с результатами группы 249:"
   ]
  },
  {
   "cell_type": "markdown",
   "metadata": {},
   "source": [
    "H0: доли в двух группах (группы 249 и 248) равны\n",
    "\n",
    "H1: доли в двух группах (группы 249 и 248) не равны\n",
    "\n",
    "Пусть альфа = 0.1"
   ]
  },
  {
   "cell_type": "code",
   "execution_count": 124,
   "metadata": {},
   "outputs": [
    {
     "name": "stdout",
     "output_type": "stream",
     "text": [
      "Результаты теста по долям count_users и count_MainScreenAppear для групп\n",
      "p-значение:  0.29424526837179577\n",
      "Не получилось отвергнуть нулевую гипотезу, нет оснований считать доли разными\n",
      "\n",
      "Результаты теста по долям count_OffersScreenAppear и count_users для групп\n",
      "p-значение:  0.43425549655188256\n",
      "Не получилось отвергнуть нулевую гипотезу, нет оснований считать доли разными\n",
      "\n",
      "Результаты теста по долям count_users и count_CartScreenAppear для групп\n",
      "p-значение:  0.18175875284404386\n",
      "Не получилось отвергнуть нулевую гипотезу, нет оснований считать доли разными\n",
      "\n",
      "Результаты теста по долям count_PaymentScreenSuccessful и count_users для групп\n",
      "p-значение:  0.6004294282308704\n",
      "Не получилось отвергнуть нулевую гипотезу, нет оснований считать доли разными\n"
     ]
    }
   ],
   "source": [
    "auto_test('249', 248, 0.1)"
   ]
  },
  {
   "cell_type": "markdown",
   "metadata": {},
   "source": [
    "Между выборками 249 и 248 нет статистической разницы по всем событиям в группах!"
   ]
  },
  {
   "cell_type": "markdown",
   "metadata": {},
   "source": [
    "###  <a name=\"task_18\"></a>  4. Какой уровень значимости вы выбрали при проверке статистических гипотез выше?"
   ]
  },
  {
   "cell_type": "markdown",
   "metadata": {},
   "source": [
    "**Посчитайте, сколько проверок статистических гипотез вы сделали. При уровне значимости 0.1 каждый десятый раз можно получать ложный результат. Какой уровень значимости стоит применить? Если вы хотите изменить его, проделайте предыдущие пункты и проверьте свои выводы.**"
   ]
  },
  {
   "cell_type": "markdown",
   "metadata": {},
   "source": [
    "Изначально для точности мы выбирали уровень значимости альфа = 0.1\n",
    "\n",
    "Давайте проверим наши гипотезы на уровне значимости альфа = 0.05"
   ]
  },
  {
   "cell_type": "markdown",
   "metadata": {},
   "source": [
    "Нулевая гипотеза: доли уникальных посетителей в экпериментальных группах 246 и 247 , побывавших на этапе воронки, одинаковы.\n",
    "\n",
    "Альтенативная гипотеза: между долями уникальных посетителей в экпериментальных группах 246 и 247, побывавших на этапе воронки, есть значимая разница.\n",
    "\n",
    "Пусть альфа = 0.05"
   ]
  },
  {
   "cell_type": "code",
   "execution_count": 125,
   "metadata": {
    "scrolled": true
   },
   "outputs": [
    {
     "name": "stdout",
     "output_type": "stream",
     "text": [
      "Результаты теста по долям count_users и count_MainScreenAppear для групп\n",
      "p-значение:  0.7570597232046099\n",
      "Не получилось отвергнуть нулевую гипотезу, нет оснований считать доли разными\n",
      "\n",
      "Результаты теста по долям count_OffersScreenAppear и count_users для групп\n",
      "p-значение:  0.2480954578522181\n",
      "Не получилось отвергнуть нулевую гипотезу, нет оснований считать доли разными\n",
      "\n",
      "Результаты теста по долям count_users и count_CartScreenAppear для групп\n",
      "p-значение:  0.22883372237997213\n",
      "Не получилось отвергнуть нулевую гипотезу, нет оснований считать доли разными\n",
      "\n",
      "Результаты теста по долям count_PaymentScreenSuccessful и count_users для групп\n",
      "p-значение:  0.11456679313141849\n",
      "Не получилось отвергнуть нулевую гипотезу, нет оснований считать доли разными\n"
     ]
    }
   ],
   "source": [
    "auto_test(246, 247, 0.05)"
   ]
  },
  {
   "cell_type": "markdown",
   "metadata": {},
   "source": [
    "Между выборками 246 и 247 нет статистической разницы по всем событиям в группах!"
   ]
  },
  {
   "cell_type": "markdown",
   "metadata": {},
   "source": [
    "Нулевая гипотеза: доли уникальных посетителей в экпериментальных группах 246 и 248, побывавших на этапе воронки, одинаковы.\n",
    "\n",
    "Альтенативная гипотеза: между долями уникальных посетителей в экпериментальных группах 246 и 248, побывавших на этапе воронки, есть значимая разница.\n",
    "\n",
    "Пусть альфа = 0.05"
   ]
  },
  {
   "cell_type": "code",
   "execution_count": 126,
   "metadata": {
    "scrolled": true
   },
   "outputs": [
    {
     "name": "stdout",
     "output_type": "stream",
     "text": [
      "Результаты теста по долям count_users и count_MainScreenAppear для групп\n",
      "p-значение:  0.2949721933554552\n",
      "Не получилось отвергнуть нулевую гипотезу, нет оснований считать доли разными\n",
      "\n",
      "Результаты теста по долям count_OffersScreenAppear и count_users для групп\n",
      "p-значение:  0.20836205402738917\n",
      "Не получилось отвергнуть нулевую гипотезу, нет оснований считать доли разными\n",
      "\n",
      "Результаты теста по долям count_users и count_CartScreenAppear для групп\n",
      "p-значение:  0.07842923237520116\n",
      "Не получилось отвергнуть нулевую гипотезу, нет оснований считать доли разными\n",
      "\n",
      "Результаты теста по долям count_PaymentScreenSuccessful и count_users для групп\n",
      "p-значение:  0.2122553275697796\n",
      "Не получилось отвергнуть нулевую гипотезу, нет оснований считать доли разными\n"
     ]
    }
   ],
   "source": [
    "auto_test(246, 248, 0.05)"
   ]
  },
  {
   "cell_type": "markdown",
   "metadata": {},
   "source": [
    "Между выборками 247 и 248 нет статистической разницы по всем событиям в группах!"
   ]
  },
  {
   "cell_type": "markdown",
   "metadata": {},
   "source": [
    "Нулевая гипотеза: доли уникальных посетителей в экпериментальных группах 247 и 248, побывавших на этапе воронки, одинаковы.\n",
    "\n",
    "Альтенативная гипотеза: между долями уникальных посетителей в экпериментальных группах 247 и 248, побывавших на этапе воронки, есть значимая разница.\n",
    "\n",
    "Пусть альфа = 0.05"
   ]
  },
  {
   "cell_type": "code",
   "execution_count": 127,
   "metadata": {
    "scrolled": true
   },
   "outputs": [
    {
     "name": "stdout",
     "output_type": "stream",
     "text": [
      "Результаты теста по долям count_users и count_MainScreenAppear для групп\n",
      "p-значение:  0.4587053616621515\n",
      "Не получилось отвергнуть нулевую гипотезу, нет оснований считать доли разными\n",
      "\n",
      "Результаты теста по долям count_OffersScreenAppear и count_users для групп\n",
      "p-значение:  0.9197817830592261\n",
      "Не получилось отвергнуть нулевую гипотезу, нет оснований считать доли разными\n",
      "\n",
      "Результаты теста по долям count_users и count_CartScreenAppear для групп\n",
      "p-значение:  0.5786197879539783\n",
      "Не получилось отвергнуть нулевую гипотезу, нет оснований считать доли разными\n",
      "\n",
      "Результаты теста по долям count_PaymentScreenSuccessful и count_users для групп\n",
      "p-значение:  0.7373415053803964\n",
      "Не получилось отвергнуть нулевую гипотезу, нет оснований считать доли разными\n"
     ]
    }
   ],
   "source": [
    "auto_test(247, 248, 0.05)"
   ]
  },
  {
   "cell_type": "markdown",
   "metadata": {},
   "source": [
    "Между выборками 247 и 248 нет статистической разницы по всем событиям в группах!"
   ]
  },
  {
   "cell_type": "markdown",
   "metadata": {},
   "source": [
    "Нулевая гипотеза: доли уникальных посетителей в экпериментальных группах 248 и 249, побывавших на этапе воронки, одинаковы.\n",
    "\n",
    "Альтенативная гипотеза: между долями уникальных посетителей в экпериментальных группах 248 и 249, побывавших на этапе воронки, есть значимая разница.\n",
    "\n",
    "Пусть альфа = 0.05"
   ]
  },
  {
   "cell_type": "code",
   "execution_count": 128,
   "metadata": {},
   "outputs": [
    {
     "name": "stdout",
     "output_type": "stream",
     "text": [
      "Результаты теста по долям count_users и count_MainScreenAppear для групп\n",
      "p-значение:  0.29424526837179577\n",
      "Не получилось отвергнуть нулевую гипотезу, нет оснований считать доли разными\n",
      "\n",
      "Результаты теста по долям count_OffersScreenAppear и count_users для групп\n",
      "p-значение:  0.43425549655188256\n",
      "Не получилось отвергнуть нулевую гипотезу, нет оснований считать доли разными\n",
      "\n",
      "Результаты теста по долям count_users и count_CartScreenAppear для групп\n",
      "p-значение:  0.18175875284404386\n",
      "Не получилось отвергнуть нулевую гипотезу, нет оснований считать доли разными\n",
      "\n",
      "Результаты теста по долям count_PaymentScreenSuccessful и count_users для групп\n",
      "p-значение:  0.6004294282308704\n",
      "Не получилось отвергнуть нулевую гипотезу, нет оснований считать доли разными\n"
     ]
    }
   ],
   "source": [
    "auto_test('249', 248, 0.05)"
   ]
  },
  {
   "cell_type": "markdown",
   "metadata": {},
   "source": [
    "Между выборками 248 и 249 нет статистической разницы по всем событиям в группах!"
   ]
  },
  {
   "cell_type": "markdown",
   "metadata": {},
   "source": [
    "При изменении уровня значимости на 0.05, нулевая гипотеза не отбрасывается ни при каких тестах. \n",
    "\n",
    "Доли во всех выборках равны. \n",
    "\n",
    "Различий между контрольными группами и тестовой нет."
   ]
  },
  {
   "cell_type": "markdown",
   "metadata": {},
   "source": [
    "После тестирования ряда гипотез мы поменяли уровень значимости уменьшив его с 0.1 до 0.05. Статистическая значимость уменьшилась, значит уменьшился критический регион, при попадании в который нулевую гипотезу отвергают.  Вероятность попасть в него стала меньше — уменьшилась вероятность ошибки первого рода. "
   ]
  },
  {
   "cell_type": "markdown",
   "metadata": {},
   "source": [
    "Мы проводим множественный тест, то есть мы берем большое количество выборок из одних и тех же данных. Один  из минусов множественного теста в том, что с каждой новой проверкой гипотезы у нас растет вероятность ошибки первого рода и даже уменьшив альфу для проверки гипотез, мы не можем гарантировать, что не допустим ошибку первого рода. Чтобы уменьшить вероятность ошибки первого рода мы должны корректировать p-value и только после этого сравнивать их с выбранными значениями альфа. Конкретно в нашем случае мы уже провели тесты гипотез без поправки и все равно не получили значимых статистических различий между группами ни в одном случае, так что нет необходимости делать поправку на p-value."
   ]
  },
  {
   "cell_type": "markdown",
   "metadata": {},
   "source": [
    "---"
   ]
  },
  {
   "cell_type": "markdown",
   "metadata": {},
   "source": [
    "##  <a name=\"task_conclusion\"></a>  Вывод:"
   ]
  },
  {
   "cell_type": "markdown",
   "metadata": {},
   "source": [
    "Мы не нашли статистически значимых различий между группами А, это значит, что пользователи в обеих группах выбраны и определены в группы случайным образом.\n",
    "\n",
    "Так же мы не нашли статистически значимых различий между граппами А и группой В. Это означает, что изменение шрифта на главной странице никак не повлияло на метрики конверсии.\n",
    "\n",
    "Между группами 246 и 248 есть значимая разница в доле пользователей, перешедших к корзине. У группы с измененными шрифтами процент перешедших к оплате 48% < 50% перешедших к оплате в первой контрольной группе. А вот при уровне статистической значимости 0.1, между второй контрольной группой (247) и группой с измененными шрифтами (248) значимых различий нет, так и нет разницы между тестовой группой и объединённой контрольной группой.\n",
    "\n",
    "При изменении уровня значимости на 0.05, нигде не наблюдается значимой разницы между тестовой группой и всеми контрольными группами.\n",
    "\n",
    "Для альфы 0.1 контрольная группа показала себя лучше тестовой для события перехода на страницу корзины. В остальных событиях значимой разницы между группами нет. При уменьшении альфа значительной разницы между группами нет ни для каких событий. Можно сделать вывод, что текст на сайте менять не нужно. В лучшем случае конверсия не изменится. А доля перешедших к корзине пользователей может упасть.\n"
   ]
  }
 ],
 "metadata": {
  "ExecuteTimeLog": [
   {
    "duration": 51,
    "start_time": "2023-01-06T04:51:53.332Z"
   },
   {
    "duration": 1387,
    "start_time": "2023-01-06T04:51:59.064Z"
   },
   {
    "duration": 101,
    "start_time": "2023-01-06T04:52:04.071Z"
   },
   {
    "duration": 864,
    "start_time": "2023-01-06T04:52:18.276Z"
   },
   {
    "duration": 69,
    "start_time": "2023-01-06T04:52:34.209Z"
   },
   {
    "duration": 79,
    "start_time": "2023-01-06T04:53:41.346Z"
   },
   {
    "duration": 73,
    "start_time": "2023-01-06T04:53:44.481Z"
   },
   {
    "duration": 4,
    "start_time": "2023-01-06T04:54:08.710Z"
   },
   {
    "duration": 77,
    "start_time": "2023-01-06T04:54:09.954Z"
   },
   {
    "duration": 317,
    "start_time": "2023-01-06T04:54:20.550Z"
   },
   {
    "duration": 167,
    "start_time": "2023-01-06T04:54:39.834Z"
   },
   {
    "duration": 3,
    "start_time": "2023-01-06T05:00:18.700Z"
   },
   {
    "duration": 11,
    "start_time": "2023-01-06T05:00:22.543Z"
   },
   {
    "duration": 3,
    "start_time": "2023-01-06T05:00:30.475Z"
   },
   {
    "duration": 14,
    "start_time": "2023-01-06T05:01:09.537Z"
   },
   {
    "duration": 37,
    "start_time": "2023-01-06T05:02:29.858Z"
   },
   {
    "duration": 12,
    "start_time": "2023-01-06T05:02:41.635Z"
   },
   {
    "duration": 10,
    "start_time": "2023-01-06T05:02:51.932Z"
   },
   {
    "duration": 36,
    "start_time": "2023-01-06T05:04:06.905Z"
   },
   {
    "duration": 11,
    "start_time": "2023-01-06T05:06:33.729Z"
   },
   {
    "duration": 78,
    "start_time": "2023-01-06T05:09:43.459Z"
   },
   {
    "duration": 68,
    "start_time": "2023-01-06T05:09:58.607Z"
   },
   {
    "duration": 15,
    "start_time": "2023-01-06T05:10:31.845Z"
   },
   {
    "duration": 16,
    "start_time": "2023-01-06T05:10:58.808Z"
   },
   {
    "duration": 26,
    "start_time": "2023-01-06T05:11:46.087Z"
   },
   {
    "duration": 8,
    "start_time": "2023-01-06T05:12:41.961Z"
   },
   {
    "duration": 7,
    "start_time": "2023-01-06T05:12:43.802Z"
   },
   {
    "duration": 8,
    "start_time": "2023-01-06T05:12:45.529Z"
   },
   {
    "duration": 1103,
    "start_time": "2023-01-06T05:15:42.247Z"
   },
   {
    "duration": 1150,
    "start_time": "2023-01-06T05:15:51.445Z"
   },
   {
    "duration": 19,
    "start_time": "2023-01-06T05:16:14.855Z"
   },
   {
    "duration": 19,
    "start_time": "2023-01-06T05:16:24.400Z"
   },
   {
    "duration": 1097,
    "start_time": "2023-01-06T05:16:33.454Z"
   },
   {
    "duration": 178,
    "start_time": "2023-01-06T05:16:46.249Z"
   },
   {
    "duration": 56,
    "start_time": "2023-01-06T05:16:54.172Z"
   },
   {
    "duration": 34,
    "start_time": "2023-01-06T05:17:11.488Z"
   },
   {
    "duration": 10,
    "start_time": "2023-01-06T05:19:58.752Z"
   },
   {
    "duration": 71,
    "start_time": "2023-01-06T05:20:07.173Z"
   },
   {
    "duration": 79,
    "start_time": "2023-01-06T05:20:13.587Z"
   },
   {
    "duration": 17,
    "start_time": "2023-01-06T05:20:19.108Z"
   },
   {
    "duration": 88,
    "start_time": "2023-01-06T05:20:22.152Z"
   },
   {
    "duration": 106,
    "start_time": "2023-01-06T05:21:32.987Z"
   },
   {
    "duration": 156,
    "start_time": "2023-01-06T05:22:09.190Z"
   },
   {
    "duration": 223,
    "start_time": "2023-01-06T05:22:16.850Z"
   },
   {
    "duration": 3,
    "start_time": "2023-01-06T05:22:48.173Z"
   },
   {
    "duration": 174,
    "start_time": "2023-01-06T05:22:48.179Z"
   },
   {
    "duration": 12,
    "start_time": "2023-01-06T05:22:48.355Z"
   },
   {
    "duration": 98,
    "start_time": "2023-01-06T05:22:48.369Z"
   },
   {
    "duration": 19,
    "start_time": "2023-01-06T05:22:48.469Z"
   },
   {
    "duration": 17,
    "start_time": "2023-01-06T05:22:48.490Z"
   },
   {
    "duration": 7,
    "start_time": "2023-01-06T05:22:48.509Z"
   },
   {
    "duration": 35,
    "start_time": "2023-01-06T05:22:48.517Z"
   },
   {
    "duration": 7,
    "start_time": "2023-01-06T05:22:48.554Z"
   },
   {
    "duration": 55,
    "start_time": "2023-01-06T05:22:48.563Z"
   },
   {
    "duration": 133,
    "start_time": "2023-01-06T05:22:48.621Z"
   },
   {
    "duration": 14,
    "start_time": "2023-01-06T05:22:48.755Z"
   },
   {
    "duration": 92,
    "start_time": "2023-01-06T05:22:48.770Z"
   },
   {
    "duration": 80,
    "start_time": "2023-01-06T05:23:02.211Z"
   },
   {
    "duration": 4,
    "start_time": "2023-01-06T05:24:44.921Z"
   },
   {
    "duration": 5,
    "start_time": "2023-01-06T05:24:52.778Z"
   },
   {
    "duration": 208,
    "start_time": "2023-01-06T05:24:52.785Z"
   },
   {
    "duration": 12,
    "start_time": "2023-01-06T05:24:52.995Z"
   },
   {
    "duration": 100,
    "start_time": "2023-01-06T05:24:53.008Z"
   },
   {
    "duration": 22,
    "start_time": "2023-01-06T05:24:53.110Z"
   },
   {
    "duration": 50,
    "start_time": "2023-01-06T05:24:53.134Z"
   },
   {
    "duration": 18,
    "start_time": "2023-01-06T05:24:53.186Z"
   },
   {
    "duration": 17,
    "start_time": "2023-01-06T05:24:53.206Z"
   },
   {
    "duration": 14,
    "start_time": "2023-01-06T05:24:53.225Z"
   },
   {
    "duration": 86,
    "start_time": "2023-01-06T05:24:53.241Z"
   },
   {
    "duration": 140,
    "start_time": "2023-01-06T05:24:53.328Z"
   },
   {
    "duration": 14,
    "start_time": "2023-01-06T05:24:53.470Z"
   },
   {
    "duration": 86,
    "start_time": "2023-01-06T05:24:53.486Z"
   },
   {
    "duration": 3,
    "start_time": "2023-01-06T05:25:06.842Z"
   },
   {
    "duration": 91,
    "start_time": "2023-01-06T05:26:14.403Z"
   },
   {
    "duration": 21,
    "start_time": "2023-01-06T05:26:22.970Z"
   },
   {
    "duration": 44,
    "start_time": "2023-01-06T05:30:09.538Z"
   },
   {
    "duration": 10,
    "start_time": "2023-01-06T05:31:11.336Z"
   },
   {
    "duration": 8,
    "start_time": "2023-01-06T05:32:21.795Z"
   },
   {
    "duration": 7,
    "start_time": "2023-01-06T05:32:26.061Z"
   },
   {
    "duration": 12,
    "start_time": "2023-01-06T05:32:29.261Z"
   },
   {
    "duration": 5,
    "start_time": "2023-01-06T05:32:42.800Z"
   },
   {
    "duration": 56,
    "start_time": "2023-01-06T05:35:48.266Z"
   },
   {
    "duration": 54,
    "start_time": "2023-01-06T05:35:50.937Z"
   },
   {
    "duration": 1319,
    "start_time": "2023-01-06T05:36:05.812Z"
   },
   {
    "duration": 34,
    "start_time": "2023-01-06T05:36:12.200Z"
   },
   {
    "duration": 36,
    "start_time": "2023-01-06T05:36:36.461Z"
   },
   {
    "duration": 45,
    "start_time": "2023-01-06T05:36:49.775Z"
   },
   {
    "duration": 29,
    "start_time": "2023-01-06T06:04:52.335Z"
   },
   {
    "duration": 28,
    "start_time": "2023-01-06T06:05:09.050Z"
   },
   {
    "duration": 11,
    "start_time": "2023-01-06T06:07:33.598Z"
   },
   {
    "duration": 250,
    "start_time": "2023-01-06T06:07:38.463Z"
   },
   {
    "duration": 287,
    "start_time": "2023-01-06T06:07:43.997Z"
   },
   {
    "duration": 222,
    "start_time": "2023-01-06T06:07:50.692Z"
   },
   {
    "duration": 12,
    "start_time": "2023-01-06T06:08:05.268Z"
   },
   {
    "duration": 218,
    "start_time": "2023-01-06T06:08:10.965Z"
   },
   {
    "duration": 238,
    "start_time": "2023-01-06T06:08:47.526Z"
   },
   {
    "duration": 554,
    "start_time": "2023-01-06T06:09:37.875Z"
   },
   {
    "duration": 474,
    "start_time": "2023-01-06T06:09:58.600Z"
   },
   {
    "duration": 228,
    "start_time": "2023-01-06T06:10:51.989Z"
   },
   {
    "duration": 240,
    "start_time": "2023-01-06T06:11:29.586Z"
   },
   {
    "duration": 206,
    "start_time": "2023-01-06T06:15:43.517Z"
   },
   {
    "duration": 233,
    "start_time": "2023-01-06T06:16:00.767Z"
   },
   {
    "duration": 302,
    "start_time": "2023-01-06T06:16:03.703Z"
   },
   {
    "duration": 0,
    "start_time": "2023-01-06T06:16:56.739Z"
   },
   {
    "duration": 33467,
    "start_time": "2023-01-06T06:16:59.077Z"
   },
   {
    "duration": 12,
    "start_time": "2023-01-06T06:17:49.305Z"
   },
   {
    "duration": 11,
    "start_time": "2023-01-06T06:18:01.894Z"
   },
   {
    "duration": 162,
    "start_time": "2023-01-06T06:20:05.923Z"
   },
   {
    "duration": 44,
    "start_time": "2023-01-06T06:20:40.473Z"
   },
   {
    "duration": 62,
    "start_time": "2023-01-06T06:20:54.221Z"
   },
   {
    "duration": 49,
    "start_time": "2023-01-06T06:22:06.788Z"
   },
   {
    "duration": 245,
    "start_time": "2023-01-06T06:22:13.517Z"
   },
   {
    "duration": 244,
    "start_time": "2023-01-06T06:22:27.101Z"
   },
   {
    "duration": 245,
    "start_time": "2023-01-06T06:22:32.090Z"
   },
   {
    "duration": 254,
    "start_time": "2023-01-06T06:22:34.542Z"
   },
   {
    "duration": 238,
    "start_time": "2023-01-06T06:22:54.465Z"
   },
   {
    "duration": 51,
    "start_time": "2023-01-06T06:23:14.495Z"
   },
   {
    "duration": 9,
    "start_time": "2023-01-06T06:23:50.523Z"
   },
   {
    "duration": 9,
    "start_time": "2023-01-06T06:24:08.013Z"
   },
   {
    "duration": 5,
    "start_time": "2023-01-06T06:24:13.228Z"
   },
   {
    "duration": 9,
    "start_time": "2023-01-06T06:24:41.983Z"
   },
   {
    "duration": 5,
    "start_time": "2023-01-06T06:24:53.168Z"
   },
   {
    "duration": 17,
    "start_time": "2023-01-06T06:26:04.933Z"
   },
   {
    "duration": 13,
    "start_time": "2023-01-06T06:26:18.465Z"
   },
   {
    "duration": 44,
    "start_time": "2023-01-06T06:28:30.180Z"
   },
   {
    "duration": 44,
    "start_time": "2023-01-06T06:28:47.753Z"
   },
   {
    "duration": 74,
    "start_time": "2023-01-06T06:29:05.062Z"
   },
   {
    "duration": 74,
    "start_time": "2023-01-06T06:29:12.969Z"
   },
   {
    "duration": 49,
    "start_time": "2023-01-06T06:29:23.161Z"
   },
   {
    "duration": 15,
    "start_time": "2023-01-06T06:29:47.070Z"
   },
   {
    "duration": 3,
    "start_time": "2023-01-06T06:29:50.379Z"
   },
   {
    "duration": 226,
    "start_time": "2023-01-06T06:29:50.384Z"
   },
   {
    "duration": 15,
    "start_time": "2023-01-06T06:29:50.612Z"
   },
   {
    "duration": 129,
    "start_time": "2023-01-06T06:29:50.629Z"
   },
   {
    "duration": 25,
    "start_time": "2023-01-06T06:29:50.759Z"
   },
   {
    "duration": 28,
    "start_time": "2023-01-06T06:29:50.785Z"
   },
   {
    "duration": 19,
    "start_time": "2023-01-06T06:29:50.815Z"
   },
   {
    "duration": 37,
    "start_time": "2023-01-06T06:29:50.836Z"
   },
   {
    "duration": 22,
    "start_time": "2023-01-06T06:29:50.876Z"
   },
   {
    "duration": 94,
    "start_time": "2023-01-06T06:29:50.900Z"
   },
   {
    "duration": 158,
    "start_time": "2023-01-06T06:29:50.996Z"
   },
   {
    "duration": 25,
    "start_time": "2023-01-06T06:29:51.156Z"
   },
   {
    "duration": 88,
    "start_time": "2023-01-06T06:29:51.183Z"
   },
   {
    "duration": 41,
    "start_time": "2023-01-06T06:29:51.273Z"
   },
   {
    "duration": 27,
    "start_time": "2023-01-06T06:29:51.316Z"
   },
   {
    "duration": 90,
    "start_time": "2023-01-06T06:29:51.344Z"
   },
   {
    "duration": 26,
    "start_time": "2023-01-06T06:29:51.436Z"
   },
   {
    "duration": 41,
    "start_time": "2023-01-06T06:29:51.464Z"
   },
   {
    "duration": 33,
    "start_time": "2023-01-06T06:29:51.507Z"
   },
   {
    "duration": 14,
    "start_time": "2023-01-06T06:29:57.502Z"
   },
   {
    "duration": 56,
    "start_time": "2023-01-06T06:30:07.309Z"
   },
   {
    "duration": 235,
    "start_time": "2023-01-06T06:30:13.589Z"
   },
   {
    "duration": 215,
    "start_time": "2023-01-06T06:30:36.808Z"
   },
   {
    "duration": 242,
    "start_time": "2023-01-06T06:30:43.102Z"
   },
   {
    "duration": 211,
    "start_time": "2023-01-06T06:37:31.871Z"
   },
   {
    "duration": 43,
    "start_time": "2023-01-06T06:37:42.065Z"
   },
   {
    "duration": 41,
    "start_time": "2023-01-06T06:37:45.083Z"
   },
   {
    "duration": 62,
    "start_time": "2023-01-06T06:38:41.040Z"
   },
   {
    "duration": 55,
    "start_time": "2023-01-06T06:38:46.232Z"
   },
   {
    "duration": 44,
    "start_time": "2023-01-06T06:38:50.372Z"
   },
   {
    "duration": 43,
    "start_time": "2023-01-06T06:38:58.101Z"
   },
   {
    "duration": 260,
    "start_time": "2023-01-06T06:39:30.716Z"
   },
   {
    "duration": 220,
    "start_time": "2023-01-06T06:39:47.269Z"
   },
   {
    "duration": 222,
    "start_time": "2023-01-06T06:40:27.909Z"
   },
   {
    "duration": 210,
    "start_time": "2023-01-06T06:40:44.394Z"
   },
   {
    "duration": 80,
    "start_time": "2023-01-06T06:41:59.603Z"
   },
   {
    "duration": 61,
    "start_time": "2023-01-06T06:42:03.760Z"
   },
   {
    "duration": 58,
    "start_time": "2023-01-06T06:42:08.113Z"
   },
   {
    "duration": 46,
    "start_time": "2023-01-06T06:42:11.371Z"
   },
   {
    "duration": 14,
    "start_time": "2023-01-06T06:42:14.650Z"
   },
   {
    "duration": 228,
    "start_time": "2023-01-06T06:42:14.666Z"
   },
   {
    "duration": 11,
    "start_time": "2023-01-06T06:42:14.896Z"
   },
   {
    "duration": 112,
    "start_time": "2023-01-06T06:42:14.909Z"
   },
   {
    "duration": 23,
    "start_time": "2023-01-06T06:42:15.022Z"
   },
   {
    "duration": 47,
    "start_time": "2023-01-06T06:42:15.053Z"
   },
   {
    "duration": 8,
    "start_time": "2023-01-06T06:42:15.102Z"
   },
   {
    "duration": 8,
    "start_time": "2023-01-06T06:42:15.112Z"
   },
   {
    "duration": 10,
    "start_time": "2023-01-06T06:42:15.122Z"
   },
   {
    "duration": 79,
    "start_time": "2023-01-06T06:42:15.135Z"
   },
   {
    "duration": 183,
    "start_time": "2023-01-06T06:42:15.216Z"
   },
   {
    "duration": 15,
    "start_time": "2023-01-06T06:42:15.401Z"
   },
   {
    "duration": 107,
    "start_time": "2023-01-06T06:42:15.418Z"
   },
   {
    "duration": 57,
    "start_time": "2023-01-06T06:42:15.527Z"
   },
   {
    "duration": 7,
    "start_time": "2023-01-06T06:42:15.586Z"
   },
   {
    "duration": 94,
    "start_time": "2023-01-06T06:42:15.594Z"
   },
   {
    "duration": 24,
    "start_time": "2023-01-06T06:42:15.693Z"
   },
   {
    "duration": 21,
    "start_time": "2023-01-06T06:42:15.719Z"
   },
   {
    "duration": 30,
    "start_time": "2023-01-06T06:42:15.742Z"
   },
   {
    "duration": 59,
    "start_time": "2023-01-06T06:42:22.649Z"
   },
   {
    "duration": 63,
    "start_time": "2023-01-06T06:42:33.233Z"
   },
   {
    "duration": 59,
    "start_time": "2023-01-06T06:42:35.735Z"
   },
   {
    "duration": 60,
    "start_time": "2023-01-06T06:42:41.045Z"
   },
   {
    "duration": 59,
    "start_time": "2023-01-06T06:42:43.127Z"
   },
   {
    "duration": 49,
    "start_time": "2023-01-06T06:43:05.882Z"
   },
   {
    "duration": 87,
    "start_time": "2023-01-06T06:44:44.134Z"
   },
   {
    "duration": 260,
    "start_time": "2023-01-06T06:44:55.026Z"
   },
   {
    "duration": 10,
    "start_time": "2023-01-06T06:47:48.319Z"
   },
   {
    "duration": 501,
    "start_time": "2023-01-06T06:47:55.629Z"
   },
   {
    "duration": 210,
    "start_time": "2023-01-06T06:48:12.978Z"
   },
   {
    "duration": 6,
    "start_time": "2023-01-06T06:48:26.351Z"
   },
   {
    "duration": 195,
    "start_time": "2023-01-06T06:48:26.368Z"
   },
   {
    "duration": 12,
    "start_time": "2023-01-06T06:48:26.567Z"
   },
   {
    "duration": 91,
    "start_time": "2023-01-06T06:48:26.582Z"
   },
   {
    "duration": 22,
    "start_time": "2023-01-06T06:48:26.675Z"
   },
   {
    "duration": 18,
    "start_time": "2023-01-06T06:48:26.698Z"
   },
   {
    "duration": 8,
    "start_time": "2023-01-06T06:48:26.718Z"
   },
   {
    "duration": 11,
    "start_time": "2023-01-06T06:48:26.751Z"
   },
   {
    "duration": 16,
    "start_time": "2023-01-06T06:48:26.763Z"
   },
   {
    "duration": 77,
    "start_time": "2023-01-06T06:48:26.781Z"
   },
   {
    "duration": 132,
    "start_time": "2023-01-06T06:48:26.860Z"
   },
   {
    "duration": 15,
    "start_time": "2023-01-06T06:48:26.993Z"
   },
   {
    "duration": 97,
    "start_time": "2023-01-06T06:48:27.010Z"
   },
   {
    "duration": 59,
    "start_time": "2023-01-06T06:48:27.109Z"
   },
   {
    "duration": 8,
    "start_time": "2023-01-06T06:48:27.170Z"
   },
   {
    "duration": 56,
    "start_time": "2023-01-06T06:48:27.180Z"
   },
   {
    "duration": 40,
    "start_time": "2023-01-06T06:48:27.238Z"
   },
   {
    "duration": 19,
    "start_time": "2023-01-06T06:48:27.280Z"
   },
   {
    "duration": 209,
    "start_time": "2023-01-06T06:48:27.300Z"
   },
   {
    "duration": 196,
    "start_time": "2023-01-06T06:48:38.067Z"
   },
   {
    "duration": 59,
    "start_time": "2023-01-06T06:49:21.608Z"
   },
   {
    "duration": 10,
    "start_time": "2023-01-06T06:49:29.960Z"
   },
   {
    "duration": 57,
    "start_time": "2023-01-06T06:50:48.722Z"
   },
   {
    "duration": 39,
    "start_time": "2023-01-06T06:51:03.661Z"
   },
   {
    "duration": 39,
    "start_time": "2023-01-06T06:51:21.901Z"
   },
   {
    "duration": 66,
    "start_time": "2023-01-06T06:52:53.830Z"
   },
   {
    "duration": 50,
    "start_time": "2023-01-06T06:52:56.934Z"
   },
   {
    "duration": 60,
    "start_time": "2023-01-06T06:53:03.524Z"
   },
   {
    "duration": 39,
    "start_time": "2023-01-06T06:53:15.682Z"
   },
   {
    "duration": 61,
    "start_time": "2023-01-06T06:53:31.315Z"
   },
   {
    "duration": 195,
    "start_time": "2023-01-06T06:53:46.492Z"
   },
   {
    "duration": 13,
    "start_time": "2023-01-06T06:55:06.291Z"
   },
   {
    "duration": 97,
    "start_time": "2023-01-06T06:55:11.906Z"
   },
   {
    "duration": 1224,
    "start_time": "2023-01-06T06:55:55.604Z"
   },
   {
    "duration": 1411,
    "start_time": "2023-01-06T06:57:04.976Z"
   },
   {
    "duration": 1339,
    "start_time": "2023-01-06T06:57:32.823Z"
   },
   {
    "duration": 1315,
    "start_time": "2023-01-06T06:57:50.212Z"
   },
   {
    "duration": 43,
    "start_time": "2023-01-06T07:12:57.069Z"
   },
   {
    "duration": 460,
    "start_time": "2023-01-06T07:13:11.326Z"
   },
   {
    "duration": 568,
    "start_time": "2023-01-06T07:14:11.883Z"
   },
   {
    "duration": 247,
    "start_time": "2023-01-06T07:14:27.647Z"
   },
   {
    "duration": 46,
    "start_time": "2023-01-06T07:14:55.489Z"
   },
   {
    "duration": 88,
    "start_time": "2023-01-06T07:14:58.112Z"
   },
   {
    "duration": 52,
    "start_time": "2023-01-06T07:15:02.968Z"
   },
   {
    "duration": 1363,
    "start_time": "2023-01-06T07:15:11.569Z"
   },
   {
    "duration": 64,
    "start_time": "2023-01-06T07:16:41.938Z"
   },
   {
    "duration": 3,
    "start_time": "2023-01-06T07:17:00.410Z"
   },
   {
    "duration": 264,
    "start_time": "2023-01-06T07:17:00.416Z"
   },
   {
    "duration": 17,
    "start_time": "2023-01-06T07:17:00.683Z"
   },
   {
    "duration": 139,
    "start_time": "2023-01-06T07:17:00.702Z"
   },
   {
    "duration": 42,
    "start_time": "2023-01-06T07:17:00.843Z"
   },
   {
    "duration": 24,
    "start_time": "2023-01-06T07:17:00.887Z"
   },
   {
    "duration": 30,
    "start_time": "2023-01-06T07:17:00.913Z"
   },
   {
    "duration": 40,
    "start_time": "2023-01-06T07:17:00.945Z"
   },
   {
    "duration": 36,
    "start_time": "2023-01-06T07:17:00.987Z"
   },
   {
    "duration": 80,
    "start_time": "2023-01-06T07:17:01.025Z"
   },
   {
    "duration": 139,
    "start_time": "2023-01-06T07:17:01.108Z"
   },
   {
    "duration": 23,
    "start_time": "2023-01-06T07:17:01.249Z"
   },
   {
    "duration": 132,
    "start_time": "2023-01-06T07:17:01.274Z"
   },
   {
    "duration": 119,
    "start_time": "2023-01-06T07:17:01.408Z"
   },
   {
    "duration": 35,
    "start_time": "2023-01-06T07:17:01.529Z"
   },
   {
    "duration": 91,
    "start_time": "2023-01-06T07:17:01.567Z"
   },
   {
    "duration": 34,
    "start_time": "2023-01-06T07:17:01.660Z"
   },
   {
    "duration": 46,
    "start_time": "2023-01-06T07:17:01.696Z"
   },
   {
    "duration": 9,
    "start_time": "2023-01-06T07:17:03.069Z"
   },
   {
    "duration": 21,
    "start_time": "2023-01-06T07:17:09.626Z"
   },
   {
    "duration": 10,
    "start_time": "2023-01-06T07:17:47.385Z"
   },
   {
    "duration": 79,
    "start_time": "2023-01-06T07:17:57.146Z"
   },
   {
    "duration": 56,
    "start_time": "2023-01-06T07:24:08.061Z"
   },
   {
    "duration": 61,
    "start_time": "2023-01-06T07:24:14.535Z"
   },
   {
    "duration": 44,
    "start_time": "2023-01-06T07:25:05.768Z"
   },
   {
    "duration": 46,
    "start_time": "2023-01-06T07:25:18.502Z"
   },
   {
    "duration": 80,
    "start_time": "2023-01-06T07:26:42.692Z"
   },
   {
    "duration": 370,
    "start_time": "2023-01-06T07:27:09.212Z"
   },
   {
    "duration": 319,
    "start_time": "2023-01-06T07:27:14.616Z"
   },
   {
    "duration": 10,
    "start_time": "2023-01-06T07:28:26.983Z"
   },
   {
    "duration": 10,
    "start_time": "2023-01-06T07:28:39.476Z"
   },
   {
    "duration": 1320,
    "start_time": "2023-01-06T07:29:38.804Z"
   },
   {
    "duration": 86,
    "start_time": "2023-01-06T07:29:57.577Z"
   },
   {
    "duration": 1351,
    "start_time": "2023-01-06T07:30:37.381Z"
   },
   {
    "duration": 8,
    "start_time": "2023-01-06T07:31:02.186Z"
   },
   {
    "duration": 1362,
    "start_time": "2023-01-06T07:31:27.865Z"
   },
   {
    "duration": 12,
    "start_time": "2023-01-06T07:31:38.570Z"
   },
   {
    "duration": 418,
    "start_time": "2023-01-06T07:36:32.291Z"
   },
   {
    "duration": 371,
    "start_time": "2023-01-06T07:37:08.419Z"
   },
   {
    "duration": 15,
    "start_time": "2023-01-06T07:37:19.105Z"
   },
   {
    "duration": 319,
    "start_time": "2023-01-06T07:42:13.964Z"
   },
   {
    "duration": 98,
    "start_time": "2023-01-06T07:42:45.205Z"
   },
   {
    "duration": 329,
    "start_time": "2023-01-06T07:42:48.542Z"
   },
   {
    "duration": 58,
    "start_time": "2023-01-06T07:43:06.876Z"
   },
   {
    "duration": 68,
    "start_time": "2023-01-06T07:43:23.935Z"
   },
   {
    "duration": 4,
    "start_time": "2023-01-06T07:45:23.286Z"
   },
   {
    "duration": 191,
    "start_time": "2023-01-06T07:45:23.292Z"
   },
   {
    "duration": 14,
    "start_time": "2023-01-06T07:45:23.485Z"
   },
   {
    "duration": 141,
    "start_time": "2023-01-06T07:45:23.501Z"
   },
   {
    "duration": 30,
    "start_time": "2023-01-06T07:45:23.655Z"
   },
   {
    "duration": 25,
    "start_time": "2023-01-06T07:45:23.687Z"
   },
   {
    "duration": 11,
    "start_time": "2023-01-06T07:45:23.714Z"
   },
   {
    "duration": 42,
    "start_time": "2023-01-06T07:45:23.726Z"
   },
   {
    "duration": 8,
    "start_time": "2023-01-06T07:45:23.769Z"
   },
   {
    "duration": 59,
    "start_time": "2023-01-06T07:45:23.779Z"
   },
   {
    "duration": 144,
    "start_time": "2023-01-06T07:45:23.841Z"
   },
   {
    "duration": 17,
    "start_time": "2023-01-06T07:45:23.986Z"
   },
   {
    "duration": 100,
    "start_time": "2023-01-06T07:45:24.005Z"
   },
   {
    "duration": 34,
    "start_time": "2023-01-06T07:45:24.107Z"
   },
   {
    "duration": 26,
    "start_time": "2023-01-06T07:45:24.151Z"
   },
   {
    "duration": 59,
    "start_time": "2023-01-06T07:45:24.179Z"
   },
   {
    "duration": 41,
    "start_time": "2023-01-06T07:45:24.240Z"
   },
   {
    "duration": 32,
    "start_time": "2023-01-06T07:45:24.282Z"
   },
   {
    "duration": 300,
    "start_time": "2023-01-06T07:45:24.315Z"
   },
   {
    "duration": 76,
    "start_time": "2023-01-06T07:45:24.616Z"
   },
   {
    "duration": 29,
    "start_time": "2023-01-06T07:45:47.741Z"
   },
   {
    "duration": 14,
    "start_time": "2023-01-06T07:45:56.395Z"
   },
   {
    "duration": 34,
    "start_time": "2023-01-06T07:46:03.515Z"
   },
   {
    "duration": 30,
    "start_time": "2023-01-06T07:46:50.080Z"
   },
   {
    "duration": 68,
    "start_time": "2023-01-06T07:47:47.500Z"
   },
   {
    "duration": 65,
    "start_time": "2023-01-06T07:48:10.704Z"
   },
   {
    "duration": 56,
    "start_time": "2023-01-06T07:48:29.388Z"
   },
   {
    "duration": 18,
    "start_time": "2023-01-06T07:49:49.910Z"
   },
   {
    "duration": 10,
    "start_time": "2023-01-06T07:50:08.365Z"
   },
   {
    "duration": 165,
    "start_time": "2023-01-06T07:51:14.359Z"
   },
   {
    "duration": 11,
    "start_time": "2023-01-06T07:51:53.061Z"
   },
   {
    "duration": 20,
    "start_time": "2023-01-06T07:56:29.345Z"
   },
   {
    "duration": 10,
    "start_time": "2023-01-06T07:56:34.861Z"
   },
   {
    "duration": 29,
    "start_time": "2023-01-06T07:56:50.483Z"
   },
   {
    "duration": 9,
    "start_time": "2023-01-06T08:04:42.396Z"
   },
   {
    "duration": 83,
    "start_time": "2023-01-06T08:04:47.694Z"
   },
   {
    "duration": 72,
    "start_time": "2023-01-06T08:05:28.070Z"
   },
   {
    "duration": 83,
    "start_time": "2023-01-06T08:05:32.095Z"
   },
   {
    "duration": 73,
    "start_time": "2023-01-06T08:09:25.165Z"
   },
   {
    "duration": 90,
    "start_time": "2023-01-06T08:09:31.496Z"
   },
   {
    "duration": 13,
    "start_time": "2023-01-06T08:10:47.184Z"
   },
   {
    "duration": 22,
    "start_time": "2023-01-06T08:11:17.647Z"
   },
   {
    "duration": 14,
    "start_time": "2023-01-06T08:11:34.269Z"
   },
   {
    "duration": 12,
    "start_time": "2023-01-06T08:12:11.835Z"
   },
   {
    "duration": 8,
    "start_time": "2023-01-06T08:12:17.587Z"
   },
   {
    "duration": 7,
    "start_time": "2023-01-06T08:12:25.866Z"
   },
   {
    "duration": 12,
    "start_time": "2023-01-06T08:12:33.205Z"
   },
   {
    "duration": 13,
    "start_time": "2023-01-06T08:12:51.921Z"
   },
   {
    "duration": 50,
    "start_time": "2023-01-06T08:26:28.119Z"
   },
   {
    "duration": 39,
    "start_time": "2023-01-06T08:26:33.510Z"
   },
   {
    "duration": 20,
    "start_time": "2023-01-06T08:26:53.020Z"
   },
   {
    "duration": 9,
    "start_time": "2023-01-06T08:27:06.604Z"
   },
   {
    "duration": 570,
    "start_time": "2023-01-06T08:43:31.137Z"
   },
   {
    "duration": 74,
    "start_time": "2023-01-06T08:48:11.011Z"
   },
   {
    "duration": 17,
    "start_time": "2023-01-06T08:48:36.060Z"
   },
   {
    "duration": 4,
    "start_time": "2023-01-06T08:48:39.095Z"
   },
   {
    "duration": 204,
    "start_time": "2023-01-06T08:48:39.105Z"
   },
   {
    "duration": 12,
    "start_time": "2023-01-06T08:48:39.310Z"
   },
   {
    "duration": 104,
    "start_time": "2023-01-06T08:48:39.324Z"
   },
   {
    "duration": 33,
    "start_time": "2023-01-06T08:48:39.430Z"
   },
   {
    "duration": 18,
    "start_time": "2023-01-06T08:48:39.464Z"
   },
   {
    "duration": 11,
    "start_time": "2023-01-06T08:48:39.484Z"
   },
   {
    "duration": 8,
    "start_time": "2023-01-06T08:48:39.497Z"
   },
   {
    "duration": 14,
    "start_time": "2023-01-06T08:48:39.506Z"
   },
   {
    "duration": 72,
    "start_time": "2023-01-06T08:48:39.556Z"
   },
   {
    "duration": 150,
    "start_time": "2023-01-06T08:48:39.632Z"
   },
   {
    "duration": 17,
    "start_time": "2023-01-06T08:48:39.784Z"
   },
   {
    "duration": 108,
    "start_time": "2023-01-06T08:48:39.803Z"
   },
   {
    "duration": 55,
    "start_time": "2023-01-06T08:48:39.913Z"
   },
   {
    "duration": 11,
    "start_time": "2023-01-06T08:48:39.973Z"
   },
   {
    "duration": 80,
    "start_time": "2023-01-06T08:48:39.986Z"
   },
   {
    "duration": 25,
    "start_time": "2023-01-06T08:48:40.070Z"
   },
   {
    "duration": 32,
    "start_time": "2023-01-06T08:48:40.097Z"
   },
   {
    "duration": 298,
    "start_time": "2023-01-06T08:48:40.131Z"
   },
   {
    "duration": 102,
    "start_time": "2023-01-06T08:48:40.431Z"
   },
   {
    "duration": 83,
    "start_time": "2023-01-06T08:48:40.535Z"
   },
   {
    "duration": 10,
    "start_time": "2023-01-06T08:48:40.620Z"
   },
   {
    "duration": 38,
    "start_time": "2023-01-06T08:48:40.632Z"
   },
   {
    "duration": 36,
    "start_time": "2023-01-06T08:48:40.672Z"
   },
   {
    "duration": 89,
    "start_time": "2023-01-06T08:48:40.710Z"
   },
   {
    "duration": 15,
    "start_time": "2023-01-06T08:48:40.801Z"
   },
   {
    "duration": 3,
    "start_time": "2023-01-06T08:48:40.818Z"
   },
   {
    "duration": 9,
    "start_time": "2023-01-06T08:48:40.823Z"
   },
   {
    "duration": 64,
    "start_time": "2023-01-06T08:48:40.850Z"
   },
   {
    "duration": 12,
    "start_time": "2023-01-06T08:48:46.982Z"
   },
   {
    "duration": 13,
    "start_time": "2023-01-06T08:48:59.661Z"
   },
   {
    "duration": 59,
    "start_time": "2023-01-06T08:49:38.628Z"
   },
   {
    "duration": 81,
    "start_time": "2023-01-06T09:20:48.169Z"
   },
   {
    "duration": 4,
    "start_time": "2023-01-06T09:21:02.845Z"
   },
   {
    "duration": 71,
    "start_time": "2023-01-06T09:21:15.278Z"
   },
   {
    "duration": 4,
    "start_time": "2023-01-06T09:21:25.479Z"
   },
   {
    "duration": 3,
    "start_time": "2023-01-06T09:21:34.496Z"
   },
   {
    "duration": 7,
    "start_time": "2023-01-06T09:23:36.767Z"
   },
   {
    "duration": 12,
    "start_time": "2023-01-06T09:24:08.172Z"
   },
   {
    "duration": 75,
    "start_time": "2023-01-06T09:24:18.373Z"
   },
   {
    "duration": 20,
    "start_time": "2023-01-06T09:24:21.885Z"
   },
   {
    "duration": 50,
    "start_time": "2023-01-06T09:27:30.269Z"
   },
   {
    "duration": 64,
    "start_time": "2023-01-06T09:27:36.144Z"
   },
   {
    "duration": 81,
    "start_time": "2023-01-06T09:38:30.812Z"
   },
   {
    "duration": 11,
    "start_time": "2023-01-06T09:38:33.998Z"
   },
   {
    "duration": 15,
    "start_time": "2023-01-06T09:38:59.190Z"
   },
   {
    "duration": 15,
    "start_time": "2023-01-06T09:39:08.261Z"
   },
   {
    "duration": 24,
    "start_time": "2023-01-06T09:39:22.337Z"
   },
   {
    "duration": 17004,
    "start_time": "2023-01-06T09:39:23.473Z"
   },
   {
    "duration": 4,
    "start_time": "2023-01-06T09:52:26.641Z"
   },
   {
    "duration": 15,
    "start_time": "2023-01-06T09:52:28.567Z"
   },
   {
    "duration": 25,
    "start_time": "2023-01-06T09:53:15.236Z"
   },
   {
    "duration": 17,
    "start_time": "2023-01-06T09:53:20.230Z"
   },
   {
    "duration": 1206,
    "start_time": "2023-01-06T09:53:34.286Z"
   },
   {
    "duration": 24,
    "start_time": "2023-01-06T09:53:55.962Z"
   },
   {
    "duration": 4,
    "start_time": "2023-01-06T09:54:54.408Z"
   },
   {
    "duration": 30,
    "start_time": "2023-01-06T09:54:59.164Z"
   },
   {
    "duration": 27,
    "start_time": "2023-01-06T09:55:07.337Z"
   },
   {
    "duration": 1254,
    "start_time": "2023-01-07T05:25:42.427Z"
   },
   {
    "duration": 486,
    "start_time": "2023-01-07T05:25:43.683Z"
   },
   {
    "duration": 15,
    "start_time": "2023-01-07T05:25:44.171Z"
   },
   {
    "duration": 87,
    "start_time": "2023-01-07T05:25:44.191Z"
   },
   {
    "duration": 20,
    "start_time": "2023-01-07T05:25:44.280Z"
   },
   {
    "duration": 20,
    "start_time": "2023-01-07T05:25:44.302Z"
   },
   {
    "duration": 10,
    "start_time": "2023-01-07T05:25:44.324Z"
   },
   {
    "duration": 14,
    "start_time": "2023-01-07T05:25:44.335Z"
   },
   {
    "duration": 15,
    "start_time": "2023-01-07T05:25:44.351Z"
   },
   {
    "duration": 76,
    "start_time": "2023-01-07T05:25:44.368Z"
   },
   {
    "duration": 126,
    "start_time": "2023-01-07T05:25:44.445Z"
   },
   {
    "duration": 12,
    "start_time": "2023-01-07T05:25:44.572Z"
   },
   {
    "duration": 79,
    "start_time": "2023-01-07T05:25:44.585Z"
   },
   {
    "duration": 26,
    "start_time": "2023-01-07T05:25:44.665Z"
   },
   {
    "duration": 20,
    "start_time": "2023-01-07T05:25:44.693Z"
   },
   {
    "duration": 57,
    "start_time": "2023-01-07T05:25:44.714Z"
   },
   {
    "duration": 15,
    "start_time": "2023-01-07T05:25:44.773Z"
   },
   {
    "duration": 29,
    "start_time": "2023-01-07T05:25:44.790Z"
   },
   {
    "duration": 269,
    "start_time": "2023-01-07T05:25:44.821Z"
   },
   {
    "duration": 67,
    "start_time": "2023-01-07T05:25:45.091Z"
   },
   {
    "duration": 57,
    "start_time": "2023-01-07T05:25:45.159Z"
   },
   {
    "duration": 6,
    "start_time": "2023-01-07T05:25:45.218Z"
   },
   {
    "duration": 9,
    "start_time": "2023-01-07T05:25:45.226Z"
   },
   {
    "duration": 22,
    "start_time": "2023-01-07T05:25:45.237Z"
   },
   {
    "duration": 95,
    "start_time": "2023-01-07T05:25:45.261Z"
   },
   {
    "duration": 14,
    "start_time": "2023-01-07T05:25:45.358Z"
   },
   {
    "duration": 8,
    "start_time": "2023-01-07T05:25:45.374Z"
   },
   {
    "duration": 28,
    "start_time": "2023-01-07T05:25:45.385Z"
   },
   {
    "duration": 427,
    "start_time": "2023-01-07T05:25:45.415Z"
   },
   {
    "duration": 3,
    "start_time": "2023-01-07T05:25:45.844Z"
   },
   {
    "duration": 84,
    "start_time": "2023-01-07T05:25:45.849Z"
   },
   {
    "duration": 18,
    "start_time": "2023-01-07T05:25:45.934Z"
   },
   {
    "duration": 24,
    "start_time": "2023-01-07T05:25:45.954Z"
   },
   {
    "duration": 205,
    "start_time": "2023-01-07T05:25:45.980Z"
   },
   {
    "duration": 30,
    "start_time": "2023-01-07T05:29:24.098Z"
   },
   {
    "duration": 20,
    "start_time": "2023-01-07T05:31:36.035Z"
   },
   {
    "duration": 19,
    "start_time": "2023-01-07T05:31:38.449Z"
   },
   {
    "duration": 16,
    "start_time": "2023-01-07T05:31:58.352Z"
   },
   {
    "duration": 41,
    "start_time": "2023-01-07T05:32:17.260Z"
   },
   {
    "duration": 110,
    "start_time": "2023-01-07T05:33:45.010Z"
   },
   {
    "duration": 39,
    "start_time": "2023-01-07T05:33:50.706Z"
   },
   {
    "duration": 17,
    "start_time": "2023-01-07T05:34:14.620Z"
   },
   {
    "duration": 4,
    "start_time": "2023-01-07T05:40:49.809Z"
   },
   {
    "duration": 4,
    "start_time": "2023-01-07T05:40:53.014Z"
   },
   {
    "duration": 4,
    "start_time": "2023-01-07T05:40:57.237Z"
   },
   {
    "duration": 217,
    "start_time": "2023-01-07T05:40:57.244Z"
   },
   {
    "duration": 12,
    "start_time": "2023-01-07T05:40:57.464Z"
   },
   {
    "duration": 79,
    "start_time": "2023-01-07T05:40:57.478Z"
   },
   {
    "duration": 18,
    "start_time": "2023-01-07T05:40:57.559Z"
   },
   {
    "duration": 33,
    "start_time": "2023-01-07T05:40:57.579Z"
   },
   {
    "duration": 7,
    "start_time": "2023-01-07T05:40:57.613Z"
   },
   {
    "duration": 12,
    "start_time": "2023-01-07T05:40:57.622Z"
   },
   {
    "duration": 6,
    "start_time": "2023-01-07T05:40:57.636Z"
   },
   {
    "duration": 77,
    "start_time": "2023-01-07T05:40:57.644Z"
   },
   {
    "duration": 122,
    "start_time": "2023-01-07T05:40:57.725Z"
   },
   {
    "duration": 15,
    "start_time": "2023-01-07T05:40:57.849Z"
   },
   {
    "duration": 129,
    "start_time": "2023-01-07T05:40:57.866Z"
   },
   {
    "duration": 58,
    "start_time": "2023-01-07T05:40:57.996Z"
   },
   {
    "duration": 13,
    "start_time": "2023-01-07T05:40:58.056Z"
   },
   {
    "duration": 59,
    "start_time": "2023-01-07T05:40:58.071Z"
   },
   {
    "duration": 18,
    "start_time": "2023-01-07T05:40:58.131Z"
   },
   {
    "duration": 31,
    "start_time": "2023-01-07T05:40:58.151Z"
   },
   {
    "duration": 244,
    "start_time": "2023-01-07T05:40:58.185Z"
   },
   {
    "duration": 82,
    "start_time": "2023-01-07T05:40:58.432Z"
   },
   {
    "duration": 38,
    "start_time": "2023-01-07T05:40:58.516Z"
   },
   {
    "duration": 8,
    "start_time": "2023-01-07T05:40:58.556Z"
   },
   {
    "duration": 9,
    "start_time": "2023-01-07T05:40:58.566Z"
   },
   {
    "duration": 52,
    "start_time": "2023-01-07T05:40:58.577Z"
   },
   {
    "duration": 156,
    "start_time": "2023-01-07T05:40:58.631Z"
   },
   {
    "duration": 12,
    "start_time": "2023-01-07T05:40:58.789Z"
   },
   {
    "duration": 9,
    "start_time": "2023-01-07T05:40:58.812Z"
   },
   {
    "duration": 20,
    "start_time": "2023-01-07T05:40:58.822Z"
   },
   {
    "duration": 41,
    "start_time": "2023-01-07T05:40:58.844Z"
   },
   {
    "duration": 3,
    "start_time": "2023-01-07T05:40:58.887Z"
   },
   {
    "duration": 39,
    "start_time": "2023-01-07T05:40:58.912Z"
   },
   {
    "duration": 90,
    "start_time": "2023-01-07T05:40:58.952Z"
   },
   {
    "duration": 36,
    "start_time": "2023-01-07T05:40:59.044Z"
   },
   {
    "duration": 8,
    "start_time": "2023-01-07T05:44:49.418Z"
   },
   {
    "duration": 857,
    "start_time": "2023-01-07T05:45:48.779Z"
   },
   {
    "duration": 772,
    "start_time": "2023-01-07T05:46:09.749Z"
   },
   {
    "duration": 786,
    "start_time": "2023-01-07T05:46:19.953Z"
   },
   {
    "duration": 759,
    "start_time": "2023-01-07T05:46:40.045Z"
   },
   {
    "duration": 773,
    "start_time": "2023-01-07T05:46:44.221Z"
   },
   {
    "duration": 4,
    "start_time": "2023-01-07T05:46:54.240Z"
   },
   {
    "duration": 175,
    "start_time": "2023-01-07T05:46:54.246Z"
   },
   {
    "duration": 14,
    "start_time": "2023-01-07T05:46:54.423Z"
   },
   {
    "duration": 154,
    "start_time": "2023-01-07T05:46:54.440Z"
   },
   {
    "duration": 24,
    "start_time": "2023-01-07T05:46:54.595Z"
   },
   {
    "duration": 34,
    "start_time": "2023-01-07T05:46:54.621Z"
   },
   {
    "duration": 10,
    "start_time": "2023-01-07T05:46:54.657Z"
   },
   {
    "duration": 10,
    "start_time": "2023-01-07T05:46:54.668Z"
   },
   {
    "duration": 8,
    "start_time": "2023-01-07T05:46:54.682Z"
   },
   {
    "duration": 58,
    "start_time": "2023-01-07T05:46:54.711Z"
   },
   {
    "duration": 135,
    "start_time": "2023-01-07T05:46:54.771Z"
   },
   {
    "duration": 14,
    "start_time": "2023-01-07T05:46:54.908Z"
   },
   {
    "duration": 93,
    "start_time": "2023-01-07T05:46:54.925Z"
   },
   {
    "duration": 32,
    "start_time": "2023-01-07T05:46:55.020Z"
   },
   {
    "duration": 20,
    "start_time": "2023-01-07T05:46:55.053Z"
   },
   {
    "duration": 78,
    "start_time": "2023-01-07T05:46:55.075Z"
   },
   {
    "duration": 17,
    "start_time": "2023-01-07T05:46:55.154Z"
   },
   {
    "duration": 29,
    "start_time": "2023-01-07T05:46:55.173Z"
   },
   {
    "duration": 222,
    "start_time": "2023-01-07T05:46:55.203Z"
   },
   {
    "duration": 60,
    "start_time": "2023-01-07T05:46:55.427Z"
   },
   {
    "duration": 56,
    "start_time": "2023-01-07T05:46:55.488Z"
   },
   {
    "duration": 7,
    "start_time": "2023-01-07T05:46:55.545Z"
   },
   {
    "duration": 25,
    "start_time": "2023-01-07T05:46:55.554Z"
   },
   {
    "duration": 39,
    "start_time": "2023-01-07T05:46:55.582Z"
   },
   {
    "duration": 107,
    "start_time": "2023-01-07T05:46:55.623Z"
   },
   {
    "duration": 14,
    "start_time": "2023-01-07T05:46:55.732Z"
   },
   {
    "duration": 12,
    "start_time": "2023-01-07T05:46:55.747Z"
   },
   {
    "duration": 31,
    "start_time": "2023-01-07T05:46:55.760Z"
   },
   {
    "duration": 67,
    "start_time": "2023-01-07T05:46:55.792Z"
   },
   {
    "duration": 6,
    "start_time": "2023-01-07T05:46:55.861Z"
   },
   {
    "duration": 143,
    "start_time": "2023-01-07T05:46:55.869Z"
   },
   {
    "duration": 84,
    "start_time": "2023-01-07T05:46:56.014Z"
   },
   {
    "duration": 38,
    "start_time": "2023-01-07T05:46:58.212Z"
   },
   {
    "duration": 7,
    "start_time": "2023-01-07T05:47:20.886Z"
   },
   {
    "duration": 61,
    "start_time": "2023-01-07T05:57:13.167Z"
   },
   {
    "duration": 5,
    "start_time": "2023-01-07T05:57:32.753Z"
   },
   {
    "duration": 914,
    "start_time": "2023-01-07T06:00:03.425Z"
   },
   {
    "duration": 745,
    "start_time": "2023-01-07T06:00:24.319Z"
   },
   {
    "duration": 5,
    "start_time": "2023-01-07T06:01:43.025Z"
   },
   {
    "duration": 4,
    "start_time": "2023-01-07T06:01:51.709Z"
   },
   {
    "duration": 6,
    "start_time": "2023-01-07T06:01:59.358Z"
   },
   {
    "duration": 3,
    "start_time": "2023-01-07T06:09:03.105Z"
   },
   {
    "duration": 5,
    "start_time": "2023-01-07T06:09:07.675Z"
   },
   {
    "duration": 10,
    "start_time": "2023-01-07T06:09:30.780Z"
   },
   {
    "duration": 6,
    "start_time": "2023-01-07T06:11:31.321Z"
   },
   {
    "duration": 17,
    "start_time": "2023-01-07T06:14:19.943Z"
   },
   {
    "duration": 7,
    "start_time": "2023-01-07T06:14:37.224Z"
   },
   {
    "duration": 11,
    "start_time": "2023-01-07T06:14:38.910Z"
   },
   {
    "duration": 8,
    "start_time": "2023-01-07T06:15:29.111Z"
   },
   {
    "duration": 8,
    "start_time": "2023-01-07T06:15:31.578Z"
   },
   {
    "duration": 47,
    "start_time": "2023-01-07T06:15:41.141Z"
   },
   {
    "duration": 6,
    "start_time": "2023-01-07T06:16:35.472Z"
   },
   {
    "duration": 9,
    "start_time": "2023-01-07T06:16:37.966Z"
   },
   {
    "duration": 10,
    "start_time": "2023-01-07T06:31:00.097Z"
   },
   {
    "duration": 19,
    "start_time": "2023-01-07T06:31:36.210Z"
   },
   {
    "duration": 48,
    "start_time": "2023-01-07T06:31:39.046Z"
   },
   {
    "duration": 8,
    "start_time": "2023-01-07T06:32:18.063Z"
   },
   {
    "duration": 45,
    "start_time": "2023-01-07T06:32:38.242Z"
   },
   {
    "duration": 7,
    "start_time": "2023-01-07T06:33:18.347Z"
   },
   {
    "duration": 5,
    "start_time": "2023-01-07T06:42:12.336Z"
   },
   {
    "duration": 11,
    "start_time": "2023-01-07T06:43:31.897Z"
   },
   {
    "duration": 23,
    "start_time": "2023-01-07T06:43:49.888Z"
   },
   {
    "duration": 3,
    "start_time": "2023-01-07T06:43:58.485Z"
   },
   {
    "duration": 151,
    "start_time": "2023-01-07T06:43:58.492Z"
   },
   {
    "duration": 15,
    "start_time": "2023-01-07T06:43:58.646Z"
   },
   {
    "duration": 89,
    "start_time": "2023-01-07T06:43:58.663Z"
   },
   {
    "duration": 17,
    "start_time": "2023-01-07T06:43:58.754Z"
   },
   {
    "duration": 14,
    "start_time": "2023-01-07T06:43:58.773Z"
   },
   {
    "duration": 31,
    "start_time": "2023-01-07T06:43:58.789Z"
   },
   {
    "duration": 10,
    "start_time": "2023-01-07T06:43:58.822Z"
   },
   {
    "duration": 9,
    "start_time": "2023-01-07T06:43:58.834Z"
   },
   {
    "duration": 102,
    "start_time": "2023-01-07T06:43:58.845Z"
   },
   {
    "duration": 107,
    "start_time": "2023-01-07T06:43:58.949Z"
   },
   {
    "duration": 13,
    "start_time": "2023-01-07T06:43:59.058Z"
   },
   {
    "duration": 77,
    "start_time": "2023-01-07T06:43:59.073Z"
   },
   {
    "duration": 28,
    "start_time": "2023-01-07T06:43:59.152Z"
   },
   {
    "duration": 10,
    "start_time": "2023-01-07T06:43:59.182Z"
   },
   {
    "duration": 49,
    "start_time": "2023-01-07T06:43:59.212Z"
   },
   {
    "duration": 33,
    "start_time": "2023-01-07T06:43:59.264Z"
   },
   {
    "duration": 26,
    "start_time": "2023-01-07T06:43:59.313Z"
   },
   {
    "duration": 226,
    "start_time": "2023-01-07T06:43:59.342Z"
   },
   {
    "duration": 82,
    "start_time": "2023-01-07T06:43:59.570Z"
   },
   {
    "duration": 38,
    "start_time": "2023-01-07T06:43:59.653Z"
   },
   {
    "duration": 21,
    "start_time": "2023-01-07T06:43:59.692Z"
   },
   {
    "duration": 9,
    "start_time": "2023-01-07T06:43:59.714Z"
   },
   {
    "duration": 27,
    "start_time": "2023-01-07T06:43:59.724Z"
   },
   {
    "duration": 92,
    "start_time": "2023-01-07T06:43:59.753Z"
   },
   {
    "duration": 12,
    "start_time": "2023-01-07T06:43:59.847Z"
   },
   {
    "duration": 7,
    "start_time": "2023-01-07T06:43:59.861Z"
   },
   {
    "duration": 15,
    "start_time": "2023-01-07T06:43:59.869Z"
   },
   {
    "duration": 56,
    "start_time": "2023-01-07T06:43:59.887Z"
   },
   {
    "duration": 4,
    "start_time": "2023-01-07T06:43:59.945Z"
   },
   {
    "duration": 45,
    "start_time": "2023-01-07T06:43:59.951Z"
   },
   {
    "duration": 83,
    "start_time": "2023-01-07T06:44:00.013Z"
   },
   {
    "duration": 44,
    "start_time": "2023-01-07T06:44:00.098Z"
   },
   {
    "duration": 5,
    "start_time": "2023-01-07T06:44:00.144Z"
   },
   {
    "duration": 7,
    "start_time": "2023-01-07T06:44:00.151Z"
   },
   {
    "duration": 45,
    "start_time": "2023-01-07T06:44:00.159Z"
   },
   {
    "duration": 19,
    "start_time": "2023-01-07T06:44:00.206Z"
   },
   {
    "duration": 17,
    "start_time": "2023-01-07T06:44:00.227Z"
   },
   {
    "duration": 12,
    "start_time": "2023-01-07T06:44:01.766Z"
   },
   {
    "duration": 770,
    "start_time": "2023-01-07T06:44:46.840Z"
   },
   {
    "duration": 756,
    "start_time": "2023-01-07T06:46:05.330Z"
   },
   {
    "duration": 699,
    "start_time": "2023-01-07T06:48:53.469Z"
   },
   {
    "duration": 3,
    "start_time": "2023-01-07T06:49:14.106Z"
   },
   {
    "duration": 151,
    "start_time": "2023-01-07T06:49:14.116Z"
   },
   {
    "duration": 9,
    "start_time": "2023-01-07T06:49:14.269Z"
   },
   {
    "duration": 82,
    "start_time": "2023-01-07T06:49:14.280Z"
   },
   {
    "duration": 17,
    "start_time": "2023-01-07T06:49:14.364Z"
   },
   {
    "duration": 13,
    "start_time": "2023-01-07T06:49:14.382Z"
   },
   {
    "duration": 21,
    "start_time": "2023-01-07T06:49:14.396Z"
   },
   {
    "duration": 7,
    "start_time": "2023-01-07T06:49:14.418Z"
   },
   {
    "duration": 12,
    "start_time": "2023-01-07T06:49:14.426Z"
   },
   {
    "duration": 75,
    "start_time": "2023-01-07T06:49:14.439Z"
   },
   {
    "duration": 116,
    "start_time": "2023-01-07T06:49:14.517Z"
   },
   {
    "duration": 12,
    "start_time": "2023-01-07T06:49:14.635Z"
   },
   {
    "duration": 85,
    "start_time": "2023-01-07T06:49:14.649Z"
   },
   {
    "duration": 25,
    "start_time": "2023-01-07T06:49:14.736Z"
   },
   {
    "duration": 6,
    "start_time": "2023-01-07T06:49:14.763Z"
   },
   {
    "duration": 67,
    "start_time": "2023-01-07T06:49:14.771Z"
   },
   {
    "duration": 18,
    "start_time": "2023-01-07T06:49:14.840Z"
   },
   {
    "duration": 24,
    "start_time": "2023-01-07T06:49:14.860Z"
   },
   {
    "duration": 232,
    "start_time": "2023-01-07T06:49:14.886Z"
   },
   {
    "duration": 55,
    "start_time": "2023-01-07T06:49:15.119Z"
   },
   {
    "duration": 61,
    "start_time": "2023-01-07T06:49:15.176Z"
   },
   {
    "duration": 6,
    "start_time": "2023-01-07T06:49:15.239Z"
   },
   {
    "duration": 16,
    "start_time": "2023-01-07T06:49:15.246Z"
   },
   {
    "duration": 24,
    "start_time": "2023-01-07T06:49:15.264Z"
   },
   {
    "duration": 81,
    "start_time": "2023-01-07T06:49:15.290Z"
   },
   {
    "duration": 12,
    "start_time": "2023-01-07T06:49:15.373Z"
   },
   {
    "duration": 6,
    "start_time": "2023-01-07T06:49:15.387Z"
   },
   {
    "duration": 25,
    "start_time": "2023-01-07T06:49:15.395Z"
   },
   {
    "duration": 38,
    "start_time": "2023-01-07T06:49:15.424Z"
   },
   {
    "duration": 4,
    "start_time": "2023-01-07T06:49:15.464Z"
   },
   {
    "duration": 68,
    "start_time": "2023-01-07T06:49:15.469Z"
   },
   {
    "duration": 94,
    "start_time": "2023-01-07T06:49:15.539Z"
   },
   {
    "duration": 35,
    "start_time": "2023-01-07T06:49:15.634Z"
   },
   {
    "duration": 4,
    "start_time": "2023-01-07T06:49:15.671Z"
   },
   {
    "duration": 8,
    "start_time": "2023-01-07T06:49:15.676Z"
   },
   {
    "duration": 31,
    "start_time": "2023-01-07T06:49:15.685Z"
   },
   {
    "duration": 9,
    "start_time": "2023-01-07T06:49:15.718Z"
   },
   {
    "duration": 10,
    "start_time": "2023-01-07T06:49:15.728Z"
   },
   {
    "duration": 14,
    "start_time": "2023-01-07T06:49:17.702Z"
   },
   {
    "duration": 15,
    "start_time": "2023-01-07T06:49:24.752Z"
   },
   {
    "duration": 687,
    "start_time": "2023-01-07T06:49:31.897Z"
   },
   {
    "duration": 3,
    "start_time": "2023-01-07T06:50:14.535Z"
   },
   {
    "duration": 150,
    "start_time": "2023-01-07T06:50:14.540Z"
   },
   {
    "duration": 10,
    "start_time": "2023-01-07T06:50:14.691Z"
   },
   {
    "duration": 77,
    "start_time": "2023-01-07T06:50:14.702Z"
   },
   {
    "duration": 16,
    "start_time": "2023-01-07T06:50:14.781Z"
   },
   {
    "duration": 27,
    "start_time": "2023-01-07T06:50:14.799Z"
   },
   {
    "duration": 8,
    "start_time": "2023-01-07T06:50:14.828Z"
   },
   {
    "duration": 8,
    "start_time": "2023-01-07T06:50:14.838Z"
   },
   {
    "duration": 8,
    "start_time": "2023-01-07T06:50:14.848Z"
   },
   {
    "duration": 105,
    "start_time": "2023-01-07T06:50:14.858Z"
   },
   {
    "duration": 110,
    "start_time": "2023-01-07T06:50:14.967Z"
   },
   {
    "duration": 13,
    "start_time": "2023-01-07T06:50:15.079Z"
   },
   {
    "duration": 85,
    "start_time": "2023-01-07T06:50:15.094Z"
   },
   {
    "duration": 34,
    "start_time": "2023-01-07T06:50:15.181Z"
   },
   {
    "duration": 8,
    "start_time": "2023-01-07T06:50:15.216Z"
   },
   {
    "duration": 47,
    "start_time": "2023-01-07T06:50:15.225Z"
   },
   {
    "duration": 17,
    "start_time": "2023-01-07T06:50:15.274Z"
   },
   {
    "duration": 29,
    "start_time": "2023-01-07T06:50:15.293Z"
   },
   {
    "duration": 228,
    "start_time": "2023-01-07T06:50:15.323Z"
   },
   {
    "duration": 65,
    "start_time": "2023-01-07T06:50:15.552Z"
   },
   {
    "duration": 40,
    "start_time": "2023-01-07T06:50:15.619Z"
   },
   {
    "duration": 7,
    "start_time": "2023-01-07T06:50:15.661Z"
   },
   {
    "duration": 8,
    "start_time": "2023-01-07T06:50:15.670Z"
   },
   {
    "duration": 48,
    "start_time": "2023-01-07T06:50:15.680Z"
   },
   {
    "duration": 73,
    "start_time": "2023-01-07T06:50:15.730Z"
   },
   {
    "duration": 15,
    "start_time": "2023-01-07T06:50:15.811Z"
   },
   {
    "duration": 8,
    "start_time": "2023-01-07T06:50:15.828Z"
   },
   {
    "duration": 15,
    "start_time": "2023-01-07T06:50:15.838Z"
   },
   {
    "duration": 64,
    "start_time": "2023-01-07T06:50:15.857Z"
   },
   {
    "duration": 4,
    "start_time": "2023-01-07T06:50:15.923Z"
   },
   {
    "duration": 49,
    "start_time": "2023-01-07T06:50:15.929Z"
   },
   {
    "duration": 104,
    "start_time": "2023-01-07T06:50:15.980Z"
   },
   {
    "duration": 48,
    "start_time": "2023-01-07T06:50:16.086Z"
   },
   {
    "duration": 6,
    "start_time": "2023-01-07T06:50:16.136Z"
   },
   {
    "duration": 6,
    "start_time": "2023-01-07T06:50:16.144Z"
   },
   {
    "duration": 19,
    "start_time": "2023-01-07T06:50:16.152Z"
   },
   {
    "duration": 11,
    "start_time": "2023-01-07T06:50:16.173Z"
   },
   {
    "duration": 32,
    "start_time": "2023-01-07T06:50:16.185Z"
   },
   {
    "duration": 6,
    "start_time": "2023-01-07T06:50:20.795Z"
   },
   {
    "duration": 8,
    "start_time": "2023-01-07T06:50:37.371Z"
   },
   {
    "duration": 12,
    "start_time": "2023-01-07T07:02:13.099Z"
   },
   {
    "duration": 64,
    "start_time": "2023-01-07T07:02:22.378Z"
   },
   {
    "duration": 16,
    "start_time": "2023-01-07T07:02:27.125Z"
   },
   {
    "duration": 8,
    "start_time": "2023-01-07T07:02:42.858Z"
   },
   {
    "duration": 5,
    "start_time": "2023-01-07T07:02:53.886Z"
   },
   {
    "duration": 11,
    "start_time": "2023-01-07T07:02:58.244Z"
   },
   {
    "duration": 10,
    "start_time": "2023-01-07T07:03:00.614Z"
   },
   {
    "duration": 11,
    "start_time": "2023-01-07T07:03:01.725Z"
   },
   {
    "duration": 11,
    "start_time": "2023-01-07T07:03:02.549Z"
   },
   {
    "duration": 11,
    "start_time": "2023-01-07T07:03:02.717Z"
   },
   {
    "duration": 11,
    "start_time": "2023-01-07T07:03:02.886Z"
   },
   {
    "duration": 12,
    "start_time": "2023-01-07T07:03:03.284Z"
   },
   {
    "duration": 12,
    "start_time": "2023-01-07T07:03:03.416Z"
   },
   {
    "duration": 11,
    "start_time": "2023-01-07T07:03:03.551Z"
   },
   {
    "duration": 10,
    "start_time": "2023-01-07T07:03:03.700Z"
   },
   {
    "duration": 11,
    "start_time": "2023-01-07T07:03:03.835Z"
   },
   {
    "duration": 12,
    "start_time": "2023-01-07T07:03:03.965Z"
   },
   {
    "duration": 12,
    "start_time": "2023-01-07T07:03:04.112Z"
   },
   {
    "duration": 3,
    "start_time": "2023-01-07T07:03:19.697Z"
   },
   {
    "duration": 207,
    "start_time": "2023-01-07T07:03:19.702Z"
   },
   {
    "duration": 10,
    "start_time": "2023-01-07T07:03:19.912Z"
   },
   {
    "duration": 74,
    "start_time": "2023-01-07T07:03:19.925Z"
   },
   {
    "duration": 30,
    "start_time": "2023-01-07T07:03:20.001Z"
   },
   {
    "duration": 23,
    "start_time": "2023-01-07T07:03:20.033Z"
   },
   {
    "duration": 21,
    "start_time": "2023-01-07T07:03:20.058Z"
   },
   {
    "duration": 14,
    "start_time": "2023-01-07T07:03:20.081Z"
   },
   {
    "duration": 17,
    "start_time": "2023-01-07T07:03:20.096Z"
   },
   {
    "duration": 61,
    "start_time": "2023-01-07T07:03:20.115Z"
   },
   {
    "duration": 134,
    "start_time": "2023-01-07T07:03:20.179Z"
   },
   {
    "duration": 13,
    "start_time": "2023-01-07T07:03:20.315Z"
   },
   {
    "duration": 94,
    "start_time": "2023-01-07T07:03:20.330Z"
   },
   {
    "duration": 40,
    "start_time": "2023-01-07T07:03:20.426Z"
   },
   {
    "duration": 8,
    "start_time": "2023-01-07T07:03:20.467Z"
   },
   {
    "duration": 57,
    "start_time": "2023-01-07T07:03:20.476Z"
   },
   {
    "duration": 19,
    "start_time": "2023-01-07T07:03:20.535Z"
   },
   {
    "duration": 23,
    "start_time": "2023-01-07T07:03:20.556Z"
   },
   {
    "duration": 260,
    "start_time": "2023-01-07T07:03:20.581Z"
   },
   {
    "duration": 70,
    "start_time": "2023-01-07T07:03:20.843Z"
   },
   {
    "duration": 41,
    "start_time": "2023-01-07T07:03:20.915Z"
   },
   {
    "duration": 7,
    "start_time": "2023-01-07T07:03:20.957Z"
   },
   {
    "duration": 11,
    "start_time": "2023-01-07T07:03:20.965Z"
   },
   {
    "duration": 50,
    "start_time": "2023-01-07T07:03:20.977Z"
   },
   {
    "duration": 85,
    "start_time": "2023-01-07T07:03:21.028Z"
   },
   {
    "duration": 13,
    "start_time": "2023-01-07T07:03:21.115Z"
   },
   {
    "duration": 7,
    "start_time": "2023-01-07T07:03:21.130Z"
   },
   {
    "duration": 11,
    "start_time": "2023-01-07T07:03:21.140Z"
   },
   {
    "duration": 72,
    "start_time": "2023-01-07T07:03:21.152Z"
   },
   {
    "duration": 4,
    "start_time": "2023-01-07T07:03:21.226Z"
   },
   {
    "duration": 45,
    "start_time": "2023-01-07T07:03:21.231Z"
   },
   {
    "duration": 103,
    "start_time": "2023-01-07T07:03:21.277Z"
   },
   {
    "duration": 44,
    "start_time": "2023-01-07T07:03:21.382Z"
   },
   {
    "duration": 4,
    "start_time": "2023-01-07T07:03:21.428Z"
   },
   {
    "duration": 33,
    "start_time": "2023-01-07T07:03:21.434Z"
   },
   {
    "duration": 45,
    "start_time": "2023-01-07T07:03:21.469Z"
   },
   {
    "duration": 10,
    "start_time": "2023-01-07T07:03:21.516Z"
   },
   {
    "duration": 17,
    "start_time": "2023-01-07T07:03:21.527Z"
   },
   {
    "duration": 11,
    "start_time": "2023-01-07T07:03:21.545Z"
   },
   {
    "duration": 14,
    "start_time": "2023-01-07T07:03:24.871Z"
   },
   {
    "duration": 769,
    "start_time": "2023-01-07T07:03:28.180Z"
   },
   {
    "duration": 4,
    "start_time": "2023-01-07T07:04:43.924Z"
   },
   {
    "duration": 156,
    "start_time": "2023-01-07T07:04:43.934Z"
   },
   {
    "duration": 10,
    "start_time": "2023-01-07T07:04:44.093Z"
   },
   {
    "duration": 79,
    "start_time": "2023-01-07T07:04:44.104Z"
   },
   {
    "duration": 31,
    "start_time": "2023-01-07T07:04:44.185Z"
   },
   {
    "duration": 14,
    "start_time": "2023-01-07T07:04:44.218Z"
   },
   {
    "duration": 24,
    "start_time": "2023-01-07T07:04:44.233Z"
   },
   {
    "duration": 9,
    "start_time": "2023-01-07T07:04:44.259Z"
   },
   {
    "duration": 19,
    "start_time": "2023-01-07T07:04:44.270Z"
   },
   {
    "duration": 53,
    "start_time": "2023-01-07T07:04:44.291Z"
   },
   {
    "duration": 116,
    "start_time": "2023-01-07T07:04:44.346Z"
   },
   {
    "duration": 11,
    "start_time": "2023-01-07T07:04:44.464Z"
   },
   {
    "duration": 80,
    "start_time": "2023-01-07T07:04:44.477Z"
   },
   {
    "duration": 28,
    "start_time": "2023-01-07T07:04:44.559Z"
   },
   {
    "duration": 22,
    "start_time": "2023-01-07T07:04:44.591Z"
   },
   {
    "duration": 46,
    "start_time": "2023-01-07T07:04:44.615Z"
   },
   {
    "duration": 18,
    "start_time": "2023-01-07T07:04:44.663Z"
   },
   {
    "duration": 36,
    "start_time": "2023-01-07T07:04:44.682Z"
   },
   {
    "duration": 249,
    "start_time": "2023-01-07T07:04:44.719Z"
   },
   {
    "duration": 66,
    "start_time": "2023-01-07T07:04:44.969Z"
   },
   {
    "duration": 40,
    "start_time": "2023-01-07T07:04:45.036Z"
   },
   {
    "duration": 6,
    "start_time": "2023-01-07T07:04:45.078Z"
   },
   {
    "duration": 29,
    "start_time": "2023-01-07T07:04:45.085Z"
   },
   {
    "duration": 24,
    "start_time": "2023-01-07T07:04:45.116Z"
   },
   {
    "duration": 81,
    "start_time": "2023-01-07T07:04:45.142Z"
   },
   {
    "duration": 12,
    "start_time": "2023-01-07T07:04:45.225Z"
   },
   {
    "duration": 12,
    "start_time": "2023-01-07T07:04:45.239Z"
   },
   {
    "duration": 21,
    "start_time": "2023-01-07T07:04:45.253Z"
   },
   {
    "duration": 46,
    "start_time": "2023-01-07T07:04:45.276Z"
   },
   {
    "duration": 4,
    "start_time": "2023-01-07T07:04:45.324Z"
   },
   {
    "duration": 45,
    "start_time": "2023-01-07T07:04:45.329Z"
   },
   {
    "duration": 100,
    "start_time": "2023-01-07T07:04:45.376Z"
   },
   {
    "duration": 46,
    "start_time": "2023-01-07T07:04:45.477Z"
   },
   {
    "duration": 5,
    "start_time": "2023-01-07T07:04:45.524Z"
   },
   {
    "duration": 11,
    "start_time": "2023-01-07T07:04:45.530Z"
   },
   {
    "duration": 20,
    "start_time": "2023-01-07T07:04:45.543Z"
   },
   {
    "duration": 9,
    "start_time": "2023-01-07T07:04:45.565Z"
   },
   {
    "duration": 13,
    "start_time": "2023-01-07T07:04:45.576Z"
   },
   {
    "duration": 25,
    "start_time": "2023-01-07T07:04:45.591Z"
   },
   {
    "duration": 47,
    "start_time": "2023-01-07T07:07:34.389Z"
   },
   {
    "duration": 13,
    "start_time": "2023-01-07T07:07:42.226Z"
   },
   {
    "duration": 1358,
    "start_time": "2023-01-07T07:07:46.533Z"
   },
   {
    "duration": 7,
    "start_time": "2023-01-07T07:08:00.413Z"
   },
   {
    "duration": 9,
    "start_time": "2023-01-07T07:08:06.687Z"
   },
   {
    "duration": 4,
    "start_time": "2023-01-07T07:08:21.361Z"
   },
   {
    "duration": 733,
    "start_time": "2023-01-07T07:08:25.389Z"
   },
   {
    "duration": 766,
    "start_time": "2023-01-07T07:09:12.380Z"
   },
   {
    "duration": 715,
    "start_time": "2023-01-07T07:09:35.370Z"
   },
   {
    "duration": 3,
    "start_time": "2023-01-07T07:10:25.509Z"
   },
   {
    "duration": 152,
    "start_time": "2023-01-07T07:10:25.514Z"
   },
   {
    "duration": 10,
    "start_time": "2023-01-07T07:10:25.667Z"
   },
   {
    "duration": 77,
    "start_time": "2023-01-07T07:10:25.679Z"
   },
   {
    "duration": 21,
    "start_time": "2023-01-07T07:10:25.757Z"
   },
   {
    "duration": 14,
    "start_time": "2023-01-07T07:10:25.780Z"
   },
   {
    "duration": 7,
    "start_time": "2023-01-07T07:10:25.813Z"
   },
   {
    "duration": 9,
    "start_time": "2023-01-07T07:10:25.822Z"
   },
   {
    "duration": 7,
    "start_time": "2023-01-07T07:10:25.834Z"
   },
   {
    "duration": 83,
    "start_time": "2023-01-07T07:10:25.842Z"
   },
   {
    "duration": 135,
    "start_time": "2023-01-07T07:10:25.927Z"
   },
   {
    "duration": 13,
    "start_time": "2023-01-07T07:10:26.064Z"
   },
   {
    "duration": 90,
    "start_time": "2023-01-07T07:10:26.079Z"
   },
   {
    "duration": 49,
    "start_time": "2023-01-07T07:10:26.171Z"
   },
   {
    "duration": 12,
    "start_time": "2023-01-07T07:10:26.223Z"
   },
   {
    "duration": 48,
    "start_time": "2023-01-07T07:10:26.237Z"
   },
   {
    "duration": 36,
    "start_time": "2023-01-07T07:10:26.287Z"
   },
   {
    "duration": 33,
    "start_time": "2023-01-07T07:10:26.326Z"
   },
   {
    "duration": 383,
    "start_time": "2023-01-07T07:10:26.361Z"
   },
   {
    "duration": 67,
    "start_time": "2023-01-07T07:10:26.745Z"
   },
   {
    "duration": 40,
    "start_time": "2023-01-07T07:10:26.814Z"
   },
   {
    "duration": 7,
    "start_time": "2023-01-07T07:10:26.856Z"
   },
   {
    "duration": 9,
    "start_time": "2023-01-07T07:10:26.864Z"
   },
   {
    "duration": 46,
    "start_time": "2023-01-07T07:10:26.876Z"
   },
   {
    "duration": 73,
    "start_time": "2023-01-07T07:10:26.924Z"
   },
   {
    "duration": 13,
    "start_time": "2023-01-07T07:10:27.013Z"
   },
   {
    "duration": 8,
    "start_time": "2023-01-07T07:10:27.027Z"
   },
   {
    "duration": 11,
    "start_time": "2023-01-07T07:10:27.037Z"
   },
   {
    "duration": 75,
    "start_time": "2023-01-07T07:10:27.049Z"
   },
   {
    "duration": 4,
    "start_time": "2023-01-07T07:10:27.125Z"
   },
   {
    "duration": 49,
    "start_time": "2023-01-07T07:10:27.130Z"
   },
   {
    "duration": 106,
    "start_time": "2023-01-07T07:10:27.181Z"
   },
   {
    "duration": 48,
    "start_time": "2023-01-07T07:10:27.289Z"
   },
   {
    "duration": 7,
    "start_time": "2023-01-07T07:10:27.339Z"
   },
   {
    "duration": 11,
    "start_time": "2023-01-07T07:10:27.348Z"
   },
   {
    "duration": 18,
    "start_time": "2023-01-07T07:10:27.360Z"
   },
   {
    "duration": 32,
    "start_time": "2023-01-07T07:10:27.380Z"
   },
   {
    "duration": 11,
    "start_time": "2023-01-07T07:10:27.414Z"
   },
   {
    "duration": 10,
    "start_time": "2023-01-07T07:10:27.427Z"
   },
   {
    "duration": 13,
    "start_time": "2023-01-07T07:10:27.439Z"
   },
   {
    "duration": 793,
    "start_time": "2023-01-07T07:10:27.454Z"
   },
   {
    "duration": 0,
    "start_time": "2023-01-07T07:10:28.249Z"
   },
   {
    "duration": 9,
    "start_time": "2023-01-07T07:10:41.281Z"
   },
   {
    "duration": 12,
    "start_time": "2023-01-07T07:10:56.213Z"
   },
   {
    "duration": 14,
    "start_time": "2023-01-07T07:11:02.029Z"
   },
   {
    "duration": 4,
    "start_time": "2023-01-07T07:11:06.185Z"
   },
   {
    "duration": 194,
    "start_time": "2023-01-07T07:11:06.191Z"
   },
   {
    "duration": 12,
    "start_time": "2023-01-07T07:11:06.387Z"
   },
   {
    "duration": 102,
    "start_time": "2023-01-07T07:11:06.401Z"
   },
   {
    "duration": 27,
    "start_time": "2023-01-07T07:11:06.512Z"
   },
   {
    "duration": 23,
    "start_time": "2023-01-07T07:11:06.541Z"
   },
   {
    "duration": 16,
    "start_time": "2023-01-07T07:11:06.566Z"
   },
   {
    "duration": 15,
    "start_time": "2023-01-07T07:11:06.584Z"
   },
   {
    "duration": 9,
    "start_time": "2023-01-07T07:11:06.612Z"
   },
   {
    "duration": 54,
    "start_time": "2023-01-07T07:11:06.622Z"
   },
   {
    "duration": 126,
    "start_time": "2023-01-07T07:11:06.679Z"
   },
   {
    "duration": 17,
    "start_time": "2023-01-07T07:11:06.806Z"
   },
   {
    "duration": 90,
    "start_time": "2023-01-07T07:11:06.825Z"
   },
   {
    "duration": 28,
    "start_time": "2023-01-07T07:11:06.917Z"
   },
   {
    "duration": 6,
    "start_time": "2023-01-07T07:11:06.946Z"
   },
   {
    "duration": 62,
    "start_time": "2023-01-07T07:11:06.954Z"
   },
   {
    "duration": 17,
    "start_time": "2023-01-07T07:11:07.017Z"
   },
   {
    "duration": 19,
    "start_time": "2023-01-07T07:11:07.036Z"
   },
   {
    "duration": 238,
    "start_time": "2023-01-07T07:11:07.057Z"
   },
   {
    "duration": 56,
    "start_time": "2023-01-07T07:11:07.296Z"
   },
   {
    "duration": 36,
    "start_time": "2023-01-07T07:11:07.354Z"
   },
   {
    "duration": 24,
    "start_time": "2023-01-07T07:11:07.392Z"
   },
   {
    "duration": 8,
    "start_time": "2023-01-07T07:11:07.418Z"
   },
   {
    "duration": 23,
    "start_time": "2023-01-07T07:11:07.428Z"
   },
   {
    "duration": 81,
    "start_time": "2023-01-07T07:11:07.453Z"
   },
   {
    "duration": 11,
    "start_time": "2023-01-07T07:11:07.536Z"
   },
   {
    "duration": 9,
    "start_time": "2023-01-07T07:11:07.548Z"
   },
   {
    "duration": 14,
    "start_time": "2023-01-07T07:11:07.558Z"
   },
   {
    "duration": 55,
    "start_time": "2023-01-07T07:11:07.575Z"
   },
   {
    "duration": 4,
    "start_time": "2023-01-07T07:11:07.631Z"
   },
   {
    "duration": 46,
    "start_time": "2023-01-07T07:11:07.637Z"
   },
   {
    "duration": 104,
    "start_time": "2023-01-07T07:11:07.684Z"
   },
   {
    "duration": 43,
    "start_time": "2023-01-07T07:11:07.790Z"
   },
   {
    "duration": 4,
    "start_time": "2023-01-07T07:11:07.835Z"
   },
   {
    "duration": 7,
    "start_time": "2023-01-07T07:11:07.840Z"
   },
   {
    "duration": 15,
    "start_time": "2023-01-07T07:11:07.848Z"
   },
   {
    "duration": 10,
    "start_time": "2023-01-07T07:11:07.864Z"
   },
   {
    "duration": 9,
    "start_time": "2023-01-07T07:11:07.876Z"
   },
   {
    "duration": 29,
    "start_time": "2023-01-07T07:11:07.886Z"
   },
   {
    "duration": 15,
    "start_time": "2023-01-07T07:11:13.287Z"
   },
   {
    "duration": 796,
    "start_time": "2023-01-07T07:11:16.268Z"
   },
   {
    "duration": 10,
    "start_time": "2023-01-07T07:15:18.588Z"
   },
   {
    "duration": 10,
    "start_time": "2023-01-07T07:15:19.247Z"
   },
   {
    "duration": 10,
    "start_time": "2023-01-07T07:15:19.810Z"
   },
   {
    "duration": 12,
    "start_time": "2023-01-07T07:15:19.983Z"
   },
   {
    "duration": 10,
    "start_time": "2023-01-07T07:15:20.186Z"
   },
   {
    "duration": 10,
    "start_time": "2023-01-07T07:15:20.357Z"
   },
   {
    "duration": 12,
    "start_time": "2023-01-07T07:15:21.933Z"
   },
   {
    "duration": 737,
    "start_time": "2023-01-07T07:15:24.578Z"
   },
   {
    "duration": 892,
    "start_time": "2023-01-07T07:16:26.108Z"
   },
   {
    "duration": 788,
    "start_time": "2023-01-07T07:16:47.071Z"
   },
   {
    "duration": 5,
    "start_time": "2023-01-07T07:16:55.195Z"
   },
   {
    "duration": 3,
    "start_time": "2023-01-07T07:17:14.301Z"
   },
   {
    "duration": 166,
    "start_time": "2023-01-07T07:17:14.307Z"
   },
   {
    "duration": 10,
    "start_time": "2023-01-07T07:17:14.475Z"
   },
   {
    "duration": 82,
    "start_time": "2023-01-07T07:17:14.487Z"
   },
   {
    "duration": 18,
    "start_time": "2023-01-07T07:17:14.571Z"
   },
   {
    "duration": 29,
    "start_time": "2023-01-07T07:17:14.590Z"
   },
   {
    "duration": 15,
    "start_time": "2023-01-07T07:17:14.621Z"
   },
   {
    "duration": 11,
    "start_time": "2023-01-07T07:17:14.638Z"
   },
   {
    "duration": 24,
    "start_time": "2023-01-07T07:17:14.653Z"
   },
   {
    "duration": 69,
    "start_time": "2023-01-07T07:17:14.679Z"
   },
   {
    "duration": 132,
    "start_time": "2023-01-07T07:17:14.750Z"
   },
   {
    "duration": 14,
    "start_time": "2023-01-07T07:17:14.884Z"
   },
   {
    "duration": 85,
    "start_time": "2023-01-07T07:17:14.900Z"
   },
   {
    "duration": 41,
    "start_time": "2023-01-07T07:17:14.987Z"
   },
   {
    "duration": 18,
    "start_time": "2023-01-07T07:17:15.030Z"
   },
   {
    "duration": 66,
    "start_time": "2023-01-07T07:17:15.050Z"
   },
   {
    "duration": 19,
    "start_time": "2023-01-07T07:17:15.117Z"
   },
   {
    "duration": 38,
    "start_time": "2023-01-07T07:17:15.139Z"
   },
   {
    "duration": 246,
    "start_time": "2023-01-07T07:17:15.179Z"
   },
   {
    "duration": 58,
    "start_time": "2023-01-07T07:17:15.427Z"
   },
   {
    "duration": 55,
    "start_time": "2023-01-07T07:17:15.487Z"
   },
   {
    "duration": 6,
    "start_time": "2023-01-07T07:17:15.544Z"
   },
   {
    "duration": 8,
    "start_time": "2023-01-07T07:17:15.552Z"
   },
   {
    "duration": 49,
    "start_time": "2023-01-07T07:17:15.564Z"
   },
   {
    "duration": 70,
    "start_time": "2023-01-07T07:17:15.614Z"
   },
   {
    "duration": 36,
    "start_time": "2023-01-07T07:17:15.686Z"
   },
   {
    "duration": 8,
    "start_time": "2023-01-07T07:17:15.724Z"
   },
   {
    "duration": 23,
    "start_time": "2023-01-07T07:17:15.734Z"
   },
   {
    "duration": 53,
    "start_time": "2023-01-07T07:17:15.759Z"
   },
   {
    "duration": 4,
    "start_time": "2023-01-07T07:17:15.814Z"
   },
   {
    "duration": 61,
    "start_time": "2023-01-07T07:17:15.819Z"
   },
   {
    "duration": 96,
    "start_time": "2023-01-07T07:17:15.882Z"
   },
   {
    "duration": 49,
    "start_time": "2023-01-07T07:17:15.980Z"
   },
   {
    "duration": 5,
    "start_time": "2023-01-07T07:17:16.031Z"
   },
   {
    "duration": 40,
    "start_time": "2023-01-07T07:17:16.039Z"
   },
   {
    "duration": 45,
    "start_time": "2023-01-07T07:17:16.081Z"
   },
   {
    "duration": 29,
    "start_time": "2023-01-07T07:17:16.128Z"
   },
   {
    "duration": 33,
    "start_time": "2023-01-07T07:17:16.159Z"
   },
   {
    "duration": 33,
    "start_time": "2023-01-07T07:17:16.194Z"
   },
   {
    "duration": 17,
    "start_time": "2023-01-07T07:17:17.902Z"
   },
   {
    "duration": 749,
    "start_time": "2023-01-07T07:17:22.408Z"
   },
   {
    "duration": 809,
    "start_time": "2023-01-07T07:17:31.338Z"
   },
   {
    "duration": 756,
    "start_time": "2023-01-07T07:17:39.214Z"
   },
   {
    "duration": 843,
    "start_time": "2023-01-07T07:17:48.666Z"
   },
   {
    "duration": 726,
    "start_time": "2023-01-07T07:23:24.440Z"
   },
   {
    "duration": 773,
    "start_time": "2023-01-07T07:27:53.851Z"
   },
   {
    "duration": 838,
    "start_time": "2023-01-07T07:30:19.802Z"
   },
   {
    "duration": 3,
    "start_time": "2023-01-07T07:56:34.228Z"
   },
   {
    "duration": 160,
    "start_time": "2023-01-07T07:56:34.238Z"
   },
   {
    "duration": 12,
    "start_time": "2023-01-07T07:56:34.401Z"
   },
   {
    "duration": 93,
    "start_time": "2023-01-07T07:56:34.415Z"
   },
   {
    "duration": 19,
    "start_time": "2023-01-07T07:56:34.510Z"
   },
   {
    "duration": 33,
    "start_time": "2023-01-07T07:56:34.533Z"
   },
   {
    "duration": 17,
    "start_time": "2023-01-07T07:56:34.568Z"
   },
   {
    "duration": 12,
    "start_time": "2023-01-07T07:56:34.587Z"
   },
   {
    "duration": 17,
    "start_time": "2023-01-07T07:56:34.600Z"
   },
   {
    "duration": 60,
    "start_time": "2023-01-07T07:56:34.619Z"
   },
   {
    "duration": 135,
    "start_time": "2023-01-07T07:56:34.681Z"
   },
   {
    "duration": 14,
    "start_time": "2023-01-07T07:56:34.819Z"
   },
   {
    "duration": 116,
    "start_time": "2023-01-07T07:56:34.836Z"
   },
   {
    "duration": 27,
    "start_time": "2023-01-07T07:56:34.954Z"
   },
   {
    "duration": 8,
    "start_time": "2023-01-07T07:56:34.985Z"
   },
   {
    "duration": 62,
    "start_time": "2023-01-07T07:56:34.995Z"
   },
   {
    "duration": 18,
    "start_time": "2023-01-07T07:56:35.059Z"
   },
   {
    "duration": 53,
    "start_time": "2023-01-07T07:56:35.080Z"
   },
   {
    "duration": 254,
    "start_time": "2023-01-07T07:56:35.135Z"
   },
   {
    "duration": 64,
    "start_time": "2023-01-07T07:56:35.391Z"
   },
   {
    "duration": 39,
    "start_time": "2023-01-07T07:56:35.457Z"
   },
   {
    "duration": 7,
    "start_time": "2023-01-07T07:56:35.511Z"
   },
   {
    "duration": 9,
    "start_time": "2023-01-07T07:56:35.520Z"
   },
   {
    "duration": 29,
    "start_time": "2023-01-07T07:56:35.531Z"
   },
   {
    "duration": 100,
    "start_time": "2023-01-07T07:56:35.562Z"
   },
   {
    "duration": 14,
    "start_time": "2023-01-07T07:56:35.663Z"
   },
   {
    "duration": 8,
    "start_time": "2023-01-07T07:56:35.678Z"
   },
   {
    "duration": 30,
    "start_time": "2023-01-07T07:56:35.687Z"
   },
   {
    "duration": 53,
    "start_time": "2023-01-07T07:56:35.719Z"
   },
   {
    "duration": 4,
    "start_time": "2023-01-07T07:56:35.773Z"
   },
   {
    "duration": 58,
    "start_time": "2023-01-07T07:56:35.779Z"
   },
   {
    "duration": 100,
    "start_time": "2023-01-07T07:56:35.839Z"
   },
   {
    "duration": 38,
    "start_time": "2023-01-07T07:56:35.941Z"
   },
   {
    "duration": 4,
    "start_time": "2023-01-07T07:56:35.981Z"
   },
   {
    "duration": 25,
    "start_time": "2023-01-07T07:56:35.987Z"
   },
   {
    "duration": 15,
    "start_time": "2023-01-07T07:56:36.014Z"
   },
   {
    "duration": 11,
    "start_time": "2023-01-07T07:56:36.031Z"
   },
   {
    "duration": 10,
    "start_time": "2023-01-07T07:56:36.043Z"
   },
   {
    "duration": 10,
    "start_time": "2023-01-07T07:56:36.054Z"
   },
   {
    "duration": 23,
    "start_time": "2023-01-07T07:56:39.271Z"
   },
   {
    "duration": 48,
    "start_time": "2023-01-07T07:57:06.897Z"
   },
   {
    "duration": 12,
    "start_time": "2023-01-07T07:58:42.969Z"
   },
   {
    "duration": 10,
    "start_time": "2023-01-07T07:58:45.380Z"
   },
   {
    "duration": 9,
    "start_time": "2023-01-07T07:58:45.585Z"
   },
   {
    "duration": 11,
    "start_time": "2023-01-07T07:58:45.750Z"
   },
   {
    "duration": 13,
    "start_time": "2023-01-07T07:58:45.853Z"
   },
   {
    "duration": 13,
    "start_time": "2023-01-07T07:58:46.008Z"
   },
   {
    "duration": 10,
    "start_time": "2023-01-07T07:58:47.201Z"
   },
   {
    "duration": 10,
    "start_time": "2023-01-07T07:58:49.245Z"
   },
   {
    "duration": 698,
    "start_time": "2023-01-07T07:59:12.919Z"
   },
   {
    "duration": 748,
    "start_time": "2023-01-07T08:00:09.526Z"
   },
   {
    "duration": 705,
    "start_time": "2023-01-07T08:06:04.362Z"
   },
   {
    "duration": 684,
    "start_time": "2023-01-07T08:06:16.792Z"
   },
   {
    "duration": 4,
    "start_time": "2023-01-07T08:09:00.424Z"
   },
   {
    "duration": 173,
    "start_time": "2023-01-07T08:09:00.430Z"
   },
   {
    "duration": 14,
    "start_time": "2023-01-07T08:09:00.605Z"
   },
   {
    "duration": 95,
    "start_time": "2023-01-07T08:09:00.621Z"
   },
   {
    "duration": 17,
    "start_time": "2023-01-07T08:09:00.719Z"
   },
   {
    "duration": 39,
    "start_time": "2023-01-07T08:09:00.738Z"
   },
   {
    "duration": 12,
    "start_time": "2023-01-07T08:09:00.779Z"
   },
   {
    "duration": 22,
    "start_time": "2023-01-07T08:09:00.793Z"
   },
   {
    "duration": 38,
    "start_time": "2023-01-07T08:09:00.816Z"
   },
   {
    "duration": 67,
    "start_time": "2023-01-07T08:09:00.856Z"
   },
   {
    "duration": 128,
    "start_time": "2023-01-07T08:09:00.925Z"
   },
   {
    "duration": 17,
    "start_time": "2023-01-07T08:09:01.055Z"
   },
   {
    "duration": 106,
    "start_time": "2023-01-07T08:09:01.074Z"
   },
   {
    "duration": 39,
    "start_time": "2023-01-07T08:09:01.183Z"
   },
   {
    "duration": 5,
    "start_time": "2023-01-07T08:09:01.224Z"
   },
   {
    "duration": 54,
    "start_time": "2023-01-07T08:09:01.231Z"
   },
   {
    "duration": 41,
    "start_time": "2023-01-07T08:09:01.287Z"
   },
   {
    "duration": 47,
    "start_time": "2023-01-07T08:09:01.330Z"
   },
   {
    "duration": 258,
    "start_time": "2023-01-07T08:09:01.379Z"
   },
   {
    "duration": 78,
    "start_time": "2023-01-07T08:09:01.639Z"
   },
   {
    "duration": 60,
    "start_time": "2023-01-07T08:09:01.718Z"
   },
   {
    "duration": 8,
    "start_time": "2023-01-07T08:09:01.780Z"
   },
   {
    "duration": 38,
    "start_time": "2023-01-07T08:09:01.789Z"
   },
   {
    "duration": 42,
    "start_time": "2023-01-07T08:09:01.828Z"
   },
   {
    "duration": 105,
    "start_time": "2023-01-07T08:09:01.872Z"
   },
   {
    "duration": 14,
    "start_time": "2023-01-07T08:09:01.979Z"
   },
   {
    "duration": 28,
    "start_time": "2023-01-07T08:09:01.995Z"
   },
   {
    "duration": 16,
    "start_time": "2023-01-07T08:09:02.025Z"
   },
   {
    "duration": 45,
    "start_time": "2023-01-07T08:09:02.042Z"
   },
   {
    "duration": 4,
    "start_time": "2023-01-07T08:09:02.088Z"
   },
   {
    "duration": 56,
    "start_time": "2023-01-07T08:09:02.093Z"
   },
   {
    "duration": 110,
    "start_time": "2023-01-07T08:09:02.151Z"
   },
   {
    "duration": 37,
    "start_time": "2023-01-07T08:09:02.263Z"
   },
   {
    "duration": 5,
    "start_time": "2023-01-07T08:09:02.311Z"
   },
   {
    "duration": 15,
    "start_time": "2023-01-07T08:09:02.318Z"
   },
   {
    "duration": 25,
    "start_time": "2023-01-07T08:09:02.335Z"
   },
   {
    "duration": 9,
    "start_time": "2023-01-07T08:09:02.362Z"
   },
   {
    "duration": 11,
    "start_time": "2023-01-07T08:09:02.372Z"
   },
   {
    "duration": 13,
    "start_time": "2023-01-07T08:09:02.384Z"
   },
   {
    "duration": 2,
    "start_time": "2023-01-07T08:09:07.082Z"
   },
   {
    "duration": 11,
    "start_time": "2023-01-07T08:09:28.439Z"
   },
   {
    "duration": 858,
    "start_time": "2023-01-07T08:09:33.140Z"
   },
   {
    "duration": 751,
    "start_time": "2023-01-07T08:09:39.918Z"
   },
   {
    "duration": 10,
    "start_time": "2023-01-07T08:09:48.590Z"
   },
   {
    "duration": 804,
    "start_time": "2023-01-07T08:09:53.539Z"
   },
   {
    "duration": 3,
    "start_time": "2023-01-07T08:10:19.014Z"
   },
   {
    "duration": 170,
    "start_time": "2023-01-07T08:10:19.021Z"
   },
   {
    "duration": 11,
    "start_time": "2023-01-07T08:10:19.194Z"
   },
   {
    "duration": 81,
    "start_time": "2023-01-07T08:10:19.213Z"
   },
   {
    "duration": 35,
    "start_time": "2023-01-07T08:10:19.296Z"
   },
   {
    "duration": 29,
    "start_time": "2023-01-07T08:10:19.334Z"
   },
   {
    "duration": 12,
    "start_time": "2023-01-07T08:10:19.365Z"
   },
   {
    "duration": 22,
    "start_time": "2023-01-07T08:10:19.379Z"
   },
   {
    "duration": 18,
    "start_time": "2023-01-07T08:10:19.403Z"
   },
   {
    "duration": 83,
    "start_time": "2023-01-07T08:10:19.422Z"
   },
   {
    "duration": 124,
    "start_time": "2023-01-07T08:10:19.508Z"
   },
   {
    "duration": 15,
    "start_time": "2023-01-07T08:10:19.634Z"
   },
   {
    "duration": 84,
    "start_time": "2023-01-07T08:10:19.651Z"
   },
   {
    "duration": 33,
    "start_time": "2023-01-07T08:10:19.737Z"
   },
   {
    "duration": 10,
    "start_time": "2023-01-07T08:10:19.772Z"
   },
   {
    "duration": 71,
    "start_time": "2023-01-07T08:10:19.784Z"
   },
   {
    "duration": 17,
    "start_time": "2023-01-07T08:10:19.857Z"
   },
   {
    "duration": 22,
    "start_time": "2023-01-07T08:10:19.876Z"
   },
   {
    "duration": 233,
    "start_time": "2023-01-07T08:10:19.899Z"
   },
   {
    "duration": 66,
    "start_time": "2023-01-07T08:10:20.134Z"
   },
   {
    "duration": 50,
    "start_time": "2023-01-07T08:10:20.202Z"
   },
   {
    "duration": 8,
    "start_time": "2023-01-07T08:10:20.254Z"
   },
   {
    "duration": 9,
    "start_time": "2023-01-07T08:10:20.263Z"
   },
   {
    "duration": 60,
    "start_time": "2023-01-07T08:10:20.274Z"
   },
   {
    "duration": 84,
    "start_time": "2023-01-07T08:10:20.336Z"
   },
   {
    "duration": 14,
    "start_time": "2023-01-07T08:10:20.422Z"
   },
   {
    "duration": 8,
    "start_time": "2023-01-07T08:10:20.438Z"
   },
   {
    "duration": 12,
    "start_time": "2023-01-07T08:10:20.447Z"
   },
   {
    "duration": 62,
    "start_time": "2023-01-07T08:10:20.463Z"
   },
   {
    "duration": 4,
    "start_time": "2023-01-07T08:10:20.527Z"
   },
   {
    "duration": 45,
    "start_time": "2023-01-07T08:10:20.532Z"
   },
   {
    "duration": 108,
    "start_time": "2023-01-07T08:10:20.578Z"
   },
   {
    "duration": 49,
    "start_time": "2023-01-07T08:10:20.688Z"
   },
   {
    "duration": 6,
    "start_time": "2023-01-07T08:10:20.738Z"
   },
   {
    "duration": 18,
    "start_time": "2023-01-07T08:10:20.745Z"
   },
   {
    "duration": 19,
    "start_time": "2023-01-07T08:10:20.765Z"
   },
   {
    "duration": 9,
    "start_time": "2023-01-07T08:10:20.786Z"
   },
   {
    "duration": 19,
    "start_time": "2023-01-07T08:10:20.797Z"
   },
   {
    "duration": 8,
    "start_time": "2023-01-07T08:10:20.818Z"
   },
   {
    "duration": 12,
    "start_time": "2023-01-07T08:10:23.162Z"
   },
   {
    "duration": 4,
    "start_time": "2023-01-07T08:10:38.698Z"
   },
   {
    "duration": 12,
    "start_time": "2023-01-07T08:12:02.004Z"
   },
   {
    "duration": 4,
    "start_time": "2023-01-07T08:14:23.516Z"
   },
   {
    "duration": 166,
    "start_time": "2023-01-07T08:14:23.522Z"
   },
   {
    "duration": 10,
    "start_time": "2023-01-07T08:14:23.691Z"
   },
   {
    "duration": 81,
    "start_time": "2023-01-07T08:14:23.712Z"
   },
   {
    "duration": 29,
    "start_time": "2023-01-07T08:14:23.795Z"
   },
   {
    "duration": 26,
    "start_time": "2023-01-07T08:14:23.825Z"
   },
   {
    "duration": 30,
    "start_time": "2023-01-07T08:14:23.853Z"
   },
   {
    "duration": 32,
    "start_time": "2023-01-07T08:14:23.884Z"
   },
   {
    "duration": 20,
    "start_time": "2023-01-07T08:14:23.918Z"
   },
   {
    "duration": 64,
    "start_time": "2023-01-07T08:14:23.940Z"
   },
   {
    "duration": 129,
    "start_time": "2023-01-07T08:14:24.008Z"
   },
   {
    "duration": 16,
    "start_time": "2023-01-07T08:14:24.139Z"
   },
   {
    "duration": 106,
    "start_time": "2023-01-07T08:14:24.157Z"
   },
   {
    "duration": 47,
    "start_time": "2023-01-07T08:14:24.265Z"
   },
   {
    "duration": 7,
    "start_time": "2023-01-07T08:14:24.314Z"
   },
   {
    "duration": 62,
    "start_time": "2023-01-07T08:14:24.323Z"
   },
   {
    "duration": 27,
    "start_time": "2023-01-07T08:14:24.386Z"
   },
   {
    "duration": 24,
    "start_time": "2023-01-07T08:14:24.415Z"
   },
   {
    "duration": 253,
    "start_time": "2023-01-07T08:14:24.441Z"
   },
   {
    "duration": 86,
    "start_time": "2023-01-07T08:14:24.696Z"
   },
   {
    "duration": 49,
    "start_time": "2023-01-07T08:14:24.784Z"
   },
   {
    "duration": 7,
    "start_time": "2023-01-07T08:14:24.835Z"
   },
   {
    "duration": 13,
    "start_time": "2023-01-07T08:14:24.844Z"
   },
   {
    "duration": 40,
    "start_time": "2023-01-07T08:14:24.859Z"
   },
   {
    "duration": 94,
    "start_time": "2023-01-07T08:14:24.901Z"
   },
   {
    "duration": 21,
    "start_time": "2023-01-07T08:14:24.997Z"
   },
   {
    "duration": 9,
    "start_time": "2023-01-07T08:14:25.020Z"
   },
   {
    "duration": 18,
    "start_time": "2023-01-07T08:14:25.031Z"
   },
   {
    "duration": 65,
    "start_time": "2023-01-07T08:14:25.054Z"
   },
   {
    "duration": 5,
    "start_time": "2023-01-07T08:14:25.121Z"
   },
   {
    "duration": 54,
    "start_time": "2023-01-07T08:14:25.127Z"
   },
   {
    "duration": 100,
    "start_time": "2023-01-07T08:14:25.182Z"
   },
   {
    "duration": 50,
    "start_time": "2023-01-07T08:14:25.284Z"
   },
   {
    "duration": 5,
    "start_time": "2023-01-07T08:14:25.336Z"
   },
   {
    "duration": 12,
    "start_time": "2023-01-07T08:14:25.342Z"
   },
   {
    "duration": 19,
    "start_time": "2023-01-07T08:14:25.356Z"
   },
   {
    "duration": 11,
    "start_time": "2023-01-07T08:14:25.376Z"
   },
   {
    "duration": 31,
    "start_time": "2023-01-07T08:14:25.390Z"
   },
   {
    "duration": 10,
    "start_time": "2023-01-07T08:14:25.423Z"
   },
   {
    "duration": 16,
    "start_time": "2023-01-07T08:14:25.435Z"
   },
   {
    "duration": 12,
    "start_time": "2023-01-07T08:14:25.453Z"
   },
   {
    "duration": 15,
    "start_time": "2023-01-07T08:14:25.467Z"
   },
   {
    "duration": 9,
    "start_time": "2023-01-07T08:27:19.794Z"
   },
   {
    "duration": 11,
    "start_time": "2023-01-07T08:28:05.133Z"
   },
   {
    "duration": 11,
    "start_time": "2023-01-07T08:28:12.201Z"
   },
   {
    "duration": 12,
    "start_time": "2023-01-07T08:28:50.201Z"
   },
   {
    "duration": 41,
    "start_time": "2023-01-07T08:29:02.466Z"
   },
   {
    "duration": 12,
    "start_time": "2023-01-07T08:29:24.499Z"
   },
   {
    "duration": 11,
    "start_time": "2023-01-07T08:31:06.883Z"
   },
   {
    "duration": 9,
    "start_time": "2023-01-07T08:31:10.695Z"
   },
   {
    "duration": 11,
    "start_time": "2023-01-07T08:31:46.359Z"
   },
   {
    "duration": 9,
    "start_time": "2023-01-07T08:31:52.876Z"
   },
   {
    "duration": 10,
    "start_time": "2023-01-07T08:32:07.223Z"
   },
   {
    "duration": 9,
    "start_time": "2023-01-07T08:32:10.791Z"
   },
   {
    "duration": 3,
    "start_time": "2023-01-07T08:32:54.079Z"
   },
   {
    "duration": 181,
    "start_time": "2023-01-07T08:32:54.085Z"
   },
   {
    "duration": 11,
    "start_time": "2023-01-07T08:32:54.268Z"
   },
   {
    "duration": 87,
    "start_time": "2023-01-07T08:32:54.281Z"
   },
   {
    "duration": 18,
    "start_time": "2023-01-07T08:32:54.370Z"
   },
   {
    "duration": 29,
    "start_time": "2023-01-07T08:32:54.390Z"
   },
   {
    "duration": 18,
    "start_time": "2023-01-07T08:32:54.421Z"
   },
   {
    "duration": 19,
    "start_time": "2023-01-07T08:32:54.441Z"
   },
   {
    "duration": 17,
    "start_time": "2023-01-07T08:32:54.463Z"
   },
   {
    "duration": 59,
    "start_time": "2023-01-07T08:32:54.482Z"
   },
   {
    "duration": 121,
    "start_time": "2023-01-07T08:32:54.542Z"
   },
   {
    "duration": 12,
    "start_time": "2023-01-07T08:32:54.665Z"
   },
   {
    "duration": 84,
    "start_time": "2023-01-07T08:32:54.679Z"
   },
   {
    "duration": 33,
    "start_time": "2023-01-07T08:32:54.764Z"
   },
   {
    "duration": 19,
    "start_time": "2023-01-07T08:32:54.799Z"
   },
   {
    "duration": 78,
    "start_time": "2023-01-07T08:32:54.820Z"
   },
   {
    "duration": 17,
    "start_time": "2023-01-07T08:32:54.900Z"
   },
   {
    "duration": 48,
    "start_time": "2023-01-07T08:32:54.919Z"
   },
   {
    "duration": 246,
    "start_time": "2023-01-07T08:32:54.968Z"
   },
   {
    "duration": 62,
    "start_time": "2023-01-07T08:32:55.216Z"
   },
   {
    "duration": 73,
    "start_time": "2023-01-07T08:32:55.280Z"
   },
   {
    "duration": 7,
    "start_time": "2023-01-07T08:32:55.354Z"
   },
   {
    "duration": 22,
    "start_time": "2023-01-07T08:32:55.362Z"
   },
   {
    "duration": 37,
    "start_time": "2023-01-07T08:32:55.387Z"
   },
   {
    "duration": 109,
    "start_time": "2023-01-07T08:32:55.426Z"
   },
   {
    "duration": 14,
    "start_time": "2023-01-07T08:32:55.537Z"
   },
   {
    "duration": 12,
    "start_time": "2023-01-07T08:32:55.552Z"
   },
   {
    "duration": 30,
    "start_time": "2023-01-07T08:32:55.566Z"
   },
   {
    "duration": 48,
    "start_time": "2023-01-07T08:32:55.597Z"
   },
   {
    "duration": 6,
    "start_time": "2023-01-07T08:32:55.647Z"
   },
   {
    "duration": 53,
    "start_time": "2023-01-07T08:32:55.655Z"
   },
   {
    "duration": 84,
    "start_time": "2023-01-07T08:32:55.711Z"
   },
   {
    "duration": 45,
    "start_time": "2023-01-07T08:32:55.796Z"
   },
   {
    "duration": 5,
    "start_time": "2023-01-07T08:32:55.842Z"
   },
   {
    "duration": 12,
    "start_time": "2023-01-07T08:32:55.848Z"
   },
   {
    "duration": 22,
    "start_time": "2023-01-07T08:32:55.861Z"
   },
   {
    "duration": 15,
    "start_time": "2023-01-07T08:32:55.885Z"
   },
   {
    "duration": 10,
    "start_time": "2023-01-07T08:32:55.912Z"
   },
   {
    "duration": 30,
    "start_time": "2023-01-07T08:32:55.924Z"
   },
   {
    "duration": 33,
    "start_time": "2023-01-07T08:32:55.956Z"
   },
   {
    "duration": 22,
    "start_time": "2023-01-07T08:32:55.991Z"
   },
   {
    "duration": 15,
    "start_time": "2023-01-07T08:32:56.015Z"
   },
   {
    "duration": 11,
    "start_time": "2023-01-07T08:32:56.032Z"
   },
   {
    "duration": 10,
    "start_time": "2023-01-07T08:32:56.045Z"
   },
   {
    "duration": 12,
    "start_time": "2023-01-07T08:32:56.057Z"
   },
   {
    "duration": 41,
    "start_time": "2023-01-07T08:32:56.071Z"
   },
   {
    "duration": 4,
    "start_time": "2023-01-07T08:42:32.880Z"
   },
   {
    "duration": 165,
    "start_time": "2023-01-07T08:42:32.886Z"
   },
   {
    "duration": 11,
    "start_time": "2023-01-07T08:42:33.053Z"
   },
   {
    "duration": 82,
    "start_time": "2023-01-07T08:42:33.066Z"
   },
   {
    "duration": 17,
    "start_time": "2023-01-07T08:42:33.150Z"
   },
   {
    "duration": 13,
    "start_time": "2023-01-07T08:42:33.168Z"
   },
   {
    "duration": 6,
    "start_time": "2023-01-07T08:42:33.183Z"
   },
   {
    "duration": 25,
    "start_time": "2023-01-07T08:42:33.191Z"
   },
   {
    "duration": 12,
    "start_time": "2023-01-07T08:42:33.218Z"
   },
   {
    "duration": 50,
    "start_time": "2023-01-07T08:42:33.232Z"
   },
   {
    "duration": 116,
    "start_time": "2023-01-07T08:42:33.284Z"
   },
   {
    "duration": 19,
    "start_time": "2023-01-07T08:42:33.402Z"
   },
   {
    "duration": 68,
    "start_time": "2023-01-07T08:42:33.423Z"
   },
   {
    "duration": 46,
    "start_time": "2023-01-07T08:42:33.492Z"
   },
   {
    "duration": 18,
    "start_time": "2023-01-07T08:42:33.541Z"
   },
   {
    "duration": 47,
    "start_time": "2023-01-07T08:42:33.561Z"
   },
   {
    "duration": 18,
    "start_time": "2023-01-07T08:42:33.612Z"
   },
   {
    "duration": 19,
    "start_time": "2023-01-07T08:42:33.632Z"
   },
   {
    "duration": 355,
    "start_time": "2023-01-07T08:42:33.653Z"
   },
   {
    "duration": 59,
    "start_time": "2023-01-07T08:42:34.013Z"
   },
   {
    "duration": 65,
    "start_time": "2023-01-07T08:42:34.074Z"
   },
   {
    "duration": 6,
    "start_time": "2023-01-07T08:42:34.141Z"
   },
   {
    "duration": 9,
    "start_time": "2023-01-07T08:42:34.149Z"
   },
   {
    "duration": 24,
    "start_time": "2023-01-07T08:42:34.161Z"
   },
   {
    "duration": 89,
    "start_time": "2023-01-07T08:42:34.187Z"
   },
   {
    "duration": 13,
    "start_time": "2023-01-07T08:42:34.278Z"
   },
   {
    "duration": 26,
    "start_time": "2023-01-07T08:42:34.293Z"
   },
   {
    "duration": 13,
    "start_time": "2023-01-07T08:42:34.321Z"
   },
   {
    "duration": 43,
    "start_time": "2023-01-07T08:42:34.336Z"
   },
   {
    "duration": 4,
    "start_time": "2023-01-07T08:42:34.381Z"
   },
   {
    "duration": 41,
    "start_time": "2023-01-07T08:42:34.412Z"
   },
   {
    "duration": 117,
    "start_time": "2023-01-07T08:42:34.455Z"
   },
   {
    "duration": 45,
    "start_time": "2023-01-07T08:42:34.574Z"
   },
   {
    "duration": 5,
    "start_time": "2023-01-07T08:42:34.620Z"
   },
   {
    "duration": 20,
    "start_time": "2023-01-07T08:42:34.626Z"
   },
   {
    "duration": 23,
    "start_time": "2023-01-07T08:42:34.648Z"
   },
   {
    "duration": 26,
    "start_time": "2023-01-07T08:42:34.673Z"
   },
   {
    "duration": 27,
    "start_time": "2023-01-07T08:42:34.701Z"
   },
   {
    "duration": 21,
    "start_time": "2023-01-07T08:42:34.730Z"
   },
   {
    "duration": 19,
    "start_time": "2023-01-07T08:42:34.753Z"
   },
   {
    "duration": 30,
    "start_time": "2023-01-07T08:42:34.774Z"
   },
   {
    "duration": 46,
    "start_time": "2023-01-07T08:42:34.806Z"
   },
   {
    "duration": 15,
    "start_time": "2023-01-07T08:42:34.854Z"
   },
   {
    "duration": 26,
    "start_time": "2023-01-07T08:42:34.871Z"
   },
   {
    "duration": 31,
    "start_time": "2023-01-07T08:42:34.899Z"
   },
   {
    "duration": 27,
    "start_time": "2023-01-07T08:42:34.933Z"
   },
   {
    "duration": 9,
    "start_time": "2023-01-07T08:54:05.909Z"
   },
   {
    "duration": 89,
    "start_time": "2023-01-07T08:58:11.403Z"
   },
   {
    "duration": 86,
    "start_time": "2023-01-07T08:58:31.389Z"
   },
   {
    "duration": 35,
    "start_time": "2023-01-07T08:58:33.764Z"
   },
   {
    "duration": 83,
    "start_time": "2023-01-07T08:58:55.638Z"
   },
   {
    "duration": 37,
    "start_time": "2023-01-07T08:58:59.600Z"
   },
   {
    "duration": 3,
    "start_time": "2023-01-07T08:59:04.471Z"
   },
   {
    "duration": 185,
    "start_time": "2023-01-07T08:59:04.477Z"
   },
   {
    "duration": 11,
    "start_time": "2023-01-07T08:59:04.664Z"
   },
   {
    "duration": 90,
    "start_time": "2023-01-07T08:59:04.678Z"
   },
   {
    "duration": 19,
    "start_time": "2023-01-07T08:59:04.770Z"
   },
   {
    "duration": 28,
    "start_time": "2023-01-07T08:59:04.791Z"
   },
   {
    "duration": 9,
    "start_time": "2023-01-07T08:59:04.821Z"
   },
   {
    "duration": 8,
    "start_time": "2023-01-07T08:59:04.833Z"
   },
   {
    "duration": 7,
    "start_time": "2023-01-07T08:59:04.844Z"
   },
   {
    "duration": 103,
    "start_time": "2023-01-07T08:59:04.853Z"
   },
   {
    "duration": 127,
    "start_time": "2023-01-07T08:59:04.958Z"
   },
   {
    "duration": 25,
    "start_time": "2023-01-07T08:59:05.087Z"
   },
   {
    "duration": 80,
    "start_time": "2023-01-07T08:59:05.114Z"
   },
   {
    "duration": 46,
    "start_time": "2023-01-07T08:59:05.197Z"
   },
   {
    "duration": 11,
    "start_time": "2023-01-07T08:59:05.245Z"
   },
   {
    "duration": 71,
    "start_time": "2023-01-07T08:59:05.257Z"
   },
   {
    "duration": 22,
    "start_time": "2023-01-07T08:59:05.331Z"
   },
   {
    "duration": 42,
    "start_time": "2023-01-07T08:59:05.355Z"
   },
   {
    "duration": 245,
    "start_time": "2023-01-07T08:59:05.399Z"
   },
   {
    "duration": 71,
    "start_time": "2023-01-07T08:59:05.646Z"
   },
   {
    "duration": 42,
    "start_time": "2023-01-07T08:59:05.719Z"
   },
   {
    "duration": 7,
    "start_time": "2023-01-07T08:59:05.763Z"
   },
   {
    "duration": 9,
    "start_time": "2023-01-07T08:59:05.772Z"
   },
   {
    "duration": 23,
    "start_time": "2023-01-07T08:59:05.812Z"
   },
   {
    "duration": 86,
    "start_time": "2023-01-07T08:59:05.837Z"
   },
   {
    "duration": 13,
    "start_time": "2023-01-07T08:59:05.925Z"
   },
   {
    "duration": 7,
    "start_time": "2023-01-07T08:59:05.940Z"
   },
   {
    "duration": 12,
    "start_time": "2023-01-07T08:59:05.949Z"
   },
   {
    "duration": 90,
    "start_time": "2023-01-07T08:59:05.963Z"
   },
   {
    "duration": 4,
    "start_time": "2023-01-07T08:59:06.055Z"
   },
   {
    "duration": 61,
    "start_time": "2023-01-07T08:59:06.060Z"
   },
   {
    "duration": 103,
    "start_time": "2023-01-07T08:59:06.123Z"
   },
   {
    "duration": 42,
    "start_time": "2023-01-07T08:59:06.228Z"
   },
   {
    "duration": 7,
    "start_time": "2023-01-07T08:59:06.272Z"
   },
   {
    "duration": 45,
    "start_time": "2023-01-07T08:59:06.282Z"
   },
   {
    "duration": 19,
    "start_time": "2023-01-07T08:59:06.330Z"
   },
   {
    "duration": 28,
    "start_time": "2023-01-07T08:59:06.352Z"
   },
   {
    "duration": 48,
    "start_time": "2023-01-07T08:59:06.382Z"
   },
   {
    "duration": 18,
    "start_time": "2023-01-07T08:59:06.432Z"
   },
   {
    "duration": 860,
    "start_time": "2023-01-07T08:59:06.452Z"
   },
   {
    "duration": 0,
    "start_time": "2023-01-07T08:59:07.313Z"
   },
   {
    "duration": 0,
    "start_time": "2023-01-07T08:59:07.315Z"
   },
   {
    "duration": 0,
    "start_time": "2023-01-07T08:59:07.316Z"
   },
   {
    "duration": 0,
    "start_time": "2023-01-07T08:59:07.317Z"
   },
   {
    "duration": 0,
    "start_time": "2023-01-07T08:59:07.318Z"
   },
   {
    "duration": 0,
    "start_time": "2023-01-07T08:59:07.319Z"
   },
   {
    "duration": 11,
    "start_time": "2023-01-07T08:59:18.036Z"
   },
   {
    "duration": 5,
    "start_time": "2023-01-07T08:59:23.337Z"
   },
   {
    "duration": 3,
    "start_time": "2023-01-07T08:59:32.508Z"
   },
   {
    "duration": 166,
    "start_time": "2023-01-07T08:59:32.513Z"
   },
   {
    "duration": 12,
    "start_time": "2023-01-07T08:59:32.681Z"
   },
   {
    "duration": 99,
    "start_time": "2023-01-07T08:59:32.695Z"
   },
   {
    "duration": 28,
    "start_time": "2023-01-07T08:59:32.797Z"
   },
   {
    "duration": 14,
    "start_time": "2023-01-07T08:59:32.827Z"
   },
   {
    "duration": 11,
    "start_time": "2023-01-07T08:59:32.843Z"
   },
   {
    "duration": 7,
    "start_time": "2023-01-07T08:59:32.856Z"
   },
   {
    "duration": 8,
    "start_time": "2023-01-07T08:59:32.865Z"
   },
   {
    "duration": 84,
    "start_time": "2023-01-07T08:59:32.875Z"
   },
   {
    "duration": 119,
    "start_time": "2023-01-07T08:59:32.963Z"
   },
   {
    "duration": 15,
    "start_time": "2023-01-07T08:59:33.085Z"
   },
   {
    "duration": 103,
    "start_time": "2023-01-07T08:59:33.113Z"
   },
   {
    "duration": 29,
    "start_time": "2023-01-07T08:59:33.218Z"
   },
   {
    "duration": 9,
    "start_time": "2023-01-07T08:59:33.248Z"
   },
   {
    "duration": 70,
    "start_time": "2023-01-07T08:59:33.259Z"
   },
   {
    "duration": 21,
    "start_time": "2023-01-07T08:59:33.332Z"
   },
   {
    "duration": 23,
    "start_time": "2023-01-07T08:59:33.355Z"
   },
   {
    "duration": 243,
    "start_time": "2023-01-07T08:59:33.380Z"
   },
   {
    "duration": 56,
    "start_time": "2023-01-07T08:59:33.625Z"
   },
   {
    "duration": 64,
    "start_time": "2023-01-07T08:59:33.682Z"
   },
   {
    "duration": 7,
    "start_time": "2023-01-07T08:59:33.747Z"
   },
   {
    "duration": 16,
    "start_time": "2023-01-07T08:59:33.756Z"
   },
   {
    "duration": 42,
    "start_time": "2023-01-07T08:59:33.774Z"
   },
   {
    "duration": 74,
    "start_time": "2023-01-07T08:59:33.818Z"
   },
   {
    "duration": 33,
    "start_time": "2023-01-07T08:59:33.894Z"
   },
   {
    "duration": 10,
    "start_time": "2023-01-07T08:59:33.929Z"
   },
   {
    "duration": 14,
    "start_time": "2023-01-07T08:59:33.941Z"
   },
   {
    "duration": 73,
    "start_time": "2023-01-07T08:59:33.960Z"
   },
   {
    "duration": 4,
    "start_time": "2023-01-07T08:59:34.035Z"
   },
   {
    "duration": 46,
    "start_time": "2023-01-07T08:59:34.042Z"
   },
   {
    "duration": 131,
    "start_time": "2023-01-07T08:59:34.090Z"
   },
   {
    "duration": 37,
    "start_time": "2023-01-07T08:59:34.222Z"
   },
   {
    "duration": 4,
    "start_time": "2023-01-07T08:59:34.261Z"
   },
   {
    "duration": 8,
    "start_time": "2023-01-07T08:59:34.267Z"
   },
   {
    "duration": 35,
    "start_time": "2023-01-07T08:59:34.277Z"
   },
   {
    "duration": 11,
    "start_time": "2023-01-07T08:59:34.314Z"
   },
   {
    "duration": 13,
    "start_time": "2023-01-07T08:59:34.326Z"
   },
   {
    "duration": 13,
    "start_time": "2023-01-07T08:59:34.341Z"
   },
   {
    "duration": 12,
    "start_time": "2023-01-07T08:59:34.355Z"
   },
   {
    "duration": 9,
    "start_time": "2023-01-07T08:59:34.369Z"
   },
   {
    "duration": 38,
    "start_time": "2023-01-07T08:59:34.380Z"
   },
   {
    "duration": 11,
    "start_time": "2023-01-07T08:59:34.420Z"
   },
   {
    "duration": 10,
    "start_time": "2023-01-07T08:59:34.433Z"
   },
   {
    "duration": 10,
    "start_time": "2023-01-07T08:59:34.445Z"
   },
   {
    "duration": 10,
    "start_time": "2023-01-07T08:59:34.457Z"
   },
   {
    "duration": 1293,
    "start_time": "2023-01-07T10:23:58.224Z"
   },
   {
    "duration": 631,
    "start_time": "2023-01-07T10:23:59.520Z"
   },
   {
    "duration": 14,
    "start_time": "2023-01-07T10:24:00.152Z"
   },
   {
    "duration": 106,
    "start_time": "2023-01-07T10:24:00.169Z"
   },
   {
    "duration": 21,
    "start_time": "2023-01-07T10:24:00.277Z"
   },
   {
    "duration": 28,
    "start_time": "2023-01-07T10:24:00.315Z"
   },
   {
    "duration": 15,
    "start_time": "2023-01-07T10:24:00.345Z"
   },
   {
    "duration": 17,
    "start_time": "2023-01-07T10:24:00.362Z"
   },
   {
    "duration": 10,
    "start_time": "2023-01-07T10:24:00.381Z"
   },
   {
    "duration": 72,
    "start_time": "2023-01-07T10:24:00.418Z"
   },
   {
    "duration": 162,
    "start_time": "2023-01-07T10:24:00.492Z"
   },
   {
    "duration": 14,
    "start_time": "2023-01-07T10:24:00.655Z"
   },
   {
    "duration": 105,
    "start_time": "2023-01-07T10:24:00.670Z"
   },
   {
    "duration": 45,
    "start_time": "2023-01-07T10:24:00.777Z"
   },
   {
    "duration": 17,
    "start_time": "2023-01-07T10:24:00.824Z"
   },
   {
    "duration": 61,
    "start_time": "2023-01-07T10:24:00.843Z"
   },
   {
    "duration": 30,
    "start_time": "2023-01-07T10:24:00.915Z"
   },
   {
    "duration": 55,
    "start_time": "2023-01-07T10:24:00.947Z"
   },
   {
    "duration": 320,
    "start_time": "2023-01-07T10:24:01.005Z"
   },
   {
    "duration": 62,
    "start_time": "2023-01-07T10:24:01.331Z"
   },
   {
    "duration": 50,
    "start_time": "2023-01-07T10:24:01.394Z"
   },
   {
    "duration": 18,
    "start_time": "2023-01-07T10:24:01.446Z"
   },
   {
    "duration": 14,
    "start_time": "2023-01-07T10:24:01.466Z"
   },
   {
    "duration": 40,
    "start_time": "2023-01-07T10:24:01.482Z"
   },
   {
    "duration": 88,
    "start_time": "2023-01-07T10:24:01.523Z"
   },
   {
    "duration": 20,
    "start_time": "2023-01-07T10:24:01.615Z"
   },
   {
    "duration": 26,
    "start_time": "2023-01-07T10:24:01.637Z"
   },
   {
    "duration": 22,
    "start_time": "2023-01-07T10:24:01.666Z"
   },
   {
    "duration": 666,
    "start_time": "2023-01-07T10:24:01.690Z"
   },
   {
    "duration": 5,
    "start_time": "2023-01-07T10:24:02.363Z"
   },
   {
    "duration": 90,
    "start_time": "2023-01-07T10:24:02.370Z"
   },
   {
    "duration": 144,
    "start_time": "2023-01-07T10:24:02.462Z"
   },
   {
    "duration": 39,
    "start_time": "2023-01-07T10:24:02.613Z"
   },
   {
    "duration": 6,
    "start_time": "2023-01-07T10:24:02.654Z"
   },
   {
    "duration": 50,
    "start_time": "2023-01-07T10:24:02.662Z"
   },
   {
    "duration": 56,
    "start_time": "2023-01-07T10:24:02.713Z"
   },
   {
    "duration": 34,
    "start_time": "2023-01-07T10:24:02.771Z"
   },
   {
    "duration": 33,
    "start_time": "2023-01-07T10:24:02.807Z"
   },
   {
    "duration": 18,
    "start_time": "2023-01-07T10:24:02.842Z"
   },
   {
    "duration": 22,
    "start_time": "2023-01-07T10:24:02.862Z"
   },
   {
    "duration": 42,
    "start_time": "2023-01-07T10:24:02.886Z"
   },
   {
    "duration": 20,
    "start_time": "2023-01-07T10:24:02.930Z"
   },
   {
    "duration": 24,
    "start_time": "2023-01-07T10:24:02.952Z"
   },
   {
    "duration": 27,
    "start_time": "2023-01-07T10:24:02.979Z"
   },
   {
    "duration": 43,
    "start_time": "2023-01-07T10:24:03.008Z"
   },
   {
    "duration": 27,
    "start_time": "2023-01-07T10:24:03.053Z"
   },
   {
    "duration": 7,
    "start_time": "2023-01-07T10:28:42.739Z"
   },
   {
    "duration": 3,
    "start_time": "2023-01-07T10:29:40.088Z"
   },
   {
    "duration": 158,
    "start_time": "2023-01-07T10:29:40.137Z"
   },
   {
    "duration": 22,
    "start_time": "2023-01-07T10:29:40.297Z"
   },
   {
    "duration": 83,
    "start_time": "2023-01-07T10:29:40.323Z"
   },
   {
    "duration": 22,
    "start_time": "2023-01-07T10:29:40.407Z"
   },
   {
    "duration": 15,
    "start_time": "2023-01-07T10:29:40.431Z"
   },
   {
    "duration": 6,
    "start_time": "2023-01-07T10:29:40.448Z"
   },
   {
    "duration": 6,
    "start_time": "2023-01-07T10:29:40.456Z"
   },
   {
    "duration": 6,
    "start_time": "2023-01-07T10:29:40.464Z"
   },
   {
    "duration": 92,
    "start_time": "2023-01-07T10:29:40.471Z"
   },
   {
    "duration": 119,
    "start_time": "2023-01-07T10:29:40.564Z"
   },
   {
    "duration": 13,
    "start_time": "2023-01-07T10:29:40.684Z"
   },
   {
    "duration": 84,
    "start_time": "2023-01-07T10:29:40.698Z"
   },
   {
    "duration": 43,
    "start_time": "2023-01-07T10:29:40.784Z"
   },
   {
    "duration": 5,
    "start_time": "2023-01-07T10:29:40.830Z"
   },
   {
    "duration": 48,
    "start_time": "2023-01-07T10:29:40.837Z"
   },
   {
    "duration": 40,
    "start_time": "2023-01-07T10:29:40.887Z"
   },
   {
    "duration": 17,
    "start_time": "2023-01-07T10:29:40.930Z"
   },
   {
    "duration": 303,
    "start_time": "2023-01-07T10:29:40.949Z"
   },
   {
    "duration": 75,
    "start_time": "2023-01-07T10:29:41.253Z"
   },
   {
    "duration": 41,
    "start_time": "2023-01-07T10:29:41.330Z"
   },
   {
    "duration": 6,
    "start_time": "2023-01-07T10:29:41.372Z"
   },
   {
    "duration": 8,
    "start_time": "2023-01-07T10:29:41.380Z"
   },
   {
    "duration": 44,
    "start_time": "2023-01-07T10:29:41.389Z"
   },
   {
    "duration": 81,
    "start_time": "2023-01-07T10:29:41.434Z"
   },
   {
    "duration": 19,
    "start_time": "2023-01-07T10:29:41.517Z"
   },
   {
    "duration": 9,
    "start_time": "2023-01-07T10:29:41.538Z"
   },
   {
    "duration": 13,
    "start_time": "2023-01-07T10:29:41.548Z"
   },
   {
    "duration": 72,
    "start_time": "2023-01-07T10:29:41.563Z"
   },
   {
    "duration": 4,
    "start_time": "2023-01-07T10:29:41.636Z"
   },
   {
    "duration": 45,
    "start_time": "2023-01-07T10:29:41.641Z"
   },
   {
    "duration": 100,
    "start_time": "2023-01-07T10:29:50.578Z"
   },
   {
    "duration": 35,
    "start_time": "2023-01-07T10:29:50.681Z"
   },
   {
    "duration": 4,
    "start_time": "2023-01-07T10:29:50.718Z"
   },
   {
    "duration": 9,
    "start_time": "2023-01-07T10:29:50.731Z"
   },
   {
    "duration": 12,
    "start_time": "2023-01-07T10:29:50.742Z"
   },
   {
    "duration": 10,
    "start_time": "2023-01-07T10:29:50.756Z"
   },
   {
    "duration": 9,
    "start_time": "2023-01-07T10:29:50.767Z"
   },
   {
    "duration": 7,
    "start_time": "2023-01-07T10:29:50.778Z"
   },
   {
    "duration": 31,
    "start_time": "2023-01-07T10:29:50.786Z"
   },
   {
    "duration": 15,
    "start_time": "2023-01-07T10:29:50.824Z"
   },
   {
    "duration": 11,
    "start_time": "2023-01-07T10:29:50.841Z"
   },
   {
    "duration": 9,
    "start_time": "2023-01-07T10:29:50.853Z"
   },
   {
    "duration": 13,
    "start_time": "2023-01-07T10:29:50.863Z"
   },
   {
    "duration": 8,
    "start_time": "2023-01-07T10:29:50.879Z"
   },
   {
    "duration": 33,
    "start_time": "2023-01-07T10:29:50.889Z"
   },
   {
    "duration": 95,
    "start_time": "2023-01-07T10:30:18.550Z"
   },
   {
    "duration": 37,
    "start_time": "2023-01-07T10:30:18.647Z"
   },
   {
    "duration": 6,
    "start_time": "2023-01-07T10:30:18.685Z"
   },
   {
    "duration": 22,
    "start_time": "2023-01-07T10:30:18.692Z"
   },
   {
    "duration": 23,
    "start_time": "2023-01-07T10:30:18.719Z"
   },
   {
    "duration": 11,
    "start_time": "2023-01-07T10:30:18.744Z"
   },
   {
    "duration": 9,
    "start_time": "2023-01-07T10:30:18.757Z"
   },
   {
    "duration": 11,
    "start_time": "2023-01-07T10:30:18.768Z"
   },
   {
    "duration": 35,
    "start_time": "2023-01-07T10:30:18.781Z"
   },
   {
    "duration": 18,
    "start_time": "2023-01-07T10:30:18.817Z"
   },
   {
    "duration": 11,
    "start_time": "2023-01-07T10:30:18.837Z"
   },
   {
    "duration": 9,
    "start_time": "2023-01-07T10:30:18.850Z"
   },
   {
    "duration": 10,
    "start_time": "2023-01-07T10:30:18.860Z"
   },
   {
    "duration": 8,
    "start_time": "2023-01-07T10:30:18.872Z"
   },
   {
    "duration": 42,
    "start_time": "2023-01-07T10:30:18.882Z"
   },
   {
    "duration": 4,
    "start_time": "2023-01-07T10:34:08.879Z"
   },
   {
    "duration": 16,
    "start_time": "2023-01-07T10:35:49.123Z"
   },
   {
    "duration": 730,
    "start_time": "2023-01-07T10:35:55.490Z"
   },
   {
    "duration": 1234,
    "start_time": "2023-01-09T09:49:35.307Z"
   },
   {
    "duration": 512,
    "start_time": "2023-01-09T09:49:36.543Z"
   },
   {
    "duration": 11,
    "start_time": "2023-01-09T09:49:37.056Z"
   },
   {
    "duration": 91,
    "start_time": "2023-01-09T09:49:37.068Z"
   },
   {
    "duration": 20,
    "start_time": "2023-01-09T09:49:37.160Z"
   },
   {
    "duration": 22,
    "start_time": "2023-01-09T09:49:37.182Z"
   },
   {
    "duration": 6,
    "start_time": "2023-01-09T09:49:37.206Z"
   },
   {
    "duration": 7,
    "start_time": "2023-01-09T09:49:37.213Z"
   },
   {
    "duration": 12,
    "start_time": "2023-01-09T09:49:37.221Z"
   },
   {
    "duration": 78,
    "start_time": "2023-01-09T09:49:37.235Z"
   },
   {
    "duration": 137,
    "start_time": "2023-01-09T09:49:37.315Z"
   },
   {
    "duration": 13,
    "start_time": "2023-01-09T09:49:37.454Z"
   },
   {
    "duration": 69,
    "start_time": "2023-01-09T09:49:37.468Z"
   },
   {
    "duration": 45,
    "start_time": "2023-01-09T09:49:37.539Z"
   },
   {
    "duration": 8,
    "start_time": "2023-01-09T09:49:37.586Z"
   },
   {
    "duration": 68,
    "start_time": "2023-01-09T09:49:37.595Z"
   },
   {
    "duration": 18,
    "start_time": "2023-01-09T09:49:37.665Z"
   },
   {
    "duration": 21,
    "start_time": "2023-01-09T09:49:37.685Z"
   },
   {
    "duration": 247,
    "start_time": "2023-01-09T09:49:37.708Z"
   },
   {
    "duration": 631,
    "start_time": "2023-01-09T09:49:37.957Z"
   },
   {
    "duration": 80,
    "start_time": "2023-01-09T09:49:38.590Z"
   },
   {
    "duration": 48,
    "start_time": "2023-01-09T09:49:38.672Z"
   },
   {
    "duration": 6,
    "start_time": "2023-01-09T09:49:38.722Z"
   },
   {
    "duration": 31,
    "start_time": "2023-01-09T09:49:38.730Z"
   },
   {
    "duration": 27,
    "start_time": "2023-01-09T09:49:38.763Z"
   },
   {
    "duration": 81,
    "start_time": "2023-01-09T09:49:38.792Z"
   },
   {
    "duration": 14,
    "start_time": "2023-01-09T09:49:38.875Z"
   },
   {
    "duration": 7,
    "start_time": "2023-01-09T09:49:38.890Z"
   },
   {
    "duration": 23,
    "start_time": "2023-01-09T09:49:38.899Z"
   },
   {
    "duration": 519,
    "start_time": "2023-01-09T09:49:38.923Z"
   },
   {
    "duration": 3,
    "start_time": "2023-01-09T09:49:39.444Z"
   },
   {
    "duration": 107,
    "start_time": "2023-01-09T09:49:39.449Z"
   },
   {
    "duration": 85,
    "start_time": "2023-01-09T09:49:39.557Z"
   },
   {
    "duration": 37,
    "start_time": "2023-01-09T09:49:39.654Z"
   },
   {
    "duration": 5,
    "start_time": "2023-01-09T09:49:39.693Z"
   },
   {
    "duration": 14,
    "start_time": "2023-01-09T09:49:39.699Z"
   },
   {
    "duration": 21,
    "start_time": "2023-01-09T09:49:39.714Z"
   },
   {
    "duration": 20,
    "start_time": "2023-01-09T09:49:39.737Z"
   },
   {
    "duration": 13,
    "start_time": "2023-01-09T09:49:39.758Z"
   },
   {
    "duration": 13,
    "start_time": "2023-01-09T09:49:39.773Z"
   },
   {
    "duration": 20,
    "start_time": "2023-01-09T09:49:39.790Z"
   },
   {
    "duration": 23,
    "start_time": "2023-01-09T09:49:39.811Z"
   },
   {
    "duration": 15,
    "start_time": "2023-01-09T09:49:39.835Z"
   },
   {
    "duration": 21,
    "start_time": "2023-01-09T09:49:39.852Z"
   },
   {
    "duration": 12,
    "start_time": "2023-01-09T09:49:39.874Z"
   },
   {
    "duration": 8,
    "start_time": "2023-01-09T09:49:39.888Z"
   },
   {
    "duration": 10,
    "start_time": "2023-01-09T09:49:39.898Z"
   },
   {
    "duration": 4,
    "start_time": "2023-01-09T09:50:43.707Z"
   },
   {
    "duration": 162,
    "start_time": "2023-01-09T09:52:42.469Z"
   },
   {
    "duration": 21,
    "start_time": "2023-01-09T09:53:14.205Z"
   },
   {
    "duration": 83,
    "start_time": "2023-01-09T09:53:16.130Z"
   },
   {
    "duration": 18,
    "start_time": "2023-01-09T09:53:33.381Z"
   },
   {
    "duration": 75,
    "start_time": "2023-01-09T09:53:42.778Z"
   },
   {
    "duration": 18,
    "start_time": "2023-01-09T09:53:45.571Z"
   },
   {
    "duration": 3,
    "start_time": "2023-01-09T09:53:52.340Z"
   },
   {
    "duration": 69,
    "start_time": "2023-01-09T09:54:00.627Z"
   },
   {
    "duration": 156,
    "start_time": "2023-01-09T09:56:38.105Z"
   },
   {
    "duration": 44,
    "start_time": "2023-01-09T09:56:50.324Z"
   },
   {
    "duration": 862,
    "start_time": "2023-01-09T09:56:55.949Z"
   },
   {
    "duration": 27,
    "start_time": "2023-01-09T09:57:12.974Z"
   },
   {
    "duration": 59,
    "start_time": "2023-01-09T09:57:33.608Z"
   },
   {
    "duration": 8,
    "start_time": "2023-01-09T09:57:37.235Z"
   },
   {
    "duration": 6,
    "start_time": "2023-01-09T09:57:50.042Z"
   },
   {
    "duration": 6,
    "start_time": "2023-01-09T09:58:09.236Z"
   },
   {
    "duration": 148,
    "start_time": "2023-01-09T10:02:38.436Z"
   },
   {
    "duration": 150,
    "start_time": "2023-01-09T10:04:32.388Z"
   },
   {
    "duration": 130,
    "start_time": "2023-01-09T10:04:40.322Z"
   },
   {
    "duration": 225,
    "start_time": "2023-01-09T10:04:47.049Z"
   },
   {
    "duration": 149,
    "start_time": "2023-01-09T10:05:47.626Z"
   },
   {
    "duration": 183,
    "start_time": "2023-01-09T10:05:52.406Z"
   },
   {
    "duration": 239,
    "start_time": "2023-01-09T10:05:58.534Z"
   },
   {
    "duration": 170,
    "start_time": "2023-01-09T10:06:03.052Z"
   },
   {
    "duration": 192,
    "start_time": "2023-01-09T10:06:05.608Z"
   },
   {
    "duration": 192,
    "start_time": "2023-01-09T10:06:12.476Z"
   },
   {
    "duration": 194,
    "start_time": "2023-01-09T10:06:16.742Z"
   },
   {
    "duration": 301,
    "start_time": "2023-01-09T10:09:02.256Z"
   },
   {
    "duration": 315,
    "start_time": "2023-01-09T10:09:29.204Z"
   },
   {
    "duration": 73,
    "start_time": "2023-01-09T10:14:12.534Z"
   },
   {
    "duration": 79,
    "start_time": "2023-01-09T10:14:28.707Z"
   },
   {
    "duration": 7,
    "start_time": "2023-01-09T10:14:45.745Z"
   },
   {
    "duration": 73,
    "start_time": "2023-01-09T10:14:53.198Z"
   },
   {
    "duration": 75,
    "start_time": "2023-01-09T10:14:56.176Z"
   },
   {
    "duration": 88,
    "start_time": "2023-01-09T10:15:45.014Z"
   },
   {
    "duration": 76,
    "start_time": "2023-01-09T10:15:47.408Z"
   },
   {
    "duration": 72,
    "start_time": "2023-01-09T10:16:06.120Z"
   },
   {
    "duration": 9,
    "start_time": "2023-01-09T10:16:25.306Z"
   },
   {
    "duration": 8,
    "start_time": "2023-01-09T10:16:48.978Z"
   },
   {
    "duration": 4,
    "start_time": "2023-01-09T10:17:08.422Z"
   },
   {
    "duration": 4,
    "start_time": "2023-01-09T10:17:51.972Z"
   },
   {
    "duration": 7,
    "start_time": "2023-01-09T10:18:30.754Z"
   },
   {
    "duration": 7,
    "start_time": "2023-01-09T10:19:40.962Z"
   },
   {
    "duration": 8,
    "start_time": "2023-01-09T10:19:47.106Z"
   },
   {
    "duration": 9,
    "start_time": "2023-01-09T10:20:04.950Z"
   },
   {
    "duration": 7,
    "start_time": "2023-01-09T10:20:13.177Z"
   },
   {
    "duration": 853,
    "start_time": "2023-01-09T10:22:27.579Z"
   },
   {
    "duration": 745,
    "start_time": "2023-01-09T10:22:51.121Z"
   },
   {
    "duration": 865,
    "start_time": "2023-01-09T10:22:58.911Z"
   },
   {
    "duration": 6,
    "start_time": "2023-01-09T10:23:14.223Z"
   },
   {
    "duration": 282,
    "start_time": "2023-01-09T10:23:27.810Z"
   },
   {
    "duration": 784,
    "start_time": "2023-01-09T10:23:38.135Z"
   },
   {
    "duration": 3,
    "start_time": "2023-01-09T10:23:45.462Z"
   },
   {
    "duration": 166,
    "start_time": "2023-01-09T10:23:45.469Z"
   },
   {
    "duration": 20,
    "start_time": "2023-01-09T10:23:45.637Z"
   },
   {
    "duration": 83,
    "start_time": "2023-01-09T10:23:45.658Z"
   },
   {
    "duration": 30,
    "start_time": "2023-01-09T10:23:45.743Z"
   },
   {
    "duration": 17,
    "start_time": "2023-01-09T10:23:45.774Z"
   },
   {
    "duration": 7,
    "start_time": "2023-01-09T10:23:45.792Z"
   },
   {
    "duration": 8,
    "start_time": "2023-01-09T10:23:45.800Z"
   },
   {
    "duration": 8,
    "start_time": "2023-01-09T10:23:45.810Z"
   },
   {
    "duration": 96,
    "start_time": "2023-01-09T10:23:45.820Z"
   },
   {
    "duration": 144,
    "start_time": "2023-01-09T10:23:45.919Z"
   },
   {
    "duration": 17,
    "start_time": "2023-01-09T10:23:46.065Z"
   },
   {
    "duration": 90,
    "start_time": "2023-01-09T10:23:46.083Z"
   },
   {
    "duration": 44,
    "start_time": "2023-01-09T10:23:46.175Z"
   },
   {
    "duration": 5,
    "start_time": "2023-01-09T10:23:46.221Z"
   },
   {
    "duration": 54,
    "start_time": "2023-01-09T10:23:46.228Z"
   },
   {
    "duration": 10,
    "start_time": "2023-01-09T10:23:46.285Z"
   },
   {
    "duration": 60,
    "start_time": "2023-01-09T10:23:46.297Z"
   },
   {
    "duration": 213,
    "start_time": "2023-01-09T10:23:46.359Z"
   },
   {
    "duration": 18,
    "start_time": "2023-01-09T10:23:46.573Z"
   },
   {
    "duration": 23,
    "start_time": "2023-01-09T10:23:46.593Z"
   },
   {
    "duration": 316,
    "start_time": "2023-01-09T10:23:46.617Z"
   },
   {
    "duration": 679,
    "start_time": "2023-01-09T10:23:46.935Z"
   },
   {
    "duration": 76,
    "start_time": "2023-01-09T10:23:47.616Z"
   },
   {
    "duration": 74,
    "start_time": "2023-01-09T10:23:47.694Z"
   },
   {
    "duration": 85,
    "start_time": "2023-01-09T10:23:47.770Z"
   },
   {
    "duration": 83,
    "start_time": "2023-01-09T10:23:47.857Z"
   },
   {
    "duration": 16,
    "start_time": "2023-01-09T10:23:47.942Z"
   },
   {
    "duration": 5,
    "start_time": "2023-01-09T10:23:47.961Z"
   },
   {
    "duration": 18,
    "start_time": "2023-01-09T10:23:47.968Z"
   },
   {
    "duration": 8,
    "start_time": "2023-01-09T10:23:47.988Z"
   },
   {
    "duration": 16,
    "start_time": "2023-01-09T10:23:47.998Z"
   },
   {
    "duration": 43,
    "start_time": "2023-01-09T10:23:48.016Z"
   },
   {
    "duration": 82,
    "start_time": "2023-01-09T10:23:48.061Z"
   },
   {
    "duration": 22,
    "start_time": "2023-01-09T10:23:48.145Z"
   },
   {
    "duration": 8,
    "start_time": "2023-01-09T10:23:48.168Z"
   },
   {
    "duration": 11,
    "start_time": "2023-01-09T10:23:52.010Z"
   },
   {
    "duration": 3,
    "start_time": "2023-01-09T10:24:05.124Z"
   },
   {
    "duration": 184,
    "start_time": "2023-01-09T10:24:05.129Z"
   },
   {
    "duration": 10,
    "start_time": "2023-01-09T10:24:05.315Z"
   },
   {
    "duration": 119,
    "start_time": "2023-01-09T10:24:05.327Z"
   },
   {
    "duration": 20,
    "start_time": "2023-01-09T10:24:05.448Z"
   },
   {
    "duration": 28,
    "start_time": "2023-01-09T10:24:05.469Z"
   },
   {
    "duration": 27,
    "start_time": "2023-01-09T10:24:05.499Z"
   },
   {
    "duration": 9,
    "start_time": "2023-01-09T10:24:05.528Z"
   },
   {
    "duration": 35,
    "start_time": "2023-01-09T10:24:05.538Z"
   },
   {
    "duration": 70,
    "start_time": "2023-01-09T10:24:05.574Z"
   },
   {
    "duration": 123,
    "start_time": "2023-01-09T10:24:05.645Z"
   },
   {
    "duration": 16,
    "start_time": "2023-01-09T10:24:05.769Z"
   },
   {
    "duration": 95,
    "start_time": "2023-01-09T10:24:05.787Z"
   },
   {
    "duration": 76,
    "start_time": "2023-01-09T10:24:05.885Z"
   },
   {
    "duration": 6,
    "start_time": "2023-01-09T10:24:05.962Z"
   },
   {
    "duration": 67,
    "start_time": "2023-01-09T10:24:05.970Z"
   },
   {
    "duration": 20,
    "start_time": "2023-01-09T10:24:06.038Z"
   },
   {
    "duration": 56,
    "start_time": "2023-01-09T10:24:06.060Z"
   },
   {
    "duration": 209,
    "start_time": "2023-01-09T10:24:06.118Z"
   },
   {
    "duration": 27,
    "start_time": "2023-01-09T10:24:06.329Z"
   },
   {
    "duration": 27,
    "start_time": "2023-01-09T10:24:06.358Z"
   },
   {
    "duration": 340,
    "start_time": "2023-01-09T10:24:06.386Z"
   },
   {
    "duration": 758,
    "start_time": "2023-01-09T10:24:06.728Z"
   },
   {
    "duration": 71,
    "start_time": "2023-01-09T10:24:07.488Z"
   },
   {
    "duration": 46,
    "start_time": "2023-01-09T10:24:07.561Z"
   },
   {
    "duration": 86,
    "start_time": "2023-01-09T10:24:07.609Z"
   },
   {
    "duration": 74,
    "start_time": "2023-01-09T10:24:07.696Z"
   },
   {
    "duration": 6,
    "start_time": "2023-01-09T10:24:07.772Z"
   },
   {
    "duration": 12,
    "start_time": "2023-01-09T10:24:07.780Z"
   },
   {
    "duration": 16,
    "start_time": "2023-01-09T10:24:07.794Z"
   },
   {
    "duration": 20,
    "start_time": "2023-01-09T10:24:07.812Z"
   },
   {
    "duration": 14,
    "start_time": "2023-01-09T10:24:07.834Z"
   },
   {
    "duration": 48,
    "start_time": "2023-01-09T10:24:07.850Z"
   },
   {
    "duration": 82,
    "start_time": "2023-01-09T10:24:07.900Z"
   },
   {
    "duration": 13,
    "start_time": "2023-01-09T10:24:07.983Z"
   },
   {
    "duration": 26,
    "start_time": "2023-01-09T10:24:07.998Z"
   },
   {
    "duration": 34,
    "start_time": "2023-01-09T10:24:08.026Z"
   },
   {
    "duration": 51,
    "start_time": "2023-01-09T10:24:08.061Z"
   },
   {
    "duration": 14,
    "start_time": "2023-01-09T10:24:08.114Z"
   },
   {
    "duration": 20,
    "start_time": "2023-01-09T10:24:08.130Z"
   },
   {
    "duration": 52,
    "start_time": "2023-01-09T10:24:08.155Z"
   },
   {
    "duration": 86,
    "start_time": "2023-01-09T10:24:08.209Z"
   },
   {
    "duration": 38,
    "start_time": "2023-01-09T10:24:08.297Z"
   },
   {
    "duration": 19,
    "start_time": "2023-01-09T10:24:08.337Z"
   },
   {
    "duration": 30,
    "start_time": "2023-01-09T10:24:08.358Z"
   },
   {
    "duration": 41,
    "start_time": "2023-01-09T10:24:08.390Z"
   },
   {
    "duration": 31,
    "start_time": "2023-01-09T10:24:08.433Z"
   },
   {
    "duration": 23,
    "start_time": "2023-01-09T10:24:08.466Z"
   },
   {
    "duration": 12,
    "start_time": "2023-01-09T10:24:08.491Z"
   },
   {
    "duration": 40,
    "start_time": "2023-01-09T10:24:08.505Z"
   },
   {
    "duration": 36,
    "start_time": "2023-01-09T10:24:08.547Z"
   },
   {
    "duration": 32,
    "start_time": "2023-01-09T10:24:08.584Z"
   },
   {
    "duration": 27,
    "start_time": "2023-01-09T10:24:08.618Z"
   },
   {
    "duration": 36,
    "start_time": "2023-01-09T10:24:08.647Z"
   },
   {
    "duration": 19,
    "start_time": "2023-01-09T10:24:08.685Z"
   },
   {
    "duration": 17,
    "start_time": "2023-01-09T10:24:08.706Z"
   },
   {
    "duration": 1033,
    "start_time": "2023-01-09T10:24:30.427Z"
   },
   {
    "duration": 5,
    "start_time": "2023-01-09T10:24:37.410Z"
   },
   {
    "duration": 10,
    "start_time": "2023-01-09T10:24:42.840Z"
   },
   {
    "duration": 4,
    "start_time": "2023-01-09T10:24:51.708Z"
   },
   {
    "duration": 8,
    "start_time": "2023-01-09T10:25:12.205Z"
   },
   {
    "duration": 5,
    "start_time": "2023-01-09T10:25:36.432Z"
   },
   {
    "duration": 5,
    "start_time": "2023-01-09T10:25:52.231Z"
   },
   {
    "duration": 6,
    "start_time": "2023-01-09T10:26:23.229Z"
   },
   {
    "duration": 4,
    "start_time": "2023-01-09T10:26:37.536Z"
   },
   {
    "duration": 5,
    "start_time": "2023-01-09T10:26:45.259Z"
   },
   {
    "duration": 6,
    "start_time": "2023-01-09T10:26:54.491Z"
   },
   {
    "duration": 4,
    "start_time": "2023-01-09T10:27:16.717Z"
   },
   {
    "duration": 14,
    "start_time": "2023-01-09T10:31:58.914Z"
   },
   {
    "duration": 795,
    "start_time": "2023-01-09T10:32:05.609Z"
   },
   {
    "duration": 15,
    "start_time": "2023-01-09T10:32:14.118Z"
   },
   {
    "duration": 832,
    "start_time": "2023-01-09T10:32:31.875Z"
   },
   {
    "duration": 3,
    "start_time": "2023-01-09T10:32:45.910Z"
   },
   {
    "duration": 158,
    "start_time": "2023-01-09T10:32:45.915Z"
   },
   {
    "duration": 10,
    "start_time": "2023-01-09T10:32:46.074Z"
   },
   {
    "duration": 91,
    "start_time": "2023-01-09T10:32:46.085Z"
   },
   {
    "duration": 18,
    "start_time": "2023-01-09T10:32:46.179Z"
   },
   {
    "duration": 15,
    "start_time": "2023-01-09T10:32:46.198Z"
   },
   {
    "duration": 6,
    "start_time": "2023-01-09T10:32:46.215Z"
   },
   {
    "duration": 33,
    "start_time": "2023-01-09T10:32:46.223Z"
   },
   {
    "duration": 7,
    "start_time": "2023-01-09T10:32:46.258Z"
   },
   {
    "duration": 55,
    "start_time": "2023-01-09T10:32:46.266Z"
   },
   {
    "duration": 137,
    "start_time": "2023-01-09T10:32:46.323Z"
   },
   {
    "duration": 15,
    "start_time": "2023-01-09T10:32:46.462Z"
   },
   {
    "duration": 86,
    "start_time": "2023-01-09T10:32:46.479Z"
   },
   {
    "duration": 40,
    "start_time": "2023-01-09T10:32:46.568Z"
   },
   {
    "duration": 6,
    "start_time": "2023-01-09T10:32:46.609Z"
   },
   {
    "duration": 51,
    "start_time": "2023-01-09T10:32:46.617Z"
   },
   {
    "duration": 7,
    "start_time": "2023-01-09T10:32:46.670Z"
   },
   {
    "duration": 45,
    "start_time": "2023-01-09T10:32:46.678Z"
   },
   {
    "duration": 208,
    "start_time": "2023-01-09T10:32:46.725Z"
   },
   {
    "duration": 26,
    "start_time": "2023-01-09T10:32:46.935Z"
   },
   {
    "duration": 33,
    "start_time": "2023-01-09T10:32:46.962Z"
   },
   {
    "duration": 310,
    "start_time": "2023-01-09T10:32:46.997Z"
   },
   {
    "duration": 588,
    "start_time": "2023-01-09T10:32:47.309Z"
   },
   {
    "duration": 72,
    "start_time": "2023-01-09T10:32:47.898Z"
   },
   {
    "duration": 49,
    "start_time": "2023-01-09T10:32:47.971Z"
   },
   {
    "duration": 87,
    "start_time": "2023-01-09T10:32:48.021Z"
   },
   {
    "duration": 83,
    "start_time": "2023-01-09T10:32:48.109Z"
   },
   {
    "duration": 6,
    "start_time": "2023-01-09T10:32:48.194Z"
   },
   {
    "duration": 12,
    "start_time": "2023-01-09T10:32:48.202Z"
   },
   {
    "duration": 8,
    "start_time": "2023-01-09T10:32:48.215Z"
   },
   {
    "duration": 12,
    "start_time": "2023-01-09T10:32:48.224Z"
   },
   {
    "duration": 22,
    "start_time": "2023-01-09T10:32:48.238Z"
   },
   {
    "duration": 32,
    "start_time": "2023-01-09T10:32:48.261Z"
   },
   {
    "duration": 200,
    "start_time": "2023-01-09T10:32:48.296Z"
   },
   {
    "duration": 11,
    "start_time": "2023-01-09T10:32:48.497Z"
   },
   {
    "duration": 7,
    "start_time": "2023-01-09T10:32:48.509Z"
   },
   {
    "duration": 19,
    "start_time": "2023-01-09T10:32:48.517Z"
   },
   {
    "duration": 50,
    "start_time": "2023-01-09T10:32:48.538Z"
   },
   {
    "duration": 4,
    "start_time": "2023-01-09T10:32:48.589Z"
   },
   {
    "duration": 6,
    "start_time": "2023-01-09T10:32:48.594Z"
   },
   {
    "duration": 53,
    "start_time": "2023-01-09T10:32:48.603Z"
   },
   {
    "duration": 82,
    "start_time": "2023-01-09T10:32:48.657Z"
   },
   {
    "duration": 24,
    "start_time": "2023-01-09T10:32:48.741Z"
   },
   {
    "duration": 40,
    "start_time": "2023-01-09T10:32:50.983Z"
   },
   {
    "duration": 864,
    "start_time": "2023-01-09T10:33:04.178Z"
   },
   {
    "duration": 1091,
    "start_time": "2023-01-09T10:33:08.020Z"
   },
   {
    "duration": 3,
    "start_time": "2023-01-09T10:33:12.078Z"
   },
   {
    "duration": 165,
    "start_time": "2023-01-09T10:33:12.094Z"
   },
   {
    "duration": 12,
    "start_time": "2023-01-09T10:33:12.262Z"
   },
   {
    "duration": 94,
    "start_time": "2023-01-09T10:33:12.276Z"
   },
   {
    "duration": 24,
    "start_time": "2023-01-09T10:33:12.372Z"
   },
   {
    "duration": 18,
    "start_time": "2023-01-09T10:33:12.398Z"
   },
   {
    "duration": 8,
    "start_time": "2023-01-09T10:33:12.418Z"
   },
   {
    "duration": 9,
    "start_time": "2023-01-09T10:33:12.455Z"
   },
   {
    "duration": 14,
    "start_time": "2023-01-09T10:33:12.465Z"
   },
   {
    "duration": 57,
    "start_time": "2023-01-09T10:33:12.480Z"
   },
   {
    "duration": 138,
    "start_time": "2023-01-09T10:33:12.556Z"
   },
   {
    "duration": 17,
    "start_time": "2023-01-09T10:33:12.696Z"
   },
   {
    "duration": 84,
    "start_time": "2023-01-09T10:33:12.714Z"
   },
   {
    "duration": 56,
    "start_time": "2023-01-09T10:33:12.800Z"
   },
   {
    "duration": 6,
    "start_time": "2023-01-09T10:33:12.859Z"
   },
   {
    "duration": 38,
    "start_time": "2023-01-09T10:33:12.867Z"
   },
   {
    "duration": 9,
    "start_time": "2023-01-09T10:33:12.907Z"
   },
   {
    "duration": 72,
    "start_time": "2023-01-09T10:33:12.917Z"
   },
   {
    "duration": 214,
    "start_time": "2023-01-09T10:33:12.990Z"
   },
   {
    "duration": 20,
    "start_time": "2023-01-09T10:33:13.206Z"
   },
   {
    "duration": 39,
    "start_time": "2023-01-09T10:33:13.228Z"
   },
   {
    "duration": 318,
    "start_time": "2023-01-09T10:33:13.270Z"
   },
   {
    "duration": 659,
    "start_time": "2023-01-09T10:33:13.590Z"
   },
   {
    "duration": 68,
    "start_time": "2023-01-09T10:33:14.251Z"
   },
   {
    "duration": 61,
    "start_time": "2023-01-09T10:33:14.321Z"
   },
   {
    "duration": 85,
    "start_time": "2023-01-09T10:33:14.384Z"
   },
   {
    "duration": 68,
    "start_time": "2023-01-09T10:33:14.471Z"
   },
   {
    "duration": 18,
    "start_time": "2023-01-09T10:33:14.541Z"
   },
   {
    "duration": 18,
    "start_time": "2023-01-09T10:33:14.561Z"
   },
   {
    "duration": 16,
    "start_time": "2023-01-09T10:33:14.582Z"
   },
   {
    "duration": 14,
    "start_time": "2023-01-09T10:33:14.601Z"
   },
   {
    "duration": 18,
    "start_time": "2023-01-09T10:33:14.618Z"
   },
   {
    "duration": 40,
    "start_time": "2023-01-09T10:33:14.638Z"
   },
   {
    "duration": 91,
    "start_time": "2023-01-09T10:33:14.680Z"
   },
   {
    "duration": 16,
    "start_time": "2023-01-09T10:33:14.773Z"
   },
   {
    "duration": 8,
    "start_time": "2023-01-09T10:33:14.791Z"
   },
   {
    "duration": 15,
    "start_time": "2023-01-09T10:33:14.800Z"
   },
   {
    "duration": 63,
    "start_time": "2023-01-09T10:33:14.816Z"
   },
   {
    "duration": 4,
    "start_time": "2023-01-09T10:33:14.880Z"
   },
   {
    "duration": 6,
    "start_time": "2023-01-09T10:33:14.885Z"
   },
   {
    "duration": 64,
    "start_time": "2023-01-09T10:33:14.893Z"
   },
   {
    "duration": 102,
    "start_time": "2023-01-09T10:33:14.961Z"
   },
   {
    "duration": 14,
    "start_time": "2023-01-09T10:33:15.065Z"
   },
   {
    "duration": 36,
    "start_time": "2023-01-09T10:33:15.081Z"
   },
   {
    "duration": 790,
    "start_time": "2023-01-09T10:33:20.721Z"
   },
   {
    "duration": 3,
    "start_time": "2023-01-09T10:33:35.207Z"
   },
   {
    "duration": 158,
    "start_time": "2023-01-09T10:33:35.216Z"
   },
   {
    "duration": 10,
    "start_time": "2023-01-09T10:33:35.376Z"
   },
   {
    "duration": 92,
    "start_time": "2023-01-09T10:33:35.388Z"
   },
   {
    "duration": 24,
    "start_time": "2023-01-09T10:33:35.482Z"
   },
   {
    "duration": 26,
    "start_time": "2023-01-09T10:33:35.508Z"
   },
   {
    "duration": 25,
    "start_time": "2023-01-09T10:33:35.535Z"
   },
   {
    "duration": 8,
    "start_time": "2023-01-09T10:33:35.562Z"
   },
   {
    "duration": 8,
    "start_time": "2023-01-09T10:33:35.571Z"
   },
   {
    "duration": 82,
    "start_time": "2023-01-09T10:33:35.580Z"
   },
   {
    "duration": 132,
    "start_time": "2023-01-09T10:33:35.665Z"
   },
   {
    "duration": 16,
    "start_time": "2023-01-09T10:33:35.799Z"
   },
   {
    "duration": 84,
    "start_time": "2023-01-09T10:33:35.816Z"
   },
   {
    "duration": 39,
    "start_time": "2023-01-09T10:33:35.902Z"
   },
   {
    "duration": 5,
    "start_time": "2023-01-09T10:33:35.954Z"
   },
   {
    "duration": 37,
    "start_time": "2023-01-09T10:33:35.961Z"
   },
   {
    "duration": 8,
    "start_time": "2023-01-09T10:33:36.000Z"
   },
   {
    "duration": 59,
    "start_time": "2023-01-09T10:33:36.010Z"
   },
   {
    "duration": 199,
    "start_time": "2023-01-09T10:33:36.071Z"
   },
   {
    "duration": 17,
    "start_time": "2023-01-09T10:33:36.272Z"
   },
   {
    "duration": 23,
    "start_time": "2023-01-09T10:33:36.290Z"
   },
   {
    "duration": 310,
    "start_time": "2023-01-09T10:33:36.315Z"
   },
   {
    "duration": 747,
    "start_time": "2023-01-09T10:33:36.627Z"
   },
   {
    "duration": 63,
    "start_time": "2023-01-09T10:33:37.376Z"
   },
   {
    "duration": 57,
    "start_time": "2023-01-09T10:33:37.441Z"
   },
   {
    "duration": 87,
    "start_time": "2023-01-09T10:33:37.500Z"
   },
   {
    "duration": 73,
    "start_time": "2023-01-09T10:33:37.589Z"
   },
   {
    "duration": 6,
    "start_time": "2023-01-09T10:33:37.664Z"
   },
   {
    "duration": 4,
    "start_time": "2023-01-09T10:33:37.674Z"
   },
   {
    "duration": 10,
    "start_time": "2023-01-09T10:33:37.679Z"
   },
   {
    "duration": 9,
    "start_time": "2023-01-09T10:33:37.691Z"
   },
   {
    "duration": 9,
    "start_time": "2023-01-09T10:33:37.701Z"
   },
   {
    "duration": 51,
    "start_time": "2023-01-09T10:33:37.711Z"
   },
   {
    "duration": 82,
    "start_time": "2023-01-09T10:33:37.763Z"
   },
   {
    "duration": 18,
    "start_time": "2023-01-09T10:33:37.846Z"
   },
   {
    "duration": 7,
    "start_time": "2023-01-09T10:33:37.865Z"
   },
   {
    "duration": 11,
    "start_time": "2023-01-09T10:33:37.874Z"
   },
   {
    "duration": 45,
    "start_time": "2023-01-09T10:33:37.886Z"
   },
   {
    "duration": 22,
    "start_time": "2023-01-09T10:33:37.933Z"
   },
   {
    "duration": 4,
    "start_time": "2023-01-09T10:33:37.957Z"
   },
   {
    "duration": 50,
    "start_time": "2023-01-09T10:33:37.963Z"
   },
   {
    "duration": 95,
    "start_time": "2023-01-09T10:33:38.015Z"
   },
   {
    "duration": 12,
    "start_time": "2023-01-09T10:33:38.112Z"
   },
   {
    "duration": 48,
    "start_time": "2023-01-09T10:33:38.126Z"
   },
   {
    "duration": 5,
    "start_time": "2023-01-09T10:33:38.175Z"
   },
   {
    "duration": 10,
    "start_time": "2023-01-09T10:33:38.181Z"
   },
   {
    "duration": 15,
    "start_time": "2023-01-09T10:33:38.192Z"
   },
   {
    "duration": 9,
    "start_time": "2023-01-09T10:33:38.208Z"
   },
   {
    "duration": 9,
    "start_time": "2023-01-09T10:33:38.219Z"
   },
   {
    "duration": 38,
    "start_time": "2023-01-09T10:33:38.229Z"
   },
   {
    "duration": 14,
    "start_time": "2023-01-09T10:33:38.269Z"
   },
   {
    "duration": 10,
    "start_time": "2023-01-09T10:33:38.285Z"
   },
   {
    "duration": 12,
    "start_time": "2023-01-09T10:33:38.297Z"
   },
   {
    "duration": 8,
    "start_time": "2023-01-09T10:33:38.311Z"
   },
   {
    "duration": 12,
    "start_time": "2023-01-09T10:33:38.321Z"
   },
   {
    "duration": 27,
    "start_time": "2023-01-09T10:33:38.334Z"
   },
   {
    "duration": 19,
    "start_time": "2023-01-09T10:33:38.362Z"
   },
   {
    "duration": 98,
    "start_time": "2023-01-09T10:54:08.219Z"
   },
   {
    "duration": 37,
    "start_time": "2023-01-09T10:54:13.141Z"
   },
   {
    "duration": 4,
    "start_time": "2023-01-09T10:54:18.097Z"
   },
   {
    "duration": 164,
    "start_time": "2023-01-09T10:54:18.106Z"
   },
   {
    "duration": 11,
    "start_time": "2023-01-09T10:54:18.273Z"
   },
   {
    "duration": 98,
    "start_time": "2023-01-09T10:54:18.285Z"
   },
   {
    "duration": 20,
    "start_time": "2023-01-09T10:54:18.385Z"
   },
   {
    "duration": 17,
    "start_time": "2023-01-09T10:54:18.408Z"
   },
   {
    "duration": 34,
    "start_time": "2023-01-09T10:54:18.427Z"
   },
   {
    "duration": 8,
    "start_time": "2023-01-09T10:54:18.463Z"
   },
   {
    "duration": 8,
    "start_time": "2023-01-09T10:54:18.473Z"
   },
   {
    "duration": 82,
    "start_time": "2023-01-09T10:54:18.483Z"
   },
   {
    "duration": 143,
    "start_time": "2023-01-09T10:54:18.567Z"
   },
   {
    "duration": 15,
    "start_time": "2023-01-09T10:54:18.712Z"
   },
   {
    "duration": 93,
    "start_time": "2023-01-09T10:54:18.729Z"
   },
   {
    "duration": 51,
    "start_time": "2023-01-09T10:54:18.824Z"
   },
   {
    "duration": 6,
    "start_time": "2023-01-09T10:54:18.878Z"
   },
   {
    "duration": 36,
    "start_time": "2023-01-09T10:54:18.886Z"
   },
   {
    "duration": 8,
    "start_time": "2023-01-09T10:54:18.924Z"
   },
   {
    "duration": 51,
    "start_time": "2023-01-09T10:54:18.956Z"
   },
   {
    "duration": 260,
    "start_time": "2023-01-09T10:54:19.009Z"
   },
   {
    "duration": 19,
    "start_time": "2023-01-09T10:54:19.271Z"
   },
   {
    "duration": 24,
    "start_time": "2023-01-09T10:54:19.292Z"
   },
   {
    "duration": 333,
    "start_time": "2023-01-09T10:54:19.318Z"
   },
   {
    "duration": 696,
    "start_time": "2023-01-09T10:54:19.654Z"
   },
   {
    "duration": 79,
    "start_time": "2023-01-09T10:54:20.355Z"
   },
   {
    "duration": 77,
    "start_time": "2023-01-09T10:54:20.436Z"
   },
   {
    "duration": 111,
    "start_time": "2023-01-09T10:54:20.515Z"
   },
   {
    "duration": 84,
    "start_time": "2023-01-09T10:54:20.628Z"
   },
   {
    "duration": 8,
    "start_time": "2023-01-09T10:54:20.714Z"
   },
   {
    "duration": 6,
    "start_time": "2023-01-09T10:54:20.724Z"
   },
   {
    "duration": 26,
    "start_time": "2023-01-09T10:54:20.732Z"
   },
   {
    "duration": 12,
    "start_time": "2023-01-09T10:54:20.760Z"
   },
   {
    "duration": 11,
    "start_time": "2023-01-09T10:54:20.774Z"
   },
   {
    "duration": 30,
    "start_time": "2023-01-09T10:54:20.787Z"
   },
   {
    "duration": 244,
    "start_time": "2023-01-09T10:54:20.819Z"
   },
   {
    "duration": 12,
    "start_time": "2023-01-09T10:54:21.065Z"
   },
   {
    "duration": 8,
    "start_time": "2023-01-09T10:54:21.079Z"
   },
   {
    "duration": 19,
    "start_time": "2023-01-09T10:54:21.089Z"
   },
   {
    "duration": 67,
    "start_time": "2023-01-09T10:54:21.110Z"
   },
   {
    "duration": 5,
    "start_time": "2023-01-09T10:54:21.178Z"
   },
   {
    "duration": 6,
    "start_time": "2023-01-09T10:54:21.185Z"
   },
   {
    "duration": 66,
    "start_time": "2023-01-09T10:54:21.193Z"
   },
   {
    "duration": 105,
    "start_time": "2023-01-09T10:54:21.263Z"
   },
   {
    "duration": 47,
    "start_time": "2023-01-09T10:54:21.370Z"
   },
   {
    "duration": 5,
    "start_time": "2023-01-09T10:54:21.419Z"
   },
   {
    "duration": 29,
    "start_time": "2023-01-09T10:54:21.426Z"
   },
   {
    "duration": 20,
    "start_time": "2023-01-09T10:54:21.457Z"
   },
   {
    "duration": 10,
    "start_time": "2023-01-09T10:54:21.479Z"
   },
   {
    "duration": 14,
    "start_time": "2023-01-09T10:54:21.491Z"
   },
   {
    "duration": 11,
    "start_time": "2023-01-09T10:54:21.507Z"
   },
   {
    "duration": 35,
    "start_time": "2023-01-09T10:54:21.520Z"
   },
   {
    "duration": 11,
    "start_time": "2023-01-09T10:54:21.557Z"
   },
   {
    "duration": 17,
    "start_time": "2023-01-09T10:54:21.570Z"
   },
   {
    "duration": 13,
    "start_time": "2023-01-09T10:54:21.589Z"
   },
   {
    "duration": 12,
    "start_time": "2023-01-09T10:54:21.604Z"
   },
   {
    "duration": 38,
    "start_time": "2023-01-09T10:54:21.618Z"
   },
   {
    "duration": 10,
    "start_time": "2023-01-09T10:54:21.658Z"
   },
   {
    "duration": 881,
    "start_time": "2023-01-09T11:03:32.804Z"
   },
   {
    "duration": 938,
    "start_time": "2023-01-09T11:03:57.571Z"
   },
   {
    "duration": 869,
    "start_time": "2023-01-09T11:04:32.269Z"
   },
   {
    "duration": 893,
    "start_time": "2023-01-09T11:05:22.499Z"
   },
   {
    "duration": 4,
    "start_time": "2023-01-09T11:05:32.914Z"
   },
   {
    "duration": 5,
    "start_time": "2023-01-09T11:05:40.280Z"
   },
   {
    "duration": 4,
    "start_time": "2023-01-09T11:06:07.396Z"
   },
   {
    "duration": 6,
    "start_time": "2023-01-09T11:06:17.439Z"
   },
   {
    "duration": 5,
    "start_time": "2023-01-09T11:06:23.627Z"
   },
   {
    "duration": 7,
    "start_time": "2023-01-09T11:06:25.869Z"
   },
   {
    "duration": 5,
    "start_time": "2023-01-09T11:06:30.619Z"
   },
   {
    "duration": 9,
    "start_time": "2023-01-09T11:13:21.730Z"
   },
   {
    "duration": 10,
    "start_time": "2023-01-09T11:13:25.591Z"
   },
   {
    "duration": 9,
    "start_time": "2023-01-09T11:13:28.521Z"
   },
   {
    "duration": 10,
    "start_time": "2023-01-09T11:13:33.581Z"
   },
   {
    "duration": 10,
    "start_time": "2023-01-09T11:13:37.133Z"
   },
   {
    "duration": 1272,
    "start_time": "2023-01-10T02:51:26.430Z"
   },
   {
    "duration": 276,
    "start_time": "2023-01-10T02:51:27.704Z"
   },
   {
    "duration": 10,
    "start_time": "2023-01-10T02:51:27.982Z"
   },
   {
    "duration": 90,
    "start_time": "2023-01-10T02:51:27.994Z"
   },
   {
    "duration": 19,
    "start_time": "2023-01-10T02:51:28.086Z"
   },
   {
    "duration": 14,
    "start_time": "2023-01-10T02:51:28.107Z"
   },
   {
    "duration": 8,
    "start_time": "2023-01-10T02:51:28.123Z"
   },
   {
    "duration": 9,
    "start_time": "2023-01-10T02:51:28.133Z"
   },
   {
    "duration": 11,
    "start_time": "2023-01-10T02:51:28.143Z"
   },
   {
    "duration": 88,
    "start_time": "2023-01-10T02:51:28.156Z"
   },
   {
    "duration": 151,
    "start_time": "2023-01-10T02:51:28.246Z"
   },
   {
    "duration": 15,
    "start_time": "2023-01-10T02:51:28.399Z"
   },
   {
    "duration": 94,
    "start_time": "2023-01-10T02:51:28.416Z"
   },
   {
    "duration": 43,
    "start_time": "2023-01-10T02:51:28.512Z"
   },
   {
    "duration": 7,
    "start_time": "2023-01-10T02:51:28.557Z"
   },
   {
    "duration": 49,
    "start_time": "2023-01-10T02:51:28.565Z"
   },
   {
    "duration": 11,
    "start_time": "2023-01-10T02:51:28.615Z"
   },
   {
    "duration": 45,
    "start_time": "2023-01-10T02:51:28.627Z"
   },
   {
    "duration": 176,
    "start_time": "2023-01-10T02:51:28.674Z"
   },
   {
    "duration": 18,
    "start_time": "2023-01-10T02:51:28.851Z"
   },
   {
    "duration": 30,
    "start_time": "2023-01-10T02:51:28.870Z"
   },
   {
    "duration": 300,
    "start_time": "2023-01-10T02:51:28.902Z"
   },
   {
    "duration": 666,
    "start_time": "2023-01-10T02:51:29.204Z"
   },
   {
    "duration": 72,
    "start_time": "2023-01-10T02:51:29.872Z"
   },
   {
    "duration": 39,
    "start_time": "2023-01-10T02:51:29.946Z"
   },
   {
    "duration": 70,
    "start_time": "2023-01-10T02:51:29.997Z"
   },
   {
    "duration": 83,
    "start_time": "2023-01-10T02:51:30.069Z"
   },
   {
    "duration": 6,
    "start_time": "2023-01-10T02:51:30.157Z"
   },
   {
    "duration": 17,
    "start_time": "2023-01-10T02:51:30.165Z"
   },
   {
    "duration": 30,
    "start_time": "2023-01-10T02:51:30.184Z"
   },
   {
    "duration": 44,
    "start_time": "2023-01-10T02:51:30.216Z"
   },
   {
    "duration": 51,
    "start_time": "2023-01-10T02:51:30.262Z"
   },
   {
    "duration": 41,
    "start_time": "2023-01-10T02:51:30.315Z"
   },
   {
    "duration": 94,
    "start_time": "2023-01-10T02:51:30.358Z"
   },
   {
    "duration": 14,
    "start_time": "2023-01-10T02:51:30.454Z"
   },
   {
    "duration": 61,
    "start_time": "2023-01-10T02:51:30.469Z"
   },
   {
    "duration": 52,
    "start_time": "2023-01-10T02:51:30.531Z"
   },
   {
    "duration": 545,
    "start_time": "2023-01-10T02:51:30.584Z"
   },
   {
    "duration": 4,
    "start_time": "2023-01-10T02:51:31.132Z"
   },
   {
    "duration": 23,
    "start_time": "2023-01-10T02:51:31.138Z"
   },
   {
    "duration": 78,
    "start_time": "2023-01-10T02:51:31.163Z"
   },
   {
    "duration": 124,
    "start_time": "2023-01-10T02:51:31.246Z"
   },
   {
    "duration": 44,
    "start_time": "2023-01-10T02:51:31.372Z"
   },
   {
    "duration": 4,
    "start_time": "2023-01-10T02:51:31.418Z"
   },
   {
    "duration": 13,
    "start_time": "2023-01-10T02:51:31.424Z"
   },
   {
    "duration": 26,
    "start_time": "2023-01-10T02:51:31.439Z"
   },
   {
    "duration": 10,
    "start_time": "2023-01-10T02:51:31.467Z"
   },
   {
    "duration": 8,
    "start_time": "2023-01-10T02:51:31.479Z"
   },
   {
    "duration": 7,
    "start_time": "2023-01-10T02:51:31.497Z"
   },
   {
    "duration": 12,
    "start_time": "2023-01-10T02:51:31.506Z"
   },
   {
    "duration": 9,
    "start_time": "2023-01-10T02:51:31.519Z"
   },
   {
    "duration": 15,
    "start_time": "2023-01-10T02:51:31.529Z"
   },
   {
    "duration": 15,
    "start_time": "2023-01-10T02:51:31.551Z"
   },
   {
    "duration": 30,
    "start_time": "2023-01-10T02:51:31.568Z"
   },
   {
    "duration": 8,
    "start_time": "2023-01-10T02:51:31.600Z"
   },
   {
    "duration": 18,
    "start_time": "2023-01-10T02:51:31.610Z"
   },
   {
    "duration": 12,
    "start_time": "2023-01-10T02:51:31.629Z"
   },
   {
    "duration": 14,
    "start_time": "2023-01-10T02:55:45.078Z"
   },
   {
    "duration": 8,
    "start_time": "2023-01-10T02:57:36.667Z"
   },
   {
    "duration": 891,
    "start_time": "2023-01-10T03:08:15.685Z"
   },
   {
    "duration": 23,
    "start_time": "2023-01-10T03:08:32.923Z"
   },
   {
    "duration": 39,
    "start_time": "2023-01-10T03:08:54.006Z"
   },
   {
    "duration": 25,
    "start_time": "2023-01-10T03:09:19.245Z"
   },
   {
    "duration": 29,
    "start_time": "2023-01-10T03:09:39.285Z"
   },
   {
    "duration": 29,
    "start_time": "2023-01-10T03:09:43.484Z"
   },
   {
    "duration": 94,
    "start_time": "2023-01-10T03:22:13.962Z"
   },
   {
    "duration": 63,
    "start_time": "2023-01-10T03:22:16.500Z"
   },
   {
    "duration": 167,
    "start_time": "2023-01-10T03:22:29.862Z"
   },
   {
    "duration": 29,
    "start_time": "2023-01-10T03:22:39.784Z"
   },
   {
    "duration": 10,
    "start_time": "2023-01-10T03:28:47.476Z"
   },
   {
    "duration": 6,
    "start_time": "2023-01-10T03:29:18.028Z"
   },
   {
    "duration": 5,
    "start_time": "2023-01-10T03:29:41.332Z"
   },
   {
    "duration": 15,
    "start_time": "2023-01-10T03:29:45.036Z"
   },
   {
    "duration": 95,
    "start_time": "2023-01-10T03:31:03.446Z"
   },
   {
    "duration": 840,
    "start_time": "2023-01-10T03:31:11.615Z"
   },
   {
    "duration": 43,
    "start_time": "2023-01-10T03:32:11.863Z"
   },
   {
    "duration": 10,
    "start_time": "2023-01-10T03:32:13.868Z"
   },
   {
    "duration": 5,
    "start_time": "2023-01-10T03:35:04.118Z"
   },
   {
    "duration": 5,
    "start_time": "2023-01-10T03:35:08.631Z"
   },
   {
    "duration": 4,
    "start_time": "2023-01-10T03:35:26.489Z"
   },
   {
    "duration": 6,
    "start_time": "2023-01-10T03:35:32.414Z"
   },
   {
    "duration": 15,
    "start_time": "2023-01-10T03:36:44.786Z"
   },
   {
    "duration": 4,
    "start_time": "2023-01-10T03:36:48.585Z"
   },
   {
    "duration": 5,
    "start_time": "2023-01-10T03:36:49.971Z"
   },
   {
    "duration": 6,
    "start_time": "2023-01-10T03:37:14.314Z"
   },
   {
    "duration": 12,
    "start_time": "2023-01-10T03:41:31.064Z"
   },
   {
    "duration": 4,
    "start_time": "2023-01-10T05:06:20.755Z"
   },
   {
    "duration": 177,
    "start_time": "2023-01-10T05:06:20.763Z"
   },
   {
    "duration": 12,
    "start_time": "2023-01-10T05:06:20.942Z"
   },
   {
    "duration": 93,
    "start_time": "2023-01-10T05:06:20.956Z"
   },
   {
    "duration": 16,
    "start_time": "2023-01-10T05:06:21.051Z"
   },
   {
    "duration": 30,
    "start_time": "2023-01-10T05:06:21.069Z"
   },
   {
    "duration": 6,
    "start_time": "2023-01-10T05:06:21.100Z"
   },
   {
    "duration": 19,
    "start_time": "2023-01-10T05:06:21.107Z"
   },
   {
    "duration": 9,
    "start_time": "2023-01-10T05:06:21.127Z"
   },
   {
    "duration": 61,
    "start_time": "2023-01-10T05:06:21.137Z"
   },
   {
    "duration": 133,
    "start_time": "2023-01-10T05:06:21.201Z"
   },
   {
    "duration": 15,
    "start_time": "2023-01-10T05:06:21.336Z"
   },
   {
    "duration": 82,
    "start_time": "2023-01-10T05:06:21.353Z"
   },
   {
    "duration": 37,
    "start_time": "2023-01-10T05:06:21.437Z"
   },
   {
    "duration": 6,
    "start_time": "2023-01-10T05:06:21.475Z"
   },
   {
    "duration": 54,
    "start_time": "2023-01-10T05:06:21.482Z"
   },
   {
    "duration": 17,
    "start_time": "2023-01-10T05:06:21.537Z"
   },
   {
    "duration": 59,
    "start_time": "2023-01-10T05:06:21.555Z"
   },
   {
    "duration": 189,
    "start_time": "2023-01-10T05:06:21.616Z"
   },
   {
    "duration": 15,
    "start_time": "2023-01-10T05:06:21.807Z"
   },
   {
    "duration": 19,
    "start_time": "2023-01-10T05:06:21.824Z"
   },
   {
    "duration": 312,
    "start_time": "2023-01-10T05:06:21.845Z"
   },
   {
    "duration": 704,
    "start_time": "2023-01-10T05:06:22.159Z"
   },
   {
    "duration": 71,
    "start_time": "2023-01-10T05:06:22.865Z"
   },
   {
    "duration": 38,
    "start_time": "2023-01-10T05:06:22.938Z"
   },
   {
    "duration": 81,
    "start_time": "2023-01-10T05:06:22.978Z"
   },
   {
    "duration": 79,
    "start_time": "2023-01-10T05:06:23.061Z"
   },
   {
    "duration": 7,
    "start_time": "2023-01-10T05:06:23.142Z"
   },
   {
    "duration": 5,
    "start_time": "2023-01-10T05:06:23.153Z"
   },
   {
    "duration": 9,
    "start_time": "2023-01-10T05:06:23.159Z"
   },
   {
    "duration": 7,
    "start_time": "2023-01-10T05:06:23.169Z"
   },
   {
    "duration": 26,
    "start_time": "2023-01-10T05:06:23.177Z"
   },
   {
    "duration": 27,
    "start_time": "2023-01-10T05:06:23.204Z"
   },
   {
    "duration": 84,
    "start_time": "2023-01-10T05:06:23.233Z"
   },
   {
    "duration": 14,
    "start_time": "2023-01-10T05:06:23.319Z"
   },
   {
    "duration": 8,
    "start_time": "2023-01-10T05:06:23.335Z"
   },
   {
    "duration": 12,
    "start_time": "2023-01-10T05:06:23.345Z"
   },
   {
    "duration": 59,
    "start_time": "2023-01-10T05:06:23.359Z"
   },
   {
    "duration": 4,
    "start_time": "2023-01-10T05:06:23.420Z"
   },
   {
    "duration": 6,
    "start_time": "2023-01-10T05:06:23.426Z"
   },
   {
    "duration": 44,
    "start_time": "2023-01-10T05:06:23.433Z"
   },
   {
    "duration": 97,
    "start_time": "2023-01-10T05:06:23.479Z"
   },
   {
    "duration": 48,
    "start_time": "2023-01-10T05:06:23.577Z"
   },
   {
    "duration": 4,
    "start_time": "2023-01-10T05:06:23.627Z"
   },
   {
    "duration": 10,
    "start_time": "2023-01-10T05:06:23.633Z"
   },
   {
    "duration": 16,
    "start_time": "2023-01-10T05:06:23.644Z"
   },
   {
    "duration": 12,
    "start_time": "2023-01-10T05:06:23.661Z"
   },
   {
    "duration": 28,
    "start_time": "2023-01-10T05:06:23.674Z"
   },
   {
    "duration": 8,
    "start_time": "2023-01-10T05:06:23.703Z"
   },
   {
    "duration": 30,
    "start_time": "2023-01-10T05:06:23.712Z"
   },
   {
    "duration": 16,
    "start_time": "2023-01-10T05:06:23.744Z"
   },
   {
    "duration": 12,
    "start_time": "2023-01-10T05:06:23.762Z"
   },
   {
    "duration": 9,
    "start_time": "2023-01-10T05:06:23.775Z"
   },
   {
    "duration": 13,
    "start_time": "2023-01-10T05:06:23.786Z"
   },
   {
    "duration": 6,
    "start_time": "2023-01-10T05:06:23.801Z"
   },
   {
    "duration": 20,
    "start_time": "2023-01-10T05:06:23.809Z"
   },
   {
    "duration": 25,
    "start_time": "2023-01-10T05:06:23.830Z"
   },
   {
    "duration": 99,
    "start_time": "2023-01-10T05:06:23.857Z"
   },
   {
    "duration": 44,
    "start_time": "2023-01-10T05:06:23.958Z"
   },
   {
    "duration": 11,
    "start_time": "2023-01-10T05:06:24.004Z"
   },
   {
    "duration": 5,
    "start_time": "2023-01-10T05:06:24.016Z"
   },
   {
    "duration": 6,
    "start_time": "2023-01-10T05:06:24.023Z"
   },
   {
    "duration": 7,
    "start_time": "2023-01-10T05:06:24.030Z"
   },
   {
    "duration": 4,
    "start_time": "2023-01-10T05:07:24.821Z"
   },
   {
    "duration": 13,
    "start_time": "2023-01-10T05:40:53.977Z"
   },
   {
    "duration": 11,
    "start_time": "2023-01-10T05:41:35.710Z"
   },
   {
    "duration": 11,
    "start_time": "2023-01-10T05:41:45.026Z"
   },
   {
    "duration": 1571,
    "start_time": "2023-01-10T22:02:51.266Z"
   },
   {
    "duration": 241,
    "start_time": "2023-01-10T22:02:52.839Z"
   },
   {
    "duration": 21,
    "start_time": "2023-01-10T22:02:53.081Z"
   },
   {
    "duration": 146,
    "start_time": "2023-01-10T22:02:53.105Z"
   },
   {
    "duration": 30,
    "start_time": "2023-01-10T22:02:53.253Z"
   },
   {
    "duration": 21,
    "start_time": "2023-01-10T22:02:53.285Z"
   },
   {
    "duration": 29,
    "start_time": "2023-01-10T22:02:53.308Z"
   },
   {
    "duration": 10,
    "start_time": "2023-01-10T22:02:53.338Z"
   },
   {
    "duration": 14,
    "start_time": "2023-01-10T22:02:53.350Z"
   },
   {
    "duration": 110,
    "start_time": "2023-01-10T22:02:53.366Z"
   },
   {
    "duration": 196,
    "start_time": "2023-01-10T22:02:53.478Z"
   },
   {
    "duration": 19,
    "start_time": "2023-01-10T22:02:53.676Z"
   },
   {
    "duration": 133,
    "start_time": "2023-01-10T22:02:53.697Z"
   },
   {
    "duration": 57,
    "start_time": "2023-01-10T22:02:53.832Z"
   },
   {
    "duration": 9,
    "start_time": "2023-01-10T22:02:53.890Z"
   },
   {
    "duration": 61,
    "start_time": "2023-01-10T22:02:53.901Z"
   },
   {
    "duration": 36,
    "start_time": "2023-01-10T22:02:53.964Z"
   },
   {
    "duration": 70,
    "start_time": "2023-01-10T22:02:54.001Z"
   },
   {
    "duration": 230,
    "start_time": "2023-01-10T22:02:54.073Z"
   },
   {
    "duration": 36,
    "start_time": "2023-01-10T22:02:54.306Z"
   },
   {
    "duration": 41,
    "start_time": "2023-01-10T22:02:54.344Z"
   },
   {
    "duration": 453,
    "start_time": "2023-01-10T22:02:54.387Z"
   },
   {
    "duration": 1035,
    "start_time": "2023-01-10T22:02:54.842Z"
   },
   {
    "duration": 103,
    "start_time": "2023-01-10T22:02:55.879Z"
   },
   {
    "duration": 74,
    "start_time": "2023-01-10T22:02:55.984Z"
   },
   {
    "duration": 114,
    "start_time": "2023-01-10T22:02:56.061Z"
   },
   {
    "duration": 105,
    "start_time": "2023-01-10T22:02:56.177Z"
   },
   {
    "duration": 8,
    "start_time": "2023-01-10T22:02:56.287Z"
   },
   {
    "duration": 9,
    "start_time": "2023-01-10T22:02:56.296Z"
   },
   {
    "duration": 28,
    "start_time": "2023-01-10T22:02:56.306Z"
   },
   {
    "duration": 13,
    "start_time": "2023-01-10T22:02:56.336Z"
   },
   {
    "duration": 22,
    "start_time": "2023-01-10T22:02:56.351Z"
   },
   {
    "duration": 53,
    "start_time": "2023-01-10T22:02:56.375Z"
   },
   {
    "duration": 137,
    "start_time": "2023-01-10T22:02:56.430Z"
   },
   {
    "duration": 20,
    "start_time": "2023-01-10T22:02:56.568Z"
   },
   {
    "duration": 14,
    "start_time": "2023-01-10T22:02:56.590Z"
   },
   {
    "duration": 31,
    "start_time": "2023-01-10T22:02:56.606Z"
   },
   {
    "duration": 984,
    "start_time": "2023-01-10T22:02:56.640Z"
   },
   {
    "duration": 12,
    "start_time": "2023-01-10T22:02:57.627Z"
   },
   {
    "duration": 10,
    "start_time": "2023-01-10T22:02:57.642Z"
   },
   {
    "duration": 181,
    "start_time": "2023-01-10T22:02:57.654Z"
   },
   {
    "duration": 130,
    "start_time": "2023-01-10T22:02:57.841Z"
   },
   {
    "duration": 53,
    "start_time": "2023-01-10T22:02:57.977Z"
   },
   {
    "duration": 6,
    "start_time": "2023-01-10T22:02:58.032Z"
   },
   {
    "duration": 20,
    "start_time": "2023-01-10T22:02:58.041Z"
   },
   {
    "duration": 37,
    "start_time": "2023-01-10T22:02:58.066Z"
   },
   {
    "duration": 19,
    "start_time": "2023-01-10T22:02:58.105Z"
   },
   {
    "duration": 13,
    "start_time": "2023-01-10T22:02:58.126Z"
   },
   {
    "duration": 32,
    "start_time": "2023-01-10T22:02:58.141Z"
   },
   {
    "duration": 18,
    "start_time": "2023-01-10T22:02:58.176Z"
   },
   {
    "duration": 19,
    "start_time": "2023-01-10T22:02:58.197Z"
   },
   {
    "duration": 30,
    "start_time": "2023-01-10T22:02:58.218Z"
   },
   {
    "duration": 26,
    "start_time": "2023-01-10T22:02:58.250Z"
   },
   {
    "duration": 27,
    "start_time": "2023-01-10T22:02:58.282Z"
   },
   {
    "duration": 20,
    "start_time": "2023-01-10T22:02:58.311Z"
   },
   {
    "duration": 28,
    "start_time": "2023-01-10T22:02:58.333Z"
   },
   {
    "duration": 19,
    "start_time": "2023-01-10T22:02:58.362Z"
   },
   {
    "duration": 126,
    "start_time": "2023-01-10T22:02:58.384Z"
   },
   {
    "duration": 53,
    "start_time": "2023-01-10T22:02:58.512Z"
   },
   {
    "duration": 13,
    "start_time": "2023-01-10T22:02:58.568Z"
   },
   {
    "duration": 23,
    "start_time": "2023-01-10T22:02:58.583Z"
   },
   {
    "duration": 10,
    "start_time": "2023-01-10T22:02:58.608Z"
   },
   {
    "duration": 27,
    "start_time": "2023-01-10T22:02:58.620Z"
   },
   {
    "duration": 19,
    "start_time": "2023-01-10T22:03:50.429Z"
   },
   {
    "duration": 6,
    "start_time": "2023-01-10T22:07:07.861Z"
   },
   {
    "duration": 8,
    "start_time": "2023-01-10T22:08:24.391Z"
   }
  ],
  "kernelspec": {
   "display_name": "Python 3 (ipykernel)",
   "language": "python",
   "name": "python3"
  },
  "language_info": {
   "codemirror_mode": {
    "name": "ipython",
    "version": 3
   },
   "file_extension": ".py",
   "mimetype": "text/x-python",
   "name": "python",
   "nbconvert_exporter": "python",
   "pygments_lexer": "ipython3",
   "version": "3.9.7"
  },
  "toc": {
   "base_numbering": 1,
   "nav_menu": {
    "height": "93.9962px",
    "width": "160px"
   },
   "number_sections": false,
   "sideBar": true,
   "skip_h1_title": false,
   "title_cell": "Table of Contents",
   "title_sidebar": "Contents",
   "toc_cell": false,
   "toc_position": {
    "height": "calc(100% - 180px)",
    "left": "10px",
    "top": "150px",
    "width": "238.239px"
   },
   "toc_section_display": true,
   "toc_window_display": false
  }
 },
 "nbformat": 4,
 "nbformat_minor": 2
}

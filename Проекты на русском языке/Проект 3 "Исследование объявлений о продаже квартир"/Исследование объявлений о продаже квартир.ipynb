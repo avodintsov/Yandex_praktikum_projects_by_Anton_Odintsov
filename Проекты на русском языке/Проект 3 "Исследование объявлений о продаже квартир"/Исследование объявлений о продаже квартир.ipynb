{
 "cells": [
  {
   "cell_type": "markdown",
   "metadata": {},
   "source": [
    "# Исследование объявлений о продаже квартир"
   ]
  },
  {
   "cell_type": "markdown",
   "metadata": {},
   "source": [
    "## Оглавление"
   ]
  },
  {
   "cell_type": "markdown",
   "metadata": {},
   "source": [
    "+ [Описание проекта](#project_description)\n",
    "+ [Описание данных](#data_description)\n",
    "+ [Введение](#intro)\n",
    "+ [1. Откройте файл с данными](#task_1)\n",
    "    - [Задание 1.1 Загрузите данные](#task_1.1)\n",
    "    - [Задание 1.2 Изучите общую информацию](#task_1.2)\n",
    "    - [Задание 1.3 Постройте общую гистограмму](#task_1.3)\n",
    "+ [2. Предобработка данных](#task_2)\n",
    "    - [Задание 2.1 Найдите и изучите пропущенные значения](#task_2.1)\n",
    "    - [Задание 2.2 Найдите и устраните редкие и выбивающиеся значения](#task_2.2)\n",
    "    - [Задание 2.3 Изучите уникальные значения](#task_2.3)\n",
    "+ [3. Добавьте в таблицу новые столбцы со следующими параметрами](#task_3)\n",
    "+ [4. Проведите исследовательский анализ данных](#task_4)\n",
    "    - [Задание 4.1 Изучите следующие параметры объектов](#task_4.1)\n",
    "    - [Задание 4.2 Изучите, как быстро продавались квартиры](#task_4.2)\n",
    "    - [Задание 4.3 Какие факторы больше всего влияют на общую стоимость объекта](#task_4.3)\n",
    "    - [Задание 4.4 Посчитайте среднюю цену одного квадратного метра](#task_4.4)\n",
    "    - [Задание 4.5 Выделите квартиры и вычислите среднюю цену каждого километра](#task_4.5)\n",
    "+ [Вывод](#conclusion)"
   ]
  },
  {
   "cell_type": "markdown",
   "metadata": {},
   "source": [
    "## <a name=\"project_description\"></a>  Описание проекта"
   ]
  },
  {
   "cell_type": "markdown",
   "metadata": {},
   "source": [
    "В вашем распоряжении данные сервиса Яндекс Недвижимость — архив объявлений за несколько лет о продаже квартир в Санкт-Петербурге и соседних населённых пунктах.\n",
    "\n",
    "Ваша задача — выполнить предобработку данных и изучить их, чтобы найти интересные особенности и зависимости, которые существуют на рынке недвижимости.\n",
    "\n",
    "О каждой квартире в базе содержится два типа данных: добавленные пользователем и картографические. Например, к первому типу относятся площадь квартиры, её этаж и количество балконов, ко второму — расстояния до центра города, аэропорта и ближайшего парка."
   ]
  },
  {
   "cell_type": "markdown",
   "metadata": {},
   "source": [
    "## <a name=\"data_description\"></a> Описание данных"
   ]
  },
  {
   "cell_type": "markdown",
   "metadata": {},
   "source": [
    "- `airports_nearest` — расстояние до ближайшего аэропорта в метрах (м)\n",
    "- `balcony` — число балконов\n",
    "- `ceiling_height` — высота потолков (м)\n",
    "- `cityCenters_nearest` — расстояние до центра города (м)\n",
    "- `days_exposition` — сколько дней было размещено объявление (от публикации до снятия)\n",
    "- `first_day_exposition` — дата публикации\n",
    "- `floor` — этаж\n",
    "- `floors_total` — всего этажей в доме\n",
    "- `is_apartment` — апартаменты (булев тип)\n",
    "- `kitchen_area` — площадь кухни в квадратных метрах (м²)\n",
    "- `last_price` — цена на момент снятия с публикации\n",
    "- `living_area` — жилая площадь в квадратных метрах (м²)\n",
    "- `locality_name` — название населённого пункта\n",
    "- `open_plan` — свободная планировка (булев тип)\n",
    "- `parks_around3000` — число парков в радиусе 3 км\n",
    "- `parks_nearest` — расстояние до ближайшего парка (м)\n",
    "- `ponds_around3000` — число водоёмов в радиусе 3 км\n",
    "- `ponds_nearest` — расстояние до ближайшего водоёма (м)\n",
    "- `rooms` — число комнат\n",
    "- `studio` — квартира-студия (булев тип)\n",
    "- `total_area` — общая площадь квартиры в квадратных метрах (м²)\n",
    "- `total_images` — число фотографий квартиры в объявлении"
   ]
  },
  {
   "cell_type": "markdown",
   "metadata": {},
   "source": [
    "## <a name=\"data_description\"></a> Введение"
   ]
  },
  {
   "cell_type": "markdown",
   "metadata": {},
   "source": [
    "В вашем распоряжении данные сервиса Яндекс.Недвижимость — архив объявлений о продаже квартир в Санкт-Петербурге и соседних населённых пунктов за несколько лет. Нужно научиться определять рыночную стоимость объектов недвижимости. Ваша задача — установить параметры. Это позволит построить автоматизированную систему: она отследит аномалии и мошенническую деятельность. \n",
    "\n",
    "По каждой квартире на продажу доступны два вида данных. Первые вписаны пользователем, вторые — получены автоматически на основе картографических данных. Например, расстояние до центра, аэропорта, ближайшего парка и водоёма. "
   ]
  },
  {
   "cell_type": "markdown",
   "metadata": {},
   "source": [
    "###  <a name=\"task_1\"></a> 1. Откройте файл с данными и изучите общую информацию. "
   ]
  },
  {
   "cell_type": "markdown",
   "metadata": {},
   "source": [
    "#### <a name=\"task_1.1\"></a>  1.1 Загрузите данные из файла в датафрейм."
   ]
  },
  {
   "cell_type": "code",
   "execution_count": 1,
   "metadata": {},
   "outputs": [
    {
     "data": {
      "text/html": [
       "<div>\n",
       "<style scoped>\n",
       "    .dataframe tbody tr th:only-of-type {\n",
       "        vertical-align: middle;\n",
       "    }\n",
       "\n",
       "    .dataframe tbody tr th {\n",
       "        vertical-align: top;\n",
       "    }\n",
       "\n",
       "    .dataframe thead th {\n",
       "        text-align: right;\n",
       "    }\n",
       "</style>\n",
       "<table border=\"1\" class=\"dataframe\">\n",
       "  <thead>\n",
       "    <tr style=\"text-align: right;\">\n",
       "      <th></th>\n",
       "      <th>total_images</th>\n",
       "      <th>last_price</th>\n",
       "      <th>total_area</th>\n",
       "      <th>first_day_exposition</th>\n",
       "      <th>rooms</th>\n",
       "      <th>ceiling_height</th>\n",
       "      <th>floors_total</th>\n",
       "      <th>living_area</th>\n",
       "      <th>floor</th>\n",
       "      <th>is_apartment</th>\n",
       "      <th>...</th>\n",
       "      <th>kitchen_area</th>\n",
       "      <th>balcony</th>\n",
       "      <th>locality_name</th>\n",
       "      <th>airports_nearest</th>\n",
       "      <th>cityCenters_nearest</th>\n",
       "      <th>parks_around3000</th>\n",
       "      <th>parks_nearest</th>\n",
       "      <th>ponds_around3000</th>\n",
       "      <th>ponds_nearest</th>\n",
       "      <th>days_exposition</th>\n",
       "    </tr>\n",
       "  </thead>\n",
       "  <tbody>\n",
       "    <tr>\n",
       "      <th>0</th>\n",
       "      <td>20</td>\n",
       "      <td>13000000.0</td>\n",
       "      <td>108.00</td>\n",
       "      <td>2019-03-07 0:00:00</td>\n",
       "      <td>3</td>\n",
       "      <td>2.70</td>\n",
       "      <td>16.0</td>\n",
       "      <td>51.0</td>\n",
       "      <td>8</td>\n",
       "      <td>NaN</td>\n",
       "      <td>...</td>\n",
       "      <td>25.00</td>\n",
       "      <td>NaN</td>\n",
       "      <td>Санкт-Петербург</td>\n",
       "      <td>18863.0</td>\n",
       "      <td>16028.0</td>\n",
       "      <td>1.0</td>\n",
       "      <td>482.0</td>\n",
       "      <td>2.0</td>\n",
       "      <td>755.0</td>\n",
       "      <td>NaN</td>\n",
       "    </tr>\n",
       "    <tr>\n",
       "      <th>1</th>\n",
       "      <td>7</td>\n",
       "      <td>3350000.0</td>\n",
       "      <td>40.40</td>\n",
       "      <td>2018-12-04 0:00:00</td>\n",
       "      <td>1</td>\n",
       "      <td>NaN</td>\n",
       "      <td>11.0</td>\n",
       "      <td>18.6</td>\n",
       "      <td>1</td>\n",
       "      <td>NaN</td>\n",
       "      <td>...</td>\n",
       "      <td>11.00</td>\n",
       "      <td>2.0</td>\n",
       "      <td>посёлок Шушары</td>\n",
       "      <td>12817.0</td>\n",
       "      <td>18603.0</td>\n",
       "      <td>0.0</td>\n",
       "      <td>NaN</td>\n",
       "      <td>0.0</td>\n",
       "      <td>NaN</td>\n",
       "      <td>81.0</td>\n",
       "    </tr>\n",
       "    <tr>\n",
       "      <th>2</th>\n",
       "      <td>10</td>\n",
       "      <td>5196000.0</td>\n",
       "      <td>56.00</td>\n",
       "      <td>2015-08-20 0:00:00</td>\n",
       "      <td>2</td>\n",
       "      <td>NaN</td>\n",
       "      <td>5.0</td>\n",
       "      <td>34.3</td>\n",
       "      <td>4</td>\n",
       "      <td>NaN</td>\n",
       "      <td>...</td>\n",
       "      <td>8.30</td>\n",
       "      <td>0.0</td>\n",
       "      <td>Санкт-Петербург</td>\n",
       "      <td>21741.0</td>\n",
       "      <td>13933.0</td>\n",
       "      <td>1.0</td>\n",
       "      <td>90.0</td>\n",
       "      <td>2.0</td>\n",
       "      <td>574.0</td>\n",
       "      <td>558.0</td>\n",
       "    </tr>\n",
       "    <tr>\n",
       "      <th>3</th>\n",
       "      <td>0</td>\n",
       "      <td>64900000.0</td>\n",
       "      <td>159.00</td>\n",
       "      <td>2015-07-24 0:00:00</td>\n",
       "      <td>3</td>\n",
       "      <td>NaN</td>\n",
       "      <td>14.0</td>\n",
       "      <td>NaN</td>\n",
       "      <td>9</td>\n",
       "      <td>NaN</td>\n",
       "      <td>...</td>\n",
       "      <td>NaN</td>\n",
       "      <td>0.0</td>\n",
       "      <td>Санкт-Петербург</td>\n",
       "      <td>28098.0</td>\n",
       "      <td>6800.0</td>\n",
       "      <td>2.0</td>\n",
       "      <td>84.0</td>\n",
       "      <td>3.0</td>\n",
       "      <td>234.0</td>\n",
       "      <td>424.0</td>\n",
       "    </tr>\n",
       "    <tr>\n",
       "      <th>4</th>\n",
       "      <td>2</td>\n",
       "      <td>10000000.0</td>\n",
       "      <td>100.00</td>\n",
       "      <td>2018-06-19 0:00:00</td>\n",
       "      <td>2</td>\n",
       "      <td>3.03</td>\n",
       "      <td>14.0</td>\n",
       "      <td>32.0</td>\n",
       "      <td>13</td>\n",
       "      <td>NaN</td>\n",
       "      <td>...</td>\n",
       "      <td>41.00</td>\n",
       "      <td>NaN</td>\n",
       "      <td>Санкт-Петербург</td>\n",
       "      <td>31856.0</td>\n",
       "      <td>8098.0</td>\n",
       "      <td>2.0</td>\n",
       "      <td>112.0</td>\n",
       "      <td>1.0</td>\n",
       "      <td>48.0</td>\n",
       "      <td>121.0</td>\n",
       "    </tr>\n",
       "    <tr>\n",
       "      <th>...</th>\n",
       "      <td>...</td>\n",
       "      <td>...</td>\n",
       "      <td>...</td>\n",
       "      <td>...</td>\n",
       "      <td>...</td>\n",
       "      <td>...</td>\n",
       "      <td>...</td>\n",
       "      <td>...</td>\n",
       "      <td>...</td>\n",
       "      <td>...</td>\n",
       "      <td>...</td>\n",
       "      <td>...</td>\n",
       "      <td>...</td>\n",
       "      <td>...</td>\n",
       "      <td>...</td>\n",
       "      <td>...</td>\n",
       "      <td>...</td>\n",
       "      <td>...</td>\n",
       "      <td>...</td>\n",
       "      <td>...</td>\n",
       "      <td>...</td>\n",
       "    </tr>\n",
       "    <tr>\n",
       "      <th>23694</th>\n",
       "      <td>9</td>\n",
       "      <td>9700000.0</td>\n",
       "      <td>133.81</td>\n",
       "      <td>2017-03-21 0:00:00</td>\n",
       "      <td>3</td>\n",
       "      <td>3.70</td>\n",
       "      <td>5.0</td>\n",
       "      <td>73.3</td>\n",
       "      <td>3</td>\n",
       "      <td>NaN</td>\n",
       "      <td>...</td>\n",
       "      <td>13.83</td>\n",
       "      <td>NaN</td>\n",
       "      <td>Санкт-Петербург</td>\n",
       "      <td>24665.0</td>\n",
       "      <td>4232.0</td>\n",
       "      <td>1.0</td>\n",
       "      <td>796.0</td>\n",
       "      <td>3.0</td>\n",
       "      <td>381.0</td>\n",
       "      <td>NaN</td>\n",
       "    </tr>\n",
       "    <tr>\n",
       "      <th>23695</th>\n",
       "      <td>14</td>\n",
       "      <td>3100000.0</td>\n",
       "      <td>59.00</td>\n",
       "      <td>2018-01-15 0:00:00</td>\n",
       "      <td>3</td>\n",
       "      <td>NaN</td>\n",
       "      <td>5.0</td>\n",
       "      <td>38.0</td>\n",
       "      <td>4</td>\n",
       "      <td>NaN</td>\n",
       "      <td>...</td>\n",
       "      <td>8.50</td>\n",
       "      <td>NaN</td>\n",
       "      <td>Тосно</td>\n",
       "      <td>NaN</td>\n",
       "      <td>NaN</td>\n",
       "      <td>NaN</td>\n",
       "      <td>NaN</td>\n",
       "      <td>NaN</td>\n",
       "      <td>NaN</td>\n",
       "      <td>45.0</td>\n",
       "    </tr>\n",
       "    <tr>\n",
       "      <th>23696</th>\n",
       "      <td>18</td>\n",
       "      <td>2500000.0</td>\n",
       "      <td>56.70</td>\n",
       "      <td>2018-02-11 0:00:00</td>\n",
       "      <td>2</td>\n",
       "      <td>NaN</td>\n",
       "      <td>3.0</td>\n",
       "      <td>29.7</td>\n",
       "      <td>1</td>\n",
       "      <td>NaN</td>\n",
       "      <td>...</td>\n",
       "      <td>NaN</td>\n",
       "      <td>NaN</td>\n",
       "      <td>село Рождествено</td>\n",
       "      <td>NaN</td>\n",
       "      <td>NaN</td>\n",
       "      <td>NaN</td>\n",
       "      <td>NaN</td>\n",
       "      <td>NaN</td>\n",
       "      <td>NaN</td>\n",
       "      <td>NaN</td>\n",
       "    </tr>\n",
       "    <tr>\n",
       "      <th>23697</th>\n",
       "      <td>13</td>\n",
       "      <td>11475000.0</td>\n",
       "      <td>76.75</td>\n",
       "      <td>2017-03-28 0:00:00</td>\n",
       "      <td>2</td>\n",
       "      <td>3.00</td>\n",
       "      <td>17.0</td>\n",
       "      <td>NaN</td>\n",
       "      <td>12</td>\n",
       "      <td>NaN</td>\n",
       "      <td>...</td>\n",
       "      <td>23.30</td>\n",
       "      <td>2.0</td>\n",
       "      <td>Санкт-Петербург</td>\n",
       "      <td>39140.0</td>\n",
       "      <td>10364.0</td>\n",
       "      <td>2.0</td>\n",
       "      <td>173.0</td>\n",
       "      <td>3.0</td>\n",
       "      <td>196.0</td>\n",
       "      <td>602.0</td>\n",
       "    </tr>\n",
       "    <tr>\n",
       "      <th>23698</th>\n",
       "      <td>4</td>\n",
       "      <td>1350000.0</td>\n",
       "      <td>32.30</td>\n",
       "      <td>2017-07-21 0:00:00</td>\n",
       "      <td>1</td>\n",
       "      <td>2.50</td>\n",
       "      <td>5.0</td>\n",
       "      <td>12.3</td>\n",
       "      <td>1</td>\n",
       "      <td>NaN</td>\n",
       "      <td>...</td>\n",
       "      <td>9.00</td>\n",
       "      <td>NaN</td>\n",
       "      <td>поселок Новый Учхоз</td>\n",
       "      <td>NaN</td>\n",
       "      <td>NaN</td>\n",
       "      <td>NaN</td>\n",
       "      <td>NaN</td>\n",
       "      <td>NaN</td>\n",
       "      <td>NaN</td>\n",
       "      <td>NaN</td>\n",
       "    </tr>\n",
       "  </tbody>\n",
       "</table>\n",
       "<p>23699 rows × 22 columns</p>\n",
       "</div>"
      ],
      "text/plain": [
       "       total_images  last_price  total_area first_day_exposition  rooms  \\\n",
       "0                20  13000000.0      108.00   2019-03-07 0:00:00      3   \n",
       "1                 7   3350000.0       40.40   2018-12-04 0:00:00      1   \n",
       "2                10   5196000.0       56.00   2015-08-20 0:00:00      2   \n",
       "3                 0  64900000.0      159.00   2015-07-24 0:00:00      3   \n",
       "4                 2  10000000.0      100.00   2018-06-19 0:00:00      2   \n",
       "...             ...         ...         ...                  ...    ...   \n",
       "23694             9   9700000.0      133.81   2017-03-21 0:00:00      3   \n",
       "23695            14   3100000.0       59.00   2018-01-15 0:00:00      3   \n",
       "23696            18   2500000.0       56.70   2018-02-11 0:00:00      2   \n",
       "23697            13  11475000.0       76.75   2017-03-28 0:00:00      2   \n",
       "23698             4   1350000.0       32.30   2017-07-21 0:00:00      1   \n",
       "\n",
       "       ceiling_height  floors_total  living_area  floor is_apartment  ...  \\\n",
       "0                2.70          16.0         51.0      8          NaN  ...   \n",
       "1                 NaN          11.0         18.6      1          NaN  ...   \n",
       "2                 NaN           5.0         34.3      4          NaN  ...   \n",
       "3                 NaN          14.0          NaN      9          NaN  ...   \n",
       "4                3.03          14.0         32.0     13          NaN  ...   \n",
       "...               ...           ...          ...    ...          ...  ...   \n",
       "23694            3.70           5.0         73.3      3          NaN  ...   \n",
       "23695             NaN           5.0         38.0      4          NaN  ...   \n",
       "23696             NaN           3.0         29.7      1          NaN  ...   \n",
       "23697            3.00          17.0          NaN     12          NaN  ...   \n",
       "23698            2.50           5.0         12.3      1          NaN  ...   \n",
       "\n",
       "       kitchen_area  balcony        locality_name  airports_nearest  \\\n",
       "0             25.00      NaN      Санкт-Петербург           18863.0   \n",
       "1             11.00      2.0       посёлок Шушары           12817.0   \n",
       "2              8.30      0.0      Санкт-Петербург           21741.0   \n",
       "3               NaN      0.0      Санкт-Петербург           28098.0   \n",
       "4             41.00      NaN      Санкт-Петербург           31856.0   \n",
       "...             ...      ...                  ...               ...   \n",
       "23694         13.83      NaN      Санкт-Петербург           24665.0   \n",
       "23695          8.50      NaN                Тосно               NaN   \n",
       "23696           NaN      NaN     село Рождествено               NaN   \n",
       "23697         23.30      2.0      Санкт-Петербург           39140.0   \n",
       "23698          9.00      NaN  поселок Новый Учхоз               NaN   \n",
       "\n",
       "      cityCenters_nearest  parks_around3000  parks_nearest  ponds_around3000  \\\n",
       "0                 16028.0               1.0          482.0               2.0   \n",
       "1                 18603.0               0.0            NaN               0.0   \n",
       "2                 13933.0               1.0           90.0               2.0   \n",
       "3                  6800.0               2.0           84.0               3.0   \n",
       "4                  8098.0               2.0          112.0               1.0   \n",
       "...                   ...               ...            ...               ...   \n",
       "23694              4232.0               1.0          796.0               3.0   \n",
       "23695                 NaN               NaN            NaN               NaN   \n",
       "23696                 NaN               NaN            NaN               NaN   \n",
       "23697             10364.0               2.0          173.0               3.0   \n",
       "23698                 NaN               NaN            NaN               NaN   \n",
       "\n",
       "       ponds_nearest  days_exposition  \n",
       "0              755.0              NaN  \n",
       "1                NaN             81.0  \n",
       "2              574.0            558.0  \n",
       "3              234.0            424.0  \n",
       "4               48.0            121.0  \n",
       "...              ...              ...  \n",
       "23694          381.0              NaN  \n",
       "23695            NaN             45.0  \n",
       "23696            NaN              NaN  \n",
       "23697          196.0            602.0  \n",
       "23698            NaN              NaN  \n",
       "\n",
       "[23699 rows x 22 columns]"
      ]
     },
     "execution_count": 1,
     "metadata": {},
     "output_type": "execute_result"
    }
   ],
   "source": [
    "import pandas as pd\n",
    "import numpy as np\n",
    "import matplotlib.pyplot as plt\n",
    "import seaborn as sns; sns.set()\n",
    "%matplotlib inline\n",
    "\n",
    "# data = pd.read_csv('/datasets/real_estate_data.csv', sep = '\\t')\n",
    "\n",
    "from io import BytesIO\n",
    "import requests\n",
    "import pandas as pd\n",
    "spreadsheet_id = '1PVE_U8KnP2tFdb48u0psELUNaI4EowvMyG5HAoCcsbU'\n",
    "file_name = 'https://docs.google.com/spreadsheets/d/{}/export?format=csv'.format(spreadsheet_id)\n",
    "r = requests.get(file_name)\n",
    "data = pd.read_csv(BytesIO(r.content))\n",
    "data"
   ]
  },
  {
   "cell_type": "markdown",
   "metadata": {},
   "source": [
    "#### <a name=\"task_1.2\"></a>  1.2 Изучите общую информацию о полученном датафрейме."
   ]
  },
  {
   "cell_type": "code",
   "execution_count": 2,
   "metadata": {},
   "outputs": [
    {
     "name": "stdout",
     "output_type": "stream",
     "text": [
      "<class 'pandas.core.frame.DataFrame'>\n",
      "RangeIndex: 23699 entries, 0 to 23698\n",
      "Data columns (total 22 columns):\n",
      " #   Column                Non-Null Count  Dtype  \n",
      "---  ------                --------------  -----  \n",
      " 0   total_images          23699 non-null  int64  \n",
      " 1   last_price            23699 non-null  float64\n",
      " 2   total_area            23699 non-null  float64\n",
      " 3   first_day_exposition  23699 non-null  object \n",
      " 4   rooms                 23699 non-null  int64  \n",
      " 5   ceiling_height        14504 non-null  float64\n",
      " 6   floors_total          23613 non-null  float64\n",
      " 7   living_area           21796 non-null  float64\n",
      " 8   floor                 23699 non-null  int64  \n",
      " 9   is_apartment          2775 non-null   object \n",
      " 10  studio                23699 non-null  bool   \n",
      " 11  open_plan             23699 non-null  bool   \n",
      " 12  kitchen_area          21421 non-null  float64\n",
      " 13  balcony               12180 non-null  float64\n",
      " 14  locality_name         23650 non-null  object \n",
      " 15  airports_nearest      18157 non-null  float64\n",
      " 16  cityCenters_nearest   18180 non-null  float64\n",
      " 17  parks_around3000      18181 non-null  float64\n",
      " 18  parks_nearest         8079 non-null   float64\n",
      " 19  ponds_around3000      18181 non-null  float64\n",
      " 20  ponds_nearest         9110 non-null   float64\n",
      " 21  days_exposition       20518 non-null  float64\n",
      "dtypes: bool(2), float64(14), int64(3), object(3)\n",
      "memory usage: 3.7+ MB\n"
     ]
    }
   ],
   "source": [
    "data.info()"
   ]
  },
  {
   "cell_type": "markdown",
   "metadata": {},
   "source": [
    "- Мы видим что столбец \"first_day_exposition\" имеет тип данных object, а по идее это должен быть столбец с датами и временем. Тип данных столбца мы исправим ниже по ходу решения.\n",
    "- Также многие из столцов можно перевести в тип int, так как в них представлены целочисленные данные. Это мы тоже исправляем ниже."
   ]
  },
  {
   "cell_type": "markdown",
   "metadata": {},
   "source": [
    "#### <a name=\"task_1.3\"></a>  1.3 Постройте общую гистограмму для всех столбцов таблицы. Например, для датафрейма data это можно сделать командой data.hist(figsize=(15, 20))."
   ]
  },
  {
   "cell_type": "code",
   "execution_count": 3,
   "metadata": {},
   "outputs": [
    {
     "data": {
      "image/png": "[encoded data removed]",
      "text/plain": [
       "<Figure size 1080x1440 with 20 Axes>"
      ]
     },
     "metadata": {
      "needs_background": "light"
     },
     "output_type": "display_data"
    }
   ],
   "source": [
    "data.hist(figsize=(15, 20));"
   ]
  },
  {
   "cell_type": "markdown",
   "metadata": {},
   "source": [
    "Гистограммы \"last_price\", \"total_area\" и \"ceiling_hight\" выглядят странно и совсем не информативно. Скорее всего это происходит, потому что в данных есть выбросы, то есть какие-то значения, которые очень сильно отличаются от основной массы данных. С выбросами мы поработаем ниже в проекте и еще так же ниже мы еще раз перестроим эти гистограммы в более наглядном виде."
   ]
  },
  {
   "cell_type": "code",
   "execution_count": null,
   "metadata": {},
   "outputs": [],
   "source": []
  },
  {
   "cell_type": "markdown",
   "metadata": {},
   "source": [
    "### <a name=\"task_2\"></a> 2. Предобработка данных"
   ]
  },
  {
   "cell_type": "markdown",
   "metadata": {},
   "source": [
    "#### <a name=\"task_2.1\"></a> 2.1 Найдите и изучите пропущенные значения в столбцах:"
   ]
  },
  {
   "cell_type": "markdown",
   "metadata": {},
   "source": [
    "**Определяем, в каких столбцах есть пропуски.**"
   ]
  },
  {
   "cell_type": "code",
   "execution_count": 4,
   "metadata": {},
   "outputs": [
    {
     "data": {
      "text/plain": [
       "total_images                0\n",
       "last_price                  0\n",
       "total_area                  0\n",
       "first_day_exposition        0\n",
       "rooms                       0\n",
       "ceiling_height           9195\n",
       "floors_total               86\n",
       "living_area              1903\n",
       "floor                       0\n",
       "is_apartment            20924\n",
       "studio                      0\n",
       "open_plan                   0\n",
       "kitchen_area             2278\n",
       "balcony                 11519\n",
       "locality_name              49\n",
       "airports_nearest         5542\n",
       "cityCenters_nearest      5519\n",
       "parks_around3000         5518\n",
       "parks_nearest           15620\n",
       "ponds_around3000         5518\n",
       "ponds_nearest           14589\n",
       "days_exposition          3181\n",
       "dtype: int64"
      ]
     },
     "execution_count": 4,
     "metadata": {},
     "output_type": "execute_result"
    }
   ],
   "source": [
    "data.isna().sum()"
   ]
  },
  {
   "cell_type": "code",
   "execution_count": null,
   "metadata": {},
   "outputs": [],
   "source": []
  },
  {
   "cell_type": "markdown",
   "metadata": {},
   "source": [
    "**Заполните пропущенные значения там, где это возможно. Например, если продавец не указал число балконов, то, скорее всего, в его квартире их нет. Такие пропуски правильно заменить на 0. Если логичную замену предложить невозможно, то оставьте эти значения пустыми. Пропуски — тоже важный сигнал, который нужно учитывать.**"
   ]
  },
  {
   "cell_type": "markdown",
   "metadata": {},
   "source": [
    "В столбце 'balcony' пропущенные некоторые значения, скорее всего это означает что балконов в квартире просто нет, поэтому заменим эти значения на 0 и преобразуем все значения в столбце на целочисленные данные, так как колличество балконов не может быть дробным."
   ]
  },
  {
   "cell_type": "code",
   "execution_count": 5,
   "metadata": {},
   "outputs": [
    {
     "data": {
      "text/plain": [
       "0    15277\n",
       "1     4195\n",
       "2     3659\n",
       "5      304\n",
       "4      183\n",
       "3       81\n",
       "Name: balcony, dtype: int64"
      ]
     },
     "metadata": {},
     "output_type": "display_data"
    }
   ],
   "source": [
    "data['balcony'] = data['balcony'].fillna(0).astype(int)\n",
    "display(data['balcony'].value_counts())"
   ]
  },
  {
   "cell_type": "markdown",
   "metadata": {},
   "source": [
    "Убираем пустые значения в столбце с колличеством этажей"
   ]
  },
  {
   "cell_type": "code",
   "execution_count": 6,
   "metadata": {},
   "outputs": [],
   "source": [
    "data = data.dropna(subset = ['floors_total']).reset_index(drop=True)"
   ]
  },
  {
   "cell_type": "markdown",
   "metadata": {},
   "source": [
    "Заменяем пустые значения на медианные в столбце 'ceiling_height', так же отрезаем все строки, где высота потолков больше 10 метров и удаляем их."
   ]
  },
  {
   "cell_type": "code",
   "execution_count": 7,
   "metadata": {},
   "outputs": [
    {
     "name": "stdout",
     "output_type": "stream",
     "text": [
      "0\n"
     ]
    }
   ],
   "source": [
    "import warnings\n",
    "\n",
    "warnings.filterwarnings(\"ignore\")\n",
    "\n",
    "replace_with_median = data.groupby('floors_total')['ceiling_height'].median()\n",
    "\n",
    "for total in data['floors_total'].unique():\n",
    "    data.loc[(data['floors_total'] == total) & (data['ceiling_height'].isna()), 'ceiling_height'] = replace_with_median[total]\n",
    "\n",
    "data.loc[data['ceiling_height'] > 10,'ceiling_height'] = None\n",
    "data = data.dropna(subset=['ceiling_height'])\n",
    "print(data['ceiling_height'][data['ceiling_height'] > 10].count())"
   ]
  },
  {
   "cell_type": "markdown",
   "metadata": {},
   "source": [
    "Проверим столбец с колличеством комнат"
   ]
  },
  {
   "cell_type": "code",
   "execution_count": 8,
   "metadata": {},
   "outputs": [
    {
     "data": {
      "text/plain": [
       "1     8008\n",
       "2     7900\n",
       "3     5790\n",
       "4     1176\n",
       "5      325\n",
       "0      193\n",
       "6      104\n",
       "7       59\n",
       "8       12\n",
       "9        8\n",
       "10       3\n",
       "11       2\n",
       "14       2\n",
       "15       1\n",
       "19       1\n",
       "16       1\n",
       "12       1\n",
       "Name: rooms, dtype: int64"
      ]
     },
     "execution_count": 8,
     "metadata": {},
     "output_type": "execute_result"
    }
   ],
   "source": [
    "data['rooms'].unique()\n",
    "data['rooms'].value_counts()"
   ]
  },
  {
   "cell_type": "markdown",
   "metadata": {},
   "source": [
    "Дополнительный тестовый фильтр, чтобы посмотреть, какие действительно квартиры имеют 0 комнат в изначальных данных.\n"
   ]
  },
  {
   "cell_type": "code",
   "execution_count": 9,
   "metadata": {},
   "outputs": [
    {
     "data": {
      "text/plain": [
       "True     135\n",
       "False     58\n",
       "Name: studio, dtype: int64"
      ]
     },
     "execution_count": 9,
     "metadata": {},
     "output_type": "execute_result"
    }
   ],
   "source": [
    "test_2 = data.loc[data['rooms'] == 0]\n",
    "test_2['studio'].value_counts()"
   ]
  },
  {
   "cell_type": "markdown",
   "metadata": {},
   "source": [
    "Мы видим, что из всех квартир с нулем комнат, 135 действительно являются студиями, но 58 (более 30 процентов) не являются студиями, или продавец забыл это указать.\n"
   ]
  },
  {
   "cell_type": "code",
   "execution_count": 10,
   "metadata": {},
   "outputs": [
    {
     "data": {
      "text/plain": [
       "0    135\n",
       "1     11\n",
       "Name: rooms, dtype: int64"
      ]
     },
     "execution_count": 10,
     "metadata": {},
     "output_type": "execute_result"
    }
   ],
   "source": [
    "test_3 = data.loc[data['studio'] == True]\n",
    "test_3['rooms'].value_counts()"
   ]
  },
  {
   "cell_type": "markdown",
   "metadata": {},
   "source": [
    "Мы видим, что из всех квартир студий, 135 имеют ноль в парамере комнат, а 11 имеют 1 в параметре комнат.\n"
   ]
  },
  {
   "cell_type": "code",
   "execution_count": 11,
   "metadata": {},
   "outputs": [
    {
     "data": {
      "text/plain": [
       "count    23586.000000\n",
       "mean         2.079496\n",
       "std          1.066576\n",
       "min          1.000000\n",
       "25%          1.000000\n",
       "50%          2.000000\n",
       "75%          3.000000\n",
       "max         19.000000\n",
       "Name: rooms, dtype: float64"
      ]
     },
     "execution_count": 11,
     "metadata": {},
     "output_type": "execute_result"
    }
   ],
   "source": [
    "# Заменяем нулевые значения на 1\n",
    "data['rooms'] = data['rooms'].replace(0, 1)\n",
    "# Проверка\n",
    "data['rooms'].describe()"
   ]
  },
  {
   "cell_type": "markdown",
   "metadata": {},
   "source": [
    "Я считаю, что чтобы в будущем не путаться, где у нас студия, где нет, и сколько в ней должно быть комнат, следует, все-таки заменить нулевое колличество комнат на 1, но при этом у этих квартир в параметре студия все равно останется пометка, что они являются студией, и если нам понадобиться, мы всегда сможем отобрать и посмотреть их отдельно от всех остальных квартир. \n"
   ]
  },
  {
   "cell_type": "markdown",
   "metadata": {},
   "source": [
    "Проверяем столбец с площадью квартир"
   ]
  },
  {
   "cell_type": "code",
   "execution_count": 12,
   "metadata": {},
   "outputs": [
    {
     "data": {
      "text/plain": [
       "count    23586.000000\n",
       "mean        60.346758\n",
       "std         35.661784\n",
       "min         12.000000\n",
       "25%         40.000000\n",
       "50%         52.000000\n",
       "75%         69.800000\n",
       "max        900.000000\n",
       "Name: total_area, dtype: float64"
      ]
     },
     "execution_count": 12,
     "metadata": {},
     "output_type": "execute_result"
    }
   ],
   "source": [
    "data['total_area'].describe()"
   ]
  },
  {
   "cell_type": "markdown",
   "metadata": {},
   "source": [
    "В данных присутствует необычная квартира с площадью 900 кв метров, возьмем ее на заметку"
   ]
  },
  {
   "cell_type": "markdown",
   "metadata": {},
   "source": [
    "Проверяем столбец с ценой на момент снятия с публикации"
   ]
  },
  {
   "cell_type": "code",
   "execution_count": 13,
   "metadata": {},
   "outputs": [
    {
     "data": {
      "text/plain": [
       "count    2.358600e+04\n",
       "mean     6.542156e+06\n",
       "std      1.090742e+07\n",
       "min      1.219000e+04\n",
       "25%      3.400000e+06\n",
       "50%      4.650000e+06\n",
       "75%      6.799000e+06\n",
       "max      7.630000e+08\n",
       "Name: last_price, dtype: float64"
      ]
     },
     "execution_count": 13,
     "metadata": {},
     "output_type": "execute_result"
    }
   ],
   "source": [
    "data['last_price'].describe()"
   ]
  },
  {
   "cell_type": "markdown",
   "metadata": {},
   "source": [
    "В данных есть квартира за 73 млн рублей, это много по сравнению с средней ценой в 6.5 млн, но в целом, такая цена реальна. Так же есть квартира за 430к, как по мне, это слишком низкая цена за квартиру."
   ]
  },
  {
   "cell_type": "markdown",
   "metadata": {},
   "source": [
    "#### <a name=\"task_2.2\"></a> 2.2 Найдите и устраните редкие и выбивающиеся значения."
   ]
  },
  {
   "cell_type": "markdown",
   "metadata": {},
   "source": [
    "Приведем данные к более реальному виду, без экстремаьлно дешевых квартир, высоченных потолков и огромных площадей."
   ]
  },
  {
   "cell_type": "code",
   "execution_count": 14,
   "metadata": {},
   "outputs": [
    {
     "name": "stdout",
     "output_type": "stream",
     "text": [
      "<class 'pandas.core.frame.DataFrame'>\n",
      "Int64Index: 23586 entries, 0 to 23612\n",
      "Data columns (total 22 columns):\n",
      " #   Column                Non-Null Count  Dtype  \n",
      "---  ------                --------------  -----  \n",
      " 0   total_images          23586 non-null  int64  \n",
      " 1   last_price            23586 non-null  float64\n",
      " 2   total_area            23586 non-null  float64\n",
      " 3   first_day_exposition  23586 non-null  object \n",
      " 4   rooms                 23586 non-null  int64  \n",
      " 5   ceiling_height        23586 non-null  float64\n",
      " 6   floors_total          23586 non-null  float64\n",
      " 7   living_area           21716 non-null  float64\n",
      " 8   floor                 23586 non-null  int64  \n",
      " 9   is_apartment          2762 non-null   object \n",
      " 10  studio                23586 non-null  bool   \n",
      " 11  open_plan             23586 non-null  bool   \n",
      " 12  kitchen_area          21360 non-null  float64\n",
      " 13  balcony               23586 non-null  int32  \n",
      " 14  locality_name         23538 non-null  object \n",
      " 15  airports_nearest      18063 non-null  float64\n",
      " 16  cityCenters_nearest   18086 non-null  float64\n",
      " 17  parks_around3000      18087 non-null  float64\n",
      " 18  parks_nearest         8037 non-null   float64\n",
      " 19  ponds_around3000      18087 non-null  float64\n",
      " 20  ponds_nearest         9051 non-null   float64\n",
      " 21  days_exposition       20420 non-null  float64\n",
      "dtypes: bool(2), float64(13), int32(1), int64(3), object(3)\n",
      "memory usage: 3.7+ MB\n"
     ]
    }
   ],
   "source": [
    "data.info()"
   ]
  },
  {
   "cell_type": "code",
   "execution_count": 15,
   "metadata": {},
   "outputs": [],
   "source": [
    "data = data.query('last_price > 500000 & rooms <= 10 & (total_area > 30 | total_area < 600)')"
   ]
  },
  {
   "cell_type": "code",
   "execution_count": 16,
   "metadata": {},
   "outputs": [
    {
     "name": "stdout",
     "output_type": "stream",
     "text": [
      "<class 'pandas.core.frame.DataFrame'>\n",
      "Int64Index: 23560 entries, 0 to 23612\n",
      "Data columns (total 22 columns):\n",
      " #   Column                Non-Null Count  Dtype  \n",
      "---  ------                --------------  -----  \n",
      " 0   total_images          23560 non-null  int64  \n",
      " 1   last_price            23560 non-null  float64\n",
      " 2   total_area            23560 non-null  float64\n",
      " 3   first_day_exposition  23560 non-null  object \n",
      " 4   rooms                 23560 non-null  int64  \n",
      " 5   ceiling_height        23560 non-null  float64\n",
      " 6   floors_total          23560 non-null  float64\n",
      " 7   living_area           21696 non-null  float64\n",
      " 8   floor                 23560 non-null  int64  \n",
      " 9   is_apartment          2762 non-null   object \n",
      " 10  studio                23560 non-null  bool   \n",
      " 11  open_plan             23560 non-null  bool   \n",
      " 12  kitchen_area          21341 non-null  float64\n",
      " 13  balcony               23560 non-null  int32  \n",
      " 14  locality_name         23512 non-null  object \n",
      " 15  airports_nearest      18054 non-null  float64\n",
      " 16  cityCenters_nearest   18077 non-null  float64\n",
      " 17  parks_around3000      18078 non-null  float64\n",
      " 18  parks_nearest         8032 non-null   float64\n",
      " 19  ponds_around3000      18078 non-null  float64\n",
      " 20  ponds_nearest         9046 non-null   float64\n",
      " 21  days_exposition       20397 non-null  float64\n",
      "dtypes: bool(2), float64(13), int32(1), int64(3), object(3)\n",
      "memory usage: 3.7+ MB\n"
     ]
    }
   ],
   "source": [
    "data.info()"
   ]
  },
  {
   "cell_type": "markdown",
   "metadata": {},
   "source": [
    "Как мы видим, перед фильтрацие у нас было 23586 строк данных, а после фильтрации осталось 23560. Это означает, что было отброшено ~1.1% данных.\n"
   ]
  },
  {
   "cell_type": "markdown",
   "metadata": {},
   "source": [
    "Там где это возможно, заменяем пропущенные значения на медианные, там, где по каким либо причинам мы не можем раасчитать медианы, пока просто заменяем пропущенные значения на 0."
   ]
  },
  {
   "cell_type": "code",
   "execution_count": 17,
   "metadata": {},
   "outputs": [],
   "source": [
    "for col in data.columns:\n",
    "    if col in [\n",
    "        'ceiling_height',\n",
    "    ]:\n",
    "        data[col] = data[col].fillna(value=data[col].median())\n",
    "        \n",
    "    elif col in [\n",
    "        'is_apartment',\n",
    "        'balcony',\n",
    "        'airports_nearest',\n",
    "        'parks_around_3000',\n",
    "        'ponds_around_3000',\n",
    "        'parks_nearest',\n",
    "        'ponds_nearest',\n",
    "        'days_exposition'\n",
    "    ]:\n",
    "        data[col] = data[col].fillna(value=0)\n",
    "        \n",
    "    elif col == 'floors_total':\n",
    "        data[col] = data[col].where(~data[col].isna(), data['floor'])"
   ]
  },
  {
   "cell_type": "markdown",
   "metadata": {},
   "source": [
    "Заменяем пропущенные значения на медианы в столбце 'kitchen_area'. Медианы берем не общие, а по колличеству комнат в этих квартирах. Более логично что в квартирах где мало комнат, будут маленькие кухни, а в многокомнатных квартирах и кухню можно сделать побольше."
   ]
  },
  {
   "cell_type": "code",
   "execution_count": 18,
   "metadata": {},
   "outputs": [],
   "source": [
    "rep_with_med_kitchen = data.groupby('rooms')['kitchen_area'].median()\n",
    "\n",
    "for total in data['rooms'].unique():\n",
    "    data.loc[(data['rooms'] == total) \n",
    "           & (data['kitchen_area'].isna()), 'kitchen_area'] = rep_with_med_kitchen[total]"
   ]
  },
  {
   "cell_type": "markdown",
   "metadata": {},
   "source": [
    "Удаляем все строки в которых не получилось сделать замену на медиану"
   ]
  },
  {
   "cell_type": "code",
   "execution_count": 19,
   "metadata": {},
   "outputs": [],
   "source": [
    "data.loc[data['kitchen_area'] == 'nan','kitchen_area'] = None\n",
    "data = data.dropna(subset=['kitchen_area'])\n",
    "# display(data['kitchen_area'].value_counts())\n",
    "# display(data['kitchen_area'].unique())"
   ]
  },
  {
   "cell_type": "markdown",
   "metadata": {},
   "source": [
    "Заменяем пропуски в столбце 'living_area' на медианы, так же в зависимости от колличества комнат в квартире."
   ]
  },
  {
   "cell_type": "code",
   "execution_count": 20,
   "metadata": {},
   "outputs": [],
   "source": [
    "rep_with_med_rooms = data.groupby('rooms')['living_area'].median()\n",
    "\n",
    "for total in data['rooms'].unique():\n",
    "    data.loc[(data['rooms'] == total) \n",
    "             & (data['living_area'].isna()), 'living_area'] = rep_with_med_rooms[total]"
   ]
  },
  {
   "cell_type": "markdown",
   "metadata": {},
   "source": [
    "Заемняем пропущенные значения в столбце апартаментов на False"
   ]
  },
  {
   "cell_type": "code",
   "execution_count": 21,
   "metadata": {},
   "outputs": [],
   "source": [
    "data['is_apartment'] = data['is_apartment'].fillna(False)"
   ]
  },
  {
   "cell_type": "markdown",
   "metadata": {},
   "source": [
    "Заменяем тип данных в столбце с колличеством этажей на целочисленный"
   ]
  },
  {
   "cell_type": "code",
   "execution_count": 22,
   "metadata": {},
   "outputs": [],
   "source": [
    "data['floors_total'] = data['floors_total'].astype(int)"
   ]
  },
  {
   "cell_type": "markdown",
   "metadata": {},
   "source": [
    "#### <a name=\"task_2.3\"></a> 2.3 Изучите уникальные значения в столбце с названиями и устраните неявные дубликаты."
   ]
  },
  {
   "cell_type": "markdown",
   "metadata": {},
   "source": [
    "Исключаем пропуски в столбце с названием начеленного пункта, затем заменяем ё на е, чтобы исключить повторения типа 'посёлок' и 'поселок'. После этого приводим типы поселков к одному виду."
   ]
  },
  {
   "cell_type": "code",
   "execution_count": 23,
   "metadata": {},
   "outputs": [],
   "source": [
    "data = data.dropna(subset=['locality_name'])\n",
    "data['locality_name'] = data['locality_name'].str.replace('ё','е')\n",
    "data['locality_name'] = data['locality_name'].str.replace('поселок городского типа','городской поселок')"
   ]
  },
  {
   "cell_type": "code",
   "execution_count": null,
   "metadata": {},
   "outputs": [],
   "source": []
  },
  {
   "cell_type": "markdown",
   "metadata": {},
   "source": [
    "### <a name=\"task_3\"></a> 3. Добавьте в таблицу новые столбцы со следующими параметрами:"
   ]
  },
  {
   "cell_type": "markdown",
   "metadata": {},
   "source": [
    "- цена одного квадратного метра;"
   ]
  },
  {
   "cell_type": "code",
   "execution_count": 24,
   "metadata": {},
   "outputs": [],
   "source": [
    "data['area_price'] = data['last_price'] / data['total_area']"
   ]
  },
  {
   "cell_type": "markdown",
   "metadata": {},
   "source": [
    "Для начала приводим столбец с датой к удобному виду, оставляя только год, месяц и день"
   ]
  },
  {
   "cell_type": "code",
   "execution_count": 25,
   "metadata": {},
   "outputs": [],
   "source": [
    "data['first_day_exposition'] = pd.to_datetime(data['first_day_exposition'], format='%Y-%m-%dT%H:%M:%S')"
   ]
  },
  {
   "cell_type": "markdown",
   "metadata": {},
   "source": [
    "- день недели публикации объявления (0 — понедельник, 1 — вторник и так далее);"
   ]
  },
  {
   "cell_type": "code",
   "execution_count": 26,
   "metadata": {},
   "outputs": [],
   "source": [
    "data['day_of_announcement'] = data['first_day_exposition'].dt.weekday"
   ]
  },
  {
   "cell_type": "markdown",
   "metadata": {},
   "source": [
    "- месяц публикации объявления;"
   ]
  },
  {
   "cell_type": "code",
   "execution_count": 27,
   "metadata": {},
   "outputs": [],
   "source": [
    "data['month_of_announcement'] = data['first_day_exposition'].dt.month"
   ]
  },
  {
   "cell_type": "markdown",
   "metadata": {},
   "source": [
    "- год публикации объявления;"
   ]
  },
  {
   "cell_type": "code",
   "execution_count": 28,
   "metadata": {},
   "outputs": [],
   "source": [
    "data['year_of_announcement'] = data['first_day_exposition'].dt.year"
   ]
  },
  {
   "cell_type": "markdown",
   "metadata": {},
   "source": [
    "- тип этажа квартиры (значения — «‎первый», «последний», «другой»);"
   ]
  },
  {
   "cell_type": "code",
   "execution_count": 29,
   "metadata": {},
   "outputs": [],
   "source": [
    "def floor_type(row):\n",
    "    if row['floor'] == 1:\n",
    "        category = 'Первый'\n",
    "    elif (row['floor'] != 1) & (row['floor'] == row['floors_total']):\n",
    "        category = 'Последний'\n",
    "    else:\n",
    "        category = 'Другой'\n",
    "    return category"
   ]
  },
  {
   "cell_type": "code",
   "execution_count": 30,
   "metadata": {},
   "outputs": [],
   "source": [
    "data['floor_category'] = data.apply(floor_type, axis=1)"
   ]
  },
  {
   "cell_type": "markdown",
   "metadata": {},
   "source": [
    "- расстояние до центра города в километрах (переведите из м в км и округлите до целых значений)."
   ]
  },
  {
   "cell_type": "code",
   "execution_count": 31,
   "metadata": {},
   "outputs": [],
   "source": [
    "data['dist_to_centre_in_km'] = (data['cityCenters_nearest']/1000).round()"
   ]
  },
  {
   "cell_type": "markdown",
   "metadata": {},
   "source": [
    "Проверим наличие наших новых столбцов в таблице"
   ]
  },
  {
   "cell_type": "code",
   "execution_count": 32,
   "metadata": {},
   "outputs": [
    {
     "data": {
      "text/html": [
       "<div>\n",
       "<style scoped>\n",
       "    .dataframe tbody tr th:only-of-type {\n",
       "        vertical-align: middle;\n",
       "    }\n",
       "\n",
       "    .dataframe tbody tr th {\n",
       "        vertical-align: top;\n",
       "    }\n",
       "\n",
       "    .dataframe thead th {\n",
       "        text-align: right;\n",
       "    }\n",
       "</style>\n",
       "<table border=\"1\" class=\"dataframe\">\n",
       "  <thead>\n",
       "    <tr style=\"text-align: right;\">\n",
       "      <th></th>\n",
       "      <th>total_images</th>\n",
       "      <th>last_price</th>\n",
       "      <th>total_area</th>\n",
       "      <th>first_day_exposition</th>\n",
       "      <th>rooms</th>\n",
       "      <th>ceiling_height</th>\n",
       "      <th>floors_total</th>\n",
       "      <th>living_area</th>\n",
       "      <th>floor</th>\n",
       "      <th>is_apartment</th>\n",
       "      <th>...</th>\n",
       "      <th>parks_nearest</th>\n",
       "      <th>ponds_around3000</th>\n",
       "      <th>ponds_nearest</th>\n",
       "      <th>days_exposition</th>\n",
       "      <th>area_price</th>\n",
       "      <th>day_of_announcement</th>\n",
       "      <th>month_of_announcement</th>\n",
       "      <th>year_of_announcement</th>\n",
       "      <th>floor_category</th>\n",
       "      <th>dist_to_centre_in_km</th>\n",
       "    </tr>\n",
       "  </thead>\n",
       "  <tbody>\n",
       "    <tr>\n",
       "      <th>0</th>\n",
       "      <td>20</td>\n",
       "      <td>13000000.0</td>\n",
       "      <td>108.00</td>\n",
       "      <td>2019-03-07</td>\n",
       "      <td>3</td>\n",
       "      <td>2.70</td>\n",
       "      <td>16</td>\n",
       "      <td>51.0</td>\n",
       "      <td>8</td>\n",
       "      <td>0</td>\n",
       "      <td>...</td>\n",
       "      <td>482.0</td>\n",
       "      <td>2.0</td>\n",
       "      <td>755.0</td>\n",
       "      <td>0.0</td>\n",
       "      <td>120370.370370</td>\n",
       "      <td>3</td>\n",
       "      <td>3</td>\n",
       "      <td>2019</td>\n",
       "      <td>Другой</td>\n",
       "      <td>16.0</td>\n",
       "    </tr>\n",
       "    <tr>\n",
       "      <th>1</th>\n",
       "      <td>7</td>\n",
       "      <td>3350000.0</td>\n",
       "      <td>40.40</td>\n",
       "      <td>2018-12-04</td>\n",
       "      <td>1</td>\n",
       "      <td>2.75</td>\n",
       "      <td>11</td>\n",
       "      <td>18.6</td>\n",
       "      <td>1</td>\n",
       "      <td>0</td>\n",
       "      <td>...</td>\n",
       "      <td>0.0</td>\n",
       "      <td>0.0</td>\n",
       "      <td>0.0</td>\n",
       "      <td>81.0</td>\n",
       "      <td>82920.792079</td>\n",
       "      <td>1</td>\n",
       "      <td>12</td>\n",
       "      <td>2018</td>\n",
       "      <td>Первый</td>\n",
       "      <td>19.0</td>\n",
       "    </tr>\n",
       "    <tr>\n",
       "      <th>2</th>\n",
       "      <td>10</td>\n",
       "      <td>5196000.0</td>\n",
       "      <td>56.00</td>\n",
       "      <td>2015-08-20</td>\n",
       "      <td>2</td>\n",
       "      <td>2.55</td>\n",
       "      <td>5</td>\n",
       "      <td>34.3</td>\n",
       "      <td>4</td>\n",
       "      <td>0</td>\n",
       "      <td>...</td>\n",
       "      <td>90.0</td>\n",
       "      <td>2.0</td>\n",
       "      <td>574.0</td>\n",
       "      <td>558.0</td>\n",
       "      <td>92785.714286</td>\n",
       "      <td>3</td>\n",
       "      <td>8</td>\n",
       "      <td>2015</td>\n",
       "      <td>Другой</td>\n",
       "      <td>14.0</td>\n",
       "    </tr>\n",
       "    <tr>\n",
       "      <th>3</th>\n",
       "      <td>0</td>\n",
       "      <td>64900000.0</td>\n",
       "      <td>159.00</td>\n",
       "      <td>2015-07-24</td>\n",
       "      <td>3</td>\n",
       "      <td>2.60</td>\n",
       "      <td>14</td>\n",
       "      <td>45.0</td>\n",
       "      <td>9</td>\n",
       "      <td>0</td>\n",
       "      <td>...</td>\n",
       "      <td>84.0</td>\n",
       "      <td>3.0</td>\n",
       "      <td>234.0</td>\n",
       "      <td>424.0</td>\n",
       "      <td>408176.100629</td>\n",
       "      <td>4</td>\n",
       "      <td>7</td>\n",
       "      <td>2015</td>\n",
       "      <td>Другой</td>\n",
       "      <td>7.0</td>\n",
       "    </tr>\n",
       "    <tr>\n",
       "      <th>4</th>\n",
       "      <td>2</td>\n",
       "      <td>10000000.0</td>\n",
       "      <td>100.00</td>\n",
       "      <td>2018-06-19</td>\n",
       "      <td>2</td>\n",
       "      <td>3.03</td>\n",
       "      <td>14</td>\n",
       "      <td>32.0</td>\n",
       "      <td>13</td>\n",
       "      <td>0</td>\n",
       "      <td>...</td>\n",
       "      <td>112.0</td>\n",
       "      <td>1.0</td>\n",
       "      <td>48.0</td>\n",
       "      <td>121.0</td>\n",
       "      <td>100000.000000</td>\n",
       "      <td>1</td>\n",
       "      <td>6</td>\n",
       "      <td>2018</td>\n",
       "      <td>Другой</td>\n",
       "      <td>8.0</td>\n",
       "    </tr>\n",
       "    <tr>\n",
       "      <th>...</th>\n",
       "      <td>...</td>\n",
       "      <td>...</td>\n",
       "      <td>...</td>\n",
       "      <td>...</td>\n",
       "      <td>...</td>\n",
       "      <td>...</td>\n",
       "      <td>...</td>\n",
       "      <td>...</td>\n",
       "      <td>...</td>\n",
       "      <td>...</td>\n",
       "      <td>...</td>\n",
       "      <td>...</td>\n",
       "      <td>...</td>\n",
       "      <td>...</td>\n",
       "      <td>...</td>\n",
       "      <td>...</td>\n",
       "      <td>...</td>\n",
       "      <td>...</td>\n",
       "      <td>...</td>\n",
       "      <td>...</td>\n",
       "      <td>...</td>\n",
       "    </tr>\n",
       "    <tr>\n",
       "      <th>23608</th>\n",
       "      <td>9</td>\n",
       "      <td>9700000.0</td>\n",
       "      <td>133.81</td>\n",
       "      <td>2017-03-21</td>\n",
       "      <td>3</td>\n",
       "      <td>3.70</td>\n",
       "      <td>5</td>\n",
       "      <td>73.3</td>\n",
       "      <td>3</td>\n",
       "      <td>0</td>\n",
       "      <td>...</td>\n",
       "      <td>796.0</td>\n",
       "      <td>3.0</td>\n",
       "      <td>381.0</td>\n",
       "      <td>0.0</td>\n",
       "      <td>72490.845228</td>\n",
       "      <td>1</td>\n",
       "      <td>3</td>\n",
       "      <td>2017</td>\n",
       "      <td>Другой</td>\n",
       "      <td>4.0</td>\n",
       "    </tr>\n",
       "    <tr>\n",
       "      <th>23609</th>\n",
       "      <td>14</td>\n",
       "      <td>3100000.0</td>\n",
       "      <td>59.00</td>\n",
       "      <td>2018-01-15</td>\n",
       "      <td>3</td>\n",
       "      <td>2.55</td>\n",
       "      <td>5</td>\n",
       "      <td>38.0</td>\n",
       "      <td>4</td>\n",
       "      <td>0</td>\n",
       "      <td>...</td>\n",
       "      <td>0.0</td>\n",
       "      <td>NaN</td>\n",
       "      <td>0.0</td>\n",
       "      <td>45.0</td>\n",
       "      <td>52542.372881</td>\n",
       "      <td>0</td>\n",
       "      <td>1</td>\n",
       "      <td>2018</td>\n",
       "      <td>Другой</td>\n",
       "      <td>NaN</td>\n",
       "    </tr>\n",
       "    <tr>\n",
       "      <th>23610</th>\n",
       "      <td>18</td>\n",
       "      <td>2500000.0</td>\n",
       "      <td>56.70</td>\n",
       "      <td>2018-02-11</td>\n",
       "      <td>2</td>\n",
       "      <td>2.80</td>\n",
       "      <td>3</td>\n",
       "      <td>29.7</td>\n",
       "      <td>1</td>\n",
       "      <td>0</td>\n",
       "      <td>...</td>\n",
       "      <td>0.0</td>\n",
       "      <td>NaN</td>\n",
       "      <td>0.0</td>\n",
       "      <td>0.0</td>\n",
       "      <td>44091.710758</td>\n",
       "      <td>6</td>\n",
       "      <td>2</td>\n",
       "      <td>2018</td>\n",
       "      <td>Первый</td>\n",
       "      <td>NaN</td>\n",
       "    </tr>\n",
       "    <tr>\n",
       "      <th>23611</th>\n",
       "      <td>13</td>\n",
       "      <td>11475000.0</td>\n",
       "      <td>76.75</td>\n",
       "      <td>2017-03-28</td>\n",
       "      <td>2</td>\n",
       "      <td>3.00</td>\n",
       "      <td>17</td>\n",
       "      <td>30.5</td>\n",
       "      <td>12</td>\n",
       "      <td>0</td>\n",
       "      <td>...</td>\n",
       "      <td>173.0</td>\n",
       "      <td>3.0</td>\n",
       "      <td>196.0</td>\n",
       "      <td>602.0</td>\n",
       "      <td>149511.400651</td>\n",
       "      <td>1</td>\n",
       "      <td>3</td>\n",
       "      <td>2017</td>\n",
       "      <td>Другой</td>\n",
       "      <td>10.0</td>\n",
       "    </tr>\n",
       "    <tr>\n",
       "      <th>23612</th>\n",
       "      <td>4</td>\n",
       "      <td>1350000.0</td>\n",
       "      <td>32.30</td>\n",
       "      <td>2017-07-21</td>\n",
       "      <td>1</td>\n",
       "      <td>2.50</td>\n",
       "      <td>5</td>\n",
       "      <td>12.3</td>\n",
       "      <td>1</td>\n",
       "      <td>0</td>\n",
       "      <td>...</td>\n",
       "      <td>0.0</td>\n",
       "      <td>NaN</td>\n",
       "      <td>0.0</td>\n",
       "      <td>0.0</td>\n",
       "      <td>41795.665635</td>\n",
       "      <td>4</td>\n",
       "      <td>7</td>\n",
       "      <td>2017</td>\n",
       "      <td>Первый</td>\n",
       "      <td>NaN</td>\n",
       "    </tr>\n",
       "  </tbody>\n",
       "</table>\n",
       "<p>23512 rows × 28 columns</p>\n",
       "</div>"
      ],
      "text/plain": [
       "       total_images  last_price  total_area first_day_exposition  rooms  \\\n",
       "0                20  13000000.0      108.00           2019-03-07      3   \n",
       "1                 7   3350000.0       40.40           2018-12-04      1   \n",
       "2                10   5196000.0       56.00           2015-08-20      2   \n",
       "3                 0  64900000.0      159.00           2015-07-24      3   \n",
       "4                 2  10000000.0      100.00           2018-06-19      2   \n",
       "...             ...         ...         ...                  ...    ...   \n",
       "23608             9   9700000.0      133.81           2017-03-21      3   \n",
       "23609            14   3100000.0       59.00           2018-01-15      3   \n",
       "23610            18   2500000.0       56.70           2018-02-11      2   \n",
       "23611            13  11475000.0       76.75           2017-03-28      2   \n",
       "23612             4   1350000.0       32.30           2017-07-21      1   \n",
       "\n",
       "       ceiling_height  floors_total  living_area  floor is_apartment  ...  \\\n",
       "0                2.70            16         51.0      8            0  ...   \n",
       "1                2.75            11         18.6      1            0  ...   \n",
       "2                2.55             5         34.3      4            0  ...   \n",
       "3                2.60            14         45.0      9            0  ...   \n",
       "4                3.03            14         32.0     13            0  ...   \n",
       "...               ...           ...          ...    ...          ...  ...   \n",
       "23608            3.70             5         73.3      3            0  ...   \n",
       "23609            2.55             5         38.0      4            0  ...   \n",
       "23610            2.80             3         29.7      1            0  ...   \n",
       "23611            3.00            17         30.5     12            0  ...   \n",
       "23612            2.50             5         12.3      1            0  ...   \n",
       "\n",
       "       parks_nearest  ponds_around3000  ponds_nearest  days_exposition  \\\n",
       "0              482.0               2.0          755.0              0.0   \n",
       "1                0.0               0.0            0.0             81.0   \n",
       "2               90.0               2.0          574.0            558.0   \n",
       "3               84.0               3.0          234.0            424.0   \n",
       "4              112.0               1.0           48.0            121.0   \n",
       "...              ...               ...            ...              ...   \n",
       "23608          796.0               3.0          381.0              0.0   \n",
       "23609            0.0               NaN            0.0             45.0   \n",
       "23610            0.0               NaN            0.0              0.0   \n",
       "23611          173.0               3.0          196.0            602.0   \n",
       "23612            0.0               NaN            0.0              0.0   \n",
       "\n",
       "          area_price  day_of_announcement  month_of_announcement  \\\n",
       "0      120370.370370                    3                      3   \n",
       "1       82920.792079                    1                     12   \n",
       "2       92785.714286                    3                      8   \n",
       "3      408176.100629                    4                      7   \n",
       "4      100000.000000                    1                      6   \n",
       "...              ...                  ...                    ...   \n",
       "23608   72490.845228                    1                      3   \n",
       "23609   52542.372881                    0                      1   \n",
       "23610   44091.710758                    6                      2   \n",
       "23611  149511.400651                    1                      3   \n",
       "23612   41795.665635                    4                      7   \n",
       "\n",
       "       year_of_announcement  floor_category  dist_to_centre_in_km  \n",
       "0                      2019          Другой                  16.0  \n",
       "1                      2018          Первый                  19.0  \n",
       "2                      2015          Другой                  14.0  \n",
       "3                      2015          Другой                   7.0  \n",
       "4                      2018          Другой                   8.0  \n",
       "...                     ...             ...                   ...  \n",
       "23608                  2017          Другой                   4.0  \n",
       "23609                  2018          Другой                   NaN  \n",
       "23610                  2018          Первый                   NaN  \n",
       "23611                  2017          Другой                  10.0  \n",
       "23612                  2017          Первый                   NaN  \n",
       "\n",
       "[23512 rows x 28 columns]"
      ]
     },
     "execution_count": 32,
     "metadata": {},
     "output_type": "execute_result"
    }
   ],
   "source": [
    "data"
   ]
  },
  {
   "cell_type": "markdown",
   "metadata": {},
   "source": [
    "### <a name=\"task_4\"></a> 4. Проведите исследовательский анализ данных:"
   ]
  },
  {
   "cell_type": "markdown",
   "metadata": {},
   "source": [
    "#### <a name=\"task_4.1\"></a> 4.1 Изучите следующие параметры объектов:"
   ]
  },
  {
   "cell_type": "markdown",
   "metadata": {},
   "source": [
    "- общая площадь;"
   ]
  },
  {
   "cell_type": "code",
   "execution_count": 33,
   "metadata": {},
   "outputs": [
    {
     "data": {
      "image/png": "[encoded data removed]",
      "text/plain": [
       "<Figure size 720x360 with 1 Axes>"
      ]
     },
     "metadata": {
      "needs_background": "light"
     },
     "output_type": "display_data"
    },
    {
     "name": "stdout",
     "output_type": "stream",
     "text": [
      "count    23512.000000\n",
      "mean        60.230038\n",
      "std         34.907338\n",
      "min         12.000000\n",
      "25%         40.000000\n",
      "50%         52.000000\n",
      "75%         69.700000\n",
      "max        631.200000\n",
      "Name: total_area, dtype: float64\n"
     ]
    }
   ],
   "source": [
    "data.hist('total_area', bins=50, figsize = (10,5), range=(10,200))\n",
    "plt.show()\n",
    "print(data['total_area'].describe())"
   ]
  },
  {
   "cell_type": "markdown",
   "metadata": {},
   "source": [
    "Гистограмма по площади квартир. Пик нахидится в диапазоне 25-50 квадратных метров. Квартиры площадью меньше 25кв метров практически отсутствуют (мы все таки не в Гонкоге), и квартир площадью больше 150 квадратов тоже очень мало."
   ]
  },
  {
   "cell_type": "markdown",
   "metadata": {},
   "source": [
    "- жилая площадь;"
   ]
  },
  {
   "cell_type": "code",
   "execution_count": 34,
   "metadata": {},
   "outputs": [
    {
     "data": {
      "image/png": "[encoded data removed]",
      "text/plain": [
       "<Figure size 720x360 with 1 Axes>"
      ]
     },
     "metadata": {
      "needs_background": "light"
     },
     "output_type": "display_data"
    },
    {
     "name": "stdout",
     "output_type": "stream",
     "text": [
      "count    23512.000000\n",
      "mean        34.264888\n",
      "std         21.313811\n",
      "min          2.000000\n",
      "25%         18.400000\n",
      "50%         30.300000\n",
      "75%         42.700000\n",
      "max        347.500000\n",
      "Name: living_area, dtype: float64\n"
     ]
    }
   ],
   "source": [
    "data.hist('living_area', bins=50, figsize = (10,5), range=(10,130))\n",
    "plt.show()\n",
    "print(data['living_area'].describe())"
   ]
  },
  {
   "cell_type": "markdown",
   "metadata": {},
   "source": [
    "Гистограмма по жилой площади в квартирах. Здесь мы можем наблюдать два пика. Достаточно много квартир с жилой площадью чуть меньше 20 квадратных метром, но еще больше квартир с жилой площадью около 30 кв метров."
   ]
  },
  {
   "cell_type": "markdown",
   "metadata": {},
   "source": [
    "- площадь кухни;"
   ]
  },
  {
   "cell_type": "code",
   "execution_count": 35,
   "metadata": {},
   "outputs": [
    {
     "data": {
      "image/png": "[encoded data removed]",
      "text/plain": [
       "<Figure size 720x360 with 1 Axes>"
      ]
     },
     "metadata": {
      "needs_background": "light"
     },
     "output_type": "display_data"
    },
    {
     "name": "stdout",
     "output_type": "stream",
     "text": [
      "count    23512.000000\n",
      "mean        10.435562\n",
      "std          5.573039\n",
      "min          1.300000\n",
      "25%          7.300000\n",
      "50%          9.040000\n",
      "75%         11.500000\n",
      "max        107.000000\n",
      "Name: kitchen_area, dtype: float64\n"
     ]
    }
   ],
   "source": [
    "data.hist('kitchen_area', bins=50, figsize = (10,5), range=(0,50))\n",
    "plt.show()\n",
    "print(data['kitchen_area'].describe())"
   ]
  },
  {
   "cell_type": "markdown",
   "metadata": {},
   "source": [
    "Гистограмма по площади кухни. Пик находится на площади в примерно 10кв метров. Есть достаточно много квартир с меньшей площадью кухни."
   ]
  },
  {
   "cell_type": "markdown",
   "metadata": {},
   "source": [
    "- цена объекта;"
   ]
  },
  {
   "cell_type": "code",
   "execution_count": 36,
   "metadata": {},
   "outputs": [
    {
     "data": {
      "image/png": "[encoded data removed]",
      "text/plain": [
       "<Figure size 720x360 with 1 Axes>"
      ]
     },
     "metadata": {
      "needs_background": "light"
     },
     "output_type": "display_data"
    },
    {
     "name": "stdout",
     "output_type": "stream",
     "text": [
      "count    2.351200e+04\n",
      "mean     6.520915e+06\n",
      "std      1.057076e+07\n",
      "min      5.200000e+05\n",
      "25%      3.414500e+06\n",
      "50%      4.650000e+06\n",
      "75%      6.790000e+06\n",
      "max      7.630000e+08\n",
      "Name: last_price, dtype: float64\n"
     ]
    }
   ],
   "source": [
    "data.hist('last_price', bins=50, figsize = (10,5), range=(0,30000000))\n",
    "plt.show()\n",
    "print(data['last_price'].describe())"
   ]
  },
  {
   "cell_type": "markdown",
   "metadata": {},
   "source": [
    "Гистограмма по стимости продажи квартиры. Пик находится в районе 3-4 млн рублей за квартиру."
   ]
  },
  {
   "cell_type": "markdown",
   "metadata": {},
   "source": [
    "- количество комнат;"
   ]
  },
  {
   "cell_type": "code",
   "execution_count": 37,
   "metadata": {},
   "outputs": [
    {
     "data": {
      "image/png": "[encoded data removed]",
      "text/plain": [
       "<Figure size 720x360 with 1 Axes>"
      ]
     },
     "metadata": {
      "needs_background": "light"
     },
     "output_type": "display_data"
    },
    {
     "name": "stdout",
     "output_type": "stream",
     "text": [
      "count    23512.000000\n",
      "mean         2.075493\n",
      "std          1.043134\n",
      "min          1.000000\n",
      "25%          1.000000\n",
      "50%          2.000000\n",
      "75%          3.000000\n",
      "max         10.000000\n",
      "Name: rooms, dtype: float64\n"
     ]
    }
   ],
   "source": [
    "data.hist('rooms', bins=data['rooms'].max(), figsize = (10,5), range=(1,8))\n",
    "plt.show()\n",
    "print(data['rooms'].describe())"
   ]
  },
  {
   "cell_type": "markdown",
   "metadata": {},
   "source": [
    "Гистограмма по колличеству комнат в квартирах. В основном присутсвуют квартиры с 1-3 комнатами. Редко встречаются квартиры с 7ю комнатами."
   ]
  },
  {
   "cell_type": "markdown",
   "metadata": {},
   "source": [
    "- высота потолков;"
   ]
  },
  {
   "cell_type": "code",
   "execution_count": 38,
   "metadata": {},
   "outputs": [
    {
     "data": {
      "image/png": "[encoded data removed]",
      "text/plain": [
       "<Figure size 720x360 with 1 Axes>"
      ]
     },
     "metadata": {
      "needs_background": "light"
     },
     "output_type": "display_data"
    },
    {
     "name": "stdout",
     "output_type": "stream",
     "text": [
      "count    23512.000000\n",
      "mean         2.708320\n",
      "std          0.245734\n",
      "min          1.000000\n",
      "25%          2.550000\n",
      "50%          2.650000\n",
      "75%          2.750000\n",
      "max          8.300000\n",
      "Name: ceiling_height, dtype: float64\n"
     ]
    }
   ],
   "source": [
    "data.hist('ceiling_height', bins=15, figsize = (10,5), range=(2,5))\n",
    "plt.show()\n",
    "print(data['ceiling_height'].describe())"
   ]
  },
  {
   "cell_type": "markdown",
   "metadata": {},
   "source": [
    "Гистограмма по выстоте потолков. В основном квартиры имеют высоту потолков от 2.5 до 3 метров."
   ]
  },
  {
   "cell_type": "markdown",
   "metadata": {},
   "source": [
    "- этаж квартиры;"
   ]
  },
  {
   "cell_type": "code",
   "execution_count": 39,
   "metadata": {},
   "outputs": [
    {
     "data": {
      "image/png": "[encoded data removed]",
      "text/plain": [
       "<Figure size 720x360 with 1 Axes>"
      ]
     },
     "metadata": {
      "needs_background": "light"
     },
     "output_type": "display_data"
    },
    {
     "name": "stdout",
     "output_type": "stream",
     "text": [
      "count    23512.000000\n",
      "mean         5.877722\n",
      "std          4.864291\n",
      "min          1.000000\n",
      "25%          2.000000\n",
      "50%          4.000000\n",
      "75%          8.000000\n",
      "max         33.000000\n",
      "Name: floor, dtype: float64\n"
     ]
    }
   ],
   "source": [
    "data.hist('floor', bins=25, figsize = (10,5), range=(0,35))\n",
    "plt.show()\n",
    "print(data['floor'].describe())"
   ]
  },
  {
   "cell_type": "markdown",
   "metadata": {},
   "source": [
    "Гистограмма по этажу квартиры. В основном квартиры находятся ниже 5-ого этажа, есть так же локальный пик в районе 8ого этажа."
   ]
  },
  {
   "cell_type": "markdown",
   "metadata": {},
   "source": [
    "- тип этажа квартиры («первый», «последний», «другой»);"
   ]
  },
  {
   "cell_type": "code",
   "execution_count": 40,
   "metadata": {},
   "outputs": [
    {
     "data": {
      "image/png": "[encoded data removed]",
      "text/plain": [
       "<Figure size 432x288 with 1 Axes>"
      ]
     },
     "metadata": {
      "needs_background": "light"
     },
     "output_type": "display_data"
    }
   ],
   "source": [
    "test = data['floor_category'].value_counts()\n",
    "test.plot(kind='bar')\n",
    "plt.show()\n",
    "# print(data['floor_category'].describe())"
   ]
  },
  {
   "cell_type": "markdown",
   "metadata": {},
   "source": [
    "Гистограмма по типу этажа. Мы видим что в основном квартиры расположены не на первом и не на последнем этаже."
   ]
  },
  {
   "cell_type": "markdown",
   "metadata": {},
   "source": [
    "- общее количество этажей в доме;"
   ]
  },
  {
   "cell_type": "code",
   "execution_count": 41,
   "metadata": {},
   "outputs": [
    {
     "data": {
      "image/png": "[encoded data removed]",
      "text/plain": [
       "<Figure size 720x360 with 1 Axes>"
      ]
     },
     "metadata": {
      "needs_background": "light"
     },
     "output_type": "display_data"
    },
    {
     "name": "stdout",
     "output_type": "stream",
     "text": [
      "count    23512.000000\n",
      "mean        10.680674\n",
      "std          6.587942\n",
      "min          1.000000\n",
      "25%          5.000000\n",
      "50%          9.000000\n",
      "75%         16.000000\n",
      "max         60.000000\n",
      "Name: floors_total, dtype: float64\n"
     ]
    }
   ],
   "source": [
    "data.hist('floors_total', bins=25, figsize = (10,5), range=(0,35))\n",
    "plt.show()\n",
    "print(data['floors_total'].describe())"
   ]
  },
  {
   "cell_type": "markdown",
   "metadata": {},
   "source": [
    "Гистограмма по общему колличеству этажей в доме, в котором продается квартира. В основном дома 5ти этажные или 9ти этажные, но втречаются и гораздо более высокие дома."
   ]
  },
  {
   "cell_type": "markdown",
   "metadata": {},
   "source": [
    "- расстояние до центра города в метрах;"
   ]
  },
  {
   "cell_type": "code",
   "execution_count": 42,
   "metadata": {},
   "outputs": [
    {
     "data": {
      "image/png": "[encoded data removed]",
      "text/plain": [
       "<Figure size 720x360 with 1 Axes>"
      ]
     },
     "metadata": {
      "needs_background": "light"
     },
     "output_type": "display_data"
    },
    {
     "name": "stdout",
     "output_type": "stream",
     "text": [
      "count    18037.000000\n",
      "mean     14197.085934\n",
      "std       8611.165678\n",
      "min        181.000000\n",
      "25%       9241.000000\n",
      "50%      13101.000000\n",
      "75%      16293.000000\n",
      "max      65968.000000\n",
      "Name: cityCenters_nearest, dtype: float64\n"
     ]
    }
   ],
   "source": [
    "data.hist('cityCenters_nearest', bins=50, figsize = (10,5), range=(0,40000))\n",
    "plt.show()\n",
    "print(data['cityCenters_nearest'].describe())"
   ]
  },
  {
   "cell_type": "markdown",
   "metadata": {},
   "source": [
    "Гистограмма по расстоянию до центра города. Можно увидеть два пика, первый более низкий, где расстояние до центра примерно 5км и второй более высокий пик, для расстояния до центра в примерно 15км."
   ]
  },
  {
   "cell_type": "markdown",
   "metadata": {},
   "source": [
    "- расстояние до ближайшего аэропорта;"
   ]
  },
  {
   "cell_type": "code",
   "execution_count": 43,
   "metadata": {},
   "outputs": [
    {
     "data": {
      "image/png": "[encoded data removed]",
      "text/plain": [
       "<Figure size 720x360 with 1 Axes>"
      ]
     },
     "metadata": {
      "needs_background": "light"
     },
     "output_type": "display_data"
    },
    {
     "name": "stdout",
     "output_type": "stream",
     "text": [
      "count    23512.000000\n",
      "mean     22065.486858\n",
      "std      16458.647165\n",
      "min          0.000000\n",
      "25%      10243.000000\n",
      "50%      21860.000000\n",
      "75%      34324.000000\n",
      "max      84869.000000\n",
      "Name: airports_nearest, dtype: float64\n"
     ]
    }
   ],
   "source": [
    "data.hist('airports_nearest', bins=40, figsize = (10,5), range=(0,70000))\n",
    "plt.show()\n",
    "print(data['airports_nearest'].describe())"
   ]
  },
  {
   "cell_type": "markdown",
   "metadata": {},
   "source": [
    "Гистограмма для расстояния до аэропорта. Здесь мы вдим большой столбец в нуле, это означает, что скорее всего там нет данных по расстоянию до аэропорта. Дальше квартиры распределены практически равномерно с расстояниями от 10 км до 50 км до ближайшего аэропорта."
   ]
  },
  {
   "cell_type": "markdown",
   "metadata": {},
   "source": [
    "- расстояние до ближайшего парка;"
   ]
  },
  {
   "cell_type": "code",
   "execution_count": 44,
   "metadata": {},
   "outputs": [
    {
     "data": {
      "image/png": "[encoded data removed]",
      "text/plain": [
       "<Figure size 720x360 with 1 Axes>"
      ]
     },
     "metadata": {
      "needs_background": "light"
     },
     "output_type": "display_data"
    },
    {
     "name": "stdout",
     "output_type": "stream",
     "text": [
      "count    23512.000000\n",
      "mean       167.237964\n",
      "std        306.393671\n",
      "min          0.000000\n",
      "25%          0.000000\n",
      "50%          0.000000\n",
      "75%        301.000000\n",
      "max       3190.000000\n",
      "Name: parks_nearest, dtype: float64\n"
     ]
    }
   ],
   "source": [
    "data.hist('parks_nearest', bins=40, figsize = (10,5), range=(0,1000))\n",
    "plt.show()\n",
    "print(data['parks_nearest'].describe())"
   ]
  },
  {
   "cell_type": "code",
   "execution_count": 45,
   "metadata": {},
   "outputs": [
    {
     "data": {
      "image/png": "[encoded data removed]",
      "text/plain": [
       "<Figure size 720x360 with 1 Axes>"
      ]
     },
     "metadata": {
      "needs_background": "light"
     },
     "output_type": "display_data"
    },
    {
     "name": "stdout",
     "output_type": "stream",
     "text": [
      "count    23512.000000\n",
      "mean       167.237964\n",
      "std        306.393671\n",
      "min          0.000000\n",
      "25%          0.000000\n",
      "50%          0.000000\n",
      "75%        301.000000\n",
      "max       3190.000000\n",
      "Name: parks_nearest, dtype: float64\n"
     ]
    }
   ],
   "source": [
    "data.hist('parks_nearest', bins=40, figsize = (10,5), range=(1,1000))\n",
    "plt.show()\n",
    "print(data['parks_nearest'].describe())"
   ]
  },
  {
   "cell_type": "markdown",
   "metadata": {},
   "source": [
    "Гистограммы для удаление квартиры от парка. Первая содержит большое колличество нулевых значений, поэтому там невозможно оценить удаленность остальных квартир от парка. На второй диаграмме мы отрезаем нулевые значения и можем увидеть, что удаленноть квартир от парков распрелелена нормально с средней удаленностью примерно в 450 метров."
   ]
  },
  {
   "cell_type": "markdown",
   "metadata": {},
   "source": [
    "- день и месяц публикации объявления."
   ]
  },
  {
   "cell_type": "code",
   "execution_count": 46,
   "metadata": {},
   "outputs": [
    {
     "data": {
      "image/png": "[encoded data removed]",
      "text/plain": [
       "<Figure size 720x360 with 1 Axes>"
      ]
     },
     "metadata": {
      "needs_background": "light"
     },
     "output_type": "display_data"
    },
    {
     "name": "stdout",
     "output_type": "stream",
     "text": [
      "count    23512.000000\n",
      "mean         2.567540\n",
      "std          1.788159\n",
      "min          0.000000\n",
      "25%          1.000000\n",
      "50%          3.000000\n",
      "75%          4.000000\n",
      "max          6.000000\n",
      "Name: day_of_announcement, dtype: float64\n"
     ]
    }
   ],
   "source": [
    "data.hist('day_of_announcement', bins=7, figsize = (10,5), range=(0,6))\n",
    "plt.show()\n",
    "print(data['day_of_announcement'].describe())"
   ]
  },
  {
   "cell_type": "markdown",
   "metadata": {},
   "source": [
    "Гистограмма для дня публикации объявления. Можно увидеть, что в основном объявления публикуются с вторника по пятницу, в выходные наблюдается сильно снижение колличества публикаций."
   ]
  },
  {
   "cell_type": "code",
   "execution_count": 47,
   "metadata": {},
   "outputs": [
    {
     "data": {
      "image/png": "[encoded data removed]",
      "text/plain": [
       "<Figure size 720x360 with 1 Axes>"
      ]
     },
     "metadata": {
      "needs_background": "light"
     },
     "output_type": "display_data"
    },
    {
     "name": "stdout",
     "output_type": "stream",
     "text": [
      "count    23512.000000\n",
      "mean         6.403581\n",
      "std          3.492930\n",
      "min          1.000000\n",
      "25%          3.000000\n",
      "50%          6.000000\n",
      "75%         10.000000\n",
      "max         12.000000\n",
      "Name: month_of_announcement, dtype: float64\n"
     ]
    }
   ],
   "source": [
    "data.hist('month_of_announcement', bins=12, figsize = (10,5), range=(1,12))\n",
    "plt.show()\n",
    "print(data['month_of_announcement'].describe())"
   ]
  },
  {
   "cell_type": "markdown",
   "metadata": {},
   "source": [
    "Гистограмма по месяцам публикации объявлений. Мы видим, что достаточно много объявлений публикуетсяв феврале и марте, а так же осенью."
   ]
  },
  {
   "cell_type": "markdown",
   "metadata": {},
   "source": [
    "#### <a name=\"task_4.2\"></a> 4.2 Изучите, как быстро продавались квартиры (столбец days_exposition). Этот параметр показывает, сколько дней было размещено каждое объявление."
   ]
  },
  {
   "cell_type": "markdown",
   "metadata": {},
   "source": [
    "- Постройте гистограмму."
   ]
  },
  {
   "cell_type": "code",
   "execution_count": 48,
   "metadata": {},
   "outputs": [
    {
     "data": {
      "image/png": "[encoded data removed]",
      "text/plain": [
       "<Figure size 720x360 with 1 Axes>"
      ]
     },
     "metadata": {
      "needs_background": "light"
     },
     "output_type": "display_data"
    },
    {
     "name": "stdout",
     "output_type": "stream",
     "text": [
      "count    23512.000000\n",
      "mean       156.414639\n",
      "std        213.412757\n",
      "min          0.000000\n",
      "25%         22.000000\n",
      "50%         73.000000\n",
      "75%        198.000000\n",
      "max       1580.000000\n",
      "Name: days_exposition, dtype: float64\n"
     ]
    }
   ],
   "source": [
    "data.hist('days_exposition', bins=100, figsize = (10,5), range=(0,800))\n",
    "plt.show()\n",
    "print(data['days_exposition'].describe())"
   ]
  },
  {
   "cell_type": "markdown",
   "metadata": {},
   "source": [
    "Посчитайте среднее и медиану."
   ]
  },
  {
   "cell_type": "code",
   "execution_count": 49,
   "metadata": {},
   "outputs": [
    {
     "data": {
      "text/plain": [
       "156.4146393331065"
      ]
     },
     "execution_count": 49,
     "metadata": {},
     "output_type": "execute_result"
    }
   ],
   "source": [
    "# Средняя\n",
    "data['days_exposition'].mean()"
   ]
  },
  {
   "cell_type": "code",
   "execution_count": 50,
   "metadata": {},
   "outputs": [
    {
     "data": {
      "text/plain": [
       "73.0"
      ]
     },
     "execution_count": 50,
     "metadata": {},
     "output_type": "execute_result"
    }
   ],
   "source": [
    "# Медиана\n",
    "data['days_exposition'].median()"
   ]
  },
  {
   "cell_type": "markdown",
   "metadata": {},
   "source": [
    "В среднем продажа квартиры с момента появления объявления происходит за 156 дней. Быстрыми мы можем считать продажи, которые произошли быстрее чем через 73 дня."
   ]
  },
  {
   "cell_type": "code",
   "execution_count": null,
   "metadata": {},
   "outputs": [],
   "source": []
  },
  {
   "cell_type": "code",
   "execution_count": 51,
   "metadata": {},
   "outputs": [
    {
     "data": {
      "text/plain": [
       "3035"
      ]
     },
     "execution_count": 51,
     "metadata": {},
     "output_type": "execute_result"
    }
   ],
   "source": [
    "data['days_exposition'].loc[data['days_exposition'] > 365].count()\n"
   ]
  },
  {
   "cell_type": "markdown",
   "metadata": {},
   "source": [
    "Как мы видим, в данных присутствуют квартиры, которые не могут продать уже более года, причем таких квартир достаточно много (~11%). \n"
   ]
  },
  {
   "cell_type": "markdown",
   "metadata": {},
   "source": [
    "Если ориентироваться на квантили:\n",
    "    \n",
    " - быстро продавались квартиры, которые были в объявлениях меньше 22 дней\n",
    " - долго продавались квартиры, которые висели более 198 дней\n"
   ]
  },
  {
   "cell_type": "markdown",
   "metadata": {},
   "source": [
    "#### <a name=\"task_4.3\"></a> 4.3 Какие факторы больше всего влияют на общую (полную) стоимость объекта?"
   ]
  },
  {
   "cell_type": "markdown",
   "metadata": {},
   "source": [
    "В начале просто посмотрим корреляцию цен с остальными параметрами квартиры."
   ]
  },
  {
   "cell_type": "code",
   "execution_count": 52,
   "metadata": {},
   "outputs": [
    {
     "name": "stdout",
     "output_type": "stream",
     "text": [
      "                       last_price  area_price\n",
      "area_price               0.751385    1.000000\n",
      "last_price               1.000000    0.751385\n",
      "kitchen_area             0.440721    0.368071\n",
      "total_area               0.643675    0.303102\n",
      "ceiling_height           0.292662    0.294242\n",
      "airports_nearest         0.110220    0.274346\n",
      "parks_nearest            0.121239    0.216216\n",
      "living_area              0.548899    0.212273\n",
      "ponds_around3000         0.163603    0.190897\n",
      "parks_around3000         0.158084    0.186182\n",
      "ponds_nearest            0.092104    0.174637\n",
      "floors_total            -0.010518    0.147594\n",
      "total_images             0.108861    0.133977\n",
      "floor                    0.021382    0.128197\n",
      "rooms                    0.361055    0.055832\n",
      "balcony                  0.009943    0.021521\n",
      "days_exposition          0.054859    0.019741\n",
      "studio                  -0.025777    0.015537\n",
      "year_of_announcement    -0.043580    0.009406\n",
      "open_plan               -0.008797    0.008021\n",
      "month_of_announcement    0.000503   -0.002863\n",
      "day_of_announcement      0.001676   -0.006992\n",
      "cityCenters_nearest     -0.211230   -0.318423\n",
      "dist_to_centre_in_km    -0.211550   -0.319170\n"
     ]
    }
   ],
   "source": [
    "print(data.corr()[['last_price', 'area_price']].sort_values(by = 'area_price', ascending = False))"
   ]
  },
  {
   "cell_type": "code",
   "execution_count": null,
   "metadata": {},
   "outputs": [],
   "source": []
  },
  {
   "cell_type": "markdown",
   "metadata": {},
   "source": [
    "Построим корреляцию площади квартиры и цены за квадратный метр. При этом не будем учитывать квартиры больше 200кв метров."
   ]
  },
  {
   "cell_type": "code",
   "execution_count": 53,
   "metadata": {},
   "outputs": [
    {
     "data": {
      "image/png": "[encoded data removed]",
      "text/plain": [
       "<Figure size 432x288 with 1 Axes>"
      ]
     },
     "metadata": {
      "needs_background": "light"
     },
     "output_type": "display_data"
    }
   ],
   "source": [
    "data.query('total_area<200').pivot_table(\n",
    "    index='total_area', values='area_price', aggfunc='median'\n",
    ").plot(style='o');"
   ]
  },
  {
   "cell_type": "code",
   "execution_count": null,
   "metadata": {},
   "outputs": [],
   "source": []
  },
  {
   "cell_type": "markdown",
   "metadata": {},
   "source": [
    "Корреляция цены и жилой площади."
   ]
  },
  {
   "cell_type": "code",
   "execution_count": 54,
   "metadata": {},
   "outputs": [
    {
     "data": {
      "image/png": "[encoded data removed]",
      "text/plain": [
       "<Figure size 1080x360 with 1 Axes>"
      ]
     },
     "metadata": {
      "needs_background": "light"
     },
     "output_type": "display_data"
    }
   ],
   "source": [
    "data.query('total_area<200').pivot_table(\n",
    "    index='living_area', values='area_price', aggfunc='median'\n",
    ").plot(style='o-', figsize = (15,5));"
   ]
  },
  {
   "cell_type": "code",
   "execution_count": null,
   "metadata": {},
   "outputs": [],
   "source": []
  },
  {
   "cell_type": "markdown",
   "metadata": {},
   "source": [
    "Корреляция цены и площади кухни"
   ]
  },
  {
   "cell_type": "code",
   "execution_count": 55,
   "metadata": {},
   "outputs": [
    {
     "data": {
      "image/png": "[encoded data removed]",
      "text/plain": [
       "<Figure size 1080x360 with 1 Axes>"
      ]
     },
     "metadata": {
      "needs_background": "light"
     },
     "output_type": "display_data"
    }
   ],
   "source": [
    "data.query('total_area<200').pivot_table(\n",
    "    index='kitchen_area', values='area_price', aggfunc='median'\n",
    ").plot(style='o-', figsize = (15,5));"
   ]
  },
  {
   "cell_type": "code",
   "execution_count": null,
   "metadata": {},
   "outputs": [],
   "source": []
  },
  {
   "cell_type": "markdown",
   "metadata": {},
   "source": [
    "Корреляция цены и колличества комнат"
   ]
  },
  {
   "cell_type": "code",
   "execution_count": 56,
   "metadata": {},
   "outputs": [
    {
     "data": {
      "image/png": "[encoded data removed]",
      "text/plain": [
       "<Figure size 1080x360 with 1 Axes>"
      ]
     },
     "metadata": {
      "needs_background": "light"
     },
     "output_type": "display_data"
    }
   ],
   "source": [
    "data.query('total_area<200').pivot_table(\n",
    "    index='rooms', values='area_price', aggfunc='median'\n",
    ").plot(style='o-', figsize = (15,5));"
   ]
  },
  {
   "cell_type": "code",
   "execution_count": null,
   "metadata": {},
   "outputs": [],
   "source": []
  },
  {
   "cell_type": "markdown",
   "metadata": {},
   "source": [
    "Корреляция цены и этажа, на котором расположена квартира"
   ]
  },
  {
   "cell_type": "code",
   "execution_count": 57,
   "metadata": {},
   "outputs": [
    {
     "data": {
      "image/png": "[encoded data removed]",
      "text/plain": [
       "<Figure size 1080x360 with 1 Axes>"
      ]
     },
     "metadata": {
      "needs_background": "light"
     },
     "output_type": "display_data"
    }
   ],
   "source": [
    "data.query('total_area<200').pivot_table(\n",
    "    index='floor', values='area_price', aggfunc='median'\n",
    ").plot(style='o-', figsize = (15,5));"
   ]
  },
  {
   "cell_type": "code",
   "execution_count": null,
   "metadata": {},
   "outputs": [],
   "source": []
  },
  {
   "cell_type": "markdown",
   "metadata": {},
   "source": [
    "Корреляция цены и даты размещения"
   ]
  },
  {
   "cell_type": "code",
   "execution_count": 58,
   "metadata": {},
   "outputs": [
    {
     "data": {
      "image/png": "[encoded data removed]",
      "text/plain": [
       "<Figure size 1080x360 with 1 Axes>"
      ]
     },
     "metadata": {
      "needs_background": "light"
     },
     "output_type": "display_data"
    }
   ],
   "source": [
    "data.query('total_area<200').pivot_table(\n",
    "    index='days_exposition', values='area_price', aggfunc='median'\n",
    ").plot(style='o-', figsize = (15,5));"
   ]
  },
  {
   "cell_type": "markdown",
   "metadata": {},
   "source": [
    "\n",
    "Как мы видим, квартиры, которые размещены недавно, имеют достаточно не большой разброс по ценам и при этом все имеют не очень высокую цену. Мы видим, что это не дорогие квартиры, которые имеют высокую ликвидность и соответственно такие квартиры не задерживаются на долго на досках объявлений. Чем больше времени с публикации объявления, тем больше разброс по ценам, мало покупателей найдется на очень дорогие квартиры, поэтому такие объявления могут висеть очень долго. Чем выше цена, тем меньше ликвидность квартиры и тем дальше покупатели будут выбирать и определяться с покупкой.\n"
   ]
  },
  {
   "cell_type": "code",
   "execution_count": null,
   "metadata": {},
   "outputs": [],
   "source": []
  },
  {
   "cell_type": "markdown",
   "metadata": {},
   "source": [
    "\n",
    "Из построенных выше графиков мы можем сказать, от каких параметров стоимость квартиры зависит сильно, а от каких – нет.\n",
    "\n",
    "- По графику общей площади видно, что в целом цена квадратного метра не сильно изменяется в зависимости от общей площади квартиры, однако некоторые квартиры, все-таки начинают стоить больше (за один квадратный метр) с увеличением общей площади. Это может быть связано с тем, что квартиры большей площади как правило более элитные и их один квадратный метр может цениться больше, чем в маленьких, менее элитных квартирах.\n",
    "\n",
    "- По графику жилой площади мы тоже можем сказать, что цена квадратного метра не сильно меняется в зависимости от размера жилой площади.\n",
    "\n",
    "- На графике площади кухни мы видим, что квартиры с более большой площадью кухни и имеют немного большую стоимость квадратного метра и так же на графике мы можем увидеть сильный выброс с большой площадью кухни и стоимостью квадратного метра более 800т рублей.\n",
    "\n",
    "- На графике количества комнат отличия уже более существенны. Один квадратный метр в однокомнатной квартире стоит дороже, чем в 2–6 комнатных квартирах, однако, начиная с 7-комнатных квартир, цена квадратного метра резко возрастает. Самыми дешевыми за квадратный метр являются 3-комнатные квартиры.\n",
    "\n",
    "- На графике этажности квартиры мы видим, что этажи очень по-разному влияют на цену квадратного метра в квартире. 5и 9 этажи стоят сильно дешевле по сравнению с соседними, скорее всего это связано с тем, что часто эти этажи являются последними и никто не хочет жить на последнем этаже (с протекающей крышей и шумящим лифтом). Далее ценя за квадратный метр уже, не сильно меняется и падает только в районе 25-го этажа, а затем резко растет на 30ом этаже, но скорее всего это результат единичных не репрезентативных данных.\n",
    "\n",
    "- Дата размещения не очень сильно влияет на цену квадратного метра. Для квартир, которые опубликованы до 300 дней назад цена квадратного метра имеет не большой разброс. Далее разброс увеличивается и среднем цена за квадратный метр понемногу растет, скорее всего это связано с тем, что долго висят более дорогие квартиры (такие квартиры имеют меньшую ликвидность), которые имеют более элитные ремонты и находится в более элитных районах, соответственно квадратный метр в таких квартирах будет стоить больше.\n"
   ]
  },
  {
   "cell_type": "markdown",
   "metadata": {},
   "source": [
    "#### <a name=\"task_4.4\"></a> 4.4 Посчитайте среднюю цену одного квадратного метра в 10 населённых пунктах с наибольшим числом объявлений. Выделите населённые пункты с самой высокой и низкой стоимостью квадратного метра. Эти данные можно найти по имени в столбце locality_name."
   ]
  },
  {
   "cell_type": "code",
   "execution_count": 59,
   "metadata": {},
   "outputs": [
    {
     "data": {
      "text/plain": [
       "Санкт-Петербург      15625\n",
       "поселок Мурино         550\n",
       "поселок Шушары         439\n",
       "Всеволожск             398\n",
       "Пушкин                 369\n",
       "Колпино                338\n",
       "поселок Парголово      327\n",
       "Гатчина                306\n",
       "деревня Кудрово        299\n",
       "Выборг                 237\n",
       "Name: locality_name, dtype: int64"
      ]
     },
     "metadata": {},
     "output_type": "display_data"
    }
   ],
   "source": [
    "loc_prices = data['locality_name'].value_counts().sort_values(ascending = False).head(10)\n",
    "display(loc_prices)"
   ]
  },
  {
   "cell_type": "code",
   "execution_count": null,
   "metadata": {},
   "outputs": [],
   "source": []
  },
  {
   "cell_type": "markdown",
   "metadata": {},
   "source": [
    "Посчитаем среднюю чену квадратного метра в каждом населенном пункте"
   ]
  },
  {
   "cell_type": "code",
   "execution_count": 60,
   "metadata": {},
   "outputs": [
    {
     "data": {
      "image/png": "[encoded data removed]",
      "text/plain": [
       "<Figure size 432x288 with 1 Axes>"
      ]
     },
     "metadata": {
      "needs_background": "light"
     },
     "output_type": "display_data"
    }
   ],
   "source": [
    "data.query('locality_name in @loc_prices.index').pivot_table(\n",
    "    index='locality_name', values='area_price', aggfunc='median'\n",
    ").sort_values('area_price').plot(kind='bar');"
   ]
  },
  {
   "cell_type": "markdown",
   "metadata": {},
   "source": [
    "#### <a name=\"task_4.5\"></a> 4.5 Выделите квартиры в Санкт-Петербурге с помощью столбца locality_name и вычислите среднюю цену каждого километра. Опишите, как стоимость объектов зависит от расстояния до центра города."
   ]
  },
  {
   "cell_type": "code",
   "execution_count": 61,
   "metadata": {},
   "outputs": [],
   "source": [
    "data['cityCenters'] = (data['cityCenters_nearest']/1000).dropna().astype(int)\n",
    "# data.head(10)"
   ]
  },
  {
   "cell_type": "code",
   "execution_count": null,
   "metadata": {},
   "outputs": [],
   "source": []
  },
  {
   "cell_type": "markdown",
   "metadata": {},
   "source": [
    "Посчитаем среднюю цену каждого километра."
   ]
  },
  {
   "cell_type": "code",
   "execution_count": 62,
   "metadata": {},
   "outputs": [
    {
     "data": {
      "text/html": [
       "<div>\n",
       "<style scoped>\n",
       "    .dataframe tbody tr th:only-of-type {\n",
       "        vertical-align: middle;\n",
       "    }\n",
       "\n",
       "    .dataframe tbody tr th {\n",
       "        vertical-align: top;\n",
       "    }\n",
       "\n",
       "    .dataframe thead th {\n",
       "        text-align: right;\n",
       "    }\n",
       "</style>\n",
       "<table border=\"1\" class=\"dataframe\">\n",
       "  <thead>\n",
       "    <tr style=\"text-align: right;\">\n",
       "      <th></th>\n",
       "      <th>total_images</th>\n",
       "      <th>last_price</th>\n",
       "      <th>total_area</th>\n",
       "      <th>first_day_exposition</th>\n",
       "      <th>rooms</th>\n",
       "      <th>ceiling_height</th>\n",
       "      <th>floors_total</th>\n",
       "      <th>living_area</th>\n",
       "      <th>floor</th>\n",
       "      <th>is_apartment</th>\n",
       "      <th>...</th>\n",
       "      <th>ponds_nearest</th>\n",
       "      <th>days_exposition</th>\n",
       "      <th>area_price</th>\n",
       "      <th>day_of_announcement</th>\n",
       "      <th>month_of_announcement</th>\n",
       "      <th>year_of_announcement</th>\n",
       "      <th>floor_category</th>\n",
       "      <th>dist_to_centre_in_km</th>\n",
       "      <th>cityCenters</th>\n",
       "      <th>price_km</th>\n",
       "    </tr>\n",
       "  </thead>\n",
       "  <tbody>\n",
       "    <tr>\n",
       "      <th>0</th>\n",
       "      <td>20</td>\n",
       "      <td>13000000.0</td>\n",
       "      <td>108.00</td>\n",
       "      <td>2019-03-07</td>\n",
       "      <td>3</td>\n",
       "      <td>2.70</td>\n",
       "      <td>16</td>\n",
       "      <td>51.00</td>\n",
       "      <td>8</td>\n",
       "      <td>0</td>\n",
       "      <td>...</td>\n",
       "      <td>755.0</td>\n",
       "      <td>0.0</td>\n",
       "      <td>120370.370370</td>\n",
       "      <td>3</td>\n",
       "      <td>3</td>\n",
       "      <td>2019</td>\n",
       "      <td>Другой</td>\n",
       "      <td>16.0</td>\n",
       "      <td>16.0</td>\n",
       "      <td>8.125000e+05</td>\n",
       "    </tr>\n",
       "    <tr>\n",
       "      <th>1</th>\n",
       "      <td>7</td>\n",
       "      <td>3350000.0</td>\n",
       "      <td>40.40</td>\n",
       "      <td>2018-12-04</td>\n",
       "      <td>1</td>\n",
       "      <td>2.75</td>\n",
       "      <td>11</td>\n",
       "      <td>18.60</td>\n",
       "      <td>1</td>\n",
       "      <td>0</td>\n",
       "      <td>...</td>\n",
       "      <td>0.0</td>\n",
       "      <td>81.0</td>\n",
       "      <td>82920.792079</td>\n",
       "      <td>1</td>\n",
       "      <td>12</td>\n",
       "      <td>2018</td>\n",
       "      <td>Первый</td>\n",
       "      <td>19.0</td>\n",
       "      <td>18.0</td>\n",
       "      <td>1.861111e+05</td>\n",
       "    </tr>\n",
       "    <tr>\n",
       "      <th>2</th>\n",
       "      <td>10</td>\n",
       "      <td>5196000.0</td>\n",
       "      <td>56.00</td>\n",
       "      <td>2015-08-20</td>\n",
       "      <td>2</td>\n",
       "      <td>2.55</td>\n",
       "      <td>5</td>\n",
       "      <td>34.30</td>\n",
       "      <td>4</td>\n",
       "      <td>0</td>\n",
       "      <td>...</td>\n",
       "      <td>574.0</td>\n",
       "      <td>558.0</td>\n",
       "      <td>92785.714286</td>\n",
       "      <td>3</td>\n",
       "      <td>8</td>\n",
       "      <td>2015</td>\n",
       "      <td>Другой</td>\n",
       "      <td>14.0</td>\n",
       "      <td>13.0</td>\n",
       "      <td>3.996923e+05</td>\n",
       "    </tr>\n",
       "    <tr>\n",
       "      <th>3</th>\n",
       "      <td>0</td>\n",
       "      <td>64900000.0</td>\n",
       "      <td>159.00</td>\n",
       "      <td>2015-07-24</td>\n",
       "      <td>3</td>\n",
       "      <td>2.60</td>\n",
       "      <td>14</td>\n",
       "      <td>45.00</td>\n",
       "      <td>9</td>\n",
       "      <td>0</td>\n",
       "      <td>...</td>\n",
       "      <td>234.0</td>\n",
       "      <td>424.0</td>\n",
       "      <td>408176.100629</td>\n",
       "      <td>4</td>\n",
       "      <td>7</td>\n",
       "      <td>2015</td>\n",
       "      <td>Другой</td>\n",
       "      <td>7.0</td>\n",
       "      <td>6.0</td>\n",
       "      <td>1.081667e+07</td>\n",
       "    </tr>\n",
       "    <tr>\n",
       "      <th>4</th>\n",
       "      <td>2</td>\n",
       "      <td>10000000.0</td>\n",
       "      <td>100.00</td>\n",
       "      <td>2018-06-19</td>\n",
       "      <td>2</td>\n",
       "      <td>3.03</td>\n",
       "      <td>14</td>\n",
       "      <td>32.00</td>\n",
       "      <td>13</td>\n",
       "      <td>0</td>\n",
       "      <td>...</td>\n",
       "      <td>48.0</td>\n",
       "      <td>121.0</td>\n",
       "      <td>100000.000000</td>\n",
       "      <td>1</td>\n",
       "      <td>6</td>\n",
       "      <td>2018</td>\n",
       "      <td>Другой</td>\n",
       "      <td>8.0</td>\n",
       "      <td>8.0</td>\n",
       "      <td>1.250000e+06</td>\n",
       "    </tr>\n",
       "    <tr>\n",
       "      <th>5</th>\n",
       "      <td>10</td>\n",
       "      <td>2890000.0</td>\n",
       "      <td>30.40</td>\n",
       "      <td>2018-09-10</td>\n",
       "      <td>1</td>\n",
       "      <td>2.65</td>\n",
       "      <td>12</td>\n",
       "      <td>14.40</td>\n",
       "      <td>5</td>\n",
       "      <td>0</td>\n",
       "      <td>...</td>\n",
       "      <td>0.0</td>\n",
       "      <td>55.0</td>\n",
       "      <td>95065.789474</td>\n",
       "      <td>0</td>\n",
       "      <td>9</td>\n",
       "      <td>2018</td>\n",
       "      <td>Другой</td>\n",
       "      <td>NaN</td>\n",
       "      <td>NaN</td>\n",
       "      <td>NaN</td>\n",
       "    </tr>\n",
       "    <tr>\n",
       "      <th>6</th>\n",
       "      <td>6</td>\n",
       "      <td>3700000.0</td>\n",
       "      <td>37.30</td>\n",
       "      <td>2017-11-02</td>\n",
       "      <td>1</td>\n",
       "      <td>2.66</td>\n",
       "      <td>26</td>\n",
       "      <td>10.60</td>\n",
       "      <td>6</td>\n",
       "      <td>0</td>\n",
       "      <td>...</td>\n",
       "      <td>0.0</td>\n",
       "      <td>155.0</td>\n",
       "      <td>99195.710456</td>\n",
       "      <td>3</td>\n",
       "      <td>11</td>\n",
       "      <td>2017</td>\n",
       "      <td>Другой</td>\n",
       "      <td>19.0</td>\n",
       "      <td>19.0</td>\n",
       "      <td>1.947368e+05</td>\n",
       "    </tr>\n",
       "    <tr>\n",
       "      <th>7</th>\n",
       "      <td>5</td>\n",
       "      <td>7915000.0</td>\n",
       "      <td>71.60</td>\n",
       "      <td>2019-04-18</td>\n",
       "      <td>2</td>\n",
       "      <td>2.75</td>\n",
       "      <td>24</td>\n",
       "      <td>30.50</td>\n",
       "      <td>22</td>\n",
       "      <td>0</td>\n",
       "      <td>...</td>\n",
       "      <td>0.0</td>\n",
       "      <td>0.0</td>\n",
       "      <td>110544.692737</td>\n",
       "      <td>3</td>\n",
       "      <td>4</td>\n",
       "      <td>2019</td>\n",
       "      <td>Другой</td>\n",
       "      <td>12.0</td>\n",
       "      <td>11.0</td>\n",
       "      <td>7.195455e+05</td>\n",
       "    </tr>\n",
       "    <tr>\n",
       "      <th>8</th>\n",
       "      <td>20</td>\n",
       "      <td>2900000.0</td>\n",
       "      <td>33.16</td>\n",
       "      <td>2018-05-23</td>\n",
       "      <td>1</td>\n",
       "      <td>2.70</td>\n",
       "      <td>27</td>\n",
       "      <td>15.43</td>\n",
       "      <td>26</td>\n",
       "      <td>0</td>\n",
       "      <td>...</td>\n",
       "      <td>0.0</td>\n",
       "      <td>189.0</td>\n",
       "      <td>87454.764777</td>\n",
       "      <td>2</td>\n",
       "      <td>5</td>\n",
       "      <td>2018</td>\n",
       "      <td>Другой</td>\n",
       "      <td>NaN</td>\n",
       "      <td>NaN</td>\n",
       "      <td>NaN</td>\n",
       "    </tr>\n",
       "    <tr>\n",
       "      <th>9</th>\n",
       "      <td>18</td>\n",
       "      <td>5400000.0</td>\n",
       "      <td>61.00</td>\n",
       "      <td>2017-02-26</td>\n",
       "      <td>3</td>\n",
       "      <td>2.50</td>\n",
       "      <td>9</td>\n",
       "      <td>43.60</td>\n",
       "      <td>7</td>\n",
       "      <td>0</td>\n",
       "      <td>...</td>\n",
       "      <td>0.0</td>\n",
       "      <td>289.0</td>\n",
       "      <td>88524.590164</td>\n",
       "      <td>6</td>\n",
       "      <td>2</td>\n",
       "      <td>2017</td>\n",
       "      <td>Другой</td>\n",
       "      <td>15.0</td>\n",
       "      <td>15.0</td>\n",
       "      <td>3.600000e+05</td>\n",
       "    </tr>\n",
       "  </tbody>\n",
       "</table>\n",
       "<p>10 rows × 30 columns</p>\n",
       "</div>"
      ],
      "text/plain": [
       "   total_images  last_price  total_area first_day_exposition  rooms  \\\n",
       "0            20  13000000.0      108.00           2019-03-07      3   \n",
       "1             7   3350000.0       40.40           2018-12-04      1   \n",
       "2            10   5196000.0       56.00           2015-08-20      2   \n",
       "3             0  64900000.0      159.00           2015-07-24      3   \n",
       "4             2  10000000.0      100.00           2018-06-19      2   \n",
       "5            10   2890000.0       30.40           2018-09-10      1   \n",
       "6             6   3700000.0       37.30           2017-11-02      1   \n",
       "7             5   7915000.0       71.60           2019-04-18      2   \n",
       "8            20   2900000.0       33.16           2018-05-23      1   \n",
       "9            18   5400000.0       61.00           2017-02-26      3   \n",
       "\n",
       "   ceiling_height  floors_total  living_area  floor is_apartment  ...  \\\n",
       "0            2.70            16        51.00      8            0  ...   \n",
       "1            2.75            11        18.60      1            0  ...   \n",
       "2            2.55             5        34.30      4            0  ...   \n",
       "3            2.60            14        45.00      9            0  ...   \n",
       "4            3.03            14        32.00     13            0  ...   \n",
       "5            2.65            12        14.40      5            0  ...   \n",
       "6            2.66            26        10.60      6            0  ...   \n",
       "7            2.75            24        30.50     22            0  ...   \n",
       "8            2.70            27        15.43     26            0  ...   \n",
       "9            2.50             9        43.60      7            0  ...   \n",
       "\n",
       "   ponds_nearest  days_exposition     area_price  day_of_announcement  \\\n",
       "0          755.0              0.0  120370.370370                    3   \n",
       "1            0.0             81.0   82920.792079                    1   \n",
       "2          574.0            558.0   92785.714286                    3   \n",
       "3          234.0            424.0  408176.100629                    4   \n",
       "4           48.0            121.0  100000.000000                    1   \n",
       "5            0.0             55.0   95065.789474                    0   \n",
       "6            0.0            155.0   99195.710456                    3   \n",
       "7            0.0              0.0  110544.692737                    3   \n",
       "8            0.0            189.0   87454.764777                    2   \n",
       "9            0.0            289.0   88524.590164                    6   \n",
       "\n",
       "  month_of_announcement  year_of_announcement  floor_category  \\\n",
       "0                     3                  2019          Другой   \n",
       "1                    12                  2018          Первый   \n",
       "2                     8                  2015          Другой   \n",
       "3                     7                  2015          Другой   \n",
       "4                     6                  2018          Другой   \n",
       "5                     9                  2018          Другой   \n",
       "6                    11                  2017          Другой   \n",
       "7                     4                  2019          Другой   \n",
       "8                     5                  2018          Другой   \n",
       "9                     2                  2017          Другой   \n",
       "\n",
       "   dist_to_centre_in_km  cityCenters      price_km  \n",
       "0                  16.0         16.0  8.125000e+05  \n",
       "1                  19.0         18.0  1.861111e+05  \n",
       "2                  14.0         13.0  3.996923e+05  \n",
       "3                   7.0          6.0  1.081667e+07  \n",
       "4                   8.0          8.0  1.250000e+06  \n",
       "5                   NaN          NaN           NaN  \n",
       "6                  19.0         19.0  1.947368e+05  \n",
       "7                  12.0         11.0  7.195455e+05  \n",
       "8                   NaN          NaN           NaN  \n",
       "9                  15.0         15.0  3.600000e+05  \n",
       "\n",
       "[10 rows x 30 columns]"
      ]
     },
     "execution_count": 62,
     "metadata": {},
     "output_type": "execute_result"
    }
   ],
   "source": [
    "data['price_km'] = data['last_price'] / data['cityCenters'].dropna().astype(int)\n",
    "data.head(10)"
   ]
  },
  {
   "cell_type": "code",
   "execution_count": 63,
   "metadata": {},
   "outputs": [
    {
     "data": {
      "image/png": "[encoded data removed]",
      "text/plain": [
       "<Figure size 1440x720 with 1 Axes>"
      ]
     },
     "metadata": {
      "needs_background": "light"
     },
     "output_type": "display_data"
    }
   ],
   "source": [
    "data.query('cityCenters<40').boxplot('price_km', by='cityCenters', figsize=(20,10));"
   ]
  },
  {
   "cell_type": "markdown",
   "metadata": {},
   "source": [
    "\n",
    "На графике boxplot более наглядно видно, что цена  действительно зависит от расстояния до центра. Чем ближе квартира находится к центру, тем скорее всего выше будет ее цена.\n"
   ]
  },
  {
   "cell_type": "code",
   "execution_count": 64,
   "metadata": {},
   "outputs": [
    {
     "data": {
      "image/png": "[encoded data removed]",
      "text/plain": [
       "<Figure size 1080x360 with 1 Axes>"
      ]
     },
     "metadata": {
      "needs_background": "light"
     },
     "output_type": "display_data"
    }
   ],
   "source": [
    "data.pivot_table(\n",
    "    index='cityCenters', values='price_km'\n",
    ").plot(style='o-', figsize = (15,5));"
   ]
  },
  {
   "cell_type": "markdown",
   "metadata": {},
   "source": [
    "Здесь хорошо видно, что в первые несколько километров от центра, расстояние до него сильно влияет на стоимость квартиры, но дальше 15-ого километра цена уже не так сильно меняется, что означает, что дальше людям уже безразлично в 15 километрах они или в 50-ти.\n"
   ]
  },
  {
   "cell_type": "markdown",
   "metadata": {},
   "source": [
    "### <a name=\"conclusion.5\"></a> Общий вывод"
   ]
  },
  {
   "cell_type": "markdown",
   "metadata": {},
   "source": [
    "После окончания исследования стоимости квартир в Санкт-Петербурге и близлежащий населенных пунктах можно сделать следующие выводы:\n",
    "\n",
    "- Что влияет на стоимость квартиры и в какой степени:\n",
    "    - Стоимость квартиры зависит от большого количества параметров. Все параметры в разной степени влияют на стоимость квартиры, какие-то в большей степени, какие-то в меньшей.\n",
    "\n",
    "- Как влияют параметры самой квартиры:\n",
    "    - Площадь кухни и общая площадь квартиры оказывают самое большое влияние на цену квартиры в положительную сторону.\n",
    "    - В основном в продаже находятся квартиры от 25 кв метров и до 80.\n",
    "    - На рынке превалируют квартиры с 2–3 комнатами, большее количество комнат встречается очень редко.\n",
    "    - Диапазон высоты потолков тоже не очень большой. В основном это от 2.5 до 3-х метров.\n",
    "    - В Питере и окрестностях в основном продаются квартиры на не высоких этажах (большая часть до 5–6 этажа).\n",
    "    \n",
    "- Как влияет география и инфраструктура:\n",
    "    - Расстояние от центра оказывает самое большое отрицательное влияние на цену квартиры. Чем ближе к центру, тем выше цена квартиры, но после примерно десяти километров удаления от центра этот параметр почти теряет свое влияние на ценообразование квартиры.\n",
    "    - Достаточно много квартир находится на расстоянии около 5 километров от центра и следующий, самый большой пик плотности квартир находится на расстоянии 15 километров от центра.\n",
    "    - Наличие парка в пешей доступности от квартиры тоже оказывает сильное влияние на стоимость, в Питере бОльшое количество квартир находится в пределе одного километра от парка.\n",
    "    \n",
    "- Общие показатели:\n",
    "    - Средняя стоимость, по которой продаются квартиры в Питере и его пригороде находится в районе 3–4 млн рублей.\n",
    "    \n",
    "- Статистика по объявлениям:\n",
    "    - Объявления о продаже квартир в основном публикуются в будние дни и самые оживленные сезоны — это конец зимы и конец осени.\n",
    "    - В среднем квартиры продаются за 4–5 месяцев.\n",
    "    - Быстрее всего продаются квартиры с маленькой ценой и высокой ликвидностью.\n",
    "\n"
   ]
  }
 ],
 "metadata": {
  "ExecuteTimeLog": [
   {
    "duration": 61,
    "start_time": "2022-10-06T07:47:04.284Z"
   },
   {
    "duration": 414,
    "start_time": "2022-10-06T07:47:48.155Z"
   },
   {
    "duration": 109,
    "start_time": "2022-10-06T07:49:37.646Z"
   },
   {
    "duration": 325,
    "start_time": "2022-10-06T07:49:50.270Z"
   },
   {
    "duration": 104,
    "start_time": "2022-10-06T07:49:54.981Z"
   },
   {
    "duration": 109,
    "start_time": "2022-10-06T07:50:06.062Z"
   },
   {
    "duration": 94,
    "start_time": "2022-10-06T07:50:18.692Z"
   },
   {
    "duration": 49,
    "start_time": "2022-10-06T07:50:36.149Z"
   },
   {
    "duration": 2342,
    "start_time": "2022-10-06T07:50:38.786Z"
   },
   {
    "duration": 93,
    "start_time": "2022-10-06T07:51:48.401Z"
   },
   {
    "duration": 16,
    "start_time": "2022-10-06T07:52:13.946Z"
   },
   {
    "duration": 1958,
    "start_time": "2022-10-06T07:52:38.191Z"
   },
   {
    "duration": 18,
    "start_time": "2022-10-06T07:59:57.621Z"
   },
   {
    "duration": 51,
    "start_time": "2022-10-06T08:00:01.985Z"
   },
   {
    "duration": 6,
    "start_time": "2022-10-06T08:01:15.871Z"
   },
   {
    "duration": 6,
    "start_time": "2022-10-06T08:01:35.570Z"
   },
   {
    "duration": 4,
    "start_time": "2022-10-06T08:01:41.751Z"
   },
   {
    "duration": 6,
    "start_time": "2022-10-06T08:01:50.386Z"
   },
   {
    "duration": 56,
    "start_time": "2022-10-06T08:02:11.347Z"
   },
   {
    "duration": 27,
    "start_time": "2022-10-06T08:02:15.631Z"
   },
   {
    "duration": 36,
    "start_time": "2022-10-06T08:02:31.560Z"
   },
   {
    "duration": 26,
    "start_time": "2022-10-06T08:02:36.687Z"
   },
   {
    "duration": 61,
    "start_time": "2022-10-06T08:02:58.100Z"
   },
   {
    "duration": 10,
    "start_time": "2022-10-06T08:04:34.467Z"
   },
   {
    "duration": 14,
    "start_time": "2022-10-06T10:37:39.087Z"
   },
   {
    "duration": 12,
    "start_time": "2022-10-06T11:05:27.259Z"
   },
   {
    "duration": 2132,
    "start_time": "2022-10-06T11:17:07.819Z"
   },
   {
    "duration": 5,
    "start_time": "2022-10-06T11:17:25.201Z"
   },
   {
    "duration": 8,
    "start_time": "2022-10-06T11:17:40.280Z"
   },
   {
    "duration": 13,
    "start_time": "2022-10-06T11:17:47.126Z"
   },
   {
    "duration": 15,
    "start_time": "2022-10-06T11:18:26.135Z"
   },
   {
    "duration": 6,
    "start_time": "2022-10-06T11:18:29.220Z"
   },
   {
    "duration": 132,
    "start_time": "2022-10-06T11:20:00.462Z"
   },
   {
    "duration": 7,
    "start_time": "2022-10-06T11:25:06.794Z"
   },
   {
    "duration": 7,
    "start_time": "2022-10-06T11:25:31.023Z"
   },
   {
    "duration": 4,
    "start_time": "2022-10-06T11:25:52.392Z"
   },
   {
    "duration": 6,
    "start_time": "2022-10-06T11:25:54.217Z"
   },
   {
    "duration": 137,
    "start_time": "2022-10-06T11:26:22.618Z"
   },
   {
    "duration": 13,
    "start_time": "2022-10-06T11:26:22.758Z"
   },
   {
    "duration": 2001,
    "start_time": "2022-10-06T11:26:22.773Z"
   },
   {
    "duration": 9,
    "start_time": "2022-10-06T11:26:24.776Z"
   },
   {
    "duration": 13,
    "start_time": "2022-10-06T11:34:02.329Z"
   },
   {
    "duration": 5,
    "start_time": "2022-10-06T11:34:37.154Z"
   },
   {
    "duration": 4,
    "start_time": "2022-10-06T11:35:55.197Z"
   },
   {
    "duration": 54,
    "start_time": "2022-10-06T11:42:43.465Z"
   },
   {
    "duration": 45,
    "start_time": "2022-10-06T11:44:29.208Z"
   },
   {
    "duration": 13,
    "start_time": "2022-10-06T11:45:24.564Z"
   },
   {
    "duration": 9,
    "start_time": "2022-10-06T11:48:29.704Z"
   },
   {
    "duration": 5,
    "start_time": "2022-10-06T11:48:59.928Z"
   },
   {
    "duration": 12,
    "start_time": "2022-10-06T11:49:29.148Z"
   },
   {
    "duration": 10,
    "start_time": "2022-10-06T11:50:05.034Z"
   },
   {
    "duration": 5,
    "start_time": "2022-10-06T11:50:43.167Z"
   },
   {
    "duration": 6,
    "start_time": "2022-10-06T11:50:56.770Z"
   },
   {
    "duration": 56,
    "start_time": "2022-10-06T11:56:48.124Z"
   },
   {
    "duration": 45,
    "start_time": "2022-10-06T11:59:17.991Z"
   },
   {
    "duration": 37,
    "start_time": "2022-10-06T11:59:23.727Z"
   },
   {
    "duration": 125,
    "start_time": "2022-10-06T11:59:43.200Z"
   },
   {
    "duration": 17,
    "start_time": "2022-10-06T11:59:43.327Z"
   },
   {
    "duration": 1904,
    "start_time": "2022-10-06T11:59:43.345Z"
   },
   {
    "duration": 10,
    "start_time": "2022-10-06T11:59:45.252Z"
   },
   {
    "duration": 6,
    "start_time": "2022-10-06T11:59:45.263Z"
   },
   {
    "duration": 42,
    "start_time": "2022-10-06T11:59:45.271Z"
   },
   {
    "duration": 60,
    "start_time": "2022-10-06T11:59:45.314Z"
   },
   {
    "duration": 14,
    "start_time": "2022-10-06T11:59:58.487Z"
   },
   {
    "duration": 6,
    "start_time": "2022-10-06T12:03:38.541Z"
   },
   {
    "duration": 8,
    "start_time": "2022-10-06T12:03:45.691Z"
   },
   {
    "duration": 6,
    "start_time": "2022-10-06T12:09:28.066Z"
   },
   {
    "duration": 8,
    "start_time": "2022-10-06T12:10:48.202Z"
   },
   {
    "duration": 9,
    "start_time": "2022-10-06T12:11:32.774Z"
   },
   {
    "duration": 19,
    "start_time": "2022-10-06T12:12:07.910Z"
   },
   {
    "duration": 1100,
    "start_time": "2022-10-06T12:13:50.389Z"
   },
   {
    "duration": 9,
    "start_time": "2022-10-06T12:20:45.281Z"
   },
   {
    "duration": 51,
    "start_time": "2022-10-07T09:11:39.181Z"
   },
   {
    "duration": 694,
    "start_time": "2022-10-07T09:11:45.365Z"
   },
   {
    "duration": 13,
    "start_time": "2022-10-07T09:11:46.061Z"
   },
   {
    "duration": 2218,
    "start_time": "2022-10-07T09:11:46.075Z"
   },
   {
    "duration": 9,
    "start_time": "2022-10-07T09:11:48.295Z"
   },
   {
    "duration": 7,
    "start_time": "2022-10-07T09:11:48.306Z"
   },
   {
    "duration": 15,
    "start_time": "2022-10-07T09:11:48.314Z"
   },
   {
    "duration": 19,
    "start_time": "2022-10-07T09:11:48.331Z"
   },
   {
    "duration": 13,
    "start_time": "2022-10-07T09:11:48.351Z"
   },
   {
    "duration": 23,
    "start_time": "2022-10-07T09:12:44.735Z"
   },
   {
    "duration": 30,
    "start_time": "2022-10-07T09:12:54.923Z"
   },
   {
    "duration": 46,
    "start_time": "2022-10-07T09:16:30.908Z"
   },
   {
    "duration": 6,
    "start_time": "2022-10-07T09:17:00.372Z"
   },
   {
    "duration": 45,
    "start_time": "2022-10-07T09:17:21.130Z"
   },
   {
    "duration": 9,
    "start_time": "2022-10-07T09:17:27.861Z"
   },
   {
    "duration": 6,
    "start_time": "2022-10-07T09:17:33.221Z"
   },
   {
    "duration": 6,
    "start_time": "2022-10-07T09:17:42.985Z"
   },
   {
    "duration": 7,
    "start_time": "2022-10-07T09:17:52.738Z"
   },
   {
    "duration": 8,
    "start_time": "2022-10-07T09:18:42.645Z"
   },
   {
    "duration": 5,
    "start_time": "2022-10-07T09:18:48.974Z"
   },
   {
    "duration": 6,
    "start_time": "2022-10-07T09:18:55.411Z"
   },
   {
    "duration": 6,
    "start_time": "2022-10-07T09:20:44.684Z"
   },
   {
    "duration": 7,
    "start_time": "2022-10-07T09:38:45.194Z"
   },
   {
    "duration": 6,
    "start_time": "2022-10-07T09:40:24.014Z"
   },
   {
    "duration": 8,
    "start_time": "2022-10-07T09:41:50.619Z"
   },
   {
    "duration": 8,
    "start_time": "2022-10-07T09:42:28.452Z"
   },
   {
    "duration": 7,
    "start_time": "2022-10-07T09:42:35.503Z"
   },
   {
    "duration": 5,
    "start_time": "2022-10-07T09:43:08.892Z"
   },
   {
    "duration": 5,
    "start_time": "2022-10-07T09:44:58.325Z"
   },
   {
    "duration": 7,
    "start_time": "2022-10-07T09:45:06.507Z"
   },
   {
    "duration": 7,
    "start_time": "2022-10-07T09:45:14.109Z"
   },
   {
    "duration": 5,
    "start_time": "2022-10-07T09:45:35.115Z"
   },
   {
    "duration": 6,
    "start_time": "2022-10-07T09:45:35.267Z"
   },
   {
    "duration": 6,
    "start_time": "2022-10-07T09:45:35.391Z"
   },
   {
    "duration": 6,
    "start_time": "2022-10-07T09:45:35.522Z"
   },
   {
    "duration": 6,
    "start_time": "2022-10-07T09:45:35.679Z"
   },
   {
    "duration": 5,
    "start_time": "2022-10-07T09:45:35.967Z"
   },
   {
    "duration": 6,
    "start_time": "2022-10-07T09:45:36.075Z"
   },
   {
    "duration": 6,
    "start_time": "2022-10-07T09:45:36.198Z"
   },
   {
    "duration": 6,
    "start_time": "2022-10-07T09:47:10.972Z"
   },
   {
    "duration": 6,
    "start_time": "2022-10-07T09:47:12.266Z"
   },
   {
    "duration": 5,
    "start_time": "2022-10-07T09:47:23.791Z"
   },
   {
    "duration": 228,
    "start_time": "2022-10-07T09:47:24.652Z"
   },
   {
    "duration": 6,
    "start_time": "2022-10-07T09:47:33.236Z"
   },
   {
    "duration": 11,
    "start_time": "2022-10-07T09:47:35.876Z"
   },
   {
    "duration": 6,
    "start_time": "2022-10-07T09:47:50.410Z"
   },
   {
    "duration": 5,
    "start_time": "2022-10-07T09:50:05.637Z"
   },
   {
    "duration": 8,
    "start_time": "2022-10-07T09:50:20.614Z"
   },
   {
    "duration": 6,
    "start_time": "2022-10-07T09:50:31.338Z"
   },
   {
    "duration": 4,
    "start_time": "2022-10-07T09:50:43.845Z"
   },
   {
    "duration": 4,
    "start_time": "2022-10-07T09:51:11.204Z"
   },
   {
    "duration": 5,
    "start_time": "2022-10-07T09:51:25.571Z"
   },
   {
    "duration": 6,
    "start_time": "2022-10-07T09:51:29.721Z"
   },
   {
    "duration": 6,
    "start_time": "2022-10-07T09:52:37.365Z"
   },
   {
    "duration": 6,
    "start_time": "2022-10-07T09:52:43.474Z"
   },
   {
    "duration": 6,
    "start_time": "2022-10-07T09:52:48.427Z"
   },
   {
    "duration": 5,
    "start_time": "2022-10-07T09:53:00.208Z"
   },
   {
    "duration": 5,
    "start_time": "2022-10-07T09:53:01.075Z"
   },
   {
    "duration": 5,
    "start_time": "2022-10-07T09:53:01.202Z"
   },
   {
    "duration": 5,
    "start_time": "2022-10-07T09:53:01.311Z"
   },
   {
    "duration": 13,
    "start_time": "2022-10-07T09:53:14.916Z"
   },
   {
    "duration": 217,
    "start_time": "2022-10-07T09:53:54.185Z"
   },
   {
    "duration": 9,
    "start_time": "2022-10-07T09:54:13.134Z"
   },
   {
    "duration": 137,
    "start_time": "2022-10-07T10:22:24.146Z"
   },
   {
    "duration": 13,
    "start_time": "2022-10-07T10:22:24.285Z"
   },
   {
    "duration": 1804,
    "start_time": "2022-10-07T10:22:24.308Z"
   },
   {
    "duration": 9,
    "start_time": "2022-10-07T10:22:26.113Z"
   },
   {
    "duration": 11,
    "start_time": "2022-10-07T10:22:26.123Z"
   },
   {
    "duration": 10,
    "start_time": "2022-10-07T10:22:26.136Z"
   },
   {
    "duration": 21,
    "start_time": "2022-10-07T10:22:26.147Z"
   },
   {
    "duration": 50,
    "start_time": "2022-10-07T10:22:26.169Z"
   },
   {
    "duration": 38,
    "start_time": "2022-10-07T10:22:26.221Z"
   },
   {
    "duration": 9,
    "start_time": "2022-10-07T10:22:26.261Z"
   },
   {
    "duration": 9,
    "start_time": "2022-10-07T10:22:59.673Z"
   },
   {
    "duration": 11,
    "start_time": "2022-10-07T10:23:02.694Z"
   },
   {
    "duration": 10,
    "start_time": "2022-10-07T10:23:04.091Z"
   },
   {
    "duration": 9,
    "start_time": "2022-10-07T10:23:05.953Z"
   },
   {
    "duration": 18,
    "start_time": "2022-10-07T10:23:23.533Z"
   },
   {
    "duration": 12,
    "start_time": "2022-10-07T10:25:10.992Z"
   },
   {
    "duration": 11,
    "start_time": "2022-10-07T10:25:15.284Z"
   },
   {
    "duration": 46,
    "start_time": "2022-10-07T10:25:29.250Z"
   },
   {
    "duration": 20,
    "start_time": "2022-10-07T10:26:03.907Z"
   },
   {
    "duration": 126,
    "start_time": "2022-10-07T10:26:08.388Z"
   },
   {
    "duration": 21,
    "start_time": "2022-10-07T10:26:08.516Z"
   },
   {
    "duration": 745,
    "start_time": "2022-10-07T11:56:26.795Z"
   },
   {
    "duration": 14,
    "start_time": "2022-10-07T11:56:27.542Z"
   },
   {
    "duration": 2347,
    "start_time": "2022-10-07T11:56:27.557Z"
   },
   {
    "duration": 13,
    "start_time": "2022-10-07T11:56:29.906Z"
   },
   {
    "duration": 12,
    "start_time": "2022-10-07T11:56:29.921Z"
   },
   {
    "duration": 12,
    "start_time": "2022-10-07T11:56:29.934Z"
   },
   {
    "duration": 20,
    "start_time": "2022-10-07T11:56:29.947Z"
   },
   {
    "duration": 31,
    "start_time": "2022-10-07T11:56:29.968Z"
   },
   {
    "duration": 44,
    "start_time": "2022-10-07T11:56:30.000Z"
   },
   {
    "duration": 9,
    "start_time": "2022-10-07T11:56:30.045Z"
   },
   {
    "duration": 1275,
    "start_time": "2022-10-07T11:58:38.150Z"
   },
   {
    "duration": 13,
    "start_time": "2022-10-07T11:58:47.160Z"
   },
   {
    "duration": 765,
    "start_time": "2022-10-07T11:59:21.265Z"
   },
   {
    "duration": 14,
    "start_time": "2022-10-07T11:59:24.417Z"
   },
   {
    "duration": 10,
    "start_time": "2022-10-07T11:59:31.024Z"
   },
   {
    "duration": 17,
    "start_time": "2022-10-07T11:59:53.440Z"
   },
   {
    "duration": 15,
    "start_time": "2022-10-07T12:00:32.639Z"
   },
   {
    "duration": 18,
    "start_time": "2022-10-07T12:02:00.815Z"
   },
   {
    "duration": 21,
    "start_time": "2022-10-07T12:02:38.609Z"
   },
   {
    "duration": 10,
    "start_time": "2022-10-07T12:07:36.573Z"
   },
   {
    "duration": 9,
    "start_time": "2022-10-07T12:08:18.658Z"
   },
   {
    "duration": 11,
    "start_time": "2022-10-07T12:09:12.790Z"
   },
   {
    "duration": 10,
    "start_time": "2022-10-07T12:10:28.321Z"
   },
   {
    "duration": 11,
    "start_time": "2022-10-07T12:11:50.617Z"
   },
   {
    "duration": 42,
    "start_time": "2022-10-07T12:13:09.705Z"
   },
   {
    "duration": 15,
    "start_time": "2022-10-07T12:13:54.332Z"
   },
   {
    "duration": 25,
    "start_time": "2022-10-07T12:14:35.001Z"
   },
   {
    "duration": 23,
    "start_time": "2022-10-07T12:16:51.168Z"
   },
   {
    "duration": 12,
    "start_time": "2022-10-07T12:17:15.044Z"
   },
   {
    "duration": 27,
    "start_time": "2022-10-07T12:17:43.213Z"
   },
   {
    "duration": 52,
    "start_time": "2022-10-07T12:33:42.855Z"
   },
   {
    "duration": 14,
    "start_time": "2022-10-07T12:33:53.457Z"
   },
   {
    "duration": 14,
    "start_time": "2022-10-07T12:34:02.876Z"
   },
   {
    "duration": 23,
    "start_time": "2022-10-07T12:34:15.268Z"
   },
   {
    "duration": 14,
    "start_time": "2022-10-07T12:34:22.441Z"
   },
   {
    "duration": 18,
    "start_time": "2022-10-07T12:34:25.854Z"
   },
   {
    "duration": 10,
    "start_time": "2022-10-07T12:35:13.854Z"
   },
   {
    "duration": 914,
    "start_time": "2022-10-07T12:35:21.574Z"
   },
   {
    "duration": 25,
    "start_time": "2022-10-07T12:35:28.501Z"
   },
   {
    "duration": 14,
    "start_time": "2022-10-07T12:35:59.416Z"
   },
   {
    "duration": 14,
    "start_time": "2022-10-07T12:36:02.028Z"
   },
   {
    "duration": 20,
    "start_time": "2022-10-07T12:36:07.135Z"
   },
   {
    "duration": 15,
    "start_time": "2022-10-07T12:36:15.649Z"
   },
   {
    "duration": 19,
    "start_time": "2022-10-07T12:36:21.735Z"
   },
   {
    "duration": 18,
    "start_time": "2022-10-07T12:36:33.075Z"
   },
   {
    "duration": 15,
    "start_time": "2022-10-07T12:36:38.695Z"
   },
   {
    "duration": 131,
    "start_time": "2022-10-07T12:37:03.293Z"
   },
   {
    "duration": 13,
    "start_time": "2022-10-07T12:37:03.426Z"
   },
   {
    "duration": 2081,
    "start_time": "2022-10-07T12:37:03.441Z"
   },
   {
    "duration": 9,
    "start_time": "2022-10-07T12:37:05.524Z"
   },
   {
    "duration": 41,
    "start_time": "2022-10-07T12:37:05.534Z"
   },
   {
    "duration": 17,
    "start_time": "2022-10-07T12:37:05.577Z"
   },
   {
    "duration": 23,
    "start_time": "2022-10-07T12:37:05.596Z"
   },
   {
    "duration": 35,
    "start_time": "2022-10-07T12:37:05.620Z"
   },
   {
    "duration": 63,
    "start_time": "2022-10-07T12:37:05.657Z"
   },
   {
    "duration": 29,
    "start_time": "2022-10-07T12:37:05.722Z"
   },
   {
    "duration": 4,
    "start_time": "2022-10-07T12:58:19.788Z"
   },
   {
    "duration": 8,
    "start_time": "2022-10-07T12:58:54.193Z"
   },
   {
    "duration": 11,
    "start_time": "2022-10-07T12:59:01.109Z"
   },
   {
    "duration": 7,
    "start_time": "2022-10-07T13:11:16.811Z"
   },
   {
    "duration": 120,
    "start_time": "2022-10-07T13:20:04.752Z"
   },
   {
    "duration": 14,
    "start_time": "2022-10-07T13:20:04.873Z"
   },
   {
    "duration": 2102,
    "start_time": "2022-10-07T13:20:04.889Z"
   },
   {
    "duration": 13,
    "start_time": "2022-10-07T13:20:06.994Z"
   },
   {
    "duration": 32,
    "start_time": "2022-10-07T13:20:07.010Z"
   },
   {
    "duration": 50,
    "start_time": "2022-10-07T13:20:07.044Z"
   },
   {
    "duration": 33,
    "start_time": "2022-10-07T13:20:07.096Z"
   },
   {
    "duration": 42,
    "start_time": "2022-10-07T13:20:07.131Z"
   },
   {
    "duration": 40,
    "start_time": "2022-10-07T13:20:07.175Z"
   },
   {
    "duration": 2,
    "start_time": "2022-10-07T13:20:07.217Z"
   },
   {
    "duration": 24,
    "start_time": "2022-10-07T13:20:07.221Z"
   },
   {
    "duration": 63,
    "start_time": "2022-10-07T13:20:56.671Z"
   },
   {
    "duration": 43,
    "start_time": "2022-10-07T13:30:04.223Z"
   },
   {
    "duration": 6,
    "start_time": "2022-10-07T13:40:56.308Z"
   },
   {
    "duration": 7,
    "start_time": "2022-10-07T13:41:13.214Z"
   },
   {
    "duration": 12,
    "start_time": "2022-10-07T13:41:26.383Z"
   },
   {
    "duration": 8,
    "start_time": "2022-10-07T13:41:31.520Z"
   },
   {
    "duration": 48,
    "start_time": "2022-10-07T13:41:37.984Z"
   },
   {
    "duration": 6,
    "start_time": "2022-10-07T13:41:40.274Z"
   },
   {
    "duration": 8,
    "start_time": "2022-10-07T13:41:54.778Z"
   },
   {
    "duration": 5,
    "start_time": "2022-10-07T13:43:16.081Z"
   },
   {
    "duration": 6,
    "start_time": "2022-10-07T13:43:17.637Z"
   },
   {
    "duration": 7,
    "start_time": "2022-10-07T13:43:41.958Z"
   },
   {
    "duration": 7,
    "start_time": "2022-10-07T13:43:51.387Z"
   },
   {
    "duration": 7,
    "start_time": "2022-10-07T13:45:26.598Z"
   },
   {
    "duration": 7,
    "start_time": "2022-10-07T13:45:52.296Z"
   },
   {
    "duration": 8,
    "start_time": "2022-10-07T13:46:17.448Z"
   },
   {
    "duration": 9,
    "start_time": "2022-10-07T13:46:46.831Z"
   },
   {
    "duration": 6,
    "start_time": "2022-10-07T13:48:14.073Z"
   },
   {
    "duration": 8,
    "start_time": "2022-10-07T13:48:33.933Z"
   },
   {
    "duration": 7,
    "start_time": "2022-10-07T13:51:00.348Z"
   },
   {
    "duration": 7,
    "start_time": "2022-10-07T13:51:26.184Z"
   },
   {
    "duration": 7,
    "start_time": "2022-10-07T13:51:43.410Z"
   },
   {
    "duration": 7,
    "start_time": "2022-10-07T13:52:03.126Z"
   },
   {
    "duration": 6,
    "start_time": "2022-10-07T13:52:21.784Z"
   },
   {
    "duration": 9,
    "start_time": "2022-10-07T13:52:23.383Z"
   },
   {
    "duration": 51,
    "start_time": "2022-10-10T12:47:29.675Z"
   },
   {
    "duration": 5,
    "start_time": "2022-10-10T12:47:46.622Z"
   },
   {
    "duration": 699,
    "start_time": "2022-10-10T12:47:53.070Z"
   },
   {
    "duration": 14,
    "start_time": "2022-10-10T12:47:53.770Z"
   },
   {
    "duration": 2156,
    "start_time": "2022-10-10T12:47:53.785Z"
   },
   {
    "duration": 9,
    "start_time": "2022-10-10T12:47:55.942Z"
   },
   {
    "duration": 19,
    "start_time": "2022-10-10T12:47:55.952Z"
   },
   {
    "duration": 15,
    "start_time": "2022-10-10T12:47:55.972Z"
   },
   {
    "duration": 33,
    "start_time": "2022-10-10T12:47:55.988Z"
   },
   {
    "duration": 42,
    "start_time": "2022-10-10T12:47:56.023Z"
   },
   {
    "duration": 48,
    "start_time": "2022-10-10T12:47:56.067Z"
   },
   {
    "duration": 6,
    "start_time": "2022-10-10T12:47:56.116Z"
   },
   {
    "duration": 18,
    "start_time": "2022-10-10T12:47:56.123Z"
   },
   {
    "duration": 9,
    "start_time": "2022-10-10T12:47:56.143Z"
   },
   {
    "duration": 12,
    "start_time": "2022-10-10T12:47:56.153Z"
   },
   {
    "duration": 13,
    "start_time": "2022-10-10T12:47:56.168Z"
   },
   {
    "duration": 42,
    "start_time": "2022-10-10T12:47:56.182Z"
   },
   {
    "duration": 0,
    "start_time": "2022-10-10T12:47:56.225Z"
   },
   {
    "duration": 0,
    "start_time": "2022-10-10T12:47:56.226Z"
   },
   {
    "duration": 0,
    "start_time": "2022-10-10T12:47:56.227Z"
   },
   {
    "duration": 0,
    "start_time": "2022-10-10T12:47:56.229Z"
   },
   {
    "duration": 0,
    "start_time": "2022-10-10T12:47:56.229Z"
   },
   {
    "duration": 0,
    "start_time": "2022-10-10T12:47:56.230Z"
   },
   {
    "duration": 0,
    "start_time": "2022-10-10T12:47:56.231Z"
   },
   {
    "duration": 0,
    "start_time": "2022-10-10T12:47:56.232Z"
   },
   {
    "duration": 0,
    "start_time": "2022-10-10T12:47:56.233Z"
   },
   {
    "duration": 0,
    "start_time": "2022-10-10T12:47:56.234Z"
   },
   {
    "duration": 9,
    "start_time": "2022-10-10T12:48:22.980Z"
   },
   {
    "duration": 4,
    "start_time": "2022-10-10T12:53:52.506Z"
   },
   {
    "duration": 36,
    "start_time": "2022-10-10T12:53:56.396Z"
   },
   {
    "duration": 1040,
    "start_time": "2022-10-10T12:54:54.715Z"
   },
   {
    "duration": 14,
    "start_time": "2022-10-10T12:55:28.207Z"
   },
   {
    "duration": 25,
    "start_time": "2022-10-10T12:55:42.143Z"
   },
   {
    "duration": 18,
    "start_time": "2022-10-10T12:56:04.614Z"
   },
   {
    "duration": 42,
    "start_time": "2022-10-10T12:56:16.281Z"
   },
   {
    "duration": 6,
    "start_time": "2022-10-10T12:56:28.745Z"
   },
   {
    "duration": 40,
    "start_time": "2022-10-10T12:56:31.676Z"
   },
   {
    "duration": 45,
    "start_time": "2022-10-10T12:56:50.919Z"
   },
   {
    "duration": 144,
    "start_time": "2022-10-10T12:57:23.812Z"
   },
   {
    "duration": 13,
    "start_time": "2022-10-10T12:57:23.957Z"
   },
   {
    "duration": 1861,
    "start_time": "2022-10-10T12:57:23.972Z"
   },
   {
    "duration": 8,
    "start_time": "2022-10-10T12:57:25.835Z"
   },
   {
    "duration": 10,
    "start_time": "2022-10-10T12:57:25.845Z"
   },
   {
    "duration": 12,
    "start_time": "2022-10-10T12:57:25.856Z"
   },
   {
    "duration": 18,
    "start_time": "2022-10-10T12:57:25.869Z"
   },
   {
    "duration": 56,
    "start_time": "2022-10-10T12:57:25.888Z"
   },
   {
    "duration": 39,
    "start_time": "2022-10-10T12:57:25.945Z"
   },
   {
    "duration": 25,
    "start_time": "2022-10-10T12:57:25.987Z"
   },
   {
    "duration": 8,
    "start_time": "2022-10-10T12:57:26.014Z"
   },
   {
    "duration": 22,
    "start_time": "2022-10-10T12:57:26.024Z"
   },
   {
    "duration": 31,
    "start_time": "2022-10-10T12:57:26.047Z"
   },
   {
    "duration": 11,
    "start_time": "2022-10-10T12:57:26.079Z"
   },
   {
    "duration": 8,
    "start_time": "2022-10-10T12:57:26.092Z"
   },
   {
    "duration": 0,
    "start_time": "2022-10-10T12:57:26.101Z"
   },
   {
    "duration": 0,
    "start_time": "2022-10-10T12:57:26.103Z"
   },
   {
    "duration": 0,
    "start_time": "2022-10-10T12:57:26.104Z"
   },
   {
    "duration": 0,
    "start_time": "2022-10-10T12:57:26.105Z"
   },
   {
    "duration": 0,
    "start_time": "2022-10-10T12:57:26.106Z"
   },
   {
    "duration": 0,
    "start_time": "2022-10-10T12:57:26.107Z"
   },
   {
    "duration": 0,
    "start_time": "2022-10-10T12:57:26.108Z"
   },
   {
    "duration": 0,
    "start_time": "2022-10-10T12:57:26.109Z"
   },
   {
    "duration": 0,
    "start_time": "2022-10-10T12:57:26.110Z"
   },
   {
    "duration": 0,
    "start_time": "2022-10-10T12:57:26.111Z"
   },
   {
    "duration": 3,
    "start_time": "2022-10-10T12:57:44.090Z"
   },
   {
    "duration": 3,
    "start_time": "2022-10-10T12:57:47.607Z"
   },
   {
    "duration": 121,
    "start_time": "2022-10-10T12:57:50.922Z"
   },
   {
    "duration": 13,
    "start_time": "2022-10-10T12:57:51.045Z"
   },
   {
    "duration": 1914,
    "start_time": "2022-10-10T12:57:51.059Z"
   },
   {
    "duration": 8,
    "start_time": "2022-10-10T12:57:52.975Z"
   },
   {
    "duration": 23,
    "start_time": "2022-10-10T12:57:52.986Z"
   },
   {
    "duration": 43,
    "start_time": "2022-10-10T12:57:53.011Z"
   },
   {
    "duration": 40,
    "start_time": "2022-10-10T12:57:53.056Z"
   },
   {
    "duration": 59,
    "start_time": "2022-10-10T12:57:53.097Z"
   },
   {
    "duration": 43,
    "start_time": "2022-10-10T12:57:53.157Z"
   },
   {
    "duration": 7,
    "start_time": "2022-10-10T12:57:53.201Z"
   },
   {
    "duration": 40,
    "start_time": "2022-10-10T12:57:53.210Z"
   },
   {
    "duration": 30,
    "start_time": "2022-10-10T12:57:53.251Z"
   },
   {
    "duration": 29,
    "start_time": "2022-10-10T12:57:53.283Z"
   },
   {
    "duration": 29,
    "start_time": "2022-10-10T12:57:53.314Z"
   },
   {
    "duration": 25,
    "start_time": "2022-10-10T12:57:53.344Z"
   },
   {
    "duration": 34,
    "start_time": "2022-10-10T12:57:53.371Z"
   },
   {
    "duration": 35,
    "start_time": "2022-10-10T12:57:53.406Z"
   },
   {
    "duration": 29,
    "start_time": "2022-10-10T12:57:53.443Z"
   },
   {
    "duration": 20,
    "start_time": "2022-10-10T12:57:53.474Z"
   },
   {
    "duration": 40,
    "start_time": "2022-10-10T12:57:53.495Z"
   },
   {
    "duration": 38,
    "start_time": "2022-10-10T12:57:53.537Z"
   },
   {
    "duration": 37,
    "start_time": "2022-10-10T12:57:53.576Z"
   },
   {
    "duration": 85,
    "start_time": "2022-10-10T12:57:53.614Z"
   },
   {
    "duration": 65,
    "start_time": "2022-10-10T12:57:53.700Z"
   },
   {
    "duration": 2,
    "start_time": "2022-10-10T12:57:53.767Z"
   },
   {
    "duration": 24,
    "start_time": "2022-10-10T12:59:54.368Z"
   },
   {
    "duration": 15,
    "start_time": "2022-10-10T13:05:10.131Z"
   },
   {
    "duration": 14,
    "start_time": "2022-10-10T13:05:24.501Z"
   },
   {
    "duration": 27,
    "start_time": "2022-10-10T13:11:12.872Z"
   },
   {
    "duration": 14,
    "start_time": "2022-10-10T13:11:26.868Z"
   },
   {
    "duration": 14,
    "start_time": "2022-10-10T13:11:30.124Z"
   },
   {
    "duration": 21,
    "start_time": "2022-10-10T13:43:52.342Z"
   },
   {
    "duration": 15,
    "start_time": "2022-10-10T13:44:02.760Z"
   },
   {
    "duration": 15,
    "start_time": "2022-10-10T13:44:43.435Z"
   },
   {
    "duration": 25,
    "start_time": "2022-10-10T13:45:09.995Z"
   },
   {
    "duration": 795,
    "start_time": "2022-10-24T08:16:54.087Z"
   },
   {
    "duration": 14,
    "start_time": "2022-10-24T08:16:54.884Z"
   },
   {
    "duration": 2401,
    "start_time": "2022-10-24T08:16:54.899Z"
   },
   {
    "duration": 11,
    "start_time": "2022-10-24T08:16:57.302Z"
   },
   {
    "duration": 8,
    "start_time": "2022-10-24T08:16:57.315Z"
   },
   {
    "duration": 12,
    "start_time": "2022-10-24T08:16:57.324Z"
   },
   {
    "duration": 18,
    "start_time": "2022-10-24T08:16:57.338Z"
   },
   {
    "duration": 70,
    "start_time": "2022-10-24T08:16:57.358Z"
   },
   {
    "duration": 46,
    "start_time": "2022-10-24T08:16:57.430Z"
   },
   {
    "duration": 9,
    "start_time": "2022-10-24T08:16:57.477Z"
   },
   {
    "duration": 7,
    "start_time": "2022-10-24T08:16:57.487Z"
   },
   {
    "duration": 6,
    "start_time": "2022-10-24T08:16:57.522Z"
   },
   {
    "duration": 8,
    "start_time": "2022-10-24T08:16:57.529Z"
   },
   {
    "duration": 8,
    "start_time": "2022-10-24T08:16:57.540Z"
   },
   {
    "duration": 13,
    "start_time": "2022-10-24T08:16:57.550Z"
   },
   {
    "duration": 11,
    "start_time": "2022-10-24T08:16:57.565Z"
   },
   {
    "duration": 7,
    "start_time": "2022-10-24T08:16:57.578Z"
   },
   {
    "duration": 11,
    "start_time": "2022-10-24T08:16:57.586Z"
   },
   {
    "duration": 6,
    "start_time": "2022-10-24T08:16:57.621Z"
   },
   {
    "duration": 5,
    "start_time": "2022-10-24T08:16:57.629Z"
   },
   {
    "duration": 5,
    "start_time": "2022-10-24T08:16:57.636Z"
   },
   {
    "duration": 9,
    "start_time": "2022-10-24T08:16:57.642Z"
   },
   {
    "duration": 7,
    "start_time": "2022-10-24T08:16:57.652Z"
   },
   {
    "duration": 68,
    "start_time": "2022-10-24T08:16:57.660Z"
   },
   {
    "duration": 3,
    "start_time": "2022-10-24T08:16:57.730Z"
   },
   {
    "duration": 63,
    "start_time": "2022-10-24T08:36:20.578Z"
   },
   {
    "duration": 8,
    "start_time": "2022-10-24T08:36:27.813Z"
   },
   {
    "duration": 119,
    "start_time": "2022-10-24T08:36:45.078Z"
   },
   {
    "duration": 13,
    "start_time": "2022-10-24T08:36:45.199Z"
   },
   {
    "duration": 1872,
    "start_time": "2022-10-24T08:36:45.221Z"
   },
   {
    "duration": 8,
    "start_time": "2022-10-24T08:36:47.094Z"
   },
   {
    "duration": 43,
    "start_time": "2022-10-24T08:36:47.104Z"
   },
   {
    "duration": 8,
    "start_time": "2022-10-24T08:36:47.148Z"
   },
   {
    "duration": 19,
    "start_time": "2022-10-24T08:36:47.157Z"
   },
   {
    "duration": 36,
    "start_time": "2022-10-24T08:36:47.178Z"
   },
   {
    "duration": 36,
    "start_time": "2022-10-24T08:36:47.215Z"
   },
   {
    "duration": 5,
    "start_time": "2022-10-24T08:36:47.253Z"
   },
   {
    "duration": 5,
    "start_time": "2022-10-24T08:36:47.259Z"
   },
   {
    "duration": 7,
    "start_time": "2022-10-24T08:36:47.265Z"
   },
   {
    "duration": 7,
    "start_time": "2022-10-24T08:36:47.274Z"
   },
   {
    "duration": 5,
    "start_time": "2022-10-24T08:36:47.284Z"
   },
   {
    "duration": 7,
    "start_time": "2022-10-24T08:36:47.290Z"
   },
   {
    "duration": 8,
    "start_time": "2022-10-24T08:36:47.321Z"
   },
   {
    "duration": 6,
    "start_time": "2022-10-24T08:36:47.331Z"
   },
   {
    "duration": 7,
    "start_time": "2022-10-24T08:36:47.338Z"
   },
   {
    "duration": 7,
    "start_time": "2022-10-24T08:36:47.347Z"
   },
   {
    "duration": 6,
    "start_time": "2022-10-24T08:36:47.356Z"
   },
   {
    "duration": 6,
    "start_time": "2022-10-24T08:36:47.364Z"
   },
   {
    "duration": 5,
    "start_time": "2022-10-24T08:36:47.372Z"
   },
   {
    "duration": 47,
    "start_time": "2022-10-24T08:36:47.379Z"
   },
   {
    "duration": 23,
    "start_time": "2022-10-24T08:36:47.428Z"
   },
   {
    "duration": 2,
    "start_time": "2022-10-24T08:36:47.453Z"
   },
   {
    "duration": 6,
    "start_time": "2022-10-24T08:37:25.844Z"
   },
   {
    "duration": 11,
    "start_time": "2022-10-24T08:37:43.652Z"
   },
   {
    "duration": 12,
    "start_time": "2022-10-24T08:38:08.505Z"
   },
   {
    "duration": 119,
    "start_time": "2022-10-24T08:38:25.365Z"
   },
   {
    "duration": 12,
    "start_time": "2022-10-24T08:38:25.485Z"
   },
   {
    "duration": 1980,
    "start_time": "2022-10-24T08:38:25.498Z"
   },
   {
    "duration": 10,
    "start_time": "2022-10-24T08:38:27.480Z"
   },
   {
    "duration": 10,
    "start_time": "2022-10-24T08:38:27.491Z"
   },
   {
    "duration": 21,
    "start_time": "2022-10-24T08:38:27.503Z"
   },
   {
    "duration": 9,
    "start_time": "2022-10-24T08:38:27.526Z"
   },
   {
    "duration": 19,
    "start_time": "2022-10-24T08:38:27.537Z"
   },
   {
    "duration": 68,
    "start_time": "2022-10-24T08:38:27.558Z"
   },
   {
    "duration": 40,
    "start_time": "2022-10-24T08:38:27.630Z"
   },
   {
    "duration": 7,
    "start_time": "2022-10-24T08:38:27.672Z"
   },
   {
    "duration": 7,
    "start_time": "2022-10-24T08:38:27.681Z"
   },
   {
    "duration": 37,
    "start_time": "2022-10-24T08:38:27.690Z"
   },
   {
    "duration": 7,
    "start_time": "2022-10-24T08:38:27.729Z"
   },
   {
    "duration": 9,
    "start_time": "2022-10-24T08:38:27.738Z"
   },
   {
    "duration": 2,
    "start_time": "2022-10-24T08:38:27.749Z"
   },
   {
    "duration": 9,
    "start_time": "2022-10-24T08:38:27.753Z"
   },
   {
    "duration": 7,
    "start_time": "2022-10-24T08:38:27.764Z"
   },
   {
    "duration": 55,
    "start_time": "2022-10-24T08:38:27.773Z"
   },
   {
    "duration": 8,
    "start_time": "2022-10-24T08:38:27.829Z"
   },
   {
    "duration": 8,
    "start_time": "2022-10-24T08:38:27.839Z"
   },
   {
    "duration": 8,
    "start_time": "2022-10-24T08:38:27.849Z"
   },
   {
    "duration": 8,
    "start_time": "2022-10-24T08:38:27.859Z"
   },
   {
    "duration": 54,
    "start_time": "2022-10-24T08:38:27.869Z"
   },
   {
    "duration": 30,
    "start_time": "2022-10-24T08:38:27.924Z"
   },
   {
    "duration": 3,
    "start_time": "2022-10-24T08:38:27.955Z"
   },
   {
    "duration": 9,
    "start_time": "2022-10-24T08:41:33.038Z"
   },
   {
    "duration": 50,
    "start_time": "2022-10-24T08:42:14.216Z"
   },
   {
    "duration": 570,
    "start_time": "2022-10-24T08:44:08.888Z"
   },
   {
    "duration": 115,
    "start_time": "2022-10-24T08:44:13.921Z"
   },
   {
    "duration": 113,
    "start_time": "2022-10-24T08:44:15.515Z"
   },
   {
    "duration": 127,
    "start_time": "2022-10-24T08:44:17.268Z"
   },
   {
    "duration": 12,
    "start_time": "2022-10-24T08:44:17.397Z"
   },
   {
    "duration": 2123,
    "start_time": "2022-10-24T08:44:17.410Z"
   },
   {
    "duration": 7,
    "start_time": "2022-10-24T08:44:19.535Z"
   },
   {
    "duration": 7,
    "start_time": "2022-10-24T08:44:19.544Z"
   },
   {
    "duration": 8,
    "start_time": "2022-10-24T08:44:19.552Z"
   },
   {
    "duration": 7,
    "start_time": "2022-10-24T08:46:05.306Z"
   },
   {
    "duration": 116,
    "start_time": "2022-10-24T08:46:20.033Z"
   },
   {
    "duration": 12,
    "start_time": "2022-10-24T08:46:20.150Z"
   },
   {
    "duration": 2075,
    "start_time": "2022-10-24T08:46:20.164Z"
   },
   {
    "duration": 9,
    "start_time": "2022-10-24T08:46:22.241Z"
   },
   {
    "duration": 10,
    "start_time": "2022-10-24T08:46:22.252Z"
   },
   {
    "duration": 20,
    "start_time": "2022-10-24T08:46:22.263Z"
   },
   {
    "duration": 8,
    "start_time": "2022-10-24T08:46:53.824Z"
   },
   {
    "duration": 9,
    "start_time": "2022-10-24T08:47:26.877Z"
   },
   {
    "duration": 9,
    "start_time": "2022-10-24T08:47:35.350Z"
   },
   {
    "duration": 38,
    "start_time": "2022-10-24T08:49:40.639Z"
   },
   {
    "duration": 7,
    "start_time": "2022-10-24T08:49:51.509Z"
   },
   {
    "duration": 7,
    "start_time": "2022-10-24T08:53:01.482Z"
   },
   {
    "duration": 8,
    "start_time": "2022-10-24T08:54:11.342Z"
   },
   {
    "duration": 41,
    "start_time": "2022-10-24T08:55:34.059Z"
   },
   {
    "duration": 5,
    "start_time": "2022-10-24T08:57:37.369Z"
   },
   {
    "duration": 8,
    "start_time": "2022-10-24T08:58:24.583Z"
   },
   {
    "duration": 11,
    "start_time": "2022-10-24T08:58:37.520Z"
   },
   {
    "duration": 10,
    "start_time": "2022-10-24T08:59:08.075Z"
   },
   {
    "duration": 8,
    "start_time": "2022-10-24T08:59:41.302Z"
   },
   {
    "duration": 70,
    "start_time": "2022-10-24T09:04:08.804Z"
   },
   {
    "duration": 75,
    "start_time": "2022-10-24T09:04:39.996Z"
   },
   {
    "duration": 80,
    "start_time": "2022-10-24T09:12:00.032Z"
   },
   {
    "duration": 10,
    "start_time": "2022-10-24T09:12:04.813Z"
   },
   {
    "duration": 10,
    "start_time": "2022-10-24T09:18:10.105Z"
   },
   {
    "duration": 18,
    "start_time": "2022-10-24T09:18:16.876Z"
   },
   {
    "duration": 39,
    "start_time": "2022-10-24T09:20:09.382Z"
   },
   {
    "duration": 18,
    "start_time": "2022-10-24T09:24:24.631Z"
   },
   {
    "duration": 21,
    "start_time": "2022-10-24T09:24:41.607Z"
   },
   {
    "duration": 21,
    "start_time": "2022-10-24T09:25:14.622Z"
   },
   {
    "duration": 29,
    "start_time": "2022-10-24T09:25:27.056Z"
   },
   {
    "duration": 27,
    "start_time": "2022-10-24T09:25:31.820Z"
   },
   {
    "duration": 78,
    "start_time": "2022-10-24T09:25:54.912Z"
   },
   {
    "duration": 89,
    "start_time": "2022-10-24T09:25:59.170Z"
   },
   {
    "duration": 28,
    "start_time": "2022-10-24T09:26:05.775Z"
   },
   {
    "duration": 20,
    "start_time": "2022-10-24T09:26:22.130Z"
   },
   {
    "duration": 16,
    "start_time": "2022-10-24T09:28:03.355Z"
   },
   {
    "duration": 7,
    "start_time": "2022-10-24T09:28:05.026Z"
   },
   {
    "duration": 20,
    "start_time": "2022-10-24T09:28:40.761Z"
   },
   {
    "duration": 117,
    "start_time": "2022-10-24T09:28:47.874Z"
   },
   {
    "duration": 14,
    "start_time": "2022-10-24T09:28:47.993Z"
   },
   {
    "duration": 2054,
    "start_time": "2022-10-24T09:28:48.009Z"
   },
   {
    "duration": 10,
    "start_time": "2022-10-24T09:28:50.065Z"
   },
   {
    "duration": 7,
    "start_time": "2022-10-24T09:28:50.078Z"
   },
   {
    "duration": 8,
    "start_time": "2022-10-24T09:28:50.087Z"
   },
   {
    "duration": 52,
    "start_time": "2022-10-24T09:28:50.122Z"
   },
   {
    "duration": 4,
    "start_time": "2022-10-24T09:28:50.176Z"
   },
   {
    "duration": 17,
    "start_time": "2022-10-24T09:28:50.182Z"
   },
   {
    "duration": 9,
    "start_time": "2022-10-24T09:28:50.200Z"
   },
   {
    "duration": 17,
    "start_time": "2022-10-24T09:28:50.211Z"
   },
   {
    "duration": 9,
    "start_time": "2022-10-24T09:28:50.230Z"
   },
   {
    "duration": 18,
    "start_time": "2022-10-24T09:28:50.240Z"
   },
   {
    "duration": 17,
    "start_time": "2022-10-24T09:28:53.108Z"
   },
   {
    "duration": 11,
    "start_time": "2022-10-24T09:30:47.663Z"
   },
   {
    "duration": 20,
    "start_time": "2022-10-24T09:31:25.348Z"
   },
   {
    "duration": 8,
    "start_time": "2022-10-24T09:31:44.276Z"
   },
   {
    "duration": 14,
    "start_time": "2022-10-24T09:34:37.953Z"
   },
   {
    "duration": 14,
    "start_time": "2022-10-24T09:35:37.938Z"
   },
   {
    "duration": 7,
    "start_time": "2022-10-24T09:35:39.116Z"
   },
   {
    "duration": 15,
    "start_time": "2022-10-24T09:35:42.531Z"
   },
   {
    "duration": 65,
    "start_time": "2022-10-24T09:37:53.200Z"
   },
   {
    "duration": 8,
    "start_time": "2022-10-24T09:43:38.631Z"
   },
   {
    "duration": 10,
    "start_time": "2022-10-24T09:43:46.885Z"
   },
   {
    "duration": 4,
    "start_time": "2022-10-24T09:43:53.135Z"
   },
   {
    "duration": 4,
    "start_time": "2022-10-24T09:43:56.115Z"
   },
   {
    "duration": 8,
    "start_time": "2022-10-24T09:44:51.687Z"
   },
   {
    "duration": 11,
    "start_time": "2022-10-24T09:45:00.693Z"
   },
   {
    "duration": 11,
    "start_time": "2022-10-24T09:46:07.914Z"
   },
   {
    "duration": 14,
    "start_time": "2022-10-24T09:46:09.221Z"
   },
   {
    "duration": 24,
    "start_time": "2022-10-24T09:46:21.465Z"
   },
   {
    "duration": 25,
    "start_time": "2022-10-24T09:47:38.212Z"
   },
   {
    "duration": 37,
    "start_time": "2022-10-24T09:52:36.381Z"
   },
   {
    "duration": 9,
    "start_time": "2022-10-24T09:54:35.833Z"
   },
   {
    "duration": 4,
    "start_time": "2022-10-24T09:54:42.580Z"
   },
   {
    "duration": 9,
    "start_time": "2022-10-24T09:57:18.659Z"
   },
   {
    "duration": 8,
    "start_time": "2022-10-24T09:57:28.300Z"
   },
   {
    "duration": 131,
    "start_time": "2022-10-24T09:59:36.378Z"
   },
   {
    "duration": 19,
    "start_time": "2022-10-24T09:59:36.511Z"
   },
   {
    "duration": 2242,
    "start_time": "2022-10-24T09:59:36.532Z"
   },
   {
    "duration": 10,
    "start_time": "2022-10-24T09:59:38.776Z"
   },
   {
    "duration": 8,
    "start_time": "2022-10-24T09:59:38.789Z"
   },
   {
    "duration": 25,
    "start_time": "2022-10-24T09:59:38.799Z"
   },
   {
    "duration": 48,
    "start_time": "2022-10-24T09:59:38.825Z"
   },
   {
    "duration": 3,
    "start_time": "2022-10-24T09:59:38.875Z"
   },
   {
    "duration": 12,
    "start_time": "2022-10-24T09:59:38.880Z"
   },
   {
    "duration": 30,
    "start_time": "2022-10-24T09:59:38.893Z"
   },
   {
    "duration": 7,
    "start_time": "2022-10-24T09:59:38.924Z"
   },
   {
    "duration": 8,
    "start_time": "2022-10-24T09:59:38.932Z"
   },
   {
    "duration": 17,
    "start_time": "2022-10-24T09:59:38.941Z"
   },
   {
    "duration": 13,
    "start_time": "2022-10-24T09:59:38.960Z"
   },
   {
    "duration": 7,
    "start_time": "2022-10-24T09:59:38.974Z"
   },
   {
    "duration": 41,
    "start_time": "2022-10-24T09:59:38.982Z"
   },
   {
    "duration": 10,
    "start_time": "2022-10-24T09:59:39.025Z"
   },
   {
    "duration": 8,
    "start_time": "2022-10-24T09:59:39.036Z"
   },
   {
    "duration": 28,
    "start_time": "2022-10-24T09:59:39.045Z"
   },
   {
    "duration": 4,
    "start_time": "2022-10-24T09:59:39.074Z"
   },
   {
    "duration": 12,
    "start_time": "2022-10-24T09:59:39.079Z"
   },
   {
    "duration": 12,
    "start_time": "2022-10-24T09:59:39.093Z"
   },
   {
    "duration": 6,
    "start_time": "2022-10-24T10:01:06.136Z"
   },
   {
    "duration": 5,
    "start_time": "2022-10-24T10:01:21.753Z"
   },
   {
    "duration": 6,
    "start_time": "2022-10-24T10:01:30.180Z"
   },
   {
    "duration": 3,
    "start_time": "2022-10-24T10:04:54.965Z"
   },
   {
    "duration": 336,
    "start_time": "2022-10-24T10:04:56.505Z"
   },
   {
    "duration": 4,
    "start_time": "2022-10-24T10:05:26.802Z"
   },
   {
    "duration": 36,
    "start_time": "2022-10-24T10:05:59.147Z"
   },
   {
    "duration": 9,
    "start_time": "2022-10-24T10:10:53.078Z"
   },
   {
    "duration": 251,
    "start_time": "2022-10-24T10:11:03.168Z"
   },
   {
    "duration": 262,
    "start_time": "2022-10-24T10:11:12.523Z"
   },
   {
    "duration": 277,
    "start_time": "2022-10-24T10:11:15.793Z"
   },
   {
    "duration": 473,
    "start_time": "2022-10-24T10:11:29.735Z"
   },
   {
    "duration": 222,
    "start_time": "2022-10-24T10:11:49.899Z"
   },
   {
    "duration": 213,
    "start_time": "2022-10-24T10:14:58.387Z"
   },
   {
    "duration": 179,
    "start_time": "2022-10-24T10:15:09.877Z"
   },
   {
    "duration": 181,
    "start_time": "2022-10-24T10:15:14.357Z"
   },
   {
    "duration": 201,
    "start_time": "2022-10-24T10:15:21.050Z"
   },
   {
    "duration": 193,
    "start_time": "2022-10-24T10:15:25.806Z"
   },
   {
    "duration": 329,
    "start_time": "2022-10-24T10:15:35.857Z"
   },
   {
    "duration": 190,
    "start_time": "2022-10-24T10:16:39.517Z"
   },
   {
    "duration": 224,
    "start_time": "2022-10-24T10:16:50.943Z"
   },
   {
    "duration": 200,
    "start_time": "2022-10-24T10:17:04.142Z"
   },
   {
    "duration": 203,
    "start_time": "2022-10-24T10:18:17.842Z"
   },
   {
    "duration": 206,
    "start_time": "2022-10-24T10:18:23.639Z"
   },
   {
    "duration": 197,
    "start_time": "2022-10-24T10:18:30.414Z"
   },
   {
    "duration": 183,
    "start_time": "2022-10-24T10:22:20.048Z"
   },
   {
    "duration": 201,
    "start_time": "2022-10-24T10:22:28.133Z"
   },
   {
    "duration": 188,
    "start_time": "2022-10-24T10:22:32.049Z"
   },
   {
    "duration": 199,
    "start_time": "2022-10-24T10:22:39.199Z"
   },
   {
    "duration": 216,
    "start_time": "2022-10-24T10:22:41.130Z"
   },
   {
    "duration": 226,
    "start_time": "2022-10-24T10:22:45.712Z"
   },
   {
    "duration": 208,
    "start_time": "2022-10-24T10:22:48.731Z"
   },
   {
    "duration": 559,
    "start_time": "2022-10-24T10:23:01.893Z"
   },
   {
    "duration": 212,
    "start_time": "2022-10-24T10:23:08.849Z"
   },
   {
    "duration": 191,
    "start_time": "2022-10-24T10:26:25.109Z"
   },
   {
    "duration": 220,
    "start_time": "2022-10-24T10:26:31.546Z"
   },
   {
    "duration": 158,
    "start_time": "2022-10-24T10:26:40.027Z"
   },
   {
    "duration": 163,
    "start_time": "2022-10-24T10:26:50.751Z"
   },
   {
    "duration": 225,
    "start_time": "2022-10-24T10:27:34.941Z"
   },
   {
    "duration": 156,
    "start_time": "2022-10-24T10:27:49.375Z"
   },
   {
    "duration": 160,
    "start_time": "2022-10-24T10:28:01.191Z"
   },
   {
    "duration": 160,
    "start_time": "2022-10-24T10:28:13.959Z"
   },
   {
    "duration": 13,
    "start_time": "2022-10-24T10:29:35.875Z"
   },
   {
    "duration": 13,
    "start_time": "2022-10-24T10:29:55.005Z"
   },
   {
    "duration": 158,
    "start_time": "2022-10-24T10:30:03.564Z"
   },
   {
    "duration": 181,
    "start_time": "2022-10-24T10:30:11.848Z"
   },
   {
    "duration": 148,
    "start_time": "2022-10-24T10:30:17.920Z"
   },
   {
    "duration": 241,
    "start_time": "2022-10-24T10:30:23.843Z"
   },
   {
    "duration": 180,
    "start_time": "2022-10-24T10:30:29.572Z"
   },
   {
    "duration": 166,
    "start_time": "2022-10-24T10:31:46.952Z"
   },
   {
    "duration": 166,
    "start_time": "2022-10-24T10:32:09.791Z"
   },
   {
    "duration": 177,
    "start_time": "2022-10-24T10:32:16.960Z"
   },
   {
    "duration": 220,
    "start_time": "2022-10-24T10:32:21.689Z"
   },
   {
    "duration": 14,
    "start_time": "2022-10-24T10:53:12.993Z"
   },
   {
    "duration": 185,
    "start_time": "2022-10-24T10:54:23.912Z"
   },
   {
    "duration": 188,
    "start_time": "2022-10-24T10:56:48.897Z"
   },
   {
    "duration": 189,
    "start_time": "2022-10-24T10:58:23.609Z"
   },
   {
    "duration": 211,
    "start_time": "2022-10-24T10:58:29.381Z"
   },
   {
    "duration": 236,
    "start_time": "2022-10-24T10:58:38.906Z"
   },
   {
    "duration": 223,
    "start_time": "2022-10-24T11:00:32.257Z"
   },
   {
    "duration": 254,
    "start_time": "2022-10-24T11:00:41.781Z"
   },
   {
    "duration": 482,
    "start_time": "2022-10-24T11:01:02.019Z"
   },
   {
    "duration": 197,
    "start_time": "2022-10-24T11:03:16.566Z"
   },
   {
    "duration": 222,
    "start_time": "2022-10-24T11:03:21.736Z"
   },
   {
    "duration": 189,
    "start_time": "2022-10-24T11:03:32.287Z"
   },
   {
    "duration": 241,
    "start_time": "2022-10-24T11:03:37.593Z"
   },
   {
    "duration": 190,
    "start_time": "2022-10-24T11:03:43.356Z"
   },
   {
    "duration": 189,
    "start_time": "2022-10-24T11:04:19.574Z"
   },
   {
    "duration": 203,
    "start_time": "2022-10-24T11:07:32.848Z"
   },
   {
    "duration": 190,
    "start_time": "2022-10-24T11:07:35.060Z"
   },
   {
    "duration": 181,
    "start_time": "2022-10-24T11:07:42.059Z"
   },
   {
    "duration": 214,
    "start_time": "2022-10-24T11:08:31.591Z"
   },
   {
    "duration": 199,
    "start_time": "2022-10-24T11:08:54.423Z"
   },
   {
    "duration": 169,
    "start_time": "2022-10-24T11:09:10.089Z"
   },
   {
    "duration": 171,
    "start_time": "2022-10-24T11:09:39.508Z"
   },
   {
    "duration": 14,
    "start_time": "2022-10-24T11:15:19.268Z"
   },
   {
    "duration": 13,
    "start_time": "2022-10-24T11:15:36.898Z"
   },
   {
    "duration": 1323,
    "start_time": "2022-10-24T11:15:58.993Z"
   },
   {
    "duration": 4,
    "start_time": "2022-10-24T11:16:21.478Z"
   },
   {
    "duration": 18,
    "start_time": "2022-10-24T11:16:28.241Z"
   },
   {
    "duration": 15,
    "start_time": "2022-10-24T11:18:51.070Z"
   },
   {
    "duration": 9,
    "start_time": "2022-10-24T11:19:13.626Z"
   },
   {
    "duration": 7,
    "start_time": "2022-10-24T11:19:25.846Z"
   },
   {
    "duration": 184,
    "start_time": "2022-10-24T11:19:45.216Z"
   },
   {
    "duration": 114,
    "start_time": "2022-10-24T11:20:15.939Z"
   },
   {
    "duration": 93,
    "start_time": "2022-10-24T11:20:18.307Z"
   },
   {
    "duration": 132,
    "start_time": "2022-10-24T11:20:30.263Z"
   },
   {
    "duration": 151,
    "start_time": "2022-10-24T11:21:03.364Z"
   },
   {
    "duration": 209,
    "start_time": "2022-10-24T11:23:19.377Z"
   },
   {
    "duration": 217,
    "start_time": "2022-10-24T11:23:29.849Z"
   },
   {
    "duration": 11,
    "start_time": "2022-10-24T11:24:52.366Z"
   },
   {
    "duration": 141,
    "start_time": "2022-10-24T11:25:03.077Z"
   },
   {
    "duration": 187,
    "start_time": "2022-10-24T11:25:51.171Z"
   },
   {
    "duration": 179,
    "start_time": "2022-10-24T11:26:48.716Z"
   },
   {
    "duration": 153,
    "start_time": "2022-10-24T11:29:08.989Z"
   },
   {
    "duration": 136,
    "start_time": "2022-10-24T11:31:32.622Z"
   },
   {
    "duration": 11,
    "start_time": "2022-10-24T11:31:40.429Z"
   },
   {
    "duration": 111,
    "start_time": "2022-10-24T11:31:45.004Z"
   },
   {
    "duration": 28,
    "start_time": "2022-10-24T11:32:39.775Z"
   },
   {
    "duration": 0,
    "start_time": "2022-10-24T11:32:39.805Z"
   },
   {
    "duration": 0,
    "start_time": "2022-10-24T11:32:39.806Z"
   },
   {
    "duration": 0,
    "start_time": "2022-10-24T11:32:39.807Z"
   },
   {
    "duration": 0,
    "start_time": "2022-10-24T11:32:39.808Z"
   },
   {
    "duration": 0,
    "start_time": "2022-10-24T11:32:39.809Z"
   },
   {
    "duration": 0,
    "start_time": "2022-10-24T11:32:39.809Z"
   },
   {
    "duration": 0,
    "start_time": "2022-10-24T11:32:39.810Z"
   },
   {
    "duration": 0,
    "start_time": "2022-10-24T11:32:39.811Z"
   },
   {
    "duration": 0,
    "start_time": "2022-10-24T11:32:39.812Z"
   },
   {
    "duration": 0,
    "start_time": "2022-10-24T11:32:39.813Z"
   },
   {
    "duration": 0,
    "start_time": "2022-10-24T11:32:39.814Z"
   },
   {
    "duration": 0,
    "start_time": "2022-10-24T11:32:39.815Z"
   },
   {
    "duration": 0,
    "start_time": "2022-10-24T11:32:39.816Z"
   },
   {
    "duration": 0,
    "start_time": "2022-10-24T11:32:39.817Z"
   },
   {
    "duration": 0,
    "start_time": "2022-10-24T11:32:39.817Z"
   },
   {
    "duration": 0,
    "start_time": "2022-10-24T11:32:39.818Z"
   },
   {
    "duration": 8,
    "start_time": "2022-10-24T11:32:39.821Z"
   },
   {
    "duration": 55,
    "start_time": "2022-10-24T11:32:39.831Z"
   },
   {
    "duration": 3,
    "start_time": "2022-10-24T11:32:39.887Z"
   },
   {
    "duration": 13,
    "start_time": "2022-10-24T11:32:39.892Z"
   },
   {
    "duration": 15,
    "start_time": "2022-10-24T11:32:39.907Z"
   },
   {
    "duration": 28,
    "start_time": "2022-10-24T11:32:39.923Z"
   },
   {
    "duration": 8,
    "start_time": "2022-10-24T11:32:39.952Z"
   },
   {
    "duration": 3,
    "start_time": "2022-10-24T11:32:39.963Z"
   },
   {
    "duration": 648,
    "start_time": "2022-10-24T11:32:39.967Z"
   },
   {
    "duration": 7,
    "start_time": "2022-10-24T11:32:40.617Z"
   },
   {
    "duration": 40,
    "start_time": "2022-10-24T11:32:40.636Z"
   },
   {
    "duration": 229,
    "start_time": "2022-10-24T11:32:40.678Z"
   },
   {
    "duration": 255,
    "start_time": "2022-10-24T11:32:40.909Z"
   },
   {
    "duration": 229,
    "start_time": "2022-10-24T11:32:41.166Z"
   },
   {
    "duration": 256,
    "start_time": "2022-10-24T11:32:41.396Z"
   },
   {
    "duration": 226,
    "start_time": "2022-10-24T11:32:41.654Z"
   },
   {
    "duration": 203,
    "start_time": "2022-10-24T11:32:41.882Z"
   },
   {
    "duration": 210,
    "start_time": "2022-10-24T11:32:42.087Z"
   },
   {
    "duration": 146,
    "start_time": "2022-10-24T11:32:42.299Z"
   },
   {
    "duration": 212,
    "start_time": "2022-10-24T11:32:42.447Z"
   },
   {
    "duration": 257,
    "start_time": "2022-10-24T11:32:42.661Z"
   },
   {
    "duration": 217,
    "start_time": "2022-10-24T11:32:42.921Z"
   },
   {
    "duration": 209,
    "start_time": "2022-10-24T11:32:43.140Z"
   },
   {
    "duration": 204,
    "start_time": "2022-10-24T11:32:43.351Z"
   },
   {
    "duration": 188,
    "start_time": "2022-10-24T11:32:43.557Z"
   },
   {
    "duration": 178,
    "start_time": "2022-10-24T11:32:43.746Z"
   },
   {
    "duration": 30,
    "start_time": "2022-10-24T11:34:03.404Z"
   },
   {
    "duration": 1548,
    "start_time": "2022-10-25T06:02:49.731Z"
   },
   {
    "duration": 15,
    "start_time": "2022-10-25T06:02:51.281Z"
   },
   {
    "duration": 2358,
    "start_time": "2022-10-25T06:02:51.298Z"
   },
   {
    "duration": 10,
    "start_time": "2022-10-25T06:02:53.659Z"
   },
   {
    "duration": 8,
    "start_time": "2022-10-25T06:02:53.671Z"
   },
   {
    "duration": 9,
    "start_time": "2022-10-25T06:02:53.680Z"
   },
   {
    "duration": 54,
    "start_time": "2022-10-25T06:02:53.690Z"
   },
   {
    "duration": 4,
    "start_time": "2022-10-25T06:02:53.745Z"
   },
   {
    "duration": 10,
    "start_time": "2022-10-25T06:02:53.751Z"
   },
   {
    "duration": 32,
    "start_time": "2022-10-25T06:02:53.763Z"
   },
   {
    "duration": 9,
    "start_time": "2022-10-25T06:02:53.797Z"
   },
   {
    "duration": 9,
    "start_time": "2022-10-25T06:02:53.807Z"
   },
   {
    "duration": 20,
    "start_time": "2022-10-25T06:02:53.818Z"
   },
   {
    "duration": 15,
    "start_time": "2022-10-25T06:02:53.840Z"
   },
   {
    "duration": 35,
    "start_time": "2022-10-25T06:02:53.857Z"
   },
   {
    "duration": 15,
    "start_time": "2022-10-25T06:02:53.894Z"
   },
   {
    "duration": 10,
    "start_time": "2022-10-25T06:02:53.911Z"
   },
   {
    "duration": 15,
    "start_time": "2022-10-25T06:02:53.923Z"
   },
   {
    "duration": 27,
    "start_time": "2022-10-25T06:02:53.940Z"
   },
   {
    "duration": 22,
    "start_time": "2022-10-25T06:02:53.969Z"
   },
   {
    "duration": 10,
    "start_time": "2022-10-25T06:02:53.993Z"
   },
   {
    "duration": 9,
    "start_time": "2022-10-25T06:02:54.005Z"
   },
   {
    "duration": 5,
    "start_time": "2022-10-25T06:02:54.016Z"
   },
   {
    "duration": 6,
    "start_time": "2022-10-25T06:02:54.022Z"
   },
   {
    "duration": 3,
    "start_time": "2022-10-25T06:02:54.030Z"
   },
   {
    "duration": 389,
    "start_time": "2022-10-25T06:02:54.034Z"
   },
   {
    "duration": 5,
    "start_time": "2022-10-25T06:02:54.426Z"
   },
   {
    "duration": 57,
    "start_time": "2022-10-25T06:02:54.436Z"
   },
   {
    "duration": 255,
    "start_time": "2022-10-25T06:02:54.495Z"
   },
   {
    "duration": 239,
    "start_time": "2022-10-25T06:02:54.752Z"
   },
   {
    "duration": 228,
    "start_time": "2022-10-25T06:02:54.992Z"
   },
   {
    "duration": 248,
    "start_time": "2022-10-25T06:02:55.222Z"
   },
   {
    "duration": 199,
    "start_time": "2022-10-25T06:02:55.472Z"
   },
   {
    "duration": 292,
    "start_time": "2022-10-25T06:02:55.673Z"
   },
   {
    "duration": 214,
    "start_time": "2022-10-25T06:02:55.966Z"
   },
   {
    "duration": 134,
    "start_time": "2022-10-25T06:02:56.190Z"
   },
   {
    "duration": 240,
    "start_time": "2022-10-25T06:02:56.326Z"
   },
   {
    "duration": 266,
    "start_time": "2022-10-25T06:02:56.568Z"
   },
   {
    "duration": 226,
    "start_time": "2022-10-25T06:02:56.835Z"
   },
   {
    "duration": 228,
    "start_time": "2022-10-25T06:02:57.063Z"
   },
   {
    "duration": 241,
    "start_time": "2022-10-25T06:02:57.292Z"
   },
   {
    "duration": 199,
    "start_time": "2022-10-25T06:02:57.534Z"
   },
   {
    "duration": 190,
    "start_time": "2022-10-25T06:02:57.735Z"
   },
   {
    "duration": 163,
    "start_time": "2022-10-25T06:05:47.463Z"
   },
   {
    "duration": 288,
    "start_time": "2022-10-25T06:06:01.409Z"
   },
   {
    "duration": 171,
    "start_time": "2022-10-25T06:06:05.487Z"
   },
   {
    "duration": 287,
    "start_time": "2022-10-25T06:06:11.597Z"
   },
   {
    "duration": 362,
    "start_time": "2022-10-25T06:06:22.832Z"
   },
   {
    "duration": 302,
    "start_time": "2022-10-25T06:06:31.112Z"
   },
   {
    "duration": 93,
    "start_time": "2022-10-25T06:07:22.492Z"
   },
   {
    "duration": 5,
    "start_time": "2022-10-25T06:07:33.332Z"
   },
   {
    "duration": 5,
    "start_time": "2022-10-25T06:07:49.419Z"
   },
   {
    "duration": 47,
    "start_time": "2022-10-25T06:11:56.700Z"
   },
   {
    "duration": 51,
    "start_time": "2022-10-25T06:13:25.304Z"
   },
   {
    "duration": 8,
    "start_time": "2022-10-25T06:17:36.820Z"
   },
   {
    "duration": 8,
    "start_time": "2022-10-25T06:17:41.688Z"
   },
   {
    "duration": 15,
    "start_time": "2022-10-25T06:17:45.111Z"
   },
   {
    "duration": 169,
    "start_time": "2022-10-25T06:17:57.792Z"
   },
   {
    "duration": 20,
    "start_time": "2022-10-25T06:21:12.951Z"
   },
   {
    "duration": 22,
    "start_time": "2022-10-25T06:21:31.916Z"
   },
   {
    "duration": 31,
    "start_time": "2022-10-25T06:22:00.951Z"
   },
   {
    "duration": 169,
    "start_time": "2022-10-25T06:22:08.982Z"
   },
   {
    "duration": 161,
    "start_time": "2022-10-25T06:24:19.704Z"
   },
   {
    "duration": 284,
    "start_time": "2022-10-25T06:26:48.061Z"
   },
   {
    "duration": 203,
    "start_time": "2022-10-25T06:27:28.297Z"
   },
   {
    "duration": 211,
    "start_time": "2022-10-25T06:27:48.929Z"
   },
   {
    "duration": 235,
    "start_time": "2022-10-25T06:27:53.640Z"
   },
   {
    "duration": 411,
    "start_time": "2022-10-25T06:28:01.548Z"
   },
   {
    "duration": 212,
    "start_time": "2022-10-25T06:28:10.016Z"
   },
   {
    "duration": 68,
    "start_time": "2022-10-25T06:28:48.576Z"
   },
   {
    "duration": 190,
    "start_time": "2022-10-25T06:29:06.280Z"
   },
   {
    "duration": 214,
    "start_time": "2022-10-25T06:29:47.244Z"
   },
   {
    "duration": 169,
    "start_time": "2022-10-25T06:29:53.360Z"
   },
   {
    "duration": 184,
    "start_time": "2022-10-25T06:29:58.076Z"
   },
   {
    "duration": 184,
    "start_time": "2022-10-25T06:30:37.897Z"
   },
   {
    "duration": 200,
    "start_time": "2022-10-25T06:31:38.448Z"
   },
   {
    "duration": 71,
    "start_time": "2022-10-25T06:32:08.689Z"
   },
   {
    "duration": 227,
    "start_time": "2022-10-25T06:34:01.292Z"
   },
   {
    "duration": 12,
    "start_time": "2022-10-25T06:42:15.500Z"
   },
   {
    "duration": 6,
    "start_time": "2022-10-25T06:42:24.266Z"
   },
   {
    "duration": 7,
    "start_time": "2022-10-25T06:42:35.947Z"
   },
   {
    "duration": 8,
    "start_time": "2022-10-25T06:47:15.572Z"
   },
   {
    "duration": 14,
    "start_time": "2022-10-25T06:47:23.649Z"
   },
   {
    "duration": 31,
    "start_time": "2022-10-25T06:47:30.031Z"
   },
   {
    "duration": 72,
    "start_time": "2022-10-25T06:49:10.998Z"
   },
   {
    "duration": 70,
    "start_time": "2022-10-25T06:49:15.405Z"
   },
   {
    "duration": 91,
    "start_time": "2022-10-25T06:49:19.085Z"
   },
   {
    "duration": 8,
    "start_time": "2022-10-25T06:49:32.232Z"
   },
   {
    "duration": 30,
    "start_time": "2022-10-25T06:49:36.251Z"
   },
   {
    "duration": 18,
    "start_time": "2022-10-25T06:49:58.610Z"
   },
   {
    "duration": 26,
    "start_time": "2022-10-25T06:50:04.932Z"
   },
   {
    "duration": 187,
    "start_time": "2022-10-25T06:50:08.856Z"
   },
   {
    "duration": 202,
    "start_time": "2022-10-25T06:50:18.647Z"
   },
   {
    "duration": 333,
    "start_time": "2022-10-25T06:50:25.044Z"
   },
   {
    "duration": 5,
    "start_time": "2022-10-25T07:26:10.053Z"
   },
   {
    "duration": 30,
    "start_time": "2022-10-25T07:26:22.293Z"
   },
   {
    "duration": 161,
    "start_time": "2022-10-25T07:30:13.298Z"
   },
   {
    "duration": 174,
    "start_time": "2022-10-25T07:30:27.471Z"
   },
   {
    "duration": 81,
    "start_time": "2022-10-25T07:32:09.392Z"
   },
   {
    "duration": 1246,
    "start_time": "2022-10-25T07:32:19.236Z"
   },
   {
    "duration": 2314,
    "start_time": "2022-10-25T07:32:32.781Z"
   },
   {
    "duration": 2433,
    "start_time": "2022-10-25T07:33:12.177Z"
   },
   {
    "duration": 1701,
    "start_time": "2022-10-25T07:33:30.011Z"
   },
   {
    "duration": 1572,
    "start_time": "2022-10-25T07:33:45.012Z"
   },
   {
    "duration": 54,
    "start_time": "2022-10-25T07:44:29.142Z"
   },
   {
    "duration": 51,
    "start_time": "2022-10-25T07:44:37.532Z"
   },
   {
    "duration": 71,
    "start_time": "2022-10-25T07:44:53.606Z"
   },
   {
    "duration": 81,
    "start_time": "2022-10-25T07:45:23.808Z"
   },
   {
    "duration": 59,
    "start_time": "2022-10-25T07:45:26.611Z"
   },
   {
    "duration": 54,
    "start_time": "2022-10-25T07:45:44.282Z"
   },
   {
    "duration": 163,
    "start_time": "2022-10-25T08:03:28.752Z"
   },
   {
    "duration": 1496,
    "start_time": "2022-10-25T10:02:13.426Z"
   },
   {
    "duration": 14,
    "start_time": "2022-10-25T10:02:14.924Z"
   },
   {
    "duration": 2325,
    "start_time": "2022-10-25T10:02:14.939Z"
   },
   {
    "duration": 8,
    "start_time": "2022-10-25T10:02:17.267Z"
   },
   {
    "duration": 8,
    "start_time": "2022-10-25T10:02:17.277Z"
   },
   {
    "duration": 9,
    "start_time": "2022-10-25T10:02:17.291Z"
   },
   {
    "duration": 56,
    "start_time": "2022-10-25T10:02:17.301Z"
   },
   {
    "duration": 4,
    "start_time": "2022-10-25T10:02:17.358Z"
   },
   {
    "duration": 38,
    "start_time": "2022-10-25T10:02:17.363Z"
   },
   {
    "duration": 8,
    "start_time": "2022-10-25T10:02:17.404Z"
   },
   {
    "duration": 9,
    "start_time": "2022-10-25T10:02:17.413Z"
   },
   {
    "duration": 9,
    "start_time": "2022-10-25T10:02:17.424Z"
   },
   {
    "duration": 3,
    "start_time": "2022-10-25T10:02:17.434Z"
   },
   {
    "duration": 17,
    "start_time": "2022-10-25T10:02:17.439Z"
   },
   {
    "duration": 42,
    "start_time": "2022-10-25T10:02:17.458Z"
   },
   {
    "duration": 7,
    "start_time": "2022-10-25T10:02:17.502Z"
   },
   {
    "duration": 14,
    "start_time": "2022-10-25T10:02:17.511Z"
   },
   {
    "duration": 10,
    "start_time": "2022-10-25T10:02:17.526Z"
   },
   {
    "duration": 5,
    "start_time": "2022-10-25T10:02:17.537Z"
   },
   {
    "duration": 49,
    "start_time": "2022-10-25T10:02:17.544Z"
   },
   {
    "duration": 4,
    "start_time": "2022-10-25T10:02:17.595Z"
   },
   {
    "duration": 9,
    "start_time": "2022-10-25T10:02:17.600Z"
   },
   {
    "duration": 7,
    "start_time": "2022-10-25T10:02:17.610Z"
   },
   {
    "duration": 5,
    "start_time": "2022-10-25T10:02:17.619Z"
   },
   {
    "duration": 6,
    "start_time": "2022-10-25T10:02:17.626Z"
   },
   {
    "duration": 4,
    "start_time": "2022-10-25T10:02:17.633Z"
   },
   {
    "duration": 384,
    "start_time": "2022-10-25T10:02:17.638Z"
   },
   {
    "duration": 4,
    "start_time": "2022-10-25T10:02:18.026Z"
   },
   {
    "duration": 43,
    "start_time": "2022-10-25T10:02:18.031Z"
   },
   {
    "duration": 231,
    "start_time": "2022-10-25T10:02:18.076Z"
   },
   {
    "duration": 264,
    "start_time": "2022-10-25T10:02:18.308Z"
   },
   {
    "duration": 225,
    "start_time": "2022-10-25T10:02:18.573Z"
   },
   {
    "duration": 244,
    "start_time": "2022-10-25T10:02:18.800Z"
   },
   {
    "duration": 206,
    "start_time": "2022-10-25T10:02:19.046Z"
   },
   {
    "duration": 304,
    "start_time": "2022-10-25T10:02:19.254Z"
   },
   {
    "duration": 231,
    "start_time": "2022-10-25T10:02:19.560Z"
   },
   {
    "duration": 131,
    "start_time": "2022-10-25T10:02:19.793Z"
   },
   {
    "duration": 210,
    "start_time": "2022-10-25T10:02:19.926Z"
   },
   {
    "duration": 255,
    "start_time": "2022-10-25T10:02:20.138Z"
   },
   {
    "duration": 213,
    "start_time": "2022-10-25T10:02:20.395Z"
   },
   {
    "duration": 228,
    "start_time": "2022-10-25T10:02:20.610Z"
   },
   {
    "duration": 218,
    "start_time": "2022-10-25T10:02:20.840Z"
   },
   {
    "duration": 192,
    "start_time": "2022-10-25T10:02:21.060Z"
   },
   {
    "duration": 179,
    "start_time": "2022-10-25T10:02:21.254Z"
   },
   {
    "duration": 426,
    "start_time": "2022-10-25T10:02:21.435Z"
   },
   {
    "duration": 4,
    "start_time": "2022-10-25T10:02:21.863Z"
   },
   {
    "duration": 23,
    "start_time": "2022-10-25T10:02:21.869Z"
   },
   {
    "duration": 45,
    "start_time": "2022-10-25T10:02:21.894Z"
   },
   {
    "duration": 206,
    "start_time": "2022-10-25T10:02:21.941Z"
   },
   {
    "duration": 243,
    "start_time": "2022-10-25T10:02:22.149Z"
   },
   {
    "duration": 211,
    "start_time": "2022-10-25T10:02:22.394Z"
   },
   {
    "duration": 216,
    "start_time": "2022-10-25T10:02:22.607Z"
   },
   {
    "duration": 206,
    "start_time": "2022-10-25T10:02:22.824Z"
   },
   {
    "duration": 243,
    "start_time": "2022-10-25T10:02:23.032Z"
   },
   {
    "duration": 16,
    "start_time": "2022-10-25T10:02:23.276Z"
   },
   {
    "duration": 208,
    "start_time": "2022-10-25T10:02:23.293Z"
   },
   {
    "duration": 6,
    "start_time": "2022-10-25T10:02:23.503Z"
   },
   {
    "duration": 38,
    "start_time": "2022-10-25T10:02:23.510Z"
   },
   {
    "duration": 187,
    "start_time": "2022-10-25T10:02:23.550Z"
   },
   {
    "duration": 1396,
    "start_time": "2022-10-25T10:05:34.057Z"
   },
   {
    "duration": 14,
    "start_time": "2022-10-25T10:05:35.455Z"
   },
   {
    "duration": 2505,
    "start_time": "2022-10-25T10:05:35.471Z"
   },
   {
    "duration": 9,
    "start_time": "2022-10-25T10:05:37.979Z"
   },
   {
    "duration": 8,
    "start_time": "2022-10-25T10:05:37.990Z"
   },
   {
    "duration": 11,
    "start_time": "2022-10-25T10:05:38.000Z"
   },
   {
    "duration": 79,
    "start_time": "2022-10-25T10:05:38.013Z"
   },
   {
    "duration": 5,
    "start_time": "2022-10-25T10:05:38.093Z"
   },
   {
    "duration": 14,
    "start_time": "2022-10-25T10:05:38.099Z"
   },
   {
    "duration": 9,
    "start_time": "2022-10-25T10:05:38.116Z"
   },
   {
    "duration": 8,
    "start_time": "2022-10-25T10:05:38.127Z"
   },
   {
    "duration": 9,
    "start_time": "2022-10-25T10:05:38.137Z"
   },
   {
    "duration": 56,
    "start_time": "2022-10-25T10:05:38.148Z"
   },
   {
    "duration": 10,
    "start_time": "2022-10-25T10:05:38.206Z"
   },
   {
    "duration": 15,
    "start_time": "2022-10-25T10:05:38.217Z"
   },
   {
    "duration": 8,
    "start_time": "2022-10-25T10:05:38.234Z"
   },
   {
    "duration": 14,
    "start_time": "2022-10-25T10:05:38.244Z"
   },
   {
    "duration": 39,
    "start_time": "2022-10-25T10:05:38.260Z"
   },
   {
    "duration": 7,
    "start_time": "2022-10-25T10:05:38.300Z"
   },
   {
    "duration": 29,
    "start_time": "2022-10-25T10:05:38.308Z"
   },
   {
    "duration": 3,
    "start_time": "2022-10-25T10:05:38.339Z"
   },
   {
    "duration": 10,
    "start_time": "2022-10-25T10:05:38.343Z"
   },
   {
    "duration": 8,
    "start_time": "2022-10-25T10:05:38.355Z"
   },
   {
    "duration": 29,
    "start_time": "2022-10-25T10:05:38.365Z"
   },
   {
    "duration": 6,
    "start_time": "2022-10-25T10:05:38.396Z"
   },
   {
    "duration": 3,
    "start_time": "2022-10-25T10:05:38.404Z"
   },
   {
    "duration": 413,
    "start_time": "2022-10-25T10:05:38.409Z"
   },
   {
    "duration": 5,
    "start_time": "2022-10-25T10:05:38.828Z"
   },
   {
    "duration": 60,
    "start_time": "2022-10-25T10:05:38.835Z"
   },
   {
    "duration": 238,
    "start_time": "2022-10-25T10:05:38.897Z"
   },
   {
    "duration": 263,
    "start_time": "2022-10-25T10:05:39.136Z"
   },
   {
    "duration": 231,
    "start_time": "2022-10-25T10:05:39.401Z"
   },
   {
    "duration": 268,
    "start_time": "2022-10-25T10:05:39.634Z"
   },
   {
    "duration": 214,
    "start_time": "2022-10-25T10:05:39.904Z"
   },
   {
    "duration": 322,
    "start_time": "2022-10-25T10:05:40.120Z"
   },
   {
    "duration": 234,
    "start_time": "2022-10-25T10:05:40.444Z"
   },
   {
    "duration": 137,
    "start_time": "2022-10-25T10:05:40.679Z"
   },
   {
    "duration": 209,
    "start_time": "2022-10-25T10:05:40.818Z"
   },
   {
    "duration": 254,
    "start_time": "2022-10-25T10:05:41.028Z"
   },
   {
    "duration": 235,
    "start_time": "2022-10-25T10:05:41.290Z"
   },
   {
    "duration": 250,
    "start_time": "2022-10-25T10:05:41.527Z"
   },
   {
    "duration": 249,
    "start_time": "2022-10-25T10:05:41.781Z"
   },
   {
    "duration": 193,
    "start_time": "2022-10-25T10:05:42.031Z"
   },
   {
    "duration": 186,
    "start_time": "2022-10-25T10:05:42.226Z"
   },
   {
    "duration": 441,
    "start_time": "2022-10-25T10:05:42.414Z"
   },
   {
    "duration": 5,
    "start_time": "2022-10-25T10:05:42.857Z"
   },
   {
    "duration": 7,
    "start_time": "2022-10-25T10:05:42.863Z"
   },
   {
    "duration": 57,
    "start_time": "2022-10-25T10:05:42.872Z"
   },
   {
    "duration": 191,
    "start_time": "2022-10-25T10:05:42.931Z"
   },
   {
    "duration": 225,
    "start_time": "2022-10-25T10:05:43.124Z"
   },
   {
    "duration": 203,
    "start_time": "2022-10-25T10:05:43.351Z"
   },
   {
    "duration": 211,
    "start_time": "2022-10-25T10:05:43.556Z"
   },
   {
    "duration": 201,
    "start_time": "2022-10-25T10:05:43.768Z"
   },
   {
    "duration": 239,
    "start_time": "2022-10-25T10:05:43.972Z"
   },
   {
    "duration": 8,
    "start_time": "2022-10-25T10:05:44.213Z"
   },
   {
    "duration": 242,
    "start_time": "2022-10-25T10:05:44.223Z"
   },
   {
    "duration": 6,
    "start_time": "2022-10-25T10:05:44.467Z"
   },
   {
    "duration": 47,
    "start_time": "2022-10-25T10:05:44.475Z"
   },
   {
    "duration": 189,
    "start_time": "2022-10-25T10:05:44.524Z"
   },
   {
    "duration": 67,
    "start_time": "2022-10-25T16:12:24.618Z"
   },
   {
    "duration": 58,
    "start_time": "2022-10-25T16:20:50.645Z"
   },
   {
    "duration": 1838,
    "start_time": "2022-10-25T16:20:53.968Z"
   },
   {
    "duration": 16,
    "start_time": "2022-10-25T16:20:55.808Z"
   },
   {
    "duration": 2628,
    "start_time": "2022-10-25T16:20:55.825Z"
   },
   {
    "duration": 21,
    "start_time": "2022-10-25T16:20:58.455Z"
   },
   {
    "duration": 36,
    "start_time": "2022-10-25T16:20:58.478Z"
   },
   {
    "duration": 27,
    "start_time": "2022-10-25T16:20:58.516Z"
   },
   {
    "duration": 73,
    "start_time": "2022-10-25T16:20:58.545Z"
   },
   {
    "duration": 0,
    "start_time": "2022-10-25T16:20:58.621Z"
   },
   {
    "duration": 0,
    "start_time": "2022-10-25T16:20:58.623Z"
   },
   {
    "duration": 0,
    "start_time": "2022-10-25T16:20:58.624Z"
   },
   {
    "duration": 0,
    "start_time": "2022-10-25T16:20:58.625Z"
   },
   {
    "duration": 0,
    "start_time": "2022-10-25T16:20:58.626Z"
   },
   {
    "duration": 0,
    "start_time": "2022-10-25T16:20:58.627Z"
   },
   {
    "duration": 0,
    "start_time": "2022-10-25T16:20:58.628Z"
   },
   {
    "duration": 0,
    "start_time": "2022-10-25T16:20:58.629Z"
   },
   {
    "duration": 0,
    "start_time": "2022-10-25T16:20:58.631Z"
   },
   {
    "duration": 0,
    "start_time": "2022-10-25T16:20:58.654Z"
   },
   {
    "duration": 0,
    "start_time": "2022-10-25T16:20:58.656Z"
   },
   {
    "duration": 0,
    "start_time": "2022-10-25T16:20:58.657Z"
   },
   {
    "duration": 0,
    "start_time": "2022-10-25T16:20:58.659Z"
   },
   {
    "duration": 0,
    "start_time": "2022-10-25T16:20:58.660Z"
   },
   {
    "duration": 0,
    "start_time": "2022-10-25T16:20:58.662Z"
   },
   {
    "duration": 0,
    "start_time": "2022-10-25T16:20:58.663Z"
   },
   {
    "duration": 0,
    "start_time": "2022-10-25T16:20:58.664Z"
   },
   {
    "duration": 0,
    "start_time": "2022-10-25T16:20:58.665Z"
   },
   {
    "duration": 0,
    "start_time": "2022-10-25T16:20:58.666Z"
   },
   {
    "duration": 0,
    "start_time": "2022-10-25T16:20:58.667Z"
   },
   {
    "duration": 0,
    "start_time": "2022-10-25T16:20:58.673Z"
   },
   {
    "duration": 1,
    "start_time": "2022-10-25T16:20:58.678Z"
   },
   {
    "duration": 1,
    "start_time": "2022-10-25T16:20:58.679Z"
   },
   {
    "duration": 0,
    "start_time": "2022-10-25T16:20:58.680Z"
   },
   {
    "duration": 0,
    "start_time": "2022-10-25T16:20:58.683Z"
   },
   {
    "duration": 0,
    "start_time": "2022-10-25T16:20:58.684Z"
   },
   {
    "duration": 0,
    "start_time": "2022-10-25T16:20:58.685Z"
   },
   {
    "duration": 0,
    "start_time": "2022-10-25T16:20:58.687Z"
   },
   {
    "duration": 0,
    "start_time": "2022-10-25T16:20:58.688Z"
   },
   {
    "duration": 0,
    "start_time": "2022-10-25T16:20:58.689Z"
   },
   {
    "duration": 0,
    "start_time": "2022-10-25T16:20:58.690Z"
   },
   {
    "duration": 0,
    "start_time": "2022-10-25T16:20:58.692Z"
   },
   {
    "duration": 0,
    "start_time": "2022-10-25T16:20:58.693Z"
   },
   {
    "duration": 0,
    "start_time": "2022-10-25T16:20:58.695Z"
   },
   {
    "duration": 0,
    "start_time": "2022-10-25T16:20:58.696Z"
   },
   {
    "duration": 0,
    "start_time": "2022-10-25T16:20:58.697Z"
   },
   {
    "duration": 0,
    "start_time": "2022-10-25T16:20:58.699Z"
   },
   {
    "duration": 0,
    "start_time": "2022-10-25T16:20:58.700Z"
   },
   {
    "duration": 0,
    "start_time": "2022-10-25T16:20:58.701Z"
   },
   {
    "duration": 0,
    "start_time": "2022-10-25T16:20:58.754Z"
   },
   {
    "duration": 0,
    "start_time": "2022-10-25T16:20:58.757Z"
   },
   {
    "duration": 0,
    "start_time": "2022-10-25T16:20:58.758Z"
   },
   {
    "duration": 0,
    "start_time": "2022-10-25T16:20:58.759Z"
   },
   {
    "duration": 0,
    "start_time": "2022-10-25T16:20:58.759Z"
   },
   {
    "duration": 0,
    "start_time": "2022-10-25T16:20:58.760Z"
   },
   {
    "duration": 0,
    "start_time": "2022-10-25T16:20:58.761Z"
   },
   {
    "duration": 0,
    "start_time": "2022-10-25T16:20:58.761Z"
   },
   {
    "duration": 0,
    "start_time": "2022-10-25T16:20:58.762Z"
   },
   {
    "duration": 0,
    "start_time": "2022-10-25T16:20:58.763Z"
   },
   {
    "duration": 0,
    "start_time": "2022-10-25T16:20:58.766Z"
   },
   {
    "duration": 0,
    "start_time": "2022-10-25T16:20:58.767Z"
   },
   {
    "duration": 10,
    "start_time": "2022-10-25T16:21:28.291Z"
   },
   {
    "duration": 9,
    "start_time": "2022-10-25T16:21:37.436Z"
   },
   {
    "duration": 16,
    "start_time": "2022-10-25T16:21:40.849Z"
   },
   {
    "duration": 179,
    "start_time": "2022-10-25T16:21:44.216Z"
   },
   {
    "duration": 13,
    "start_time": "2022-10-25T16:21:44.397Z"
   },
   {
    "duration": 2615,
    "start_time": "2022-10-25T16:21:44.412Z"
   },
   {
    "duration": 10,
    "start_time": "2022-10-25T16:21:47.029Z"
   },
   {
    "duration": 25,
    "start_time": "2022-10-25T16:21:47.042Z"
   },
   {
    "duration": 9,
    "start_time": "2022-10-25T16:21:47.070Z"
   },
   {
    "duration": 56,
    "start_time": "2022-10-25T16:21:47.081Z"
   },
   {
    "duration": 5,
    "start_time": "2022-10-25T16:21:47.139Z"
   },
   {
    "duration": 23,
    "start_time": "2022-10-25T16:21:47.146Z"
   },
   {
    "duration": 12,
    "start_time": "2022-10-25T16:21:47.171Z"
   },
   {
    "duration": 10,
    "start_time": "2022-10-25T16:21:47.185Z"
   },
   {
    "duration": 60,
    "start_time": "2022-10-25T16:21:47.197Z"
   },
   {
    "duration": 23,
    "start_time": "2022-10-25T16:21:47.267Z"
   },
   {
    "duration": 16,
    "start_time": "2022-10-25T16:21:47.293Z"
   },
   {
    "duration": 18,
    "start_time": "2022-10-25T16:21:47.311Z"
   },
   {
    "duration": 40,
    "start_time": "2022-10-25T16:21:47.331Z"
   },
   {
    "duration": 15,
    "start_time": "2022-10-25T16:21:47.373Z"
   },
   {
    "duration": 17,
    "start_time": "2022-10-25T16:21:47.390Z"
   },
   {
    "duration": 86,
    "start_time": "2022-10-25T16:21:47.409Z"
   },
   {
    "duration": 5,
    "start_time": "2022-10-25T16:21:47.497Z"
   },
   {
    "duration": 62,
    "start_time": "2022-10-25T16:21:47.503Z"
   },
   {
    "duration": 16,
    "start_time": "2022-10-25T16:21:47.566Z"
   },
   {
    "duration": 7,
    "start_time": "2022-10-25T16:21:47.584Z"
   },
   {
    "duration": 8,
    "start_time": "2022-10-25T16:21:47.592Z"
   },
   {
    "duration": 21,
    "start_time": "2022-10-25T16:21:47.601Z"
   },
   {
    "duration": 408,
    "start_time": "2022-10-25T16:21:47.624Z"
   },
   {
    "duration": 5,
    "start_time": "2022-10-25T16:21:48.034Z"
   },
   {
    "duration": 54,
    "start_time": "2022-10-25T16:21:48.040Z"
   },
   {
    "duration": 266,
    "start_time": "2022-10-25T16:21:48.096Z"
   },
   {
    "duration": 266,
    "start_time": "2022-10-25T16:21:48.364Z"
   },
   {
    "duration": 254,
    "start_time": "2022-10-25T16:21:48.632Z"
   },
   {
    "duration": 268,
    "start_time": "2022-10-25T16:21:48.887Z"
   },
   {
    "duration": 224,
    "start_time": "2022-10-25T16:21:49.160Z"
   },
   {
    "duration": 356,
    "start_time": "2022-10-25T16:21:49.385Z"
   },
   {
    "duration": 252,
    "start_time": "2022-10-25T16:21:49.743Z"
   },
   {
    "duration": 155,
    "start_time": "2022-10-25T16:21:49.997Z"
   },
   {
    "duration": 228,
    "start_time": "2022-10-25T16:21:50.155Z"
   },
   {
    "duration": 302,
    "start_time": "2022-10-25T16:21:50.384Z"
   },
   {
    "duration": 250,
    "start_time": "2022-10-25T16:21:50.688Z"
   },
   {
    "duration": 248,
    "start_time": "2022-10-25T16:21:50.940Z"
   },
   {
    "duration": 257,
    "start_time": "2022-10-25T16:21:51.192Z"
   },
   {
    "duration": 257,
    "start_time": "2022-10-25T16:21:51.462Z"
   },
   {
    "duration": 257,
    "start_time": "2022-10-25T16:21:51.721Z"
   },
   {
    "duration": 331,
    "start_time": "2022-10-25T16:21:51.980Z"
   },
   {
    "duration": 4,
    "start_time": "2022-10-25T16:21:52.313Z"
   },
   {
    "duration": 54,
    "start_time": "2022-10-25T16:21:52.319Z"
   },
   {
    "duration": 61,
    "start_time": "2022-10-25T16:21:52.375Z"
   },
   {
    "duration": 212,
    "start_time": "2022-10-25T16:21:52.437Z"
   },
   {
    "duration": 429,
    "start_time": "2022-10-25T16:21:52.657Z"
   },
   {
    "duration": 221,
    "start_time": "2022-10-25T16:21:53.088Z"
   },
   {
    "duration": 220,
    "start_time": "2022-10-25T16:21:53.311Z"
   },
   {
    "duration": 217,
    "start_time": "2022-10-25T16:21:53.533Z"
   },
   {
    "duration": 260,
    "start_time": "2022-10-25T16:21:53.754Z"
   },
   {
    "duration": 12,
    "start_time": "2022-10-25T16:21:54.016Z"
   },
   {
    "duration": 241,
    "start_time": "2022-10-25T16:21:54.029Z"
   },
   {
    "duration": 6,
    "start_time": "2022-10-25T16:21:54.272Z"
   },
   {
    "duration": 32,
    "start_time": "2022-10-25T16:21:54.279Z"
   },
   {
    "duration": 210,
    "start_time": "2022-10-25T16:21:54.313Z"
   },
   {
    "duration": 15,
    "start_time": "2022-10-25T16:23:45.905Z"
   },
   {
    "duration": 194,
    "start_time": "2022-10-25T16:23:51.533Z"
   },
   {
    "duration": 28,
    "start_time": "2022-10-25T16:23:51.729Z"
   },
   {
    "duration": 2612,
    "start_time": "2022-10-25T16:23:51.759Z"
   },
   {
    "duration": 10,
    "start_time": "2022-10-25T16:23:54.374Z"
   },
   {
    "duration": 10,
    "start_time": "2022-10-25T16:23:54.386Z"
   },
   {
    "duration": 9,
    "start_time": "2022-10-25T16:23:54.398Z"
   },
   {
    "duration": 30,
    "start_time": "2022-10-25T16:23:54.409Z"
   },
   {
    "duration": 0,
    "start_time": "2022-10-25T16:23:54.457Z"
   },
   {
    "duration": 0,
    "start_time": "2022-10-25T16:23:54.460Z"
   },
   {
    "duration": 0,
    "start_time": "2022-10-25T16:23:54.461Z"
   },
   {
    "duration": 0,
    "start_time": "2022-10-25T16:23:54.463Z"
   },
   {
    "duration": 0,
    "start_time": "2022-10-25T16:23:54.464Z"
   },
   {
    "duration": 0,
    "start_time": "2022-10-25T16:23:54.465Z"
   },
   {
    "duration": 0,
    "start_time": "2022-10-25T16:23:54.467Z"
   },
   {
    "duration": 0,
    "start_time": "2022-10-25T16:23:54.475Z"
   },
   {
    "duration": 0,
    "start_time": "2022-10-25T16:23:54.476Z"
   },
   {
    "duration": 0,
    "start_time": "2022-10-25T16:23:54.478Z"
   },
   {
    "duration": 0,
    "start_time": "2022-10-25T16:23:54.479Z"
   },
   {
    "duration": 0,
    "start_time": "2022-10-25T16:23:54.480Z"
   },
   {
    "duration": 0,
    "start_time": "2022-10-25T16:23:54.481Z"
   },
   {
    "duration": 0,
    "start_time": "2022-10-25T16:23:54.482Z"
   },
   {
    "duration": 0,
    "start_time": "2022-10-25T16:23:54.484Z"
   },
   {
    "duration": 0,
    "start_time": "2022-10-25T16:23:54.486Z"
   },
   {
    "duration": 0,
    "start_time": "2022-10-25T16:23:54.487Z"
   },
   {
    "duration": 0,
    "start_time": "2022-10-25T16:23:54.489Z"
   },
   {
    "duration": 0,
    "start_time": "2022-10-25T16:23:54.490Z"
   },
   {
    "duration": 0,
    "start_time": "2022-10-25T16:23:54.493Z"
   },
   {
    "duration": 0,
    "start_time": "2022-10-25T16:23:54.495Z"
   },
   {
    "duration": 0,
    "start_time": "2022-10-25T16:23:54.496Z"
   },
   {
    "duration": 0,
    "start_time": "2022-10-25T16:23:54.498Z"
   },
   {
    "duration": 0,
    "start_time": "2022-10-25T16:23:54.500Z"
   },
   {
    "duration": 0,
    "start_time": "2022-10-25T16:23:54.501Z"
   },
   {
    "duration": 0,
    "start_time": "2022-10-25T16:23:54.502Z"
   },
   {
    "duration": 0,
    "start_time": "2022-10-25T16:23:54.503Z"
   },
   {
    "duration": 0,
    "start_time": "2022-10-25T16:23:54.505Z"
   },
   {
    "duration": 0,
    "start_time": "2022-10-25T16:23:54.506Z"
   },
   {
    "duration": 0,
    "start_time": "2022-10-25T16:23:54.507Z"
   },
   {
    "duration": 0,
    "start_time": "2022-10-25T16:23:54.508Z"
   },
   {
    "duration": 0,
    "start_time": "2022-10-25T16:23:54.509Z"
   },
   {
    "duration": 0,
    "start_time": "2022-10-25T16:23:54.509Z"
   },
   {
    "duration": 0,
    "start_time": "2022-10-25T16:23:54.510Z"
   },
   {
    "duration": 1,
    "start_time": "2022-10-25T16:23:54.510Z"
   },
   {
    "duration": 0,
    "start_time": "2022-10-25T16:23:54.556Z"
   },
   {
    "duration": 0,
    "start_time": "2022-10-25T16:23:54.557Z"
   },
   {
    "duration": 0,
    "start_time": "2022-10-25T16:23:54.558Z"
   },
   {
    "duration": 0,
    "start_time": "2022-10-25T16:23:54.559Z"
   },
   {
    "duration": 0,
    "start_time": "2022-10-25T16:23:54.559Z"
   },
   {
    "duration": 0,
    "start_time": "2022-10-25T16:23:54.566Z"
   },
   {
    "duration": 0,
    "start_time": "2022-10-25T16:23:54.573Z"
   },
   {
    "duration": 0,
    "start_time": "2022-10-25T16:23:54.574Z"
   },
   {
    "duration": 0,
    "start_time": "2022-10-25T16:23:54.577Z"
   },
   {
    "duration": 0,
    "start_time": "2022-10-25T16:23:54.579Z"
   },
   {
    "duration": 0,
    "start_time": "2022-10-25T16:23:54.580Z"
   },
   {
    "duration": 0,
    "start_time": "2022-10-25T16:23:54.582Z"
   },
   {
    "duration": 0,
    "start_time": "2022-10-25T16:23:54.585Z"
   },
   {
    "duration": 0,
    "start_time": "2022-10-25T16:23:54.587Z"
   },
   {
    "duration": 0,
    "start_time": "2022-10-25T16:23:54.588Z"
   },
   {
    "duration": 0,
    "start_time": "2022-10-25T16:23:54.590Z"
   },
   {
    "duration": 12,
    "start_time": "2022-10-25T16:24:23.279Z"
   },
   {
    "duration": 9,
    "start_time": "2022-10-25T16:26:14.966Z"
   },
   {
    "duration": 142,
    "start_time": "2022-10-25T16:26:22.619Z"
   },
   {
    "duration": 15,
    "start_time": "2022-10-25T16:26:22.763Z"
   },
   {
    "duration": 2607,
    "start_time": "2022-10-25T16:26:22.779Z"
   },
   {
    "duration": 9,
    "start_time": "2022-10-25T16:26:25.389Z"
   },
   {
    "duration": 12,
    "start_time": "2022-10-25T16:26:25.400Z"
   },
   {
    "duration": 9,
    "start_time": "2022-10-25T16:26:28.311Z"
   },
   {
    "duration": 13,
    "start_time": "2022-10-25T16:26:31.406Z"
   },
   {
    "duration": 134,
    "start_time": "2022-10-25T16:26:44.121Z"
   },
   {
    "duration": 14,
    "start_time": "2022-10-25T16:26:44.258Z"
   },
   {
    "duration": 2329,
    "start_time": "2022-10-25T16:26:44.275Z"
   },
   {
    "duration": 9,
    "start_time": "2022-10-25T16:26:46.607Z"
   },
   {
    "duration": 7,
    "start_time": "2022-10-25T16:26:46.618Z"
   },
   {
    "duration": 11,
    "start_time": "2022-10-25T16:31:26.215Z"
   },
   {
    "duration": 16,
    "start_time": "2022-10-25T16:31:56.436Z"
   },
   {
    "duration": 40,
    "start_time": "2022-10-25T16:32:03.890Z"
   },
   {
    "duration": 131,
    "start_time": "2022-10-25T16:32:11.145Z"
   },
   {
    "duration": 16,
    "start_time": "2022-10-25T16:32:11.279Z"
   },
   {
    "duration": 2944,
    "start_time": "2022-10-25T16:32:11.298Z"
   },
   {
    "duration": 21,
    "start_time": "2022-10-25T16:32:14.245Z"
   },
   {
    "duration": 10,
    "start_time": "2022-10-25T16:32:14.268Z"
   },
   {
    "duration": 10,
    "start_time": "2022-10-25T16:32:16.389Z"
   },
   {
    "duration": 12,
    "start_time": "2022-10-25T16:32:19.401Z"
   },
   {
    "duration": 10,
    "start_time": "2022-10-25T16:34:27.192Z"
   },
   {
    "duration": 129,
    "start_time": "2022-10-25T16:34:36.748Z"
   },
   {
    "duration": 14,
    "start_time": "2022-10-25T16:34:36.880Z"
   },
   {
    "duration": 2663,
    "start_time": "2022-10-25T16:34:36.895Z"
   },
   {
    "duration": 10,
    "start_time": "2022-10-25T16:34:39.559Z"
   },
   {
    "duration": 13,
    "start_time": "2022-10-25T16:34:39.571Z"
   },
   {
    "duration": 8,
    "start_time": "2022-10-25T16:34:43.857Z"
   },
   {
    "duration": 10,
    "start_time": "2022-10-25T16:34:47.111Z"
   },
   {
    "duration": 3,
    "start_time": "2022-10-25T16:34:53.545Z"
   },
   {
    "duration": 10,
    "start_time": "2022-10-25T16:35:08.884Z"
   },
   {
    "duration": 11,
    "start_time": "2022-10-25T16:35:11.010Z"
   },
   {
    "duration": 139,
    "start_time": "2022-10-25T16:35:15.578Z"
   },
   {
    "duration": 14,
    "start_time": "2022-10-25T16:35:15.719Z"
   },
   {
    "duration": 2448,
    "start_time": "2022-10-25T16:35:15.734Z"
   },
   {
    "duration": 10,
    "start_time": "2022-10-25T16:35:18.185Z"
   },
   {
    "duration": 21,
    "start_time": "2022-10-25T16:35:18.197Z"
   },
   {
    "duration": 28,
    "start_time": "2022-10-25T16:35:22.179Z"
   },
   {
    "duration": 39,
    "start_time": "2022-10-25T16:35:36.395Z"
   },
   {
    "duration": 10,
    "start_time": "2022-10-25T16:36:38.812Z"
   },
   {
    "duration": 10,
    "start_time": "2022-10-25T16:36:43.673Z"
   },
   {
    "duration": 11,
    "start_time": "2022-10-25T16:36:49.892Z"
   },
   {
    "duration": 134,
    "start_time": "2022-10-25T16:36:57.468Z"
   },
   {
    "duration": 15,
    "start_time": "2022-10-25T16:36:57.604Z"
   },
   {
    "duration": 2655,
    "start_time": "2022-10-25T16:36:57.621Z"
   },
   {
    "duration": 10,
    "start_time": "2022-10-25T16:37:00.278Z"
   },
   {
    "duration": 57,
    "start_time": "2022-10-25T16:37:00.290Z"
   },
   {
    "duration": 50,
    "start_time": "2022-10-25T16:37:02.350Z"
   },
   {
    "duration": 37,
    "start_time": "2022-10-25T16:37:14.483Z"
   },
   {
    "duration": 48,
    "start_time": "2022-10-25T16:37:19.318Z"
   },
   {
    "duration": 10,
    "start_time": "2022-10-25T16:37:30.904Z"
   },
   {
    "duration": 15,
    "start_time": "2022-10-25T16:41:20.968Z"
   },
   {
    "duration": 45,
    "start_time": "2022-10-25T16:41:23.716Z"
   },
   {
    "duration": 65,
    "start_time": "2022-10-25T16:41:31.474Z"
   },
   {
    "duration": 48,
    "start_time": "2022-10-25T16:43:00.944Z"
   },
   {
    "duration": 46,
    "start_time": "2022-10-25T16:43:05.420Z"
   },
   {
    "duration": 5,
    "start_time": "2022-10-25T16:44:28.500Z"
   },
   {
    "duration": 76,
    "start_time": "2022-10-25T16:45:02.755Z"
   },
   {
    "duration": 12,
    "start_time": "2022-10-25T16:45:05.749Z"
   },
   {
    "duration": 532,
    "start_time": "2022-10-25T16:45:13.337Z"
   },
   {
    "duration": 573,
    "start_time": "2022-10-25T16:45:29.780Z"
   },
   {
    "duration": 6,
    "start_time": "2022-10-25T16:45:40.590Z"
   },
   {
    "duration": 6,
    "start_time": "2022-10-25T16:45:46.636Z"
   },
   {
    "duration": 8,
    "start_time": "2022-10-25T16:46:07.173Z"
   },
   {
    "duration": 7,
    "start_time": "2022-10-25T16:46:50.567Z"
   },
   {
    "duration": 14,
    "start_time": "2022-10-25T16:51:11.480Z"
   },
   {
    "duration": 8,
    "start_time": "2022-10-25T16:51:14.818Z"
   },
   {
    "duration": 45,
    "start_time": "2022-10-25T16:51:36.421Z"
   },
   {
    "duration": 12,
    "start_time": "2022-10-25T16:52:29.906Z"
   },
   {
    "duration": 59,
    "start_time": "2022-10-25T16:57:32.456Z"
   },
   {
    "duration": 9,
    "start_time": "2022-10-25T16:57:46.409Z"
   },
   {
    "duration": 12,
    "start_time": "2022-10-25T16:57:55.607Z"
   },
   {
    "duration": 13,
    "start_time": "2022-10-25T16:57:59.194Z"
   },
   {
    "duration": 8,
    "start_time": "2022-10-25T16:58:24.260Z"
   },
   {
    "duration": 9,
    "start_time": "2022-10-25T17:02:50.093Z"
   },
   {
    "duration": 11,
    "start_time": "2022-10-25T17:03:09.285Z"
   },
   {
    "duration": 7,
    "start_time": "2022-10-25T17:03:24.561Z"
   },
   {
    "duration": 23,
    "start_time": "2022-10-25T17:05:31.897Z"
   },
   {
    "duration": 38,
    "start_time": "2022-10-25T17:06:43.658Z"
   },
   {
    "duration": 5,
    "start_time": "2022-10-25T17:07:03.965Z"
   },
   {
    "duration": 45,
    "start_time": "2022-10-25T17:07:14.664Z"
   },
   {
    "duration": 7,
    "start_time": "2022-10-25T17:07:20.664Z"
   },
   {
    "duration": 9,
    "start_time": "2022-10-25T17:07:28.319Z"
   },
   {
    "duration": 11,
    "start_time": "2022-10-25T17:07:43.810Z"
   },
   {
    "duration": 51,
    "start_time": "2022-10-25T17:10:17.061Z"
   },
   {
    "duration": 11,
    "start_time": "2022-10-25T17:13:05.293Z"
   },
   {
    "duration": 10,
    "start_time": "2022-10-25T17:13:07.976Z"
   },
   {
    "duration": 148,
    "start_time": "2022-10-25T17:13:11.866Z"
   },
   {
    "duration": 14,
    "start_time": "2022-10-25T17:13:12.017Z"
   },
   {
    "duration": 2516,
    "start_time": "2022-10-25T17:13:12.032Z"
   },
   {
    "duration": 11,
    "start_time": "2022-10-25T17:13:14.554Z"
   },
   {
    "duration": 9,
    "start_time": "2022-10-25T17:13:14.568Z"
   },
   {
    "duration": 10,
    "start_time": "2022-10-25T17:13:14.579Z"
   },
   {
    "duration": 76,
    "start_time": "2022-10-25T17:13:14.591Z"
   },
   {
    "duration": 6,
    "start_time": "2022-10-25T17:13:14.669Z"
   },
   {
    "duration": 22,
    "start_time": "2022-10-25T17:13:14.677Z"
   },
   {
    "duration": 8,
    "start_time": "2022-10-25T17:13:14.701Z"
   },
   {
    "duration": 22,
    "start_time": "2022-10-25T17:13:14.711Z"
   },
   {
    "duration": 37,
    "start_time": "2022-10-25T17:13:14.735Z"
   },
   {
    "duration": 10,
    "start_time": "2022-10-25T17:13:14.774Z"
   },
   {
    "duration": 13,
    "start_time": "2022-10-25T17:13:14.788Z"
   },
   {
    "duration": 24,
    "start_time": "2022-10-25T17:13:14.803Z"
   },
   {
    "duration": 28,
    "start_time": "2022-10-25T17:13:14.829Z"
   },
   {
    "duration": 9,
    "start_time": "2022-10-25T17:13:14.860Z"
   },
   {
    "duration": 33,
    "start_time": "2022-10-25T17:13:14.871Z"
   },
   {
    "duration": 13,
    "start_time": "2022-10-25T17:13:14.906Z"
   },
   {
    "duration": 8,
    "start_time": "2022-10-25T17:13:14.921Z"
   },
   {
    "duration": 48,
    "start_time": "2022-10-25T17:13:14.931Z"
   },
   {
    "duration": 5,
    "start_time": "2022-10-25T17:13:14.981Z"
   },
   {
    "duration": 23,
    "start_time": "2022-10-25T17:13:14.988Z"
   },
   {
    "duration": 35,
    "start_time": "2022-10-25T17:13:15.013Z"
   },
   {
    "duration": 14,
    "start_time": "2022-10-25T17:13:15.051Z"
   },
   {
    "duration": 7,
    "start_time": "2022-10-25T17:13:15.067Z"
   },
   {
    "duration": 10,
    "start_time": "2022-10-25T17:13:15.076Z"
   },
   {
    "duration": 422,
    "start_time": "2022-10-25T17:13:15.087Z"
   },
   {
    "duration": 5,
    "start_time": "2022-10-25T17:13:15.512Z"
   },
   {
    "duration": 72,
    "start_time": "2022-10-25T17:13:15.519Z"
   },
   {
    "duration": 279,
    "start_time": "2022-10-25T17:13:15.594Z"
   },
   {
    "duration": 272,
    "start_time": "2022-10-25T17:13:15.874Z"
   },
   {
    "duration": 275,
    "start_time": "2022-10-25T17:13:16.153Z"
   },
   {
    "duration": 307,
    "start_time": "2022-10-25T17:13:16.430Z"
   },
   {
    "duration": 254,
    "start_time": "2022-10-25T17:13:16.740Z"
   },
   {
    "duration": 237,
    "start_time": "2022-10-25T17:13:16.996Z"
   },
   {
    "duration": 252,
    "start_time": "2022-10-25T17:13:17.235Z"
   },
   {
    "duration": 152,
    "start_time": "2022-10-25T17:13:17.489Z"
   },
   {
    "duration": 256,
    "start_time": "2022-10-25T17:13:17.644Z"
   },
   {
    "duration": 344,
    "start_time": "2022-10-25T17:13:17.902Z"
   },
   {
    "duration": 651,
    "start_time": "2022-10-25T17:13:18.257Z"
   },
   {
    "duration": 260,
    "start_time": "2022-10-25T17:13:18.909Z"
   },
   {
    "duration": 261,
    "start_time": "2022-10-25T17:13:19.171Z"
   },
   {
    "duration": 221,
    "start_time": "2022-10-25T17:13:19.434Z"
   },
   {
    "duration": 212,
    "start_time": "2022-10-25T17:13:19.657Z"
   },
   {
    "duration": 352,
    "start_time": "2022-10-25T17:13:19.871Z"
   },
   {
    "duration": 4,
    "start_time": "2022-10-25T17:13:20.225Z"
   },
   {
    "duration": 20,
    "start_time": "2022-10-25T17:13:20.231Z"
   },
   {
    "duration": 69,
    "start_time": "2022-10-25T17:13:20.253Z"
   },
   {
    "duration": 209,
    "start_time": "2022-10-25T17:13:20.324Z"
   },
   {
    "duration": 270,
    "start_time": "2022-10-25T17:13:20.535Z"
   },
   {
    "duration": 234,
    "start_time": "2022-10-25T17:13:20.807Z"
   },
   {
    "duration": 223,
    "start_time": "2022-10-25T17:13:21.042Z"
   },
   {
    "duration": 231,
    "start_time": "2022-10-25T17:13:21.267Z"
   },
   {
    "duration": 322,
    "start_time": "2022-10-25T17:13:21.501Z"
   },
   {
    "duration": 9,
    "start_time": "2022-10-25T17:13:21.824Z"
   },
   {
    "duration": 233,
    "start_time": "2022-10-25T17:13:21.835Z"
   },
   {
    "duration": 7,
    "start_time": "2022-10-25T17:13:22.070Z"
   },
   {
    "duration": 36,
    "start_time": "2022-10-25T17:13:22.079Z"
   },
   {
    "duration": 208,
    "start_time": "2022-10-25T17:13:22.116Z"
   },
   {
    "duration": 29,
    "start_time": "2022-10-25T17:16:27.012Z"
   },
   {
    "duration": 150,
    "start_time": "2022-10-25T17:16:54.792Z"
   },
   {
    "duration": 17,
    "start_time": "2022-10-25T17:16:54.945Z"
   },
   {
    "duration": 2366,
    "start_time": "2022-10-25T17:16:54.963Z"
   },
   {
    "duration": 10,
    "start_time": "2022-10-25T17:16:57.332Z"
   },
   {
    "duration": 7,
    "start_time": "2022-10-25T17:16:57.355Z"
   },
   {
    "duration": 9,
    "start_time": "2022-10-25T17:16:57.364Z"
   },
   {
    "duration": 48,
    "start_time": "2022-10-25T17:16:57.375Z"
   },
   {
    "duration": 31,
    "start_time": "2022-10-25T17:16:57.424Z"
   },
   {
    "duration": 8,
    "start_time": "2022-10-25T17:16:57.456Z"
   },
   {
    "duration": 8,
    "start_time": "2022-10-25T17:16:57.466Z"
   },
   {
    "duration": 12,
    "start_time": "2022-10-25T17:16:57.476Z"
   },
   {
    "duration": 9,
    "start_time": "2022-10-25T17:16:57.490Z"
   },
   {
    "duration": 9,
    "start_time": "2022-10-25T17:16:57.500Z"
   },
   {
    "duration": 10,
    "start_time": "2022-10-25T17:16:59.482Z"
   },
   {
    "duration": 12,
    "start_time": "2022-10-25T17:17:04.767Z"
   },
   {
    "duration": 12,
    "start_time": "2022-10-25T17:17:12.753Z"
   },
   {
    "duration": 83,
    "start_time": "2022-10-25T17:17:39.385Z"
   },
   {
    "duration": 20,
    "start_time": "2022-10-25T17:17:46.170Z"
   },
   {
    "duration": 10,
    "start_time": "2022-10-25T17:17:59.546Z"
   },
   {
    "duration": 15,
    "start_time": "2022-10-25T17:18:10.763Z"
   },
   {
    "duration": 21,
    "start_time": "2022-10-25T17:26:45.148Z"
   },
   {
    "duration": 17,
    "start_time": "2022-10-25T17:26:47.458Z"
   },
   {
    "duration": 9,
    "start_time": "2022-10-25T17:26:49.818Z"
   },
   {
    "duration": 140,
    "start_time": "2022-10-25T17:27:16.073Z"
   },
   {
    "duration": 14,
    "start_time": "2022-10-25T17:27:16.215Z"
   },
   {
    "duration": 2777,
    "start_time": "2022-10-25T17:27:16.230Z"
   },
   {
    "duration": 11,
    "start_time": "2022-10-25T17:27:19.009Z"
   },
   {
    "duration": 10,
    "start_time": "2022-10-25T17:27:19.021Z"
   },
   {
    "duration": 27,
    "start_time": "2022-10-25T17:27:19.033Z"
   },
   {
    "duration": 46,
    "start_time": "2022-10-25T17:27:19.062Z"
   },
   {
    "duration": 6,
    "start_time": "2022-10-25T17:27:19.110Z"
   },
   {
    "duration": 26,
    "start_time": "2022-10-25T17:27:19.118Z"
   },
   {
    "duration": 14,
    "start_time": "2022-10-25T17:27:19.146Z"
   },
   {
    "duration": 10,
    "start_time": "2022-10-25T17:27:19.162Z"
   },
   {
    "duration": 8,
    "start_time": "2022-10-25T17:27:19.174Z"
   },
   {
    "duration": 9,
    "start_time": "2022-10-25T17:27:19.184Z"
   },
   {
    "duration": 45,
    "start_time": "2022-10-25T17:27:19.194Z"
   },
   {
    "duration": 14,
    "start_time": "2022-10-25T17:27:19.256Z"
   },
   {
    "duration": 19,
    "start_time": "2022-10-25T17:27:19.272Z"
   },
   {
    "duration": 19,
    "start_time": "2022-10-25T17:27:19.293Z"
   },
   {
    "duration": 15,
    "start_time": "2022-10-25T17:27:19.314Z"
   },
   {
    "duration": 30,
    "start_time": "2022-10-25T17:27:19.331Z"
   },
   {
    "duration": 16,
    "start_time": "2022-10-25T17:27:19.362Z"
   },
   {
    "duration": 11,
    "start_time": "2022-10-25T17:27:19.380Z"
   },
   {
    "duration": 12,
    "start_time": "2022-10-25T17:27:19.393Z"
   },
   {
    "duration": 48,
    "start_time": "2022-10-25T17:27:19.406Z"
   },
   {
    "duration": 4,
    "start_time": "2022-10-25T17:27:19.456Z"
   },
   {
    "duration": 12,
    "start_time": "2022-10-25T17:27:19.462Z"
   },
   {
    "duration": 9,
    "start_time": "2022-10-25T17:27:19.476Z"
   },
   {
    "duration": 12,
    "start_time": "2022-10-25T17:27:19.486Z"
   },
   {
    "duration": 6,
    "start_time": "2022-10-25T17:27:19.502Z"
   },
   {
    "duration": 10,
    "start_time": "2022-10-25T17:27:19.509Z"
   },
   {
    "duration": 405,
    "start_time": "2022-10-25T17:27:19.520Z"
   },
   {
    "duration": 6,
    "start_time": "2022-10-25T17:27:19.928Z"
   },
   {
    "duration": 57,
    "start_time": "2022-10-25T17:27:19.935Z"
   },
   {
    "duration": 264,
    "start_time": "2022-10-25T17:27:19.994Z"
   },
   {
    "duration": 263,
    "start_time": "2022-10-25T17:27:20.261Z"
   },
   {
    "duration": 246,
    "start_time": "2022-10-25T17:27:20.526Z"
   },
   {
    "duration": 264,
    "start_time": "2022-10-25T17:27:20.774Z"
   },
   {
    "duration": 220,
    "start_time": "2022-10-25T17:27:21.039Z"
   },
   {
    "duration": 222,
    "start_time": "2022-10-25T17:27:21.261Z"
   },
   {
    "duration": 302,
    "start_time": "2022-10-25T17:27:21.486Z"
   },
   {
    "duration": 142,
    "start_time": "2022-10-25T17:27:21.790Z"
   },
   {
    "duration": 236,
    "start_time": "2022-10-25T17:27:21.934Z"
   },
   {
    "duration": 288,
    "start_time": "2022-10-25T17:27:22.172Z"
   },
   {
    "duration": 245,
    "start_time": "2022-10-25T17:27:22.461Z"
   },
   {
    "duration": 240,
    "start_time": "2022-10-25T17:27:22.708Z"
   },
   {
    "duration": 239,
    "start_time": "2022-10-25T17:27:22.954Z"
   },
   {
    "duration": 211,
    "start_time": "2022-10-25T17:27:23.195Z"
   },
   {
    "duration": 194,
    "start_time": "2022-10-25T17:27:23.408Z"
   },
   {
    "duration": 332,
    "start_time": "2022-10-25T17:27:23.604Z"
   },
   {
    "duration": 4,
    "start_time": "2022-10-25T17:27:23.938Z"
   },
   {
    "duration": 7,
    "start_time": "2022-10-25T17:27:23.954Z"
   },
   {
    "duration": 54,
    "start_time": "2022-10-25T17:27:23.963Z"
   },
   {
    "duration": 210,
    "start_time": "2022-10-25T17:27:24.018Z"
   },
   {
    "duration": 255,
    "start_time": "2022-10-25T17:27:24.230Z"
   },
   {
    "duration": 240,
    "start_time": "2022-10-25T17:27:24.486Z"
   },
   {
    "duration": 216,
    "start_time": "2022-10-25T17:27:24.728Z"
   },
   {
    "duration": 208,
    "start_time": "2022-10-25T17:27:24.946Z"
   },
   {
    "duration": 246,
    "start_time": "2022-10-25T17:27:25.156Z"
   },
   {
    "duration": 8,
    "start_time": "2022-10-25T17:27:25.404Z"
   },
   {
    "duration": 250,
    "start_time": "2022-10-25T17:27:25.414Z"
   },
   {
    "duration": 7,
    "start_time": "2022-10-25T17:27:25.667Z"
   },
   {
    "duration": 33,
    "start_time": "2022-10-25T17:27:25.676Z"
   },
   {
    "duration": 199,
    "start_time": "2022-10-25T17:27:25.711Z"
   },
   {
    "duration": 18,
    "start_time": "2022-10-25T17:29:26.313Z"
   },
   {
    "duration": 45,
    "start_time": "2022-10-25T17:29:29.585Z"
   },
   {
    "duration": 12,
    "start_time": "2022-10-25T17:29:39.842Z"
   },
   {
    "duration": 7,
    "start_time": "2022-10-25T17:29:52.049Z"
   },
   {
    "duration": 6,
    "start_time": "2022-10-25T17:30:36.585Z"
   },
   {
    "duration": 345,
    "start_time": "2022-10-25T17:34:19.790Z"
   },
   {
    "duration": 6,
    "start_time": "2022-10-25T17:34:52.744Z"
   },
   {
    "duration": 41,
    "start_time": "2022-10-25T17:35:43.278Z"
   },
   {
    "duration": 208,
    "start_time": "2022-10-25T17:41:41.865Z"
   },
   {
    "duration": 46,
    "start_time": "2022-10-25T17:42:13.149Z"
   },
   {
    "duration": 0,
    "start_time": "2022-10-25T17:42:38.864Z"
   },
   {
    "duration": 206,
    "start_time": "2022-10-25T17:42:43.945Z"
   },
   {
    "duration": 215,
    "start_time": "2022-10-25T17:42:54.309Z"
   },
   {
    "duration": 359,
    "start_time": "2022-10-25T17:42:57.060Z"
   },
   {
    "duration": 209,
    "start_time": "2022-10-25T17:43:05.755Z"
   },
   {
    "duration": 169,
    "start_time": "2022-10-25T17:46:03.402Z"
   },
   {
    "duration": 206,
    "start_time": "2022-10-25T17:46:28.718Z"
   },
   {
    "duration": 226,
    "start_time": "2022-10-25T17:48:23.908Z"
   },
   {
    "duration": 506,
    "start_time": "2022-10-25T17:49:34.582Z"
   },
   {
    "duration": 445,
    "start_time": "2022-10-25T17:49:45.814Z"
   },
   {
    "duration": 444,
    "start_time": "2022-10-25T17:49:56.515Z"
   },
   {
    "duration": 443,
    "start_time": "2022-10-25T17:50:01.861Z"
   },
   {
    "duration": 234,
    "start_time": "2022-10-25T17:50:04.175Z"
   },
   {
    "duration": 245,
    "start_time": "2022-10-25T17:50:10.812Z"
   },
   {
    "duration": 236,
    "start_time": "2022-10-25T17:50:14.506Z"
   },
   {
    "duration": 233,
    "start_time": "2022-10-25T17:50:18.094Z"
   },
   {
    "duration": 192,
    "start_time": "2022-10-25T17:50:19.870Z"
   },
   {
    "duration": 239,
    "start_time": "2022-10-25T17:50:26.693Z"
   },
   {
    "duration": 171,
    "start_time": "2022-10-25T18:03:36.058Z"
   },
   {
    "duration": 759,
    "start_time": "2022-10-25T18:04:25.330Z"
   },
   {
    "duration": 869,
    "start_time": "2022-10-25T18:05:17.452Z"
   },
   {
    "duration": 2155,
    "start_time": "2022-10-25T18:05:20.048Z"
   },
   {
    "duration": 759,
    "start_time": "2022-10-25T18:05:46.858Z"
   },
   {
    "duration": 718,
    "start_time": "2022-10-25T18:05:48.995Z"
   },
   {
    "duration": 768,
    "start_time": "2022-10-25T18:05:59.957Z"
   },
   {
    "duration": 758,
    "start_time": "2022-10-25T18:06:06.344Z"
   },
   {
    "duration": 138,
    "start_time": "2022-10-25T18:12:50.777Z"
   },
   {
    "duration": 14,
    "start_time": "2022-10-25T18:12:50.917Z"
   },
   {
    "duration": 2488,
    "start_time": "2022-10-25T18:12:50.933Z"
   },
   {
    "duration": 10,
    "start_time": "2022-10-25T18:12:53.423Z"
   },
   {
    "duration": 25,
    "start_time": "2022-10-25T18:12:53.434Z"
   },
   {
    "duration": 10,
    "start_time": "2022-10-25T18:12:53.460Z"
   },
   {
    "duration": 64,
    "start_time": "2022-10-25T18:12:53.471Z"
   },
   {
    "duration": 6,
    "start_time": "2022-10-25T18:12:53.537Z"
   },
   {
    "duration": 14,
    "start_time": "2022-10-25T18:12:53.553Z"
   },
   {
    "duration": 8,
    "start_time": "2022-10-25T18:12:53.571Z"
   },
   {
    "duration": 15,
    "start_time": "2022-10-25T18:12:53.580Z"
   },
   {
    "duration": 9,
    "start_time": "2022-10-25T18:12:53.597Z"
   },
   {
    "duration": 10,
    "start_time": "2022-10-25T18:12:53.609Z"
   },
   {
    "duration": 42,
    "start_time": "2022-10-25T18:12:53.620Z"
   },
   {
    "duration": 10,
    "start_time": "2022-10-25T18:12:53.663Z"
   },
   {
    "duration": 21,
    "start_time": "2022-10-25T18:12:53.675Z"
   },
   {
    "duration": 19,
    "start_time": "2022-10-25T18:12:53.698Z"
   },
   {
    "duration": 45,
    "start_time": "2022-10-25T18:12:53.719Z"
   },
   {
    "duration": 9,
    "start_time": "2022-10-25T18:12:53.766Z"
   },
   {
    "duration": 16,
    "start_time": "2022-10-25T18:12:53.777Z"
   },
   {
    "duration": 11,
    "start_time": "2022-10-25T18:12:53.795Z"
   },
   {
    "duration": 7,
    "start_time": "2022-10-25T18:12:53.808Z"
   },
   {
    "duration": 61,
    "start_time": "2022-10-25T18:12:53.817Z"
   },
   {
    "duration": 5,
    "start_time": "2022-10-25T18:12:53.880Z"
   },
   {
    "duration": 12,
    "start_time": "2022-10-25T18:12:53.887Z"
   },
   {
    "duration": 8,
    "start_time": "2022-10-25T18:12:53.901Z"
   },
   {
    "duration": 7,
    "start_time": "2022-10-25T18:12:53.910Z"
   },
   {
    "duration": 33,
    "start_time": "2022-10-25T18:12:53.922Z"
   },
   {
    "duration": 5,
    "start_time": "2022-10-25T18:12:53.957Z"
   },
   {
    "duration": 402,
    "start_time": "2022-10-25T18:12:53.963Z"
   },
   {
    "duration": 5,
    "start_time": "2022-10-25T18:12:54.367Z"
   },
   {
    "duration": 46,
    "start_time": "2022-10-25T18:12:54.374Z"
   },
   {
    "duration": 278,
    "start_time": "2022-10-25T18:12:54.422Z"
   },
   {
    "duration": 239,
    "start_time": "2022-10-25T18:12:54.703Z"
   },
   {
    "duration": 249,
    "start_time": "2022-10-25T18:12:54.944Z"
   },
   {
    "duration": 253,
    "start_time": "2022-10-25T18:12:55.195Z"
   },
   {
    "duration": 232,
    "start_time": "2022-10-25T18:12:55.455Z"
   },
   {
    "duration": 204,
    "start_time": "2022-10-25T18:12:55.689Z"
   },
   {
    "duration": 230,
    "start_time": "2022-10-25T18:12:55.895Z"
   },
   {
    "duration": 149,
    "start_time": "2022-10-25T18:12:56.127Z"
   },
   {
    "duration": 235,
    "start_time": "2022-10-25T18:12:56.278Z"
   },
   {
    "duration": 280,
    "start_time": "2022-10-25T18:12:56.515Z"
   },
   {
    "duration": 234,
    "start_time": "2022-10-25T18:12:56.797Z"
   },
   {
    "duration": 233,
    "start_time": "2022-10-25T18:12:57.033Z"
   },
   {
    "duration": 236,
    "start_time": "2022-10-25T18:12:57.268Z"
   },
   {
    "duration": 212,
    "start_time": "2022-10-25T18:12:57.506Z"
   },
   {
    "duration": 192,
    "start_time": "2022-10-25T18:12:57.719Z"
   },
   {
    "duration": 346,
    "start_time": "2022-10-25T18:12:57.913Z"
   },
   {
    "duration": 5,
    "start_time": "2022-10-25T18:12:58.261Z"
   },
   {
    "duration": 30,
    "start_time": "2022-10-25T18:12:58.267Z"
   },
   {
    "duration": 21,
    "start_time": "2022-10-25T18:12:58.299Z"
   },
   {
    "duration": 48,
    "start_time": "2022-10-25T18:12:58.321Z"
   },
   {
    "duration": 208,
    "start_time": "2022-10-25T18:12:58.371Z"
   },
   {
    "duration": 254,
    "start_time": "2022-10-25T18:12:58.580Z"
   },
   {
    "duration": 218,
    "start_time": "2022-10-25T18:12:58.836Z"
   },
   {
    "duration": 218,
    "start_time": "2022-10-25T18:12:59.056Z"
   },
   {
    "duration": 220,
    "start_time": "2022-10-25T18:12:59.276Z"
   },
   {
    "duration": 246,
    "start_time": "2022-10-25T18:12:59.498Z"
   },
   {
    "duration": 10,
    "start_time": "2022-10-25T18:12:59.746Z"
   },
   {
    "duration": 239,
    "start_time": "2022-10-25T18:12:59.757Z"
   },
   {
    "duration": 6,
    "start_time": "2022-10-25T18:12:59.998Z"
   },
   {
    "duration": 54,
    "start_time": "2022-10-25T18:13:00.005Z"
   },
   {
    "duration": 817,
    "start_time": "2022-10-25T18:13:00.060Z"
   },
   {
    "duration": 18,
    "start_time": "2022-10-25T18:13:05.709Z"
   },
   {
    "duration": 16,
    "start_time": "2022-10-25T18:13:07.694Z"
   },
   {
    "duration": 10,
    "start_time": "2022-10-25T18:13:09.938Z"
   },
   {
    "duration": 42,
    "start_time": "2022-10-26T16:22:23.734Z"
   },
   {
    "duration": 1457,
    "start_time": "2022-10-26T16:22:27.391Z"
   },
   {
    "duration": 15,
    "start_time": "2022-10-26T16:22:28.849Z"
   },
   {
    "duration": 2194,
    "start_time": "2022-10-26T16:22:28.866Z"
   },
   {
    "duration": 8,
    "start_time": "2022-10-26T16:22:31.061Z"
   },
   {
    "duration": 26,
    "start_time": "2022-10-26T16:22:31.071Z"
   },
   {
    "duration": 20,
    "start_time": "2022-10-26T16:22:31.098Z"
   },
   {
    "duration": 40,
    "start_time": "2022-10-26T16:22:31.119Z"
   },
   {
    "duration": 5,
    "start_time": "2022-10-26T16:22:31.160Z"
   },
   {
    "duration": 17,
    "start_time": "2022-10-26T16:22:31.167Z"
   },
   {
    "duration": 15,
    "start_time": "2022-10-26T16:22:31.188Z"
   },
   {
    "duration": 11,
    "start_time": "2022-10-26T16:22:31.205Z"
   },
   {
    "duration": 9,
    "start_time": "2022-10-26T16:22:31.217Z"
   },
   {
    "duration": 10,
    "start_time": "2022-10-26T16:22:31.228Z"
   },
   {
    "duration": 13,
    "start_time": "2022-10-26T16:22:31.242Z"
   },
   {
    "duration": 8,
    "start_time": "2022-10-26T16:22:31.257Z"
   },
   {
    "duration": 19,
    "start_time": "2022-10-26T16:22:31.276Z"
   },
   {
    "duration": 17,
    "start_time": "2022-10-26T16:22:31.297Z"
   },
   {
    "duration": 16,
    "start_time": "2022-10-26T16:22:31.316Z"
   },
   {
    "duration": 8,
    "start_time": "2022-10-26T16:22:31.334Z"
   },
   {
    "duration": 15,
    "start_time": "2022-10-26T16:22:31.343Z"
   },
   {
    "duration": 27,
    "start_time": "2022-10-26T16:22:31.360Z"
   },
   {
    "duration": 8,
    "start_time": "2022-10-26T16:22:31.389Z"
   },
   {
    "duration": 26,
    "start_time": "2022-10-26T16:22:31.398Z"
   },
   {
    "duration": 3,
    "start_time": "2022-10-26T16:22:31.426Z"
   },
   {
    "duration": 35,
    "start_time": "2022-10-26T16:22:31.430Z"
   },
   {
    "duration": 10,
    "start_time": "2022-10-26T16:22:31.467Z"
   },
   {
    "duration": 27,
    "start_time": "2022-10-26T16:22:31.478Z"
   },
   {
    "duration": 8,
    "start_time": "2022-10-26T16:22:31.506Z"
   },
   {
    "duration": 3,
    "start_time": "2022-10-26T16:22:31.516Z"
   },
   {
    "duration": 365,
    "start_time": "2022-10-26T16:22:31.520Z"
   },
   {
    "duration": 8,
    "start_time": "2022-10-26T16:22:31.887Z"
   },
   {
    "duration": 40,
    "start_time": "2022-10-26T16:22:31.896Z"
   },
   {
    "duration": 215,
    "start_time": "2022-10-26T16:22:31.938Z"
   },
   {
    "duration": 217,
    "start_time": "2022-10-26T16:22:32.154Z"
   },
   {
    "duration": 215,
    "start_time": "2022-10-26T16:22:32.377Z"
   },
   {
    "duration": 235,
    "start_time": "2022-10-26T16:22:32.594Z"
   },
   {
    "duration": 193,
    "start_time": "2022-10-26T16:22:32.832Z"
   },
   {
    "duration": 259,
    "start_time": "2022-10-26T16:22:33.026Z"
   },
   {
    "duration": 191,
    "start_time": "2022-10-26T16:22:33.290Z"
   },
   {
    "duration": 117,
    "start_time": "2022-10-26T16:22:33.483Z"
   },
   {
    "duration": 199,
    "start_time": "2022-10-26T16:22:33.604Z"
   },
   {
    "duration": 241,
    "start_time": "2022-10-26T16:22:33.805Z"
   },
   {
    "duration": 202,
    "start_time": "2022-10-26T16:22:34.048Z"
   },
   {
    "duration": 218,
    "start_time": "2022-10-26T16:22:34.252Z"
   },
   {
    "duration": 198,
    "start_time": "2022-10-26T16:22:34.472Z"
   },
   {
    "duration": 183,
    "start_time": "2022-10-26T16:22:34.672Z"
   },
   {
    "duration": 174,
    "start_time": "2022-10-26T16:22:34.857Z"
   },
   {
    "duration": 421,
    "start_time": "2022-10-26T16:22:35.032Z"
   },
   {
    "duration": 5,
    "start_time": "2022-10-26T16:22:35.454Z"
   },
   {
    "duration": 25,
    "start_time": "2022-10-26T16:22:35.461Z"
   },
   {
    "duration": 9,
    "start_time": "2022-10-26T16:22:35.491Z"
   },
   {
    "duration": 43,
    "start_time": "2022-10-26T16:22:35.502Z"
   },
   {
    "duration": 178,
    "start_time": "2022-10-26T16:22:35.547Z"
   },
   {
    "duration": 224,
    "start_time": "2022-10-26T16:22:35.727Z"
   },
   {
    "duration": 195,
    "start_time": "2022-10-26T16:22:35.952Z"
   },
   {
    "duration": 190,
    "start_time": "2022-10-26T16:22:36.149Z"
   },
   {
    "duration": 196,
    "start_time": "2022-10-26T16:22:36.341Z"
   },
   {
    "duration": 211,
    "start_time": "2022-10-26T16:22:36.539Z"
   },
   {
    "duration": 10,
    "start_time": "2022-10-26T16:22:36.751Z"
   },
   {
    "duration": 206,
    "start_time": "2022-10-26T16:22:36.762Z"
   },
   {
    "duration": 16,
    "start_time": "2022-10-26T16:22:36.969Z"
   },
   {
    "duration": 32,
    "start_time": "2022-10-26T16:22:36.988Z"
   },
   {
    "duration": 240,
    "start_time": "2022-10-26T16:22:37.022Z"
   },
   {
    "duration": 17,
    "start_time": "2022-10-26T16:23:43.439Z"
   },
   {
    "duration": 809,
    "start_time": "2022-10-26T16:23:51.487Z"
   },
   {
    "duration": 227,
    "start_time": "2022-10-26T16:25:17.461Z"
   },
   {
    "duration": 211,
    "start_time": "2022-10-26T16:26:48.754Z"
   },
   {
    "duration": 280,
    "start_time": "2022-10-26T16:27:22.748Z"
   },
   {
    "duration": 9,
    "start_time": "2022-10-26T16:29:20.956Z"
   },
   {
    "duration": 179,
    "start_time": "2022-10-26T16:29:26.593Z"
   },
   {
    "duration": 189,
    "start_time": "2022-10-26T16:29:35.117Z"
   }
  ],
  "kernelspec": {
   "display_name": "Python 3 (ipykernel)",
   "language": "python",
   "name": "python3"
  },
  "language_info": {
   "codemirror_mode": {
    "name": "ipython",
    "version": 3
   },
   "file_extension": ".py",
   "mimetype": "text/x-python",
   "name": "python",
   "nbconvert_exporter": "python",
   "pygments_lexer": "ipython3",
   "version": "3.9.7"
  },
  "toc": {
   "base_numbering": 1,
   "nav_menu": {},
   "number_sections": true,
   "sideBar": true,
   "skip_h1_title": true,
   "title_cell": "Table of Contents",
   "title_sidebar": "Contents",
   "toc_cell": false,
   "toc_position": {},
   "toc_section_display": true,
   "toc_window_display": false
  }
 },
 "nbformat": 4,
 "nbformat_minor": 2
}

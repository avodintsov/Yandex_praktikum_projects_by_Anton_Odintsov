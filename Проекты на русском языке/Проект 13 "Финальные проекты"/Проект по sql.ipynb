{
 "cells": [
  {
   "cell_type": "code",
   "execution_count": 3,
   "id": "eb432370",
   "metadata": {},
   "outputs": [],
   "source": [
    "# импортируем библиотеки\n",
    "import pandas as pd\n",
    "from sqlalchemy import create_engine\n",
    "\n",
    "# устанавливаем параметры\n",
    "db_config = {'user': 'praktikum_student', # имя пользователя\n",
    "'pwd': 'Sdf4$2;d-d30pp', # пароль\n",
    "'host': 'rc1b-wcoijxj3yxfsf3fs.mdb.yandexcloud.net',\n",
    "'port': 6432, # порт подключения\n",
    "'db': 'data-analyst-final-project-db'} # название базы данных\n",
    "connection_string = 'postgresql://{}:{}@{}:{}/{}'.format(db_config['user'],\n",
    " db_config['pwd'],\n",
    " db_config['host'],\n",
    " db_config['port'],\n",
    " db_config['db'])\n",
    "\n",
    "# сохраняем коннектор\n",
    "engine = create_engine(connection_string, connect_args={'sslmode':'require'}) "
   ]
  },
  {
   "cell_type": "markdown",
   "id": "ca217499",
   "metadata": {},
   "source": [
    "---"
   ]
  },
  {
   "cell_type": "markdown",
   "id": "f5ea7f23",
   "metadata": {},
   "source": [
    "### Оглавление "
   ]
  },
  {
   "cell_type": "markdown",
   "id": "c51b3bfd",
   "metadata": {},
   "source": [
    "- Описание задачи\n",
    "\n",
    "- Цели:\n",
    "    1. Посчитайте, сколько книг вышло после 1 января 2000 года;\n",
    "    2. Для каждой книги посчитайте количество обзоров и среднюю оценку;\n",
    "        - 2.1 Сортировка по рейтингу:\n",
    "        - 2.2 Отдельно сортировка по рейтингу:\n",
    "    3. Определите издательство, которое выпустило наибольшее число книг толще 50 страниц — так вы исключите из анализа брошюры;\n",
    "    4. Определите автора с самой высокой средней оценкой книг — учитывайте только книги с 50 и более оценками;\n",
    "    5. Посчитайте среднее количество обзоров от пользователей, которые поставили больше 50 оценок.\n"
   ]
  },
  {
   "cell_type": "markdown",
   "id": "8df3fa78",
   "metadata": {},
   "source": [
    "---"
   ]
  },
  {
   "cell_type": "markdown",
   "id": "997affcb",
   "metadata": {},
   "source": [
    "### Описание задачи:"
   ]
  },
  {
   "cell_type": "markdown",
   "id": "05537e58",
   "metadata": {},
   "source": [
    "Коронавирус застал мир врасплох, изменив привычный порядок вещей. В свободное время жители городов больше не выходят на улицу, не посещают кафе и торговые центры. Зато стало больше времени для книг. Это заметили стартаперы — и бросились создавать приложения для тех, кто любит читать.\n",
    "\n",
    "Ваша компания решила быть на волне и купила крупный сервис для чтения книг по подписке. Ваша первая задача как аналитика — проанализировать базу данных.\n",
    "В ней — информация о книгах, издательствах, авторах, а также пользовательские обзоры книг. Эти данные помогут сформулировать ценностное предложение для нового продукта."
   ]
  },
  {
   "cell_type": "markdown",
   "id": "9bea1c18",
   "metadata": {},
   "source": [
    "---"
   ]
  },
  {
   "cell_type": "markdown",
   "id": "0df76d37",
   "metadata": {},
   "source": [
    "### Цели:"
   ]
  },
  {
   "cell_type": "markdown",
   "id": "29e959b8",
   "metadata": {},
   "source": [
    "\n",
    "- Посчитайть, сколько книг вышло после 1 января 2000 года;\n",
    "- Для каждой книги посчитайть количество обзоров и среднюю оценку;\n",
    "- Определить издательство, которое выпустило наибольшее число книг толще 50 страниц (таким образом из анализа исключаются брошюры);\n",
    "- Определить автора с самой высокой средней оценкой книг (учитываются только книги с 50 и более оценками);\n",
    "- Посчитать среднее количество обзоров от пользователей, которые поставили больше 50 оценок."
   ]
  },
  {
   "cell_type": "markdown",
   "id": "b1147eb7",
   "metadata": {},
   "source": [
    "---"
   ]
  },
  {
   "cell_type": "markdown",
   "id": "6bbb68b9",
   "metadata": {},
   "source": [
    "### 1. Посчитайте, сколько книг вышло после 1 января 2000 года;"
   ]
  },
  {
   "cell_type": "code",
   "execution_count": 4,
   "id": "21eebc2d",
   "metadata": {},
   "outputs": [
    {
     "data": {
      "text/html": [
       "<div>\n",
       "<style scoped>\n",
       "    .dataframe tbody tr th:only-of-type {\n",
       "        vertical-align: middle;\n",
       "    }\n",
       "\n",
       "    .dataframe tbody tr th {\n",
       "        vertical-align: top;\n",
       "    }\n",
       "\n",
       "    .dataframe thead th {\n",
       "        text-align: right;\n",
       "    }\n",
       "</style>\n",
       "<table border=\"1\" class=\"dataframe\">\n",
       "  <thead>\n",
       "    <tr style=\"text-align: right;\">\n",
       "      <th></th>\n",
       "      <th>count</th>\n",
       "    </tr>\n",
       "  </thead>\n",
       "  <tbody>\n",
       "    <tr>\n",
       "      <th>0</th>\n",
       "      <td>819</td>\n",
       "    </tr>\n",
       "  </tbody>\n",
       "</table>\n",
       "</div>"
      ],
      "text/plain": [
       "   count\n",
       "0    819"
      ]
     },
     "execution_count": 4,
     "metadata": {},
     "output_type": "execute_result"
    }
   ],
   "source": [
    "query = '''\n",
    "        SELECT COUNT(book_id)\n",
    "        FROM books\n",
    "            WHERE publication_date > '01-01-2000'\n",
    "        '''\n",
    "\n",
    "pd.io.sql.read_sql(query, con = engine)"
   ]
  },
  {
   "cell_type": "markdown",
   "id": "23c752bc",
   "metadata": {},
   "source": [
    "В нашем сервисе 819 книг, которые вышли после 1-ого января 2000 года."
   ]
  },
  {
   "cell_type": "markdown",
   "id": "65a89fcb",
   "metadata": {},
   "source": [
    "---"
   ]
  },
  {
   "cell_type": "markdown",
   "id": "8773343d",
   "metadata": {},
   "source": [
    "### 2. Для каждой книги посчитайте количество обзоров и среднюю оценку;"
   ]
  },
  {
   "cell_type": "markdown",
   "id": "7c77d9d0",
   "metadata": {},
   "source": [
    "#### 2.1 Сортировка по рейтингу:"
   ]
  },
  {
   "cell_type": "code",
   "execution_count": 5,
   "id": "7ed821ba",
   "metadata": {},
   "outputs": [],
   "source": [
    "# # INITIAL\n",
    "# query = '''\n",
    "#         SELECT b.book_id, COUNT(r.review_id) AS num_reviews, AVG(rt.rating) AS avg_rating\n",
    "#         FROM books AS b\n",
    "#         LEFT JOIN reviews AS r ON b.book_id = r.book_id\n",
    "#         LEFT JOIN ratings AS rt ON b.book_id = rt.book_id\n",
    "#         GROUP BY b.book_id\n",
    "#         ORDER BY avg_rating\n",
    "#         '''\n",
    "\n",
    "# # pd.io.sql.read_sql(query, con = engine)"
   ]
  },
  {
   "cell_type": "markdown",
   "id": "5418fdca",
   "metadata": {},
   "source": [
    "Самый высокий рейтинг у книг = 5.0, и в нашем сервисе несколько таких книг. Самый низкий рейтинг = 1.5, такой рейтинг только у одной книги в нашем списке. "
   ]
  },
  {
   "cell_type": "markdown",
   "id": "5a8c0f23",
   "metadata": {},
   "source": [
    "Смотрим сколько значений в reviews:"
   ]
  },
  {
   "cell_type": "code",
   "execution_count": 6,
   "id": "d4344f63",
   "metadata": {
    "scrolled": true
   },
   "outputs": [],
   "source": [
    "query = '''\n",
    "SELECT book_id, COUNT(*) AS review_count \n",
    "FROM reviews \n",
    "GROUP BY book_id\n",
    "ORDER BY review_count;\n",
    "'''\n",
    "# pd.io.sql.read_sql(query, con = engine)"
   ]
  },
  {
   "cell_type": "markdown",
   "id": "9d642421",
   "metadata": {},
   "source": [
    "В таблице с обзорами 994 значения, это значит, что не все 1000 книг имеют хотя бы один обзор."
   ]
  },
  {
   "cell_type": "markdown",
   "id": "5ededaeb",
   "metadata": {},
   "source": [
    "Смотрим сколько значений в ratings:"
   ]
  },
  {
   "cell_type": "code",
   "execution_count": 7,
   "id": "12d95e8e",
   "metadata": {
    "scrolled": false
   },
   "outputs": [],
   "source": [
    "query = '''\n",
    "SELECT book_id, AVG(rating) AS avg_rating \n",
    "FROM ratings \n",
    "GROUP BY book_id;\n",
    "'''\n",
    "# pd.io.sql.read_sql(query, con = engine)"
   ]
  },
  {
   "cell_type": "markdown",
   "id": "0c8add5f",
   "metadata": {},
   "source": [
    "В таблице с рейтингами 1000 значений."
   ]
  },
  {
   "cell_type": "markdown",
   "id": "2c948c47",
   "metadata": {},
   "source": [
    "---"
   ]
  },
  {
   "cell_type": "markdown",
   "id": "62d971c8",
   "metadata": {},
   "source": [
    "Финальный запрос, если мы учитываем книги с отсутствием значений в графе рейтинга:"
   ]
  },
  {
   "cell_type": "code",
   "execution_count": 8,
   "id": "a28ad1ec",
   "metadata": {},
   "outputs": [
    {
     "data": {
      "text/html": [
       "<div>\n",
       "<style scoped>\n",
       "    .dataframe tbody tr th:only-of-type {\n",
       "        vertical-align: middle;\n",
       "    }\n",
       "\n",
       "    .dataframe tbody tr th {\n",
       "        vertical-align: top;\n",
       "    }\n",
       "\n",
       "    .dataframe thead th {\n",
       "        text-align: right;\n",
       "    }\n",
       "</style>\n",
       "<table border=\"1\" class=\"dataframe\">\n",
       "  <thead>\n",
       "    <tr style=\"text-align: right;\">\n",
       "      <th></th>\n",
       "      <th>book_id</th>\n",
       "      <th>avg_rating</th>\n",
       "      <th>num_reviews</th>\n",
       "    </tr>\n",
       "  </thead>\n",
       "  <tbody>\n",
       "    <tr>\n",
       "      <th>0</th>\n",
       "      <td>221</td>\n",
       "      <td>4.000000</td>\n",
       "      <td>0</td>\n",
       "    </tr>\n",
       "    <tr>\n",
       "      <th>1</th>\n",
       "      <td>83</td>\n",
       "      <td>3.666667</td>\n",
       "      <td>0</td>\n",
       "    </tr>\n",
       "    <tr>\n",
       "      <th>2</th>\n",
       "      <td>387</td>\n",
       "      <td>4.000000</td>\n",
       "      <td>0</td>\n",
       "    </tr>\n",
       "    <tr>\n",
       "      <th>3</th>\n",
       "      <td>191</td>\n",
       "      <td>4.000000</td>\n",
       "      <td>0</td>\n",
       "    </tr>\n",
       "    <tr>\n",
       "      <th>4</th>\n",
       "      <td>672</td>\n",
       "      <td>5.000000</td>\n",
       "      <td>0</td>\n",
       "    </tr>\n",
       "    <tr>\n",
       "      <th>...</th>\n",
       "      <td>...</td>\n",
       "      <td>...</td>\n",
       "      <td>...</td>\n",
       "    </tr>\n",
       "    <tr>\n",
       "      <th>995</th>\n",
       "      <td>627</td>\n",
       "      <td>3.789474</td>\n",
       "      <td>6</td>\n",
       "    </tr>\n",
       "    <tr>\n",
       "      <th>996</th>\n",
       "      <td>734</td>\n",
       "      <td>4.206897</td>\n",
       "      <td>6</td>\n",
       "    </tr>\n",
       "    <tr>\n",
       "      <th>997</th>\n",
       "      <td>207</td>\n",
       "      <td>3.395833</td>\n",
       "      <td>6</td>\n",
       "    </tr>\n",
       "    <tr>\n",
       "      <th>998</th>\n",
       "      <td>673</td>\n",
       "      <td>3.825581</td>\n",
       "      <td>6</td>\n",
       "    </tr>\n",
       "    <tr>\n",
       "      <th>999</th>\n",
       "      <td>948</td>\n",
       "      <td>3.662500</td>\n",
       "      <td>7</td>\n",
       "    </tr>\n",
       "  </tbody>\n",
       "</table>\n",
       "<p>1000 rows × 3 columns</p>\n",
       "</div>"
      ],
      "text/plain": [
       "     book_id  avg_rating  num_reviews\n",
       "0        221    4.000000            0\n",
       "1         83    3.666667            0\n",
       "2        387    4.000000            0\n",
       "3        191    4.000000            0\n",
       "4        672    5.000000            0\n",
       "..       ...         ...          ...\n",
       "995      627    3.789474            6\n",
       "996      734    4.206897            6\n",
       "997      207    3.395833            6\n",
       "998      673    3.825581            6\n",
       "999      948    3.662500            7\n",
       "\n",
       "[1000 rows x 3 columns]"
      ]
     },
     "execution_count": 8,
     "metadata": {},
     "output_type": "execute_result"
    }
   ],
   "source": [
    "query = '''\n",
    "SELECT b.book_id, \n",
    "    COALESCE(r.avg_rating, 0) as avg_rating, \n",
    "    COALESCE(rv.num_reviews, 0) as num_reviews\n",
    "    \n",
    "FROM books b\n",
    "\n",
    "LEFT JOIN (\n",
    "    SELECT book_id, AVG(rating) as avg_rating\n",
    "    FROM ratings\n",
    "    GROUP BY book_id\n",
    ") r ON b.book_id = r.book_id\n",
    "\n",
    "LEFT JOIN (\n",
    "    SELECT book_id, COUNT(*) as num_reviews\n",
    "    FROM reviews\n",
    "    GROUP BY book_id\n",
    ") rv ON b.book_id = rv.book_id\n",
    "\n",
    "ORDER BY num_reviews\n",
    "'''\n",
    "pd.io.sql.read_sql(query, con = engine)"
   ]
  },
  {
   "cell_type": "markdown",
   "id": "ab29b78e",
   "metadata": {},
   "source": [
    "Мы видим, что в нашей таблице по прежнему 1000 значений. \n",
    "\n",
    "Минимальное количество обзоров = 0, а максимальное = 7."
   ]
  },
  {
   "cell_type": "markdown",
   "id": "45b866fa",
   "metadata": {},
   "source": [
    "---"
   ]
  },
  {
   "cell_type": "markdown",
   "id": "964f593a",
   "metadata": {},
   "source": [
    "Финальный запрос, если мы отбрасываем NaN значения:"
   ]
  },
  {
   "cell_type": "code",
   "execution_count": 9,
   "id": "75d32fc2",
   "metadata": {},
   "outputs": [
    {
     "data": {
      "text/html": [
       "<div>\n",
       "<style scoped>\n",
       "    .dataframe tbody tr th:only-of-type {\n",
       "        vertical-align: middle;\n",
       "    }\n",
       "\n",
       "    .dataframe tbody tr th {\n",
       "        vertical-align: top;\n",
       "    }\n",
       "\n",
       "    .dataframe thead th {\n",
       "        text-align: right;\n",
       "    }\n",
       "</style>\n",
       "<table border=\"1\" class=\"dataframe\">\n",
       "  <thead>\n",
       "    <tr style=\"text-align: right;\">\n",
       "      <th></th>\n",
       "      <th>book_id</th>\n",
       "      <th>avg_rating</th>\n",
       "      <th>num_reviews</th>\n",
       "    </tr>\n",
       "  </thead>\n",
       "  <tbody>\n",
       "    <tr>\n",
       "      <th>0</th>\n",
       "      <td>413</td>\n",
       "      <td>4.000000</td>\n",
       "      <td>1</td>\n",
       "    </tr>\n",
       "    <tr>\n",
       "      <th>1</th>\n",
       "      <td>666</td>\n",
       "      <td>3.500000</td>\n",
       "      <td>1</td>\n",
       "    </tr>\n",
       "    <tr>\n",
       "      <th>2</th>\n",
       "      <td>330</td>\n",
       "      <td>5.000000</td>\n",
       "      <td>1</td>\n",
       "    </tr>\n",
       "    <tr>\n",
       "      <th>3</th>\n",
       "      <td>318</td>\n",
       "      <td>2.500000</td>\n",
       "      <td>1</td>\n",
       "    </tr>\n",
       "    <tr>\n",
       "      <th>4</th>\n",
       "      <td>639</td>\n",
       "      <td>3.500000</td>\n",
       "      <td>1</td>\n",
       "    </tr>\n",
       "    <tr>\n",
       "      <th>...</th>\n",
       "      <td>...</td>\n",
       "      <td>...</td>\n",
       "      <td>...</td>\n",
       "    </tr>\n",
       "    <tr>\n",
       "      <th>989</th>\n",
       "      <td>299</td>\n",
       "      <td>4.287500</td>\n",
       "      <td>6</td>\n",
       "    </tr>\n",
       "    <tr>\n",
       "      <th>990</th>\n",
       "      <td>673</td>\n",
       "      <td>3.825581</td>\n",
       "      <td>6</td>\n",
       "    </tr>\n",
       "    <tr>\n",
       "      <th>991</th>\n",
       "      <td>497</td>\n",
       "      <td>4.125000</td>\n",
       "      <td>6</td>\n",
       "    </tr>\n",
       "    <tr>\n",
       "      <th>992</th>\n",
       "      <td>750</td>\n",
       "      <td>4.125000</td>\n",
       "      <td>6</td>\n",
       "    </tr>\n",
       "    <tr>\n",
       "      <th>993</th>\n",
       "      <td>948</td>\n",
       "      <td>3.662500</td>\n",
       "      <td>7</td>\n",
       "    </tr>\n",
       "  </tbody>\n",
       "</table>\n",
       "<p>994 rows × 3 columns</p>\n",
       "</div>"
      ],
      "text/plain": [
       "     book_id  avg_rating  num_reviews\n",
       "0        413    4.000000            1\n",
       "1        666    3.500000            1\n",
       "2        330    5.000000            1\n",
       "3        318    2.500000            1\n",
       "4        639    3.500000            1\n",
       "..       ...         ...          ...\n",
       "989      299    4.287500            6\n",
       "990      673    3.825581            6\n",
       "991      497    4.125000            6\n",
       "992      750    4.125000            6\n",
       "993      948    3.662500            7\n",
       "\n",
       "[994 rows x 3 columns]"
      ]
     },
     "execution_count": 9,
     "metadata": {},
     "output_type": "execute_result"
    }
   ],
   "source": [
    "query = '''\n",
    "SELECT b.book_id, \n",
    "    r.avg_rating as avg_rating, \n",
    "    rv.num_reviews as num_reviews\n",
    "    \n",
    "FROM books b\n",
    "\n",
    "INNER JOIN (\n",
    "    SELECT book_id, AVG(rating) as avg_rating\n",
    "    FROM ratings\n",
    "    GROUP BY book_id\n",
    ") r ON b.book_id = r.book_id\n",
    "\n",
    "INNER JOIN (\n",
    "    SELECT book_id, COUNT(*) as num_reviews\n",
    "    FROM reviews\n",
    "    GROUP BY book_id\n",
    ") rv ON b.book_id = rv.book_id\n",
    "\n",
    "ORDER BY num_reviews\n",
    "\n",
    "'''\n",
    "pd.io.sql.read_sql(query, con = engine)"
   ]
  },
  {
   "cell_type": "markdown",
   "id": "84cecd81",
   "metadata": {},
   "source": [
    "В этом случае самое высокое количество обзоров равно 7, а самое маленькое - 1.\n"
   ]
  },
  {
   "cell_type": "markdown",
   "id": "ba42a45c",
   "metadata": {},
   "source": [
    "#### 2.2 Отдельно сортировка по рейтингу:\n"
   ]
  },
  {
   "cell_type": "code",
   "execution_count": 10,
   "id": "14c8eb84",
   "metadata": {},
   "outputs": [
    {
     "data": {
      "text/html": [
       "<div>\n",
       "<style scoped>\n",
       "    .dataframe tbody tr th:only-of-type {\n",
       "        vertical-align: middle;\n",
       "    }\n",
       "\n",
       "    .dataframe tbody tr th {\n",
       "        vertical-align: top;\n",
       "    }\n",
       "\n",
       "    .dataframe thead th {\n",
       "        text-align: right;\n",
       "    }\n",
       "</style>\n",
       "<table border=\"1\" class=\"dataframe\">\n",
       "  <thead>\n",
       "    <tr style=\"text-align: right;\">\n",
       "      <th></th>\n",
       "      <th>book_id</th>\n",
       "      <th>avg_rating</th>\n",
       "      <th>num_reviews</th>\n",
       "    </tr>\n",
       "  </thead>\n",
       "  <tbody>\n",
       "    <tr>\n",
       "      <th>0</th>\n",
       "      <td>413</td>\n",
       "      <td>4.000000</td>\n",
       "      <td>1</td>\n",
       "    </tr>\n",
       "    <tr>\n",
       "      <th>1</th>\n",
       "      <td>666</td>\n",
       "      <td>3.500000</td>\n",
       "      <td>1</td>\n",
       "    </tr>\n",
       "    <tr>\n",
       "      <th>2</th>\n",
       "      <td>330</td>\n",
       "      <td>5.000000</td>\n",
       "      <td>1</td>\n",
       "    </tr>\n",
       "    <tr>\n",
       "      <th>3</th>\n",
       "      <td>318</td>\n",
       "      <td>2.500000</td>\n",
       "      <td>1</td>\n",
       "    </tr>\n",
       "    <tr>\n",
       "      <th>4</th>\n",
       "      <td>639</td>\n",
       "      <td>3.500000</td>\n",
       "      <td>1</td>\n",
       "    </tr>\n",
       "    <tr>\n",
       "      <th>...</th>\n",
       "      <td>...</td>\n",
       "      <td>...</td>\n",
       "      <td>...</td>\n",
       "    </tr>\n",
       "    <tr>\n",
       "      <th>989</th>\n",
       "      <td>299</td>\n",
       "      <td>4.287500</td>\n",
       "      <td>6</td>\n",
       "    </tr>\n",
       "    <tr>\n",
       "      <th>990</th>\n",
       "      <td>673</td>\n",
       "      <td>3.825581</td>\n",
       "      <td>6</td>\n",
       "    </tr>\n",
       "    <tr>\n",
       "      <th>991</th>\n",
       "      <td>497</td>\n",
       "      <td>4.125000</td>\n",
       "      <td>6</td>\n",
       "    </tr>\n",
       "    <tr>\n",
       "      <th>992</th>\n",
       "      <td>750</td>\n",
       "      <td>4.125000</td>\n",
       "      <td>6</td>\n",
       "    </tr>\n",
       "    <tr>\n",
       "      <th>993</th>\n",
       "      <td>948</td>\n",
       "      <td>3.662500</td>\n",
       "      <td>7</td>\n",
       "    </tr>\n",
       "  </tbody>\n",
       "</table>\n",
       "<p>994 rows × 3 columns</p>\n",
       "</div>"
      ],
      "text/plain": [
       "     book_id  avg_rating  num_reviews\n",
       "0        413    4.000000            1\n",
       "1        666    3.500000            1\n",
       "2        330    5.000000            1\n",
       "3        318    2.500000            1\n",
       "4        639    3.500000            1\n",
       "..       ...         ...          ...\n",
       "989      299    4.287500            6\n",
       "990      673    3.825581            6\n",
       "991      497    4.125000            6\n",
       "992      750    4.125000            6\n",
       "993      948    3.662500            7\n",
       "\n",
       "[994 rows x 3 columns]"
      ]
     },
     "execution_count": 10,
     "metadata": {},
     "output_type": "execute_result"
    }
   ],
   "source": [
    "query = '''\n",
    "SELECT b.book_id, \n",
    "    r.avg_rating as avg_rating, \n",
    "    rv.num_reviews as num_reviews\n",
    "    \n",
    "FROM books b\n",
    "\n",
    "INNER JOIN (\n",
    "    SELECT book_id, AVG(rating) as avg_rating\n",
    "    FROM ratings\n",
    "    GROUP BY book_id\n",
    ") r ON b.book_id = r.book_id\n",
    "\n",
    "INNER JOIN (\n",
    "    SELECT book_id, COUNT(*) as num_reviews\n",
    "    FROM reviews\n",
    "    GROUP BY book_id\n",
    ") rv ON b.book_id = rv.book_id\n",
    "\n",
    "ORDER BY num_reviews\n",
    "\n",
    "'''\n",
    "pd.io.sql.read_sql(query, con = engine)"
   ]
  },
  {
   "cell_type": "markdown",
   "id": "30b56b2a",
   "metadata": {},
   "source": [
    "Мы видим, что если не учитывать значения NaN, то в иотге получается меньше значений в таблице (994 вместо 1000), но по прежнему самый высокий рейтинг у книг = 5.0 и такая книга не одна, но вот самый низкий рейтинг, равный 1.5 - только у одной книги."
   ]
  },
  {
   "cell_type": "markdown",
   "id": "9751a3a4",
   "metadata": {},
   "source": [
    "---"
   ]
  },
  {
   "cell_type": "markdown",
   "id": "d1b8b4e6",
   "metadata": {},
   "source": [
    "### 3. Определите издательство, которое выпустило наибольшее число книг толще 50 страниц — так вы исключите из анализа брошюры;"
   ]
  },
  {
   "cell_type": "code",
   "execution_count": 11,
   "id": "ade0fb0e",
   "metadata": {},
   "outputs": [
    {
     "data": {
      "text/html": [
       "<div>\n",
       "<style scoped>\n",
       "    .dataframe tbody tr th:only-of-type {\n",
       "        vertical-align: middle;\n",
       "    }\n",
       "\n",
       "    .dataframe tbody tr th {\n",
       "        vertical-align: top;\n",
       "    }\n",
       "\n",
       "    .dataframe thead th {\n",
       "        text-align: right;\n",
       "    }\n",
       "</style>\n",
       "<table border=\"1\" class=\"dataframe\">\n",
       "  <thead>\n",
       "    <tr style=\"text-align: right;\">\n",
       "      <th></th>\n",
       "      <th>publisher</th>\n",
       "      <th>num_books</th>\n",
       "    </tr>\n",
       "  </thead>\n",
       "  <tbody>\n",
       "    <tr>\n",
       "      <th>0</th>\n",
       "      <td>Penguin Books</td>\n",
       "      <td>42</td>\n",
       "    </tr>\n",
       "  </tbody>\n",
       "</table>\n",
       "</div>"
      ],
      "text/plain": [
       "       publisher  num_books\n",
       "0  Penguin Books         42"
      ]
     },
     "execution_count": 11,
     "metadata": {},
     "output_type": "execute_result"
    }
   ],
   "source": [
    "query = '''  \n",
    "    SELECT p.publisher, COUNT(b.book_id) AS num_books\n",
    "    FROM books AS b\n",
    "    JOIN publishers AS p ON p.publisher_id = b.publisher_id\n",
    "        WHERE b.num_pages > 50\n",
    "    GROUP BY p.publisher_id\n",
    "    ORDER BY num_books DESC\n",
    "    LIMIT 1;\n",
    "'''\n",
    "\n",
    "pd.io.sql.read_sql(query, con = engine)"
   ]
  },
  {
   "cell_type": "markdown",
   "id": "7185ff8a",
   "metadata": {},
   "source": [
    "Самое активное издательство в нашем сервисе - `Penguin Books`. Оно выпустило 42 книги."
   ]
  },
  {
   "cell_type": "markdown",
   "id": "cd128302",
   "metadata": {},
   "source": [
    "---"
   ]
  },
  {
   "cell_type": "markdown",
   "id": "ee9e7c50",
   "metadata": {},
   "source": [
    "### 4. Определите автора с самой высокой средней оценкой книг — учитывайте только книги с 50 и более оценками;"
   ]
  },
  {
   "cell_type": "code",
   "execution_count": 12,
   "id": "e8c5ead0",
   "metadata": {},
   "outputs": [
    {
     "data": {
      "text/html": [
       "<div>\n",
       "<style scoped>\n",
       "    .dataframe tbody tr th:only-of-type {\n",
       "        vertical-align: middle;\n",
       "    }\n",
       "\n",
       "    .dataframe tbody tr th {\n",
       "        vertical-align: top;\n",
       "    }\n",
       "\n",
       "    .dataframe thead th {\n",
       "        text-align: right;\n",
       "    }\n",
       "</style>\n",
       "<table border=\"1\" class=\"dataframe\">\n",
       "  <thead>\n",
       "    <tr style=\"text-align: right;\">\n",
       "      <th></th>\n",
       "      <th>author</th>\n",
       "      <th>avg_rating</th>\n",
       "    </tr>\n",
       "  </thead>\n",
       "  <tbody>\n",
       "    <tr>\n",
       "      <th>0</th>\n",
       "      <td>J.K. Rowling/Mary GrandPré</td>\n",
       "      <td>4.287097</td>\n",
       "    </tr>\n",
       "  </tbody>\n",
       "</table>\n",
       "</div>"
      ],
      "text/plain": [
       "                       author  avg_rating\n",
       "0  J.K. Rowling/Mary GrandPré    4.287097"
      ]
     },
     "execution_count": 12,
     "metadata": {},
     "output_type": "execute_result"
    }
   ],
   "source": [
    "query = ''' \n",
    "            SELECT a.author, AVG(r.rating) AS avg_rating\n",
    "            FROM books AS b\n",
    "            LEFT JOIN authors AS a ON b.author_id = a.author_id\n",
    "            LEFT JOIN ratings AS r ON b.book_id = r.book_id\n",
    "                WHERE b.book_id IN (\n",
    "                    SELECT book_id\n",
    "                    FROM ratings\n",
    "                    GROUP BY book_id\n",
    "                    HAVING COUNT(*) >= 50\n",
    "                )\n",
    "            GROUP BY a.author\n",
    "            ORDER BY avg_rating DESC\n",
    "            LIMIT 1;\n",
    "        '''\n",
    "\n",
    "pd.io.sql.read_sql(query, con = engine)"
   ]
  },
  {
   "cell_type": "markdown",
   "id": "b5efdc6b",
   "metadata": {},
   "source": [
    "Автор с самым высоким рейтингом знаменитая Джоан Роулинг. "
   ]
  },
  {
   "cell_type": "markdown",
   "id": "a24c3b7a",
   "metadata": {},
   "source": [
    "---"
   ]
  },
  {
   "cell_type": "markdown",
   "id": "5597a2e0",
   "metadata": {},
   "source": [
    "### 5. Посчитайте среднее количество обзоров от пользователей, которые поставили больше 50 оценок."
   ]
  },
  {
   "cell_type": "code",
   "execution_count": 13,
   "id": "129a0c5e",
   "metadata": {},
   "outputs": [
    {
     "data": {
      "text/html": [
       "<div>\n",
       "<style scoped>\n",
       "    .dataframe tbody tr th:only-of-type {\n",
       "        vertical-align: middle;\n",
       "    }\n",
       "\n",
       "    .dataframe tbody tr th {\n",
       "        vertical-align: top;\n",
       "    }\n",
       "\n",
       "    .dataframe thead th {\n",
       "        text-align: right;\n",
       "    }\n",
       "</style>\n",
       "<table border=\"1\" class=\"dataframe\">\n",
       "  <thead>\n",
       "    <tr style=\"text-align: right;\">\n",
       "      <th></th>\n",
       "      <th>avg_reviews</th>\n",
       "    </tr>\n",
       "  </thead>\n",
       "  <tbody>\n",
       "    <tr>\n",
       "      <th>0</th>\n",
       "      <td>24.333333</td>\n",
       "    </tr>\n",
       "  </tbody>\n",
       "</table>\n",
       "</div>"
      ],
      "text/plain": [
       "   avg_reviews\n",
       "0    24.333333"
      ]
     },
     "execution_count": 13,
     "metadata": {},
     "output_type": "execute_result"
    }
   ],
   "source": [
    "query = '''\n",
    "            SELECT AVG(num_reviews) AS avg_reviews\n",
    "            FROM (\n",
    "                  SELECT r.username, COUNT(rv.review_id) AS num_reviews\n",
    "                  FROM ratings AS r\n",
    "                  LEFT JOIN reviews AS rv ON r.book_id = rv.book_id AND r.username = rv.username\n",
    "                  GROUP BY r.username\n",
    "                  HAVING COUNT(*) > 50\n",
    "            ) AS subquery\n",
    "        '''\n",
    "\n",
    "pd.io.sql.read_sql(query, con = engine)"
   ]
  },
  {
   "cell_type": "markdown",
   "id": "6d5b5e8a",
   "metadata": {},
   "source": [
    "В среднем активные пользователи, которые поставили более 50 ценок, пишут чуть более 24 обзоров. "
   ]
  },
  {
   "cell_type": "code",
   "execution_count": null,
   "id": "70cb1687",
   "metadata": {},
   "outputs": [],
   "source": []
  }
 ],
 "metadata": {
  "ExecuteTimeLog": [
   {
    "duration": 11392,
    "start_time": "2023-03-09T17:12:40.453Z"
   },
   {
    "duration": 71,
    "start_time": "2023-03-09T17:12:51.847Z"
   },
   {
    "duration": 26,
    "start_time": "2023-03-09T17:12:51.920Z"
   },
   {
    "duration": 26,
    "start_time": "2023-03-09T17:12:51.947Z"
   },
   {
    "duration": 11,
    "start_time": "2023-03-09T17:12:51.975Z"
   },
   {
    "duration": 15,
    "start_time": "2023-03-09T17:12:51.988Z"
   },
   {
    "duration": 15,
    "start_time": "2023-03-09T17:12:52.005Z"
   },
   {
    "duration": 16,
    "start_time": "2023-03-09T17:13:33.993Z"
   },
   {
    "duration": 15,
    "start_time": "2023-03-09T17:13:37.993Z"
   },
   {
    "duration": 50,
    "start_time": "2023-03-09T18:06:07.486Z"
   },
   {
    "duration": 8399,
    "start_time": "2023-03-09T18:06:10.940Z"
   },
   {
    "duration": 267,
    "start_time": "2023-03-09T18:06:19.342Z"
   },
   {
    "duration": 97,
    "start_time": "2023-03-09T18:06:19.611Z"
   },
   {
    "duration": 87,
    "start_time": "2023-03-09T18:06:19.710Z"
   },
   {
    "duration": 87,
    "start_time": "2023-03-09T18:06:19.798Z"
   },
   {
    "duration": 75,
    "start_time": "2023-03-09T18:06:19.887Z"
   },
   {
    "duration": 78,
    "start_time": "2023-03-09T18:06:19.963Z"
   },
   {
    "duration": 77,
    "start_time": "2023-03-09T18:06:20.043Z"
   },
   {
    "duration": 109,
    "start_time": "2023-03-09T18:06:50.784Z"
   },
   {
    "duration": 3,
    "start_time": "2023-03-09T18:07:56.272Z"
   },
   {
    "duration": 91,
    "start_time": "2023-03-09T18:08:29.532Z"
   },
   {
    "duration": 87,
    "start_time": "2023-03-09T18:08:31.494Z"
   },
   {
    "duration": 244,
    "start_time": "2023-03-09T18:11:04.486Z"
   },
   {
    "duration": 119,
    "start_time": "2023-03-09T18:14:30.010Z"
   },
   {
    "duration": 94,
    "start_time": "2023-03-09T18:19:50.950Z"
   },
   {
    "duration": 169,
    "start_time": "2023-03-09T18:24:03.902Z"
   },
   {
    "duration": 164,
    "start_time": "2023-03-09T18:24:21.782Z"
   },
   {
    "duration": 92,
    "start_time": "2023-03-09T18:24:47.686Z"
   },
   {
    "duration": 142,
    "start_time": "2023-03-09T18:25:32.954Z"
   },
   {
    "duration": 106,
    "start_time": "2023-03-09T18:26:24.150Z"
   },
   {
    "duration": 132,
    "start_time": "2023-03-09T18:26:36.604Z"
   },
   {
    "duration": 82,
    "start_time": "2023-03-09T18:28:15.174Z"
   },
   {
    "duration": 154,
    "start_time": "2023-03-09T18:28:21.771Z"
   },
   {
    "duration": 165,
    "start_time": "2023-03-09T18:28:31.601Z"
   },
   {
    "duration": 92,
    "start_time": "2023-03-09T18:29:27.466Z"
   },
   {
    "duration": 89,
    "start_time": "2023-03-09T18:29:30.595Z"
   },
   {
    "duration": 3,
    "start_time": "2023-03-09T18:29:35.719Z"
   },
   {
    "duration": 3,
    "start_time": "2023-03-09T18:29:38.058Z"
   },
   {
    "duration": 93,
    "start_time": "2023-03-09T18:29:52.572Z"
   },
   {
    "duration": 91,
    "start_time": "2023-03-09T18:33:01.229Z"
   },
   {
    "duration": 95,
    "start_time": "2023-03-09T18:33:07.799Z"
   },
   {
    "duration": 89,
    "start_time": "2023-03-09T18:34:04.188Z"
   },
   {
    "duration": 108,
    "start_time": "2023-03-09T18:36:21.649Z"
   },
   {
    "duration": 3,
    "start_time": "2023-03-09T18:47:09.401Z"
   },
   {
    "duration": 103,
    "start_time": "2023-03-09T18:53:54.986Z"
   },
   {
    "duration": 103,
    "start_time": "2023-03-09T18:53:58.270Z"
   },
   {
    "duration": 114,
    "start_time": "2023-03-09T18:54:05.827Z"
   },
   {
    "duration": 108,
    "start_time": "2023-03-09T18:54:10.513Z"
   },
   {
    "duration": 120,
    "start_time": "2023-03-09T18:54:16.267Z"
   },
   {
    "duration": 78,
    "start_time": "2023-03-09T18:55:04.455Z"
   },
   {
    "duration": 160,
    "start_time": "2023-03-09T18:55:15.873Z"
   },
   {
    "duration": 348,
    "start_time": "2023-03-09T18:55:27.167Z"
   },
   {
    "duration": 3,
    "start_time": "2023-03-09T18:57:46.636Z"
   },
   {
    "duration": 148,
    "start_time": "2023-03-09T18:59:53.199Z"
   },
   {
    "duration": 98,
    "start_time": "2023-03-09T19:01:50.257Z"
   },
   {
    "duration": 3,
    "start_time": "2023-03-09T19:02:56.430Z"
   },
   {
    "duration": 94,
    "start_time": "2023-03-09T19:03:31.169Z"
   },
   {
    "duration": 94,
    "start_time": "2023-03-09T19:03:38.258Z"
   },
   {
    "duration": 167,
    "start_time": "2023-03-09T19:05:12.750Z"
   },
   {
    "duration": 3,
    "start_time": "2023-03-09T19:09:45.354Z"
   },
   {
    "duration": 89,
    "start_time": "2023-03-09T19:11:13.291Z"
   },
   {
    "duration": 86,
    "start_time": "2023-03-09T19:11:32.206Z"
   },
   {
    "duration": 92,
    "start_time": "2023-03-09T19:12:22.978Z"
   },
   {
    "duration": 97,
    "start_time": "2023-03-09T19:12:57.259Z"
   },
   {
    "duration": 105,
    "start_time": "2023-03-09T19:13:36.003Z"
   },
   {
    "duration": 98,
    "start_time": "2023-03-09T19:13:55.262Z"
   },
   {
    "duration": 100,
    "start_time": "2023-03-09T19:14:13.204Z"
   },
   {
    "duration": 94,
    "start_time": "2023-03-09T19:18:41.159Z"
   },
   {
    "duration": 95,
    "start_time": "2023-03-09T19:18:49.403Z"
   },
   {
    "duration": 94,
    "start_time": "2023-03-09T19:21:38.217Z"
   },
   {
    "duration": 95,
    "start_time": "2023-03-09T19:23:05.931Z"
   }
  ],
  "kernelspec": {
   "display_name": "Python 3 (ipykernel)",
   "language": "python",
   "name": "python3"
  },
  "language_info": {
   "codemirror_mode": {
    "name": "ipython",
    "version": 3
   },
   "file_extension": ".py",
   "mimetype": "text/x-python",
   "name": "python",
   "nbconvert_exporter": "python",
   "pygments_lexer": "ipython3",
   "version": "3.9.7"
  },
  "toc": {
   "base_numbering": 1,
   "nav_menu": {},
   "number_sections": false,
   "sideBar": true,
   "skip_h1_title": false,
   "title_cell": "Table of Contents",
   "title_sidebar": "Contents",
   "toc_cell": false,
   "toc_position": {
    "height": "calc(100% - 180px)",
    "left": "10px",
    "top": "150px",
    "width": "237.273px"
   },
   "toc_section_display": true,
   "toc_window_display": false
  }
 },
 "nbformat": 4,
 "nbformat_minor": 5
}

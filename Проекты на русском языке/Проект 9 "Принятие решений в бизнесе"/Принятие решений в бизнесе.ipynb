{
 "cells": [
  {
   "cell_type": "markdown",
   "metadata": {},
   "source": [
    "## Оглавление "
   ]
  },
  {
   "cell_type": "markdown",
   "metadata": {},
   "source": [
    "+ [Описание проекта](#project_description)\n",
    "+ [Описание данных](#data_description)\n",
    "\n",
    "+ [Предобработка данных](#prework)\n",
    "\t- [Предобработка orders](#orders_prework)\n",
    "\t- [Предобработка visitors](#visitors_prework)\n",
    "\n",
    "+ [Часть 1. Приоритезация гипотез](#part_1)\n",
    "\t- [Фреймворк ICE](#ice_frame)\n",
    "\t- [Фреймворк RICE](#rice_frame)\n",
    "\t- [Вывод](#conclusion_1)\n",
    "\n",
    "+ [Часть 2. Анализ A/B-теста](#part_2)\n",
    "\t- [Проверка корректности А/В теста](#corr_check)\n",
    "\t- [Проверка аудитории](#people_check)\n",
    "\t- [Проверка периодов А/В теста](#period_check)\n",
    "\n",
    "\t- [График кумулятивной выручки](#task_1)\n",
    "\t- [График кумулятивного среднего чека](#task_2)\n",
    "\t- [График относительного изменения среднего чека](#task_3)\n",
    "\t- [График кумулятивного среднего количества заказов](#task_4)\n",
    "\t- [График относительного изменения количества заказов](#task_5)\n",
    "\t- [Точечный график количества заказов](#task_6)\n",
    "\t- [95-й и 99-й перцентили количества заказов на пользователя](#task_7)\n",
    "\t- [Точечный график стоимости заказов](#task_8)\n",
    "\t- [95-й и 99-й перцентили стоимости заказов](#task_9)\n",
    "\t- [Статистическая значимость различий в среднем кол-ве заказов](#task_10)\n",
    "\t- [Статистическая значимость раздичий в среднем чеке](#task_11)\n",
    "\t- [Статистическая значимость различий в среднем кол-ве заказов](#task_12)\n",
    "\t- [Статистическая значимость различий в среднем чеке заказа между группами по «очищенным» данным](#task_13)\n",
    "\t- [Принятие решения по результатам теста](#task_14)"
   ]
  },
  {
   "cell_type": "markdown",
   "metadata": {},
   "source": [
    "---"
   ]
  },
  {
   "cell_type": "markdown",
   "metadata": {},
   "source": [
    "##  <a name=\"project_description\"></a>  Описание проекта"
   ]
  },
  {
   "cell_type": "markdown",
   "metadata": {},
   "source": [
    "Вы — аналитик крупного интернет-магазина. Вместе с отделом маркетинга вы подготовили список гипотез для увеличения выручки.\n",
    "\n",
    "Приоритизируйте гипотезы, запустите A/B-тест и проанализируйте результаты. "
   ]
  },
  {
   "cell_type": "markdown",
   "metadata": {},
   "source": [
    "---"
   ]
  },
  {
   "cell_type": "markdown",
   "metadata": {},
   "source": [
    "## <a name=\"data_description\"></a>  Описание данных"
   ]
  },
  {
   "cell_type": "markdown",
   "metadata": {},
   "source": [
    "### Данные для первой части:"
   ]
  },
  {
   "cell_type": "markdown",
   "metadata": {},
   "source": [
    "`Hypothesis` — краткое описание гипотезы;\n",
    "\n",
    "`Reach` — охват пользователей по 10-балльной шкале;\n",
    "\n",
    "`Impact` — влияние на пользователей по 10-балльной шкале;\n",
    "\n",
    "`Confidence` — уверенность в гипотезе по 10-балльной шкале;\n",
    "\n",
    "`Efforts` — затраты ресурсов на проверку гипотезы по 10-балльной шкале. \n",
    "Чем больше значение Efforts, тем дороже проверка гипотезы."
   ]
  },
  {
   "cell_type": "markdown",
   "metadata": {},
   "source": [
    "### Данные для второй части:\n",
    "    "
   ]
  },
  {
   "cell_type": "markdown",
   "metadata": {},
   "source": [
    " #### Датасет №1:\n",
    "\n",
    "`transactionId` — идентификатор заказа;\n",
    "\n",
    "`visitorId` — идентификатор пользователя, совершившего заказ;\n",
    "\n",
    "`date` — дата, когда был совершён заказ;\n",
    "\n",
    "`revenue` — выручка заказа;\n",
    "\n",
    "`group` — группа A/B-теста, в которую попал заказ."
   ]
  },
  {
   "cell_type": "markdown",
   "metadata": {},
   "source": [
    "#### Датасет №2:\n",
    "\n",
    "`date` — дата;\n",
    "\n",
    "`group` — группа A/B-теста;\n",
    "\n",
    "`visitors` — количество пользователей в указанную дату в указанной группе A/B-теста"
   ]
  },
  {
   "cell_type": "markdown",
   "metadata": {},
   "source": [
    "---"
   ]
  },
  {
   "cell_type": "markdown",
   "metadata": {},
   "source": [
    "##  <a name=\"prework\"></a> Предобработка данных"
   ]
  },
  {
   "cell_type": "markdown",
   "metadata": {},
   "source": [
    "### Импортируем данные первой части"
   ]
  },
  {
   "cell_type": "code",
   "execution_count": 59,
   "metadata": {},
   "outputs": [],
   "source": [
    "import numpy as np\n",
    "import pandas as pd\n",
    "import seaborn as sns\n",
    "from matplotlib import pyplot as plt\n",
    "from IPython.display import display\n",
    "\n",
    "import scipy.stats as stats\n",
    "import datetime as dt\n",
    "\n",
    "from io import BytesIO\n",
    "import requests"
   ]
  },
  {
   "cell_type": "code",
   "execution_count": 60,
   "metadata": {},
   "outputs": [
    {
     "data": {
      "text/html": [
       "<div>\n",
       "<style scoped>\n",
       "    .dataframe tbody tr th:only-of-type {\n",
       "        vertical-align: middle;\n",
       "    }\n",
       "\n",
       "    .dataframe tbody tr th {\n",
       "        vertical-align: top;\n",
       "    }\n",
       "\n",
       "    .dataframe thead th {\n",
       "        text-align: right;\n",
       "    }\n",
       "</style>\n",
       "<table border=\"1\" class=\"dataframe\">\n",
       "  <thead>\n",
       "    <tr style=\"text-align: right;\">\n",
       "      <th></th>\n",
       "      <th>Hypothesis</th>\n",
       "      <th>Reach</th>\n",
       "      <th>Impact</th>\n",
       "      <th>Confidence</th>\n",
       "      <th>Efforts</th>\n",
       "    </tr>\n",
       "  </thead>\n",
       "  <tbody>\n",
       "    <tr>\n",
       "      <th>0</th>\n",
       "      <td>Добавить два новых канала привлечения трафика, что позволит привлекать на 30% больше пользователей</td>\n",
       "      <td>3</td>\n",
       "      <td>10</td>\n",
       "      <td>8</td>\n",
       "      <td>6</td>\n",
       "    </tr>\n",
       "    <tr>\n",
       "      <th>1</th>\n",
       "      <td>Запустить собственную службу доставки, что сократит срок доставки заказов</td>\n",
       "      <td>2</td>\n",
       "      <td>5</td>\n",
       "      <td>4</td>\n",
       "      <td>10</td>\n",
       "    </tr>\n",
       "    <tr>\n",
       "      <th>2</th>\n",
       "      <td>Добавить блоки рекомендаций товаров на сайт интернет магазина, чтобы повысить конверсию и средний чек заказа</td>\n",
       "      <td>8</td>\n",
       "      <td>3</td>\n",
       "      <td>7</td>\n",
       "      <td>3</td>\n",
       "    </tr>\n",
       "    <tr>\n",
       "      <th>3</th>\n",
       "      <td>Изменить структура категорий, что увеличит конверсию, т.к. пользователи быстрее найдут нужный товар</td>\n",
       "      <td>8</td>\n",
       "      <td>3</td>\n",
       "      <td>3</td>\n",
       "      <td>8</td>\n",
       "    </tr>\n",
       "    <tr>\n",
       "      <th>4</th>\n",
       "      <td>Изменить цвет фона главной страницы, чтобы увеличить вовлеченность пользователей</td>\n",
       "      <td>3</td>\n",
       "      <td>1</td>\n",
       "      <td>1</td>\n",
       "      <td>1</td>\n",
       "    </tr>\n",
       "    <tr>\n",
       "      <th>5</th>\n",
       "      <td>Добавить страницу отзывов клиентов о магазине, что позволит увеличить количество заказов</td>\n",
       "      <td>3</td>\n",
       "      <td>2</td>\n",
       "      <td>2</td>\n",
       "      <td>3</td>\n",
       "    </tr>\n",
       "    <tr>\n",
       "      <th>6</th>\n",
       "      <td>Показать на главной странице баннеры с актуальными акциями и распродажами, чтобы увеличить конверсию</td>\n",
       "      <td>5</td>\n",
       "      <td>3</td>\n",
       "      <td>8</td>\n",
       "      <td>3</td>\n",
       "    </tr>\n",
       "    <tr>\n",
       "      <th>7</th>\n",
       "      <td>Добавить форму подписки на все основные страницы, чтобы собрать базу клиентов для email-рассылок</td>\n",
       "      <td>10</td>\n",
       "      <td>7</td>\n",
       "      <td>8</td>\n",
       "      <td>5</td>\n",
       "    </tr>\n",
       "    <tr>\n",
       "      <th>8</th>\n",
       "      <td>Запустить акцию, дающую скидку на товар в день рождения</td>\n",
       "      <td>1</td>\n",
       "      <td>9</td>\n",
       "      <td>9</td>\n",
       "      <td>5</td>\n",
       "    </tr>\n",
       "  </tbody>\n",
       "</table>\n",
       "</div>"
      ],
      "text/plain": [
       "                                                                                                     Hypothesis  \\\n",
       "0            Добавить два новых канала привлечения трафика, что позволит привлекать на 30% больше пользователей   \n",
       "1                                     Запустить собственную службу доставки, что сократит срок доставки заказов   \n",
       "2  Добавить блоки рекомендаций товаров на сайт интернет магазина, чтобы повысить конверсию и средний чек заказа   \n",
       "3           Изменить структура категорий, что увеличит конверсию, т.к. пользователи быстрее найдут нужный товар   \n",
       "4                              Изменить цвет фона главной страницы, чтобы увеличить вовлеченность пользователей   \n",
       "5                      Добавить страницу отзывов клиентов о магазине, что позволит увеличить количество заказов   \n",
       "6          Показать на главной странице баннеры с актуальными акциями и распродажами, чтобы увеличить конверсию   \n",
       "7              Добавить форму подписки на все основные страницы, чтобы собрать базу клиентов для email-рассылок   \n",
       "8                                                       Запустить акцию, дающую скидку на товар в день рождения   \n",
       "\n",
       "   Reach  Impact  Confidence  Efforts  \n",
       "0      3      10           8        6  \n",
       "1      2       5           4       10  \n",
       "2      8       3           7        3  \n",
       "3      8       3           3        8  \n",
       "4      3       1           1        1  \n",
       "5      3       2           2        3  \n",
       "6      5       3           8        3  \n",
       "7     10       7           8        5  \n",
       "8      1       9           9        5  "
      ]
     },
     "execution_count": 60,
     "metadata": {},
     "output_type": "execute_result"
    }
   ],
   "source": [
    "spreadsheet_id = '11d7ytMPwX7WxBCh7x6jYGIjYnKnVEZggoOc6crUmILQ'\n",
    "file_name = 'https://docs.google.com/spreadsheets/d/{}/export?format=csv'.format(spreadsheet_id)\n",
    "r = requests.get(file_name)\n",
    "data_1 = pd.read_csv(BytesIO(r.content))\n",
    "pd.options.display.max_colwidth = 150\n",
    "data_1"
   ]
  },
  {
   "cell_type": "markdown",
   "metadata": {},
   "source": [
    "**Данные не требуют предобработки**"
   ]
  },
  {
   "cell_type": "markdown",
   "metadata": {},
   "source": [
    "### Импортируем данные второй части"
   ]
  },
  {
   "cell_type": "code",
   "execution_count": 61,
   "metadata": {},
   "outputs": [
    {
     "data": {
      "text/html": [
       "<div>\n",
       "<style scoped>\n",
       "    .dataframe tbody tr th:only-of-type {\n",
       "        vertical-align: middle;\n",
       "    }\n",
       "\n",
       "    .dataframe tbody tr th {\n",
       "        vertical-align: top;\n",
       "    }\n",
       "\n",
       "    .dataframe thead th {\n",
       "        text-align: right;\n",
       "    }\n",
       "</style>\n",
       "<table border=\"1\" class=\"dataframe\">\n",
       "  <thead>\n",
       "    <tr style=\"text-align: right;\">\n",
       "      <th></th>\n",
       "      <th>transactionId</th>\n",
       "      <th>visitorId</th>\n",
       "      <th>date</th>\n",
       "      <th>revenue</th>\n",
       "      <th>group</th>\n",
       "    </tr>\n",
       "  </thead>\n",
       "  <tbody>\n",
       "    <tr>\n",
       "      <th>0</th>\n",
       "      <td>3667963787</td>\n",
       "      <td>3312258926</td>\n",
       "      <td>2019-08-15</td>\n",
       "      <td>1650</td>\n",
       "      <td>B</td>\n",
       "    </tr>\n",
       "    <tr>\n",
       "      <th>1</th>\n",
       "      <td>2804400009</td>\n",
       "      <td>3642806036</td>\n",
       "      <td>2019-08-15</td>\n",
       "      <td>730</td>\n",
       "      <td>B</td>\n",
       "    </tr>\n",
       "    <tr>\n",
       "      <th>2</th>\n",
       "      <td>2961555356</td>\n",
       "      <td>4069496402</td>\n",
       "      <td>2019-08-15</td>\n",
       "      <td>400</td>\n",
       "      <td>A</td>\n",
       "    </tr>\n",
       "    <tr>\n",
       "      <th>3</th>\n",
       "      <td>3797467345</td>\n",
       "      <td>1196621759</td>\n",
       "      <td>2019-08-15</td>\n",
       "      <td>9759</td>\n",
       "      <td>B</td>\n",
       "    </tr>\n",
       "    <tr>\n",
       "      <th>4</th>\n",
       "      <td>2282983706</td>\n",
       "      <td>2322279887</td>\n",
       "      <td>2019-08-15</td>\n",
       "      <td>2308</td>\n",
       "      <td>B</td>\n",
       "    </tr>\n",
       "    <tr>\n",
       "      <th>...</th>\n",
       "      <td>...</td>\n",
       "      <td>...</td>\n",
       "      <td>...</td>\n",
       "      <td>...</td>\n",
       "      <td>...</td>\n",
       "    </tr>\n",
       "    <tr>\n",
       "      <th>1192</th>\n",
       "      <td>2662137336</td>\n",
       "      <td>3733762160</td>\n",
       "      <td>2019-08-14</td>\n",
       "      <td>6490</td>\n",
       "      <td>B</td>\n",
       "    </tr>\n",
       "    <tr>\n",
       "      <th>1193</th>\n",
       "      <td>2203539145</td>\n",
       "      <td>370388673</td>\n",
       "      <td>2019-08-14</td>\n",
       "      <td>3190</td>\n",
       "      <td>A</td>\n",
       "    </tr>\n",
       "    <tr>\n",
       "      <th>1194</th>\n",
       "      <td>1807773912</td>\n",
       "      <td>573423106</td>\n",
       "      <td>2019-08-14</td>\n",
       "      <td>10550</td>\n",
       "      <td>A</td>\n",
       "    </tr>\n",
       "    <tr>\n",
       "      <th>1195</th>\n",
       "      <td>1947021204</td>\n",
       "      <td>1614305549</td>\n",
       "      <td>2019-08-14</td>\n",
       "      <td>100</td>\n",
       "      <td>A</td>\n",
       "    </tr>\n",
       "    <tr>\n",
       "      <th>1196</th>\n",
       "      <td>3936777065</td>\n",
       "      <td>2108080724</td>\n",
       "      <td>2019-08-15</td>\n",
       "      <td>202740</td>\n",
       "      <td>B</td>\n",
       "    </tr>\n",
       "  </tbody>\n",
       "</table>\n",
       "<p>1197 rows × 5 columns</p>\n",
       "</div>"
      ],
      "text/plain": [
       "      transactionId   visitorId        date  revenue group\n",
       "0        3667963787  3312258926  2019-08-15     1650     B\n",
       "1        2804400009  3642806036  2019-08-15      730     B\n",
       "2        2961555356  4069496402  2019-08-15      400     A\n",
       "3        3797467345  1196621759  2019-08-15     9759     B\n",
       "4        2282983706  2322279887  2019-08-15     2308     B\n",
       "...             ...         ...         ...      ...   ...\n",
       "1192     2662137336  3733762160  2019-08-14     6490     B\n",
       "1193     2203539145   370388673  2019-08-14     3190     A\n",
       "1194     1807773912   573423106  2019-08-14    10550     A\n",
       "1195     1947021204  1614305549  2019-08-14      100     A\n",
       "1196     3936777065  2108080724  2019-08-15   202740     B\n",
       "\n",
       "[1197 rows x 5 columns]"
      ]
     },
     "execution_count": 61,
     "metadata": {},
     "output_type": "execute_result"
    }
   ],
   "source": [
    "spreadsheet_id = '1NgCtOqj00U7dg86T_eTCIQ_M92ArJrOqceH_Bbreg_I'\n",
    "file_name = 'https://docs.google.com/spreadsheets/d/{}/export?format=csv'.format(spreadsheet_id)\n",
    "r = requests.get(file_name)\n",
    "orders = pd.read_csv(BytesIO(r.content))\n",
    "# pd.options.display.max_colwidth = 150\n",
    "orders"
   ]
  },
  {
   "cell_type": "code",
   "execution_count": 62,
   "metadata": {},
   "outputs": [
    {
     "data": {
      "text/html": [
       "<div>\n",
       "<style scoped>\n",
       "    .dataframe tbody tr th:only-of-type {\n",
       "        vertical-align: middle;\n",
       "    }\n",
       "\n",
       "    .dataframe tbody tr th {\n",
       "        vertical-align: top;\n",
       "    }\n",
       "\n",
       "    .dataframe thead th {\n",
       "        text-align: right;\n",
       "    }\n",
       "</style>\n",
       "<table border=\"1\" class=\"dataframe\">\n",
       "  <thead>\n",
       "    <tr style=\"text-align: right;\">\n",
       "      <th></th>\n",
       "      <th>date</th>\n",
       "      <th>group</th>\n",
       "      <th>visitors</th>\n",
       "    </tr>\n",
       "  </thead>\n",
       "  <tbody>\n",
       "    <tr>\n",
       "      <th>0</th>\n",
       "      <td>2019-08-01</td>\n",
       "      <td>A</td>\n",
       "      <td>719</td>\n",
       "    </tr>\n",
       "    <tr>\n",
       "      <th>1</th>\n",
       "      <td>2019-08-02</td>\n",
       "      <td>A</td>\n",
       "      <td>619</td>\n",
       "    </tr>\n",
       "    <tr>\n",
       "      <th>2</th>\n",
       "      <td>2019-08-03</td>\n",
       "      <td>A</td>\n",
       "      <td>507</td>\n",
       "    </tr>\n",
       "    <tr>\n",
       "      <th>3</th>\n",
       "      <td>2019-08-04</td>\n",
       "      <td>A</td>\n",
       "      <td>717</td>\n",
       "    </tr>\n",
       "    <tr>\n",
       "      <th>4</th>\n",
       "      <td>2019-08-05</td>\n",
       "      <td>A</td>\n",
       "      <td>756</td>\n",
       "    </tr>\n",
       "    <tr>\n",
       "      <th>...</th>\n",
       "      <td>...</td>\n",
       "      <td>...</td>\n",
       "      <td>...</td>\n",
       "    </tr>\n",
       "    <tr>\n",
       "      <th>57</th>\n",
       "      <td>2019-08-27</td>\n",
       "      <td>B</td>\n",
       "      <td>720</td>\n",
       "    </tr>\n",
       "    <tr>\n",
       "      <th>58</th>\n",
       "      <td>2019-08-28</td>\n",
       "      <td>B</td>\n",
       "      <td>654</td>\n",
       "    </tr>\n",
       "    <tr>\n",
       "      <th>59</th>\n",
       "      <td>2019-08-29</td>\n",
       "      <td>B</td>\n",
       "      <td>531</td>\n",
       "    </tr>\n",
       "    <tr>\n",
       "      <th>60</th>\n",
       "      <td>2019-08-30</td>\n",
       "      <td>B</td>\n",
       "      <td>490</td>\n",
       "    </tr>\n",
       "    <tr>\n",
       "      <th>61</th>\n",
       "      <td>2019-08-31</td>\n",
       "      <td>B</td>\n",
       "      <td>718</td>\n",
       "    </tr>\n",
       "  </tbody>\n",
       "</table>\n",
       "<p>62 rows × 3 columns</p>\n",
       "</div>"
      ],
      "text/plain": [
       "          date group  visitors\n",
       "0   2019-08-01     A       719\n",
       "1   2019-08-02     A       619\n",
       "2   2019-08-03     A       507\n",
       "3   2019-08-04     A       717\n",
       "4   2019-08-05     A       756\n",
       "..         ...   ...       ...\n",
       "57  2019-08-27     B       720\n",
       "58  2019-08-28     B       654\n",
       "59  2019-08-29     B       531\n",
       "60  2019-08-30     B       490\n",
       "61  2019-08-31     B       718\n",
       "\n",
       "[62 rows x 3 columns]"
      ]
     },
     "execution_count": 62,
     "metadata": {},
     "output_type": "execute_result"
    }
   ],
   "source": [
    "spreadsheet_id = '10lpNhJ-M4Ypw-tJ7mQ_Hk2ZzwSQRU2c2r8bMn2UYv2U'\n",
    "file_name = 'https://docs.google.com/spreadsheets/d/{}/export?format=csv'.format(spreadsheet_id)\n",
    "r = requests.get(file_name)\n",
    "visitors = pd.read_csv(BytesIO(r.content))\n",
    "# pd.options.display.max_colwidth = 150\n",
    "visitors"
   ]
  },
  {
   "cell_type": "markdown",
   "metadata": {},
   "source": [
    "#### <a name=\"orders_prework\"></a>  Предобработка orders"
   ]
  },
  {
   "cell_type": "markdown",
   "metadata": {},
   "source": [
    "Меняем тип столбца \"date\""
   ]
  },
  {
   "cell_type": "code",
   "execution_count": 63,
   "metadata": {},
   "outputs": [],
   "source": [
    "orders[\"date\"] = orders[\"date\"].map(lambda x: dt.datetime.strptime(x, '%Y-%m-%d'))"
   ]
  },
  {
   "cell_type": "markdown",
   "metadata": {},
   "source": [
    "Проверяем дубликаты:"
   ]
  },
  {
   "cell_type": "code",
   "execution_count": 64,
   "metadata": {},
   "outputs": [
    {
     "name": "stdout",
     "output_type": "stream",
     "text": [
      "Кол-во дубликатов = 0\n"
     ]
    }
   ],
   "source": [
    "print(\"Кол-во дубликатов =\",orders.duplicated().sum())"
   ]
  },
  {
   "cell_type": "markdown",
   "metadata": {},
   "source": [
    "####  <a name=\"visitors_prework\"></a>  Предобработка visitors"
   ]
  },
  {
   "cell_type": "markdown",
   "metadata": {},
   "source": [
    "Меняем тип столбца \"date\""
   ]
  },
  {
   "cell_type": "code",
   "execution_count": 65,
   "metadata": {},
   "outputs": [],
   "source": [
    "visitors[\"date\"] = visitors[\"date\"].map(lambda x: dt.datetime.strptime(x, '%Y-%m-%d'))"
   ]
  },
  {
   "cell_type": "markdown",
   "metadata": {},
   "source": [
    "Проверяем дубликаты:"
   ]
  },
  {
   "cell_type": "code",
   "execution_count": 66,
   "metadata": {},
   "outputs": [
    {
     "name": "stdout",
     "output_type": "stream",
     "text": [
      "Кол-во дубликатов = 0\n"
     ]
    }
   ],
   "source": [
    "print(\"Кол-во дубликатов =\",visitors.duplicated().sum())"
   ]
  },
  {
   "cell_type": "markdown",
   "metadata": {},
   "source": [
    "**Предобработка окончена, двигаемся дальше!**"
   ]
  },
  {
   "cell_type": "markdown",
   "metadata": {},
   "source": [
    "---"
   ]
  },
  {
   "cell_type": "markdown",
   "metadata": {},
   "source": [
    "## <a name=\"part_1\"></a>  Часть 1. Приоритизация гипотез."
   ]
  },
  {
   "cell_type": "markdown",
   "metadata": {},
   "source": [
    "### <a name=\"ice_frame\"></a>  Фреймворк ICE"
   ]
  },
  {
   "cell_type": "code",
   "execution_count": 67,
   "metadata": {},
   "outputs": [
    {
     "data": {
      "text/html": [
       "<div>\n",
       "<style scoped>\n",
       "    .dataframe tbody tr th:only-of-type {\n",
       "        vertical-align: middle;\n",
       "    }\n",
       "\n",
       "    .dataframe tbody tr th {\n",
       "        vertical-align: top;\n",
       "    }\n",
       "\n",
       "    .dataframe thead th {\n",
       "        text-align: right;\n",
       "    }\n",
       "</style>\n",
       "<table border=\"1\" class=\"dataframe\">\n",
       "  <thead>\n",
       "    <tr style=\"text-align: right;\">\n",
       "      <th></th>\n",
       "      <th>Hypothesis</th>\n",
       "      <th>Reach</th>\n",
       "      <th>Impact</th>\n",
       "      <th>Confidence</th>\n",
       "      <th>Efforts</th>\n",
       "      <th>ice</th>\n",
       "    </tr>\n",
       "  </thead>\n",
       "  <tbody>\n",
       "    <tr>\n",
       "      <th>8</th>\n",
       "      <td>Запустить акцию, дающую скидку на товар в день рождения</td>\n",
       "      <td>1</td>\n",
       "      <td>9</td>\n",
       "      <td>9</td>\n",
       "      <td>5</td>\n",
       "      <td>16.200000</td>\n",
       "    </tr>\n",
       "    <tr>\n",
       "      <th>0</th>\n",
       "      <td>Добавить два новых канала привлечения трафика, что позволит привлекать на 30% больше пользователей</td>\n",
       "      <td>3</td>\n",
       "      <td>10</td>\n",
       "      <td>8</td>\n",
       "      <td>6</td>\n",
       "      <td>13.333333</td>\n",
       "    </tr>\n",
       "    <tr>\n",
       "      <th>7</th>\n",
       "      <td>Добавить форму подписки на все основные страницы, чтобы собрать базу клиентов для email-рассылок</td>\n",
       "      <td>10</td>\n",
       "      <td>7</td>\n",
       "      <td>8</td>\n",
       "      <td>5</td>\n",
       "      <td>11.200000</td>\n",
       "    </tr>\n",
       "    <tr>\n",
       "      <th>6</th>\n",
       "      <td>Показать на главной странице баннеры с актуальными акциями и распродажами, чтобы увеличить конверсию</td>\n",
       "      <td>5</td>\n",
       "      <td>3</td>\n",
       "      <td>8</td>\n",
       "      <td>3</td>\n",
       "      <td>8.000000</td>\n",
       "    </tr>\n",
       "    <tr>\n",
       "      <th>2</th>\n",
       "      <td>Добавить блоки рекомендаций товаров на сайт интернет магазина, чтобы повысить конверсию и средний чек заказа</td>\n",
       "      <td>8</td>\n",
       "      <td>3</td>\n",
       "      <td>7</td>\n",
       "      <td>3</td>\n",
       "      <td>7.000000</td>\n",
       "    </tr>\n",
       "    <tr>\n",
       "      <th>1</th>\n",
       "      <td>Запустить собственную службу доставки, что сократит срок доставки заказов</td>\n",
       "      <td>2</td>\n",
       "      <td>5</td>\n",
       "      <td>4</td>\n",
       "      <td>10</td>\n",
       "      <td>2.000000</td>\n",
       "    </tr>\n",
       "    <tr>\n",
       "      <th>5</th>\n",
       "      <td>Добавить страницу отзывов клиентов о магазине, что позволит увеличить количество заказов</td>\n",
       "      <td>3</td>\n",
       "      <td>2</td>\n",
       "      <td>2</td>\n",
       "      <td>3</td>\n",
       "      <td>1.333333</td>\n",
       "    </tr>\n",
       "    <tr>\n",
       "      <th>3</th>\n",
       "      <td>Изменить структура категорий, что увеличит конверсию, т.к. пользователи быстрее найдут нужный товар</td>\n",
       "      <td>8</td>\n",
       "      <td>3</td>\n",
       "      <td>3</td>\n",
       "      <td>8</td>\n",
       "      <td>1.125000</td>\n",
       "    </tr>\n",
       "    <tr>\n",
       "      <th>4</th>\n",
       "      <td>Изменить цвет фона главной страницы, чтобы увеличить вовлеченность пользователей</td>\n",
       "      <td>3</td>\n",
       "      <td>1</td>\n",
       "      <td>1</td>\n",
       "      <td>1</td>\n",
       "      <td>1.000000</td>\n",
       "    </tr>\n",
       "  </tbody>\n",
       "</table>\n",
       "</div>"
      ],
      "text/plain": [
       "                                                                                                     Hypothesis  \\\n",
       "8                                                       Запустить акцию, дающую скидку на товар в день рождения   \n",
       "0            Добавить два новых канала привлечения трафика, что позволит привлекать на 30% больше пользователей   \n",
       "7              Добавить форму подписки на все основные страницы, чтобы собрать базу клиентов для email-рассылок   \n",
       "6          Показать на главной странице баннеры с актуальными акциями и распродажами, чтобы увеличить конверсию   \n",
       "2  Добавить блоки рекомендаций товаров на сайт интернет магазина, чтобы повысить конверсию и средний чек заказа   \n",
       "1                                     Запустить собственную службу доставки, что сократит срок доставки заказов   \n",
       "5                      Добавить страницу отзывов клиентов о магазине, что позволит увеличить количество заказов   \n",
       "3           Изменить структура категорий, что увеличит конверсию, т.к. пользователи быстрее найдут нужный товар   \n",
       "4                              Изменить цвет фона главной страницы, чтобы увеличить вовлеченность пользователей   \n",
       "\n",
       "   Reach  Impact  Confidence  Efforts        ice  \n",
       "8      1       9           9        5  16.200000  \n",
       "0      3      10           8        6  13.333333  \n",
       "7     10       7           8        5  11.200000  \n",
       "6      5       3           8        3   8.000000  \n",
       "2      8       3           7        3   7.000000  \n",
       "1      2       5           4       10   2.000000  \n",
       "5      3       2           2        3   1.333333  \n",
       "3      8       3           3        8   1.125000  \n",
       "4      3       1           1        1   1.000000  "
      ]
     },
     "execution_count": 67,
     "metadata": {},
     "output_type": "execute_result"
    }
   ],
   "source": [
    "data_1['ice'] = data_1['Impact'] * data_1['Confidence'] / data_1['Efforts']\n",
    "data_1.sort_values(by = 'ice', ascending = False)"
   ]
  },
  {
   "cell_type": "markdown",
   "metadata": {},
   "source": [
    "### <a name=\"rice_frame\"></a>  Фреймворк RICE"
   ]
  },
  {
   "cell_type": "code",
   "execution_count": 68,
   "metadata": {},
   "outputs": [
    {
     "data": {
      "text/html": [
       "<div>\n",
       "<style scoped>\n",
       "    .dataframe tbody tr th:only-of-type {\n",
       "        vertical-align: middle;\n",
       "    }\n",
       "\n",
       "    .dataframe tbody tr th {\n",
       "        vertical-align: top;\n",
       "    }\n",
       "\n",
       "    .dataframe thead th {\n",
       "        text-align: right;\n",
       "    }\n",
       "</style>\n",
       "<table border=\"1\" class=\"dataframe\">\n",
       "  <thead>\n",
       "    <tr style=\"text-align: right;\">\n",
       "      <th></th>\n",
       "      <th>Hypothesis</th>\n",
       "      <th>Reach</th>\n",
       "      <th>Impact</th>\n",
       "      <th>Confidence</th>\n",
       "      <th>Efforts</th>\n",
       "      <th>ice</th>\n",
       "      <th>rice</th>\n",
       "    </tr>\n",
       "  </thead>\n",
       "  <tbody>\n",
       "    <tr>\n",
       "      <th>7</th>\n",
       "      <td>Добавить форму подписки на все основные страницы, чтобы собрать базу клиентов для email-рассылок</td>\n",
       "      <td>10</td>\n",
       "      <td>7</td>\n",
       "      <td>8</td>\n",
       "      <td>5</td>\n",
       "      <td>11.200000</td>\n",
       "      <td>112.0</td>\n",
       "    </tr>\n",
       "    <tr>\n",
       "      <th>2</th>\n",
       "      <td>Добавить блоки рекомендаций товаров на сайт интернет магазина, чтобы повысить конверсию и средний чек заказа</td>\n",
       "      <td>8</td>\n",
       "      <td>3</td>\n",
       "      <td>7</td>\n",
       "      <td>3</td>\n",
       "      <td>7.000000</td>\n",
       "      <td>56.0</td>\n",
       "    </tr>\n",
       "    <tr>\n",
       "      <th>0</th>\n",
       "      <td>Добавить два новых канала привлечения трафика, что позволит привлекать на 30% больше пользователей</td>\n",
       "      <td>3</td>\n",
       "      <td>10</td>\n",
       "      <td>8</td>\n",
       "      <td>6</td>\n",
       "      <td>13.333333</td>\n",
       "      <td>40.0</td>\n",
       "    </tr>\n",
       "    <tr>\n",
       "      <th>6</th>\n",
       "      <td>Показать на главной странице баннеры с актуальными акциями и распродажами, чтобы увеличить конверсию</td>\n",
       "      <td>5</td>\n",
       "      <td>3</td>\n",
       "      <td>8</td>\n",
       "      <td>3</td>\n",
       "      <td>8.000000</td>\n",
       "      <td>40.0</td>\n",
       "    </tr>\n",
       "    <tr>\n",
       "      <th>8</th>\n",
       "      <td>Запустить акцию, дающую скидку на товар в день рождения</td>\n",
       "      <td>1</td>\n",
       "      <td>9</td>\n",
       "      <td>9</td>\n",
       "      <td>5</td>\n",
       "      <td>16.200000</td>\n",
       "      <td>16.2</td>\n",
       "    </tr>\n",
       "    <tr>\n",
       "      <th>3</th>\n",
       "      <td>Изменить структура категорий, что увеличит конверсию, т.к. пользователи быстрее найдут нужный товар</td>\n",
       "      <td>8</td>\n",
       "      <td>3</td>\n",
       "      <td>3</td>\n",
       "      <td>8</td>\n",
       "      <td>1.125000</td>\n",
       "      <td>9.0</td>\n",
       "    </tr>\n",
       "    <tr>\n",
       "      <th>1</th>\n",
       "      <td>Запустить собственную службу доставки, что сократит срок доставки заказов</td>\n",
       "      <td>2</td>\n",
       "      <td>5</td>\n",
       "      <td>4</td>\n",
       "      <td>10</td>\n",
       "      <td>2.000000</td>\n",
       "      <td>4.0</td>\n",
       "    </tr>\n",
       "    <tr>\n",
       "      <th>5</th>\n",
       "      <td>Добавить страницу отзывов клиентов о магазине, что позволит увеличить количество заказов</td>\n",
       "      <td>3</td>\n",
       "      <td>2</td>\n",
       "      <td>2</td>\n",
       "      <td>3</td>\n",
       "      <td>1.333333</td>\n",
       "      <td>4.0</td>\n",
       "    </tr>\n",
       "    <tr>\n",
       "      <th>4</th>\n",
       "      <td>Изменить цвет фона главной страницы, чтобы увеличить вовлеченность пользователей</td>\n",
       "      <td>3</td>\n",
       "      <td>1</td>\n",
       "      <td>1</td>\n",
       "      <td>1</td>\n",
       "      <td>1.000000</td>\n",
       "      <td>3.0</td>\n",
       "    </tr>\n",
       "  </tbody>\n",
       "</table>\n",
       "</div>"
      ],
      "text/plain": [
       "                                                                                                     Hypothesis  \\\n",
       "7              Добавить форму подписки на все основные страницы, чтобы собрать базу клиентов для email-рассылок   \n",
       "2  Добавить блоки рекомендаций товаров на сайт интернет магазина, чтобы повысить конверсию и средний чек заказа   \n",
       "0            Добавить два новых канала привлечения трафика, что позволит привлекать на 30% больше пользователей   \n",
       "6          Показать на главной странице баннеры с актуальными акциями и распродажами, чтобы увеличить конверсию   \n",
       "8                                                       Запустить акцию, дающую скидку на товар в день рождения   \n",
       "3           Изменить структура категорий, что увеличит конверсию, т.к. пользователи быстрее найдут нужный товар   \n",
       "1                                     Запустить собственную службу доставки, что сократит срок доставки заказов   \n",
       "5                      Добавить страницу отзывов клиентов о магазине, что позволит увеличить количество заказов   \n",
       "4                              Изменить цвет фона главной страницы, чтобы увеличить вовлеченность пользователей   \n",
       "\n",
       "   Reach  Impact  Confidence  Efforts        ice   rice  \n",
       "7     10       7           8        5  11.200000  112.0  \n",
       "2      8       3           7        3   7.000000   56.0  \n",
       "0      3      10           8        6  13.333333   40.0  \n",
       "6      5       3           8        3   8.000000   40.0  \n",
       "8      1       9           9        5  16.200000   16.2  \n",
       "3      8       3           3        8   1.125000    9.0  \n",
       "1      2       5           4       10   2.000000    4.0  \n",
       "5      3       2           2        3   1.333333    4.0  \n",
       "4      3       1           1        1   1.000000    3.0  "
      ]
     },
     "execution_count": 68,
     "metadata": {},
     "output_type": "execute_result"
    }
   ],
   "source": [
    "data_1['rice'] = data_1['Reach'] * data_1['Impact'] * data_1['Confidence'] / data_1['Efforts']\n",
    "data_1.sort_values(by = 'rice', ascending = False)"
   ]
  },
  {
   "cell_type": "markdown",
   "metadata": {},
   "source": [
    "###  <a name=\"conclusion_1\"></a>  Вывод"
   ]
  },
  {
   "cell_type": "markdown",
   "metadata": {},
   "source": [
    "Мы видим, что сортировка задач по ICE отличается от сортировки по RICE. Это связано с тем, что в RICE используется дополнительный параметр Reach, который отвечает за то, скольких пользователей затронет изменение, которое мы хотим внести. Соответственно, если мы понимаем, что нам нужно приоритизировать какую-то задачу и мы хотим повлиять на наибольшее количество пользователей, мы будем использовать RICE. Если нас не волнует процент пользователей, на который мы влияем, мы используем ICE."
   ]
  },
  {
   "cell_type": "markdown",
   "metadata": {},
   "source": [
    "По ICE приоритетными гипотезами являются: «Запустить акцию дающую скидку на товар в день рождения» и «Добавить два новых канала привлечения трафика». Однако, эти гипотезы имеют очень низкий параметр Reach, то есть они не затронут большого количества пользователей, но поскольку этот параметр не учитывается в ICE, эти гипотезы возглавляют список приоритезации по всем остальным параметрам.\n",
    "\n",
    "По RICE приоритетные гипотезы уже другие. Здесь учитывается параметр Reach и благодаря ему гипотеза «Добавить форму подписки на все основные страницы» вырывается вперед. Она имеет показатель Reach равный 10, то есть она затронет 100% пользователей.\n",
    "\n",
    "В итоге, если мы хотим, чтобы наше нововведение затронуло наибольшее число пользователей и при этом все равно имело высокие остальные показатели, мы должны рассматривать гипотезу «Добавить форму подписки на все основные страницы, чтобы собрать базу клиентов для email-рассылок» - ту гипотезу, которая является приоритетной по методу RICE.\n"
   ]
  },
  {
   "cell_type": "markdown",
   "metadata": {},
   "source": [
    "---"
   ]
  },
  {
   "cell_type": "markdown",
   "metadata": {},
   "source": [
    "##  <a name=\"part_2\"></a>  Часть 2. Анализ A/B-теста"
   ]
  },
  {
   "cell_type": "markdown",
   "metadata": {},
   "source": [
    "После проведения А/В тестирования мы получили определенные данные, которые содержатся в таблицах `orders` и `visitors`. \n",
    "\n",
    "Мы должны проанализировать данные, посмотреть, есть ли различия по определенным метрикам между группами А/В теста и сделать выводы, на сколько сильно группы в тесте отличаются друг от друга и стоит ли компании дальше использовать те изменения которые проверялись в ходе А/В тестирования.\n"
   ]
  },
  {
   "cell_type": "markdown",
   "metadata": {},
   "source": [
    "#### <a name=\"corr_check\"></a>  Для начала проверим корректность проведенного A/B тестирования."
   ]
  },
  {
   "cell_type": "markdown",
   "metadata": {},
   "source": [
    "Посмотрим на размер групп, участвоваших в тесте."
   ]
  },
  {
   "cell_type": "code",
   "execution_count": 69,
   "metadata": {},
   "outputs": [
    {
     "name": "stdout",
     "output_type": "stream",
     "text": [
      "Кол-во посетителей в группе А: 18736\n",
      "Кол-во посетителей в группе B: 18916\n",
      "Кол-во покупок в группе A: 557\n",
      "Кол-во покупок в группе B: 640\n"
     ]
    }
   ],
   "source": [
    "print('Кол-во посетителей в группе А: {}\\n'\n",
    "      'Кол-во посетителей в группе B: {}'.format(visitors[visitors['group']=='A']['visitors'].sum(), \n",
    "                                                 visitors[visitors['group']=='B']['visitors'].sum()))\n",
    "purchasesA = len(orders[orders['group']=='A'])\n",
    "purchasesB = len(orders[orders['group']=='B'])\n",
    "\n",
    "print('Кол-во покупок в группе A: {}'.format(purchasesA))\n",
    "print('Кол-во покупок в группе B: {}'.format(purchasesB))"
   ]
  },
  {
   "cell_type": "code",
   "execution_count": 70,
   "metadata": {},
   "outputs": [
    {
     "name": "stdout",
     "output_type": "stream",
     "text": [
      "Начальная конверсия: 0.030\n",
      "Полученная после изменений конверсия: 0.034\n",
      "Относительное изменение конверсии после изменений: 0.121\n"
     ]
    }
   ],
   "source": [
    "initial_conversion = len(orders[orders['group']=='A']) / visitors[visitors['group']=='A']['visitors'].sum() \n",
    "\n",
    "resulting_conversion = len(orders[orders['group']=='B']) / visitors[visitors['group']=='B']['visitors'].sum()\n",
    "\n",
    "print('Начальная конверсия: {:.3f}'.format(initial_conversion))\n",
    "print('Полученная после изменений конверсия: {:.3f}'.format(resulting_conversion))\n",
    "print('Относительное изменение конверсии после изменений: {:.3f}'.format(abs(1-(initial_conversion/resulting_conversion))))"
   ]
  },
  {
   "cell_type": "markdown",
   "metadata": {},
   "source": [
    "Проверим в калькуляторе (https://www.evanmiller.org/ab-testing/sample-size.html) необходимый размер выборки для проведения теста."
   ]
  },
  {
   "cell_type": "markdown",
   "metadata": {},
   "source": [
    "Вводим `Baseline conversion rate` = 3% и `Minimum Detectable Effect` = 12.1%, также указываем тип \"Relative\"."
   ]
  },
  {
   "cell_type": "markdown",
   "metadata": {},
   "source": [
    "Минимальный размер выборки 35 269, у нас 37 652.\n",
    "\n",
    "Размер выборки для A/B тестирования подобран корректно."
   ]
  },
  {
   "cell_type": "markdown",
   "metadata": {},
   "source": [
    "#### <a name=\"people_check\"></a> Проверим аудиторию проведенного A/B тестирования"
   ]
  },
  {
   "cell_type": "code",
   "execution_count": 71,
   "metadata": {},
   "outputs": [
    {
     "name": "stdout",
     "output_type": "stream",
     "text": [
      "            group\n",
      "visitorId        \n",
      "5114589         1\n",
      "6958315         1\n",
      "8300375         2\n",
      "11685486        1\n",
      "39475350        1\n",
      "...           ...\n",
      "4266935830      2\n",
      "4278982564      1\n",
      "4279090005      1\n",
      "4281247801      1\n",
      "4283872382      1\n",
      "\n",
      "[1031 rows x 1 columns]\n"
     ]
    }
   ],
   "source": [
    "gr = orders.groupby('visitorId').agg({'group' : 'nunique'})\n",
    "print(gr)"
   ]
  },
  {
   "cell_type": "code",
   "execution_count": 72,
   "metadata": {},
   "outputs": [
    {
     "data": {
      "text/plain": [
       "group    58\n",
       "dtype: int64"
      ]
     },
     "execution_count": 72,
     "metadata": {},
     "output_type": "execute_result"
    }
   ],
   "source": [
    "gr.loc[gr['group'] == 2].count()"
   ]
  },
  {
   "cell_type": "markdown",
   "metadata": {},
   "source": [
    "Мы видим, что некоторые ID присутствуют в 2х группах, это значит, что группы теста пересекаются."
   ]
  },
  {
   "cell_type": "markdown",
   "metadata": {},
   "source": [
    "Найдем и удалим таких пользователей, их 58. Мы имеем запас по размеру выборки, так что удаление пользователей не принесет статистически значимых изменений в наш тест и он все равно останется корректно проведенным."
   ]
  },
  {
   "cell_type": "code",
   "execution_count": 73,
   "metadata": {},
   "outputs": [
    {
     "name": "stdout",
     "output_type": "stream",
     "text": [
      "not exist\n"
     ]
    }
   ],
   "source": [
    "users_a = set(orders[orders['group'] == 'A']['visitorId'].unique())\n",
    "users_b = set(orders[orders['group'] == 'B']['visitorId'].unique())\n",
    "users_ab = list(users_a & users_b)\n",
    "\n",
    "orders = orders[~orders['visitorId'].isin(users_ab)]\n",
    "\n",
    "test = orders['visitorId']\n",
    "\n",
    "# проверка, действительно ли рандомный Id из списка users_ab больше не в orders\n",
    "i = 8300375\n",
    "\n",
    "if i in test:\n",
    "    print(\"exist\")\n",
    "else:\n",
    "    print(\"not exist\")"
   ]
  },
  {
   "cell_type": "code",
   "execution_count": 74,
   "metadata": {
    "scrolled": true
   },
   "outputs": [
    {
     "data": {
      "text/html": [
       "<div>\n",
       "<style scoped>\n",
       "    .dataframe tbody tr th:only-of-type {\n",
       "        vertical-align: middle;\n",
       "    }\n",
       "\n",
       "    .dataframe tbody tr th {\n",
       "        vertical-align: top;\n",
       "    }\n",
       "\n",
       "    .dataframe thead th {\n",
       "        text-align: right;\n",
       "    }\n",
       "</style>\n",
       "<table border=\"1\" class=\"dataframe\">\n",
       "  <thead>\n",
       "    <tr style=\"text-align: right;\">\n",
       "      <th></th>\n",
       "      <th>group</th>\n",
       "    </tr>\n",
       "    <tr>\n",
       "      <th>visitorId</th>\n",
       "      <th></th>\n",
       "    </tr>\n",
       "  </thead>\n",
       "  <tbody>\n",
       "    <tr>\n",
       "      <th>5114589</th>\n",
       "      <td>1</td>\n",
       "    </tr>\n",
       "    <tr>\n",
       "      <th>6958315</th>\n",
       "      <td>1</td>\n",
       "    </tr>\n",
       "    <tr>\n",
       "      <th>11685486</th>\n",
       "      <td>1</td>\n",
       "    </tr>\n",
       "    <tr>\n",
       "      <th>39475350</th>\n",
       "      <td>1</td>\n",
       "    </tr>\n",
       "    <tr>\n",
       "      <th>47206413</th>\n",
       "      <td>1</td>\n",
       "    </tr>\n",
       "    <tr>\n",
       "      <th>...</th>\n",
       "      <td>...</td>\n",
       "    </tr>\n",
       "    <tr>\n",
       "      <th>4259830713</th>\n",
       "      <td>1</td>\n",
       "    </tr>\n",
       "    <tr>\n",
       "      <th>4278982564</th>\n",
       "      <td>1</td>\n",
       "    </tr>\n",
       "    <tr>\n",
       "      <th>4279090005</th>\n",
       "      <td>1</td>\n",
       "    </tr>\n",
       "    <tr>\n",
       "      <th>4281247801</th>\n",
       "      <td>1</td>\n",
       "    </tr>\n",
       "    <tr>\n",
       "      <th>4283872382</th>\n",
       "      <td>1</td>\n",
       "    </tr>\n",
       "  </tbody>\n",
       "</table>\n",
       "<p>973 rows × 1 columns</p>\n",
       "</div>"
      ],
      "text/plain": [
       "            group\n",
       "visitorId        \n",
       "5114589         1\n",
       "6958315         1\n",
       "11685486        1\n",
       "39475350        1\n",
       "47206413        1\n",
       "...           ...\n",
       "4259830713      1\n",
       "4278982564      1\n",
       "4279090005      1\n",
       "4281247801      1\n",
       "4283872382      1\n",
       "\n",
       "[973 rows x 1 columns]"
      ]
     },
     "execution_count": 74,
     "metadata": {},
     "output_type": "execute_result"
    }
   ],
   "source": [
    "orders.groupby('visitorId').agg({'group' : 'nunique'})"
   ]
  },
  {
   "cell_type": "markdown",
   "metadata": {},
   "source": [
    "Дублирующиеся пользователи удалены, аудитория теста не имеет пересечений."
   ]
  },
  {
   "cell_type": "markdown",
   "metadata": {},
   "source": [
    "#### <a name=\"period_check\"></a>  Проверим периоды проведения A/B тестирования"
   ]
  },
  {
   "cell_type": "code",
   "execution_count": 75,
   "metadata": {},
   "outputs": [
    {
     "name": "stdout",
     "output_type": "stream",
     "text": [
      "Начальная дата тестирования: 2019-08-01 00:00:00\n",
      "Конечная дата тестирования: 2019-08-31 00:00:00\n"
     ]
    }
   ],
   "source": [
    "print('Начальная дата тестирования:', min(visitors['date']))\n",
    "print('Конечная дата тестирования:', max(visitors['date']))"
   ]
  },
  {
   "cell_type": "markdown",
   "metadata": {},
   "source": [
    "Тестирование проводилось на протяжении всего августа 2019 года"
   ]
  },
  {
   "cell_type": "markdown",
   "metadata": {},
   "source": [
    "#### <a name=\"task_1\"></a>  1. Постройте график кумулятивной выручки по группам. Сделайте выводы и предположения."
   ]
  },
  {
   "cell_type": "code",
   "execution_count": 76,
   "metadata": {},
   "outputs": [],
   "source": [
    "# создаем массив уникальных пар значений дат и групп теста\n",
    "datesGroups = orders[['date','group']].drop_duplicates()"
   ]
  },
  {
   "cell_type": "code",
   "execution_count": 77,
   "metadata": {},
   "outputs": [],
   "source": [
    "# соберём агрегированные кумулятивные по дням данные о заказах\n",
    "ordersAggregated = datesGroups.apply(lambda x: orders[np.logical_and(orders['date'] <= x['date'], orders['group'] == x['group'])]. \\\n",
    "      agg({'date' : 'max',\n",
    "           'group' : 'max',\n",
    "           'transactionId' : 'nunique',\n",
    "           'visitorId' : 'nunique',\n",
    "           'revenue' : 'sum'}), axis=1).sort_values(by=['date','group'])"
   ]
  },
  {
   "cell_type": "code",
   "execution_count": 78,
   "metadata": {},
   "outputs": [],
   "source": [
    "# аналогично получим агрегированные кумулятивные по дням данные о посетителях интернет-магазина\n",
    "visitorsAggregated = datesGroups.apply(lambda x: visitors[np.logical_and(visitors['date'] <= x['date'], visitors['group'] == x['group'])]. \\\n",
    "                                       agg({'date' : 'max',\n",
    "                                            'group' : 'max',\n",
    "                                            'visitors' : 'sum'}), axis=1).sort_values(by=['date','group'])"
   ]
  },
  {
   "cell_type": "code",
   "execution_count": 79,
   "metadata": {},
   "outputs": [
    {
     "name": "stdout",
     "output_type": "stream",
     "text": [
      "        date group  orders  buyers  revenue  visitors\n",
      "0 2019-08-01     A      23      19   142779       719\n",
      "1 2019-08-01     B      17      17    59758       713\n",
      "2 2019-08-02     A      42      36   234381      1338\n",
      "3 2019-08-02     B      40      39   221801      1294\n",
      "4 2019-08-03     A      66      60   346854      1845\n"
     ]
    }
   ],
   "source": [
    "# объединяем кумулятивные данные в одной таблице и присваиваем ее столбцам понятные названия\n",
    "cumulativeData = ordersAggregated.merge(visitorsAggregated, left_on=['date', 'group'], right_on=['date', 'group'])\n",
    "cumulativeData.columns = ['date', 'group', 'orders', 'buyers', 'revenue', 'visitors']\n",
    "\n",
    "print(cumulativeData.head(5))"
   ]
  },
  {
   "cell_type": "code",
   "execution_count": 80,
   "metadata": {},
   "outputs": [],
   "source": [
    "# датафрейм с кумулятивным количеством заказов и кумулятивной выручкой по дням в группе А\n",
    "cumulativeRevenueA = cumulativeData[cumulativeData['group']=='A'][['date','revenue', 'orders']]"
   ]
  },
  {
   "cell_type": "code",
   "execution_count": 81,
   "metadata": {},
   "outputs": [],
   "source": [
    "# датафрейм с кумулятивным количеством заказов и кумулятивной выручкой по дням в группе B\n",
    "cumulativeRevenueB = cumulativeData[cumulativeData['group']=='B'][['date','revenue', 'orders']]"
   ]
  },
  {
   "cell_type": "code",
   "execution_count": 82,
   "metadata": {},
   "outputs": [
    {
     "data": {
      "image/png": "[encoded data removed]",
      "text/plain": [
       "<Figure size 1080x360 with 1 Axes>"
      ]
     },
     "metadata": {
      "needs_background": "light"
     },
     "output_type": "display_data"
    }
   ],
   "source": [
    "plt.figure(figsize=(15,5))\n",
    "plt.plot(cumulativeRevenueA['date'], cumulativeRevenueA['revenue'], label='Кум.выручка группы A')\n",
    "plt.plot(cumulativeRevenueB['date'], cumulativeRevenueB['revenue'], label='Кум.выручка группы B')\n",
    "plt.title('Кумулятивная выручка по группам')\n",
    "plt.grid()\n",
    "plt.legend();"
   ]
  },
  {
   "cell_type": "markdown",
   "metadata": {},
   "source": [
    "##### Вывод:"
   ]
  },
  {
   "cell_type": "markdown",
   "metadata": {},
   "source": [
    "Мы видим, что в начале выручка группы 'B' росла немного быстрее выручки группы 'А'. Приблизительно 13-го августа выручки групп почти сравнялись, но затем группа 'B' уверенно забирает лидерство и во второй половине августа мы наблюдаем резкий скачек выручки в группе 'B'. После этого скачка рост выручки в обеих группах примерно одинаковый, соответственно все преимущество группы 'B' строится из одного резкого скачка выручки в районе 18-го, 19-го числа."
   ]
  },
  {
   "cell_type": "markdown",
   "metadata": {},
   "source": [
    "####  <a name=\"task_2\"></a>  2. Постройте график кумулятивного среднего чека по группам. Сделайте выводы и предположения."
   ]
  },
  {
   "cell_type": "code",
   "execution_count": 83,
   "metadata": {},
   "outputs": [
    {
     "data": {
      "image/png": "[encoded data removed]",
      "text/plain": [
       "<Figure size 1080x720 with 1 Axes>"
      ]
     },
     "metadata": {
      "needs_background": "light"
     },
     "output_type": "display_data"
    }
   ],
   "source": [
    "plt.figure(figsize=(15,10))\n",
    "plt.grid()\n",
    "plt.plot(cumulativeRevenueA['date'], cumulativeRevenueA['revenue']/cumulativeRevenueA['orders'], label='A')\n",
    "plt.plot(cumulativeRevenueB['date'], cumulativeRevenueB['revenue']/cumulativeRevenueB['orders'], label='B')\n",
    "plt.legend();"
   ]
  },
  {
   "cell_type": "markdown",
   "metadata": {},
   "source": [
    "##### Вывод:"
   ]
  },
  {
   "cell_type": "markdown",
   "metadata": {},
   "source": [
    "Средний чек в двух группах изначально имеет различия. В первой половине месяца в группе 'В' средний чек растет волнообразно, а в группе 'А' в начале снижается и потом тоже начинает расти более стремительными темпами. Затем, в районе 11-го числа средние чеки в группах равны и затем средний чек в группе 'B' резко подскакивает. Это результат крупного заказа, который мы также видели на предыдущем графике. После этого средний чек группы 'B' постепенно снижается, а в группе 'А' наблюдается незначительный рост до конца месяца."
   ]
  },
  {
   "cell_type": "markdown",
   "metadata": {},
   "source": [
    "####  <a name=\"task_3\"></a> 3. Постройте график относительного изменения кумулятивного среднего чека группы B к группе A. Сделайте выводы и предположения."
   ]
  },
  {
   "cell_type": "code",
   "execution_count": 84,
   "metadata": {},
   "outputs": [
    {
     "data": {
      "image/png": "[encoded data removed]",
      "text/plain": [
       "<Figure size 1080x360 with 1 Axes>"
      ]
     },
     "metadata": {
      "needs_background": "light"
     },
     "output_type": "display_data"
    }
   ],
   "source": [
    "# собираем данные в одном датафрейме\n",
    "mergedCumulativeRevenue = cumulativeRevenueA.merge(cumulativeRevenueB, left_on='date', right_on='date', how='left', suffixes=['A', 'B'])\n",
    "\n",
    "# cтроим отношение средних чеков\n",
    "plt.figure(figsize=(15,5))\n",
    "plt.grid()\n",
    "plt.plot(mergedCumulativeRevenue['date'], (mergedCumulativeRevenue['revenueB']/mergedCumulativeRevenue['ordersB'])/ \\\n",
    "         (mergedCumulativeRevenue['revenueA']/mergedCumulativeRevenue['ordersA'])-1)\n",
    "plt.title('Относительное изменение кумулятивного среднего чека групп \"B\" к \"А\"')\n",
    "\n",
    "# добавляем ось X\n",
    "plt.axhline(y=0, color='black', linestyle='--') ;"
   ]
  },
  {
   "cell_type": "markdown",
   "metadata": {},
   "source": [
    "##### Вывод:"
   ]
  },
  {
   "cell_type": "markdown",
   "metadata": {},
   "source": [
    "Мы видим, что данные практически все время сильно отличаются от средней и мы видим как резкие падения, так и большие скачки. Этот график является производной предыдущего графика, поэтому выводы и показания на нем аналогичны с предыдущем."
   ]
  },
  {
   "cell_type": "markdown",
   "metadata": {},
   "source": [
    "####  <a name=\"task_4\"></a>  4. Постройте график кумулятивного среднего количества заказов на посетителя по группам. Сделайте выводы и предположения."
   ]
  },
  {
   "cell_type": "code",
   "execution_count": 85,
   "metadata": {},
   "outputs": [
    {
     "data": {
      "image/png": "[encoded data removed]",
      "text/plain": [
       "<Figure size 1080x360 with 1 Axes>"
      ]
     },
     "metadata": {
      "needs_background": "light"
     },
     "output_type": "display_data"
    }
   ],
   "source": [
    "# считаем кумулятивную конверсию\n",
    "cumulativeData['conversion'] = cumulativeData['orders']/cumulativeData['visitors']\n",
    "\n",
    "# отделяем данные по группе A\n",
    "cumulativeDataA = cumulativeData[cumulativeData['group']=='A']\n",
    "\n",
    "# отделяем данные по группе B\n",
    "cumulativeDataB = cumulativeData[cumulativeData['group']=='B']\n",
    "\n",
    "# строим графики\n",
    "plt.figure(figsize=(15,5))\n",
    "plt.grid()\n",
    "plt.plot(cumulativeDataA['date'], cumulativeDataA['conversion'], label='кумулятивная конверсия A')\n",
    "plt.plot(cumulativeDataB['date'], cumulativeDataB['conversion'], label='кумулятивная конверсия B')\n",
    "plt.title('Кумулятивная конверсия')\n",
    "plt.legend();"
   ]
  },
  {
   "cell_type": "markdown",
   "metadata": {},
   "source": [
    "##### Вывод:"
   ]
  },
  {
   "cell_type": "markdown",
   "metadata": {},
   "source": [
    "В начале месяца конверсия в группе ‘A’ была значительно больше, но уже к началу второй недели месяца конверсии сравнялись, и группа ‘B’ стала значительно превосходить группу ‘A’. Затем на протяжении месяца конверсии в обеих группах практически не изменялись"
   ]
  },
  {
   "cell_type": "markdown",
   "metadata": {},
   "source": [
    "####  <a name=\"task_5\"></a>  5. Постройте график относительного изменения кумулятивного среднего количества заказов на посетителя группы B к группе A. Сделайте выводы и предположения."
   ]
  },
  {
   "cell_type": "code",
   "execution_count": 86,
   "metadata": {},
   "outputs": [
    {
     "data": {
      "image/png": "[encoded data removed]",
      "text/plain": [
       "<Figure size 1080x360 with 1 Axes>"
      ]
     },
     "metadata": {
      "needs_background": "light"
     },
     "output_type": "display_data"
    }
   ],
   "source": [
    "mergedCumulativeConversions = cumulativeDataA[['date','conversion']].merge(cumulativeDataB[['date','conversion']], left_on='date', right_on='date', how='left', suffixes=['A', 'B'])\n",
    "\n",
    "\n",
    "plt.figure(figsize=(15,5))\n",
    "plt.grid()\n",
    "plt.plot(mergedCumulativeConversions['date'], mergedCumulativeConversions['conversionB']/mergedCumulativeConversions['conversionA']-1)\n",
    "\n",
    "plt.title('Относительное изменение кумулятивного среднего количества заказов на посетителя группы B к группе A')\n",
    "\n",
    "plt.axhline(y=0, color='black', linestyle='--')\n",
    "plt.axhline(y=0.21, color='grey', linestyle='--');\n"
   ]
  },
  {
   "cell_type": "markdown",
   "metadata": {},
   "source": [
    "##### Вывод:"
   ]
  },
  {
   "cell_type": "markdown",
   "metadata": {},
   "source": [
    "Выводы по этому графику очень схожи с выводами из предыдущего пункта. В начале месяца конверсия в группе ‘A’ была значительно больше, но уже к началу второй недели месяца конверсии сравнялись. Затем, конверсия в группе ‘B’ стала сильно выше конверсии группы ‘A’ и до конца месяца средние показатели оставались на том же уровне. Максимальная разница конверсий в двух группах приходится на 15-ое августа. В этот день разница конверсий составила 21%."
   ]
  },
  {
   "cell_type": "markdown",
   "metadata": {},
   "source": [
    "####  <a name=\"task_6\"></a> 6. Постройте точечный график количества заказов по пользователям. Сделайте выводы и предположения."
   ]
  },
  {
   "cell_type": "code",
   "execution_count": 87,
   "metadata": {},
   "outputs": [
    {
     "data": {
      "text/html": [
       "<div>\n",
       "<style scoped>\n",
       "    .dataframe tbody tr th:only-of-type {\n",
       "        vertical-align: middle;\n",
       "    }\n",
       "\n",
       "    .dataframe tbody tr th {\n",
       "        vertical-align: top;\n",
       "    }\n",
       "\n",
       "    .dataframe thead th {\n",
       "        text-align: right;\n",
       "    }\n",
       "</style>\n",
       "<table border=\"1\" class=\"dataframe\">\n",
       "  <thead>\n",
       "    <tr style=\"text-align: right;\">\n",
       "      <th></th>\n",
       "      <th>user_id</th>\n",
       "      <th>orders</th>\n",
       "    </tr>\n",
       "  </thead>\n",
       "  <tbody>\n",
       "    <tr>\n",
       "      <th>908</th>\n",
       "      <td>3967698036</td>\n",
       "      <td>3</td>\n",
       "    </tr>\n",
       "    <tr>\n",
       "      <th>55</th>\n",
       "      <td>249864742</td>\n",
       "      <td>3</td>\n",
       "    </tr>\n",
       "    <tr>\n",
       "      <th>478</th>\n",
       "      <td>2108163459</td>\n",
       "      <td>3</td>\n",
       "    </tr>\n",
       "    <tr>\n",
       "      <th>687</th>\n",
       "      <td>2988190573</td>\n",
       "      <td>3</td>\n",
       "    </tr>\n",
       "    <tr>\n",
       "      <th>890</th>\n",
       "      <td>3908431265</td>\n",
       "      <td>3</td>\n",
       "    </tr>\n",
       "  </tbody>\n",
       "</table>\n",
       "</div>"
      ],
      "text/plain": [
       "        user_id  orders\n",
       "908  3967698036       3\n",
       "55    249864742       3\n",
       "478  2108163459       3\n",
       "687  2988190573       3\n",
       "890  3908431265       3"
      ]
     },
     "execution_count": 87,
     "metadata": {},
     "output_type": "execute_result"
    }
   ],
   "source": [
    "ordersByUsers = orders.drop(['group', 'revenue', 'date'], axis=1).groupby('visitorId', as_index=False). \\\n",
    "                                                                        agg({'transactionId' : pd.Series.nunique})\n",
    "ordersByUsers.columns = ['user_id','orders']\n",
    "\n",
    "ordersByUsers.sort_values(by='orders',ascending=False).head(5)"
   ]
  },
  {
   "cell_type": "code",
   "execution_count": 88,
   "metadata": {},
   "outputs": [
    {
     "data": {
      "image/png": "[encoded data removed]",
      "text/plain": [
       "<Figure size 1080x360 with 1 Axes>"
      ]
     },
     "metadata": {
      "needs_background": "light"
     },
     "output_type": "display_data"
    }
   ],
   "source": [
    "x_values = pd.Series(range(0,len(ordersByUsers)))\n",
    "\n",
    "plt.figure(figsize=(15,5))\n",
    "plt.grid()\n",
    "plt.scatter(x_values, ordersByUsers['orders'], alpha = 0.5)\n",
    "plt.title('Колличество заказов по пользователям');"
   ]
  },
  {
   "cell_type": "markdown",
   "metadata": {},
   "source": [
    "##### Вывод:"
   ]
  },
  {
   "cell_type": "markdown",
   "metadata": {},
   "source": [
    "Из графика видно, что больше всего пользователей, совершивших один заказ, пользователей, которые совершили 2 заказа уже значительно меньше, так же есть несколько выбросов из пользователей, которые совершали 8, 9 или даже 11 заказов."
   ]
  },
  {
   "cell_type": "markdown",
   "metadata": {},
   "source": [
    "####  <a name=\"task_7\"></a>  7.Посчитайте 95-й и 99-й перцентили количества заказов на пользователя. Выберите границу для определения аномальных пользователей."
   ]
  },
  {
   "cell_type": "code",
   "execution_count": 89,
   "metadata": {},
   "outputs": [
    {
     "name": "stdout",
     "output_type": "stream",
     "text": [
      "[1. 2.]\n"
     ]
    }
   ],
   "source": [
    "print(np.percentile(ordersByUsers['orders'], [95, 99])) "
   ]
  },
  {
   "cell_type": "markdown",
   "metadata": {},
   "source": [
    "Из этих рассчетов нельзя точно сказать границу, поэтому посчиаем больше перцентилей."
   ]
  },
  {
   "cell_type": "code",
   "execution_count": 90,
   "metadata": {},
   "outputs": [
    {
     "name": "stdout",
     "output_type": "stream",
     "text": [
      "[1. 1. 1. 2. 2. 2. 2. 2. 2.]\n"
     ]
    }
   ],
   "source": [
    "print(np.percentile(ordersByUsers['orders'], [95, 95.5, 96, 96.5, 97, 97.5, 98, 98.5, 99])) "
   ]
  },
  {
   "cell_type": "code",
   "execution_count": 91,
   "metadata": {},
   "outputs": [
    {
     "name": "stdout",
     "output_type": "stream",
     "text": [
      "2.0\n"
     ]
    }
   ],
   "source": [
    "percent_975 = np.percentile(ordersByUsers['orders'], [97.5])\n",
    "percent_975 = percent_975[0]\n",
    "print(percent_975)"
   ]
  },
  {
   "cell_type": "markdown",
   "metadata": {},
   "source": [
    "##### Вывод:"
   ]
  },
  {
   "cell_type": "markdown",
   "metadata": {},
   "source": [
    "Мы видим, что большинство пользователей (97.5%) делают не более 2х заказов. Все что больше  - будем считать аномалией."
   ]
  },
  {
   "cell_type": "markdown",
   "metadata": {},
   "source": [
    "####  <a name=\"task_8\"></a>  8. Постройте точечный график стоимостей заказов. Сделайте выводы и предположения."
   ]
  },
  {
   "cell_type": "code",
   "execution_count": 92,
   "metadata": {},
   "outputs": [
    {
     "data": {
      "image/png": "[encoded data removed]",
      "text/plain": [
       "<Figure size 1080x360 with 1 Axes>"
      ]
     },
     "metadata": {
      "needs_background": "light"
     },
     "output_type": "display_data"
    }
   ],
   "source": [
    "x_values = pd.Series(range(0,len(orders['revenue'])))\n",
    "\n",
    "plt.figure(figsize=(15,5))\n",
    "plt.grid()\n",
    "plt.scatter(x_values, orders['revenue'], alpha = 0.5)\n",
    "plt.title('Стоимость заказов по пользователям')\n",
    "plt.axhline(y=100000, color='grey', linestyle='--');"
   ]
  },
  {
   "cell_type": "markdown",
   "metadata": {},
   "source": [
    "##### Вывод:"
   ]
  },
  {
   "cell_type": "markdown",
   "metadata": {},
   "source": [
    "Из графика видно, что абсолютное большинство заказов находится в пределах 100000 и в данных есть всего два выброса более 100000."
   ]
  },
  {
   "cell_type": "markdown",
   "metadata": {},
   "source": [
    "##### Построим более наглядный график, отбросив аномальные значения."
   ]
  },
  {
   "cell_type": "code",
   "execution_count": 93,
   "metadata": {},
   "outputs": [
    {
     "data": {
      "image/png": "[encoded data removed]",
      "text/plain": [
       "<Figure size 1080x360 with 1 Axes>"
      ]
     },
     "metadata": {
      "needs_background": "light"
     },
     "output_type": "display_data"
    }
   ],
   "source": [
    "norm_orders = orders[orders['revenue']<=199000]['revenue']\n",
    "xn_values = pd.Series(range(0,len(norm_orders)))\n",
    "\n",
    "plt.figure(figsize=(15,5))\n",
    "plt.grid()\n",
    "plt.title('Стоимость заказов по пользователям')\n",
    "plt.scatter(xn_values, norm_orders, alpha=0.5);"
   ]
  },
  {
   "cell_type": "markdown",
   "metadata": {},
   "source": [
    "##### Вывод:"
   ]
  },
  {
   "cell_type": "markdown",
   "metadata": {},
   "source": [
    "Используем новый график с ограничением стоимости заказа в 199000. Из этого графика видно, что большинство заказов находится в пределах 20000, а заказов более 60000 совсем мало."
   ]
  },
  {
   "cell_type": "markdown",
   "metadata": {},
   "source": [
    "####  <a name=\"task_9\"></a> 9. Посчитайте 95-й и 99-й перцентили стоимости заказов. Выберите границу для определения аномальных заказов."
   ]
  },
  {
   "cell_type": "code",
   "execution_count": 94,
   "metadata": {},
   "outputs": [
    {
     "name": "stdout",
     "output_type": "stream",
     "text": [
      "[26785. 53904.]\n"
     ]
    }
   ],
   "source": [
    "print(np.percentile(orders['revenue'], [95, 99])) "
   ]
  },
  {
   "cell_type": "markdown",
   "metadata": {},
   "source": [
    "Из этих рассчетов нельзя точно сказать границу, поэтому посчитаем больше перцентилей."
   ]
  },
  {
   "cell_type": "code",
   "execution_count": 95,
   "metadata": {},
   "outputs": [
    {
     "name": "stdout",
     "output_type": "stream",
     "text": [
      "[26785. 37400. 42353. 53904.]\n"
     ]
    }
   ],
   "source": [
    "print(np.percentile(orders['revenue'], [95, 97.5, 98, 99])) "
   ]
  },
  {
   "cell_type": "code",
   "execution_count": 96,
   "metadata": {},
   "outputs": [
    {
     "name": "stdout",
     "output_type": "stream",
     "text": [
      "42352.99999999991\n"
     ]
    }
   ],
   "source": [
    "percent_98 = np.percentile(orders['revenue'], [98])\n",
    "percent_98 = percent_98[0]\n",
    "print(percent_98)"
   ]
  },
  {
   "cell_type": "markdown",
   "metadata": {},
   "source": [
    "##### Вывод:"
   ]
  },
  {
   "cell_type": "markdown",
   "metadata": {},
   "source": [
    "98% заказов находятся в пределах цены 42353, установим ее как границу аномалий.  "
   ]
  },
  {
   "cell_type": "markdown",
   "metadata": {},
   "source": [
    "####  <a name=\"task_10\"></a>  10. Посчитайте статистическую значимость различий в среднем количестве заказов на посетителя между группами по «сырым» данным. Сделайте выводы и предположения."
   ]
  },
  {
   "cell_type": "code",
   "execution_count": 97,
   "metadata": {},
   "outputs": [],
   "source": [
    "visitorsADaily = visitors[visitors['group']=='A'][['date', 'visitors']]\n",
    "visitorsADaily.columns = ['date', 'visitorsPerDateA']\n",
    "\n",
    "visitorsACummulative = visitorsADaily.apply(lambda x: visitorsADaily[visitorsADaily['date'] <= x['date']]. \\\n",
    "                                            agg({'date' : 'max', 'visitorsPerDateA' : 'sum'}), axis=1)\n",
    "visitorsACummulative.columns = ['date', 'visitorsCummulativeA']\n",
    "\n",
    "visitorsBDaily = visitors[visitors['group']=='B'][['date', 'visitors']]\n",
    "visitorsBDaily.columns = ['date', 'visitorsPerDateB']\n",
    "\n",
    "visitorsBCummulative = visitorsBDaily.apply(lambda x: visitorsBDaily[visitorsBDaily['date'] <= x['date']]. \\\n",
    "                                            agg({'date' : 'max', 'visitorsPerDateB' : 'sum'}), axis=1)\n",
    "visitorsBCummulative.columns = ['date', 'visitorsCummulativeB']\n",
    "\n",
    "ordersADaily = orders[orders['group']=='A'][['date', 'transactionId', 'visitorId', 'revenue']]\\\n",
    "    .groupby('date', as_index=False)\\\n",
    "    .agg({'transactionId' : pd.Series.nunique, 'revenue' : 'sum'})\n",
    "ordersADaily.columns = ['date', 'ordersPerDateA', 'revenuePerDateA']\n",
    "\n",
    "ordersACummulative = ordersADaily.apply(\n",
    "    lambda x: \\\n",
    "        ordersADaily[ordersADaily['date'] <= x['date']]\\\n",
    "            .agg({\n",
    "                'date' : 'max',\n",
    "                'ordersPerDateA' : 'sum',\n",
    "                'revenuePerDateA' : 'sum'}), axis=1).sort_values(by=['date'])\n",
    "ordersACummulative.columns = ['date', 'ordersCummulativeA', 'revenueCummulativeA']\n",
    "\n",
    "ordersBDaily = orders[orders['group']=='B'][['date', 'transactionId', 'visitorId', 'revenue']]\\\n",
    "    .groupby('date', as_index=False)\\\n",
    "    .agg({'transactionId' : pd.Series.nunique, 'revenue' : 'sum'})\n",
    "ordersBDaily.columns = ['date', 'ordersPerDateB', 'revenuePerDateB']\n",
    "\n",
    "ordersBCummulative = ordersBDaily.apply(\n",
    "    lambda x: \\\n",
    "        ordersBDaily[ordersBDaily['date'] <= x['date']]\\\n",
    "            .agg({\n",
    "                'date' : 'max',\n",
    "                'ordersPerDateB' : 'sum',\n",
    "                'revenuePerDateB' : 'sum'}), axis=1).sort_values(by=['date'])\n",
    "ordersBCummulative.columns = ['date', 'ordersCummulativeB', 'revenueCummulativeB']"
   ]
  },
  {
   "cell_type": "markdown",
   "metadata": {},
   "source": [
    "Объединяем данные в одну таблицу:"
   ]
  },
  {
   "cell_type": "code",
   "execution_count": 98,
   "metadata": {},
   "outputs": [
    {
     "data": {
      "text/html": [
       "<div>\n",
       "<style scoped>\n",
       "    .dataframe tbody tr th:only-of-type {\n",
       "        vertical-align: middle;\n",
       "    }\n",
       "\n",
       "    .dataframe tbody tr th {\n",
       "        vertical-align: top;\n",
       "    }\n",
       "\n",
       "    .dataframe thead th {\n",
       "        text-align: right;\n",
       "    }\n",
       "</style>\n",
       "<table border=\"1\" class=\"dataframe\">\n",
       "  <thead>\n",
       "    <tr style=\"text-align: right;\">\n",
       "      <th></th>\n",
       "      <th>date</th>\n",
       "      <th>ordersPerDateA</th>\n",
       "      <th>revenuePerDateA</th>\n",
       "      <th>ordersPerDateB</th>\n",
       "      <th>revenuePerDateB</th>\n",
       "      <th>ordersCummulativeA</th>\n",
       "      <th>revenueCummulativeA</th>\n",
       "      <th>ordersCummulativeB</th>\n",
       "      <th>revenueCummulativeB</th>\n",
       "      <th>visitorsPerDateA</th>\n",
       "      <th>visitorsPerDateB</th>\n",
       "      <th>visitorsCummulativeA</th>\n",
       "      <th>visitorsCummulativeB</th>\n",
       "    </tr>\n",
       "  </thead>\n",
       "  <tbody>\n",
       "    <tr>\n",
       "      <th>0</th>\n",
       "      <td>2019-08-01</td>\n",
       "      <td>23</td>\n",
       "      <td>142779</td>\n",
       "      <td>17</td>\n",
       "      <td>59758</td>\n",
       "      <td>23</td>\n",
       "      <td>142779</td>\n",
       "      <td>17</td>\n",
       "      <td>59758</td>\n",
       "      <td>719</td>\n",
       "      <td>713</td>\n",
       "      <td>719</td>\n",
       "      <td>713</td>\n",
       "    </tr>\n",
       "    <tr>\n",
       "      <th>1</th>\n",
       "      <td>2019-08-02</td>\n",
       "      <td>19</td>\n",
       "      <td>91602</td>\n",
       "      <td>23</td>\n",
       "      <td>162043</td>\n",
       "      <td>42</td>\n",
       "      <td>234381</td>\n",
       "      <td>40</td>\n",
       "      <td>221801</td>\n",
       "      <td>619</td>\n",
       "      <td>581</td>\n",
       "      <td>1338</td>\n",
       "      <td>1294</td>\n",
       "    </tr>\n",
       "    <tr>\n",
       "      <th>2</th>\n",
       "      <td>2019-08-03</td>\n",
       "      <td>24</td>\n",
       "      <td>112473</td>\n",
       "      <td>14</td>\n",
       "      <td>67049</td>\n",
       "      <td>66</td>\n",
       "      <td>346854</td>\n",
       "      <td>54</td>\n",
       "      <td>288850</td>\n",
       "      <td>507</td>\n",
       "      <td>509</td>\n",
       "      <td>1845</td>\n",
       "      <td>1803</td>\n",
       "    </tr>\n",
       "    <tr>\n",
       "      <th>3</th>\n",
       "      <td>2019-08-04</td>\n",
       "      <td>11</td>\n",
       "      <td>41176</td>\n",
       "      <td>14</td>\n",
       "      <td>96890</td>\n",
       "      <td>77</td>\n",
       "      <td>388030</td>\n",
       "      <td>68</td>\n",
       "      <td>385740</td>\n",
       "      <td>717</td>\n",
       "      <td>770</td>\n",
       "      <td>2562</td>\n",
       "      <td>2573</td>\n",
       "    </tr>\n",
       "    <tr>\n",
       "      <th>4</th>\n",
       "      <td>2019-08-05</td>\n",
       "      <td>22</td>\n",
       "      <td>86383</td>\n",
       "      <td>21</td>\n",
       "      <td>89908</td>\n",
       "      <td>99</td>\n",
       "      <td>474413</td>\n",
       "      <td>89</td>\n",
       "      <td>475648</td>\n",
       "      <td>756</td>\n",
       "      <td>707</td>\n",
       "      <td>3318</td>\n",
       "      <td>3280</td>\n",
       "    </tr>\n",
       "  </tbody>\n",
       "</table>\n",
       "</div>"
      ],
      "text/plain": [
       "        date  ordersPerDateA  revenuePerDateA  ordersPerDateB  \\\n",
       "0 2019-08-01              23           142779              17   \n",
       "1 2019-08-02              19            91602              23   \n",
       "2 2019-08-03              24           112473              14   \n",
       "3 2019-08-04              11            41176              14   \n",
       "4 2019-08-05              22            86383              21   \n",
       "\n",
       "   revenuePerDateB  ordersCummulativeA  revenueCummulativeA  \\\n",
       "0            59758                  23               142779   \n",
       "1           162043                  42               234381   \n",
       "2            67049                  66               346854   \n",
       "3            96890                  77               388030   \n",
       "4            89908                  99               474413   \n",
       "\n",
       "   ordersCummulativeB  revenueCummulativeB  visitorsPerDateA  \\\n",
       "0                  17                59758               719   \n",
       "1                  40               221801               619   \n",
       "2                  54               288850               507   \n",
       "3                  68               385740               717   \n",
       "4                  89               475648               756   \n",
       "\n",
       "   visitorsPerDateB  visitorsCummulativeA  visitorsCummulativeB  \n",
       "0               713                   719                   713  \n",
       "1               581                  1338                  1294  \n",
       "2               509                  1845                  1803  \n",
       "3               770                  2562                  2573  \n",
       "4               707                  3318                  3280  "
      ]
     },
     "metadata": {},
     "output_type": "display_data"
    }
   ],
   "source": [
    "data = ordersADaily.merge(ordersBDaily, left_on='date', right_on='date', how='left')\\\n",
    "    .merge(ordersACummulative, left_on='date', right_on='date', how='left')\\\n",
    "    .merge(ordersBCummulative, left_on='date', right_on='date', how='left')\\\n",
    "    .merge(visitorsADaily, left_on='date', right_on='date', how='left')\\\n",
    "    .merge(visitorsBDaily, left_on='date', right_on='date', how='left')\\\n",
    "    .merge(visitorsACummulative, left_on='date', right_on='date', how='left')\\\n",
    "    .merge(visitorsBCummulative, left_on='date', right_on='date', how='left')\n",
    "\n",
    "display(data.head())"
   ]
  },
  {
   "cell_type": "markdown",
   "metadata": {},
   "source": [
    "##### Формулируем гипотезы, которые будем опровергать или подтверждать далее."
   ]
  },
  {
   "cell_type": "markdown",
   "metadata": {},
   "source": [
    "H0: Статистически значимых различий в среднем количестве заказов между группами по сырым данным нет.\n",
    "\n",
    "H1: Статистически значимые различия в среднем количестве заказов между группами по сырым данным есть."
   ]
  },
  {
   "cell_type": "markdown",
   "metadata": {},
   "source": [
    "**Создадим переменные `ordersByUsersA` и `ordersByUsersB` со столбцами ['userId', 'orders']. В них для пользователей, которые заказывали хотя бы 1 раз, укажем число совершённых заказов**"
   ]
  },
  {
   "cell_type": "code",
   "execution_count": 99,
   "metadata": {},
   "outputs": [],
   "source": [
    "ordersByUsersA = (\n",
    "    orders[orders['group'] == 'A']\n",
    "    .groupby('visitorId', as_index=False)\n",
    "    .agg({'transactionId': pd.Series.nunique})\n",
    ")\n",
    "ordersByUsersA.columns = ['visitorId', 'orders']\n",
    "\n",
    "ordersByUsersB = (\n",
    "    orders[orders['group'] == 'B']\n",
    "    .groupby('visitorId', as_index=False)\n",
    "    .agg({'transactionId': pd.Series.nunique})\n",
    ")\n",
    "ordersByUsersB.columns = ['visitorId', 'orders'] "
   ]
  },
  {
   "cell_type": "markdown",
   "metadata": {},
   "source": [
    "Объявим переменные `sampleA` и `sampleB`, в которых пользователям из разных групп будет соответствовать количество заказов. Тем, кто ничего не заказал, будут соответствовать нули. Это нужно, чтобы подготовить выборки к проверке критерием Манна-Уитни."
   ]
  },
  {
   "cell_type": "code",
   "execution_count": 100,
   "metadata": {},
   "outputs": [],
   "source": [
    "sampleA = pd.concat([ordersByUsersA['orders'],pd.Series(0, index=np.arange(data['visitorsPerDateA'].sum() - len(ordersByUsersA['orders'])), name='orders')],axis=0)\n",
    "\n",
    "sampleB = pd.concat([ordersByUsersB['orders'],pd.Series(0, index=np.arange(data['visitorsPerDateB'].sum() - len(ordersByUsersB['orders'])), name='orders')],axis=0)"
   ]
  },
  {
   "cell_type": "code",
   "execution_count": 101,
   "metadata": {},
   "outputs": [
    {
     "name": "stdout",
     "output_type": "stream",
     "text": [
      "alpha = 0.05\n",
      "p-value = 0.01102\n",
      "Относительный показатель 'B' и 'A' = 0.160\n"
     ]
    }
   ],
   "source": [
    "print(\"alpha =\",0.05)\n",
    "print(\"p-value = {0:.5f}\".format(stats.mannwhitneyu(sampleA, sampleB, alternative = 'two-sided')[1]))\n",
    "print(\"Относительный показатель 'B' и 'A' = {0:.3f}\".format(sampleB.mean()/sampleA.mean()-1)) "
   ]
  },
  {
   "cell_type": "markdown",
   "metadata": {},
   "source": [
    "##### Вывод:"
   ]
  },
  {
   "cell_type": "markdown",
   "metadata": {},
   "source": [
    "Альфа была 0.05, p-value = 0.01102 => p-value меньше альфа и мы отвергаем нулевую гипотезу. Значит есть статистические различия в конверсии между группами. Группа B превосходит группу А на 16%."
   ]
  },
  {
   "cell_type": "markdown",
   "metadata": {},
   "source": [
    "####  <a name=\"task_11\"></a>  11. Посчитайте статистическую значимость различий в среднем чеке заказа между группами по «сырым» данным. Сделайте выводы и предположения."
   ]
  },
  {
   "cell_type": "markdown",
   "metadata": {},
   "source": [
    "##### Формулируем гипотезы, которые будем опровергать или подтверждать далее."
   ]
  },
  {
   "cell_type": "markdown",
   "metadata": {},
   "source": [
    "H0: Статистически значимых различий в среднем чеке между группами по сырым данным нет.\n",
    "\n",
    "H1: Статистически значимые различия в среднем чеке между группами по сырым данным есть."
   ]
  },
  {
   "cell_type": "code",
   "execution_count": 102,
   "metadata": {},
   "outputs": [
    {
     "name": "stdout",
     "output_type": "stream",
     "text": [
      "alpha = 0.05\n",
      "p-value = 0.82949\n",
      "Относительный показатель \"B\" и \"A\" = 0.287\n"
     ]
    }
   ],
   "source": [
    "print(\"alpha =\",0.05)\n",
    "print('p-value = {0:.5f}'.format(stats.mannwhitneyu(orders[orders['group']=='A']['revenue'], orders[orders['group']=='B']['revenue'])[1]))\n",
    "print('Относительный показатель \"B\" и \"A\" = {0:.3f}'.format(orders[orders['group']=='B']['revenue'].mean()/orders[orders['group']=='A']['revenue'].mean()-1))"
   ]
  },
  {
   "cell_type": "markdown",
   "metadata": {},
   "source": [
    "##### Вывод:"
   ]
  },
  {
   "cell_type": "markdown",
   "metadata": {},
   "source": [
    "p-value значительно больше альфы => мы не отвергаем нулевую гипотезу и можем утверждать, что в среднем чеке нет различий. \n",
    "\n",
    "По результатам анализа сырых данных средние чеки схожи. При \n",
    "том мы так же видим, что средний чек в группе B больше среднего чека в группе А на 28.7%."
   ]
  },
  {
   "cell_type": "markdown",
   "metadata": {},
   "source": [
    "####  <a name=\"task_12\"></a>  12. Посчитайте статистическую значимость различий в среднем количестве заказов на посетителя между группами по «очищенным» данным. Сделайте выводы и предположения."
   ]
  },
  {
   "cell_type": "markdown",
   "metadata": {},
   "source": [
    "##### Формулируем гипотезы, которые будем опровергать или подтверждать далее."
   ]
  },
  {
   "cell_type": "markdown",
   "metadata": {},
   "source": [
    "H0: Статистически значимых различий в среднем колличестве заказов на посетителя между группами по очищенным данным нет.\n",
    "\n",
    "H1: Статистически значимые различия в среднем колличестве заказов на посетителя между группами по сырым данным есть."
   ]
  },
  {
   "cell_type": "markdown",
   "metadata": {},
   "source": [
    "Примем за аномальных пользователей тех, кто совершил от 3 заказов или совершил заказ дороже 42 353 рублей. Так мы уберём 2.5% пользователей с наибольшим числом заказов и 2% пользователей с дорогими заказами. Сделаем срезы пользователей с числом заказов больше 2 — `usersWithManyOrders` и пользователей, совершивших заказы дороже 42 353 — `usersWithExpensiveOrders`. Объединим их в таблице `abnormalUsers`. "
   ]
  },
  {
   "cell_type": "code",
   "execution_count": 103,
   "metadata": {},
   "outputs": [
    {
     "name": "stdout",
     "output_type": "stream",
     "text": [
      "1099    148427295\n",
      "33      249864742\n",
      "684     358944393\n",
      "648     382846391\n",
      "58      611059232\n",
      "Name: visitorId, dtype: int64\n",
      "Всего ненормальных пользователей : 28\n"
     ]
    }
   ],
   "source": [
    "usersWithManyOrders = pd.concat(\n",
    "    [\n",
    "        ordersByUsersA[ordersByUsersA['orders'] > percent_975]['visitorId'], \n",
    "        ordersByUsersB[ordersByUsersB['orders'] > percent_975]['visitorId']\n",
    "    ], \n",
    "    axis = 0\n",
    ")\n",
    "\n",
    "usersWithExpensiveOrders = orders[orders['revenue'] > percent_98]['visitorId']\n",
    "\n",
    "abnormalUsers = (pd.concat(\n",
    "    [usersWithManyOrders, usersWithExpensiveOrders], axis = 0)\n",
    "    .drop_duplicates()\n",
    "    .sort_values()\n",
    "                )\n",
    "\n",
    "print(abnormalUsers.head(5))\n",
    "print(\"Всего ненормальных пользователей :\" ,len(abnormalUsers)) "
   ]
  },
  {
   "cell_type": "markdown",
   "metadata": {},
   "source": [
    "Узнаем, как их действия повлияли на результаты теста. Посчитаем статистическую значимость различий в среднем количестве заказов между группами теста по очищенным данным. Сначала подготовим выборки количества заказов по пользователям по группам теста:"
   ]
  },
  {
   "cell_type": "code",
   "execution_count": 104,
   "metadata": {},
   "outputs": [],
   "source": [
    "sampleAFiltered = pd.concat(\n",
    "    [\n",
    "        ordersByUsersA[\n",
    "            np.logical_not(ordersByUsersA['visitorId'].isin(abnormalUsers))\n",
    "        ]['orders'],\n",
    "        pd.Series(\n",
    "            0,\n",
    "            index=np.arange(\n",
    "                data['visitorsPerDateA'].sum() - len(ordersByUsersA['orders'])\n",
    "            ),\n",
    "            name='orders',\n",
    "        ),\n",
    "    ],\n",
    "    axis=0,\n",
    ")\n",
    "\n",
    "sampleBFiltered = pd.concat(\n",
    "    [\n",
    "        ordersByUsersB[\n",
    "            np.logical_not(ordersByUsersB['visitorId'].isin(abnormalUsers))\n",
    "        ]['orders'],\n",
    "        pd.Series(\n",
    "            0,\n",
    "            index=np.arange(\n",
    "                data['visitorsPerDateB'].sum() - len(ordersByUsersB['orders'])\n",
    "            ),\n",
    "            name='orders',\n",
    "        ),\n",
    "    ],\n",
    "    axis=0,\n",
    ")"
   ]
  },
  {
   "cell_type": "markdown",
   "metadata": {},
   "source": [
    "**Применим статистический критерий Манна-Уитни к полученным выборкам:**"
   ]
  },
  {
   "cell_type": "code",
   "execution_count": 105,
   "metadata": {},
   "outputs": [
    {
     "name": "stdout",
     "output_type": "stream",
     "text": [
      "alpha = 0.05\n",
      "p-value = 0.00364\n",
      "Относительный показатель \"B\" и \"A\" = 0.209\n"
     ]
    }
   ],
   "source": [
    "print(\"alpha =\",0.05)\n",
    "print('p-value = {0:.5f}'.format(stats.mannwhitneyu(sampleAFiltered, sampleBFiltered)[1]))\n",
    "print('Относительный показатель \"B\" и \"A\" = {0:.3f}'.format(sampleBFiltered.mean()/sampleAFiltered.mean()-1))"
   ]
  },
  {
   "cell_type": "markdown",
   "metadata": {},
   "source": [
    "##### Вывод:"
   ]
  },
  {
   "cell_type": "markdown",
   "metadata": {},
   "source": [
    "p-value меньше альфы => мы отвергаем нулевую гипотезу. \n",
    "\n",
    "Между группами есть статистически значимые различия конверсии.\n",
    "\n",
    "Значит, как и в сырых данных, в очищенных данных есть раздичия между группами.\n",
    "\n",
    "Относительное превосходство группы \"B\" над \"A\" равно 20.9% (выше, чем с «сырыми» данными - 16%) ."
   ]
  },
  {
   "cell_type": "markdown",
   "metadata": {},
   "source": [
    "####  <a name=\"task_13\"></a>  13. Посчитайте статистическую значимость различий в среднем чеке заказа между группами по «очищенным» данным. Сделайте выводы и предположения."
   ]
  },
  {
   "cell_type": "markdown",
   "metadata": {},
   "source": [
    "##### Формулируем гипотезы, которые будем опровергать или подтверждать далее."
   ]
  },
  {
   "cell_type": "markdown",
   "metadata": {},
   "source": [
    "H0: Статистически значимых различий в среднем чеке между группами по очищенным данным нет.\n",
    "\n",
    "H1: Статистически значимые различия в среднем чеке между группами по сырым данным есть."
   ]
  },
  {
   "cell_type": "code",
   "execution_count": 106,
   "metadata": {},
   "outputs": [
    {
     "name": "stdout",
     "output_type": "stream",
     "text": [
      "alpha = 0.05\n",
      "p-value = 0.85814\n",
      "Относительный показатель 'B' и 'A' = 0.079\n"
     ]
    }
   ],
   "source": [
    "print(\"alpha =\",0.05)\n",
    "\n",
    "print(\n",
    "    'p-value = {0:.5f}'.format(\n",
    "        stats.mannwhitneyu(\n",
    "            orders[\n",
    "                np.logical_and(\n",
    "                    orders['group'] == 'A',\n",
    "                    np.logical_not(orders['visitorId'].isin(abnormalUsers)),\n",
    "                )\n",
    "            ]['revenue'],\n",
    "            orders[\n",
    "                np.logical_and(\n",
    "                    orders['group'] == 'B',\n",
    "                    np.logical_not(orders['visitorId'].isin(abnormalUsers)),\n",
    "                )\n",
    "            ]['revenue'],\n",
    "        )[1]\n",
    "    )\n",
    ")\n",
    "\n",
    "print(\n",
    "    \"Относительный показатель 'B' и 'A' = {0:.3f}\".format(\n",
    "        orders[\n",
    "            np.logical_and(\n",
    "                orders['group'] == 'B',\n",
    "                np.logical_not(orders['visitorId'].isin(abnormalUsers)),\n",
    "            )\n",
    "        ]['revenue'].mean()\n",
    "        / orders[\n",
    "            np.logical_and(\n",
    "                orders['group'] == 'A',\n",
    "                np.logical_not(orders['visitorId'].isin(abnormalUsers)),\n",
    "            )\n",
    "        ]['revenue'].mean()\n",
    "        - 1\n",
    "    )\n",
    ")"
   ]
  },
  {
   "cell_type": "markdown",
   "metadata": {},
   "source": [
    "##### Вывод:"
   ]
  },
  {
   "cell_type": "markdown",
   "metadata": {},
   "source": [
    "p-value снова значительно больше альфы. => мы не отвергаем нулевую гипотезу и можем утверждать, что в среднем чеке нет различий. \n",
    "\n",
    "По результатам анализа очищенных данных средние чеки схожи. \n",
    "\n",
    "При этом мы так же видим, что средний чек в группе B больше среднего чека в группе А на 7.9%. В сырых данных средний чек группы В был больше на 28.7%. Такая сильная равзница объясняется одним очень большим заказом в группе В, который исказил результаты исследования, но в очищенных данных мы отбросили его."
   ]
  },
  {
   "cell_type": "markdown",
   "metadata": {},
   "source": [
    "####  <a name=\"task_14\"></a>  14. Примите решение по результатам теста и объясните его. Варианты решений:\n",
    "1. Остановить тест, зафиксировать победу одной из групп.\n",
    "2. Остановить тест, зафиксировать отсутствие различий между группами.\n",
    "3. Продолжить тест."
   ]
  },
  {
   "cell_type": "markdown",
   "metadata": {},
   "source": [
    "Результаты тестирований показали:\n",
    "- В сырых данных различия в конверсии между группами A и В есть.\n",
    "- В очищенных данных различия в конверсии между группами A и В есть.\n",
    "\n",
    "- В сырых данных группа В превосходит группу А на 16%\n",
    "- В очищенных – на 20.9%\n",
    "\n",
    "Как в сырых, так и в очищенных данных различия в средних чеках групп А и В отсутствуют, не смотря на то, что даже в очищенных данных средний чек группы В больше среднего чека группы А на 7.916%. Однако в сырых данных средний чек группы В был больше среднего чека группы А на 28.7%. Это было вызвано одним аномально большим заказом в группе В, который повлиял на все данные группы В и исказил исследование. В очищенных данных этот заказ был отброшен и мы получили более достоверные результаты исследования, кторые не учитывали такого рода аномалий в данных.\n",
    "\n",
    "Результаты тестирования вполне однозначны. В итоге можно принять решение остановить тестирование и констатировать победу группы B: группа B значительно лучше (эффективнее) группы A по конверсии, хотя по среднему чеку группы примерно равны.\n"
   ]
  }
 ],
 "metadata": {
  "ExecuteTimeLog": [
   {
    "duration": 430,
    "start_time": "2022-12-26T06:59:09.257Z"
   },
   {
    "duration": 65,
    "start_time": "2022-12-26T07:00:20.138Z"
   },
   {
    "duration": 84,
    "start_time": "2022-12-26T07:00:23.759Z"
   },
   {
    "duration": 35,
    "start_time": "2022-12-26T07:00:26.661Z"
   },
   {
    "duration": 24,
    "start_time": "2022-12-26T07:00:34.238Z"
   },
   {
    "duration": 30,
    "start_time": "2022-12-26T07:03:03.329Z"
   },
   {
    "duration": 10,
    "start_time": "2022-12-26T07:05:10.638Z"
   },
   {
    "duration": 13,
    "start_time": "2022-12-26T07:05:15.187Z"
   },
   {
    "duration": 11,
    "start_time": "2022-12-26T07:05:33.579Z"
   },
   {
    "duration": 12,
    "start_time": "2022-12-26T07:05:45.938Z"
   },
   {
    "duration": 15,
    "start_time": "2022-12-26T07:06:49.591Z"
   },
   {
    "duration": 13,
    "start_time": "2022-12-26T07:06:55.257Z"
   },
   {
    "duration": 4,
    "start_time": "2022-12-26T07:18:37.644Z"
   },
   {
    "duration": 81,
    "start_time": "2022-12-26T07:20:10.016Z"
   },
   {
    "duration": 104,
    "start_time": "2022-12-26T07:21:59.660Z"
   },
   {
    "duration": 68,
    "start_time": "2022-12-26T07:22:00.982Z"
   },
   {
    "duration": 31,
    "start_time": "2022-12-26T07:22:20.847Z"
   },
   {
    "duration": 57,
    "start_time": "2022-12-26T07:22:22.407Z"
   },
   {
    "duration": 446,
    "start_time": "2022-12-26T07:29:26.435Z"
   },
   {
    "duration": 4,
    "start_time": "2022-12-26T07:35:04.861Z"
   },
   {
    "duration": 55,
    "start_time": "2022-12-26T07:35:46.782Z"
   },
   {
    "duration": 32,
    "start_time": "2022-12-26T07:35:49.020Z"
   },
   {
    "duration": 364,
    "start_time": "2022-12-26T07:36:20.550Z"
   },
   {
    "duration": 308,
    "start_time": "2022-12-26T07:36:35.725Z"
   },
   {
    "duration": 301,
    "start_time": "2022-12-26T07:36:45.429Z"
   },
   {
    "duration": 833,
    "start_time": "2022-12-26T07:37:20.753Z"
   },
   {
    "duration": 300,
    "start_time": "2022-12-26T07:38:28.268Z"
   },
   {
    "duration": 338,
    "start_time": "2022-12-26T07:38:36.852Z"
   },
   {
    "duration": 8,
    "start_time": "2022-12-26T07:38:47.435Z"
   },
   {
    "duration": 8,
    "start_time": "2022-12-26T07:38:56.124Z"
   },
   {
    "duration": 6,
    "start_time": "2022-12-26T07:39:18.786Z"
   },
   {
    "duration": 77,
    "start_time": "2022-12-26T07:41:27.865Z"
   },
   {
    "duration": 25,
    "start_time": "2022-12-26T07:41:40.448Z"
   },
   {
    "duration": 210,
    "start_time": "2022-12-26T07:42:40.072Z"
   },
   {
    "duration": 316,
    "start_time": "2022-12-26T07:43:03.066Z"
   },
   {
    "duration": 356,
    "start_time": "2022-12-26T07:44:01.140Z"
   },
   {
    "duration": 312,
    "start_time": "2022-12-26T07:44:26.760Z"
   },
   {
    "duration": 316,
    "start_time": "2022-12-26T07:44:37.231Z"
   },
   {
    "duration": 332,
    "start_time": "2022-12-26T07:45:11.981Z"
   },
   {
    "duration": 324,
    "start_time": "2022-12-26T07:45:19.712Z"
   },
   {
    "duration": 330,
    "start_time": "2022-12-26T07:45:30.480Z"
   },
   {
    "duration": 3,
    "start_time": "2022-12-26T07:45:44.907Z"
   },
   {
    "duration": 37,
    "start_time": "2022-12-26T07:45:44.912Z"
   },
   {
    "duration": 45,
    "start_time": "2022-12-26T07:45:44.951Z"
   },
   {
    "duration": 25,
    "start_time": "2022-12-26T07:45:44.999Z"
   },
   {
    "duration": 22,
    "start_time": "2022-12-26T07:45:45.026Z"
   },
   {
    "duration": 30,
    "start_time": "2022-12-26T07:45:45.050Z"
   },
   {
    "duration": 16,
    "start_time": "2022-12-26T07:45:45.082Z"
   },
   {
    "duration": 16,
    "start_time": "2022-12-26T07:45:45.099Z"
   },
   {
    "duration": 170,
    "start_time": "2022-12-26T07:45:45.117Z"
   },
   {
    "duration": 351,
    "start_time": "2022-12-26T07:45:47.858Z"
   },
   {
    "duration": 4,
    "start_time": "2022-12-26T07:50:59.996Z"
   },
   {
    "duration": 36,
    "start_time": "2022-12-26T07:51:00.002Z"
   },
   {
    "duration": 43,
    "start_time": "2022-12-26T07:51:00.040Z"
   },
   {
    "duration": 20,
    "start_time": "2022-12-26T07:51:00.085Z"
   },
   {
    "duration": 11,
    "start_time": "2022-12-26T07:51:00.107Z"
   },
   {
    "duration": 15,
    "start_time": "2022-12-26T07:51:00.120Z"
   },
   {
    "duration": 72,
    "start_time": "2022-12-26T07:51:25.343Z"
   },
   {
    "duration": 3,
    "start_time": "2022-12-26T07:53:34.660Z"
   },
   {
    "duration": 23,
    "start_time": "2022-12-26T07:56:25.048Z"
   },
   {
    "duration": 94,
    "start_time": "2022-12-26T07:56:49.621Z"
   },
   {
    "duration": 7,
    "start_time": "2022-12-26T07:56:58.739Z"
   },
   {
    "duration": 5,
    "start_time": "2022-12-26T07:57:47.667Z"
   },
   {
    "duration": 6,
    "start_time": "2022-12-26T07:58:19.138Z"
   },
   {
    "duration": 6,
    "start_time": "2022-12-26T08:05:15.992Z"
   },
   {
    "duration": 571,
    "start_time": "2022-12-26T08:14:34.353Z"
   },
   {
    "duration": 747,
    "start_time": "2022-12-26T08:15:31.503Z"
   },
   {
    "duration": 664,
    "start_time": "2022-12-26T08:15:53.473Z"
   },
   {
    "duration": 507,
    "start_time": "2022-12-26T08:16:00.871Z"
   },
   {
    "duration": 3,
    "start_time": "2022-12-26T08:18:56.637Z"
   },
   {
    "duration": 37,
    "start_time": "2022-12-26T08:18:56.642Z"
   },
   {
    "duration": 41,
    "start_time": "2022-12-26T08:18:56.682Z"
   },
   {
    "duration": 19,
    "start_time": "2022-12-26T08:18:56.725Z"
   },
   {
    "duration": 12,
    "start_time": "2022-12-26T08:18:56.746Z"
   },
   {
    "duration": 8,
    "start_time": "2022-12-26T08:18:56.759Z"
   },
   {
    "duration": 4,
    "start_time": "2022-12-26T08:18:56.769Z"
   },
   {
    "duration": 11,
    "start_time": "2022-12-26T08:18:56.775Z"
   },
   {
    "duration": 13,
    "start_time": "2022-12-26T08:18:56.788Z"
   },
   {
    "duration": 16,
    "start_time": "2022-12-26T08:18:56.802Z"
   },
   {
    "duration": 32,
    "start_time": "2022-12-26T08:18:56.820Z"
   },
   {
    "duration": 74,
    "start_time": "2022-12-26T08:18:56.854Z"
   },
   {
    "duration": 0,
    "start_time": "2022-12-26T08:18:56.930Z"
   },
   {
    "duration": 1,
    "start_time": "2022-12-26T08:18:56.931Z"
   },
   {
    "duration": 0,
    "start_time": "2022-12-26T08:18:56.933Z"
   },
   {
    "duration": 0,
    "start_time": "2022-12-26T08:18:56.934Z"
   },
   {
    "duration": 0,
    "start_time": "2022-12-26T08:18:56.935Z"
   },
   {
    "duration": 164,
    "start_time": "2022-12-26T08:19:23.561Z"
   },
   {
    "duration": 131,
    "start_time": "2022-12-26T08:19:25.628Z"
   },
   {
    "duration": 11,
    "start_time": "2022-12-26T08:19:27.620Z"
   },
   {
    "duration": 6,
    "start_time": "2022-12-26T08:19:32.946Z"
   },
   {
    "duration": 4,
    "start_time": "2022-12-26T08:19:34.490Z"
   },
   {
    "duration": 208,
    "start_time": "2022-12-26T08:19:35.961Z"
   },
   {
    "duration": 190,
    "start_time": "2022-12-26T08:38:57.337Z"
   },
   {
    "duration": 229,
    "start_time": "2022-12-26T08:39:13.921Z"
   },
   {
    "duration": 221,
    "start_time": "2022-12-26T08:39:17.437Z"
   },
   {
    "duration": 188,
    "start_time": "2022-12-26T08:39:33.938Z"
   },
   {
    "duration": 182,
    "start_time": "2022-12-26T08:39:40.431Z"
   },
   {
    "duration": 265,
    "start_time": "2022-12-26T08:39:48.227Z"
   },
   {
    "duration": 209,
    "start_time": "2022-12-26T08:40:02.556Z"
   },
   {
    "duration": 243,
    "start_time": "2022-12-26T08:40:07.333Z"
   },
   {
    "duration": 411,
    "start_time": "2022-12-26T08:49:12.020Z"
   },
   {
    "duration": 293,
    "start_time": "2022-12-26T08:49:18.385Z"
   },
   {
    "duration": 314,
    "start_time": "2022-12-26T08:49:23.326Z"
   },
   {
    "duration": 245,
    "start_time": "2022-12-26T08:56:16.894Z"
   },
   {
    "duration": 231,
    "start_time": "2022-12-26T08:57:12.614Z"
   },
   {
    "duration": 233,
    "start_time": "2022-12-26T08:57:33.641Z"
   },
   {
    "duration": 214,
    "start_time": "2022-12-26T08:58:25.345Z"
   },
   {
    "duration": 319,
    "start_time": "2022-12-26T08:58:46.914Z"
   },
   {
    "duration": 329,
    "start_time": "2022-12-26T08:59:25.347Z"
   },
   {
    "duration": 13,
    "start_time": "2022-12-26T09:09:06.026Z"
   },
   {
    "duration": 13,
    "start_time": "2022-12-26T09:09:29.993Z"
   },
   {
    "duration": 13,
    "start_time": "2022-12-26T09:12:17.981Z"
   },
   {
    "duration": 3,
    "start_time": "2022-12-26T09:27:46.531Z"
   },
   {
    "duration": 51,
    "start_time": "2022-12-26T09:27:46.541Z"
   },
   {
    "duration": 49,
    "start_time": "2022-12-26T09:27:46.594Z"
   },
   {
    "duration": 26,
    "start_time": "2022-12-26T09:27:46.645Z"
   },
   {
    "duration": 14,
    "start_time": "2022-12-26T09:27:46.673Z"
   },
   {
    "duration": 28,
    "start_time": "2022-12-26T09:27:46.689Z"
   },
   {
    "duration": 13,
    "start_time": "2022-12-26T09:27:46.719Z"
   },
   {
    "duration": 24,
    "start_time": "2022-12-26T09:27:46.733Z"
   },
   {
    "duration": 33,
    "start_time": "2022-12-26T09:27:46.760Z"
   },
   {
    "duration": 22,
    "start_time": "2022-12-26T09:27:46.795Z"
   },
   {
    "duration": 17,
    "start_time": "2022-12-26T09:27:46.820Z"
   },
   {
    "duration": 179,
    "start_time": "2022-12-26T09:27:46.839Z"
   },
   {
    "duration": 142,
    "start_time": "2022-12-26T09:27:47.020Z"
   },
   {
    "duration": 12,
    "start_time": "2022-12-26T09:27:47.164Z"
   },
   {
    "duration": 38,
    "start_time": "2022-12-26T09:27:47.178Z"
   },
   {
    "duration": 20,
    "start_time": "2022-12-26T09:27:47.217Z"
   },
   {
    "duration": 244,
    "start_time": "2022-12-26T09:27:47.239Z"
   },
   {
    "duration": 250,
    "start_time": "2022-12-26T09:27:47.484Z"
   },
   {
    "duration": 328,
    "start_time": "2022-12-26T09:27:52.564Z"
   },
   {
    "duration": 363,
    "start_time": "2022-12-26T09:28:56.703Z"
   },
   {
    "duration": 238,
    "start_time": "2022-12-26T09:29:51.209Z"
   },
   {
    "duration": 372,
    "start_time": "2022-12-26T09:33:39.951Z"
   },
   {
    "duration": 304,
    "start_time": "2022-12-26T09:33:52.864Z"
   },
   {
    "duration": 347,
    "start_time": "2022-12-26T09:34:05.757Z"
   },
   {
    "duration": 333,
    "start_time": "2022-12-26T09:36:02.105Z"
   },
   {
    "duration": 340,
    "start_time": "2022-12-26T09:36:13.038Z"
   },
   {
    "duration": 521,
    "start_time": "2022-12-26T09:36:25.232Z"
   },
   {
    "duration": 340,
    "start_time": "2022-12-26T09:36:32.226Z"
   },
   {
    "duration": 334,
    "start_time": "2022-12-26T09:36:54.320Z"
   },
   {
    "duration": 315,
    "start_time": "2022-12-26T09:46:50.267Z"
   },
   {
    "duration": 3,
    "start_time": "2022-12-26T09:48:10.981Z"
   },
   {
    "duration": 9,
    "start_time": "2022-12-26T09:49:30.040Z"
   },
   {
    "duration": 154,
    "start_time": "2022-12-26T09:49:40.761Z"
   },
   {
    "duration": 141,
    "start_time": "2022-12-26T09:49:48.414Z"
   },
   {
    "duration": 273,
    "start_time": "2022-12-26T09:50:25.134Z"
   },
   {
    "duration": 168,
    "start_time": "2022-12-26T09:50:44.180Z"
   },
   {
    "duration": 182,
    "start_time": "2022-12-26T09:56:14.817Z"
   },
   {
    "duration": 143,
    "start_time": "2022-12-26T09:56:23.901Z"
   },
   {
    "duration": 144,
    "start_time": "2022-12-26T09:56:25.818Z"
   },
   {
    "duration": 149,
    "start_time": "2022-12-26T09:56:45.696Z"
   },
   {
    "duration": 5,
    "start_time": "2022-12-26T10:00:16.587Z"
   },
   {
    "duration": 5,
    "start_time": "2022-12-26T10:00:52.717Z"
   },
   {
    "duration": 92,
    "start_time": "2022-12-26T10:02:02.821Z"
   },
   {
    "duration": 6,
    "start_time": "2022-12-26T10:02:49.874Z"
   },
   {
    "duration": 15,
    "start_time": "2022-12-26T10:07:09.981Z"
   },
   {
    "duration": 165,
    "start_time": "2022-12-26T10:07:47.477Z"
   },
   {
    "duration": 349,
    "start_time": "2022-12-26T10:08:24.011Z"
   },
   {
    "duration": 263,
    "start_time": "2022-12-26T10:08:35.874Z"
   },
   {
    "duration": 249,
    "start_time": "2022-12-26T10:08:42.382Z"
   },
   {
    "duration": 294,
    "start_time": "2022-12-26T10:08:45.344Z"
   },
   {
    "duration": 273,
    "start_time": "2022-12-26T10:08:48.611Z"
   },
   {
    "duration": 283,
    "start_time": "2022-12-26T10:08:56.015Z"
   },
   {
    "duration": 317,
    "start_time": "2022-12-26T10:11:45.617Z"
   },
   {
    "duration": 179,
    "start_time": "2022-12-26T10:12:01.256Z"
   },
   {
    "duration": 185,
    "start_time": "2022-12-26T10:12:06.798Z"
   },
   {
    "duration": 1250,
    "start_time": "2022-12-26T10:14:55.565Z"
   },
   {
    "duration": 5,
    "start_time": "2022-12-26T10:15:04.522Z"
   },
   {
    "duration": 4,
    "start_time": "2022-12-26T10:15:17.464Z"
   },
   {
    "duration": 4,
    "start_time": "2022-12-26T10:15:47.798Z"
   },
   {
    "duration": 4,
    "start_time": "2022-12-26T10:16:27.990Z"
   },
   {
    "duration": 763,
    "start_time": "2022-12-27T07:13:24.499Z"
   },
   {
    "duration": 67,
    "start_time": "2022-12-27T07:13:25.264Z"
   },
   {
    "duration": 85,
    "start_time": "2022-12-27T07:13:25.333Z"
   },
   {
    "duration": 56,
    "start_time": "2022-12-27T07:13:25.420Z"
   },
   {
    "duration": 11,
    "start_time": "2022-12-27T07:13:25.478Z"
   },
   {
    "duration": 10,
    "start_time": "2022-12-27T07:13:25.490Z"
   },
   {
    "duration": 4,
    "start_time": "2022-12-27T07:13:25.501Z"
   },
   {
    "duration": 6,
    "start_time": "2022-12-27T07:13:25.506Z"
   },
   {
    "duration": 23,
    "start_time": "2022-12-27T07:13:25.514Z"
   },
   {
    "duration": 10,
    "start_time": "2022-12-27T07:13:25.539Z"
   },
   {
    "duration": 7,
    "start_time": "2022-12-27T07:13:25.551Z"
   },
   {
    "duration": 175,
    "start_time": "2022-12-27T07:13:25.559Z"
   },
   {
    "duration": 118,
    "start_time": "2022-12-27T07:13:25.736Z"
   },
   {
    "duration": 9,
    "start_time": "2022-12-27T07:13:25.856Z"
   },
   {
    "duration": 8,
    "start_time": "2022-12-27T07:13:25.866Z"
   },
   {
    "duration": 13,
    "start_time": "2022-12-27T07:13:25.876Z"
   },
   {
    "duration": 310,
    "start_time": "2022-12-27T07:13:25.890Z"
   },
   {
    "duration": 217,
    "start_time": "2022-12-27T07:13:26.201Z"
   },
   {
    "duration": 345,
    "start_time": "2022-12-27T07:13:26.420Z"
   },
   {
    "duration": 266,
    "start_time": "2022-12-27T07:13:26.767Z"
   },
   {
    "duration": 292,
    "start_time": "2022-12-27T07:13:27.035Z"
   },
   {
    "duration": 126,
    "start_time": "2022-12-27T07:13:27.329Z"
   },
   {
    "duration": 132,
    "start_time": "2022-12-27T07:13:27.456Z"
   },
   {
    "duration": 9,
    "start_time": "2022-12-27T07:13:27.590Z"
   },
   {
    "duration": 9,
    "start_time": "2022-12-27T07:13:27.601Z"
   },
   {
    "duration": 262,
    "start_time": "2022-12-27T07:13:27.612Z"
   },
   {
    "duration": 190,
    "start_time": "2022-12-27T07:13:27.876Z"
   },
   {
    "duration": 4,
    "start_time": "2022-12-27T07:13:28.068Z"
   },
   {
    "duration": 14,
    "start_time": "2022-12-27T07:13:28.074Z"
   },
   {
    "duration": 155,
    "start_time": "2022-12-27T07:20:06.648Z"
   },
   {
    "duration": 5,
    "start_time": "2022-12-27T07:20:38.513Z"
   },
   {
    "duration": 41,
    "start_time": "2022-12-27T07:20:51.009Z"
   },
   {
    "duration": 54,
    "start_time": "2022-12-27T07:21:16.648Z"
   },
   {
    "duration": 11,
    "start_time": "2022-12-27T07:21:28.330Z"
   },
   {
    "duration": 19,
    "start_time": "2022-12-27T07:21:55.650Z"
   },
   {
    "duration": 13,
    "start_time": "2022-12-27T07:22:07.410Z"
   },
   {
    "duration": 50,
    "start_time": "2022-12-27T07:22:28.364Z"
   },
   {
    "duration": 11,
    "start_time": "2022-12-27T07:22:40.238Z"
   },
   {
    "duration": 13,
    "start_time": "2022-12-27T07:22:55.847Z"
   },
   {
    "duration": 12,
    "start_time": "2022-12-27T07:23:04.447Z"
   },
   {
    "duration": 45,
    "start_time": "2022-12-27T07:23:13.642Z"
   },
   {
    "duration": 22,
    "start_time": "2022-12-27T07:23:20.902Z"
   },
   {
    "duration": 13,
    "start_time": "2022-12-27T07:26:06.408Z"
   },
   {
    "duration": 17,
    "start_time": "2022-12-27T07:26:20.132Z"
   },
   {
    "duration": 67,
    "start_time": "2022-12-27T07:27:01.250Z"
   },
   {
    "duration": 123,
    "start_time": "2022-12-27T07:27:16.851Z"
   },
   {
    "duration": 6,
    "start_time": "2022-12-27T07:27:55.011Z"
   },
   {
    "duration": 14,
    "start_time": "2022-12-27T07:28:17.430Z"
   },
   {
    "duration": 397,
    "start_time": "2022-12-27T07:28:55.786Z"
   },
   {
    "duration": 398,
    "start_time": "2022-12-27T07:28:58.765Z"
   },
   {
    "duration": 8,
    "start_time": "2022-12-27T07:30:35.916Z"
   },
   {
    "duration": 561,
    "start_time": "2022-12-27T07:31:15.267Z"
   },
   {
    "duration": 26,
    "start_time": "2022-12-27T07:31:20.074Z"
   },
   {
    "duration": 22,
    "start_time": "2022-12-27T07:37:59.760Z"
   },
   {
    "duration": 10,
    "start_time": "2022-12-27T07:39:27.778Z"
   },
   {
    "duration": 51,
    "start_time": "2022-12-27T07:42:41.704Z"
   },
   {
    "duration": 10,
    "start_time": "2022-12-27T07:43:01.368Z"
   },
   {
    "duration": 10,
    "start_time": "2022-12-27T07:43:36.968Z"
   },
   {
    "duration": 1244,
    "start_time": "2022-12-27T07:55:14.284Z"
   },
   {
    "duration": 787,
    "start_time": "2022-12-27T07:55:32.199Z"
   },
   {
    "duration": 906,
    "start_time": "2022-12-27T07:55:49.504Z"
   },
   {
    "duration": 762,
    "start_time": "2022-12-27T07:55:58.532Z"
   },
   {
    "duration": 685,
    "start_time": "2022-12-27T07:56:28.765Z"
   },
   {
    "duration": 48,
    "start_time": "2022-12-27T07:57:59.310Z"
   },
   {
    "duration": 49,
    "start_time": "2022-12-27T07:58:15.347Z"
   },
   {
    "duration": 741,
    "start_time": "2022-12-27T07:58:46.854Z"
   },
   {
    "duration": 1078,
    "start_time": "2022-12-27T08:00:46.261Z"
   },
   {
    "duration": 5,
    "start_time": "2022-12-27T08:01:15.665Z"
   },
   {
    "duration": 801,
    "start_time": "2022-12-27T08:01:42.076Z"
   },
   {
    "duration": 760,
    "start_time": "2022-12-27T08:01:53.121Z"
   },
   {
    "duration": 3,
    "start_time": "2022-12-27T08:01:58.036Z"
   },
   {
    "duration": 45,
    "start_time": "2022-12-27T08:01:58.041Z"
   },
   {
    "duration": 47,
    "start_time": "2022-12-27T08:01:58.087Z"
   },
   {
    "duration": 23,
    "start_time": "2022-12-27T08:01:58.136Z"
   },
   {
    "duration": 10,
    "start_time": "2022-12-27T08:01:58.160Z"
   },
   {
    "duration": 9,
    "start_time": "2022-12-27T08:01:58.172Z"
   },
   {
    "duration": 4,
    "start_time": "2022-12-27T08:01:58.182Z"
   },
   {
    "duration": 10,
    "start_time": "2022-12-27T08:01:58.188Z"
   },
   {
    "duration": 13,
    "start_time": "2022-12-27T08:01:58.200Z"
   },
   {
    "duration": 11,
    "start_time": "2022-12-27T08:01:58.217Z"
   },
   {
    "duration": 11,
    "start_time": "2022-12-27T08:01:58.230Z"
   },
   {
    "duration": 151,
    "start_time": "2022-12-27T08:01:58.243Z"
   },
   {
    "duration": 115,
    "start_time": "2022-12-27T08:01:58.398Z"
   },
   {
    "duration": 20,
    "start_time": "2022-12-27T08:01:58.514Z"
   },
   {
    "duration": 7,
    "start_time": "2022-12-27T08:01:58.536Z"
   },
   {
    "duration": 6,
    "start_time": "2022-12-27T08:01:58.544Z"
   },
   {
    "duration": 185,
    "start_time": "2022-12-27T08:01:58.551Z"
   },
   {
    "duration": 201,
    "start_time": "2022-12-27T08:01:58.737Z"
   },
   {
    "duration": 274,
    "start_time": "2022-12-27T08:01:58.940Z"
   },
   {
    "duration": 211,
    "start_time": "2022-12-27T08:01:59.216Z"
   },
   {
    "duration": 298,
    "start_time": "2022-12-27T08:01:59.428Z"
   },
   {
    "duration": 125,
    "start_time": "2022-12-27T08:01:59.728Z"
   },
   {
    "duration": 147,
    "start_time": "2022-12-27T08:01:59.855Z"
   },
   {
    "duration": 4,
    "start_time": "2022-12-27T08:02:00.004Z"
   },
   {
    "duration": 28,
    "start_time": "2022-12-27T08:02:00.010Z"
   },
   {
    "duration": 283,
    "start_time": "2022-12-27T08:02:00.040Z"
   },
   {
    "duration": 160,
    "start_time": "2022-12-27T08:02:00.324Z"
   },
   {
    "duration": 11,
    "start_time": "2022-12-27T08:02:00.487Z"
   },
   {
    "duration": 42,
    "start_time": "2022-12-27T08:02:00.499Z"
   },
   {
    "duration": 63,
    "start_time": "2022-12-27T08:02:00.542Z"
   },
   {
    "duration": 95,
    "start_time": "2022-12-27T08:02:00.607Z"
   },
   {
    "duration": 48,
    "start_time": "2022-12-27T08:02:00.704Z"
   },
   {
    "duration": 62,
    "start_time": "2022-12-27T08:02:00.754Z"
   },
   {
    "duration": 55,
    "start_time": "2022-12-27T08:02:00.817Z"
   },
   {
    "duration": 78,
    "start_time": "2022-12-27T08:02:00.873Z"
   },
   {
    "duration": 70,
    "start_time": "2022-12-27T08:02:00.953Z"
   },
   {
    "duration": 91,
    "start_time": "2022-12-27T08:02:01.025Z"
   },
   {
    "duration": 28,
    "start_time": "2022-12-27T08:02:01.118Z"
   },
   {
    "duration": 120,
    "start_time": "2022-12-27T08:02:01.148Z"
   },
   {
    "duration": 5,
    "start_time": "2022-12-27T08:02:01.270Z"
   },
   {
    "duration": 40,
    "start_time": "2022-12-27T08:02:01.276Z"
   },
   {
    "duration": 40,
    "start_time": "2022-12-27T08:02:01.317Z"
   },
   {
    "duration": 33,
    "start_time": "2022-12-27T08:02:01.358Z"
   },
   {
    "duration": 9,
    "start_time": "2022-12-27T08:02:33.145Z"
   },
   {
    "duration": 730,
    "start_time": "2022-12-27T08:03:28.590Z"
   },
   {
    "duration": 9,
    "start_time": "2022-12-27T08:03:47.913Z"
   },
   {
    "duration": 8,
    "start_time": "2022-12-27T08:03:51.307Z"
   },
   {
    "duration": 24,
    "start_time": "2022-12-27T08:03:56.106Z"
   },
   {
    "duration": 24,
    "start_time": "2022-12-27T08:04:25.049Z"
   },
   {
    "duration": 20,
    "start_time": "2022-12-27T08:04:32.662Z"
   },
   {
    "duration": 823,
    "start_time": "2022-12-27T08:12:42.046Z"
   },
   {
    "duration": 761,
    "start_time": "2022-12-27T08:13:11.093Z"
   },
   {
    "duration": 934,
    "start_time": "2022-12-27T08:13:17.887Z"
   },
   {
    "duration": 13,
    "start_time": "2022-12-27T08:13:36.559Z"
   },
   {
    "duration": 60,
    "start_time": "2022-12-27T08:14:12.668Z"
   },
   {
    "duration": 14,
    "start_time": "2022-12-27T08:14:25.077Z"
   },
   {
    "duration": 4,
    "start_time": "2022-12-27T08:39:44.744Z"
   },
   {
    "duration": 47,
    "start_time": "2022-12-27T08:39:44.750Z"
   },
   {
    "duration": 42,
    "start_time": "2022-12-27T08:39:44.799Z"
   },
   {
    "duration": 21,
    "start_time": "2022-12-27T08:39:44.842Z"
   },
   {
    "duration": 10,
    "start_time": "2022-12-27T08:39:44.865Z"
   },
   {
    "duration": 8,
    "start_time": "2022-12-27T08:39:44.876Z"
   },
   {
    "duration": 10,
    "start_time": "2022-12-27T08:39:44.885Z"
   },
   {
    "duration": 8,
    "start_time": "2022-12-27T08:39:44.896Z"
   },
   {
    "duration": 17,
    "start_time": "2022-12-27T08:39:44.906Z"
   },
   {
    "duration": 13,
    "start_time": "2022-12-27T08:39:44.924Z"
   },
   {
    "duration": 10,
    "start_time": "2022-12-27T08:39:44.939Z"
   },
   {
    "duration": 171,
    "start_time": "2022-12-27T08:39:44.951Z"
   },
   {
    "duration": 123,
    "start_time": "2022-12-27T08:39:45.125Z"
   },
   {
    "duration": 9,
    "start_time": "2022-12-27T08:39:45.249Z"
   },
   {
    "duration": 19,
    "start_time": "2022-12-27T08:39:45.260Z"
   },
   {
    "duration": 6,
    "start_time": "2022-12-27T08:39:45.281Z"
   },
   {
    "duration": 271,
    "start_time": "2022-12-27T08:39:45.289Z"
   },
   {
    "duration": 230,
    "start_time": "2022-12-27T08:39:45.561Z"
   },
   {
    "duration": 318,
    "start_time": "2022-12-27T08:39:45.793Z"
   },
   {
    "duration": 222,
    "start_time": "2022-12-27T08:39:46.113Z"
   },
   {
    "duration": 289,
    "start_time": "2022-12-27T08:39:46.337Z"
   },
   {
    "duration": 138,
    "start_time": "2022-12-27T08:39:46.628Z"
   },
   {
    "duration": 155,
    "start_time": "2022-12-27T08:39:46.768Z"
   },
   {
    "duration": 4,
    "start_time": "2022-12-27T08:39:46.925Z"
   },
   {
    "duration": 13,
    "start_time": "2022-12-27T08:39:46.930Z"
   },
   {
    "duration": 234,
    "start_time": "2022-12-27T08:39:46.945Z"
   },
   {
    "duration": 155,
    "start_time": "2022-12-27T08:39:47.181Z"
   },
   {
    "duration": 4,
    "start_time": "2022-12-27T08:39:47.338Z"
   },
   {
    "duration": 6,
    "start_time": "2022-12-27T08:39:47.344Z"
   },
   {
    "duration": 7,
    "start_time": "2022-12-27T08:39:47.352Z"
   },
   {
    "duration": 60,
    "start_time": "2022-12-27T08:39:47.360Z"
   },
   {
    "duration": 11,
    "start_time": "2022-12-27T08:39:47.422Z"
   },
   {
    "duration": 46,
    "start_time": "2022-12-27T08:39:47.434Z"
   },
   {
    "duration": 24,
    "start_time": "2022-12-27T08:39:47.482Z"
   },
   {
    "duration": 46,
    "start_time": "2022-12-27T08:39:47.507Z"
   },
   {
    "duration": 21,
    "start_time": "2022-12-27T08:39:47.555Z"
   },
   {
    "duration": 46,
    "start_time": "2022-12-27T08:39:47.579Z"
   },
   {
    "duration": 23,
    "start_time": "2022-12-27T08:39:47.627Z"
   },
   {
    "duration": 154,
    "start_time": "2022-12-27T08:39:47.651Z"
   },
   {
    "duration": 6,
    "start_time": "2022-12-27T08:39:47.807Z"
   },
   {
    "duration": 32,
    "start_time": "2022-12-27T08:39:47.815Z"
   },
   {
    "duration": 14,
    "start_time": "2022-12-27T08:39:47.848Z"
   },
   {
    "duration": 10,
    "start_time": "2022-12-27T08:39:47.863Z"
   },
   {
    "duration": 28,
    "start_time": "2022-12-27T08:39:47.874Z"
   },
   {
    "duration": 31,
    "start_time": "2022-12-27T08:39:47.903Z"
   },
   {
    "duration": 14,
    "start_time": "2022-12-27T08:39:47.935Z"
   },
   {
    "duration": 3,
    "start_time": "2022-12-27T08:39:56.844Z"
   },
   {
    "duration": 44,
    "start_time": "2022-12-27T08:39:56.848Z"
   },
   {
    "duration": 44,
    "start_time": "2022-12-27T08:39:56.894Z"
   },
   {
    "duration": 25,
    "start_time": "2022-12-27T08:39:56.940Z"
   },
   {
    "duration": 16,
    "start_time": "2022-12-27T08:39:56.967Z"
   },
   {
    "duration": 12,
    "start_time": "2022-12-27T08:39:56.984Z"
   },
   {
    "duration": 15,
    "start_time": "2022-12-27T08:39:56.997Z"
   },
   {
    "duration": 10,
    "start_time": "2022-12-27T08:39:57.013Z"
   },
   {
    "duration": 29,
    "start_time": "2022-12-27T08:39:57.025Z"
   },
   {
    "duration": 21,
    "start_time": "2022-12-27T08:39:57.056Z"
   },
   {
    "duration": 11,
    "start_time": "2022-12-27T08:39:57.080Z"
   },
   {
    "duration": 160,
    "start_time": "2022-12-27T08:39:57.094Z"
   },
   {
    "duration": 116,
    "start_time": "2022-12-27T08:39:57.255Z"
   },
   {
    "duration": 8,
    "start_time": "2022-12-27T08:39:57.373Z"
   },
   {
    "duration": 12,
    "start_time": "2022-12-27T08:39:57.397Z"
   },
   {
    "duration": 12,
    "start_time": "2022-12-27T08:39:57.410Z"
   },
   {
    "duration": 202,
    "start_time": "2022-12-27T08:39:57.423Z"
   },
   {
    "duration": 211,
    "start_time": "2022-12-27T08:39:57.626Z"
   },
   {
    "duration": 290,
    "start_time": "2022-12-27T08:39:57.838Z"
   },
   {
    "duration": 299,
    "start_time": "2022-12-27T08:39:58.130Z"
   },
   {
    "duration": 283,
    "start_time": "2022-12-27T08:39:58.431Z"
   },
   {
    "duration": 128,
    "start_time": "2022-12-27T08:39:58.715Z"
   },
   {
    "duration": 142,
    "start_time": "2022-12-27T08:39:58.845Z"
   },
   {
    "duration": 9,
    "start_time": "2022-12-27T08:39:58.990Z"
   },
   {
    "duration": 9,
    "start_time": "2022-12-27T08:39:59.001Z"
   },
   {
    "duration": 263,
    "start_time": "2022-12-27T08:39:59.011Z"
   },
   {
    "duration": 163,
    "start_time": "2022-12-27T08:39:59.276Z"
   },
   {
    "duration": 4,
    "start_time": "2022-12-27T08:39:59.441Z"
   },
   {
    "duration": 11,
    "start_time": "2022-12-27T08:39:59.447Z"
   },
   {
    "duration": 8,
    "start_time": "2022-12-27T08:39:59.459Z"
   },
   {
    "duration": 54,
    "start_time": "2022-12-27T08:39:59.468Z"
   },
   {
    "duration": 7,
    "start_time": "2022-12-27T08:39:59.524Z"
   },
   {
    "duration": 52,
    "start_time": "2022-12-27T08:39:59.533Z"
   },
   {
    "duration": 17,
    "start_time": "2022-12-27T08:39:59.586Z"
   },
   {
    "duration": 49,
    "start_time": "2022-12-27T08:39:59.604Z"
   },
   {
    "duration": 32,
    "start_time": "2022-12-27T08:39:59.655Z"
   },
   {
    "duration": 51,
    "start_time": "2022-12-27T08:39:59.688Z"
   },
   {
    "duration": 33,
    "start_time": "2022-12-27T08:39:59.740Z"
   },
   {
    "duration": 166,
    "start_time": "2022-12-27T08:39:59.775Z"
   },
   {
    "duration": 11,
    "start_time": "2022-12-27T08:39:59.942Z"
   },
   {
    "duration": 38,
    "start_time": "2022-12-27T08:39:59.957Z"
   },
   {
    "duration": 12,
    "start_time": "2022-12-27T08:39:59.997Z"
   },
   {
    "duration": 18,
    "start_time": "2022-12-27T08:40:00.011Z"
   },
   {
    "duration": 17,
    "start_time": "2022-12-27T08:40:00.031Z"
   },
   {
    "duration": 59,
    "start_time": "2022-12-27T08:40:00.050Z"
   },
   {
    "duration": 17,
    "start_time": "2022-12-27T08:40:00.110Z"
   },
   {
    "duration": 1265,
    "start_time": "2022-12-27T18:49:24.637Z"
   },
   {
    "duration": 73,
    "start_time": "2022-12-27T18:49:25.905Z"
   },
   {
    "duration": 93,
    "start_time": "2022-12-27T18:49:25.979Z"
   },
   {
    "duration": 64,
    "start_time": "2022-12-27T18:49:26.075Z"
   },
   {
    "duration": 18,
    "start_time": "2022-12-27T18:49:26.142Z"
   },
   {
    "duration": 32,
    "start_time": "2022-12-27T18:49:26.162Z"
   },
   {
    "duration": 15,
    "start_time": "2022-12-27T18:49:26.196Z"
   },
   {
    "duration": 15,
    "start_time": "2022-12-27T18:49:26.213Z"
   },
   {
    "duration": 28,
    "start_time": "2022-12-27T18:49:26.230Z"
   },
   {
    "duration": 25,
    "start_time": "2022-12-27T18:49:26.260Z"
   },
   {
    "duration": 12,
    "start_time": "2022-12-27T18:49:26.287Z"
   },
   {
    "duration": 192,
    "start_time": "2022-12-27T18:49:26.301Z"
   },
   {
    "duration": 131,
    "start_time": "2022-12-27T18:49:26.496Z"
   },
   {
    "duration": 11,
    "start_time": "2022-12-27T18:49:26.631Z"
   },
   {
    "duration": 9,
    "start_time": "2022-12-27T18:49:26.644Z"
   },
   {
    "duration": 13,
    "start_time": "2022-12-27T18:49:26.655Z"
   },
   {
    "duration": 290,
    "start_time": "2022-12-27T18:49:26.670Z"
   },
   {
    "duration": 230,
    "start_time": "2022-12-27T18:49:26.962Z"
   },
   {
    "duration": 354,
    "start_time": "2022-12-27T18:49:27.194Z"
   },
   {
    "duration": 236,
    "start_time": "2022-12-27T18:49:27.550Z"
   },
   {
    "duration": 335,
    "start_time": "2022-12-27T18:49:27.795Z"
   },
   {
    "duration": 147,
    "start_time": "2022-12-27T18:49:28.131Z"
   },
   {
    "duration": 154,
    "start_time": "2022-12-27T18:49:28.280Z"
   },
   {
    "duration": 4,
    "start_time": "2022-12-27T18:49:28.436Z"
   },
   {
    "duration": 8,
    "start_time": "2022-12-27T18:49:28.442Z"
   },
   {
    "duration": 268,
    "start_time": "2022-12-27T18:49:28.451Z"
   },
   {
    "duration": 188,
    "start_time": "2022-12-27T18:49:28.721Z"
   },
   {
    "duration": 4,
    "start_time": "2022-12-27T18:49:28.912Z"
   },
   {
    "duration": 8,
    "start_time": "2022-12-27T18:49:28.918Z"
   },
   {
    "duration": 9,
    "start_time": "2022-12-27T18:49:28.928Z"
   },
   {
    "duration": 137,
    "start_time": "2022-12-27T18:49:28.939Z"
   },
   {
    "duration": 5,
    "start_time": "2022-12-27T18:49:29.077Z"
   },
   {
    "duration": 58,
    "start_time": "2022-12-27T18:49:29.084Z"
   },
   {
    "duration": 19,
    "start_time": "2022-12-27T18:49:29.143Z"
   },
   {
    "duration": 61,
    "start_time": "2022-12-27T18:49:29.163Z"
   },
   {
    "duration": 17,
    "start_time": "2022-12-27T18:49:29.226Z"
   },
   {
    "duration": 56,
    "start_time": "2022-12-27T18:49:29.245Z"
   },
   {
    "duration": 23,
    "start_time": "2022-12-27T18:49:29.303Z"
   },
   {
    "duration": 182,
    "start_time": "2022-12-27T18:49:29.328Z"
   },
   {
    "duration": 8,
    "start_time": "2022-12-27T18:49:29.512Z"
   },
   {
    "duration": 30,
    "start_time": "2022-12-27T18:49:29.524Z"
   },
   {
    "duration": 12,
    "start_time": "2022-12-27T18:49:29.556Z"
   },
   {
    "duration": 31,
    "start_time": "2022-12-27T18:49:29.570Z"
   },
   {
    "duration": 8,
    "start_time": "2022-12-27T18:49:29.603Z"
   },
   {
    "duration": 41,
    "start_time": "2022-12-27T18:49:29.613Z"
   },
   {
    "duration": 18,
    "start_time": "2022-12-27T18:49:29.656Z"
   },
   {
    "duration": 33,
    "start_time": "2022-12-27T18:49:57.266Z"
   },
   {
    "duration": 1326,
    "start_time": "2022-12-28T05:47:25.142Z"
   },
   {
    "duration": 72,
    "start_time": "2022-12-28T05:47:27.891Z"
   },
   {
    "duration": 4,
    "start_time": "2022-12-28T05:47:43.372Z"
   },
   {
    "duration": 36,
    "start_time": "2022-12-28T05:47:43.380Z"
   },
   {
    "duration": 93,
    "start_time": "2022-12-28T05:47:43.418Z"
   },
   {
    "duration": 62,
    "start_time": "2022-12-28T05:47:43.513Z"
   },
   {
    "duration": 13,
    "start_time": "2022-12-28T05:47:43.577Z"
   },
   {
    "duration": 8,
    "start_time": "2022-12-28T05:47:43.592Z"
   },
   {
    "duration": 5,
    "start_time": "2022-12-28T05:47:43.602Z"
   },
   {
    "duration": 7,
    "start_time": "2022-12-28T05:47:43.608Z"
   },
   {
    "duration": 16,
    "start_time": "2022-12-28T05:47:43.617Z"
   },
   {
    "duration": 11,
    "start_time": "2022-12-28T05:47:43.634Z"
   },
   {
    "duration": 4,
    "start_time": "2022-12-28T05:47:43.648Z"
   },
   {
    "duration": 177,
    "start_time": "2022-12-28T05:47:43.654Z"
   },
   {
    "duration": 133,
    "start_time": "2022-12-28T05:47:43.833Z"
   },
   {
    "duration": 11,
    "start_time": "2022-12-28T05:47:43.967Z"
   },
   {
    "duration": 13,
    "start_time": "2022-12-28T05:47:43.980Z"
   },
   {
    "duration": 21,
    "start_time": "2022-12-28T05:47:43.995Z"
   },
   {
    "duration": 307,
    "start_time": "2022-12-28T05:47:44.017Z"
   },
   {
    "duration": 227,
    "start_time": "2022-12-28T05:47:44.326Z"
   },
   {
    "duration": 316,
    "start_time": "2022-12-28T05:47:44.555Z"
   },
   {
    "duration": 231,
    "start_time": "2022-12-28T05:47:44.873Z"
   },
   {
    "duration": 322,
    "start_time": "2022-12-28T05:47:45.106Z"
   },
   {
    "duration": 138,
    "start_time": "2022-12-28T05:47:45.430Z"
   },
   {
    "duration": 140,
    "start_time": "2022-12-28T05:47:45.569Z"
   },
   {
    "duration": 5,
    "start_time": "2022-12-28T05:47:45.715Z"
   },
   {
    "duration": 6,
    "start_time": "2022-12-28T05:47:45.721Z"
   },
   {
    "duration": 263,
    "start_time": "2022-12-28T05:47:45.729Z"
   },
   {
    "duration": 202,
    "start_time": "2022-12-28T05:47:45.994Z"
   },
   {
    "duration": 4,
    "start_time": "2022-12-28T05:47:46.198Z"
   },
   {
    "duration": 19,
    "start_time": "2022-12-28T05:47:46.205Z"
   },
   {
    "duration": 25,
    "start_time": "2022-12-28T05:47:46.226Z"
   },
   {
    "duration": 143,
    "start_time": "2022-12-28T05:47:46.253Z"
   },
   {
    "duration": 22,
    "start_time": "2022-12-28T05:47:46.398Z"
   },
   {
    "duration": 51,
    "start_time": "2022-12-28T05:47:46.422Z"
   },
   {
    "duration": 15,
    "start_time": "2022-12-28T05:47:46.475Z"
   },
   {
    "duration": 48,
    "start_time": "2022-12-28T05:47:46.491Z"
   },
   {
    "duration": 32,
    "start_time": "2022-12-28T05:47:46.541Z"
   },
   {
    "duration": 63,
    "start_time": "2022-12-28T05:47:46.575Z"
   },
   {
    "duration": 29,
    "start_time": "2022-12-28T05:47:46.639Z"
   },
   {
    "duration": 131,
    "start_time": "2022-12-28T05:47:46.670Z"
   },
   {
    "duration": 6,
    "start_time": "2022-12-28T05:47:46.803Z"
   },
   {
    "duration": 22,
    "start_time": "2022-12-28T05:47:46.815Z"
   },
   {
    "duration": 10,
    "start_time": "2022-12-28T05:47:46.839Z"
   },
   {
    "duration": 12,
    "start_time": "2022-12-28T05:47:46.850Z"
   },
   {
    "duration": 7,
    "start_time": "2022-12-28T05:47:46.863Z"
   },
   {
    "duration": 48,
    "start_time": "2022-12-28T05:47:46.872Z"
   },
   {
    "duration": 14,
    "start_time": "2022-12-28T05:47:46.921Z"
   },
   {
    "duration": 8,
    "start_time": "2022-12-28T06:23:47.024Z"
   },
   {
    "duration": 5,
    "start_time": "2022-12-28T06:29:51.595Z"
   },
   {
    "duration": 52,
    "start_time": "2022-12-28T06:30:54.499Z"
   },
   {
    "duration": 9,
    "start_time": "2022-12-28T06:31:00.756Z"
   },
   {
    "duration": 115,
    "start_time": "2022-12-28T06:33:38.476Z"
   },
   {
    "duration": 57,
    "start_time": "2022-12-28T06:37:48.394Z"
   },
   {
    "duration": 101,
    "start_time": "2022-12-28T06:37:57.610Z"
   },
   {
    "duration": 4,
    "start_time": "2022-12-28T06:38:03.234Z"
   },
   {
    "duration": 8,
    "start_time": "2022-12-28T06:38:08.032Z"
   },
   {
    "duration": 3,
    "start_time": "2022-12-28T06:38:10.518Z"
   },
   {
    "duration": 8,
    "start_time": "2022-12-28T06:38:29.154Z"
   },
   {
    "duration": 2,
    "start_time": "2022-12-28T06:38:43.131Z"
   },
   {
    "duration": 5,
    "start_time": "2022-12-28T06:38:48.330Z"
   },
   {
    "duration": 7,
    "start_time": "2022-12-28T06:45:05.236Z"
   },
   {
    "duration": 10,
    "start_time": "2022-12-28T06:50:33.046Z"
   },
   {
    "duration": 16,
    "start_time": "2022-12-28T07:00:44.871Z"
   },
   {
    "duration": 16,
    "start_time": "2022-12-28T07:00:47.646Z"
   },
   {
    "duration": 18,
    "start_time": "2022-12-28T07:01:06.629Z"
   },
   {
    "duration": 48,
    "start_time": "2022-12-28T07:01:40.298Z"
   },
   {
    "duration": 7,
    "start_time": "2022-12-28T07:01:44.050Z"
   },
   {
    "duration": 6,
    "start_time": "2022-12-28T07:03:04.476Z"
   },
   {
    "duration": 9,
    "start_time": "2022-12-28T07:03:06.102Z"
   },
   {
    "duration": 3,
    "start_time": "2022-12-28T07:03:54.159Z"
   },
   {
    "duration": 41,
    "start_time": "2022-12-28T07:03:54.164Z"
   },
   {
    "duration": 46,
    "start_time": "2022-12-28T07:03:54.207Z"
   },
   {
    "duration": 22,
    "start_time": "2022-12-28T07:03:54.254Z"
   },
   {
    "duration": 11,
    "start_time": "2022-12-28T07:03:54.278Z"
   },
   {
    "duration": 10,
    "start_time": "2022-12-28T07:03:54.291Z"
   },
   {
    "duration": 6,
    "start_time": "2022-12-28T07:03:54.303Z"
   },
   {
    "duration": 10,
    "start_time": "2022-12-28T07:03:54.310Z"
   },
   {
    "duration": 15,
    "start_time": "2022-12-28T07:03:54.321Z"
   },
   {
    "duration": 20,
    "start_time": "2022-12-28T07:03:54.337Z"
   },
   {
    "duration": 11,
    "start_time": "2022-12-28T07:03:54.359Z"
   },
   {
    "duration": 13,
    "start_time": "2022-12-28T07:03:54.372Z"
   },
   {
    "duration": 11,
    "start_time": "2022-12-28T07:03:56.803Z"
   },
   {
    "duration": 10,
    "start_time": "2022-12-28T07:04:09.194Z"
   },
   {
    "duration": 7,
    "start_time": "2022-12-28T07:05:48.468Z"
   },
   {
    "duration": 11,
    "start_time": "2022-12-28T07:05:53.675Z"
   },
   {
    "duration": 7,
    "start_time": "2022-12-28T07:06:40.054Z"
   },
   {
    "duration": 5,
    "start_time": "2022-12-28T07:07:02.307Z"
   },
   {
    "duration": 5,
    "start_time": "2022-12-28T07:07:08.973Z"
   },
   {
    "duration": 4,
    "start_time": "2022-12-28T07:07:12.958Z"
   },
   {
    "duration": 5,
    "start_time": "2022-12-28T07:07:14.802Z"
   },
   {
    "duration": 9,
    "start_time": "2022-12-28T07:07:33.106Z"
   },
   {
    "duration": 6,
    "start_time": "2022-12-28T07:07:37.638Z"
   },
   {
    "duration": 8,
    "start_time": "2022-12-28T07:07:43.314Z"
   },
   {
    "duration": 4,
    "start_time": "2022-12-28T07:07:53.556Z"
   },
   {
    "duration": 40,
    "start_time": "2022-12-28T07:07:53.563Z"
   },
   {
    "duration": 47,
    "start_time": "2022-12-28T07:07:53.604Z"
   },
   {
    "duration": 26,
    "start_time": "2022-12-28T07:07:53.654Z"
   },
   {
    "duration": 15,
    "start_time": "2022-12-28T07:07:53.682Z"
   },
   {
    "duration": 9,
    "start_time": "2022-12-28T07:07:53.699Z"
   },
   {
    "duration": 6,
    "start_time": "2022-12-28T07:07:53.709Z"
   },
   {
    "duration": 12,
    "start_time": "2022-12-28T07:07:53.716Z"
   },
   {
    "duration": 15,
    "start_time": "2022-12-28T07:07:53.729Z"
   },
   {
    "duration": 13,
    "start_time": "2022-12-28T07:07:53.746Z"
   },
   {
    "duration": 9,
    "start_time": "2022-12-28T07:07:53.761Z"
   },
   {
    "duration": 10,
    "start_time": "2022-12-28T07:07:53.772Z"
   },
   {
    "duration": 10,
    "start_time": "2022-12-28T07:07:53.816Z"
   },
   {
    "duration": 717,
    "start_time": "2022-12-28T07:07:56.596Z"
   },
   {
    "duration": 7,
    "start_time": "2022-12-28T07:08:05.864Z"
   },
   {
    "duration": 6,
    "start_time": "2022-12-28T07:09:30.711Z"
   },
   {
    "duration": 10,
    "start_time": "2022-12-28T07:09:32.357Z"
   },
   {
    "duration": 3,
    "start_time": "2022-12-28T07:10:48.629Z"
   },
   {
    "duration": 3,
    "start_time": "2022-12-28T07:10:54.997Z"
   },
   {
    "duration": 4,
    "start_time": "2022-12-28T07:11:39.803Z"
   },
   {
    "duration": 3,
    "start_time": "2022-12-28T07:13:23.478Z"
   },
   {
    "duration": 35,
    "start_time": "2022-12-28T07:13:23.483Z"
   },
   {
    "duration": 46,
    "start_time": "2022-12-28T07:13:23.519Z"
   },
   {
    "duration": 21,
    "start_time": "2022-12-28T07:13:23.567Z"
   },
   {
    "duration": 11,
    "start_time": "2022-12-28T07:13:23.590Z"
   },
   {
    "duration": 8,
    "start_time": "2022-12-28T07:13:23.602Z"
   },
   {
    "duration": 15,
    "start_time": "2022-12-28T07:13:23.611Z"
   },
   {
    "duration": 7,
    "start_time": "2022-12-28T07:13:23.628Z"
   },
   {
    "duration": 19,
    "start_time": "2022-12-28T07:13:23.636Z"
   },
   {
    "duration": 16,
    "start_time": "2022-12-28T07:13:23.657Z"
   },
   {
    "duration": 8,
    "start_time": "2022-12-28T07:13:23.676Z"
   },
   {
    "duration": 8,
    "start_time": "2022-12-28T07:13:23.686Z"
   },
   {
    "duration": 12,
    "start_time": "2022-12-28T07:13:23.716Z"
   },
   {
    "duration": 18,
    "start_time": "2022-12-28T07:13:23.729Z"
   },
   {
    "duration": 0,
    "start_time": "2022-12-28T07:13:23.750Z"
   },
   {
    "duration": 0,
    "start_time": "2022-12-28T07:13:23.751Z"
   },
   {
    "duration": 0,
    "start_time": "2022-12-28T07:13:23.752Z"
   },
   {
    "duration": 0,
    "start_time": "2022-12-28T07:13:23.754Z"
   },
   {
    "duration": 0,
    "start_time": "2022-12-28T07:13:23.755Z"
   },
   {
    "duration": 0,
    "start_time": "2022-12-28T07:13:23.757Z"
   },
   {
    "duration": 0,
    "start_time": "2022-12-28T07:13:23.758Z"
   },
   {
    "duration": 0,
    "start_time": "2022-12-28T07:13:23.759Z"
   },
   {
    "duration": 0,
    "start_time": "2022-12-28T07:13:23.760Z"
   },
   {
    "duration": 0,
    "start_time": "2022-12-28T07:13:23.762Z"
   },
   {
    "duration": 0,
    "start_time": "2022-12-28T07:13:23.763Z"
   },
   {
    "duration": 0,
    "start_time": "2022-12-28T07:13:23.764Z"
   },
   {
    "duration": 0,
    "start_time": "2022-12-28T07:13:23.765Z"
   },
   {
    "duration": 0,
    "start_time": "2022-12-28T07:13:23.766Z"
   },
   {
    "duration": 0,
    "start_time": "2022-12-28T07:13:23.767Z"
   },
   {
    "duration": 0,
    "start_time": "2022-12-28T07:13:23.768Z"
   },
   {
    "duration": 0,
    "start_time": "2022-12-28T07:13:23.769Z"
   },
   {
    "duration": 0,
    "start_time": "2022-12-28T07:13:23.770Z"
   },
   {
    "duration": 0,
    "start_time": "2022-12-28T07:13:23.771Z"
   },
   {
    "duration": 0,
    "start_time": "2022-12-28T07:13:23.772Z"
   },
   {
    "duration": 0,
    "start_time": "2022-12-28T07:13:23.816Z"
   },
   {
    "duration": 0,
    "start_time": "2022-12-28T07:13:23.817Z"
   },
   {
    "duration": 0,
    "start_time": "2022-12-28T07:13:23.818Z"
   },
   {
    "duration": 0,
    "start_time": "2022-12-28T07:13:23.819Z"
   },
   {
    "duration": 0,
    "start_time": "2022-12-28T07:13:23.820Z"
   },
   {
    "duration": 0,
    "start_time": "2022-12-28T07:13:23.821Z"
   },
   {
    "duration": 0,
    "start_time": "2022-12-28T07:13:23.823Z"
   },
   {
    "duration": 0,
    "start_time": "2022-12-28T07:13:23.824Z"
   },
   {
    "duration": 0,
    "start_time": "2022-12-28T07:13:23.825Z"
   },
   {
    "duration": 0,
    "start_time": "2022-12-28T07:13:23.826Z"
   },
   {
    "duration": 0,
    "start_time": "2022-12-28T07:13:23.827Z"
   },
   {
    "duration": 0,
    "start_time": "2022-12-28T07:13:23.828Z"
   },
   {
    "duration": 0,
    "start_time": "2022-12-28T07:13:23.829Z"
   },
   {
    "duration": 0,
    "start_time": "2022-12-28T07:13:23.830Z"
   },
   {
    "duration": 0,
    "start_time": "2022-12-28T07:13:23.831Z"
   },
   {
    "duration": 0,
    "start_time": "2022-12-28T07:13:23.832Z"
   },
   {
    "duration": 0,
    "start_time": "2022-12-28T07:13:23.833Z"
   },
   {
    "duration": 0,
    "start_time": "2022-12-28T07:13:23.834Z"
   },
   {
    "duration": 0,
    "start_time": "2022-12-28T07:13:23.836Z"
   },
   {
    "duration": 3,
    "start_time": "2022-12-28T07:13:31.920Z"
   },
   {
    "duration": 44,
    "start_time": "2022-12-28T07:13:31.925Z"
   },
   {
    "duration": 49,
    "start_time": "2022-12-28T07:13:31.971Z"
   },
   {
    "duration": 21,
    "start_time": "2022-12-28T07:13:32.022Z"
   },
   {
    "duration": 10,
    "start_time": "2022-12-28T07:13:32.045Z"
   },
   {
    "duration": 9,
    "start_time": "2022-12-28T07:13:32.057Z"
   },
   {
    "duration": 7,
    "start_time": "2022-12-28T07:13:32.068Z"
   },
   {
    "duration": 11,
    "start_time": "2022-12-28T07:13:32.078Z"
   },
   {
    "duration": 31,
    "start_time": "2022-12-28T07:13:32.091Z"
   },
   {
    "duration": 12,
    "start_time": "2022-12-28T07:13:32.125Z"
   },
   {
    "duration": 10,
    "start_time": "2022-12-28T07:13:32.138Z"
   },
   {
    "duration": 13,
    "start_time": "2022-12-28T07:13:32.150Z"
   },
   {
    "duration": 9,
    "start_time": "2022-12-28T07:13:32.165Z"
   },
   {
    "duration": 46,
    "start_time": "2022-12-28T07:13:32.176Z"
   },
   {
    "duration": 1,
    "start_time": "2022-12-28T07:13:32.225Z"
   },
   {
    "duration": 0,
    "start_time": "2022-12-28T07:13:32.227Z"
   },
   {
    "duration": 0,
    "start_time": "2022-12-28T07:13:32.228Z"
   },
   {
    "duration": 0,
    "start_time": "2022-12-28T07:13:32.229Z"
   },
   {
    "duration": 0,
    "start_time": "2022-12-28T07:13:32.230Z"
   },
   {
    "duration": 0,
    "start_time": "2022-12-28T07:13:32.231Z"
   },
   {
    "duration": 0,
    "start_time": "2022-12-28T07:13:32.232Z"
   },
   {
    "duration": 0,
    "start_time": "2022-12-28T07:13:32.232Z"
   },
   {
    "duration": 0,
    "start_time": "2022-12-28T07:13:32.233Z"
   },
   {
    "duration": 0,
    "start_time": "2022-12-28T07:13:32.234Z"
   },
   {
    "duration": 0,
    "start_time": "2022-12-28T07:13:32.235Z"
   },
   {
    "duration": 0,
    "start_time": "2022-12-28T07:13:32.236Z"
   },
   {
    "duration": 0,
    "start_time": "2022-12-28T07:13:32.237Z"
   },
   {
    "duration": 0,
    "start_time": "2022-12-28T07:13:32.238Z"
   },
   {
    "duration": 0,
    "start_time": "2022-12-28T07:13:32.238Z"
   },
   {
    "duration": 0,
    "start_time": "2022-12-28T07:13:32.240Z"
   },
   {
    "duration": 0,
    "start_time": "2022-12-28T07:13:32.240Z"
   },
   {
    "duration": 0,
    "start_time": "2022-12-28T07:13:32.241Z"
   },
   {
    "duration": 0,
    "start_time": "2022-12-28T07:13:32.242Z"
   },
   {
    "duration": 0,
    "start_time": "2022-12-28T07:13:32.243Z"
   },
   {
    "duration": 0,
    "start_time": "2022-12-28T07:13:32.244Z"
   },
   {
    "duration": 0,
    "start_time": "2022-12-28T07:13:32.245Z"
   },
   {
    "duration": 0,
    "start_time": "2022-12-28T07:13:32.246Z"
   },
   {
    "duration": 0,
    "start_time": "2022-12-28T07:13:32.247Z"
   },
   {
    "duration": 0,
    "start_time": "2022-12-28T07:13:32.248Z"
   },
   {
    "duration": 0,
    "start_time": "2022-12-28T07:13:32.250Z"
   },
   {
    "duration": 0,
    "start_time": "2022-12-28T07:13:32.251Z"
   },
   {
    "duration": 0,
    "start_time": "2022-12-28T07:13:32.252Z"
   },
   {
    "duration": 0,
    "start_time": "2022-12-28T07:13:32.253Z"
   },
   {
    "duration": 0,
    "start_time": "2022-12-28T07:13:32.254Z"
   },
   {
    "duration": 0,
    "start_time": "2022-12-28T07:13:32.255Z"
   },
   {
    "duration": 0,
    "start_time": "2022-12-28T07:13:32.256Z"
   },
   {
    "duration": 0,
    "start_time": "2022-12-28T07:13:32.257Z"
   },
   {
    "duration": 0,
    "start_time": "2022-12-28T07:13:32.258Z"
   },
   {
    "duration": 0,
    "start_time": "2022-12-28T07:13:32.316Z"
   },
   {
    "duration": 0,
    "start_time": "2022-12-28T07:13:32.317Z"
   },
   {
    "duration": 0,
    "start_time": "2022-12-28T07:13:32.318Z"
   },
   {
    "duration": 0,
    "start_time": "2022-12-28T07:13:32.319Z"
   },
   {
    "duration": 0,
    "start_time": "2022-12-28T07:13:32.321Z"
   },
   {
    "duration": 7,
    "start_time": "2022-12-28T07:13:58.635Z"
   },
   {
    "duration": 3,
    "start_time": "2022-12-28T07:14:02.776Z"
   },
   {
    "duration": 45,
    "start_time": "2022-12-28T07:14:02.781Z"
   },
   {
    "duration": 48,
    "start_time": "2022-12-28T07:14:02.828Z"
   },
   {
    "duration": 23,
    "start_time": "2022-12-28T07:14:02.878Z"
   },
   {
    "duration": 12,
    "start_time": "2022-12-28T07:14:02.904Z"
   },
   {
    "duration": 12,
    "start_time": "2022-12-28T07:14:02.918Z"
   },
   {
    "duration": 5,
    "start_time": "2022-12-28T07:14:02.932Z"
   },
   {
    "duration": 6,
    "start_time": "2022-12-28T07:14:02.939Z"
   },
   {
    "duration": 13,
    "start_time": "2022-12-28T07:14:02.947Z"
   },
   {
    "duration": 15,
    "start_time": "2022-12-28T07:14:02.962Z"
   },
   {
    "duration": 8,
    "start_time": "2022-12-28T07:14:03.018Z"
   },
   {
    "duration": 13,
    "start_time": "2022-12-28T07:14:03.028Z"
   },
   {
    "duration": 11,
    "start_time": "2022-12-28T07:14:03.043Z"
   },
   {
    "duration": 7,
    "start_time": "2022-12-28T07:14:03.056Z"
   },
   {
    "duration": 6,
    "start_time": "2022-12-28T07:14:03.065Z"
   },
   {
    "duration": 10,
    "start_time": "2022-12-28T07:14:03.073Z"
   },
   {
    "duration": 5,
    "start_time": "2022-12-28T07:14:03.116Z"
   },
   {
    "duration": 9,
    "start_time": "2022-12-28T07:14:03.123Z"
   },
   {
    "duration": 180,
    "start_time": "2022-12-28T07:14:03.133Z"
   },
   {
    "duration": 124,
    "start_time": "2022-12-28T07:14:03.315Z"
   },
   {
    "duration": 9,
    "start_time": "2022-12-28T07:14:03.441Z"
   },
   {
    "duration": 8,
    "start_time": "2022-12-28T07:14:03.451Z"
   },
   {
    "duration": 7,
    "start_time": "2022-12-28T07:14:03.460Z"
   },
   {
    "duration": 221,
    "start_time": "2022-12-28T07:14:03.468Z"
   },
   {
    "duration": 231,
    "start_time": "2022-12-28T07:14:03.691Z"
   },
   {
    "duration": 300,
    "start_time": "2022-12-28T07:14:03.924Z"
   },
   {
    "duration": 210,
    "start_time": "2022-12-28T07:14:04.226Z"
   },
   {
    "duration": 299,
    "start_time": "2022-12-28T07:14:04.438Z"
   },
   {
    "duration": 150,
    "start_time": "2022-12-28T07:14:04.740Z"
   },
   {
    "duration": 161,
    "start_time": "2022-12-28T07:14:04.892Z"
   },
   {
    "duration": 5,
    "start_time": "2022-12-28T07:14:05.055Z"
   },
   {
    "duration": 20,
    "start_time": "2022-12-28T07:14:05.062Z"
   },
   {
    "duration": 286,
    "start_time": "2022-12-28T07:14:05.083Z"
   },
   {
    "duration": 163,
    "start_time": "2022-12-28T07:14:05.371Z"
   },
   {
    "duration": 5,
    "start_time": "2022-12-28T07:14:05.536Z"
   },
   {
    "duration": 7,
    "start_time": "2022-12-28T07:14:05.543Z"
   },
   {
    "duration": 40,
    "start_time": "2022-12-28T07:14:05.552Z"
   },
   {
    "duration": 48,
    "start_time": "2022-12-28T07:14:05.594Z"
   },
   {
    "duration": 7,
    "start_time": "2022-12-28T07:14:05.644Z"
   },
   {
    "duration": 47,
    "start_time": "2022-12-28T07:14:05.652Z"
   },
   {
    "duration": 23,
    "start_time": "2022-12-28T07:14:05.701Z"
   },
   {
    "duration": 52,
    "start_time": "2022-12-28T07:14:05.726Z"
   },
   {
    "duration": 15,
    "start_time": "2022-12-28T07:14:05.779Z"
   },
   {
    "duration": 49,
    "start_time": "2022-12-28T07:14:05.816Z"
   },
   {
    "duration": 48,
    "start_time": "2022-12-28T07:14:05.867Z"
   },
   {
    "duration": 146,
    "start_time": "2022-12-28T07:14:05.917Z"
   },
   {
    "duration": 6,
    "start_time": "2022-12-28T07:14:06.065Z"
   },
   {
    "duration": 39,
    "start_time": "2022-12-28T07:14:06.072Z"
   },
   {
    "duration": 11,
    "start_time": "2022-12-28T07:14:06.113Z"
   },
   {
    "duration": 10,
    "start_time": "2022-12-28T07:14:06.126Z"
   },
   {
    "duration": 8,
    "start_time": "2022-12-28T07:14:06.137Z"
   },
   {
    "duration": 28,
    "start_time": "2022-12-28T07:14:06.146Z"
   },
   {
    "duration": 49,
    "start_time": "2022-12-28T07:14:06.175Z"
   },
   {
    "duration": 4,
    "start_time": "2022-12-28T07:28:06.613Z"
   },
   {
    "duration": 39,
    "start_time": "2022-12-28T07:28:06.619Z"
   },
   {
    "duration": 49,
    "start_time": "2022-12-28T07:28:06.660Z"
   },
   {
    "duration": 25,
    "start_time": "2022-12-28T07:28:06.711Z"
   },
   {
    "duration": 12,
    "start_time": "2022-12-28T07:28:06.739Z"
   },
   {
    "duration": 8,
    "start_time": "2022-12-28T07:28:06.753Z"
   },
   {
    "duration": 5,
    "start_time": "2022-12-28T07:28:06.763Z"
   },
   {
    "duration": 10,
    "start_time": "2022-12-28T07:28:06.770Z"
   },
   {
    "duration": 37,
    "start_time": "2022-12-28T07:28:06.782Z"
   },
   {
    "duration": 16,
    "start_time": "2022-12-28T07:28:06.821Z"
   },
   {
    "duration": 13,
    "start_time": "2022-12-28T07:28:06.839Z"
   },
   {
    "duration": 14,
    "start_time": "2022-12-28T07:28:06.853Z"
   },
   {
    "duration": 7,
    "start_time": "2022-12-28T07:28:06.868Z"
   },
   {
    "duration": 6,
    "start_time": "2022-12-28T07:28:06.877Z"
   },
   {
    "duration": 6,
    "start_time": "2022-12-28T07:28:06.916Z"
   },
   {
    "duration": 11,
    "start_time": "2022-12-28T07:28:06.924Z"
   },
   {
    "duration": 5,
    "start_time": "2022-12-28T07:28:06.937Z"
   },
   {
    "duration": 14,
    "start_time": "2022-12-28T07:28:06.944Z"
   },
   {
    "duration": 239,
    "start_time": "2022-12-28T07:28:06.960Z"
   },
   {
    "duration": 135,
    "start_time": "2022-12-28T07:28:07.201Z"
   },
   {
    "duration": 10,
    "start_time": "2022-12-28T07:28:07.337Z"
   },
   {
    "duration": 6,
    "start_time": "2022-12-28T07:28:07.349Z"
   },
   {
    "duration": 12,
    "start_time": "2022-12-28T07:28:07.356Z"
   },
   {
    "duration": 253,
    "start_time": "2022-12-28T07:28:07.370Z"
   },
   {
    "duration": 312,
    "start_time": "2022-12-28T07:28:07.625Z"
   },
   {
    "duration": 322,
    "start_time": "2022-12-28T07:28:07.939Z"
   },
   {
    "duration": 217,
    "start_time": "2022-12-28T07:28:08.262Z"
   },
   {
    "duration": 338,
    "start_time": "2022-12-28T07:28:08.480Z"
   },
   {
    "duration": 149,
    "start_time": "2022-12-28T07:28:08.822Z"
   },
   {
    "duration": 161,
    "start_time": "2022-12-28T07:28:08.973Z"
   },
   {
    "duration": 5,
    "start_time": "2022-12-28T07:28:09.136Z"
   },
   {
    "duration": 25,
    "start_time": "2022-12-28T07:28:09.142Z"
   },
   {
    "duration": 298,
    "start_time": "2022-12-28T07:28:09.169Z"
   },
   {
    "duration": 166,
    "start_time": "2022-12-28T07:28:09.469Z"
   },
   {
    "duration": 5,
    "start_time": "2022-12-28T07:28:09.636Z"
   },
   {
    "duration": 11,
    "start_time": "2022-12-28T07:28:09.642Z"
   },
   {
    "duration": 165,
    "start_time": "2022-12-28T07:28:09.655Z"
   },
   {
    "duration": 7,
    "start_time": "2022-12-28T07:28:09.822Z"
   },
   {
    "duration": 29,
    "start_time": "2022-12-28T07:28:09.830Z"
   },
   {
    "duration": 12,
    "start_time": "2022-12-28T07:28:09.861Z"
   },
   {
    "duration": 44,
    "start_time": "2022-12-28T07:28:09.875Z"
   },
   {
    "duration": 14,
    "start_time": "2022-12-28T07:28:09.921Z"
   },
   {
    "duration": 27,
    "start_time": "2022-12-28T07:28:09.936Z"
   },
   {
    "duration": 15,
    "start_time": "2022-12-28T07:28:09.964Z"
   },
   {
    "duration": 1421,
    "start_time": "2022-12-28T07:36:44.895Z"
   },
   {
    "duration": 74,
    "start_time": "2022-12-28T07:36:46.318Z"
   },
   {
    "duration": 95,
    "start_time": "2022-12-28T07:36:46.393Z"
   },
   {
    "duration": 66,
    "start_time": "2022-12-28T07:36:46.490Z"
   },
   {
    "duration": 19,
    "start_time": "2022-12-28T07:36:46.559Z"
   },
   {
    "duration": 15,
    "start_time": "2022-12-28T07:36:46.580Z"
   },
   {
    "duration": 5,
    "start_time": "2022-12-28T07:36:46.597Z"
   },
   {
    "duration": 9,
    "start_time": "2022-12-28T07:36:46.603Z"
   },
   {
    "duration": 21,
    "start_time": "2022-12-28T07:36:46.614Z"
   },
   {
    "duration": 15,
    "start_time": "2022-12-28T07:36:46.637Z"
   },
   {
    "duration": 30,
    "start_time": "2022-12-28T07:36:46.654Z"
   },
   {
    "duration": 12,
    "start_time": "2022-12-28T07:36:46.686Z"
   },
   {
    "duration": 18,
    "start_time": "2022-12-28T07:36:46.700Z"
   },
   {
    "duration": 7,
    "start_time": "2022-12-28T07:36:46.721Z"
   },
   {
    "duration": 8,
    "start_time": "2022-12-28T07:36:46.730Z"
   },
   {
    "duration": 40,
    "start_time": "2022-12-28T07:36:46.740Z"
   },
   {
    "duration": 5,
    "start_time": "2022-12-28T07:36:46.782Z"
   },
   {
    "duration": 11,
    "start_time": "2022-12-28T07:36:46.789Z"
   },
   {
    "duration": 195,
    "start_time": "2022-12-28T07:36:46.802Z"
   },
   {
    "duration": 135,
    "start_time": "2022-12-28T07:36:46.999Z"
   },
   {
    "duration": 11,
    "start_time": "2022-12-28T07:36:47.136Z"
   },
   {
    "duration": 8,
    "start_time": "2022-12-28T07:36:47.148Z"
   },
   {
    "duration": 19,
    "start_time": "2022-12-28T07:36:47.158Z"
   },
   {
    "duration": 326,
    "start_time": "2022-12-28T07:36:47.179Z"
   },
   {
    "duration": 253,
    "start_time": "2022-12-28T07:36:47.507Z"
   },
   {
    "duration": 379,
    "start_time": "2022-12-28T07:36:47.762Z"
   },
   {
    "duration": 287,
    "start_time": "2022-12-28T07:36:48.143Z"
   },
   {
    "duration": 348,
    "start_time": "2022-12-28T07:36:48.432Z"
   },
   {
    "duration": 144,
    "start_time": "2022-12-28T07:36:48.782Z"
   },
   {
    "duration": 181,
    "start_time": "2022-12-28T07:36:48.928Z"
   },
   {
    "duration": 6,
    "start_time": "2022-12-28T07:36:49.111Z"
   },
   {
    "duration": 15,
    "start_time": "2022-12-28T07:36:49.119Z"
   },
   {
    "duration": 325,
    "start_time": "2022-12-28T07:36:49.136Z"
   },
   {
    "duration": 173,
    "start_time": "2022-12-28T07:36:49.462Z"
   },
   {
    "duration": 5,
    "start_time": "2022-12-28T07:36:49.637Z"
   },
   {
    "duration": 28,
    "start_time": "2022-12-28T07:36:49.644Z"
   },
   {
    "duration": 138,
    "start_time": "2022-12-28T07:36:49.674Z"
   },
   {
    "duration": 114,
    "start_time": "2022-12-28T07:36:49.814Z"
   },
   {
    "duration": 0,
    "start_time": "2022-12-28T07:36:49.930Z"
   },
   {
    "duration": 0,
    "start_time": "2022-12-28T07:36:49.932Z"
   },
   {
    "duration": 0,
    "start_time": "2022-12-28T07:36:49.933Z"
   },
   {
    "duration": 0,
    "start_time": "2022-12-28T07:36:49.934Z"
   },
   {
    "duration": 0,
    "start_time": "2022-12-28T07:36:49.935Z"
   },
   {
    "duration": 0,
    "start_time": "2022-12-28T07:36:49.936Z"
   },
   {
    "duration": 305,
    "start_time": "2022-12-28T07:39:59.890Z"
   },
   {
    "duration": 28,
    "start_time": "2022-12-28T07:40:19.116Z"
   },
   {
    "duration": 27,
    "start_time": "2022-12-28T07:40:30.163Z"
   },
   {
    "duration": 28,
    "start_time": "2022-12-28T07:40:37.479Z"
   },
   {
    "duration": 31,
    "start_time": "2022-12-28T07:40:46.198Z"
   },
   {
    "duration": 4,
    "start_time": "2022-12-28T07:43:35.892Z"
   },
   {
    "duration": 57,
    "start_time": "2022-12-28T07:43:35.898Z"
   },
   {
    "duration": 58,
    "start_time": "2022-12-28T07:43:35.957Z"
   },
   {
    "duration": 22,
    "start_time": "2022-12-28T07:43:36.017Z"
   },
   {
    "duration": 11,
    "start_time": "2022-12-28T07:43:36.041Z"
   },
   {
    "duration": 6,
    "start_time": "2022-12-28T07:43:36.054Z"
   },
   {
    "duration": 7,
    "start_time": "2022-12-28T07:43:36.062Z"
   },
   {
    "duration": 7,
    "start_time": "2022-12-28T07:43:36.071Z"
   },
   {
    "duration": 21,
    "start_time": "2022-12-28T07:43:36.080Z"
   },
   {
    "duration": 13,
    "start_time": "2022-12-28T07:43:36.103Z"
   },
   {
    "duration": 11,
    "start_time": "2022-12-28T07:43:36.118Z"
   },
   {
    "duration": 8,
    "start_time": "2022-12-28T07:43:36.131Z"
   },
   {
    "duration": 9,
    "start_time": "2022-12-28T07:43:36.141Z"
   },
   {
    "duration": 25,
    "start_time": "2022-12-28T07:43:36.153Z"
   },
   {
    "duration": 5,
    "start_time": "2022-12-28T07:43:36.180Z"
   },
   {
    "duration": 37,
    "start_time": "2022-12-28T07:43:36.187Z"
   },
   {
    "duration": 15,
    "start_time": "2022-12-28T07:43:36.226Z"
   },
   {
    "duration": 29,
    "start_time": "2022-12-28T07:43:36.243Z"
   },
   {
    "duration": 183,
    "start_time": "2022-12-28T07:43:36.274Z"
   },
   {
    "duration": 126,
    "start_time": "2022-12-28T07:43:36.459Z"
   },
   {
    "duration": 9,
    "start_time": "2022-12-28T07:43:36.587Z"
   },
   {
    "duration": 17,
    "start_time": "2022-12-28T07:43:36.598Z"
   },
   {
    "duration": 26,
    "start_time": "2022-12-28T07:43:36.616Z"
   },
   {
    "duration": 220,
    "start_time": "2022-12-28T07:43:36.643Z"
   },
   {
    "duration": 233,
    "start_time": "2022-12-28T07:43:36.865Z"
   },
   {
    "duration": 299,
    "start_time": "2022-12-28T07:43:37.100Z"
   },
   {
    "duration": 225,
    "start_time": "2022-12-28T07:43:37.400Z"
   },
   {
    "duration": 301,
    "start_time": "2022-12-28T07:43:37.627Z"
   },
   {
    "duration": 131,
    "start_time": "2022-12-28T07:43:37.930Z"
   },
   {
    "duration": 162,
    "start_time": "2022-12-28T07:43:38.062Z"
   },
   {
    "duration": 7,
    "start_time": "2022-12-28T07:43:38.227Z"
   },
   {
    "duration": 20,
    "start_time": "2022-12-28T07:43:38.236Z"
   },
   {
    "duration": 328,
    "start_time": "2022-12-28T07:43:38.258Z"
   },
   {
    "duration": 160,
    "start_time": "2022-12-28T07:43:38.588Z"
   },
   {
    "duration": 4,
    "start_time": "2022-12-28T07:43:38.751Z"
   },
   {
    "duration": 20,
    "start_time": "2022-12-28T07:43:38.757Z"
   },
   {
    "duration": 39,
    "start_time": "2022-12-28T07:43:38.778Z"
   },
   {
    "duration": 155,
    "start_time": "2022-12-28T07:43:38.819Z"
   },
   {
    "duration": 6,
    "start_time": "2022-12-28T07:43:38.978Z"
   },
   {
    "duration": 32,
    "start_time": "2022-12-28T07:43:38.986Z"
   },
   {
    "duration": 12,
    "start_time": "2022-12-28T07:43:39.022Z"
   },
   {
    "duration": 15,
    "start_time": "2022-12-28T07:43:39.035Z"
   },
   {
    "duration": 28,
    "start_time": "2022-12-28T07:43:39.052Z"
   },
   {
    "duration": 30,
    "start_time": "2022-12-28T07:43:39.082Z"
   },
   {
    "duration": 16,
    "start_time": "2022-12-28T07:43:39.114Z"
   },
   {
    "duration": 1434,
    "start_time": "2022-12-28T09:47:07.254Z"
   },
   {
    "duration": 78,
    "start_time": "2022-12-28T09:47:08.690Z"
   },
   {
    "duration": 97,
    "start_time": "2022-12-28T09:47:08.770Z"
   },
   {
    "duration": 60,
    "start_time": "2022-12-28T09:47:08.870Z"
   },
   {
    "duration": 12,
    "start_time": "2022-12-28T09:47:08.933Z"
   },
   {
    "duration": 23,
    "start_time": "2022-12-28T09:47:08.947Z"
   },
   {
    "duration": 12,
    "start_time": "2022-12-28T09:47:08.972Z"
   },
   {
    "duration": 21,
    "start_time": "2022-12-28T09:47:08.986Z"
   },
   {
    "duration": 35,
    "start_time": "2022-12-28T09:47:09.009Z"
   },
   {
    "duration": 16,
    "start_time": "2022-12-28T09:47:09.046Z"
   },
   {
    "duration": 19,
    "start_time": "2022-12-28T09:47:09.064Z"
   },
   {
    "duration": 15,
    "start_time": "2022-12-28T09:47:09.085Z"
   },
   {
    "duration": 22,
    "start_time": "2022-12-28T09:47:09.102Z"
   },
   {
    "duration": 12,
    "start_time": "2022-12-28T09:47:09.126Z"
   },
   {
    "duration": 18,
    "start_time": "2022-12-28T09:47:09.140Z"
   },
   {
    "duration": 19,
    "start_time": "2022-12-28T09:47:09.160Z"
   },
   {
    "duration": 4,
    "start_time": "2022-12-28T09:47:09.181Z"
   },
   {
    "duration": 22,
    "start_time": "2022-12-28T09:47:09.187Z"
   },
   {
    "duration": 175,
    "start_time": "2022-12-28T09:47:09.210Z"
   },
   {
    "duration": 137,
    "start_time": "2022-12-28T09:47:09.388Z"
   },
   {
    "duration": 9,
    "start_time": "2022-12-28T09:47:09.526Z"
   },
   {
    "duration": 8,
    "start_time": "2022-12-28T09:47:09.537Z"
   },
   {
    "duration": 13,
    "start_time": "2022-12-28T09:47:09.546Z"
   },
   {
    "duration": 291,
    "start_time": "2022-12-28T09:47:09.560Z"
   },
   {
    "duration": 226,
    "start_time": "2022-12-28T09:47:09.853Z"
   },
   {
    "duration": 373,
    "start_time": "2022-12-28T09:47:10.080Z"
   },
   {
    "duration": 233,
    "start_time": "2022-12-28T09:47:10.456Z"
   },
   {
    "duration": 322,
    "start_time": "2022-12-28T09:47:10.704Z"
   },
   {
    "duration": 148,
    "start_time": "2022-12-28T09:47:11.028Z"
   },
   {
    "duration": 159,
    "start_time": "2022-12-28T09:47:11.177Z"
   },
   {
    "duration": 5,
    "start_time": "2022-12-28T09:47:11.337Z"
   },
   {
    "duration": 14,
    "start_time": "2022-12-28T09:47:11.343Z"
   },
   {
    "duration": 259,
    "start_time": "2022-12-28T09:47:11.359Z"
   },
   {
    "duration": 182,
    "start_time": "2022-12-28T09:47:11.620Z"
   },
   {
    "duration": 6,
    "start_time": "2022-12-28T09:47:11.805Z"
   },
   {
    "duration": 19,
    "start_time": "2022-12-28T09:47:11.813Z"
   },
   {
    "duration": 132,
    "start_time": "2022-12-28T09:47:11.834Z"
   },
   {
    "duration": 0,
    "start_time": "2022-12-28T09:47:11.967Z"
   },
   {
    "duration": 0,
    "start_time": "2022-12-28T09:47:11.969Z"
   },
   {
    "duration": 0,
    "start_time": "2022-12-28T09:47:11.970Z"
   },
   {
    "duration": 0,
    "start_time": "2022-12-28T09:47:11.971Z"
   },
   {
    "duration": 0,
    "start_time": "2022-12-28T09:47:11.972Z"
   },
   {
    "duration": 0,
    "start_time": "2022-12-28T09:47:11.974Z"
   },
   {
    "duration": 0,
    "start_time": "2022-12-28T09:47:11.975Z"
   },
   {
    "duration": 0,
    "start_time": "2022-12-28T09:47:11.976Z"
   },
   {
    "duration": 15,
    "start_time": "2022-12-28T09:47:25.135Z"
   },
   {
    "duration": 11,
    "start_time": "2022-12-28T09:50:11.080Z"
   },
   {
    "duration": 197,
    "start_time": "2022-12-28T09:53:43.757Z"
   },
   {
    "duration": 25,
    "start_time": "2022-12-28T09:53:47.240Z"
   },
   {
    "duration": 212,
    "start_time": "2022-12-28T09:54:27.577Z"
   },
   {
    "duration": 10,
    "start_time": "2022-12-28T09:54:29.729Z"
   },
   {
    "duration": 29,
    "start_time": "2022-12-28T09:54:31.480Z"
   },
   {
    "duration": 10,
    "start_time": "2022-12-28T09:54:39.730Z"
   },
   {
    "duration": 11,
    "start_time": "2022-12-28T09:55:23.934Z"
   },
   {
    "duration": 96,
    "start_time": "2022-12-28T09:56:27.352Z"
   },
   {
    "duration": 11,
    "start_time": "2022-12-28T09:56:46.220Z"
   },
   {
    "duration": 11,
    "start_time": "2022-12-28T09:56:50.854Z"
   },
   {
    "duration": 32,
    "start_time": "2022-12-28T09:57:00.156Z"
   },
   {
    "duration": 32,
    "start_time": "2022-12-28T09:58:53.796Z"
   },
   {
    "duration": 18,
    "start_time": "2022-12-28T09:59:03.998Z"
   },
   {
    "duration": 17,
    "start_time": "2022-12-28T09:59:13.929Z"
   },
   {
    "duration": 18,
    "start_time": "2022-12-28T10:00:34.011Z"
   },
   {
    "duration": 14,
    "start_time": "2022-12-28T10:04:39.849Z"
   },
   {
    "duration": 7,
    "start_time": "2022-12-28T10:08:35.157Z"
   },
   {
    "duration": 31,
    "start_time": "2022-12-28T10:08:35.167Z"
   },
   {
    "duration": 66,
    "start_time": "2022-12-28T10:08:35.200Z"
   },
   {
    "duration": 20,
    "start_time": "2022-12-28T10:08:35.268Z"
   },
   {
    "duration": 25,
    "start_time": "2022-12-28T10:08:35.291Z"
   },
   {
    "duration": 25,
    "start_time": "2022-12-28T10:08:35.321Z"
   },
   {
    "duration": 9,
    "start_time": "2022-12-28T10:08:35.348Z"
   },
   {
    "duration": 6,
    "start_time": "2022-12-28T10:08:35.359Z"
   },
   {
    "duration": 13,
    "start_time": "2022-12-28T10:08:35.367Z"
   },
   {
    "duration": 30,
    "start_time": "2022-12-28T10:08:35.383Z"
   },
   {
    "duration": 41,
    "start_time": "2022-12-28T10:08:35.416Z"
   },
   {
    "duration": 10,
    "start_time": "2022-12-28T10:08:35.458Z"
   },
   {
    "duration": 9,
    "start_time": "2022-12-28T10:08:35.469Z"
   },
   {
    "duration": 6,
    "start_time": "2022-12-28T10:08:35.482Z"
   },
   {
    "duration": 17,
    "start_time": "2022-12-28T10:08:35.489Z"
   },
   {
    "duration": 16,
    "start_time": "2022-12-28T10:08:35.510Z"
   },
   {
    "duration": 25,
    "start_time": "2022-12-28T10:08:35.528Z"
   },
   {
    "duration": 6,
    "start_time": "2022-12-28T10:08:35.555Z"
   },
   {
    "duration": 199,
    "start_time": "2022-12-28T10:08:35.563Z"
   },
   {
    "duration": 149,
    "start_time": "2022-12-28T10:08:35.764Z"
   },
   {
    "duration": 11,
    "start_time": "2022-12-28T10:08:35.915Z"
   },
   {
    "duration": 35,
    "start_time": "2022-12-28T10:08:35.929Z"
   },
   {
    "duration": 5,
    "start_time": "2022-12-28T10:08:35.969Z"
   },
   {
    "duration": 272,
    "start_time": "2022-12-28T10:08:35.976Z"
   },
   {
    "duration": 257,
    "start_time": "2022-12-28T10:08:36.250Z"
   },
   {
    "duration": 351,
    "start_time": "2022-12-28T10:08:36.509Z"
   },
   {
    "duration": 256,
    "start_time": "2022-12-28T10:08:36.862Z"
   },
   {
    "duration": 358,
    "start_time": "2022-12-28T10:08:37.121Z"
   },
   {
    "duration": 207,
    "start_time": "2022-12-28T10:08:37.481Z"
   },
   {
    "duration": 208,
    "start_time": "2022-12-28T10:08:37.691Z"
   },
   {
    "duration": 7,
    "start_time": "2022-12-28T10:08:37.904Z"
   },
   {
    "duration": 40,
    "start_time": "2022-12-28T10:08:37.913Z"
   },
   {
    "duration": 276,
    "start_time": "2022-12-28T10:08:37.955Z"
   },
   {
    "duration": 218,
    "start_time": "2022-12-28T10:08:38.233Z"
   },
   {
    "duration": 6,
    "start_time": "2022-12-28T10:08:38.453Z"
   },
   {
    "duration": 10,
    "start_time": "2022-12-28T10:08:38.461Z"
   },
   {
    "duration": 251,
    "start_time": "2022-12-28T10:08:38.473Z"
   },
   {
    "duration": 35,
    "start_time": "2022-12-28T10:08:38.726Z"
   },
   {
    "duration": 159,
    "start_time": "2022-12-28T10:08:38.763Z"
   },
   {
    "duration": 11,
    "start_time": "2022-12-28T10:08:38.928Z"
   },
   {
    "duration": 49,
    "start_time": "2022-12-28T10:08:38.943Z"
   },
   {
    "duration": 24,
    "start_time": "2022-12-28T10:08:38.994Z"
   },
   {
    "duration": 42,
    "start_time": "2022-12-28T10:08:39.020Z"
   },
   {
    "duration": 8,
    "start_time": "2022-12-28T10:08:39.064Z"
   },
   {
    "duration": 27,
    "start_time": "2022-12-28T10:08:39.074Z"
   },
   {
    "duration": 25,
    "start_time": "2022-12-28T10:08:39.103Z"
   },
   {
    "duration": 12,
    "start_time": "2022-12-28T10:15:51.831Z"
   },
   {
    "duration": 3,
    "start_time": "2022-12-28T10:16:02.784Z"
   },
   {
    "duration": 52,
    "start_time": "2022-12-28T10:16:02.790Z"
   },
   {
    "duration": 78,
    "start_time": "2022-12-28T10:16:02.844Z"
   },
   {
    "duration": 22,
    "start_time": "2022-12-28T10:16:02.928Z"
   },
   {
    "duration": 10,
    "start_time": "2022-12-28T10:16:02.952Z"
   },
   {
    "duration": 7,
    "start_time": "2022-12-28T10:16:02.964Z"
   },
   {
    "duration": 4,
    "start_time": "2022-12-28T10:16:02.973Z"
   },
   {
    "duration": 6,
    "start_time": "2022-12-28T10:16:02.979Z"
   },
   {
    "duration": 25,
    "start_time": "2022-12-28T10:16:03.010Z"
   },
   {
    "duration": 25,
    "start_time": "2022-12-28T10:16:03.039Z"
   },
   {
    "duration": 8,
    "start_time": "2022-12-28T10:16:03.067Z"
   },
   {
    "duration": 8,
    "start_time": "2022-12-28T10:16:03.077Z"
   },
   {
    "duration": 32,
    "start_time": "2022-12-28T10:16:03.087Z"
   },
   {
    "duration": 12,
    "start_time": "2022-12-28T10:16:03.121Z"
   },
   {
    "duration": 22,
    "start_time": "2022-12-28T10:16:03.134Z"
   },
   {
    "duration": 40,
    "start_time": "2022-12-28T10:16:03.158Z"
   },
   {
    "duration": 43,
    "start_time": "2022-12-28T10:16:03.199Z"
   },
   {
    "duration": 20,
    "start_time": "2022-12-28T10:16:03.244Z"
   },
   {
    "duration": 187,
    "start_time": "2022-12-28T10:16:03.265Z"
   },
   {
    "duration": 162,
    "start_time": "2022-12-28T10:16:03.455Z"
   },
   {
    "duration": 13,
    "start_time": "2022-12-28T10:16:03.620Z"
   },
   {
    "duration": 30,
    "start_time": "2022-12-28T10:16:03.634Z"
   },
   {
    "duration": 37,
    "start_time": "2022-12-28T10:16:03.666Z"
   },
   {
    "duration": 256,
    "start_time": "2022-12-28T10:16:03.714Z"
   },
   {
    "duration": 280,
    "start_time": "2022-12-28T10:16:03.972Z"
   },
   {
    "duration": 396,
    "start_time": "2022-12-28T10:16:04.254Z"
   },
   {
    "duration": 225,
    "start_time": "2022-12-28T10:16:04.652Z"
   },
   {
    "duration": 409,
    "start_time": "2022-12-28T10:16:04.878Z"
   },
   {
    "duration": 241,
    "start_time": "2022-12-28T10:16:05.290Z"
   },
   {
    "duration": 187,
    "start_time": "2022-12-28T10:16:05.533Z"
   },
   {
    "duration": 8,
    "start_time": "2022-12-28T10:16:05.726Z"
   },
   {
    "duration": 34,
    "start_time": "2022-12-28T10:16:05.739Z"
   },
   {
    "duration": 348,
    "start_time": "2022-12-28T10:16:05.775Z"
   },
   {
    "duration": 216,
    "start_time": "2022-12-28T10:16:06.125Z"
   },
   {
    "duration": 5,
    "start_time": "2022-12-28T10:16:06.343Z"
   },
   {
    "duration": 7,
    "start_time": "2022-12-28T10:16:06.351Z"
   },
   {
    "duration": 215,
    "start_time": "2022-12-28T10:16:06.360Z"
   },
   {
    "duration": 51,
    "start_time": "2022-12-28T10:16:06.577Z"
   },
   {
    "duration": 140,
    "start_time": "2022-12-28T10:16:06.630Z"
   },
   {
    "duration": 6,
    "start_time": "2022-12-28T10:16:06.772Z"
   },
   {
    "duration": 56,
    "start_time": "2022-12-28T10:16:06.779Z"
   },
   {
    "duration": 14,
    "start_time": "2022-12-28T10:16:06.839Z"
   },
   {
    "duration": 12,
    "start_time": "2022-12-28T10:16:06.855Z"
   },
   {
    "duration": 11,
    "start_time": "2022-12-28T10:16:06.869Z"
   },
   {
    "duration": 42,
    "start_time": "2022-12-28T10:16:06.904Z"
   },
   {
    "duration": 14,
    "start_time": "2022-12-28T10:16:06.948Z"
   },
   {
    "duration": 55,
    "start_time": "2022-12-28T10:19:48.892Z"
   },
   {
    "duration": 10,
    "start_time": "2022-12-28T10:20:01.332Z"
   },
   {
    "duration": 8,
    "start_time": "2022-12-28T10:20:10.433Z"
   },
   {
    "duration": 17,
    "start_time": "2022-12-28T10:20:21.151Z"
   },
   {
    "duration": 3,
    "start_time": "2022-12-28T10:21:40.922Z"
   },
   {
    "duration": 4,
    "start_time": "2022-12-28T10:22:14.399Z"
   },
   {
    "duration": 5,
    "start_time": "2022-12-28T10:22:36.159Z"
   },
   {
    "duration": 27,
    "start_time": "2022-12-28T10:22:40.519Z"
   },
   {
    "duration": 3,
    "start_time": "2022-12-28T10:23:20.952Z"
   },
   {
    "duration": 3,
    "start_time": "2022-12-28T10:23:23.431Z"
   },
   {
    "duration": 17,
    "start_time": "2022-12-28T10:23:27.917Z"
   },
   {
    "duration": 5,
    "start_time": "2022-12-28T10:23:43.598Z"
   },
   {
    "duration": 5,
    "start_time": "2022-12-28T10:23:51.298Z"
   },
   {
    "duration": 4,
    "start_time": "2022-12-28T10:25:00.730Z"
   },
   {
    "duration": 83,
    "start_time": "2022-12-28T10:25:09.897Z"
   },
   {
    "duration": 5,
    "start_time": "2022-12-28T10:25:12.272Z"
   },
   {
    "duration": 5,
    "start_time": "2022-12-28T10:26:05.749Z"
   },
   {
    "duration": 12,
    "start_time": "2022-12-28T10:26:50.528Z"
   },
   {
    "duration": 5,
    "start_time": "2022-12-28T10:26:58.867Z"
   },
   {
    "duration": 5,
    "start_time": "2022-12-28T10:27:18.788Z"
   },
   {
    "duration": 5,
    "start_time": "2022-12-28T10:27:27.098Z"
   },
   {
    "duration": 3,
    "start_time": "2022-12-28T10:29:09.168Z"
   },
   {
    "duration": 4,
    "start_time": "2022-12-28T10:29:13.089Z"
   },
   {
    "duration": 5,
    "start_time": "2022-12-28T10:32:22.847Z"
   },
   {
    "duration": 8,
    "start_time": "2022-12-28T10:32:48.013Z"
   },
   {
    "duration": 5,
    "start_time": "2022-12-28T10:33:16.667Z"
   },
   {
    "duration": 6,
    "start_time": "2022-12-28T10:34:28.933Z"
   },
   {
    "duration": 6,
    "start_time": "2022-12-28T10:36:27.765Z"
   },
   {
    "duration": 77,
    "start_time": "2022-12-28T10:36:36.720Z"
   },
   {
    "duration": 11,
    "start_time": "2022-12-28T10:36:39.368Z"
   },
   {
    "duration": 141,
    "start_time": "2022-12-28T10:36:45.890Z"
   },
   {
    "duration": 9,
    "start_time": "2022-12-28T10:36:47.899Z"
   },
   {
    "duration": 5,
    "start_time": "2022-12-28T10:37:18.068Z"
   },
   {
    "duration": 9,
    "start_time": "2022-12-28T10:39:04.526Z"
   },
   {
    "duration": 8,
    "start_time": "2022-12-28T10:39:09.331Z"
   },
   {
    "duration": 22,
    "start_time": "2022-12-28T10:39:11.340Z"
   },
   {
    "duration": 15,
    "start_time": "2022-12-28T10:39:16.868Z"
   },
   {
    "duration": 5,
    "start_time": "2022-12-28T10:41:15.167Z"
   },
   {
    "duration": 4,
    "start_time": "2022-12-28T10:47:15.329Z"
   },
   {
    "duration": 4,
    "start_time": "2022-12-28T10:47:21.466Z"
   },
   {
    "duration": 4,
    "start_time": "2022-12-28T10:48:08.366Z"
   },
   {
    "duration": 8,
    "start_time": "2022-12-28T10:48:26.153Z"
   },
   {
    "duration": 5,
    "start_time": "2022-12-28T10:48:29.666Z"
   },
   {
    "duration": 10,
    "start_time": "2022-12-28T10:48:57.766Z"
   },
   {
    "duration": 11,
    "start_time": "2022-12-28T10:49:01.702Z"
   },
   {
    "duration": 26,
    "start_time": "2022-12-28T10:49:03.724Z"
   },
   {
    "duration": 4,
    "start_time": "2022-12-28T10:54:41.245Z"
   },
   {
    "duration": 9,
    "start_time": "2022-12-28T10:54:55.737Z"
   },
   {
    "duration": 1537,
    "start_time": "2022-12-29T08:26:48.184Z"
   },
   {
    "duration": 125,
    "start_time": "2022-12-29T08:26:49.724Z"
   },
   {
    "duration": 84,
    "start_time": "2022-12-29T08:26:49.852Z"
   },
   {
    "duration": 66,
    "start_time": "2022-12-29T08:26:49.939Z"
   },
   {
    "duration": 15,
    "start_time": "2022-12-29T08:26:50.007Z"
   },
   {
    "duration": 12,
    "start_time": "2022-12-29T08:26:50.024Z"
   },
   {
    "duration": 9,
    "start_time": "2022-12-29T08:26:50.038Z"
   },
   {
    "duration": 17,
    "start_time": "2022-12-29T08:26:50.049Z"
   },
   {
    "duration": 22,
    "start_time": "2022-12-29T08:26:50.068Z"
   },
   {
    "duration": 21,
    "start_time": "2022-12-29T08:26:50.093Z"
   },
   {
    "duration": 11,
    "start_time": "2022-12-29T08:26:50.116Z"
   },
   {
    "duration": 10,
    "start_time": "2022-12-29T08:26:50.129Z"
   },
   {
    "duration": 16,
    "start_time": "2022-12-29T08:26:50.141Z"
   },
   {
    "duration": 8,
    "start_time": "2022-12-29T08:26:50.159Z"
   },
   {
    "duration": 13,
    "start_time": "2022-12-29T08:26:50.169Z"
   },
   {
    "duration": 16,
    "start_time": "2022-12-29T08:26:50.184Z"
   },
   {
    "duration": 26,
    "start_time": "2022-12-29T08:26:50.202Z"
   },
   {
    "duration": 14,
    "start_time": "2022-12-29T08:26:50.230Z"
   },
   {
    "duration": 177,
    "start_time": "2022-12-29T08:26:50.245Z"
   },
   {
    "duration": 132,
    "start_time": "2022-12-29T08:26:50.424Z"
   },
   {
    "duration": 9,
    "start_time": "2022-12-29T08:26:50.558Z"
   },
   {
    "duration": 14,
    "start_time": "2022-12-29T08:26:50.569Z"
   },
   {
    "duration": 24,
    "start_time": "2022-12-29T08:26:50.585Z"
   },
   {
    "duration": 350,
    "start_time": "2022-12-29T08:26:50.611Z"
   },
   {
    "duration": 256,
    "start_time": "2022-12-29T08:26:50.963Z"
   },
   {
    "duration": 399,
    "start_time": "2022-12-29T08:26:51.221Z"
   },
   {
    "duration": 231,
    "start_time": "2022-12-29T08:26:51.622Z"
   },
   {
    "duration": 321,
    "start_time": "2022-12-29T08:26:51.857Z"
   },
   {
    "duration": 144,
    "start_time": "2022-12-29T08:26:52.180Z"
   },
   {
    "duration": 157,
    "start_time": "2022-12-29T08:26:52.325Z"
   },
   {
    "duration": 4,
    "start_time": "2022-12-29T08:26:52.484Z"
   },
   {
    "duration": 42,
    "start_time": "2022-12-29T08:26:52.490Z"
   },
   {
    "duration": 34,
    "start_time": "2022-12-29T08:26:52.534Z"
   },
   {
    "duration": 293,
    "start_time": "2022-12-29T08:26:52.570Z"
   },
   {
    "duration": 179,
    "start_time": "2022-12-29T08:26:52.865Z"
   },
   {
    "duration": 8,
    "start_time": "2022-12-29T08:26:53.046Z"
   },
   {
    "duration": 16,
    "start_time": "2022-12-29T08:26:53.056Z"
   },
   {
    "duration": 32,
    "start_time": "2022-12-29T08:26:53.074Z"
   },
   {
    "duration": 302,
    "start_time": "2022-12-29T08:26:53.109Z"
   },
   {
    "duration": 39,
    "start_time": "2022-12-29T08:26:53.413Z"
   },
   {
    "duration": 145,
    "start_time": "2022-12-29T08:26:53.454Z"
   },
   {
    "duration": 7,
    "start_time": "2022-12-29T08:26:53.600Z"
   },
   {
    "duration": 64,
    "start_time": "2022-12-29T08:26:53.609Z"
   },
   {
    "duration": 22,
    "start_time": "2022-12-29T08:26:53.675Z"
   },
   {
    "duration": 34,
    "start_time": "2022-12-29T08:26:53.699Z"
   },
   {
    "duration": 44,
    "start_time": "2022-12-29T08:26:53.736Z"
   },
   {
    "duration": 63,
    "start_time": "2022-12-29T08:26:53.782Z"
   },
   {
    "duration": 40,
    "start_time": "2022-12-29T08:26:53.847Z"
   },
   {
    "duration": 14,
    "start_time": "2022-12-29T08:29:40.750Z"
   },
   {
    "duration": 12,
    "start_time": "2022-12-29T08:30:29.001Z"
   },
   {
    "duration": 11,
    "start_time": "2022-12-29T08:31:54.741Z"
   },
   {
    "duration": 109,
    "start_time": "2022-12-29T08:31:58.799Z"
   },
   {
    "duration": 13,
    "start_time": "2022-12-29T08:32:02.123Z"
   },
   {
    "duration": 6,
    "start_time": "2022-12-29T08:32:29.086Z"
   },
   {
    "duration": 7,
    "start_time": "2022-12-29T08:35:27.186Z"
   },
   {
    "duration": 13,
    "start_time": "2022-12-29T08:36:40.127Z"
   },
   {
    "duration": 7,
    "start_time": "2022-12-29T08:36:57.464Z"
   },
   {
    "duration": 4,
    "start_time": "2022-12-29T08:38:17.674Z"
   },
   {
    "duration": 15,
    "start_time": "2022-12-29T08:38:23.090Z"
   },
   {
    "duration": 2,
    "start_time": "2022-12-29T08:39:41.951Z"
   },
   {
    "duration": 4,
    "start_time": "2022-12-29T08:39:47.140Z"
   },
   {
    "duration": 1267,
    "start_time": "2022-12-29T08:41:07.151Z"
   },
   {
    "duration": 37,
    "start_time": "2022-12-29T08:41:08.420Z"
   },
   {
    "duration": 45,
    "start_time": "2022-12-29T08:41:08.459Z"
   },
   {
    "duration": 22,
    "start_time": "2022-12-29T08:41:08.506Z"
   },
   {
    "duration": 15,
    "start_time": "2022-12-29T08:41:08.530Z"
   },
   {
    "duration": 15,
    "start_time": "2022-12-29T08:41:08.547Z"
   },
   {
    "duration": 12,
    "start_time": "2022-12-29T08:41:08.564Z"
   },
   {
    "duration": 15,
    "start_time": "2022-12-29T08:41:08.578Z"
   },
   {
    "duration": 17,
    "start_time": "2022-12-29T08:41:08.594Z"
   },
   {
    "duration": 14,
    "start_time": "2022-12-29T08:41:08.614Z"
   },
   {
    "duration": 10,
    "start_time": "2022-12-29T08:41:08.629Z"
   },
   {
    "duration": 9,
    "start_time": "2022-12-29T08:41:08.651Z"
   },
   {
    "duration": 12,
    "start_time": "2022-12-29T08:41:08.661Z"
   },
   {
    "duration": 12,
    "start_time": "2022-12-29T08:41:08.676Z"
   },
   {
    "duration": 14,
    "start_time": "2022-12-29T08:41:08.689Z"
   },
   {
    "duration": 8,
    "start_time": "2022-12-29T08:41:08.705Z"
   },
   {
    "duration": 16,
    "start_time": "2022-12-29T08:41:08.715Z"
   },
   {
    "duration": 9,
    "start_time": "2022-12-29T08:41:08.733Z"
   },
   {
    "duration": 11,
    "start_time": "2022-12-29T08:41:08.751Z"
   },
   {
    "duration": 13,
    "start_time": "2022-12-29T08:41:08.764Z"
   },
   {
    "duration": 14,
    "start_time": "2022-12-29T08:41:08.779Z"
   },
   {
    "duration": 185,
    "start_time": "2022-12-29T08:41:08.795Z"
   },
   {
    "duration": 133,
    "start_time": "2022-12-29T08:41:08.982Z"
   },
   {
    "duration": 10,
    "start_time": "2022-12-29T08:41:09.116Z"
   },
   {
    "duration": 26,
    "start_time": "2022-12-29T08:41:09.128Z"
   },
   {
    "duration": 23,
    "start_time": "2022-12-29T08:41:09.156Z"
   },
   {
    "duration": 301,
    "start_time": "2022-12-29T08:41:09.181Z"
   },
   {
    "duration": 293,
    "start_time": "2022-12-29T08:41:09.486Z"
   },
   {
    "duration": 336,
    "start_time": "2022-12-29T08:41:09.782Z"
   },
   {
    "duration": 250,
    "start_time": "2022-12-29T08:41:10.120Z"
   },
   {
    "duration": 348,
    "start_time": "2022-12-29T08:41:10.372Z"
   },
   {
    "duration": 172,
    "start_time": "2022-12-29T08:41:10.723Z"
   },
   {
    "duration": 178,
    "start_time": "2022-12-29T08:41:10.897Z"
   },
   {
    "duration": 5,
    "start_time": "2022-12-29T08:41:11.077Z"
   },
   {
    "duration": 10,
    "start_time": "2022-12-29T08:41:11.084Z"
   },
   {
    "duration": 16,
    "start_time": "2022-12-29T08:41:11.096Z"
   },
   {
    "duration": 313,
    "start_time": "2022-12-29T08:41:11.115Z"
   },
   {
    "duration": 211,
    "start_time": "2022-12-29T08:41:11.430Z"
   },
   {
    "duration": 5,
    "start_time": "2022-12-29T08:41:11.642Z"
   },
   {
    "duration": 8,
    "start_time": "2022-12-29T08:41:11.649Z"
   },
   {
    "duration": 11,
    "start_time": "2022-12-29T08:41:11.659Z"
   },
   {
    "duration": 318,
    "start_time": "2022-12-29T08:41:11.672Z"
   },
   {
    "duration": 31,
    "start_time": "2022-12-29T08:41:11.992Z"
   },
   {
    "duration": 172,
    "start_time": "2022-12-29T08:41:12.024Z"
   },
   {
    "duration": 9,
    "start_time": "2022-12-29T08:41:12.198Z"
   },
   {
    "duration": 31,
    "start_time": "2022-12-29T08:41:12.208Z"
   },
   {
    "duration": 11,
    "start_time": "2022-12-29T08:41:12.251Z"
   },
   {
    "duration": 15,
    "start_time": "2022-12-29T08:41:12.264Z"
   },
   {
    "duration": 9,
    "start_time": "2022-12-29T08:41:12.281Z"
   },
   {
    "duration": 27,
    "start_time": "2022-12-29T08:41:12.292Z"
   },
   {
    "duration": 40,
    "start_time": "2022-12-29T08:41:12.320Z"
   },
   {
    "duration": 4,
    "start_time": "2022-12-29T08:41:38.534Z"
   },
   {
    "duration": 119,
    "start_time": "2022-12-29T08:42:51.882Z"
   },
   {
    "duration": 7,
    "start_time": "2022-12-29T08:42:55.306Z"
   },
   {
    "duration": 6,
    "start_time": "2022-12-29T08:43:31.133Z"
   },
   {
    "duration": 10,
    "start_time": "2022-12-29T08:43:34.273Z"
   },
   {
    "duration": 5,
    "start_time": "2022-12-29T08:44:11.173Z"
   },
   {
    "duration": 7,
    "start_time": "2022-12-29T08:44:16.514Z"
   },
   {
    "duration": 9,
    "start_time": "2022-12-29T08:44:26.621Z"
   },
   {
    "duration": 8,
    "start_time": "2022-12-29T08:44:35.093Z"
   },
   {
    "duration": 7,
    "start_time": "2022-12-29T08:44:36.386Z"
   },
   {
    "duration": 8,
    "start_time": "2022-12-29T08:44:49.114Z"
   },
   {
    "duration": 19,
    "start_time": "2022-12-29T08:58:06.311Z"
   },
   {
    "duration": 1361,
    "start_time": "2022-12-29T08:58:43.277Z"
   },
   {
    "duration": 36,
    "start_time": "2022-12-29T08:58:44.640Z"
   },
   {
    "duration": 46,
    "start_time": "2022-12-29T08:58:44.677Z"
   },
   {
    "duration": 23,
    "start_time": "2022-12-29T08:58:44.725Z"
   },
   {
    "duration": 13,
    "start_time": "2022-12-29T08:58:44.749Z"
   },
   {
    "duration": 28,
    "start_time": "2022-12-29T08:58:44.764Z"
   },
   {
    "duration": 26,
    "start_time": "2022-12-29T08:58:44.795Z"
   },
   {
    "duration": 14,
    "start_time": "2022-12-29T08:58:44.824Z"
   },
   {
    "duration": 24,
    "start_time": "2022-12-29T08:58:44.839Z"
   },
   {
    "duration": 17,
    "start_time": "2022-12-29T08:58:44.866Z"
   },
   {
    "duration": 17,
    "start_time": "2022-12-29T08:58:44.885Z"
   },
   {
    "duration": 30,
    "start_time": "2022-12-29T08:58:44.903Z"
   },
   {
    "duration": 20,
    "start_time": "2022-12-29T08:58:44.935Z"
   },
   {
    "duration": 29,
    "start_time": "2022-12-29T08:58:44.957Z"
   },
   {
    "duration": 20,
    "start_time": "2022-12-29T08:58:44.987Z"
   },
   {
    "duration": 33,
    "start_time": "2022-12-29T08:58:45.009Z"
   },
   {
    "duration": 17,
    "start_time": "2022-12-29T08:58:45.043Z"
   },
   {
    "duration": 15,
    "start_time": "2022-12-29T08:58:45.061Z"
   },
   {
    "duration": 36,
    "start_time": "2022-12-29T08:58:45.078Z"
   },
   {
    "duration": 15,
    "start_time": "2022-12-29T08:58:45.115Z"
   },
   {
    "duration": 27,
    "start_time": "2022-12-29T08:58:45.132Z"
   },
   {
    "duration": 15,
    "start_time": "2022-12-29T08:58:45.161Z"
   },
   {
    "duration": 26,
    "start_time": "2022-12-29T08:58:45.178Z"
   },
   {
    "duration": 196,
    "start_time": "2022-12-29T08:58:45.206Z"
   },
   {
    "duration": 137,
    "start_time": "2022-12-29T08:58:45.404Z"
   },
   {
    "duration": 15,
    "start_time": "2022-12-29T08:58:45.543Z"
   },
   {
    "duration": 20,
    "start_time": "2022-12-29T08:58:45.560Z"
   },
   {
    "duration": 14,
    "start_time": "2022-12-29T08:58:45.583Z"
   },
   {
    "duration": 335,
    "start_time": "2022-12-29T08:58:45.598Z"
   },
   {
    "duration": 277,
    "start_time": "2022-12-29T08:58:45.935Z"
   },
   {
    "duration": 359,
    "start_time": "2022-12-29T08:58:46.215Z"
   },
   {
    "duration": 298,
    "start_time": "2022-12-29T08:58:46.577Z"
   },
   {
    "duration": 328,
    "start_time": "2022-12-29T08:58:46.877Z"
   },
   {
    "duration": 162,
    "start_time": "2022-12-29T08:58:47.207Z"
   },
   {
    "duration": 185,
    "start_time": "2022-12-29T08:58:47.371Z"
   },
   {
    "duration": 5,
    "start_time": "2022-12-29T08:58:47.557Z"
   },
   {
    "duration": 28,
    "start_time": "2022-12-29T08:58:47.563Z"
   },
   {
    "duration": 18,
    "start_time": "2022-12-29T08:58:47.593Z"
   },
   {
    "duration": 313,
    "start_time": "2022-12-29T08:58:47.613Z"
   },
   {
    "duration": 171,
    "start_time": "2022-12-29T08:58:47.928Z"
   },
   {
    "duration": 5,
    "start_time": "2022-12-29T08:58:48.101Z"
   },
   {
    "duration": 10,
    "start_time": "2022-12-29T08:58:48.108Z"
   },
   {
    "duration": 7,
    "start_time": "2022-12-29T08:58:48.120Z"
   },
   {
    "duration": 325,
    "start_time": "2022-12-29T08:58:48.129Z"
   },
   {
    "duration": 31,
    "start_time": "2022-12-29T08:58:48.455Z"
   },
   {
    "duration": 177,
    "start_time": "2022-12-29T08:58:48.488Z"
   },
   {
    "duration": 8,
    "start_time": "2022-12-29T08:58:48.667Z"
   },
   {
    "duration": 33,
    "start_time": "2022-12-29T08:58:48.677Z"
   },
   {
    "duration": 11,
    "start_time": "2022-12-29T08:58:48.712Z"
   },
   {
    "duration": 31,
    "start_time": "2022-12-29T08:58:48.725Z"
   },
   {
    "duration": 18,
    "start_time": "2022-12-29T08:58:48.757Z"
   },
   {
    "duration": 34,
    "start_time": "2022-12-29T08:58:48.777Z"
   },
   {
    "duration": 15,
    "start_time": "2022-12-29T08:58:48.813Z"
   },
   {
    "duration": 1273,
    "start_time": "2022-12-29T09:06:35.668Z"
   },
   {
    "duration": 36,
    "start_time": "2022-12-29T09:06:36.943Z"
   },
   {
    "duration": 47,
    "start_time": "2022-12-29T09:06:36.981Z"
   },
   {
    "duration": 26,
    "start_time": "2022-12-29T09:06:37.030Z"
   },
   {
    "duration": 19,
    "start_time": "2022-12-29T09:06:37.057Z"
   },
   {
    "duration": 40,
    "start_time": "2022-12-29T09:06:37.078Z"
   },
   {
    "duration": 12,
    "start_time": "2022-12-29T09:06:37.121Z"
   },
   {
    "duration": 38,
    "start_time": "2022-12-29T09:06:37.135Z"
   },
   {
    "duration": 28,
    "start_time": "2022-12-29T09:06:37.175Z"
   },
   {
    "duration": 41,
    "start_time": "2022-12-29T09:06:37.205Z"
   },
   {
    "duration": 40,
    "start_time": "2022-12-29T09:06:37.248Z"
   },
   {
    "duration": 16,
    "start_time": "2022-12-29T09:06:37.291Z"
   },
   {
    "duration": 52,
    "start_time": "2022-12-29T09:06:37.309Z"
   },
   {
    "duration": 30,
    "start_time": "2022-12-29T09:06:37.364Z"
   },
   {
    "duration": 28,
    "start_time": "2022-12-29T09:06:37.395Z"
   },
   {
    "duration": 30,
    "start_time": "2022-12-29T09:06:37.425Z"
   },
   {
    "duration": 19,
    "start_time": "2022-12-29T09:06:37.457Z"
   },
   {
    "duration": 33,
    "start_time": "2022-12-29T09:06:37.478Z"
   },
   {
    "duration": 205,
    "start_time": "2022-12-29T09:06:37.514Z"
   },
   {
    "duration": 142,
    "start_time": "2022-12-29T09:06:37.721Z"
   },
   {
    "duration": 12,
    "start_time": "2022-12-29T09:06:37.865Z"
   },
   {
    "duration": 27,
    "start_time": "2022-12-29T09:06:37.880Z"
   },
   {
    "duration": 42,
    "start_time": "2022-12-29T09:06:37.909Z"
   },
   {
    "duration": 379,
    "start_time": "2022-12-29T09:06:37.954Z"
   },
   {
    "duration": 260,
    "start_time": "2022-12-29T09:06:38.335Z"
   },
   {
    "duration": 313,
    "start_time": "2022-12-29T09:06:38.597Z"
   },
   {
    "duration": 251,
    "start_time": "2022-12-29T09:06:38.911Z"
   },
   {
    "duration": 330,
    "start_time": "2022-12-29T09:06:39.168Z"
   },
   {
    "duration": 190,
    "start_time": "2022-12-29T09:06:39.500Z"
   },
   {
    "duration": 210,
    "start_time": "2022-12-29T09:06:39.692Z"
   },
   {
    "duration": 5,
    "start_time": "2022-12-29T09:06:39.904Z"
   },
   {
    "duration": 52,
    "start_time": "2022-12-29T09:06:39.911Z"
   },
   {
    "duration": 24,
    "start_time": "2022-12-29T09:06:39.965Z"
   },
   {
    "duration": 361,
    "start_time": "2022-12-29T09:06:39.990Z"
   },
   {
    "duration": 188,
    "start_time": "2022-12-29T09:06:40.353Z"
   },
   {
    "duration": 8,
    "start_time": "2022-12-29T09:06:40.543Z"
   },
   {
    "duration": 25,
    "start_time": "2022-12-29T09:06:40.553Z"
   },
   {
    "duration": 18,
    "start_time": "2022-12-29T09:06:40.580Z"
   },
   {
    "duration": 476,
    "start_time": "2022-12-29T09:06:40.600Z"
   },
   {
    "duration": 32,
    "start_time": "2022-12-29T09:06:41.078Z"
   },
   {
    "duration": 177,
    "start_time": "2022-12-29T09:06:41.111Z"
   },
   {
    "duration": 7,
    "start_time": "2022-12-29T09:06:41.290Z"
   },
   {
    "duration": 62,
    "start_time": "2022-12-29T09:06:41.299Z"
   },
   {
    "duration": 14,
    "start_time": "2022-12-29T09:06:41.363Z"
   },
   {
    "duration": 29,
    "start_time": "2022-12-29T09:06:41.379Z"
   },
   {
    "duration": 36,
    "start_time": "2022-12-29T09:06:41.411Z"
   },
   {
    "duration": 64,
    "start_time": "2022-12-29T09:06:41.449Z"
   },
   {
    "duration": 21,
    "start_time": "2022-12-29T09:06:41.515Z"
   },
   {
    "duration": 1385,
    "start_time": "2022-12-29T09:38:41.655Z"
   },
   {
    "duration": 78,
    "start_time": "2022-12-29T09:38:43.042Z"
   },
   {
    "duration": 78,
    "start_time": "2022-12-29T09:38:43.122Z"
   },
   {
    "duration": 61,
    "start_time": "2022-12-29T09:38:43.203Z"
   },
   {
    "duration": 22,
    "start_time": "2022-12-29T09:38:43.266Z"
   },
   {
    "duration": 22,
    "start_time": "2022-12-29T09:38:43.290Z"
   },
   {
    "duration": 11,
    "start_time": "2022-12-29T09:38:43.314Z"
   },
   {
    "duration": 17,
    "start_time": "2022-12-29T09:38:43.327Z"
   },
   {
    "duration": 17,
    "start_time": "2022-12-29T09:38:43.346Z"
   },
   {
    "duration": 14,
    "start_time": "2022-12-29T09:38:43.365Z"
   },
   {
    "duration": 14,
    "start_time": "2022-12-29T09:38:43.381Z"
   },
   {
    "duration": 9,
    "start_time": "2022-12-29T09:38:43.397Z"
   },
   {
    "duration": 18,
    "start_time": "2022-12-29T09:38:43.421Z"
   },
   {
    "duration": 7,
    "start_time": "2022-12-29T09:38:43.441Z"
   },
   {
    "duration": 10,
    "start_time": "2022-12-29T09:38:43.450Z"
   },
   {
    "duration": 4,
    "start_time": "2022-12-29T09:38:49.090Z"
   },
   {
    "duration": 63,
    "start_time": "2022-12-29T09:38:49.098Z"
   },
   {
    "duration": 47,
    "start_time": "2022-12-29T09:38:49.163Z"
   },
   {
    "duration": 29,
    "start_time": "2022-12-29T09:38:49.211Z"
   },
   {
    "duration": 17,
    "start_time": "2022-12-29T09:38:49.242Z"
   },
   {
    "duration": 30,
    "start_time": "2022-12-29T09:38:49.261Z"
   },
   {
    "duration": 15,
    "start_time": "2022-12-29T09:38:49.293Z"
   },
   {
    "duration": 13,
    "start_time": "2022-12-29T09:38:49.310Z"
   },
   {
    "duration": 22,
    "start_time": "2022-12-29T09:38:49.325Z"
   },
   {
    "duration": 25,
    "start_time": "2022-12-29T09:38:49.349Z"
   },
   {
    "duration": 16,
    "start_time": "2022-12-29T09:38:49.376Z"
   },
   {
    "duration": 18,
    "start_time": "2022-12-29T09:38:49.393Z"
   },
   {
    "duration": 20,
    "start_time": "2022-12-29T09:38:49.413Z"
   },
   {
    "duration": 7,
    "start_time": "2022-12-29T09:38:49.435Z"
   },
   {
    "duration": 75,
    "start_time": "2022-12-29T09:38:55.103Z"
   },
   {
    "duration": 107,
    "start_time": "2022-12-29T09:39:10.626Z"
   },
   {
    "duration": 10,
    "start_time": "2022-12-29T09:39:31.741Z"
   },
   {
    "duration": 6,
    "start_time": "2022-12-29T09:45:23.227Z"
   },
   {
    "duration": 3,
    "start_time": "2022-12-29T09:45:28.652Z"
   },
   {
    "duration": 35,
    "start_time": "2022-12-29T09:45:28.659Z"
   },
   {
    "duration": 44,
    "start_time": "2022-12-29T09:45:28.696Z"
   },
   {
    "duration": 25,
    "start_time": "2022-12-29T09:45:28.741Z"
   },
   {
    "duration": 12,
    "start_time": "2022-12-29T09:45:28.768Z"
   },
   {
    "duration": 6,
    "start_time": "2022-12-29T09:45:28.783Z"
   },
   {
    "duration": 5,
    "start_time": "2022-12-29T09:45:28.791Z"
   },
   {
    "duration": 7,
    "start_time": "2022-12-29T09:45:28.797Z"
   },
   {
    "duration": 19,
    "start_time": "2022-12-29T09:45:28.806Z"
   },
   {
    "duration": 14,
    "start_time": "2022-12-29T09:45:28.827Z"
   },
   {
    "duration": 16,
    "start_time": "2022-12-29T09:45:28.842Z"
   },
   {
    "duration": 11,
    "start_time": "2022-12-29T09:45:28.859Z"
   },
   {
    "duration": 12,
    "start_time": "2022-12-29T09:45:28.871Z"
   },
   {
    "duration": 6,
    "start_time": "2022-12-29T09:45:28.885Z"
   },
   {
    "duration": 29,
    "start_time": "2022-12-29T09:45:28.893Z"
   },
   {
    "duration": 7,
    "start_time": "2022-12-29T09:45:30.484Z"
   },
   {
    "duration": 22,
    "start_time": "2022-12-29T09:45:55.849Z"
   },
   {
    "duration": 10,
    "start_time": "2022-12-29T09:46:24.966Z"
   },
   {
    "duration": 24,
    "start_time": "2022-12-29T09:47:48.516Z"
   },
   {
    "duration": 8,
    "start_time": "2022-12-29T09:47:59.155Z"
   },
   {
    "duration": 3,
    "start_time": "2022-12-29T09:48:03.102Z"
   },
   {
    "duration": 54,
    "start_time": "2022-12-29T09:48:03.108Z"
   },
   {
    "duration": 43,
    "start_time": "2022-12-29T09:48:03.164Z"
   },
   {
    "duration": 21,
    "start_time": "2022-12-29T09:48:03.209Z"
   },
   {
    "duration": 22,
    "start_time": "2022-12-29T09:48:03.232Z"
   },
   {
    "duration": 15,
    "start_time": "2022-12-29T09:48:03.255Z"
   },
   {
    "duration": 17,
    "start_time": "2022-12-29T09:48:03.272Z"
   },
   {
    "duration": 12,
    "start_time": "2022-12-29T09:48:03.291Z"
   },
   {
    "duration": 31,
    "start_time": "2022-12-29T09:48:03.305Z"
   },
   {
    "duration": 35,
    "start_time": "2022-12-29T09:48:03.338Z"
   },
   {
    "duration": 24,
    "start_time": "2022-12-29T09:48:03.375Z"
   },
   {
    "duration": 16,
    "start_time": "2022-12-29T09:48:03.401Z"
   },
   {
    "duration": 25,
    "start_time": "2022-12-29T09:48:03.419Z"
   },
   {
    "duration": 22,
    "start_time": "2022-12-29T09:48:03.446Z"
   },
   {
    "duration": 10,
    "start_time": "2022-12-29T09:48:03.469Z"
   },
   {
    "duration": 7,
    "start_time": "2022-12-29T09:48:04.977Z"
   },
   {
    "duration": 11,
    "start_time": "2022-12-29T09:48:10.666Z"
   },
   {
    "duration": 15,
    "start_time": "2022-12-29T09:48:17.142Z"
   },
   {
    "duration": 12,
    "start_time": "2022-12-29T09:50:31.652Z"
   },
   {
    "duration": 15,
    "start_time": "2022-12-29T09:50:39.296Z"
   },
   {
    "duration": 11,
    "start_time": "2022-12-29T09:50:46.278Z"
   },
   {
    "duration": 25,
    "start_time": "2022-12-29T09:51:00.600Z"
   },
   {
    "duration": 24,
    "start_time": "2022-12-29T09:51:25.841Z"
   },
   {
    "duration": 14,
    "start_time": "2022-12-29T09:51:36.346Z"
   },
   {
    "duration": 22,
    "start_time": "2022-12-29T09:51:38.854Z"
   },
   {
    "duration": 19,
    "start_time": "2022-12-29T09:51:45.284Z"
   },
   {
    "duration": 8,
    "start_time": "2022-12-29T09:52:03.789Z"
   },
   {
    "duration": 9,
    "start_time": "2022-12-29T09:52:24.458Z"
   },
   {
    "duration": 71,
    "start_time": "2022-12-29T09:52:45.739Z"
   },
   {
    "duration": 14,
    "start_time": "2022-12-29T09:52:49.161Z"
   },
   {
    "duration": 14,
    "start_time": "2022-12-29T09:52:52.209Z"
   },
   {
    "duration": 14,
    "start_time": "2022-12-29T09:52:58.680Z"
   },
   {
    "duration": 8,
    "start_time": "2022-12-29T09:53:11.299Z"
   },
   {
    "duration": 9,
    "start_time": "2022-12-29T09:54:24.997Z"
   },
   {
    "duration": 16,
    "start_time": "2022-12-29T09:54:27.218Z"
   },
   {
    "duration": 7,
    "start_time": "2022-12-29T09:54:40.861Z"
   },
   {
    "duration": 6,
    "start_time": "2022-12-29T09:54:45.756Z"
   },
   {
    "duration": 3,
    "start_time": "2022-12-29T09:55:11.537Z"
   },
   {
    "duration": 39,
    "start_time": "2022-12-29T09:55:11.543Z"
   },
   {
    "duration": 45,
    "start_time": "2022-12-29T09:55:11.586Z"
   },
   {
    "duration": 22,
    "start_time": "2022-12-29T09:55:11.633Z"
   },
   {
    "duration": 12,
    "start_time": "2022-12-29T09:55:11.658Z"
   },
   {
    "duration": 18,
    "start_time": "2022-12-29T09:55:11.671Z"
   },
   {
    "duration": 6,
    "start_time": "2022-12-29T09:55:11.691Z"
   },
   {
    "duration": 9,
    "start_time": "2022-12-29T09:55:11.700Z"
   },
   {
    "duration": 20,
    "start_time": "2022-12-29T09:55:11.711Z"
   },
   {
    "duration": 14,
    "start_time": "2022-12-29T09:55:11.732Z"
   },
   {
    "duration": 14,
    "start_time": "2022-12-29T09:55:11.748Z"
   },
   {
    "duration": 9,
    "start_time": "2022-12-29T09:55:11.764Z"
   },
   {
    "duration": 8,
    "start_time": "2022-12-29T09:55:11.775Z"
   },
   {
    "duration": 6,
    "start_time": "2022-12-29T09:55:11.786Z"
   },
   {
    "duration": 31,
    "start_time": "2022-12-29T09:55:11.793Z"
   },
   {
    "duration": 17,
    "start_time": "2022-12-29T09:55:13.350Z"
   },
   {
    "duration": 1155,
    "start_time": "2022-12-29T09:55:56.846Z"
   },
   {
    "duration": 16,
    "start_time": "2022-12-29T09:57:09.474Z"
   },
   {
    "duration": 10,
    "start_time": "2022-12-29T09:57:20.892Z"
   },
   {
    "duration": 15,
    "start_time": "2022-12-29T09:57:52.380Z"
   },
   {
    "duration": 9,
    "start_time": "2022-12-29T09:58:08.755Z"
   },
   {
    "duration": 3,
    "start_time": "2022-12-29T09:59:13.061Z"
   },
   {
    "duration": 65,
    "start_time": "2022-12-29T09:59:13.067Z"
   },
   {
    "duration": 47,
    "start_time": "2022-12-29T09:59:13.134Z"
   },
   {
    "duration": 23,
    "start_time": "2022-12-29T09:59:13.183Z"
   },
   {
    "duration": 18,
    "start_time": "2022-12-29T09:59:13.208Z"
   },
   {
    "duration": 35,
    "start_time": "2022-12-29T09:59:13.228Z"
   },
   {
    "duration": 39,
    "start_time": "2022-12-29T09:59:13.265Z"
   },
   {
    "duration": 24,
    "start_time": "2022-12-29T09:59:13.306Z"
   },
   {
    "duration": 38,
    "start_time": "2022-12-29T09:59:13.332Z"
   },
   {
    "duration": 31,
    "start_time": "2022-12-29T09:59:13.372Z"
   },
   {
    "duration": 64,
    "start_time": "2022-12-29T09:59:13.406Z"
   },
   {
    "duration": 43,
    "start_time": "2022-12-29T09:59:13.472Z"
   },
   {
    "duration": 37,
    "start_time": "2022-12-29T09:59:13.517Z"
   },
   {
    "duration": 22,
    "start_time": "2022-12-29T09:59:13.555Z"
   },
   {
    "duration": 28,
    "start_time": "2022-12-29T09:59:13.579Z"
   },
   {
    "duration": 12,
    "start_time": "2022-12-29T09:59:13.609Z"
   },
   {
    "duration": 50,
    "start_time": "2022-12-29T09:59:13.623Z"
   },
   {
    "duration": 26,
    "start_time": "2022-12-29T09:59:13.675Z"
   },
   {
    "duration": 13,
    "start_time": "2022-12-29T09:59:13.702Z"
   },
   {
    "duration": 204,
    "start_time": "2022-12-29T09:59:13.717Z"
   },
   {
    "duration": 144,
    "start_time": "2022-12-29T09:59:13.923Z"
   },
   {
    "duration": 13,
    "start_time": "2022-12-29T09:59:14.069Z"
   },
   {
    "duration": 53,
    "start_time": "2022-12-29T09:59:14.084Z"
   },
   {
    "duration": 36,
    "start_time": "2022-12-29T09:59:14.140Z"
   },
   {
    "duration": 332,
    "start_time": "2022-12-29T09:59:14.179Z"
   },
   {
    "duration": 234,
    "start_time": "2022-12-29T09:59:14.513Z"
   },
   {
    "duration": 369,
    "start_time": "2022-12-29T09:59:14.748Z"
   },
   {
    "duration": 234,
    "start_time": "2022-12-29T09:59:15.122Z"
   },
   {
    "duration": 292,
    "start_time": "2022-12-29T09:59:15.359Z"
   },
   {
    "duration": 136,
    "start_time": "2022-12-29T09:59:15.653Z"
   },
   {
    "duration": 165,
    "start_time": "2022-12-29T09:59:15.791Z"
   },
   {
    "duration": 4,
    "start_time": "2022-12-29T09:59:15.958Z"
   },
   {
    "duration": 8,
    "start_time": "2022-12-29T09:59:15.964Z"
   },
   {
    "duration": 8,
    "start_time": "2022-12-29T09:59:15.973Z"
   },
   {
    "duration": 298,
    "start_time": "2022-12-29T09:59:15.983Z"
   },
   {
    "duration": 284,
    "start_time": "2022-12-29T09:59:16.283Z"
   },
   {
    "duration": 4,
    "start_time": "2022-12-29T09:59:16.570Z"
   },
   {
    "duration": 10,
    "start_time": "2022-12-29T09:59:16.576Z"
   },
   {
    "duration": 9,
    "start_time": "2022-12-29T09:59:16.587Z"
   },
   {
    "duration": 200,
    "start_time": "2022-12-29T09:59:16.597Z"
   },
   {
    "duration": 35,
    "start_time": "2022-12-29T09:59:16.799Z"
   },
   {
    "duration": 166,
    "start_time": "2022-12-29T09:59:16.836Z"
   },
   {
    "duration": 6,
    "start_time": "2022-12-29T09:59:17.004Z"
   },
   {
    "duration": 30,
    "start_time": "2022-12-29T09:59:17.012Z"
   },
   {
    "duration": 12,
    "start_time": "2022-12-29T09:59:17.044Z"
   },
   {
    "duration": 10,
    "start_time": "2022-12-29T09:59:17.058Z"
   },
   {
    "duration": 11,
    "start_time": "2022-12-29T09:59:17.069Z"
   },
   {
    "duration": 47,
    "start_time": "2022-12-29T09:59:17.081Z"
   },
   {
    "duration": 14,
    "start_time": "2022-12-29T09:59:17.130Z"
   },
   {
    "duration": 10,
    "start_time": "2022-12-29T10:01:01.922Z"
   },
   {
    "duration": 8,
    "start_time": "2022-12-29T10:01:10.018Z"
   },
   {
    "duration": 10,
    "start_time": "2022-12-29T10:01:12.237Z"
   },
   {
    "duration": 4,
    "start_time": "2022-12-29T10:01:15.084Z"
   },
   {
    "duration": 42,
    "start_time": "2022-12-29T10:01:15.090Z"
   },
   {
    "duration": 44,
    "start_time": "2022-12-29T10:01:15.133Z"
   },
   {
    "duration": 21,
    "start_time": "2022-12-29T10:01:15.180Z"
   },
   {
    "duration": 11,
    "start_time": "2022-12-29T10:01:15.203Z"
   },
   {
    "duration": 9,
    "start_time": "2022-12-29T10:01:15.216Z"
   },
   {
    "duration": 9,
    "start_time": "2022-12-29T10:01:15.226Z"
   },
   {
    "duration": 14,
    "start_time": "2022-12-29T10:01:15.236Z"
   },
   {
    "duration": 27,
    "start_time": "2022-12-29T10:01:15.253Z"
   },
   {
    "duration": 19,
    "start_time": "2022-12-29T10:01:15.282Z"
   },
   {
    "duration": 11,
    "start_time": "2022-12-29T10:01:15.304Z"
   },
   {
    "duration": 12,
    "start_time": "2022-12-29T10:01:15.317Z"
   },
   {
    "duration": 17,
    "start_time": "2022-12-29T10:01:15.330Z"
   },
   {
    "duration": 9,
    "start_time": "2022-12-29T10:01:15.348Z"
   },
   {
    "duration": 9,
    "start_time": "2022-12-29T10:01:15.359Z"
   },
   {
    "duration": 3,
    "start_time": "2022-12-29T10:01:16.577Z"
   },
   {
    "duration": 41,
    "start_time": "2022-12-29T10:01:16.582Z"
   },
   {
    "duration": 47,
    "start_time": "2022-12-29T10:01:16.625Z"
   },
   {
    "duration": 22,
    "start_time": "2022-12-29T10:01:16.674Z"
   },
   {
    "duration": 12,
    "start_time": "2022-12-29T10:01:16.697Z"
   },
   {
    "duration": 8,
    "start_time": "2022-12-29T10:01:16.711Z"
   },
   {
    "duration": 5,
    "start_time": "2022-12-29T10:01:16.720Z"
   },
   {
    "duration": 8,
    "start_time": "2022-12-29T10:01:16.726Z"
   },
   {
    "duration": 15,
    "start_time": "2022-12-29T10:01:16.735Z"
   },
   {
    "duration": 25,
    "start_time": "2022-12-29T10:01:16.751Z"
   },
   {
    "duration": 8,
    "start_time": "2022-12-29T10:01:16.779Z"
   },
   {
    "duration": 8,
    "start_time": "2022-12-29T10:01:16.788Z"
   },
   {
    "duration": 25,
    "start_time": "2022-12-29T10:01:16.797Z"
   },
   {
    "duration": 8,
    "start_time": "2022-12-29T10:01:16.824Z"
   },
   {
    "duration": 9,
    "start_time": "2022-12-29T10:01:16.834Z"
   },
   {
    "duration": 13,
    "start_time": "2022-12-29T10:01:16.844Z"
   },
   {
    "duration": 4,
    "start_time": "2022-12-29T10:01:16.858Z"
   },
   {
    "duration": 11,
    "start_time": "2022-12-29T10:01:16.864Z"
   },
   {
    "duration": 202,
    "start_time": "2022-12-29T10:01:16.877Z"
   },
   {
    "duration": 141,
    "start_time": "2022-12-29T10:01:17.081Z"
   },
   {
    "duration": 10,
    "start_time": "2022-12-29T10:01:17.224Z"
   },
   {
    "duration": 14,
    "start_time": "2022-12-29T10:01:17.236Z"
   },
   {
    "duration": 13,
    "start_time": "2022-12-29T10:01:17.252Z"
   },
   {
    "duration": 204,
    "start_time": "2022-12-29T10:01:17.267Z"
   },
   {
    "duration": 230,
    "start_time": "2022-12-29T10:01:17.473Z"
   },
   {
    "duration": 320,
    "start_time": "2022-12-29T10:01:17.704Z"
   },
   {
    "duration": 226,
    "start_time": "2022-12-29T10:01:18.026Z"
   },
   {
    "duration": 285,
    "start_time": "2022-12-29T10:01:18.253Z"
   },
   {
    "duration": 139,
    "start_time": "2022-12-29T10:01:18.541Z"
   },
   {
    "duration": 160,
    "start_time": "2022-12-29T10:01:18.682Z"
   },
   {
    "duration": 4,
    "start_time": "2022-12-29T10:01:18.844Z"
   },
   {
    "duration": 13,
    "start_time": "2022-12-29T10:01:18.849Z"
   },
   {
    "duration": 5,
    "start_time": "2022-12-29T10:01:18.863Z"
   },
   {
    "duration": 258,
    "start_time": "2022-12-29T10:01:18.870Z"
   },
   {
    "duration": 178,
    "start_time": "2022-12-29T10:01:19.130Z"
   },
   {
    "duration": 12,
    "start_time": "2022-12-29T10:01:19.310Z"
   },
   {
    "duration": 6,
    "start_time": "2022-12-29T10:01:19.324Z"
   },
   {
    "duration": 20,
    "start_time": "2022-12-29T10:01:19.331Z"
   },
   {
    "duration": 205,
    "start_time": "2022-12-29T10:01:19.352Z"
   },
   {
    "duration": 28,
    "start_time": "2022-12-29T10:01:19.559Z"
   },
   {
    "duration": 175,
    "start_time": "2022-12-29T10:01:19.589Z"
   },
   {
    "duration": 8,
    "start_time": "2022-12-29T10:01:19.765Z"
   },
   {
    "duration": 36,
    "start_time": "2022-12-29T10:01:19.775Z"
   },
   {
    "duration": 11,
    "start_time": "2022-12-29T10:01:19.822Z"
   },
   {
    "duration": 11,
    "start_time": "2022-12-29T10:01:19.835Z"
   },
   {
    "duration": 20,
    "start_time": "2022-12-29T10:01:19.857Z"
   },
   {
    "duration": 27,
    "start_time": "2022-12-29T10:01:19.878Z"
   },
   {
    "duration": 19,
    "start_time": "2022-12-29T10:01:19.906Z"
   },
   {
    "duration": 1174,
    "start_time": "2022-12-29T16:12:56.609Z"
   },
   {
    "duration": 75,
    "start_time": "2022-12-29T16:12:57.785Z"
   },
   {
    "duration": 96,
    "start_time": "2022-12-29T16:12:57.865Z"
   },
   {
    "duration": 59,
    "start_time": "2022-12-29T16:12:57.962Z"
   },
   {
    "duration": 13,
    "start_time": "2022-12-29T16:12:58.023Z"
   },
   {
    "duration": 12,
    "start_time": "2022-12-29T16:12:58.038Z"
   },
   {
    "duration": 12,
    "start_time": "2022-12-29T16:12:58.052Z"
   },
   {
    "duration": 45,
    "start_time": "2022-12-29T16:12:58.066Z"
   },
   {
    "duration": 14,
    "start_time": "2022-12-29T16:12:58.115Z"
   },
   {
    "duration": 21,
    "start_time": "2022-12-29T16:12:58.132Z"
   },
   {
    "duration": 19,
    "start_time": "2022-12-29T16:12:58.156Z"
   },
   {
    "duration": 9,
    "start_time": "2022-12-29T16:12:58.177Z"
   },
   {
    "duration": 14,
    "start_time": "2022-12-29T16:12:58.187Z"
   },
   {
    "duration": 13,
    "start_time": "2022-12-29T16:12:58.202Z"
   },
   {
    "duration": 41,
    "start_time": "2022-12-29T16:12:58.218Z"
   },
   {
    "duration": 24,
    "start_time": "2022-12-29T16:12:58.261Z"
   },
   {
    "duration": 5,
    "start_time": "2022-12-29T16:12:58.287Z"
   },
   {
    "duration": 19,
    "start_time": "2022-12-29T16:12:58.294Z"
   },
   {
    "duration": 231,
    "start_time": "2022-12-29T16:12:58.316Z"
   },
   {
    "duration": 133,
    "start_time": "2022-12-29T16:12:58.549Z"
   },
   {
    "duration": 13,
    "start_time": "2022-12-29T16:12:58.684Z"
   },
   {
    "duration": 7,
    "start_time": "2022-12-29T16:12:58.698Z"
   },
   {
    "duration": 10,
    "start_time": "2022-12-29T16:12:58.707Z"
   },
   {
    "duration": 321,
    "start_time": "2022-12-29T16:12:58.718Z"
   },
   {
    "duration": 253,
    "start_time": "2022-12-29T16:12:59.041Z"
   },
   {
    "duration": 302,
    "start_time": "2022-12-29T16:12:59.296Z"
   },
   {
    "duration": 229,
    "start_time": "2022-12-29T16:12:59.601Z"
   },
   {
    "duration": 295,
    "start_time": "2022-12-29T16:12:59.832Z"
   },
   {
    "duration": 127,
    "start_time": "2022-12-29T16:13:00.129Z"
   },
   {
    "duration": 175,
    "start_time": "2022-12-29T16:13:00.257Z"
   },
   {
    "duration": 4,
    "start_time": "2022-12-29T16:13:00.434Z"
   },
   {
    "duration": 14,
    "start_time": "2022-12-29T16:13:00.440Z"
   },
   {
    "duration": 10,
    "start_time": "2022-12-29T16:13:00.455Z"
   },
   {
    "duration": 300,
    "start_time": "2022-12-29T16:13:00.467Z"
   },
   {
    "duration": 174,
    "start_time": "2022-12-29T16:13:00.769Z"
   },
   {
    "duration": 7,
    "start_time": "2022-12-29T16:13:00.944Z"
   },
   {
    "duration": 19,
    "start_time": "2022-12-29T16:13:00.953Z"
   },
   {
    "duration": 40,
    "start_time": "2022-12-29T16:13:00.974Z"
   },
   {
    "duration": 312,
    "start_time": "2022-12-29T16:13:01.017Z"
   },
   {
    "duration": 33,
    "start_time": "2022-12-29T16:13:01.331Z"
   },
   {
    "duration": 143,
    "start_time": "2022-12-29T16:13:01.377Z"
   },
   {
    "duration": 8,
    "start_time": "2022-12-29T16:13:01.522Z"
   },
   {
    "duration": 41,
    "start_time": "2022-12-29T16:13:01.532Z"
   },
   {
    "duration": 22,
    "start_time": "2022-12-29T16:13:01.575Z"
   },
   {
    "duration": 16,
    "start_time": "2022-12-29T16:13:01.599Z"
   },
   {
    "duration": 22,
    "start_time": "2022-12-29T16:13:01.617Z"
   },
   {
    "duration": 46,
    "start_time": "2022-12-29T16:13:01.641Z"
   },
   {
    "duration": 17,
    "start_time": "2022-12-29T16:13:01.689Z"
   },
   {
    "duration": 59,
    "start_time": "2023-01-06T09:40:05.038Z"
   },
   {
    "duration": 6,
    "start_time": "2023-01-06T09:40:08.297Z"
   },
   {
    "duration": 1377,
    "start_time": "2023-01-06T09:40:19.413Z"
   },
   {
    "duration": 81,
    "start_time": "2023-01-06T09:40:20.792Z"
   },
   {
    "duration": 86,
    "start_time": "2023-01-06T09:40:20.875Z"
   },
   {
    "duration": 64,
    "start_time": "2023-01-06T09:40:20.964Z"
   },
   {
    "duration": 14,
    "start_time": "2023-01-06T09:40:21.030Z"
   },
   {
    "duration": 31,
    "start_time": "2023-01-06T09:40:21.046Z"
   },
   {
    "duration": 38,
    "start_time": "2023-01-06T09:40:21.079Z"
   },
   {
    "duration": 25,
    "start_time": "2023-01-06T09:40:21.119Z"
   },
   {
    "duration": 34,
    "start_time": "2023-01-06T09:40:21.146Z"
   },
   {
    "duration": 14,
    "start_time": "2023-01-06T09:40:21.183Z"
   },
   {
    "duration": 9,
    "start_time": "2023-01-06T09:40:21.198Z"
   },
   {
    "duration": 8,
    "start_time": "2023-01-06T09:40:21.209Z"
   },
   {
    "duration": 14,
    "start_time": "2023-01-06T09:40:21.219Z"
   },
   {
    "duration": 10,
    "start_time": "2023-01-06T09:40:21.259Z"
   },
   {
    "duration": 11,
    "start_time": "2023-01-06T09:40:21.271Z"
   },
   {
    "duration": 13,
    "start_time": "2023-01-06T09:40:21.284Z"
   },
   {
    "duration": 4,
    "start_time": "2023-01-06T09:40:21.299Z"
   },
   {
    "duration": 12,
    "start_time": "2023-01-06T09:40:21.305Z"
   },
   {
    "duration": 216,
    "start_time": "2023-01-06T09:40:21.319Z"
   },
   {
    "duration": 139,
    "start_time": "2023-01-06T09:40:21.537Z"
   },
   {
    "duration": 12,
    "start_time": "2023-01-06T09:40:21.677Z"
   },
   {
    "duration": 7,
    "start_time": "2023-01-06T09:40:21.692Z"
   },
   {
    "duration": 9,
    "start_time": "2023-01-06T09:40:21.700Z"
   },
   {
    "duration": 336,
    "start_time": "2023-01-06T09:40:21.710Z"
   },
   {
    "duration": 267,
    "start_time": "2023-01-06T09:40:22.050Z"
   },
   {
    "duration": 341,
    "start_time": "2023-01-06T09:40:22.318Z"
   },
   {
    "duration": 260,
    "start_time": "2023-01-06T09:40:22.660Z"
   },
   {
    "duration": 365,
    "start_time": "2023-01-06T09:40:22.924Z"
   },
   {
    "duration": 178,
    "start_time": "2023-01-06T09:40:23.291Z"
   },
   {
    "duration": 175,
    "start_time": "2023-01-06T09:40:23.471Z"
   },
   {
    "duration": 15,
    "start_time": "2023-01-06T09:40:23.648Z"
   },
   {
    "duration": 16,
    "start_time": "2023-01-06T09:40:23.665Z"
   },
   {
    "duration": 7,
    "start_time": "2023-01-06T09:40:23.683Z"
   },
   {
    "duration": 278,
    "start_time": "2023-01-06T09:40:23.692Z"
   },
   {
    "duration": 200,
    "start_time": "2023-01-06T09:40:23.973Z"
   },
   {
    "duration": 5,
    "start_time": "2023-01-06T09:40:24.175Z"
   },
   {
    "duration": 29,
    "start_time": "2023-01-06T09:40:24.183Z"
   },
   {
    "duration": 8,
    "start_time": "2023-01-06T09:40:24.215Z"
   },
   {
    "duration": 318,
    "start_time": "2023-01-06T09:40:24.226Z"
   },
   {
    "duration": 47,
    "start_time": "2023-01-06T09:40:24.546Z"
   },
   {
    "duration": 163,
    "start_time": "2023-01-06T09:40:24.595Z"
   },
   {
    "duration": 11,
    "start_time": "2023-01-06T09:40:24.760Z"
   },
   {
    "duration": 33,
    "start_time": "2023-01-06T09:40:24.773Z"
   },
   {
    "duration": 11,
    "start_time": "2023-01-06T09:40:24.808Z"
   },
   {
    "duration": 9,
    "start_time": "2023-01-06T09:40:24.821Z"
   },
   {
    "duration": 11,
    "start_time": "2023-01-06T09:40:24.860Z"
   },
   {
    "duration": 29,
    "start_time": "2023-01-06T09:40:24.873Z"
   },
   {
    "duration": 14,
    "start_time": "2023-01-06T09:40:24.904Z"
   },
   {
    "duration": 6,
    "start_time": "2023-01-06T09:40:36.518Z"
   },
   {
    "duration": 1116,
    "start_time": "2023-01-07T05:30:22.130Z"
   },
   {
    "duration": 74,
    "start_time": "2023-01-07T05:30:23.249Z"
   },
   {
    "duration": 96,
    "start_time": "2023-01-07T05:30:23.325Z"
   },
   {
    "duration": 60,
    "start_time": "2023-01-07T05:30:23.424Z"
   },
   {
    "duration": 12,
    "start_time": "2023-01-07T05:30:23.486Z"
   },
   {
    "duration": 14,
    "start_time": "2023-01-07T05:30:23.499Z"
   },
   {
    "duration": 5,
    "start_time": "2023-01-07T05:30:23.515Z"
   },
   {
    "duration": 7,
    "start_time": "2023-01-07T05:30:23.522Z"
   },
   {
    "duration": 13,
    "start_time": "2023-01-07T05:30:23.531Z"
   },
   {
    "duration": 11,
    "start_time": "2023-01-07T05:30:23.547Z"
   },
   {
    "duration": 12,
    "start_time": "2023-01-07T05:30:23.560Z"
   },
   {
    "duration": 8,
    "start_time": "2023-01-07T05:30:23.574Z"
   },
   {
    "duration": 35,
    "start_time": "2023-01-07T05:30:23.584Z"
   },
   {
    "duration": 7,
    "start_time": "2023-01-07T05:30:23.620Z"
   },
   {
    "duration": 12,
    "start_time": "2023-01-07T05:30:23.629Z"
   },
   {
    "duration": 10,
    "start_time": "2023-01-07T05:30:23.643Z"
   },
   {
    "duration": 4,
    "start_time": "2023-01-07T05:30:23.655Z"
   },
   {
    "duration": 8,
    "start_time": "2023-01-07T05:30:23.660Z"
   },
   {
    "duration": 207,
    "start_time": "2023-01-07T05:30:23.669Z"
   },
   {
    "duration": 135,
    "start_time": "2023-01-07T05:30:23.878Z"
   },
   {
    "duration": 10,
    "start_time": "2023-01-07T05:30:24.015Z"
   },
   {
    "duration": 10,
    "start_time": "2023-01-07T05:30:24.026Z"
   },
   {
    "duration": 10,
    "start_time": "2023-01-07T05:30:24.038Z"
   },
   {
    "duration": 317,
    "start_time": "2023-01-07T05:30:24.049Z"
   },
   {
    "duration": 230,
    "start_time": "2023-01-07T05:30:24.367Z"
   },
   {
    "duration": 327,
    "start_time": "2023-01-07T05:30:24.599Z"
   },
   {
    "duration": 246,
    "start_time": "2023-01-07T05:30:24.928Z"
   },
   {
    "duration": 355,
    "start_time": "2023-01-07T05:30:25.179Z"
   },
   {
    "duration": 156,
    "start_time": "2023-01-07T05:30:25.536Z"
   },
   {
    "duration": 178,
    "start_time": "2023-01-07T05:30:25.694Z"
   },
   {
    "duration": 5,
    "start_time": "2023-01-07T05:30:25.874Z"
   },
   {
    "duration": 8,
    "start_time": "2023-01-07T05:30:25.881Z"
   },
   {
    "duration": 5,
    "start_time": "2023-01-07T05:30:25.891Z"
   },
   {
    "duration": 299,
    "start_time": "2023-01-07T05:30:25.897Z"
   },
   {
    "duration": 181,
    "start_time": "2023-01-07T05:30:26.198Z"
   },
   {
    "duration": 5,
    "start_time": "2023-01-07T05:30:26.382Z"
   },
   {
    "duration": 25,
    "start_time": "2023-01-07T05:30:26.389Z"
   },
   {
    "duration": 10,
    "start_time": "2023-01-07T05:30:26.416Z"
   },
   {
    "duration": 298,
    "start_time": "2023-01-07T05:30:26.428Z"
   },
   {
    "duration": 35,
    "start_time": "2023-01-07T05:30:26.728Z"
   },
   {
    "duration": 134,
    "start_time": "2023-01-07T05:30:26.765Z"
   },
   {
    "duration": 12,
    "start_time": "2023-01-07T05:30:26.901Z"
   },
   {
    "duration": 26,
    "start_time": "2023-01-07T05:30:26.915Z"
   },
   {
    "duration": 10,
    "start_time": "2023-01-07T05:30:26.942Z"
   },
   {
    "duration": 9,
    "start_time": "2023-01-07T05:30:26.954Z"
   },
   {
    "duration": 18,
    "start_time": "2023-01-07T05:30:26.964Z"
   },
   {
    "duration": 34,
    "start_time": "2023-01-07T05:30:26.983Z"
   },
   {
    "duration": 13,
    "start_time": "2023-01-07T05:30:27.019Z"
   }
  ],
  "kernelspec": {
   "display_name": "Python 3 (ipykernel)",
   "language": "python",
   "name": "python3"
  },
  "language_info": {
   "codemirror_mode": {
    "name": "ipython",
    "version": 3
   },
   "file_extension": ".py",
   "mimetype": "text/x-python",
   "name": "python",
   "nbconvert_exporter": "python",
   "pygments_lexer": "ipython3",
   "version": "3.9.7"
  },
  "toc": {
   "base_numbering": 1,
   "nav_menu": {},
   "number_sections": false,
   "sideBar": true,
   "skip_h1_title": true,
   "title_cell": "Table of Contents",
   "title_sidebar": "Contents",
   "toc_cell": false,
   "toc_position": {
    "height": "calc(100% - 180px)",
    "left": "10px",
    "top": "150px",
    "width": "238.26px"
   },
   "toc_section_display": true,
   "toc_window_display": false
  }
 },
 "nbformat": 4,
 "nbformat_minor": 2
}
